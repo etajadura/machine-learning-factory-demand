{
 "cells": [
  {
   "cell_type": "markdown",
   "metadata": {},
   "source": [
    "# FINAL CLEANING AND DATA QUALITY CHECKS"
   ]
  },
  {
   "cell_type": "markdown",
   "metadata": {},
   "source": [
    "Along this script we are going to undertake the following tasks:\n",
    "\n",
    "1. Duplicates analysis\n",
    "2. Nulls\n",
    "3. Dates analysis: (outliers,etc)\n",
    "4. Orders analysis (outliers,etc)"
   ]
  },
  {
   "cell_type": "markdown",
   "metadata": {},
   "source": [
    "# Importing libraries and storing the dataframe in memory"
   ]
  },
  {
   "cell_type": "code",
   "execution_count": 1,
   "metadata": {},
   "outputs": [],
   "source": [
    "# Importing packages:\n",
    "\n",
    "import pandas as pd\n",
    "import matplotlib.pyplot as plt\n",
    "import numpy as np\n",
    "import seaborn as sns\n",
    "\n",
    "%matplotlib inline\n",
    "pd.options.display.max_columns = None"
   ]
  },
  {
   "cell_type": "code",
   "execution_count": 2,
   "metadata": {},
   "outputs": [],
   "source": [
    "# Defining the search path of the file, the name and the separator:\n",
    "\n",
    "file_path = \"../../data/01_raw/\"\n",
    "file_name = \"b2-transactions.csv\" #'b2-transactions_sample.csv' \n",
    "exit_path = \"../../data/02_intermediate/\"\n",
    "original_file_path = file_path + \"b2.txt\"\n",
    "\n",
    "# Column names\n",
    "col_names = [\"product_id\",\n",
    "          \"description\",\n",
    "          \"order_date\",\n",
    "          \"section\",\n",
    "          \"BmUP\",\n",
    "          \"VeUp\",\n",
    "          \"CzUP\",\n",
    "          \"AaUP\",\n",
    "          \"SeUP\",\n",
    "          \"JPUP\",\n",
    "          \"RzUP\",\n",
    "          \"AeUP\",\n",
    "          \"LiUP\",\n",
    "          \"EnUP\",\n",
    "          \"GoUP\",\n",
    "          \"GrUP\",\n",
    "          \"AnUP\",\n",
    "          \"MoUP\",\n",
    "          \"PoUP\",\n",
    "          \"MsUP\",\n",
    "          \"ViUP\",\n",
    "          \"ZiUO\",\n",
    "          \"GeUP\"]\n",
    "filtered_file_name=\"c1-filtered_transactions.csv\"\n",
    "\n",
    "sep=\";\""
   ]
  },
  {
   "cell_type": "code",
   "execution_count": 3,
   "metadata": {},
   "outputs": [],
   "source": [
    "target_products_file_name = exit_path + 'filtered_transactions_not_clean.csv' "
   ]
  },
  {
   "cell_type": "code",
   "execution_count": 4,
   "metadata": {},
   "outputs": [],
   "source": [
    "df_transactions_filtered = pd.read_csv(target_products_file_name, sep = sep)"
   ]
  },
  {
   "cell_type": "code",
   "execution_count": 5,
   "metadata": {},
   "outputs": [
    {
     "data": {
      "text/html": [
       "<div>\n",
       "<style scoped>\n",
       "    .dataframe tbody tr th:only-of-type {\n",
       "        vertical-align: middle;\n",
       "    }\n",
       "\n",
       "    .dataframe tbody tr th {\n",
       "        vertical-align: top;\n",
       "    }\n",
       "\n",
       "    .dataframe thead th {\n",
       "        text-align: right;\n",
       "    }\n",
       "</style>\n",
       "<table border=\"1\" class=\"dataframe\">\n",
       "  <thead>\n",
       "    <tr style=\"text-align: right;\">\n",
       "      <th></th>\n",
       "      <th>product_id</th>\n",
       "      <th>description</th>\n",
       "      <th>order_date</th>\n",
       "      <th>section</th>\n",
       "      <th>store</th>\n",
       "      <th>units_ordered</th>\n",
       "      <th>desc_normalized</th>\n",
       "      <th>target_names_prod_by_prod</th>\n",
       "    </tr>\n",
       "  </thead>\n",
       "  <tbody>\n",
       "    <tr>\n",
       "      <th>0</th>\n",
       "      <td>100.0</td>\n",
       "      <td>CROISANTS</td>\n",
       "      <td>1/1/2008 0:00:00</td>\n",
       "      <td>0</td>\n",
       "      <td>VeUp</td>\n",
       "      <td>20,00</td>\n",
       "      <td>croissant</td>\n",
       "      <td>croissant simple</td>\n",
       "    </tr>\n",
       "    <tr>\n",
       "      <th>1</th>\n",
       "      <td>182.0</td>\n",
       "      <td>PALMERAS DE TRUFA</td>\n",
       "      <td>1/1/2008 0:00:00</td>\n",
       "      <td>0</td>\n",
       "      <td>VeUp</td>\n",
       "      <td>4,00</td>\n",
       "      <td>palmera de trufa</td>\n",
       "      <td>palmera chocolate</td>\n",
       "    </tr>\n",
       "    <tr>\n",
       "      <th>2</th>\n",
       "      <td>101.0</td>\n",
       "      <td>CROISSANT</td>\n",
       "      <td>1/1/2008 0:00:00</td>\n",
       "      <td>0</td>\n",
       "      <td>VeUp</td>\n",
       "      <td>0,00</td>\n",
       "      <td>croissant</td>\n",
       "      <td>croissant simple</td>\n",
       "    </tr>\n",
       "    <tr>\n",
       "      <th>3</th>\n",
       "      <td>103.0</td>\n",
       "      <td>CROISSANT PETIT</td>\n",
       "      <td>1/1/2008 0:00:00</td>\n",
       "      <td>0</td>\n",
       "      <td>VeUp</td>\n",
       "      <td>18,00</td>\n",
       "      <td>croissant petit</td>\n",
       "      <td>croissant petit</td>\n",
       "    </tr>\n",
       "    <tr>\n",
       "      <th>4</th>\n",
       "      <td>112.0</td>\n",
       "      <td>TORTELES</td>\n",
       "      <td>1/1/2008 0:00:00</td>\n",
       "      <td>0</td>\n",
       "      <td>VeUp</td>\n",
       "      <td>60,00</td>\n",
       "      <td>torteles</td>\n",
       "      <td>tortel</td>\n",
       "    </tr>\n",
       "  </tbody>\n",
       "</table>\n",
       "</div>"
      ],
      "text/plain": [
       "   product_id        description        order_date  section store  \\\n",
       "0       100.0          CROISANTS  1/1/2008 0:00:00        0  VeUp   \n",
       "1       182.0  PALMERAS DE TRUFA  1/1/2008 0:00:00        0  VeUp   \n",
       "2       101.0          CROISSANT  1/1/2008 0:00:00        0  VeUp   \n",
       "3       103.0    CROISSANT PETIT  1/1/2008 0:00:00        0  VeUp   \n",
       "4       112.0           TORTELES  1/1/2008 0:00:00        0  VeUp   \n",
       "\n",
       "  units_ordered   desc_normalized target_names_prod_by_prod  \n",
       "0         20,00         croissant          croissant simple  \n",
       "1          4,00  palmera de trufa         palmera chocolate  \n",
       "2          0,00         croissant          croissant simple  \n",
       "3         18,00   croissant petit           croissant petit  \n",
       "4         60,00          torteles                    tortel  "
      ]
     },
     "execution_count": 5,
     "metadata": {},
     "output_type": "execute_result"
    }
   ],
   "source": [
    "df_transactions_filtered.head()"
   ]
  },
  {
   "cell_type": "code",
   "execution_count": 6,
   "metadata": {},
   "outputs": [
    {
     "data": {
      "text/plain": [
       "(968107, 8)"
      ]
     },
     "execution_count": 6,
     "metadata": {},
     "output_type": "execute_result"
    }
   ],
   "source": [
    "df_transactions_filtered.shape"
   ]
  },
  {
   "cell_type": "code",
   "execution_count": 7,
   "metadata": {},
   "outputs": [
    {
     "name": "stdout",
     "output_type": "stream",
     "text": [
      "<class 'pandas.core.frame.DataFrame'>\n",
      "RangeIndex: 968107 entries, 0 to 968106\n",
      "Data columns (total 8 columns):\n",
      "product_id                   968107 non-null float64\n",
      "description                  968107 non-null object\n",
      "order_date                   968107 non-null object\n",
      "section                      968107 non-null int64\n",
      "store                        968107 non-null object\n",
      "units_ordered                967793 non-null object\n",
      "desc_normalized              968107 non-null object\n",
      "target_names_prod_by_prod    968107 non-null object\n",
      "dtypes: float64(1), int64(1), object(6)\n",
      "memory usage: 59.1+ MB\n"
     ]
    }
   ],
   "source": [
    "df_transactions_filtered.info()"
   ]
  },
  {
   "cell_type": "markdown",
   "metadata": {},
   "source": [
    "\"order_date\" should be date-type but is not, and \"units_ordered\" should be numeric, but they are not, and there are some nulls... Lets treat the nulls before parsing to the right types. "
   ]
  },
  {
   "cell_type": "markdown",
   "metadata": {},
   "source": [
    "Before continuing, lets parse the dataframe to the right column types:"
   ]
  },
  {
   "cell_type": "markdown",
   "metadata": {},
   "source": [
    "# Parsing column types"
   ]
  },
  {
   "cell_type": "markdown",
   "metadata": {},
   "source": [
    "### Parsing column \"order_date\""
   ]
  },
  {
   "cell_type": "code",
   "execution_count": 8,
   "metadata": {},
   "outputs": [],
   "source": [
    "# Parsing \"order_date\" to date type \n",
    "df_transactions_filtered[\"order_date\"] = pd.to_datetime(df_transactions_filtered[\"order_date\"])"
   ]
  },
  {
   "cell_type": "code",
   "execution_count": 9,
   "metadata": {},
   "outputs": [
    {
     "data": {
      "text/html": [
       "<div>\n",
       "<style scoped>\n",
       "    .dataframe tbody tr th:only-of-type {\n",
       "        vertical-align: middle;\n",
       "    }\n",
       "\n",
       "    .dataframe tbody tr th {\n",
       "        vertical-align: top;\n",
       "    }\n",
       "\n",
       "    .dataframe thead th {\n",
       "        text-align: right;\n",
       "    }\n",
       "</style>\n",
       "<table border=\"1\" class=\"dataframe\">\n",
       "  <thead>\n",
       "    <tr style=\"text-align: right;\">\n",
       "      <th></th>\n",
       "      <th>product_id</th>\n",
       "      <th>description</th>\n",
       "      <th>order_date</th>\n",
       "      <th>section</th>\n",
       "      <th>store</th>\n",
       "      <th>units_ordered</th>\n",
       "      <th>desc_normalized</th>\n",
       "      <th>target_names_prod_by_prod</th>\n",
       "    </tr>\n",
       "  </thead>\n",
       "  <tbody>\n",
       "    <tr>\n",
       "      <th>0</th>\n",
       "      <td>100.0</td>\n",
       "      <td>CROISANTS</td>\n",
       "      <td>2008-01-01</td>\n",
       "      <td>0</td>\n",
       "      <td>VeUp</td>\n",
       "      <td>20,00</td>\n",
       "      <td>croissant</td>\n",
       "      <td>croissant simple</td>\n",
       "    </tr>\n",
       "    <tr>\n",
       "      <th>1</th>\n",
       "      <td>182.0</td>\n",
       "      <td>PALMERAS DE TRUFA</td>\n",
       "      <td>2008-01-01</td>\n",
       "      <td>0</td>\n",
       "      <td>VeUp</td>\n",
       "      <td>4,00</td>\n",
       "      <td>palmera de trufa</td>\n",
       "      <td>palmera chocolate</td>\n",
       "    </tr>\n",
       "  </tbody>\n",
       "</table>\n",
       "</div>"
      ],
      "text/plain": [
       "   product_id        description order_date  section store units_ordered  \\\n",
       "0       100.0          CROISANTS 2008-01-01        0  VeUp         20,00   \n",
       "1       182.0  PALMERAS DE TRUFA 2008-01-01        0  VeUp          4,00   \n",
       "\n",
       "    desc_normalized target_names_prod_by_prod  \n",
       "0         croissant          croissant simple  \n",
       "1  palmera de trufa         palmera chocolate  "
      ]
     },
     "execution_count": 9,
     "metadata": {},
     "output_type": "execute_result"
    }
   ],
   "source": [
    "df_transactions_filtered.head(2)"
   ]
  },
  {
   "cell_type": "markdown",
   "metadata": {},
   "source": [
    "Before cleaning column \"units_ordered\" we need to clean the null values. Then we will be able to parse it to the right numeric type, which is int."
   ]
  },
  {
   "cell_type": "markdown",
   "metadata": {},
   "source": [
    "## NULLs Analysis\n"
   ]
  },
  {
   "cell_type": "code",
   "execution_count": 10,
   "metadata": {},
   "outputs": [
    {
     "data": {
      "text/plain": [
       "product_id                     0\n",
       "description                    0\n",
       "order_date                     0\n",
       "section                        0\n",
       "store                          0\n",
       "units_ordered                314\n",
       "desc_normalized                0\n",
       "target_names_prod_by_prod      0\n",
       "dtype: int64"
      ]
     },
     "execution_count": 10,
     "metadata": {},
     "output_type": "execute_result"
    }
   ],
   "source": [
    "df_transactions_filtered.isnull().sum()"
   ]
  },
  {
   "cell_type": "markdown",
   "metadata": {},
   "source": [
    "As we saw before, there are only nulls in \"units_ordered\". The good news is that it does seem to be many of them, lets have a look at it before we decide what to do to them:"
   ]
  },
  {
   "cell_type": "markdown",
   "metadata": {},
   "source": [
    "After some debate, messy EDA, and careful consideration we decided to eliminate the lines for the following reasons:\n",
    "\n",
    "1) It is possible that these lines constitute \"duplicates\" (duplicated in all but their values) for lines that hold a value. If this is the case, these lines would be treated as duplicates in the next step of the quality checks (in which we will see that dropping duplicates is the right move).\n",
    "\n",
    "2) In case that these lines are not duplicated in the rest of the dataset, removing them will make no difference because we currently don't have the real value of number of units placed in the order, so, when the time comes and we will check for missing value in the series, we will appropriately deal with the matter."
   ]
  },
  {
   "cell_type": "code",
   "execution_count": 11,
   "metadata": {},
   "outputs": [
    {
     "data": {
      "text/html": [
       "<div>\n",
       "<style scoped>\n",
       "    .dataframe tbody tr th:only-of-type {\n",
       "        vertical-align: middle;\n",
       "    }\n",
       "\n",
       "    .dataframe tbody tr th {\n",
       "        vertical-align: top;\n",
       "    }\n",
       "\n",
       "    .dataframe thead th {\n",
       "        text-align: right;\n",
       "    }\n",
       "</style>\n",
       "<table border=\"1\" class=\"dataframe\">\n",
       "  <thead>\n",
       "    <tr style=\"text-align: right;\">\n",
       "      <th></th>\n",
       "      <th>product_id</th>\n",
       "      <th>description</th>\n",
       "      <th>order_date</th>\n",
       "      <th>section</th>\n",
       "      <th>BmUP</th>\n",
       "      <th>VeUp</th>\n",
       "      <th>CzUP</th>\n",
       "      <th>AaUP</th>\n",
       "      <th>SeUP</th>\n",
       "      <th>JPUP</th>\n",
       "      <th>RzUP</th>\n",
       "      <th>AeUP</th>\n",
       "      <th>LiUP</th>\n",
       "      <th>EnUP</th>\n",
       "      <th>GoUP</th>\n",
       "      <th>GrUP</th>\n",
       "      <th>AnUP</th>\n",
       "      <th>MoUP</th>\n",
       "      <th>PoUP</th>\n",
       "      <th>MsUP</th>\n",
       "      <th>ViUP</th>\n",
       "      <th>ZiUO</th>\n",
       "      <th>GeUP</th>\n",
       "    </tr>\n",
       "  </thead>\n",
       "  <tbody>\n",
       "    <tr>\n",
       "      <th>774282</th>\n",
       "      <td>182.0</td>\n",
       "      <td>PALMERAS DE TRUFA</td>\n",
       "      <td>1/1/2009 0:00:00</td>\n",
       "      <td>0</td>\n",
       "      <td>2,00</td>\n",
       "      <td>5,00</td>\n",
       "      <td>2,00</td>\n",
       "      <td>2,00</td>\n",
       "      <td>8,00</td>\n",
       "      <td>3,00</td>\n",
       "      <td>2,00</td>\n",
       "      <td>0,00</td>\n",
       "      <td>0,00</td>\n",
       "      <td>3,00</td>\n",
       "      <td>2,00</td>\n",
       "      <td>4,00</td>\n",
       "      <td>4,00</td>\n",
       "      <td>3,00</td>\n",
       "      <td>0,00</td>\n",
       "      <td>0,00</td>\n",
       "      <td>0,00</td>\n",
       "      <td>0,00</td>\n",
       "      <td>0,00</td>\n",
       "    </tr>\n",
       "    <tr>\n",
       "      <th>781175</th>\n",
       "      <td>182.0</td>\n",
       "      <td>PALMERAS DE TRUFA</td>\n",
       "      <td>1/1/2009 0:00:00</td>\n",
       "      <td>0</td>\n",
       "      <td>0,00</td>\n",
       "      <td>0,00</td>\n",
       "      <td>0,00</td>\n",
       "      <td>0,00</td>\n",
       "      <td>0,00</td>\n",
       "      <td>0,00</td>\n",
       "      <td>0,00</td>\n",
       "      <td>0,00</td>\n",
       "      <td>0,00</td>\n",
       "      <td>0,00</td>\n",
       "      <td>0,00</td>\n",
       "      <td>0,00</td>\n",
       "      <td>0,00</td>\n",
       "      <td>0,00</td>\n",
       "      <td>0,00</td>\n",
       "      <td>5,00</td>\n",
       "      <td>0,00</td>\n",
       "      <td>0,00</td>\n",
       "      <td>0,00</td>\n",
       "    </tr>\n",
       "  </tbody>\n",
       "</table>\n",
       "</div>"
      ],
      "text/plain": [
       "        product_id        description        order_date  section  BmUP  VeUp  \\\n",
       "774282       182.0  PALMERAS DE TRUFA  1/1/2009 0:00:00        0  2,00  5,00   \n",
       "781175       182.0  PALMERAS DE TRUFA  1/1/2009 0:00:00        0  0,00  0,00   \n",
       "\n",
       "        CzUP  AaUP  SeUP  JPUP  RzUP  AeUP  LiUP  EnUP  GoUP  GrUP  AnUP  \\\n",
       "774282  2,00  2,00  8,00  3,00  2,00  0,00  0,00  3,00  2,00  4,00  4,00   \n",
       "781175  0,00  0,00  0,00  0,00  0,00  0,00  0,00  0,00  0,00  0,00  0,00   \n",
       "\n",
       "        MoUP  PoUP  MsUP  ViUP  ZiUO  GeUP  \n",
       "774282  3,00  0,00  0,00  0,00  0,00  0,00  \n",
       "781175  0,00  0,00  5,00  0,00  0,00  0,00  "
      ]
     },
     "execution_count": 11,
     "metadata": {},
     "output_type": "execute_result"
    }
   ],
   "source": [
    "# Proving point 1: lines with nulls may be due to duplicates \n",
    "df_original = pd.read_csv(original_file_path, sep = sep, encoding = \"ISO-8859-1\",names = col_names )\n",
    "df_original[(df_original[\"order_date\"]==\"1/1/2009 0:00:00\")&(df_original[\"description\"].str.contains(\"PALMERAS DE TRUFA\"))]"
   ]
  },
  {
   "cell_type": "markdown",
   "metadata": {},
   "source": [
    "As mentioned above, the smartest option is to eliminate lines with NaN in the unit ordered: "
   ]
  },
  {
   "cell_type": "code",
   "execution_count": 12,
   "metadata": {},
   "outputs": [],
   "source": [
    "df_transactions_filtered_nan_removed = df_transactions_filtered.dropna()"
   ]
  },
  {
   "cell_type": "code",
   "execution_count": 13,
   "metadata": {},
   "outputs": [
    {
     "data": {
      "text/plain": [
       "True"
      ]
     },
     "execution_count": 13,
     "metadata": {},
     "output_type": "execute_result"
    }
   ],
   "source": [
    "# Check\n",
    "df_transactions_filtered.shape[0] - 314 == df_transactions_filtered_nan_removed.shape[0]\n"
   ]
  },
  {
   "cell_type": "markdown",
   "metadata": {},
   "source": [
    "### Parsing column \"units_ordered\" to int"
   ]
  },
  {
   "cell_type": "code",
   "execution_count": 14,
   "metadata": {},
   "outputs": [
    {
     "name": "stderr",
     "output_type": "stream",
     "text": [
      "C:\\ProgramData\\Anaconda3\\lib\\site-packages\\ipykernel_launcher.py:1: SettingWithCopyWarning: \n",
      "A value is trying to be set on a copy of a slice from a DataFrame.\n",
      "Try using .loc[row_indexer,col_indexer] = value instead\n",
      "\n",
      "See the caveats in the documentation: http://pandas.pydata.org/pandas-docs/stable/indexing.html#indexing-view-versus-copy\n",
      "  \"\"\"Entry point for launching an IPython kernel.\n"
     ]
    }
   ],
   "source": [
    "df_transactions_filtered_nan_removed[\"units_ordered\"]  = df_transactions_filtered_nan_removed[\"units_ordered\"].str.split(\",\").apply(lambda l: int(l[0]))"
   ]
  },
  {
   "cell_type": "code",
   "execution_count": 15,
   "metadata": {},
   "outputs": [
    {
     "data": {
      "text/html": [
       "<div>\n",
       "<style scoped>\n",
       "    .dataframe tbody tr th:only-of-type {\n",
       "        vertical-align: middle;\n",
       "    }\n",
       "\n",
       "    .dataframe tbody tr th {\n",
       "        vertical-align: top;\n",
       "    }\n",
       "\n",
       "    .dataframe thead th {\n",
       "        text-align: right;\n",
       "    }\n",
       "</style>\n",
       "<table border=\"1\" class=\"dataframe\">\n",
       "  <thead>\n",
       "    <tr style=\"text-align: right;\">\n",
       "      <th></th>\n",
       "      <th>product_id</th>\n",
       "      <th>description</th>\n",
       "      <th>order_date</th>\n",
       "      <th>section</th>\n",
       "      <th>store</th>\n",
       "      <th>units_ordered</th>\n",
       "      <th>desc_normalized</th>\n",
       "      <th>target_names_prod_by_prod</th>\n",
       "    </tr>\n",
       "  </thead>\n",
       "  <tbody>\n",
       "    <tr>\n",
       "      <th>0</th>\n",
       "      <td>100.0</td>\n",
       "      <td>CROISANTS</td>\n",
       "      <td>2008-01-01</td>\n",
       "      <td>0</td>\n",
       "      <td>VeUp</td>\n",
       "      <td>20</td>\n",
       "      <td>croissant</td>\n",
       "      <td>croissant simple</td>\n",
       "    </tr>\n",
       "    <tr>\n",
       "      <th>1</th>\n",
       "      <td>182.0</td>\n",
       "      <td>PALMERAS DE TRUFA</td>\n",
       "      <td>2008-01-01</td>\n",
       "      <td>0</td>\n",
       "      <td>VeUp</td>\n",
       "      <td>4</td>\n",
       "      <td>palmera de trufa</td>\n",
       "      <td>palmera chocolate</td>\n",
       "    </tr>\n",
       "    <tr>\n",
       "      <th>2</th>\n",
       "      <td>101.0</td>\n",
       "      <td>CROISSANT</td>\n",
       "      <td>2008-01-01</td>\n",
       "      <td>0</td>\n",
       "      <td>VeUp</td>\n",
       "      <td>0</td>\n",
       "      <td>croissant</td>\n",
       "      <td>croissant simple</td>\n",
       "    </tr>\n",
       "    <tr>\n",
       "      <th>3</th>\n",
       "      <td>103.0</td>\n",
       "      <td>CROISSANT PETIT</td>\n",
       "      <td>2008-01-01</td>\n",
       "      <td>0</td>\n",
       "      <td>VeUp</td>\n",
       "      <td>18</td>\n",
       "      <td>croissant petit</td>\n",
       "      <td>croissant petit</td>\n",
       "    </tr>\n",
       "    <tr>\n",
       "      <th>4</th>\n",
       "      <td>112.0</td>\n",
       "      <td>TORTELES</td>\n",
       "      <td>2008-01-01</td>\n",
       "      <td>0</td>\n",
       "      <td>VeUp</td>\n",
       "      <td>60</td>\n",
       "      <td>torteles</td>\n",
       "      <td>tortel</td>\n",
       "    </tr>\n",
       "  </tbody>\n",
       "</table>\n",
       "</div>"
      ],
      "text/plain": [
       "   product_id        description order_date  section store  units_ordered  \\\n",
       "0       100.0          CROISANTS 2008-01-01        0  VeUp             20   \n",
       "1       182.0  PALMERAS DE TRUFA 2008-01-01        0  VeUp              4   \n",
       "2       101.0          CROISSANT 2008-01-01        0  VeUp              0   \n",
       "3       103.0    CROISSANT PETIT 2008-01-01        0  VeUp             18   \n",
       "4       112.0           TORTELES 2008-01-01        0  VeUp             60   \n",
       "\n",
       "    desc_normalized target_names_prod_by_prod  \n",
       "0         croissant          croissant simple  \n",
       "1  palmera de trufa         palmera chocolate  \n",
       "2         croissant          croissant simple  \n",
       "3   croissant petit           croissant petit  \n",
       "4          torteles                    tortel  "
      ]
     },
     "execution_count": 15,
     "metadata": {},
     "output_type": "execute_result"
    }
   ],
   "source": [
    "df_transactions_filtered_nan_removed.head()"
   ]
  },
  {
   "cell_type": "code",
   "execution_count": 16,
   "metadata": {
    "scrolled": true
   },
   "outputs": [
    {
     "name": "stdout",
     "output_type": "stream",
     "text": [
      "<class 'pandas.core.frame.DataFrame'>\n",
      "Int64Index: 967793 entries, 0 to 968106\n",
      "Data columns (total 8 columns):\n",
      "product_id                   967793 non-null float64\n",
      "description                  967793 non-null object\n",
      "order_date                   967793 non-null datetime64[ns]\n",
      "section                      967793 non-null int64\n",
      "store                        967793 non-null object\n",
      "units_ordered                967793 non-null int64\n",
      "desc_normalized              967793 non-null object\n",
      "target_names_prod_by_prod    967793 non-null object\n",
      "dtypes: datetime64[ns](1), float64(1), int64(2), object(4)\n",
      "memory usage: 66.5+ MB\n"
     ]
    }
   ],
   "source": [
    "df_transactions_filtered_nan_removed.info()"
   ]
  },
  {
   "cell_type": "markdown",
   "metadata": {},
   "source": [
    "Voila! the types look as they should be looking, and the nulls have been treated. "
   ]
  },
  {
   "cell_type": "markdown",
   "metadata": {},
   "source": [
    "# Duplicates Analysis"
   ]
  },
  {
   "cell_type": "markdown",
   "metadata": {},
   "source": [
    "Lets see if we have any duplicates:"
   ]
  },
  {
   "cell_type": "code",
   "execution_count": 17,
   "metadata": {},
   "outputs": [
    {
     "data": {
      "text/plain": [
       "120340"
      ]
     },
     "execution_count": 17,
     "metadata": {},
     "output_type": "execute_result"
    }
   ],
   "source": [
    "df_transactions_filtered_nan_removed.duplicated().sum() "
   ]
  },
  {
   "cell_type": "markdown",
   "metadata": {},
   "source": [
    "Wow! this was unexpected 120.340 duplicates seems as a big number (it is roughly 1/8 of the rows of the Dataset). \n",
    "\n",
    "We need to take a closer look to these duplicates:"
   ]
  },
  {
   "cell_type": "code",
   "execution_count": 18,
   "metadata": {},
   "outputs": [
    {
     "data": {
      "text/html": [
       "<div>\n",
       "<style scoped>\n",
       "    .dataframe tbody tr th:only-of-type {\n",
       "        vertical-align: middle;\n",
       "    }\n",
       "\n",
       "    .dataframe tbody tr th {\n",
       "        vertical-align: top;\n",
       "    }\n",
       "\n",
       "    .dataframe thead th {\n",
       "        text-align: right;\n",
       "    }\n",
       "</style>\n",
       "<table border=\"1\" class=\"dataframe\">\n",
       "  <thead>\n",
       "    <tr style=\"text-align: right;\">\n",
       "      <th></th>\n",
       "      <th>product_id</th>\n",
       "      <th>description</th>\n",
       "      <th>order_date</th>\n",
       "      <th>section</th>\n",
       "      <th>store</th>\n",
       "      <th>units_ordered</th>\n",
       "      <th>desc_normalized</th>\n",
       "      <th>target_names_prod_by_prod</th>\n",
       "    </tr>\n",
       "  </thead>\n",
       "  <tbody>\n",
       "    <tr>\n",
       "      <th>261</th>\n",
       "      <td>182.0</td>\n",
       "      <td>PALMERAS DE TRUFA</td>\n",
       "      <td>2009-01-01</td>\n",
       "      <td>0</td>\n",
       "      <td>ZiUO</td>\n",
       "      <td>0</td>\n",
       "      <td>palmera de trufa</td>\n",
       "      <td>palmera chocolate</td>\n",
       "    </tr>\n",
       "    <tr>\n",
       "      <th>292</th>\n",
       "      <td>182.0</td>\n",
       "      <td>PALMERAS DE TRUFA</td>\n",
       "      <td>2009-01-01</td>\n",
       "      <td>0</td>\n",
       "      <td>AeUP</td>\n",
       "      <td>0</td>\n",
       "      <td>palmera de trufa</td>\n",
       "      <td>palmera chocolate</td>\n",
       "    </tr>\n",
       "    <tr>\n",
       "      <th>325</th>\n",
       "      <td>182.0</td>\n",
       "      <td>PALMERAS DE TRUFA</td>\n",
       "      <td>2009-01-01</td>\n",
       "      <td>0</td>\n",
       "      <td>ViUP</td>\n",
       "      <td>0</td>\n",
       "      <td>palmera de trufa</td>\n",
       "      <td>palmera chocolate</td>\n",
       "    </tr>\n",
       "    <tr>\n",
       "      <th>347</th>\n",
       "      <td>182.0</td>\n",
       "      <td>PALMERAS DE TRUFA</td>\n",
       "      <td>2009-01-01</td>\n",
       "      <td>0</td>\n",
       "      <td>LiUP</td>\n",
       "      <td>0</td>\n",
       "      <td>palmera de trufa</td>\n",
       "      <td>palmera chocolate</td>\n",
       "    </tr>\n",
       "    <tr>\n",
       "      <th>358</th>\n",
       "      <td>182.0</td>\n",
       "      <td>PALMERAS DE TRUFA</td>\n",
       "      <td>2009-01-01</td>\n",
       "      <td>0</td>\n",
       "      <td>GeUP</td>\n",
       "      <td>0</td>\n",
       "      <td>palmera de trufa</td>\n",
       "      <td>palmera chocolate</td>\n",
       "    </tr>\n",
       "  </tbody>\n",
       "</table>\n",
       "</div>"
      ],
      "text/plain": [
       "     product_id        description order_date  section store  units_ordered  \\\n",
       "261       182.0  PALMERAS DE TRUFA 2009-01-01        0  ZiUO              0   \n",
       "292       182.0  PALMERAS DE TRUFA 2009-01-01        0  AeUP              0   \n",
       "325       182.0  PALMERAS DE TRUFA 2009-01-01        0  ViUP              0   \n",
       "347       182.0  PALMERAS DE TRUFA 2009-01-01        0  LiUP              0   \n",
       "358       182.0  PALMERAS DE TRUFA 2009-01-01        0  GeUP              0   \n",
       "\n",
       "      desc_normalized target_names_prod_by_prod  \n",
       "261  palmera de trufa         palmera chocolate  \n",
       "292  palmera de trufa         palmera chocolate  \n",
       "325  palmera de trufa         palmera chocolate  \n",
       "347  palmera de trufa         palmera chocolate  \n",
       "358  palmera de trufa         palmera chocolate  "
      ]
     },
     "execution_count": 18,
     "metadata": {},
     "output_type": "execute_result"
    }
   ],
   "source": [
    "duplicates = df_transactions_filtered_nan_removed[df_transactions_filtered_nan_removed.duplicated()]\n",
    "duplicates.head()"
   ]
  },
  {
   "cell_type": "markdown",
   "metadata": {},
   "source": [
    "Interesting, it seems that all have 0 units ordered, but lets dig more into this:"
   ]
  },
  {
   "cell_type": "code",
   "execution_count": 19,
   "metadata": {},
   "outputs": [
    {
     "data": {
      "text/plain": [
       "0     118025\n",
       "1       1583\n",
       "2        255\n",
       "3         71\n",
       "6         71\n",
       "4         65\n",
       "8         50\n",
       "10        38\n",
       "5         32\n",
       "12        21\n",
       "15        18\n",
       "25        12\n",
       "7         12\n",
       "20        12\n",
       "18        12\n",
       "50         9\n",
       "30         8\n",
       "14         7\n",
       "16         7\n",
       "40         5\n",
       "11         4\n",
       "9          4\n",
       "13         3\n",
       "24         3\n",
       "55         2\n",
       "22         2\n",
       "26         2\n",
       "35         2\n",
       "70         1\n",
       "90         1\n",
       "45         1\n",
       "64         1\n",
       "60         1\n",
       "Name: units_ordered, dtype: int64"
      ]
     },
     "execution_count": 19,
     "metadata": {},
     "output_type": "execute_result"
    }
   ],
   "source": [
    "duplicates[\"units_ordered\"].value_counts()"
   ]
  },
  {
   "cell_type": "markdown",
   "metadata": {},
   "source": [
    "Unfortunately, it seems that not all the duplicates are 0, otherwise we could have deleted the duplicates. However we now need to find out a bit more the ones greater than 0. \n",
    "\n",
    "Lets explore the original file to see what could have happened:"
   ]
  },
  {
   "cell_type": "markdown",
   "metadata": {},
   "source": [
    "Lets take for example the duplicate with \"units_ordered\" = 70:"
   ]
  },
  {
   "cell_type": "code",
   "execution_count": 20,
   "metadata": {},
   "outputs": [
    {
     "data": {
      "text/html": [
       "<div>\n",
       "<style scoped>\n",
       "    .dataframe tbody tr th:only-of-type {\n",
       "        vertical-align: middle;\n",
       "    }\n",
       "\n",
       "    .dataframe tbody tr th {\n",
       "        vertical-align: top;\n",
       "    }\n",
       "\n",
       "    .dataframe thead th {\n",
       "        text-align: right;\n",
       "    }\n",
       "</style>\n",
       "<table border=\"1\" class=\"dataframe\">\n",
       "  <thead>\n",
       "    <tr style=\"text-align: right;\">\n",
       "      <th></th>\n",
       "      <th>product_id</th>\n",
       "      <th>description</th>\n",
       "      <th>order_date</th>\n",
       "      <th>section</th>\n",
       "      <th>store</th>\n",
       "      <th>units_ordered</th>\n",
       "      <th>desc_normalized</th>\n",
       "      <th>target_names_prod_by_prod</th>\n",
       "    </tr>\n",
       "  </thead>\n",
       "  <tbody>\n",
       "    <tr>\n",
       "      <th>396559</th>\n",
       "      <td>112.0</td>\n",
       "      <td>TORTELES</td>\n",
       "      <td>2016-02-20</td>\n",
       "      <td>0</td>\n",
       "      <td>VeUp</td>\n",
       "      <td>70</td>\n",
       "      <td>torteles</td>\n",
       "      <td>tortel</td>\n",
       "    </tr>\n",
       "  </tbody>\n",
       "</table>\n",
       "</div>"
      ],
      "text/plain": [
       "        product_id description order_date  section store  units_ordered  \\\n",
       "396559       112.0    TORTELES 2016-02-20        0  VeUp             70   \n",
       "\n",
       "       desc_normalized target_names_prod_by_prod  \n",
       "396559        torteles                    tortel  "
      ]
     },
     "execution_count": 20,
     "metadata": {},
     "output_type": "execute_result"
    }
   ],
   "source": [
    "duplicates[duplicates[\"units_ordered\"]==70]"
   ]
  },
  {
   "cell_type": "markdown",
   "metadata": {},
   "source": [
    "Lets now search for this specific row in the original dataset that the client gave us:"
   ]
  },
  {
   "cell_type": "code",
   "execution_count": 21,
   "metadata": {},
   "outputs": [
    {
     "data": {
      "text/html": [
       "<div>\n",
       "<style scoped>\n",
       "    .dataframe tbody tr th:only-of-type {\n",
       "        vertical-align: middle;\n",
       "    }\n",
       "\n",
       "    .dataframe tbody tr th {\n",
       "        vertical-align: top;\n",
       "    }\n",
       "\n",
       "    .dataframe thead th {\n",
       "        text-align: right;\n",
       "    }\n",
       "</style>\n",
       "<table border=\"1\" class=\"dataframe\">\n",
       "  <thead>\n",
       "    <tr style=\"text-align: right;\">\n",
       "      <th></th>\n",
       "      <th>product_id</th>\n",
       "      <th>description</th>\n",
       "      <th>order_date</th>\n",
       "      <th>section</th>\n",
       "      <th>BmUP</th>\n",
       "      <th>VeUp</th>\n",
       "      <th>CzUP</th>\n",
       "      <th>AaUP</th>\n",
       "      <th>SeUP</th>\n",
       "      <th>JPUP</th>\n",
       "      <th>RzUP</th>\n",
       "      <th>AeUP</th>\n",
       "      <th>LiUP</th>\n",
       "      <th>EnUP</th>\n",
       "      <th>GoUP</th>\n",
       "      <th>GrUP</th>\n",
       "      <th>AnUP</th>\n",
       "      <th>MoUP</th>\n",
       "      <th>PoUP</th>\n",
       "      <th>MsUP</th>\n",
       "      <th>ViUP</th>\n",
       "      <th>ZiUO</th>\n",
       "      <th>GeUP</th>\n",
       "    </tr>\n",
       "  </thead>\n",
       "  <tbody>\n",
       "    <tr>\n",
       "      <th>774282</th>\n",
       "      <td>182.0</td>\n",
       "      <td>PALMERAS DE TRUFA</td>\n",
       "      <td>1/1/2009 0:00:00</td>\n",
       "      <td>0</td>\n",
       "      <td>2,00</td>\n",
       "      <td>5,00</td>\n",
       "      <td>2,00</td>\n",
       "      <td>2,00</td>\n",
       "      <td>8,00</td>\n",
       "      <td>3,00</td>\n",
       "      <td>2,00</td>\n",
       "      <td>0,00</td>\n",
       "      <td>0,00</td>\n",
       "      <td>3,00</td>\n",
       "      <td>2,00</td>\n",
       "      <td>4,00</td>\n",
       "      <td>4,00</td>\n",
       "      <td>3,00</td>\n",
       "      <td>0,00</td>\n",
       "      <td>0,00</td>\n",
       "      <td>0,00</td>\n",
       "      <td>0,00</td>\n",
       "      <td>0,00</td>\n",
       "    </tr>\n",
       "    <tr>\n",
       "      <th>781175</th>\n",
       "      <td>182.0</td>\n",
       "      <td>PALMERAS DE TRUFA</td>\n",
       "      <td>1/1/2009 0:00:00</td>\n",
       "      <td>0</td>\n",
       "      <td>0,00</td>\n",
       "      <td>0,00</td>\n",
       "      <td>0,00</td>\n",
       "      <td>0,00</td>\n",
       "      <td>0,00</td>\n",
       "      <td>0,00</td>\n",
       "      <td>0,00</td>\n",
       "      <td>0,00</td>\n",
       "      <td>0,00</td>\n",
       "      <td>0,00</td>\n",
       "      <td>0,00</td>\n",
       "      <td>0,00</td>\n",
       "      <td>0,00</td>\n",
       "      <td>0,00</td>\n",
       "      <td>0,00</td>\n",
       "      <td>5,00</td>\n",
       "      <td>0,00</td>\n",
       "      <td>0,00</td>\n",
       "      <td>0,00</td>\n",
       "    </tr>\n",
       "  </tbody>\n",
       "</table>\n",
       "</div>"
      ],
      "text/plain": [
       "        product_id        description        order_date  section  BmUP  VeUp  \\\n",
       "774282       182.0  PALMERAS DE TRUFA  1/1/2009 0:00:00        0  2,00  5,00   \n",
       "781175       182.0  PALMERAS DE TRUFA  1/1/2009 0:00:00        0  0,00  0,00   \n",
       "\n",
       "        CzUP  AaUP  SeUP  JPUP  RzUP  AeUP  LiUP  EnUP  GoUP  GrUP  AnUP  \\\n",
       "774282  2,00  2,00  8,00  3,00  2,00  0,00  0,00  3,00  2,00  4,00  4,00   \n",
       "781175  0,00  0,00  0,00  0,00  0,00  0,00  0,00  0,00  0,00  0,00  0,00   \n",
       "\n",
       "        MoUP  PoUP  MsUP  ViUP  ZiUO  GeUP  \n",
       "774282  3,00  0,00  0,00  0,00  0,00  0,00  \n",
       "781175  0,00  0,00  5,00  0,00  0,00  0,00  "
      ]
     },
     "execution_count": 21,
     "metadata": {},
     "output_type": "execute_result"
    }
   ],
   "source": [
    "df_original[(df_original[\"order_date\"]==\"1/1/2009 0:00:00\")&(df_original[\"description\"].str.contains(\"PALMERAS DE TRUFA\"))]"
   ]
  },
  {
   "cell_type": "markdown",
   "metadata": {},
   "source": [
    "We consider the theory that many from our duplicates might come from duplicates from the original file.\n",
    "\n",
    "Lets check it:"
   ]
  },
  {
   "cell_type": "code",
   "execution_count": 22,
   "metadata": {},
   "outputs": [
    {
     "data": {
      "text/plain": [
       "5282"
      ]
     },
     "execution_count": 22,
     "metadata": {},
     "output_type": "execute_result"
    }
   ],
   "source": [
    "df_original.duplicated().sum()"
   ]
  },
  {
   "cell_type": "markdown",
   "metadata": {},
   "source": [
    "There many duplicates in the original file, but not enough.\n",
    "\n",
    "As we melted this file to obtain our own (and to have the information as transactions), this number of duplicates has to be multiplied by the number of stores (10), but even then it falls a little shy of the number of duplicates in our results.\n",
    "\n",
    "Also, when we have into consideration that most of the duplicates should correspond to products that are not in our filtered dataset, we cannot consider duplicates from the original file as the only (or even, the main) source of duplicates in our file."
   ]
  },
  {
   "cell_type": "markdown",
   "metadata": {},
   "source": [
    "Diggind deeper in the matter, we are now going to check a couple of values from our duplicates, in the original dataframe provided to us:"
   ]
  },
  {
   "cell_type": "code",
   "execution_count": 23,
   "metadata": {},
   "outputs": [
    {
     "data": {
      "text/html": [
       "<div>\n",
       "<style scoped>\n",
       "    .dataframe tbody tr th:only-of-type {\n",
       "        vertical-align: middle;\n",
       "    }\n",
       "\n",
       "    .dataframe tbody tr th {\n",
       "        vertical-align: top;\n",
       "    }\n",
       "\n",
       "    .dataframe thead th {\n",
       "        text-align: right;\n",
       "    }\n",
       "</style>\n",
       "<table border=\"1\" class=\"dataframe\">\n",
       "  <thead>\n",
       "    <tr style=\"text-align: right;\">\n",
       "      <th></th>\n",
       "      <th>product_id</th>\n",
       "      <th>description</th>\n",
       "      <th>order_date</th>\n",
       "      <th>section</th>\n",
       "      <th>BmUP</th>\n",
       "      <th>VeUp</th>\n",
       "      <th>CzUP</th>\n",
       "      <th>AaUP</th>\n",
       "      <th>SeUP</th>\n",
       "      <th>JPUP</th>\n",
       "      <th>RzUP</th>\n",
       "      <th>AeUP</th>\n",
       "      <th>LiUP</th>\n",
       "      <th>EnUP</th>\n",
       "      <th>GoUP</th>\n",
       "      <th>GrUP</th>\n",
       "      <th>AnUP</th>\n",
       "      <th>MoUP</th>\n",
       "      <th>PoUP</th>\n",
       "      <th>MsUP</th>\n",
       "      <th>ViUP</th>\n",
       "      <th>ZiUO</th>\n",
       "      <th>GeUP</th>\n",
       "    </tr>\n",
       "  </thead>\n",
       "  <tbody>\n",
       "    <tr>\n",
       "      <th>1462852</th>\n",
       "      <td>112.0</td>\n",
       "      <td>TORTELES</td>\n",
       "      <td>20/2/2016 0:00:00</td>\n",
       "      <td>0</td>\n",
       "      <td>40,00</td>\n",
       "      <td>70,00</td>\n",
       "      <td>35,00</td>\n",
       "      <td>60,00</td>\n",
       "      <td>36,00</td>\n",
       "      <td>30,00</td>\n",
       "      <td>16,00</td>\n",
       "      <td>0,00</td>\n",
       "      <td>0,00</td>\n",
       "      <td>30,00</td>\n",
       "      <td>0,00</td>\n",
       "      <td>0,00</td>\n",
       "      <td>20,00</td>\n",
       "      <td>20,00</td>\n",
       "      <td>30,00</td>\n",
       "      <td>0,00</td>\n",
       "      <td>0,00</td>\n",
       "      <td>0,00</td>\n",
       "      <td>17,00</td>\n",
       "    </tr>\n",
       "    <tr>\n",
       "      <th>1462883</th>\n",
       "      <td>112.0</td>\n",
       "      <td>TORTELES</td>\n",
       "      <td>20/2/2016 0:00:00</td>\n",
       "      <td>0</td>\n",
       "      <td>0,00</td>\n",
       "      <td>70,00</td>\n",
       "      <td>0,00</td>\n",
       "      <td>0,00</td>\n",
       "      <td>0,00</td>\n",
       "      <td>0,00</td>\n",
       "      <td>0,00</td>\n",
       "      <td>0,00</td>\n",
       "      <td>0,00</td>\n",
       "      <td>0,00</td>\n",
       "      <td>0,00</td>\n",
       "      <td>0,00</td>\n",
       "      <td>0,00</td>\n",
       "      <td>0,00</td>\n",
       "      <td>0,00</td>\n",
       "      <td>0,00</td>\n",
       "      <td>0,00</td>\n",
       "      <td>0,00</td>\n",
       "      <td>0,00</td>\n",
       "    </tr>\n",
       "  </tbody>\n",
       "</table>\n",
       "</div>"
      ],
      "text/plain": [
       "         product_id description         order_date  section   BmUP   VeUp  \\\n",
       "1462852       112.0    TORTELES  20/2/2016 0:00:00        0  40,00  70,00   \n",
       "1462883       112.0    TORTELES  20/2/2016 0:00:00        0   0,00  70,00   \n",
       "\n",
       "          CzUP   AaUP   SeUP   JPUP   RzUP  AeUP  LiUP   EnUP  GoUP  GrUP  \\\n",
       "1462852  35,00  60,00  36,00  30,00  16,00  0,00  0,00  30,00  0,00  0,00   \n",
       "1462883   0,00   0,00   0,00   0,00   0,00  0,00  0,00   0,00  0,00  0,00   \n",
       "\n",
       "          AnUP   MoUP   PoUP  MsUP  ViUP  ZiUO   GeUP  \n",
       "1462852  20,00  20,00  30,00  0,00  0,00  0,00  17,00  \n",
       "1462883   0,00   0,00   0,00  0,00  0,00  0,00   0,00  "
      ]
     },
     "execution_count": 23,
     "metadata": {},
     "output_type": "execute_result"
    }
   ],
   "source": [
    "df_original[(df_original[\"order_date\"]==\"20/2/2016 0:00:00\")&(df_original[\"description\"].str.contains(\"TORTELES\"))]"
   ]
  },
  {
   "cell_type": "markdown",
   "metadata": {},
   "source": [
    "We can see that the bottom line is empty except for the store \"VeUp\" that has the value repeated. Coincidence or patter? lets dig a bit more:"
   ]
  },
  {
   "cell_type": "code",
   "execution_count": 24,
   "metadata": {},
   "outputs": [
    {
     "data": {
      "text/html": [
       "<div>\n",
       "<style scoped>\n",
       "    .dataframe tbody tr th:only-of-type {\n",
       "        vertical-align: middle;\n",
       "    }\n",
       "\n",
       "    .dataframe tbody tr th {\n",
       "        vertical-align: top;\n",
       "    }\n",
       "\n",
       "    .dataframe thead th {\n",
       "        text-align: right;\n",
       "    }\n",
       "</style>\n",
       "<table border=\"1\" class=\"dataframe\">\n",
       "  <thead>\n",
       "    <tr style=\"text-align: right;\">\n",
       "      <th></th>\n",
       "      <th>product_id</th>\n",
       "      <th>description</th>\n",
       "      <th>order_date</th>\n",
       "      <th>section</th>\n",
       "      <th>store</th>\n",
       "      <th>units_ordered</th>\n",
       "      <th>desc_normalized</th>\n",
       "      <th>target_names_prod_by_prod</th>\n",
       "    </tr>\n",
       "  </thead>\n",
       "  <tbody>\n",
       "    <tr>\n",
       "      <th>340744</th>\n",
       "      <td>4511.0</td>\n",
       "      <td>POSTRE FRESAS Y MASCARPONE</td>\n",
       "      <td>2016-04-19</td>\n",
       "      <td>0</td>\n",
       "      <td>CzUP</td>\n",
       "      <td>4</td>\n",
       "      <td>postres fresas y mascarpone</td>\n",
       "      <td>postre de fresas y mascarpone</td>\n",
       "    </tr>\n",
       "  </tbody>\n",
       "</table>\n",
       "</div>"
      ],
      "text/plain": [
       "        product_id                 description order_date  section store  \\\n",
       "340744      4511.0  POSTRE FRESAS Y MASCARPONE 2016-04-19        0  CzUP   \n",
       "\n",
       "        units_ordered              desc_normalized  \\\n",
       "340744              4  postres fresas y mascarpone   \n",
       "\n",
       "            target_names_prod_by_prod  \n",
       "340744  postre de fresas y mascarpone  "
      ]
     },
     "execution_count": 24,
     "metadata": {},
     "output_type": "execute_result"
    }
   ],
   "source": [
    "# Lets take a random one from \n",
    "duplicates[duplicates[\"units_ordered\"]==4].sample()"
   ]
  },
  {
   "cell_type": "code",
   "execution_count": 25,
   "metadata": {},
   "outputs": [
    {
     "data": {
      "text/html": [
       "<div>\n",
       "<style scoped>\n",
       "    .dataframe tbody tr th:only-of-type {\n",
       "        vertical-align: middle;\n",
       "    }\n",
       "\n",
       "    .dataframe tbody tr th {\n",
       "        vertical-align: top;\n",
       "    }\n",
       "\n",
       "    .dataframe thead th {\n",
       "        text-align: right;\n",
       "    }\n",
       "</style>\n",
       "<table border=\"1\" class=\"dataframe\">\n",
       "  <thead>\n",
       "    <tr style=\"text-align: right;\">\n",
       "      <th></th>\n",
       "      <th>product_id</th>\n",
       "      <th>description</th>\n",
       "      <th>order_date</th>\n",
       "      <th>section</th>\n",
       "      <th>RzUP</th>\n",
       "    </tr>\n",
       "  </thead>\n",
       "  <tbody>\n",
       "    <tr>\n",
       "      <th>1471806</th>\n",
       "      <td>459.0</td>\n",
       "      <td>MILHOJAS   FRAMBUESA 2º</td>\n",
       "      <td>27/2/2016 0:00:00</td>\n",
       "      <td>0</td>\n",
       "      <td>1,00</td>\n",
       "    </tr>\n",
       "    <tr>\n",
       "      <th>1471807</th>\n",
       "      <td>459.0</td>\n",
       "      <td>MILHOJAS   FRAMBUESA 2º</td>\n",
       "      <td>27/2/2016 0:00:00</td>\n",
       "      <td>0</td>\n",
       "      <td>4,00</td>\n",
       "    </tr>\n",
       "    <tr>\n",
       "      <th>1471808</th>\n",
       "      <td>459.0</td>\n",
       "      <td>MILHOJAS   FRAMBUESA 2º</td>\n",
       "      <td>27/2/2016 0:00:00</td>\n",
       "      <td>0</td>\n",
       "      <td>1,00</td>\n",
       "    </tr>\n",
       "    <tr>\n",
       "      <th>1473160</th>\n",
       "      <td>459.0</td>\n",
       "      <td>MILHOJAS   FRAMBUESA 2º</td>\n",
       "      <td>27/2/2016 0:00:00</td>\n",
       "      <td>0</td>\n",
       "      <td>4,00</td>\n",
       "    </tr>\n",
       "    <tr>\n",
       "      <th>1473665</th>\n",
       "      <td>459.0</td>\n",
       "      <td>MILHOJAS   FRAMBUESA 2º</td>\n",
       "      <td>27/2/2016 0:00:00</td>\n",
       "      <td>0</td>\n",
       "      <td>0,00</td>\n",
       "    </tr>\n",
       "    <tr>\n",
       "      <th>1473671</th>\n",
       "      <td>459.0</td>\n",
       "      <td>MILHOJAS   FRAMBUESA 2º</td>\n",
       "      <td>27/2/2016 0:00:00</td>\n",
       "      <td>0</td>\n",
       "      <td>0,00</td>\n",
       "    </tr>\n",
       "    <tr>\n",
       "      <th>1473694</th>\n",
       "      <td>459.0</td>\n",
       "      <td>MILHOJAS   FRAMBUESA 2º</td>\n",
       "      <td>27/2/2016 0:00:00</td>\n",
       "      <td>0</td>\n",
       "      <td>0,00</td>\n",
       "    </tr>\n",
       "    <tr>\n",
       "      <th>1473695</th>\n",
       "      <td>459.0</td>\n",
       "      <td>MILHOJAS   FRAMBUESA 2º</td>\n",
       "      <td>27/2/2016 0:00:00</td>\n",
       "      <td>0</td>\n",
       "      <td>0,00</td>\n",
       "    </tr>\n",
       "    <tr>\n",
       "      <th>1473778</th>\n",
       "      <td>459.0</td>\n",
       "      <td>MILHOJAS   FRAMBUESA 2º</td>\n",
       "      <td>27/2/2016 0:00:00</td>\n",
       "      <td>0</td>\n",
       "      <td>0,00</td>\n",
       "    </tr>\n",
       "  </tbody>\n",
       "</table>\n",
       "</div>"
      ],
      "text/plain": [
       "         product_id              description         order_date  section  RzUP\n",
       "1471806       459.0  MILHOJAS   FRAMBUESA 2º  27/2/2016 0:00:00        0  1,00\n",
       "1471807       459.0  MILHOJAS   FRAMBUESA 2º  27/2/2016 0:00:00        0  4,00\n",
       "1471808       459.0  MILHOJAS   FRAMBUESA 2º  27/2/2016 0:00:00        0  1,00\n",
       "1473160       459.0  MILHOJAS   FRAMBUESA 2º  27/2/2016 0:00:00        0  4,00\n",
       "1473665       459.0  MILHOJAS   FRAMBUESA 2º  27/2/2016 0:00:00        0  0,00\n",
       "1473671       459.0  MILHOJAS   FRAMBUESA 2º  27/2/2016 0:00:00        0  0,00\n",
       "1473694       459.0  MILHOJAS   FRAMBUESA 2º  27/2/2016 0:00:00        0  0,00\n",
       "1473695       459.0  MILHOJAS   FRAMBUESA 2º  27/2/2016 0:00:00        0  0,00\n",
       "1473778       459.0  MILHOJAS   FRAMBUESA 2º  27/2/2016 0:00:00        0  0,00"
      ]
     },
     "execution_count": 25,
     "metadata": {},
     "output_type": "execute_result"
    }
   ],
   "source": [
    "df_original[(df_original[\"order_date\"]==\"27/2/2016 0:00:00\")&(df_original[\"description\"].str.contains(\"MILHOJAS\"))&(df_original[\"description\"].str.contains(\"FRAMBUESA\"))][[\"product_id\",\"description\",\"order_date\",\"section\",\"RzUP\"]]"
   ]
  },
  {
   "cell_type": "markdown",
   "metadata": {},
   "source": [
    "This case beneath is very interesting:\n",
    "    \n",
    "We can see that for a given produt id, with the same description and on the same order date, there are several orders:\n",
    "\n",
    "* Some of these orders are duplicates\n",
    "\n",
    "* Some lines correspond to one order from one specific store, but we have two different orders asking for diffent quantities of the product"
   ]
  },
  {
   "cell_type": "code",
   "execution_count": 26,
   "metadata": {
    "scrolled": true
   },
   "outputs": [
    {
     "data": {
      "text/html": [
       "<div>\n",
       "<style scoped>\n",
       "    .dataframe tbody tr th:only-of-type {\n",
       "        vertical-align: middle;\n",
       "    }\n",
       "\n",
       "    .dataframe tbody tr th {\n",
       "        vertical-align: top;\n",
       "    }\n",
       "\n",
       "    .dataframe thead th {\n",
       "        text-align: right;\n",
       "    }\n",
       "</style>\n",
       "<table border=\"1\" class=\"dataframe\">\n",
       "  <thead>\n",
       "    <tr style=\"text-align: right;\">\n",
       "      <th></th>\n",
       "      <th>product_id</th>\n",
       "      <th>description</th>\n",
       "      <th>order_date</th>\n",
       "      <th>section</th>\n",
       "      <th>BmUP</th>\n",
       "      <th>VeUp</th>\n",
       "      <th>CzUP</th>\n",
       "      <th>AaUP</th>\n",
       "      <th>SeUP</th>\n",
       "      <th>JPUP</th>\n",
       "      <th>RzUP</th>\n",
       "      <th>AeUP</th>\n",
       "      <th>LiUP</th>\n",
       "      <th>EnUP</th>\n",
       "      <th>GoUP</th>\n",
       "      <th>GrUP</th>\n",
       "      <th>AnUP</th>\n",
       "      <th>MoUP</th>\n",
       "      <th>PoUP</th>\n",
       "      <th>MsUP</th>\n",
       "      <th>ViUP</th>\n",
       "      <th>ZiUO</th>\n",
       "      <th>GeUP</th>\n",
       "    </tr>\n",
       "  </thead>\n",
       "  <tbody>\n",
       "    <tr>\n",
       "      <th>1471806</th>\n",
       "      <td>459.0</td>\n",
       "      <td>MILHOJAS   FRAMBUESA 2º</td>\n",
       "      <td>27/2/2016 0:00:00</td>\n",
       "      <td>0</td>\n",
       "      <td>0,00</td>\n",
       "      <td>0,00</td>\n",
       "      <td>0,00</td>\n",
       "      <td>0,00</td>\n",
       "      <td>0,00</td>\n",
       "      <td>0,00</td>\n",
       "      <td>1,00</td>\n",
       "      <td>0,00</td>\n",
       "      <td>0,00</td>\n",
       "      <td>0,00</td>\n",
       "      <td>0,00</td>\n",
       "      <td>0,00</td>\n",
       "      <td>0,00</td>\n",
       "      <td>0,00</td>\n",
       "      <td>0,00</td>\n",
       "      <td>0,00</td>\n",
       "      <td>0,00</td>\n",
       "      <td>0,00</td>\n",
       "      <td>0,00</td>\n",
       "    </tr>\n",
       "    <tr>\n",
       "      <th>1471807</th>\n",
       "      <td>459.0</td>\n",
       "      <td>MILHOJAS   FRAMBUESA 2º</td>\n",
       "      <td>27/2/2016 0:00:00</td>\n",
       "      <td>0</td>\n",
       "      <td>0,00</td>\n",
       "      <td>0,00</td>\n",
       "      <td>0,00</td>\n",
       "      <td>0,00</td>\n",
       "      <td>0,00</td>\n",
       "      <td>0,00</td>\n",
       "      <td>4,00</td>\n",
       "      <td>0,00</td>\n",
       "      <td>0,00</td>\n",
       "      <td>0,00</td>\n",
       "      <td>0,00</td>\n",
       "      <td>0,00</td>\n",
       "      <td>0,00</td>\n",
       "      <td>0,00</td>\n",
       "      <td>0,00</td>\n",
       "      <td>0,00</td>\n",
       "      <td>0,00</td>\n",
       "      <td>0,00</td>\n",
       "      <td>0,00</td>\n",
       "    </tr>\n",
       "    <tr>\n",
       "      <th>1471808</th>\n",
       "      <td>459.0</td>\n",
       "      <td>MILHOJAS   FRAMBUESA 2º</td>\n",
       "      <td>27/2/2016 0:00:00</td>\n",
       "      <td>0</td>\n",
       "      <td>0,00</td>\n",
       "      <td>0,00</td>\n",
       "      <td>0,00</td>\n",
       "      <td>0,00</td>\n",
       "      <td>0,00</td>\n",
       "      <td>0,00</td>\n",
       "      <td>1,00</td>\n",
       "      <td>0,00</td>\n",
       "      <td>0,00</td>\n",
       "      <td>0,00</td>\n",
       "      <td>0,00</td>\n",
       "      <td>0,00</td>\n",
       "      <td>0,00</td>\n",
       "      <td>0,00</td>\n",
       "      <td>0,00</td>\n",
       "      <td>0,00</td>\n",
       "      <td>0,00</td>\n",
       "      <td>0,00</td>\n",
       "      <td>0,00</td>\n",
       "    </tr>\n",
       "    <tr>\n",
       "      <th>1473160</th>\n",
       "      <td>459.0</td>\n",
       "      <td>MILHOJAS   FRAMBUESA 2º</td>\n",
       "      <td>27/2/2016 0:00:00</td>\n",
       "      <td>0</td>\n",
       "      <td>3,00</td>\n",
       "      <td>4,00</td>\n",
       "      <td>0,00</td>\n",
       "      <td>5,00</td>\n",
       "      <td>0,00</td>\n",
       "      <td>2,00</td>\n",
       "      <td>4,00</td>\n",
       "      <td>0,00</td>\n",
       "      <td>0,00</td>\n",
       "      <td>1,00</td>\n",
       "      <td>0,00</td>\n",
       "      <td>0,00</td>\n",
       "      <td>3,00</td>\n",
       "      <td>1,00</td>\n",
       "      <td>3,00</td>\n",
       "      <td>0,00</td>\n",
       "      <td>0,00</td>\n",
       "      <td>0,00</td>\n",
       "      <td>0,00</td>\n",
       "    </tr>\n",
       "    <tr>\n",
       "      <th>1473665</th>\n",
       "      <td>459.0</td>\n",
       "      <td>MILHOJAS   FRAMBUESA 2º</td>\n",
       "      <td>27/2/2016 0:00:00</td>\n",
       "      <td>0</td>\n",
       "      <td>0,00</td>\n",
       "      <td>0,00</td>\n",
       "      <td>0,00</td>\n",
       "      <td>1,00</td>\n",
       "      <td>0,00</td>\n",
       "      <td>0,00</td>\n",
       "      <td>0,00</td>\n",
       "      <td>0,00</td>\n",
       "      <td>0,00</td>\n",
       "      <td>0,00</td>\n",
       "      <td>0,00</td>\n",
       "      <td>0,00</td>\n",
       "      <td>0,00</td>\n",
       "      <td>0,00</td>\n",
       "      <td>0,00</td>\n",
       "      <td>0,00</td>\n",
       "      <td>0,00</td>\n",
       "      <td>0,00</td>\n",
       "      <td>0,00</td>\n",
       "    </tr>\n",
       "    <tr>\n",
       "      <th>1473671</th>\n",
       "      <td>459.0</td>\n",
       "      <td>MILHOJAS   FRAMBUESA 2º</td>\n",
       "      <td>27/2/2016 0:00:00</td>\n",
       "      <td>0</td>\n",
       "      <td>0,00</td>\n",
       "      <td>0,00</td>\n",
       "      <td>0,00</td>\n",
       "      <td>0,00</td>\n",
       "      <td>3,00</td>\n",
       "      <td>0,00</td>\n",
       "      <td>0,00</td>\n",
       "      <td>0,00</td>\n",
       "      <td>0,00</td>\n",
       "      <td>0,00</td>\n",
       "      <td>0,00</td>\n",
       "      <td>0,00</td>\n",
       "      <td>0,00</td>\n",
       "      <td>0,00</td>\n",
       "      <td>0,00</td>\n",
       "      <td>0,00</td>\n",
       "      <td>0,00</td>\n",
       "      <td>0,00</td>\n",
       "      <td>0,00</td>\n",
       "    </tr>\n",
       "    <tr>\n",
       "      <th>1473694</th>\n",
       "      <td>459.0</td>\n",
       "      <td>MILHOJAS   FRAMBUESA 2º</td>\n",
       "      <td>27/2/2016 0:00:00</td>\n",
       "      <td>0</td>\n",
       "      <td>0,00</td>\n",
       "      <td>0,00</td>\n",
       "      <td>0,00</td>\n",
       "      <td>0,00</td>\n",
       "      <td>0,00</td>\n",
       "      <td>0,00</td>\n",
       "      <td>0,00</td>\n",
       "      <td>0,00</td>\n",
       "      <td>0,00</td>\n",
       "      <td>0,00</td>\n",
       "      <td>0,00</td>\n",
       "      <td>0,00</td>\n",
       "      <td>1,00</td>\n",
       "      <td>0,00</td>\n",
       "      <td>0,00</td>\n",
       "      <td>0,00</td>\n",
       "      <td>0,00</td>\n",
       "      <td>0,00</td>\n",
       "      <td>0,00</td>\n",
       "    </tr>\n",
       "    <tr>\n",
       "      <th>1473695</th>\n",
       "      <td>459.0</td>\n",
       "      <td>MILHOJAS   FRAMBUESA 2º</td>\n",
       "      <td>27/2/2016 0:00:00</td>\n",
       "      <td>0</td>\n",
       "      <td>0,00</td>\n",
       "      <td>0,00</td>\n",
       "      <td>0,00</td>\n",
       "      <td>0,00</td>\n",
       "      <td>0,00</td>\n",
       "      <td>0,00</td>\n",
       "      <td>0,00</td>\n",
       "      <td>0,00</td>\n",
       "      <td>0,00</td>\n",
       "      <td>0,00</td>\n",
       "      <td>0,00</td>\n",
       "      <td>0,00</td>\n",
       "      <td>1,00</td>\n",
       "      <td>0,00</td>\n",
       "      <td>0,00</td>\n",
       "      <td>0,00</td>\n",
       "      <td>0,00</td>\n",
       "      <td>0,00</td>\n",
       "      <td>0,00</td>\n",
       "    </tr>\n",
       "    <tr>\n",
       "      <th>1473778</th>\n",
       "      <td>459.0</td>\n",
       "      <td>MILHOJAS   FRAMBUESA 2º</td>\n",
       "      <td>27/2/2016 0:00:00</td>\n",
       "      <td>0</td>\n",
       "      <td>0,00</td>\n",
       "      <td>0,00</td>\n",
       "      <td>5,00</td>\n",
       "      <td>0,00</td>\n",
       "      <td>0,00</td>\n",
       "      <td>0,00</td>\n",
       "      <td>0,00</td>\n",
       "      <td>0,00</td>\n",
       "      <td>0,00</td>\n",
       "      <td>0,00</td>\n",
       "      <td>0,00</td>\n",
       "      <td>0,00</td>\n",
       "      <td>0,00</td>\n",
       "      <td>0,00</td>\n",
       "      <td>0,00</td>\n",
       "      <td>0,00</td>\n",
       "      <td>0,00</td>\n",
       "      <td>0,00</td>\n",
       "      <td>0,00</td>\n",
       "    </tr>\n",
       "  </tbody>\n",
       "</table>\n",
       "</div>"
      ],
      "text/plain": [
       "         product_id              description         order_date  section  \\\n",
       "1471806       459.0  MILHOJAS   FRAMBUESA 2º  27/2/2016 0:00:00        0   \n",
       "1471807       459.0  MILHOJAS   FRAMBUESA 2º  27/2/2016 0:00:00        0   \n",
       "1471808       459.0  MILHOJAS   FRAMBUESA 2º  27/2/2016 0:00:00        0   \n",
       "1473160       459.0  MILHOJAS   FRAMBUESA 2º  27/2/2016 0:00:00        0   \n",
       "1473665       459.0  MILHOJAS   FRAMBUESA 2º  27/2/2016 0:00:00        0   \n",
       "1473671       459.0  MILHOJAS   FRAMBUESA 2º  27/2/2016 0:00:00        0   \n",
       "1473694       459.0  MILHOJAS   FRAMBUESA 2º  27/2/2016 0:00:00        0   \n",
       "1473695       459.0  MILHOJAS   FRAMBUESA 2º  27/2/2016 0:00:00        0   \n",
       "1473778       459.0  MILHOJAS   FRAMBUESA 2º  27/2/2016 0:00:00        0   \n",
       "\n",
       "         BmUP  VeUp  CzUP  AaUP  SeUP  JPUP  RzUP  AeUP  LiUP  EnUP  GoUP  \\\n",
       "1471806  0,00  0,00  0,00  0,00  0,00  0,00  1,00  0,00  0,00  0,00  0,00   \n",
       "1471807  0,00  0,00  0,00  0,00  0,00  0,00  4,00  0,00  0,00  0,00  0,00   \n",
       "1471808  0,00  0,00  0,00  0,00  0,00  0,00  1,00  0,00  0,00  0,00  0,00   \n",
       "1473160  3,00  4,00  0,00  5,00  0,00  2,00  4,00  0,00  0,00  1,00  0,00   \n",
       "1473665  0,00  0,00  0,00  1,00  0,00  0,00  0,00  0,00  0,00  0,00  0,00   \n",
       "1473671  0,00  0,00  0,00  0,00  3,00  0,00  0,00  0,00  0,00  0,00  0,00   \n",
       "1473694  0,00  0,00  0,00  0,00  0,00  0,00  0,00  0,00  0,00  0,00  0,00   \n",
       "1473695  0,00  0,00  0,00  0,00  0,00  0,00  0,00  0,00  0,00  0,00  0,00   \n",
       "1473778  0,00  0,00  5,00  0,00  0,00  0,00  0,00  0,00  0,00  0,00  0,00   \n",
       "\n",
       "         GrUP  AnUP  MoUP  PoUP  MsUP  ViUP  ZiUO  GeUP  \n",
       "1471806  0,00  0,00  0,00  0,00  0,00  0,00  0,00  0,00  \n",
       "1471807  0,00  0,00  0,00  0,00  0,00  0,00  0,00  0,00  \n",
       "1471808  0,00  0,00  0,00  0,00  0,00  0,00  0,00  0,00  \n",
       "1473160  0,00  3,00  1,00  3,00  0,00  0,00  0,00  0,00  \n",
       "1473665  0,00  0,00  0,00  0,00  0,00  0,00  0,00  0,00  \n",
       "1473671  0,00  0,00  0,00  0,00  0,00  0,00  0,00  0,00  \n",
       "1473694  0,00  1,00  0,00  0,00  0,00  0,00  0,00  0,00  \n",
       "1473695  0,00  1,00  0,00  0,00  0,00  0,00  0,00  0,00  \n",
       "1473778  0,00  0,00  0,00  0,00  0,00  0,00  0,00  0,00  "
      ]
     },
     "execution_count": 26,
     "metadata": {},
     "output_type": "execute_result"
    }
   ],
   "source": [
    "df_original[(df_original[\"order_date\"]==\"27/2/2016 0:00:00\")&(df_original[\"description\"].str.contains(\"MILHOJAS\"))&(df_original[\"description\"].str.contains(\"FRAMBUESA\"))]"
   ]
  },
  {
   "cell_type": "markdown",
   "metadata": {},
   "source": [
    "Ok..., at this point the information was too confusing: One store, in one day has multiple orders; all very similar.. And when that store is compared to the other stores for the same day, its even more confusing... So we decided to meet with the client and ask for clarifications:\n",
    "\n",
    "These are the conclusions from the meeting:\n",
    "\n",
    " - In the original file, there should only be one line per day, if there are more it could mean two things:\n",
    "     - if the additional line is all 0 except for one store, AND that store has 0 in the main line, it means that they had to manually input their order in the system.\n",
    "     - if one store has duplicated orders for a given day-product, it means they made a mistake. \n",
    " - Also, if a store orders different quantities of the same product in the same day, its probably an error and they only take the largest order.\n",
    " \n",
    " The main conclusion from the client is that we can group by Date - product - store and take the largest order to remove duplicates... HOWEVER, before doing this, we need to take into account another situation: One product could have been ordered by a store, in a given day using several different product id / descriptions. If we group by, we may be loosing orders, unless we are very restrictive. "
   ]
  },
  {
   "cell_type": "code",
   "execution_count": 27,
   "metadata": {},
   "outputs": [],
   "source": [
    "#Lets take the max value for each line:\n",
    "df_non_duplicated_lines = df_transactions_filtered_nan_removed.groupby(['product_id', 'description','order_date', 'section', 'store', 'desc_normalized', 'target_names_prod_by_prod']).max().reset_index()"
   ]
  },
  {
   "cell_type": "code",
   "execution_count": 28,
   "metadata": {},
   "outputs": [
    {
     "data": {
      "text/plain": [
       "0"
      ]
     },
     "execution_count": 28,
     "metadata": {},
     "output_type": "execute_result"
    }
   ],
   "source": [
    "df_non_duplicated_lines.duplicated().sum()"
   ]
  },
  {
   "cell_type": "markdown",
   "metadata": {},
   "source": [
    "Perfect, we don't have duplicates!... Or yes...\n",
    "\n",
    "Actually, we may still have duplicates, one store could have created duplicates that we have not identified by ordering the same product by two different ID's or using different descriptions.\n",
    "\n",
    "- If they were using different ID's this could would mainly mean that they intentionally want two different orders (perhaps custom orders, and normal order)\n",
    "\n",
    "- If they were using different product descriptions, it would probably mean that they introduced the order two times, however lets explore this situation a bit more:\n"
   ]
  },
  {
   "cell_type": "code",
   "execution_count": 29,
   "metadata": {},
   "outputs": [
    {
     "data": {
      "text/plain": [
       "(16,)"
      ]
     },
     "execution_count": 29,
     "metadata": {},
     "output_type": "execute_result"
    }
   ],
   "source": [
    "# Lets count the number of times a duplicated line differs only by the raw desciption, and has a value greater than 0:\n",
    "aux=df_non_duplicated_lines.drop('description', axis=1)\n",
    "aux2 = aux[aux.duplicated()]\n",
    "aux2[aux2[\"units_ordered\"]>0][\"units_ordered\"].shape"
   ]
  },
  {
   "cell_type": "code",
   "execution_count": 30,
   "metadata": {},
   "outputs": [
    {
     "data": {
      "text/plain": [
       "1"
      ]
     },
     "execution_count": 30,
     "metadata": {},
     "output_type": "execute_result"
    }
   ],
   "source": [
    "aux2[\"units_ordered\"].max()"
   ]
  },
  {
   "cell_type": "markdown",
   "metadata": {},
   "source": [
    "As seen, there are not a lot of values involved, neither have big weights.\n",
    "\n",
    "Under the consideration that the total aggregated error is 16 units in a series spanning a decade and with millions of units ordered, we consider it safe to simply eliminate this transactions."
   ]
  },
  {
   "cell_type": "code",
   "execution_count": 31,
   "metadata": {},
   "outputs": [],
   "source": [
    "df_non_duplicated_lines = df_transactions_filtered_nan_removed.groupby(['product_id','order_date', 'section', 'store', 'target_names_prod_by_prod'])[\"units_ordered\"].max().reset_index()"
   ]
  },
  {
   "cell_type": "code",
   "execution_count": 32,
   "metadata": {},
   "outputs": [
    {
     "data": {
      "text/html": [
       "<div>\n",
       "<style scoped>\n",
       "    .dataframe tbody tr th:only-of-type {\n",
       "        vertical-align: middle;\n",
       "    }\n",
       "\n",
       "    .dataframe tbody tr th {\n",
       "        vertical-align: top;\n",
       "    }\n",
       "\n",
       "    .dataframe thead th {\n",
       "        text-align: right;\n",
       "    }\n",
       "</style>\n",
       "<table border=\"1\" class=\"dataframe\">\n",
       "  <thead>\n",
       "    <tr style=\"text-align: right;\">\n",
       "      <th></th>\n",
       "      <th>product_id</th>\n",
       "      <th>order_date</th>\n",
       "      <th>section</th>\n",
       "      <th>store</th>\n",
       "      <th>target_names_prod_by_prod</th>\n",
       "      <th>units_ordered</th>\n",
       "    </tr>\n",
       "  </thead>\n",
       "  <tbody>\n",
       "    <tr>\n",
       "      <th>0</th>\n",
       "      <td>45.0</td>\n",
       "      <td>2017-05-05</td>\n",
       "      <td>0</td>\n",
       "      <td>AaUP</td>\n",
       "      <td>postre de fresas y mascarpone</td>\n",
       "      <td>0</td>\n",
       "    </tr>\n",
       "    <tr>\n",
       "      <th>1</th>\n",
       "      <td>45.0</td>\n",
       "      <td>2017-05-05</td>\n",
       "      <td>0</td>\n",
       "      <td>AeUP</td>\n",
       "      <td>postre de fresas y mascarpone</td>\n",
       "      <td>0</td>\n",
       "    </tr>\n",
       "    <tr>\n",
       "      <th>2</th>\n",
       "      <td>45.0</td>\n",
       "      <td>2017-05-05</td>\n",
       "      <td>0</td>\n",
       "      <td>AnUP</td>\n",
       "      <td>postre de fresas y mascarpone</td>\n",
       "      <td>0</td>\n",
       "    </tr>\n",
       "    <tr>\n",
       "      <th>3</th>\n",
       "      <td>45.0</td>\n",
       "      <td>2017-05-05</td>\n",
       "      <td>0</td>\n",
       "      <td>BmUP</td>\n",
       "      <td>postre de fresas y mascarpone</td>\n",
       "      <td>0</td>\n",
       "    </tr>\n",
       "    <tr>\n",
       "      <th>4</th>\n",
       "      <td>45.0</td>\n",
       "      <td>2017-05-05</td>\n",
       "      <td>0</td>\n",
       "      <td>CzUP</td>\n",
       "      <td>postre de fresas y mascarpone</td>\n",
       "      <td>0</td>\n",
       "    </tr>\n",
       "  </tbody>\n",
       "</table>\n",
       "</div>"
      ],
      "text/plain": [
       "   product_id order_date  section store      target_names_prod_by_prod  \\\n",
       "0        45.0 2017-05-05        0  AaUP  postre de fresas y mascarpone   \n",
       "1        45.0 2017-05-05        0  AeUP  postre de fresas y mascarpone   \n",
       "2        45.0 2017-05-05        0  AnUP  postre de fresas y mascarpone   \n",
       "3        45.0 2017-05-05        0  BmUP  postre de fresas y mascarpone   \n",
       "4        45.0 2017-05-05        0  CzUP  postre de fresas y mascarpone   \n",
       "\n",
       "   units_ordered  \n",
       "0              0  \n",
       "1              0  \n",
       "2              0  \n",
       "3              0  \n",
       "4              0  "
      ]
     },
     "execution_count": 32,
     "metadata": {},
     "output_type": "execute_result"
    }
   ],
   "source": [
    "df_non_duplicated_lines.head()"
   ]
  },
  {
   "cell_type": "code",
   "execution_count": 33,
   "metadata": {},
   "outputs": [
    {
     "data": {
      "text/plain": [
       "0"
      ]
     },
     "execution_count": 33,
     "metadata": {},
     "output_type": "execute_result"
    }
   ],
   "source": [
    "df_non_duplicated_lines.duplicated().sum()"
   ]
  },
  {
   "cell_type": "markdown",
   "metadata": {},
   "source": [
    "We are going to check the resulting shape of our dataframe, to do a brief sanity check by seeing how many lines have been deleted:"
   ]
  },
  {
   "cell_type": "code",
   "execution_count": 34,
   "metadata": {
    "scrolled": true
   },
   "outputs": [
    {
     "data": {
      "text/plain": [
       "(742922, 6)"
      ]
     },
     "execution_count": 34,
     "metadata": {},
     "output_type": "execute_result"
    }
   ],
   "source": [
    "df_non_duplicated_lines.shape"
   ]
  },
  {
   "cell_type": "markdown",
   "metadata": {},
   "source": [
    "# Data quality:\n"
   ]
  },
  {
   "cell_type": "markdown",
   "metadata": {},
   "source": [
    "## 1. File Shape (one line per day-store-product)\n",
    "\n",
    "The dataset should contain only one line per product, date, and store. However, we already know that one product could have been ordered by given store, in a given day with several products ID's. \n",
    "\n",
    "The expectation is that there could be several different orders for the same product, same day and same store, because, as we saw when filtering our products, there were several product IDs for most of them that checked all the boxes of the description, as we can see in the image below (corresponding to the \"mousse 3 chocolates\"):\n",
    "\n",
    "<img src=./IM00.png>\n",
    "\n",
    "lets check it:"
   ]
  },
  {
   "cell_type": "code",
   "execution_count": 35,
   "metadata": {},
   "outputs": [
    {
     "data": {
      "text/plain": [
       "1045"
      ]
     },
     "execution_count": 35,
     "metadata": {},
     "output_type": "execute_result"
    }
   ],
   "source": [
    "# Calculate number of orders by a store in a given day and product that are greater than 2:\n",
    "aux = df_non_duplicated_lines.groupby(['order_date', 'section', 'store', 'target_names_prod_by_prod'])[\"product_id\"].count()\n",
    "aux[aux>2].count()"
   ]
  },
  {
   "cell_type": "code",
   "execution_count": 36,
   "metadata": {},
   "outputs": [
    {
     "data": {
      "text/plain": [
       "4"
      ]
     },
     "execution_count": 36,
     "metadata": {},
     "output_type": "execute_result"
    }
   ],
   "source": [
    "# Calculate number of orders by a store in a given day and product that are greater than 2:\n",
    "aux = df_non_duplicated_lines.groupby(['order_date', 'section', 'store', 'target_names_prod_by_prod'])[\"product_id\"].count()\n",
    "aux[aux>2].max()"
   ]
  },
  {
   "cell_type": "markdown",
   "metadata": {},
   "source": [
    "For this orders we are not going to pick the biggest, as before, but sum their quantities: indeed, they have different product ids, but they correspond to the very same product, so adding up the quantities is what will give us the total ammount a particular store orders in a particular day:\n"
   ]
  },
  {
   "cell_type": "code",
   "execution_count": 37,
   "metadata": {},
   "outputs": [
    {
     "data": {
      "text/html": [
       "<div>\n",
       "<style scoped>\n",
       "    .dataframe tbody tr th:only-of-type {\n",
       "        vertical-align: middle;\n",
       "    }\n",
       "\n",
       "    .dataframe tbody tr th {\n",
       "        vertical-align: top;\n",
       "    }\n",
       "\n",
       "    .dataframe thead th {\n",
       "        text-align: right;\n",
       "    }\n",
       "</style>\n",
       "<table border=\"1\" class=\"dataframe\">\n",
       "  <thead>\n",
       "    <tr style=\"text-align: right;\">\n",
       "      <th></th>\n",
       "      <th>order_date</th>\n",
       "      <th>section</th>\n",
       "      <th>store</th>\n",
       "      <th>target_names_prod_by_prod</th>\n",
       "      <th>units_ordered</th>\n",
       "    </tr>\n",
       "  </thead>\n",
       "  <tbody>\n",
       "    <tr>\n",
       "      <th>0</th>\n",
       "      <td>2008-01-01</td>\n",
       "      <td>0</td>\n",
       "      <td>AaUP</td>\n",
       "      <td>baguette</td>\n",
       "      <td>15</td>\n",
       "    </tr>\n",
       "    <tr>\n",
       "      <th>1</th>\n",
       "      <td>2008-01-01</td>\n",
       "      <td>0</td>\n",
       "      <td>AaUP</td>\n",
       "      <td>croissant petit</td>\n",
       "      <td>12</td>\n",
       "    </tr>\n",
       "    <tr>\n",
       "      <th>2</th>\n",
       "      <td>2008-01-01</td>\n",
       "      <td>0</td>\n",
       "      <td>AaUP</td>\n",
       "      <td>croissant simple</td>\n",
       "      <td>4</td>\n",
       "    </tr>\n",
       "    <tr>\n",
       "      <th>3</th>\n",
       "      <td>2008-01-01</td>\n",
       "      <td>0</td>\n",
       "      <td>AaUP</td>\n",
       "      <td>milhojas frambuesa</td>\n",
       "      <td>1</td>\n",
       "    </tr>\n",
       "    <tr>\n",
       "      <th>4</th>\n",
       "      <td>2008-01-01</td>\n",
       "      <td>0</td>\n",
       "      <td>AaUP</td>\n",
       "      <td>mousse tres chocolates</td>\n",
       "      <td>0</td>\n",
       "    </tr>\n",
       "    <tr>\n",
       "      <th>5</th>\n",
       "      <td>2008-01-01</td>\n",
       "      <td>0</td>\n",
       "      <td>AaUP</td>\n",
       "      <td>palmera chocolate</td>\n",
       "      <td>5</td>\n",
       "    </tr>\n",
       "    <tr>\n",
       "      <th>6</th>\n",
       "      <td>2008-01-01</td>\n",
       "      <td>0</td>\n",
       "      <td>AaUP</td>\n",
       "      <td>tortel</td>\n",
       "      <td>0</td>\n",
       "    </tr>\n",
       "    <tr>\n",
       "      <th>7</th>\n",
       "      <td>2008-01-01</td>\n",
       "      <td>0</td>\n",
       "      <td>AeUP</td>\n",
       "      <td>baguette</td>\n",
       "      <td>0</td>\n",
       "    </tr>\n",
       "    <tr>\n",
       "      <th>8</th>\n",
       "      <td>2008-01-01</td>\n",
       "      <td>0</td>\n",
       "      <td>AeUP</td>\n",
       "      <td>croissant petit</td>\n",
       "      <td>0</td>\n",
       "    </tr>\n",
       "    <tr>\n",
       "      <th>9</th>\n",
       "      <td>2008-01-01</td>\n",
       "      <td>0</td>\n",
       "      <td>AeUP</td>\n",
       "      <td>croissant simple</td>\n",
       "      <td>0</td>\n",
       "    </tr>\n",
       "    <tr>\n",
       "      <th>10</th>\n",
       "      <td>2008-01-01</td>\n",
       "      <td>0</td>\n",
       "      <td>AeUP</td>\n",
       "      <td>milhojas frambuesa</td>\n",
       "      <td>0</td>\n",
       "    </tr>\n",
       "    <tr>\n",
       "      <th>11</th>\n",
       "      <td>2008-01-01</td>\n",
       "      <td>0</td>\n",
       "      <td>AeUP</td>\n",
       "      <td>mousse tres chocolates</td>\n",
       "      <td>0</td>\n",
       "    </tr>\n",
       "    <tr>\n",
       "      <th>12</th>\n",
       "      <td>2008-01-01</td>\n",
       "      <td>0</td>\n",
       "      <td>AeUP</td>\n",
       "      <td>palmera chocolate</td>\n",
       "      <td>0</td>\n",
       "    </tr>\n",
       "    <tr>\n",
       "      <th>13</th>\n",
       "      <td>2008-01-01</td>\n",
       "      <td>0</td>\n",
       "      <td>AeUP</td>\n",
       "      <td>tortel</td>\n",
       "      <td>0</td>\n",
       "    </tr>\n",
       "    <tr>\n",
       "      <th>14</th>\n",
       "      <td>2008-01-01</td>\n",
       "      <td>0</td>\n",
       "      <td>AnUP</td>\n",
       "      <td>baguette</td>\n",
       "      <td>6</td>\n",
       "    </tr>\n",
       "    <tr>\n",
       "      <th>15</th>\n",
       "      <td>2008-01-01</td>\n",
       "      <td>0</td>\n",
       "      <td>AnUP</td>\n",
       "      <td>croissant petit</td>\n",
       "      <td>6</td>\n",
       "    </tr>\n",
       "    <tr>\n",
       "      <th>16</th>\n",
       "      <td>2008-01-01</td>\n",
       "      <td>0</td>\n",
       "      <td>AnUP</td>\n",
       "      <td>croissant simple</td>\n",
       "      <td>8</td>\n",
       "    </tr>\n",
       "    <tr>\n",
       "      <th>17</th>\n",
       "      <td>2008-01-01</td>\n",
       "      <td>0</td>\n",
       "      <td>AnUP</td>\n",
       "      <td>milhojas frambuesa</td>\n",
       "      <td>1</td>\n",
       "    </tr>\n",
       "    <tr>\n",
       "      <th>18</th>\n",
       "      <td>2008-01-01</td>\n",
       "      <td>0</td>\n",
       "      <td>AnUP</td>\n",
       "      <td>mousse tres chocolates</td>\n",
       "      <td>0</td>\n",
       "    </tr>\n",
       "    <tr>\n",
       "      <th>19</th>\n",
       "      <td>2008-01-01</td>\n",
       "      <td>0</td>\n",
       "      <td>AnUP</td>\n",
       "      <td>palmera chocolate</td>\n",
       "      <td>3</td>\n",
       "    </tr>\n",
       "  </tbody>\n",
       "</table>\n",
       "</div>"
      ],
      "text/plain": [
       "   order_date  section store target_names_prod_by_prod  units_ordered\n",
       "0  2008-01-01        0  AaUP                  baguette             15\n",
       "1  2008-01-01        0  AaUP           croissant petit             12\n",
       "2  2008-01-01        0  AaUP          croissant simple              4\n",
       "3  2008-01-01        0  AaUP        milhojas frambuesa              1\n",
       "4  2008-01-01        0  AaUP    mousse tres chocolates              0\n",
       "5  2008-01-01        0  AaUP         palmera chocolate              5\n",
       "6  2008-01-01        0  AaUP                    tortel              0\n",
       "7  2008-01-01        0  AeUP                  baguette              0\n",
       "8  2008-01-01        0  AeUP           croissant petit              0\n",
       "9  2008-01-01        0  AeUP          croissant simple              0\n",
       "10 2008-01-01        0  AeUP        milhojas frambuesa              0\n",
       "11 2008-01-01        0  AeUP    mousse tres chocolates              0\n",
       "12 2008-01-01        0  AeUP         palmera chocolate              0\n",
       "13 2008-01-01        0  AeUP                    tortel              0\n",
       "14 2008-01-01        0  AnUP                  baguette              6\n",
       "15 2008-01-01        0  AnUP           croissant petit              6\n",
       "16 2008-01-01        0  AnUP          croissant simple              8\n",
       "17 2008-01-01        0  AnUP        milhojas frambuesa              1\n",
       "18 2008-01-01        0  AnUP    mousse tres chocolates              0\n",
       "19 2008-01-01        0  AnUP         palmera chocolate              3"
      ]
     },
     "execution_count": 37,
     "metadata": {},
     "output_type": "execute_result"
    }
   ],
   "source": [
    "df_to_check = df_non_duplicated_lines.groupby(['order_date', 'section', 'store', 'target_names_prod_by_prod'])[\"units_ordered\"].sum().reset_index()\n",
    "df_to_check.head(20)"
   ]
  },
  {
   "cell_type": "markdown",
   "metadata": {},
   "source": [
    "## 2. Checking for outliers:"
   ]
  },
  {
   "cell_type": "markdown",
   "metadata": {},
   "source": [
    "We are now going to check for outliers in our data.\n",
    "\n",
    "We are going to undertake this take little by little:"
   ]
  },
  {
   "cell_type": "code",
   "execution_count": 38,
   "metadata": {},
   "outputs": [
    {
     "data": {
      "text/plain": [
       "4.771253282574057"
      ]
     },
     "execution_count": 38,
     "metadata": {},
     "output_type": "execute_result"
    }
   ],
   "source": [
    "df_to_check['units_ordered'].mean()"
   ]
  },
  {
   "cell_type": "code",
   "execution_count": 39,
   "metadata": {},
   "outputs": [
    {
     "data": {
      "text/plain": [
       "4100"
      ]
     },
     "execution_count": 39,
     "metadata": {},
     "output_type": "execute_result"
    }
   ],
   "source": [
    "df_to_check['units_ordered'].max()"
   ]
  },
  {
   "cell_type": "code",
   "execution_count": 40,
   "metadata": {},
   "outputs": [
    {
     "data": {
      "text/html": [
       "<div>\n",
       "<style scoped>\n",
       "    .dataframe tbody tr th:only-of-type {\n",
       "        vertical-align: middle;\n",
       "    }\n",
       "\n",
       "    .dataframe tbody tr th {\n",
       "        vertical-align: top;\n",
       "    }\n",
       "\n",
       "    .dataframe thead th {\n",
       "        text-align: right;\n",
       "    }\n",
       "</style>\n",
       "<table border=\"1\" class=\"dataframe\">\n",
       "  <thead>\n",
       "    <tr style=\"text-align: right;\">\n",
       "      <th></th>\n",
       "      <th>order_date</th>\n",
       "      <th>section</th>\n",
       "      <th>store</th>\n",
       "      <th>target_names_prod_by_prod</th>\n",
       "      <th>units_ordered</th>\n",
       "    </tr>\n",
       "  </thead>\n",
       "  <tbody>\n",
       "    <tr>\n",
       "      <th>19174</th>\n",
       "      <td>2008-05-10</td>\n",
       "      <td>0</td>\n",
       "      <td>EnUP</td>\n",
       "      <td>croissant petit</td>\n",
       "      <td>4100</td>\n",
       "    </tr>\n",
       "    <tr>\n",
       "      <th>11935</th>\n",
       "      <td>2008-03-23</td>\n",
       "      <td>0</td>\n",
       "      <td>EnUP</td>\n",
       "      <td>croissant petit</td>\n",
       "      <td>3600</td>\n",
       "    </tr>\n",
       "    <tr>\n",
       "      <th>26234</th>\n",
       "      <td>2008-06-26</td>\n",
       "      <td>0</td>\n",
       "      <td>LiUP</td>\n",
       "      <td>croissant petit</td>\n",
       "      <td>3500</td>\n",
       "    </tr>\n",
       "    <tr>\n",
       "      <th>229246</th>\n",
       "      <td>2012-03-11</td>\n",
       "      <td>0</td>\n",
       "      <td>EnUP</td>\n",
       "      <td>palmera chocolate</td>\n",
       "      <td>3110</td>\n",
       "    </tr>\n",
       "    <tr>\n",
       "      <th>39219</th>\n",
       "      <td>2008-09-24</td>\n",
       "      <td>0</td>\n",
       "      <td>EnUP</td>\n",
       "      <td>croissant petit</td>\n",
       "      <td>3100</td>\n",
       "    </tr>\n",
       "    <tr>\n",
       "      <th>38480</th>\n",
       "      <td>2008-09-19</td>\n",
       "      <td>0</td>\n",
       "      <td>LiUP</td>\n",
       "      <td>croissant petit</td>\n",
       "      <td>3000</td>\n",
       "    </tr>\n",
       "    <tr>\n",
       "      <th>37169</th>\n",
       "      <td>2008-09-10</td>\n",
       "      <td>0</td>\n",
       "      <td>LiUP</td>\n",
       "      <td>croissant petit</td>\n",
       "      <td>1800</td>\n",
       "    </tr>\n",
       "    <tr>\n",
       "      <th>16934</th>\n",
       "      <td>2008-04-25</td>\n",
       "      <td>0</td>\n",
       "      <td>LiUP</td>\n",
       "      <td>croissant petit</td>\n",
       "      <td>1500</td>\n",
       "    </tr>\n",
       "    <tr>\n",
       "      <th>3822</th>\n",
       "      <td>2008-01-27</td>\n",
       "      <td>0</td>\n",
       "      <td>EnUP</td>\n",
       "      <td>croissant petit</td>\n",
       "      <td>1200</td>\n",
       "    </tr>\n",
       "    <tr>\n",
       "      <th>50583</th>\n",
       "      <td>2008-12-09</td>\n",
       "      <td>0</td>\n",
       "      <td>LiUP</td>\n",
       "      <td>croissant petit</td>\n",
       "      <td>1070</td>\n",
       "    </tr>\n",
       "    <tr>\n",
       "      <th>14664</th>\n",
       "      <td>2008-04-10</td>\n",
       "      <td>0</td>\n",
       "      <td>LiUP</td>\n",
       "      <td>croissant petit</td>\n",
       "      <td>1000</td>\n",
       "    </tr>\n",
       "    <tr>\n",
       "      <th>42898</th>\n",
       "      <td>2008-10-18</td>\n",
       "      <td>0</td>\n",
       "      <td>LiUP</td>\n",
       "      <td>croissant petit</td>\n",
       "      <td>1000</td>\n",
       "    </tr>\n",
       "    <tr>\n",
       "      <th>4584</th>\n",
       "      <td>2008-02-02</td>\n",
       "      <td>0</td>\n",
       "      <td>LiUP</td>\n",
       "      <td>croissant petit</td>\n",
       "      <td>800</td>\n",
       "    </tr>\n",
       "    <tr>\n",
       "      <th>44646</th>\n",
       "      <td>2008-10-30</td>\n",
       "      <td>0</td>\n",
       "      <td>LiUP</td>\n",
       "      <td>croissant simple</td>\n",
       "      <td>770</td>\n",
       "    </tr>\n",
       "    <tr>\n",
       "      <th>152498</th>\n",
       "      <td>2010-10-19</td>\n",
       "      <td>0</td>\n",
       "      <td>EnUP</td>\n",
       "      <td>croissant simple</td>\n",
       "      <td>500</td>\n",
       "    </tr>\n",
       "    <tr>\n",
       "      <th>256527</th>\n",
       "      <td>2012-08-29</td>\n",
       "      <td>0</td>\n",
       "      <td>EnUP</td>\n",
       "      <td>croissant petit</td>\n",
       "      <td>500</td>\n",
       "    </tr>\n",
       "    <tr>\n",
       "      <th>105820</th>\n",
       "      <td>2009-11-25</td>\n",
       "      <td>0</td>\n",
       "      <td>EnUP</td>\n",
       "      <td>croissant simple</td>\n",
       "      <td>500</td>\n",
       "    </tr>\n",
       "    <tr>\n",
       "      <th>47199</th>\n",
       "      <td>2008-11-16</td>\n",
       "      <td>0</td>\n",
       "      <td>EnUP</td>\n",
       "      <td>croissant petit</td>\n",
       "      <td>500</td>\n",
       "    </tr>\n",
       "    <tr>\n",
       "      <th>96833</th>\n",
       "      <td>2009-09-30</td>\n",
       "      <td>0</td>\n",
       "      <td>EnUP</td>\n",
       "      <td>croissant simple</td>\n",
       "      <td>500</td>\n",
       "    </tr>\n",
       "    <tr>\n",
       "      <th>18110</th>\n",
       "      <td>2008-05-03</td>\n",
       "      <td>0</td>\n",
       "      <td>EnUP</td>\n",
       "      <td>croissant petit</td>\n",
       "      <td>450</td>\n",
       "    </tr>\n",
       "  </tbody>\n",
       "</table>\n",
       "</div>"
      ],
      "text/plain": [
       "       order_date  section store target_names_prod_by_prod  units_ordered\n",
       "19174  2008-05-10        0  EnUP           croissant petit           4100\n",
       "11935  2008-03-23        0  EnUP           croissant petit           3600\n",
       "26234  2008-06-26        0  LiUP           croissant petit           3500\n",
       "229246 2012-03-11        0  EnUP         palmera chocolate           3110\n",
       "39219  2008-09-24        0  EnUP           croissant petit           3100\n",
       "38480  2008-09-19        0  LiUP           croissant petit           3000\n",
       "37169  2008-09-10        0  LiUP           croissant petit           1800\n",
       "16934  2008-04-25        0  LiUP           croissant petit           1500\n",
       "3822   2008-01-27        0  EnUP           croissant petit           1200\n",
       "50583  2008-12-09        0  LiUP           croissant petit           1070\n",
       "14664  2008-04-10        0  LiUP           croissant petit           1000\n",
       "42898  2008-10-18        0  LiUP           croissant petit           1000\n",
       "4584   2008-02-02        0  LiUP           croissant petit            800\n",
       "44646  2008-10-30        0  LiUP          croissant simple            770\n",
       "152498 2010-10-19        0  EnUP          croissant simple            500\n",
       "256527 2012-08-29        0  EnUP           croissant petit            500\n",
       "105820 2009-11-25        0  EnUP          croissant simple            500\n",
       "47199  2008-11-16        0  EnUP           croissant petit            500\n",
       "96833  2009-09-30        0  EnUP          croissant simple            500\n",
       "18110  2008-05-03        0  EnUP           croissant petit            450"
      ]
     },
     "execution_count": 40,
     "metadata": {},
     "output_type": "execute_result"
    }
   ],
   "source": [
    "df_to_check.sort_values('units_ordered', ascending=False).head(20)"
   ]
  },
  {
   "cell_type": "code",
   "execution_count": 41,
   "metadata": {
    "scrolled": true
   },
   "outputs": [
    {
     "data": {
      "text/plain": [
       "<matplotlib.axes._subplots.AxesSubplot at 0x195f649c6d8>"
      ]
     },
     "execution_count": 41,
     "metadata": {},
     "output_type": "execute_result"
    },
    {
     "data": {
      "image/png": "[encoded data removed]",
      "text/plain": [
       "<Figure size 1296x288 with 1 Axes>"
      ]
     },
     "metadata": {
      "needs_background": "light"
     },
     "output_type": "display_data"
    }
   ],
   "source": [
    "df_to_check['units_ordered'].plot(figsize=(18,4))"
   ]
  },
  {
   "cell_type": "markdown",
   "metadata": {},
   "source": [
    "Same plot eliminating the largest values up to a threshold:"
   ]
  },
  {
   "cell_type": "code",
   "execution_count": 42,
   "metadata": {
    "scrolled": true
   },
   "outputs": [
    {
     "data": {
      "text/plain": [
       "<matplotlib.axes._subplots.AxesSubplot at 0x19591bb8da0>"
      ]
     },
     "execution_count": 42,
     "metadata": {},
     "output_type": "execute_result"
    },
    {
     "data": {
      "image/png": "[encoded data removed]",
      "text/plain": [
       "<Figure size 1296x288 with 1 Axes>"
      ]
     },
     "metadata": {
      "needs_background": "light"
     },
     "output_type": "display_data"
    }
   ],
   "source": [
    "n=800\n",
    "\n",
    "df_to_check[df_to_check['units_ordered']<n]['units_ordered'].plot(figsize=(18,4))"
   ]
  },
  {
   "cell_type": "markdown",
   "metadata": {},
   "source": [
    "As we can see, now our values present a more coherent shape."
   ]
  },
  {
   "cell_type": "markdown",
   "metadata": {},
   "source": [
    "Now, plotting a histogram of our values to see"
   ]
  },
  {
   "cell_type": "code",
   "execution_count": 44,
   "metadata": {
    "scrolled": true
   },
   "outputs": [
    {
     "data": {
      "image/png": "[encoded data removed]",
      "text/plain": [
       "<Figure size 432x288 with 1 Axes>"
      ]
     },
     "metadata": {
      "needs_background": "light"
     },
     "output_type": "display_data"
    }
   ],
   "source": [
    "histo1=plt.hist(df_to_check['units_ordered'], bins=82)"
   ]
  },
  {
   "cell_type": "code",
   "execution_count": 45,
   "metadata": {},
   "outputs": [
    {
     "data": {
      "text/plain": [
       "(array([6.47357e+05, 6.85800e+03, 2.67000e+02, 4.90000e+01, 2.40000e+01,\n",
       "        5.00000e+00, 7.00000e+00, 1.00000e+00, 3.00000e+00, 3.00000e+00,\n",
       "        5.00000e+00, 0.00000e+00, 0.00000e+00, 0.00000e+00, 0.00000e+00,\n",
       "        1.00000e+00, 1.00000e+00, 0.00000e+00, 0.00000e+00, 0.00000e+00,\n",
       "        2.00000e+00, 1.00000e+00, 0.00000e+00, 0.00000e+00, 1.00000e+00,\n",
       "        0.00000e+00, 0.00000e+00, 0.00000e+00, 0.00000e+00, 0.00000e+00,\n",
       "        1.00000e+00, 0.00000e+00, 0.00000e+00, 0.00000e+00, 0.00000e+00,\n",
       "        0.00000e+00, 1.00000e+00, 0.00000e+00, 0.00000e+00, 0.00000e+00,\n",
       "        0.00000e+00, 0.00000e+00, 0.00000e+00, 0.00000e+00, 0.00000e+00,\n",
       "        0.00000e+00, 0.00000e+00, 0.00000e+00, 0.00000e+00, 0.00000e+00,\n",
       "        0.00000e+00, 0.00000e+00, 0.00000e+00, 0.00000e+00, 0.00000e+00,\n",
       "        0.00000e+00, 0.00000e+00, 0.00000e+00, 0.00000e+00, 0.00000e+00,\n",
       "        1.00000e+00, 0.00000e+00, 2.00000e+00, 0.00000e+00, 0.00000e+00,\n",
       "        0.00000e+00, 0.00000e+00, 0.00000e+00, 0.00000e+00, 0.00000e+00,\n",
       "        1.00000e+00, 0.00000e+00, 1.00000e+00, 0.00000e+00, 0.00000e+00,\n",
       "        0.00000e+00, 0.00000e+00, 0.00000e+00, 0.00000e+00, 0.00000e+00,\n",
       "        0.00000e+00, 1.00000e+00]),\n",
       " array([   0.,   50.,  100.,  150.,  200.,  250.,  300.,  350.,  400.,\n",
       "         450.,  500.,  550.,  600.,  650.,  700.,  750.,  800.,  850.,\n",
       "         900.,  950., 1000., 1050., 1100., 1150., 1200., 1250., 1300.,\n",
       "        1350., 1400., 1450., 1500., 1550., 1600., 1650., 1700., 1750.,\n",
       "        1800., 1850., 1900., 1950., 2000., 2050., 2100., 2150., 2200.,\n",
       "        2250., 2300., 2350., 2400., 2450., 2500., 2550., 2600., 2650.,\n",
       "        2700., 2750., 2800., 2850., 2900., 2950., 3000., 3050., 3100.,\n",
       "        3150., 3200., 3250., 3300., 3350., 3400., 3450., 3500., 3550.,\n",
       "        3600., 3650., 3700., 3750., 3800., 3850., 3900., 3950., 4000.,\n",
       "        4050., 4100.]),\n",
       " <a list of 82 Patch objects>)"
      ]
     },
     "execution_count": 45,
     "metadata": {},
     "output_type": "execute_result"
    }
   ],
   "source": [
    "histo1"
   ]
  },
  {
   "cell_type": "markdown",
   "metadata": {},
   "source": [
    "Seeing that most of the weight is between 0 and 100, we plot the same, but for values higher than 100:"
   ]
  },
  {
   "cell_type": "code",
   "execution_count": 46,
   "metadata": {},
   "outputs": [
    {
     "data": {
      "image/png": "[encoded data removed]",
      "text/plain": [
       "<Figure size 432x288 with 1 Axes>"
      ]
     },
     "metadata": {
      "needs_background": "light"
     },
     "output_type": "display_data"
    }
   ],
   "source": [
    "histo2=plt.hist(df_to_check[df_to_check['units_ordered']>100]['units_ordered'], bins=80)"
   ]
  },
  {
   "cell_type": "code",
   "execution_count": 47,
   "metadata": {},
   "outputs": [
    {
     "data": {
      "text/plain": [
       "(array([140.,  51.,  11.,   9.,   3.,   2.,   4.,   5.,   0.,   0.,   0.,\n",
       "          0.,   0.,   2.,   0.,   0.,   0.,   2.,   0.,   1.,   0.,   1.,\n",
       "          0.,   0.,   0.,   0.,   0.,   1.,   0.,   0.,   0.,   0.,   0.,\n",
       "          1.,   0.,   0.,   0.,   0.,   0.,   0.,   0.,   0.,   0.,   0.,\n",
       "          0.,   0.,   0.,   0.,   0.,   0.,   0.,   0.,   0.,   0.,   0.,\n",
       "          0.,   0.,   1.,   0.,   1.,   1.,   0.,   0.,   0.,   0.,   0.,\n",
       "          0.,   1.,   0.,   1.,   0.,   0.,   0.,   0.,   0.,   0.,   0.,\n",
       "          0.,   0.,   1.]),\n",
       " array([ 101.    ,  150.9875,  200.975 ,  250.9625,  300.95  ,  350.9375,\n",
       "         400.925 ,  450.9125,  500.9   ,  550.8875,  600.875 ,  650.8625,\n",
       "         700.85  ,  750.8375,  800.825 ,  850.8125,  900.8   ,  950.7875,\n",
       "        1000.775 , 1050.7625, 1100.75  , 1150.7375, 1200.725 , 1250.7125,\n",
       "        1300.7   , 1350.6875, 1400.675 , 1450.6625, 1500.65  , 1550.6375,\n",
       "        1600.625 , 1650.6125, 1700.6   , 1750.5875, 1800.575 , 1850.5625,\n",
       "        1900.55  , 1950.5375, 2000.525 , 2050.5125, 2100.5   , 2150.4875,\n",
       "        2200.475 , 2250.4625, 2300.45  , 2350.4375, 2400.425 , 2450.4125,\n",
       "        2500.4   , 2550.3875, 2600.375 , 2650.3625, 2700.35  , 2750.3375,\n",
       "        2800.325 , 2850.3125, 2900.3   , 2950.2875, 3000.275 , 3050.2625,\n",
       "        3100.25  , 3150.2375, 3200.225 , 3250.2125, 3300.2   , 3350.1875,\n",
       "        3400.175 , 3450.1625, 3500.15  , 3550.1375, 3600.125 , 3650.1125,\n",
       "        3700.1   , 3750.0875, 3800.075 , 3850.0625, 3900.05  , 3950.0375,\n",
       "        4000.025 , 4050.0125, 4100.    ]),\n",
       " <a list of 80 Patch objects>)"
      ]
     },
     "execution_count": 47,
     "metadata": {},
     "output_type": "execute_result"
    }
   ],
   "source": [
    "histo2"
   ]
  },
  {
   "cell_type": "code",
   "execution_count": 48,
   "metadata": {
    "scrolled": true
   },
   "outputs": [
    {
     "data": {
      "text/plain": [
       "239.0"
      ]
     },
     "execution_count": 48,
     "metadata": {},
     "output_type": "execute_result"
    }
   ],
   "source": [
    "histo2[0].sum()"
   ]
  },
  {
   "cell_type": "markdown",
   "metadata": {},
   "source": [
    "And, finally, let's take a look on this extreme data:"
   ]
  },
  {
   "cell_type": "code",
   "execution_count": 49,
   "metadata": {
    "scrolled": true
   },
   "outputs": [
    {
     "data": {
      "text/html": [
       "<div>\n",
       "<style scoped>\n",
       "    .dataframe tbody tr th:only-of-type {\n",
       "        vertical-align: middle;\n",
       "    }\n",
       "\n",
       "    .dataframe tbody tr th {\n",
       "        vertical-align: top;\n",
       "    }\n",
       "\n",
       "    .dataframe thead th {\n",
       "        text-align: right;\n",
       "    }\n",
       "</style>\n",
       "<table border=\"1\" class=\"dataframe\">\n",
       "  <thead>\n",
       "    <tr style=\"text-align: right;\">\n",
       "      <th></th>\n",
       "      <th>order_date</th>\n",
       "      <th>section</th>\n",
       "      <th>store</th>\n",
       "      <th>target_names_prod_by_prod</th>\n",
       "      <th>units_ordered</th>\n",
       "    </tr>\n",
       "  </thead>\n",
       "  <tbody>\n",
       "    <tr>\n",
       "      <th>19174</th>\n",
       "      <td>2008-05-10</td>\n",
       "      <td>0</td>\n",
       "      <td>EnUP</td>\n",
       "      <td>croissant petit</td>\n",
       "      <td>4100</td>\n",
       "    </tr>\n",
       "    <tr>\n",
       "      <th>11935</th>\n",
       "      <td>2008-03-23</td>\n",
       "      <td>0</td>\n",
       "      <td>EnUP</td>\n",
       "      <td>croissant petit</td>\n",
       "      <td>3600</td>\n",
       "    </tr>\n",
       "    <tr>\n",
       "      <th>229246</th>\n",
       "      <td>2012-03-11</td>\n",
       "      <td>0</td>\n",
       "      <td>EnUP</td>\n",
       "      <td>palmera chocolate</td>\n",
       "      <td>3110</td>\n",
       "    </tr>\n",
       "    <tr>\n",
       "      <th>39219</th>\n",
       "      <td>2008-09-24</td>\n",
       "      <td>0</td>\n",
       "      <td>EnUP</td>\n",
       "      <td>croissant petit</td>\n",
       "      <td>3100</td>\n",
       "    </tr>\n",
       "    <tr>\n",
       "      <th>3822</th>\n",
       "      <td>2008-01-27</td>\n",
       "      <td>0</td>\n",
       "      <td>EnUP</td>\n",
       "      <td>croissant petit</td>\n",
       "      <td>1200</td>\n",
       "    </tr>\n",
       "    <tr>\n",
       "      <th>152498</th>\n",
       "      <td>2010-10-19</td>\n",
       "      <td>0</td>\n",
       "      <td>EnUP</td>\n",
       "      <td>croissant simple</td>\n",
       "      <td>500</td>\n",
       "    </tr>\n",
       "    <tr>\n",
       "      <th>47199</th>\n",
       "      <td>2008-11-16</td>\n",
       "      <td>0</td>\n",
       "      <td>EnUP</td>\n",
       "      <td>croissant petit</td>\n",
       "      <td>500</td>\n",
       "    </tr>\n",
       "    <tr>\n",
       "      <th>105820</th>\n",
       "      <td>2009-11-25</td>\n",
       "      <td>0</td>\n",
       "      <td>EnUP</td>\n",
       "      <td>croissant simple</td>\n",
       "      <td>500</td>\n",
       "    </tr>\n",
       "    <tr>\n",
       "      <th>256527</th>\n",
       "      <td>2012-08-29</td>\n",
       "      <td>0</td>\n",
       "      <td>EnUP</td>\n",
       "      <td>croissant petit</td>\n",
       "      <td>500</td>\n",
       "    </tr>\n",
       "    <tr>\n",
       "      <th>96833</th>\n",
       "      <td>2009-09-30</td>\n",
       "      <td>0</td>\n",
       "      <td>EnUP</td>\n",
       "      <td>croissant simple</td>\n",
       "      <td>500</td>\n",
       "    </tr>\n",
       "  </tbody>\n",
       "</table>\n",
       "</div>"
      ],
      "text/plain": [
       "       order_date  section store target_names_prod_by_prod  units_ordered\n",
       "19174  2008-05-10        0  EnUP           croissant petit           4100\n",
       "11935  2008-03-23        0  EnUP           croissant petit           3600\n",
       "229246 2012-03-11        0  EnUP         palmera chocolate           3110\n",
       "39219  2008-09-24        0  EnUP           croissant petit           3100\n",
       "3822   2008-01-27        0  EnUP           croissant petit           1200\n",
       "152498 2010-10-19        0  EnUP          croissant simple            500\n",
       "47199  2008-11-16        0  EnUP           croissant petit            500\n",
       "105820 2009-11-25        0  EnUP          croissant simple            500\n",
       "256527 2012-08-29        0  EnUP           croissant petit            500\n",
       "96833  2009-09-30        0  EnUP          croissant simple            500"
      ]
     },
     "execution_count": 49,
     "metadata": {},
     "output_type": "execute_result"
    }
   ],
   "source": [
    "df_to_check[df_to_check['store']=='EnUP'].sort_values('units_ordered', ascending=False).head(10)"
   ]
  },
  {
   "cell_type": "markdown",
   "metadata": {},
   "source": [
    "And compare it with the average values for an specific product:"
   ]
  },
  {
   "cell_type": "code",
   "execution_count": 50,
   "metadata": {},
   "outputs": [
    {
     "data": {
      "text/html": [
       "<div>\n",
       "<style scoped>\n",
       "    .dataframe tbody tr th:only-of-type {\n",
       "        vertical-align: middle;\n",
       "    }\n",
       "\n",
       "    .dataframe tbody tr th {\n",
       "        vertical-align: top;\n",
       "    }\n",
       "\n",
       "    .dataframe thead th {\n",
       "        text-align: right;\n",
       "    }\n",
       "</style>\n",
       "<table border=\"1\" class=\"dataframe\">\n",
       "  <thead>\n",
       "    <tr style=\"text-align: right;\">\n",
       "      <th></th>\n",
       "      <th>store</th>\n",
       "      <th>target_names_prod_by_prod</th>\n",
       "      <th>section</th>\n",
       "      <th>units_ordered</th>\n",
       "    </tr>\n",
       "  </thead>\n",
       "  <tbody>\n",
       "    <tr>\n",
       "      <th>50</th>\n",
       "      <td>EnUP</td>\n",
       "      <td>baguette</td>\n",
       "      <td>0.0</td>\n",
       "      <td>0.000000</td>\n",
       "    </tr>\n",
       "    <tr>\n",
       "      <th>51</th>\n",
       "      <td>EnUP</td>\n",
       "      <td>croissant petit</td>\n",
       "      <td>0.0</td>\n",
       "      <td>19.159587</td>\n",
       "    </tr>\n",
       "    <tr>\n",
       "      <th>52</th>\n",
       "      <td>EnUP</td>\n",
       "      <td>croissant simple</td>\n",
       "      <td>0.0</td>\n",
       "      <td>40.303379</td>\n",
       "    </tr>\n",
       "    <tr>\n",
       "      <th>53</th>\n",
       "      <td>EnUP</td>\n",
       "      <td>milhojas frambuesa</td>\n",
       "      <td>0.0</td>\n",
       "      <td>0.211069</td>\n",
       "    </tr>\n",
       "    <tr>\n",
       "      <th>54</th>\n",
       "      <td>EnUP</td>\n",
       "      <td>mousse tres chocolates</td>\n",
       "      <td>0.0</td>\n",
       "      <td>0.449353</td>\n",
       "    </tr>\n",
       "    <tr>\n",
       "      <th>55</th>\n",
       "      <td>EnUP</td>\n",
       "      <td>palmera chocolate</td>\n",
       "      <td>0.0</td>\n",
       "      <td>4.814232</td>\n",
       "    </tr>\n",
       "    <tr>\n",
       "      <th>56</th>\n",
       "      <td>EnUP</td>\n",
       "      <td>postre de fresas y mascarpone</td>\n",
       "      <td>0.0</td>\n",
       "      <td>0.066814</td>\n",
       "    </tr>\n",
       "    <tr>\n",
       "      <th>57</th>\n",
       "      <td>EnUP</td>\n",
       "      <td>tarta de manzana</td>\n",
       "      <td>0.0</td>\n",
       "      <td>0.111398</td>\n",
       "    </tr>\n",
       "    <tr>\n",
       "      <th>58</th>\n",
       "      <td>EnUP</td>\n",
       "      <td>tarta opera</td>\n",
       "      <td>0.0</td>\n",
       "      <td>0.309478</td>\n",
       "    </tr>\n",
       "    <tr>\n",
       "      <th>59</th>\n",
       "      <td>EnUP</td>\n",
       "      <td>tortel</td>\n",
       "      <td>0.0</td>\n",
       "      <td>44.982168</td>\n",
       "    </tr>\n",
       "  </tbody>\n",
       "</table>\n",
       "</div>"
      ],
      "text/plain": [
       "   store      target_names_prod_by_prod  section  units_ordered\n",
       "50  EnUP                       baguette      0.0       0.000000\n",
       "51  EnUP                croissant petit      0.0      19.159587\n",
       "52  EnUP               croissant simple      0.0      40.303379\n",
       "53  EnUP             milhojas frambuesa      0.0       0.211069\n",
       "54  EnUP         mousse tres chocolates      0.0       0.449353\n",
       "55  EnUP              palmera chocolate      0.0       4.814232\n",
       "56  EnUP  postre de fresas y mascarpone      0.0       0.066814\n",
       "57  EnUP               tarta de manzana      0.0       0.111398\n",
       "58  EnUP                    tarta opera      0.0       0.309478\n",
       "59  EnUP                         tortel      0.0      44.982168"
      ]
     },
     "execution_count": 50,
     "metadata": {},
     "output_type": "execute_result"
    }
   ],
   "source": [
    "aux3=df_to_check.groupby(['store', 'target_names_prod_by_prod']).mean().reset_index()\n",
    "\n",
    "aux3[aux3['store']=='EnUP']"
   ]
  },
  {
   "cell_type": "markdown",
   "metadata": {},
   "source": [
    "It can be seen that the peaks numbers for this particular store are between 25 and 200 times their mean order."
   ]
  },
  {
   "cell_type": "markdown",
   "metadata": {},
   "source": [
    "**First preliminary conclussions:**\n",
    "\n",
    "We can see that, in our whole data, only 239 values are greater than 100, and even being such the case, most of them (191 from the 239 values) have values not superior to 200, what leaves us with only 48 values greater than 200.\n",
    "\n",
    "Even though, this data could be anomalies in the time series explained by events.\n",
    "\n",
    "Football matches, national or local holidays, or large custom orders, such as weddings, could be the reason for this strange data.\n",
    "\n",
    "But, as the focus of our project is not at large custom orders (indeed, the client handles them ad hoc, and what it has asked us to do is to provide a solution for the day-to-day orders), there is very little interest for us in such kind of anomalies.\n",
    "\n",
    "However, we are interested in trying to keep the effects of everyday events such as football matches, holidays or the weather, in the daily orders from the stores to the factory.\n",
    "\n",
    "So, perhaps keeping an intermediate threshold would do the trick, because:\n",
    "\n",
    "* the very large values are just a few and can be only due to a mistake in the order or due to large custom orders from specific clients for special events,\n",
    "\n",
    "\n",
    "* keeping at the same time some of the high values (high, but not extravagantly high), that are not produced by the effects above, but to the ones that we are interested in trying to encompass and explain with our model."
   ]
  },
  {
   "cell_type": "markdown",
   "metadata": {},
   "source": [
    "**But:**\n",
    "\n",
    "Before proceeding to do so, there is still an interesting question pending: is this phenomenom appearing because of operations with the data, or does it come from the original dataset?\n",
    "\n",
    "We are going to check the highest values in our original dataset now:"
   ]
  },
  {
   "cell_type": "code",
   "execution_count": 51,
   "metadata": {
    "scrolled": true
   },
   "outputs": [
    {
     "name": "stdout",
     "output_type": "stream",
     "text": [
      "320290     1210\n",
      "44061       400\n",
      "224278      300\n",
      "45286       300\n",
      "1409477     300\n",
      "1409476     300\n",
      "535338      300\n",
      "97221       300\n",
      "224277      300\n",
      "311534      300\n",
      "43399       300\n",
      "332583      300\n",
      "1250620     260\n",
      "1527766     250\n",
      "349473      250\n",
      "1155420     240\n",
      "174859      200\n",
      "1363332     200\n",
      "332584      200\n",
      "639933      200\n",
      "Name: GeUP, dtype: int64\n"
     ]
    }
   ],
   "source": [
    "df_original2=df_original.dropna()\n",
    "\n",
    "stores=list(df_original2.columns[4:])\n",
    "\n",
    "results_dict=dict()\n",
    "total_list=list()\n",
    "\n",
    "for element in stores:\n",
    "    \n",
    "    values=df_original2[element]\n",
    "    \n",
    "    values2=values.str.split(\",\").apply(lambda l: int(l[0]))\n",
    "    \n",
    "    total_list.append(list(values2))\n",
    "    \n",
    "    results_dict[element]=values2\n",
    "\n",
    "print(values2.sort_values(ascending=False)[:20])"
   ]
  },
  {
   "cell_type": "code",
   "execution_count": 70,
   "metadata": {},
   "outputs": [],
   "source": [
    "total_list_flat = [item for sublist in total_list for item in sublist]"
   ]
  },
  {
   "cell_type": "markdown",
   "metadata": {},
   "source": [
    "For starters, we take the series of values for the last store and take a look on it:"
   ]
  },
  {
   "cell_type": "code",
   "execution_count": 52,
   "metadata": {},
   "outputs": [
    {
     "data": {
      "text/plain": [
       "<matplotlib.axes._subplots.AxesSubplot at 0x1960729da20>"
      ]
     },
     "execution_count": 52,
     "metadata": {},
     "output_type": "execute_result"
    },
    {
     "data": {
      "image/png": "[encoded data removed]",
      "text/plain": [
       "<Figure size 1296x288 with 1 Axes>"
      ]
     },
     "metadata": {
      "needs_background": "light"
     },
     "output_type": "display_data"
    }
   ],
   "source": [
    "values2.plot(figsize=(18,4))"
   ]
  },
  {
   "cell_type": "markdown",
   "metadata": {},
   "source": [
    "We can see that there is just one value that is disproportionatelly large when compared to the rest, and that by removing this extreme value the series presents a much better appearance:"
   ]
  },
  {
   "cell_type": "code",
   "execution_count": 54,
   "metadata": {
    "scrolled": true
   },
   "outputs": [
    {
     "data": {
      "text/plain": [
       "<matplotlib.axes._subplots.AxesSubplot at 0x1959649c588>"
      ]
     },
     "execution_count": 54,
     "metadata": {},
     "output_type": "execute_result"
    },
    {
     "data": {
      "image/png": "[encoded data removed]",
      "text/plain": [
       "<Figure size 1296x288 with 1 Axes>"
      ]
     },
     "metadata": {
      "needs_background": "light"
     },
     "output_type": "display_data"
    }
   ],
   "source": [
    "to_drop=values2[values2==values2.max()].index\n",
    "\n",
    "values2.drop(to_drop, inplace=True)\n",
    "values2.plot(figsize=(18,4))"
   ]
  },
  {
   "cell_type": "markdown",
   "metadata": {},
   "source": [
    "We now want to examine the results for another different store:"
   ]
  },
  {
   "cell_type": "code",
   "execution_count": 55,
   "metadata": {
    "scrolled": false
   },
   "outputs": [
    {
     "data": {
      "text/plain": [
       "<matplotlib.axes._subplots.AxesSubplot at 0x1959370c080>"
      ]
     },
     "execution_count": 55,
     "metadata": {},
     "output_type": "execute_result"
    },
    {
     "data": {
      "image/png": "[encoded data removed]",
      "text/plain": [
       "<Figure size 1296x288 with 1 Axes>"
      ]
     },
     "metadata": {
      "needs_background": "light"
     },
     "output_type": "display_data"
    }
   ],
   "source": [
    "results_dict['EnUP'].plot(figsize=(18,4))"
   ]
  },
  {
   "cell_type": "markdown",
   "metadata": {},
   "source": [
    "Again, we use a threshold:"
   ]
  },
  {
   "cell_type": "code",
   "execution_count": 56,
   "metadata": {},
   "outputs": [
    {
     "data": {
      "text/plain": [
       "<matplotlib.axes._subplots.AxesSubplot at 0x1960832ea90>"
      ]
     },
     "execution_count": 56,
     "metadata": {},
     "output_type": "execute_result"
    },
    {
     "data": {
      "image/png": "[encoded data removed]",
      "text/plain": [
       "<Figure size 1296x288 with 1 Axes>"
      ]
     },
     "metadata": {
      "needs_background": "light"
     },
     "output_type": "display_data"
    }
   ],
   "source": [
    "n=1000\n",
    "\n",
    "enup_values=results_dict['EnUP']\n",
    "\n",
    "enup_values[enup_values<n].plot(figsize=(18,4))"
   ]
  },
  {
   "cell_type": "markdown",
   "metadata": {},
   "source": [
    "And, again, removing only just a bunch of the values leaves us with a much more beautiful series."
   ]
  },
  {
   "cell_type": "markdown",
   "metadata": {},
   "source": [
    "Then, we plot the whole list of values, regardless of their store:"
   ]
  },
  {
   "cell_type": "code",
   "execution_count": 80,
   "metadata": {
    "scrolled": true
   },
   "outputs": [
    {
     "data": {
      "text/plain": [
       "<matplotlib.axes._subplots.AxesSubplot at 0x195df1a4128>"
      ]
     },
     "execution_count": 80,
     "metadata": {},
     "output_type": "execute_result"
    },
    {
     "data": {
      "image/png": "[encoded data removed]",
      "text/plain": [
       "<Figure size 1296x288 with 1 Axes>"
      ]
     },
     "metadata": {
      "needs_background": "light"
     },
     "output_type": "display_data"
    }
   ],
   "source": [
    "pd.Series(total_list_flat).plot(figsize=(18,4))"
   ]
  },
  {
   "cell_type": "markdown",
   "metadata": {},
   "source": [
    "As we can see, the bevahiour observed in our data is also observed in the original data."
   ]
  },
  {
   "cell_type": "markdown",
   "metadata": {},
   "source": [
    "**Finally:**\n",
    "\n",
    "We should compare directly the highest values in the original dataset with our own.\n",
    "\n",
    "To do so, let's take a look on the highest values of the original dataset:"
   ]
  },
  {
   "cell_type": "code",
   "execution_count": 81,
   "metadata": {
    "scrolled": true
   },
   "outputs": [
    {
     "data": {
      "text/plain": [
       "[85408,\n",
       " 10295,\n",
       " 9999,\n",
       " 9999,\n",
       " 8000,\n",
       " 7000,\n",
       " 7000,\n",
       " 6011,\n",
       " 6000,\n",
       " 6000,\n",
       " 6000,\n",
       " 6000,\n",
       " 5500,\n",
       " 5500,\n",
       " 5052,\n",
       " 5000,\n",
       " 5000,\n",
       " 5000,\n",
       " 5000,\n",
       " 5000]"
      ]
     },
     "execution_count": 81,
     "metadata": {},
     "output_type": "execute_result"
    }
   ],
   "source": [
    "total_list_flat[0:20]"
   ]
  },
  {
   "cell_type": "code",
   "execution_count": 88,
   "metadata": {
    "scrolled": true
   },
   "outputs": [],
   "source": [
    "total_list_set=set(total_list_flat)"
   ]
  },
  {
   "cell_type": "code",
   "execution_count": 89,
   "metadata": {},
   "outputs": [],
   "source": [
    "our_set=set(df_to_check['units_ordered'])"
   ]
  },
  {
   "cell_type": "code",
   "execution_count": 90,
   "metadata": {},
   "outputs": [
    {
     "data": {
      "text/plain": [
       "{405}"
      ]
     },
     "execution_count": 90,
     "metadata": {},
     "output_type": "execute_result"
    }
   ],
   "source": [
    "our_set-total_list_set"
   ]
  },
  {
   "cell_type": "markdown",
   "metadata": {},
   "source": [
    "There is only one value that is not in both sets."
   ]
  },
  {
   "cell_type": "code",
   "execution_count": null,
   "metadata": {},
   "outputs": [],
   "source": [
    "## BOXPLOTS BY PRODUCT AND STORE"
   ]
  },
  {
   "cell_type": "code",
   "execution_count": null,
   "metadata": {},
   "outputs": [],
   "source": [
    "df_to_check.head()"
   ]
  },
  {
   "cell_type": "code",
   "execution_count": null,
   "metadata": {},
   "outputs": [],
   "source": []
  },
  {
   "cell_type": "code",
   "execution_count": null,
   "metadata": {},
   "outputs": [],
   "source": []
  },
  {
   "cell_type": "code",
   "execution_count": null,
   "metadata": {},
   "outputs": [],
   "source": []
  },
  {
   "cell_type": "code",
   "execution_count": null,
   "metadata": {},
   "outputs": [],
   "source": [
    "## SOME OF THE STORES SEEM TO HAVE 0 ORDERS."
   ]
  },
  {
   "cell_type": "code",
   "execution_count": null,
   "metadata": {},
   "outputs": [],
   "source": []
  },
  {
   "cell_type": "code",
   "execution_count": null,
   "metadata": {},
   "outputs": [],
   "source": []
  },
  {
   "cell_type": "code",
   "execution_count": null,
   "metadata": {},
   "outputs": [],
   "source": [
    "df_to_check"
   ]
  },
  {
   "cell_type": "code",
   "execution_count": 90,
   "metadata": {},
   "outputs": [],
   "source": [
    "aaa = pd.pivot_table(data=df_for_work, index=['store', 'target_names_prod_by_prod'],)"
   ]
  },
  {
   "cell_type": "code",
   "execution_count": 91,
   "metadata": {},
   "outputs": [
    {
     "data": {
      "text/html": [
       "<div>\n",
       "<style scoped>\n",
       "    .dataframe tbody tr th:only-of-type {\n",
       "        vertical-align: middle;\n",
       "    }\n",
       "\n",
       "    .dataframe tbody tr th {\n",
       "        vertical-align: top;\n",
       "    }\n",
       "\n",
       "    .dataframe thead th {\n",
       "        text-align: right;\n",
       "    }\n",
       "</style>\n",
       "<table border=\"1\" class=\"dataframe\">\n",
       "  <thead>\n",
       "    <tr style=\"text-align: right;\">\n",
       "      <th></th>\n",
       "      <th></th>\n",
       "      <th>section</th>\n",
       "      <th>units_ordered</th>\n",
       "    </tr>\n",
       "    <tr>\n",
       "      <th>store</th>\n",
       "      <th>target_names_prod_by_prod</th>\n",
       "      <th></th>\n",
       "      <th></th>\n",
       "    </tr>\n",
       "  </thead>\n",
       "  <tbody>\n",
       "    <tr>\n",
       "      <td rowspan=\"5\" valign=\"top\">AaUP</td>\n",
       "      <td>baguette</td>\n",
       "      <td>0</td>\n",
       "      <td>11.477378</td>\n",
       "    </tr>\n",
       "    <tr>\n",
       "      <td>croissant petit</td>\n",
       "      <td>0</td>\n",
       "      <td>7.508097</td>\n",
       "    </tr>\n",
       "    <tr>\n",
       "      <td>croissant simple</td>\n",
       "      <td>0</td>\n",
       "      <td>16.894885</td>\n",
       "    </tr>\n",
       "    <tr>\n",
       "      <td>milhojas frambuesa</td>\n",
       "      <td>0</td>\n",
       "      <td>2.114654</td>\n",
       "    </tr>\n",
       "    <tr>\n",
       "      <td>mousse tres chocolates</td>\n",
       "      <td>0</td>\n",
       "      <td>0.153201</td>\n",
       "    </tr>\n",
       "    <tr>\n",
       "      <td>...</td>\n",
       "      <td>...</td>\n",
       "      <td>...</td>\n",
       "      <td>...</td>\n",
       "    </tr>\n",
       "    <tr>\n",
       "      <td rowspan=\"5\" valign=\"top\">ZiUO</td>\n",
       "      <td>palmera chocolate</td>\n",
       "      <td>0</td>\n",
       "      <td>1.660639</td>\n",
       "    </tr>\n",
       "    <tr>\n",
       "      <td>postre de fresas y mascarpone</td>\n",
       "      <td>0</td>\n",
       "      <td>4.679483</td>\n",
       "    </tr>\n",
       "    <tr>\n",
       "      <td>tarta de manzana</td>\n",
       "      <td>0</td>\n",
       "      <td>0.000235</td>\n",
       "    </tr>\n",
       "    <tr>\n",
       "      <td>tarta opera</td>\n",
       "      <td>0</td>\n",
       "      <td>0.000000</td>\n",
       "    </tr>\n",
       "    <tr>\n",
       "      <td>tortel</td>\n",
       "      <td>0</td>\n",
       "      <td>0.000000</td>\n",
       "    </tr>\n",
       "  </tbody>\n",
       "</table>\n",
       "<p>190 rows × 2 columns</p>\n",
       "</div>"
      ],
      "text/plain": [
       "                                     section  units_ordered\n",
       "store target_names_prod_by_prod                            \n",
       "AaUP  baguette                             0      11.477378\n",
       "      croissant petit                      0       7.508097\n",
       "      croissant simple                     0      16.894885\n",
       "      milhojas frambuesa                   0       2.114654\n",
       "      mousse tres chocolates               0       0.153201\n",
       "...                                      ...            ...\n",
       "ZiUO  palmera chocolate                    0       1.660639\n",
       "      postre de fresas y mascarpone        0       4.679483\n",
       "      tarta de manzana                     0       0.000235\n",
       "      tarta opera                          0       0.000000\n",
       "      tortel                               0       0.000000\n",
       "\n",
       "[190 rows x 2 columns]"
      ]
     },
     "execution_count": 91,
     "metadata": {},
     "output_type": "execute_result"
    }
   ],
   "source": [
    "aaa"
   ]
  }
 ],
 "metadata": {
  "kernelspec": {
   "display_name": "Python 3",
   "language": "python",
   "name": "python3"
  },
  "language_info": {
   "codemirror_mode": {
    "name": "ipython",
    "version": 3
   },
   "file_extension": ".py",
   "mimetype": "text/x-python",
   "name": "python",
   "nbconvert_exporter": "python",
   "pygments_lexer": "ipython3",
   "version": "3.7.3"
  }
 },
 "nbformat": 4,
 "nbformat_minor": 2
}
