{
 "cells": [
  {
   "cell_type": "markdown",
   "metadata": {},
   "source": [
    "# FINAL CLEANING AND DATA QUALITY CHECKS"
   ]
  },
  {
   "cell_type": "markdown",
   "metadata": {},
   "source": [
    "Along this script we are going to undertake the following tasks:\n",
    "\n",
    "1. Duplicates analysis\n",
    "2. Nulls\n",
    "3. Dates analysis: (outliers,etc)\n",
    "4. Orders analysis (outliers,etc)"
   ]
  },
  {
   "cell_type": "markdown",
   "metadata": {},
   "source": [
    "# Importing libraries and storing the dataframe in memory"
   ]
  },
  {
   "cell_type": "code",
   "execution_count": null,
   "metadata": {},
   "outputs": [],
   "source": [
    "# Importing packages:\n",
    "\n",
    "import pandas as pd\n",
    "import matplotlib.pyplot as plt\n",
    "import numpy as np\n",
    "import seaborn as sns\n",
    "\n",
    "%matplotlib inline\n",
    "pd.options.display.max_columns = None"
   ]
  },
  {
   "cell_type": "code",
   "execution_count": null,
   "metadata": {},
   "outputs": [],
   "source": [
    "# Defining the search path of the file, the name and the separator:\n",
    "\n",
    "file_path = \"../../data/01_raw/\"\n",
    "file_name = \"b2-transactions.csv\" #'b2-transactions_sample.csv' \n",
    "exit_path = \"../../data/02_intermediate/\"\n",
    "original_file_path = file_path + \"b2.txt\"\n",
    "\n",
    "# Column names\n",
    "col_names = [\"product_id\",\n",
    "          \"description\",\n",
    "          \"order_date\",\n",
    "          \"section\",\n",
    "          \"BmUP\",\n",
    "          \"VeUp\",\n",
    "          \"CzUP\",\n",
    "          \"AaUP\",\n",
    "          \"SeUP\",\n",
    "          \"JPUP\",\n",
    "          \"RzUP\",\n",
    "          \"AeUP\",\n",
    "          \"LiUP\",\n",
    "          \"EnUP\",\n",
    "          \"GoUP\",\n",
    "          \"GrUP\",\n",
    "          \"AnUP\",\n",
    "          \"MoUP\",\n",
    "          \"PoUP\",\n",
    "          \"MsUP\",\n",
    "          \"ViUP\",\n",
    "          \"ZiUO\",\n",
    "          \"GeUP\"]\n",
    "filtered_file_name=\"c1-filtered_transactions.csv\"\n",
    "\n",
    "sep=\";\""
   ]
  },
  {
   "cell_type": "code",
   "execution_count": null,
   "metadata": {},
   "outputs": [],
   "source": [
    "target_products_file_name = exit_path + 'filtered_transactions_not_clean.csv' \n"
   ]
  },
  {
   "cell_type": "code",
   "execution_count": null,
   "metadata": {},
   "outputs": [],
   "source": [
    "df_transactions_filtered = pd.read_csv(target_products_file_name, sep = sep)"
   ]
  },
  {
   "cell_type": "code",
   "execution_count": null,
   "metadata": {},
   "outputs": [],
   "source": [
    "df_transactions_filtered.head()"
   ]
  },
  {
   "cell_type": "code",
   "execution_count": null,
   "metadata": {},
   "outputs": [],
   "source": [
    "df_transactions_filtered.shape"
   ]
  },
  {
   "cell_type": "code",
   "execution_count": null,
   "metadata": {},
   "outputs": [],
   "source": [
    "df_transactions_filtered.info()"
   ]
  },
  {
   "cell_type": "markdown",
   "metadata": {},
   "source": [
    "\"order_date\" should be date-type but is not, and \"units_ordered\" should be numeric, but they are not, and there are some nulls... Lets treat the nulls before parsing to the right types. "
   ]
  },
  {
   "cell_type": "markdown",
   "metadata": {},
   "source": [
    "Before continuing, lets parse the dataframe to the right column types:"
   ]
  },
  {
   "cell_type": "markdown",
   "metadata": {},
   "source": [
    "# Parsing column types"
   ]
  },
  {
   "cell_type": "markdown",
   "metadata": {},
   "source": [
    "### Parsing column \"order_date\""
   ]
  },
  {
   "cell_type": "code",
   "execution_count": null,
   "metadata": {},
   "outputs": [],
   "source": [
    "# Parsing \"order_date\" to date type \n",
    "df_transactions_filtered[\"order_date\"] = pd.to_datetime(df_transactions_filtered[\"order_date\"])"
   ]
  },
  {
   "cell_type": "code",
   "execution_count": null,
   "metadata": {},
   "outputs": [],
   "source": [
    "df_transactions_filtered.head(2)"
   ]
  },
  {
   "cell_type": "markdown",
   "metadata": {},
   "source": [
    "Before cleaning column \"units_ordered\" we need to clean the null values. Then we will be able to parse it to the right numeric type, which is int."
   ]
  },
  {
   "cell_type": "markdown",
   "metadata": {},
   "source": [
    "## NULLs Analysis\n"
   ]
  },
  {
   "cell_type": "code",
   "execution_count": null,
   "metadata": {},
   "outputs": [],
   "source": [
    "df_transactions_filtered.isnull().sum()"
   ]
  },
  {
   "cell_type": "markdown",
   "metadata": {},
   "source": [
    "As we saw before, there are only nulls in \"units_ordered\". The good news is that it does seem to be many of them, lets have a look at it before we decide what to do to them:"
   ]
  },
  {
   "cell_type": "markdown",
   "metadata": {},
   "source": [
    "After some debate, messy EDA, and careful consideration we decided to eliminate the lines for the following reasons:\n",
    "\n",
    "1) It is possible that these lines constitute \"duplicates\" (duplicated in all but their values) for lines that hold a value. If this is the case, these lines would be treated as duplicates in the next step of the quality checks (in which we will see that dropping duplicates is the right move).\n",
    "\n",
    "2) In case that these lines are not duplicated in the rest of the dataset, removing them will make no difference because we currently don't have the real value of number of units placed in the order, so, when the time comes and we will check for missing value in the series, we will appropriately deal with the matter."
   ]
  },
  {
   "cell_type": "code",
   "execution_count": null,
   "metadata": {},
   "outputs": [],
   "source": [
    "# Proving point 1: lines with nulls may be due to duplicates \n",
    "df_original = pd.read_csv(original_file_path, sep = sep, encoding = \"ISO-8859-1\",names = col_names )\n",
    "df_original[(df_original[\"order_date\"]==\"1/1/2009 0:00:00\")&(df_original[\"description\"].str.contains(\"PALMERAS DE TRUFA\"))]"
   ]
  },
  {
   "cell_type": "markdown",
   "metadata": {},
   "source": [
    "As mentioned above, the smartest option is to eliminate lines with NaN in the unit ordered: "
   ]
  },
  {
   "cell_type": "code",
   "execution_count": null,
   "metadata": {},
   "outputs": [],
   "source": [
    "df_transactions_filtered_nan_removed = df_transactions_filtered.dropna()"
   ]
  },
  {
   "cell_type": "code",
   "execution_count": null,
   "metadata": {},
   "outputs": [],
   "source": [
    "# Check\n",
    "df_transactions_filtered.shape[0] - 314 == df_transactions_filtered_nan_removed.shape[0]\n"
   ]
  },
  {
   "cell_type": "markdown",
   "metadata": {},
   "source": [
    "### Parsing column \"units_ordered\" to int"
   ]
  },
  {
   "cell_type": "code",
   "execution_count": null,
   "metadata": {},
   "outputs": [],
   "source": [
    "df_transactions_filtered_nan_removed[\"units_ordered\"]  = df_transactions_filtered_nan_removed[\"units_ordered\"].str.split(\",\").apply(lambda l: int(l[0]))"
   ]
  },
  {
   "cell_type": "code",
   "execution_count": null,
   "metadata": {},
   "outputs": [],
   "source": [
    "df_transactions_filtered_nan_removed.head()"
   ]
  },
  {
   "cell_type": "code",
   "execution_count": null,
   "metadata": {
    "scrolled": true
   },
   "outputs": [],
   "source": [
    "df_transactions_filtered_nan_removed.info()"
   ]
  },
  {
   "cell_type": "markdown",
   "metadata": {},
   "source": [
    "Voila! the types look as they should be looking, and the nulls have been treated. "
   ]
  },
  {
   "cell_type": "markdown",
   "metadata": {},
   "source": [
    "# Duplicates Analysis"
   ]
  },
  {
   "cell_type": "markdown",
   "metadata": {},
   "source": [
    "Lets see if we have any duplicates:"
   ]
  },
  {
   "cell_type": "code",
   "execution_count": null,
   "metadata": {},
   "outputs": [],
   "source": [
    "df_transactions_filtered_nan_removed.duplicated().sum() "
   ]
  },
  {
   "cell_type": "markdown",
   "metadata": {},
   "source": [
    "Wow! this was unexpected 120.340 duplicates seems as a big number (it is roughly 1/8 of the rows of the Dataset). \n",
    "\n",
    "We need to take a closer look to these duplicates:"
   ]
  },
  {
   "cell_type": "code",
   "execution_count": null,
   "metadata": {},
   "outputs": [],
   "source": [
    "duplicates = df_transactions_filtered_nan_removed[df_transactions_filtered_nan_removed.duplicated()]\n",
    "duplicates.head()"
   ]
  },
  {
   "cell_type": "markdown",
   "metadata": {},
   "source": [
    "Interesting, it seems that all have 0 units ordered, but lets dig more into this:"
   ]
  },
  {
   "cell_type": "code",
   "execution_count": null,
   "metadata": {},
   "outputs": [],
   "source": [
    "duplicates[\"units_ordered\"].value_counts()"
   ]
  },
  {
   "cell_type": "markdown",
   "metadata": {},
   "source": [
    "Unfortunately, it seems that not all the duplicates are 0, otherwise we could have deleted the duplicates. However we now need to find out a bit more the ones greater than 0. \n",
    "\n",
    "Lets explore the original file to see what could have happened:"
   ]
  },
  {
   "cell_type": "markdown",
   "metadata": {},
   "source": [
    "Lets take for example the duplicate with \"units_ordered\" = 70:"
   ]
  },
  {
   "cell_type": "code",
   "execution_count": null,
   "metadata": {},
   "outputs": [],
   "source": [
    "duplicates[duplicates[\"units_ordered\"]==70]"
   ]
  },
  {
   "cell_type": "markdown",
   "metadata": {},
   "source": [
    "Lets now search for this specific row in the original dataset that the client gave us:"
   ]
  },
  {
   "cell_type": "code",
   "execution_count": null,
   "metadata": {},
   "outputs": [],
   "source": [
    "df_original[(df_original[\"order_date\"]==\"1/1/2009 0:00:00\")&(df_original[\"description\"].str.contains(\"PALMERAS DE TRUFA\"))]"
   ]
  },
  {
   "cell_type": "markdown",
   "metadata": {},
   "source": [
    "We consider the theory that many from our duplicates might come from duplicates from the original file.\n",
    "\n",
    "Lets check it:"
   ]
  },
  {
   "cell_type": "code",
   "execution_count": null,
   "metadata": {},
   "outputs": [],
   "source": [
    "df_original.duplicated().sum()"
   ]
  },
  {
   "cell_type": "markdown",
   "metadata": {},
   "source": [
    "There many duplicates in the original file, but not enough.\n",
    "\n",
    "As we melted this file to obtain our own (and to have the information as transactions), this number of duplicates has to be multiplied by the number of stores (10), but even then it falls a little shy of the number of duplicates in our results.\n",
    "\n",
    "Also, when we have into consideration that most of the duplicates should correspond to products that are not in our filtered dataset, we cannot consider duplicates from the original file as the only (or even, the main) source of duplicates in our file."
   ]
  },
  {
   "cell_type": "markdown",
   "metadata": {},
   "source": [
    "Diggind deeper in the matter, we are now going to check a couple of values from our duplicates, in the original dataframe provided to us:"
   ]
  },
  {
   "cell_type": "code",
   "execution_count": null,
   "metadata": {},
   "outputs": [],
   "source": [
    "df_original[(df_original[\"order_date\"]==\"20/2/2016 0:00:00\")&(df_original[\"description\"].str.contains(\"TORTELES\"))]"
   ]
  },
  {
   "cell_type": "markdown",
   "metadata": {},
   "source": [
    "We can see that the bottom line is empty except for the store \"VeUp\" that has the value repeated. Coincidence or patter? lets dig a bit more:"
   ]
  },
  {
   "cell_type": "code",
   "execution_count": null,
   "metadata": {},
   "outputs": [],
   "source": [
    "# Lets take a random one from \n",
    "duplicates[duplicates[\"units_ordered\"]==4].sample()"
   ]
  },
  {
   "cell_type": "code",
   "execution_count": null,
   "metadata": {},
   "outputs": [],
   "source": [
    "df_original[(df_original[\"order_date\"]==\"27/2/2016 0:00:00\")&(df_original[\"description\"].str.contains(\"MILHOJAS\"))&(df_original[\"description\"].str.contains(\"FRAMBUESA\"))][[\"product_id\",\"description\",\"order_date\",\"section\",\"RzUP\"]]"
   ]
  },
  {
   "cell_type": "markdown",
   "metadata": {},
   "source": [
    "This case beneath is very interesting:\n",
    "    \n",
    "We can see that for a given produt id, with the same description and on the same order date, there are several orders:\n",
    "\n",
    "* Some of these orders are duplicates\n",
    "\n",
    "* Some lines correspond to one order from one specific store, but we have two different orders asking for diffent quantities of the product"
   ]
  },
  {
   "cell_type": "code",
   "execution_count": null,
   "metadata": {
    "scrolled": true
   },
   "outputs": [],
   "source": [
    "df_original[(df_original[\"order_date\"]==\"27/2/2016 0:00:00\")&(df_original[\"description\"].str.contains(\"MILHOJAS\"))&(df_original[\"description\"].str.contains(\"FRAMBUESA\"))]"
   ]
  },
  {
   "cell_type": "markdown",
   "metadata": {},
   "source": [
    "Ok..., at this point the information was too confusing: One store, in one day has multiple orders; all very similar.. And when that store is compared to the other stores for the same day, its even more confusing... So we decided to meet with the client and ask for clarifications:\n",
    "\n",
    "These are the conclusions from the meeting:\n",
    "\n",
    " - In the original file, there should only be one line per day, if there are more it could mean two things:\n",
    "     - if the additional line is all 0 except for one store, AND that store has 0 in the main line, it means that they had to manually input their order in the system.\n",
    "     - if one store has duplicated orders for a given day-product, it means they made a mistake. \n",
    " - Also, if a store orders different quantities of the same product in the same day, its probably an error and they only take the largest order.\n",
    " \n",
    " The main conclusion from the client is that we can group by Date - product - store and take the largest order to remove duplicates... HOWEVER, before doing this, we need to take into account another situation: One product could have been ordered by a store, in a given day using several different product id / descriptions. If we group by, we may be loosing orders, unless we are very restrictive. "
   ]
  },
  {
   "cell_type": "code",
   "execution_count": null,
   "metadata": {},
   "outputs": [],
   "source": [
    "#Lets take the max value for each line:\n",
    "df_non_duplicated_lines = df_transactions_filtered_nan_removed.groupby(['product_id', 'description','order_date', 'section', 'store', 'desc_normalized', 'target_names_prod_by_prod']).max().reset_index()"
   ]
  },
  {
   "cell_type": "code",
   "execution_count": null,
   "metadata": {},
   "outputs": [],
   "source": [
    "df_non_duplicated_lines.duplicated().sum()"
   ]
  },
  {
   "cell_type": "markdown",
   "metadata": {},
   "source": [
    "Perfect, we don't have duplicates!... Or yes...\n",
    "\n",
    "Actually, we may still have duplicates, one store could have created duplicates that we have not identified by ordering the same product by two different ID's or using different descriptions.\n",
    "\n",
    "- If they were using different ID's this could would mainly mean that they intentionally want two different orders (perhaps custom orders, and normal order)\n",
    "\n",
    "- If they were using different product descriptions, it would probably mean that they introduced the order two times, however lets explore this situation a bit more:\n"
   ]
  },
  {
   "cell_type": "code",
   "execution_count": null,
   "metadata": {},
   "outputs": [],
   "source": [
    "# Lets count the number of times a duplicated line differs only by the raw desciption, and has a value greater than 0:\n",
    "aux=df_non_duplicated_lines.drop('description', axis=1)\n",
    "aux2 = aux[aux.duplicated()]\n",
    "aux2[aux2[\"units_ordered\"]>0][\"units_ordered\"].shape"
   ]
  },
  {
   "cell_type": "code",
   "execution_count": null,
   "metadata": {},
   "outputs": [],
   "source": [
    "aux2[\"units_ordered\"].max()"
   ]
  },
  {
   "cell_type": "markdown",
   "metadata": {},
   "source": [
    "As seen, there are not a lot of values involved, neither have big weights.\n",
    "\n",
    "Under the consideration that the total aggregated error is 16 units in a series spanning a decade and with millions of units ordered, we consider it safe to simply eliminate this transactions."
   ]
  },
  {
   "cell_type": "code",
   "execution_count": null,
   "metadata": {},
   "outputs": [],
   "source": [
    "df_non_duplicated_lines = df_transactions_filtered_nan_removed.groupby(['product_id','order_date', 'section', 'store', 'target_names_prod_by_prod'])[\"units_ordered\"].max().reset_index()"
   ]
  },
  {
   "cell_type": "code",
   "execution_count": null,
   "metadata": {},
   "outputs": [],
   "source": [
    "df_non_duplicated_lines.head()"
   ]
  },
  {
   "cell_type": "code",
   "execution_count": null,
   "metadata": {},
   "outputs": [],
   "source": [
    "df_non_duplicated_lines.duplicated().sum()"
   ]
  },
  {
   "cell_type": "markdown",
   "metadata": {},
   "source": [
    "We are going to check the resulting shape of our dataframe, to do a brief sanity check by seeing how many lines have been deleted:"
   ]
  },
  {
   "cell_type": "code",
   "execution_count": null,
   "metadata": {
    "scrolled": true
   },
   "outputs": [],
   "source": [
    "df_non_duplicated_lines.shape"
   ]
  },
  {
   "cell_type": "markdown",
   "metadata": {},
   "source": [
    "# Data quality:\n"
   ]
  },
  {
   "cell_type": "markdown",
   "metadata": {},
   "source": [
    "## 1. File Shape (one line per day-store-product)\n",
    "\n",
    "The dataset should contain only one line per product, date, and store. However, we already know that one product could have been ordered by given store, in a given day with several products ID's. \n",
    "\n",
    "The expectation is that there could be several different orders for the same product, same day and same store, because, as we saw when filtering our products, there were several product IDs for most of them that checked all the boxes of the description, as we can see in the image below (corresponding to the \"mousse 3 chocolates\"):\n",
    "\n",
    "<img src=./IM00.png>\n",
    "\n",
    "lets check it:"
   ]
  },
  {
   "cell_type": "code",
   "execution_count": null,
   "metadata": {},
   "outputs": [],
   "source": [
    "# Calculate number of orders by a store in a given day and product that are greater than 2:\n",
    "aux = df_non_duplicated_lines.groupby(['order_date', 'section', 'store', 'target_names_prod_by_prod'])[\"product_id\"].count()\n",
    "aux[aux>2].count()"
   ]
  },
  {
   "cell_type": "code",
   "execution_count": null,
   "metadata": {},
   "outputs": [],
   "source": [
    "# Calculate number of orders by a store in a given day and product that are greater than 2:\n",
    "aux = df_non_duplicated_lines.groupby(['order_date', 'section', 'store', 'target_names_prod_by_prod'])[\"product_id\"].count()\n",
    "aux[aux>2].max()"
   ]
  },
  {
   "cell_type": "markdown",
   "metadata": {},
   "source": [
    "For this orders we are not going to pick the biggest, as before, but sum their quantities: indeed, they have different product ids, but they correspond to the very same product, so adding up the quantities is what will give us the total ammount a particular store orders in a particular day:\n"
   ]
  },
  {
   "cell_type": "code",
   "execution_count": null,
   "metadata": {},
   "outputs": [],
   "source": [
    "df_to_check = df_non_duplicated_lines.groupby(['order_date', 'section', 'store', 'target_names_prod_by_prod'])[\"units_ordered\"].sum().reset_index()\n",
    "df_to_check.head(20)"
   ]
  },
  {
   "cell_type": "markdown",
   "metadata": {},
   "source": [
    "## 2. Checking for outliers:"
   ]
  },
  {
   "cell_type": "markdown",
   "metadata": {},
   "source": [
    "We are now going to check for outliers in our data.\n",
    "\n",
    "We are going to undertake this take little by little:"
   ]
  },
  {
   "cell_type": "code",
   "execution_count": null,
   "metadata": {},
   "outputs": [],
   "source": [
    "df_to_check['units_ordered'].mean()"
   ]
  },
  {
   "cell_type": "code",
   "execution_count": null,
   "metadata": {},
   "outputs": [],
   "source": [
    "df_to_check['units_ordered'].max()"
   ]
  },
  {
   "cell_type": "code",
   "execution_count": null,
   "metadata": {},
   "outputs": [],
   "source": [
    "df_to_check.sort_values('units_ordered', ascending=False).head(20)"
   ]
  },
  {
   "cell_type": "code",
   "execution_count": null,
   "metadata": {
    "scrolled": true
   },
   "outputs": [],
   "source": [
    "df_to_check['units_ordered'].plot(figsize=(18,4))"
   ]
  },
  {
   "cell_type": "markdown",
   "metadata": {},
   "source": [
    "Same plot eliminating the largest values up to a threshold:"
   ]
  },
  {
   "cell_type": "code",
   "execution_count": null,
   "metadata": {
    "scrolled": true
   },
   "outputs": [],
   "source": [
    "n=800\n",
    "\n",
    "df_to_check[df_to_check['units_ordered']<n]['units_ordered'].plot(figsize=(18,4))"
   ]
  },
  {
   "cell_type": "markdown",
   "metadata": {},
   "source": [
    "As we can see, now our values present a more coherent shape."
   ]
  },
  {
   "cell_type": "markdown",
   "metadata": {},
   "source": [
    "Now, plotting a histogram of our values to see"
   ]
  },
  {
   "cell_type": "code",
   "execution_count": null,
   "metadata": {
    "scrolled": true
   },
   "outputs": [],
   "source": [
    "histo1=plt.hist(df_to_check['units_ordered'], bins=82)"
   ]
  },
  {
   "cell_type": "code",
   "execution_count": null,
   "metadata": {},
   "outputs": [],
   "source": [
    "histo1"
   ]
  },
  {
   "cell_type": "markdown",
   "metadata": {},
   "source": [
    "Seeing that most of the weight is between 0 and 100, we plot the same, but for values higher than 100:"
   ]
  },
  {
   "cell_type": "code",
   "execution_count": null,
   "metadata": {},
   "outputs": [],
   "source": [
    "histo2=plt.hist(df_to_check[df_to_check['units_ordered']>100]['units_ordered'], bins=80)"
   ]
  },
  {
   "cell_type": "code",
   "execution_count": null,
   "metadata": {},
   "outputs": [],
   "source": [
    "histo2"
   ]
  },
  {
   "cell_type": "code",
   "execution_count": null,
   "metadata": {
    "scrolled": true
   },
   "outputs": [],
   "source": [
    "histo2[0].sum()"
   ]
  },
  {
   "cell_type": "markdown",
   "metadata": {},
   "source": [
    "And, finally, let's take a look on this extreme data:"
   ]
  },
  {
   "cell_type": "code",
   "execution_count": null,
   "metadata": {
    "scrolled": true
   },
   "outputs": [],
   "source": [
    "df_to_check[df_to_check['store']=='EnUP'].sort_values('units_ordered', ascending=False).head(10)"
   ]
  },
  {
   "cell_type": "markdown",
   "metadata": {},
   "source": [
    "And compare it with the average values for an specific product:"
   ]
  },
  {
   "cell_type": "code",
   "execution_count": null,
   "metadata": {},
   "outputs": [],
   "source": [
    "aux3=df_to_check.groupby(['store', 'target_names_prod_by_prod']).mean().reset_index()\n",
    "\n",
    "aux3[aux3['store']=='EnUP']"
   ]
  },
  {
   "cell_type": "markdown",
   "metadata": {},
   "source": [
    "It can be seen that the peaks numbers for this particular store are between 25 and 200 times their mean order."
   ]
  },
  {
   "cell_type": "markdown",
   "metadata": {},
   "source": [
    "**First preliminary conclussions:**\n",
    "\n",
    "We can see that, in our whole data, only 239 values are greater than 100, and even being such the case, most of them (191 from the 239 values) have values not superior to 200, what leaves us with only 28 values greater than 200.\n",
    "\n",
    "Even though, this data could be anomalies in the time series explained by events.\n",
    "\n",
    "Football matches, national or local holidays, or large custom orders, such as weddings, could be the reason for this strange data.\n",
    "\n",
    "But, as the focus of our project is not at large custom orders (indeed, the client handles them ad hoc, and what it has asked us to do is to provide a solution for the day-to-day orders), there is very little interest for us in such kind of anomalies.\n",
    "\n",
    "However, we are interested in trying to keep the effects of everyday events such as football matches, holidays or the weather, in the daily orders from the stores to the factory.\n",
    "\n",
    "So, perhaps keeping an intermediate threshold would do the trick, because:\n",
    "\n",
    "* the very large values are just a few and can be only due to a mistake in the order or due to large custom orders from specific clients for special events,\n",
    "\n",
    "\n",
    "* keeping at the same time some of the high values (high, but not extravagantly high), that are not produced by the effects above, but to the ones that we are interested in trying to encompass and explain with our model."
   ]
  },
  {
   "cell_type": "markdown",
   "metadata": {},
   "source": [
    "**But:**\n",
    "\n",
    "Before proceeding to do so, there is still an interesting question pending: is this phenomenom appearing because of operations with the data, or does it come from the original dataset?\n",
    "\n",
    "We are going to check the highest values in our original dataset now:"
   ]
  },
  {
   "cell_type": "code",
   "execution_count": null,
   "metadata": {
    "scrolled": false
   },
   "outputs": [
    {
     "name": "stdout",
     "output_type": "stream",
     "text": [
      "320290     1210\n",
      "44061       400\n",
      "224278      300\n",
      "45286       300\n",
      "1409477     300\n",
      "1409476     300\n",
      "535338      300\n",
      "97221       300\n",
      "224277      300\n",
      "311534      300\n",
      "43399       300\n",
      "332583      300\n",
      "1250620     260\n",
      "1527766     250\n",
      "349473      250\n",
      "1155420     240\n",
      "174859      200\n",
      "1363332     200\n",
      "332584      200\n",
      "639933      200\n",
      "Name: GeUP, dtype: int64\n"
     ]
    }
   ],
   "source": [
    "df_original2=df_original.dropna()\n",
    "\n",
    "stores=list(df_original2.columns[4:])\n",
    "\n",
    "results_dict=dict()\n",
    "total_list=list()\n",
    "\n",
    "for element in stores:\n",
    "    \n",
    "    values=df_original2[element]\n",
    "    \n",
    "    values2=values.str.split(\",\").apply(lambda l: int(l[0]))\n",
    "    \n",
    "    total_list.append(list(values2))\n",
    "    \n",
    "    results_dict[element]=values2\n",
    "\n",
    "print(values2.sort_values(ascending=False)[:20])"
   ]
  },
  {
   "cell_type": "markdown",
   "metadata": {},
   "source": [
    "For starters, we take the series of values for the last store and take a look on it:"
   ]
  },
  {
   "cell_type": "code",
   "execution_count": null,
   "metadata": {},
   "outputs": [
    {
     "data": {
      "text/plain": [
       "<matplotlib.axes._subplots.AxesSubplot at 0x24c00ec1080>"
      ]
     },
     "execution_count": 51,
     "metadata": {},
     "output_type": "execute_result"
    },
    {
     "data": {
      "image/png": "[encoded data removed]",
      "text/plain": [
       "<Figure size 1296x288 with 1 Axes>"
      ]
     },
     "metadata": {
      "needs_background": "light"
     },
     "output_type": "display_data"
    }
   ],
   "source": [
    "values2.plot(figsize=(18,4))"
   ]
  },
  {
   "cell_type": "markdown",
   "metadata": {},
   "source": [
    "We can see that there is just one value that is disproportionatelly large when compared to the rest, and that by removing this extreme value the series presents a much better appearance:"
   ]
  },
  {
   "cell_type": "code",
   "execution_count": null,
   "metadata": {
    "scrolled": true
   },
   "outputs": [
    {
     "data": {
      "text/plain": [
       "<matplotlib.axes._subplots.AxesSubplot at 0x24b81db5c88>"
      ]
     },
     "execution_count": 52,
     "metadata": {},
     "output_type": "execute_result"
    },
    {
     "data": {
      "image/png": "[encoded data removed]",
      "text/plain": [
       "<Figure size 1296x288 with 1 Axes>"
      ]
     },
     "metadata": {
      "needs_background": "light"
     },
     "output_type": "display_data"
    }
   ],
   "source": [
    "to_drop=values2[values2==values2.max()].index\n",
    "\n",
    "values2.drop(to_drop, inplace=True)\n",
    "values2.plot(figsize=(18,4))"
   ]
  },
  {
   "cell_type": "markdown",
   "metadata": {},
   "source": [
    "We now want to examine the results for another different store:"
   ]
  },
  {
   "cell_type": "code",
   "execution_count": null,
   "metadata": {
    "scrolled": true
   },
   "outputs": [
    {
     "data": {
      "text/plain": [
       "<matplotlib.axes._subplots.AxesSubplot at 0x24c06bd70b8>"
      ]
     },
     "execution_count": 53,
     "metadata": {},
     "output_type": "execute_result"
    },
    {
     "data": {
      "image/png": "[encoded data removed]",
      "text/plain": [
       "<Figure size 1296x288 with 1 Axes>"
      ]
     },
     "metadata": {
      "needs_background": "light"
     },
     "output_type": "display_data"
    }
   ],
   "source": [
    "results_dict['EnUP'].plot(figsize=(18,4))"
   ]
  },
  {
   "cell_type": "code",
   "execution_count": null,
   "metadata": {},
   "outputs": [],
   "source": [
    "plt.figure(figsize=(18,4))\n",
    "plt.plot(total_list)"
   ]
  },
  {
   "cell_type": "code",
   "execution_count": null,
   "metadata": {},
   "outputs": [],
   "source": []
  },
  {
   "cell_type": "code",
   "execution_count": null,
   "metadata": {},
   "outputs": [],
   "source": []
  },
  {
   "cell_type": "code",
   "execution_count": null,
   "metadata": {},
   "outputs": [],
   "source": []
  },
  {
   "cell_type": "code",
   "execution_count": null,
   "metadata": {},
   "outputs": [],
   "source": []
  },
  {
   "cell_type": "code",
   "execution_count": null,
   "metadata": {},
   "outputs": [],
   "source": []
  },
  {
   "cell_type": "code",
   "execution_count": null,
   "metadata": {},
   "outputs": [],
   "source": []
  },
  {
   "cell_type": "code",
   "execution_count": null,
   "metadata": {},
   "outputs": [],
   "source": []
  },
  {
   "cell_type": "code",
   "execution_count": null,
   "metadata": {},
   "outputs": [],
   "source": []
  },
  {
   "cell_type": "code",
   "execution_count": null,
   "metadata": {},
   "outputs": [],
   "source": []
  },
  {
   "cell_type": "code",
   "execution_count": null,
   "metadata": {},
   "outputs": [],
   "source": []
  },
  {
   "cell_type": "code",
   "execution_count": null,
   "metadata": {},
   "outputs": [],
   "source": [
    "df_to_check"
   ]
  },
  {
   "cell_type": "code",
   "execution_count": 90,
   "metadata": {},
   "outputs": [],
   "source": [
    "aaa = pd.pivot_table(data=df_for_work, index=['store', 'target_names_prod_by_prod'],)"
   ]
  },
  {
   "cell_type": "code",
   "execution_count": 91,
   "metadata": {},
   "outputs": [
    {
     "data": {
      "text/html": [
       "<div>\n",
       "<style scoped>\n",
       "    .dataframe tbody tr th:only-of-type {\n",
       "        vertical-align: middle;\n",
       "    }\n",
       "\n",
       "    .dataframe tbody tr th {\n",
       "        vertical-align: top;\n",
       "    }\n",
       "\n",
       "    .dataframe thead th {\n",
       "        text-align: right;\n",
       "    }\n",
       "</style>\n",
       "<table border=\"1\" class=\"dataframe\">\n",
       "  <thead>\n",
       "    <tr style=\"text-align: right;\">\n",
       "      <th></th>\n",
       "      <th></th>\n",
       "      <th>section</th>\n",
       "      <th>units_ordered</th>\n",
       "    </tr>\n",
       "    <tr>\n",
       "      <th>store</th>\n",
       "      <th>target_names_prod_by_prod</th>\n",
       "      <th></th>\n",
       "      <th></th>\n",
       "    </tr>\n",
       "  </thead>\n",
       "  <tbody>\n",
       "    <tr>\n",
       "      <td rowspan=\"5\" valign=\"top\">AaUP</td>\n",
       "      <td>baguette</td>\n",
       "      <td>0</td>\n",
       "      <td>11.477378</td>\n",
       "    </tr>\n",
       "    <tr>\n",
       "      <td>croissant petit</td>\n",
       "      <td>0</td>\n",
       "      <td>7.508097</td>\n",
       "    </tr>\n",
       "    <tr>\n",
       "      <td>croissant simple</td>\n",
       "      <td>0</td>\n",
       "      <td>16.894885</td>\n",
       "    </tr>\n",
       "    <tr>\n",
       "      <td>milhojas frambuesa</td>\n",
       "      <td>0</td>\n",
       "      <td>2.114654</td>\n",
       "    </tr>\n",
       "    <tr>\n",
       "      <td>mousse tres chocolates</td>\n",
       "      <td>0</td>\n",
       "      <td>0.153201</td>\n",
       "    </tr>\n",
       "    <tr>\n",
       "      <td>...</td>\n",
       "      <td>...</td>\n",
       "      <td>...</td>\n",
       "      <td>...</td>\n",
       "    </tr>\n",
       "    <tr>\n",
       "      <td rowspan=\"5\" valign=\"top\">ZiUO</td>\n",
       "      <td>palmera chocolate</td>\n",
       "      <td>0</td>\n",
       "      <td>1.660639</td>\n",
       "    </tr>\n",
       "    <tr>\n",
       "      <td>postre de fresas y mascarpone</td>\n",
       "      <td>0</td>\n",
       "      <td>4.679483</td>\n",
       "    </tr>\n",
       "    <tr>\n",
       "      <td>tarta de manzana</td>\n",
       "      <td>0</td>\n",
       "      <td>0.000235</td>\n",
       "    </tr>\n",
       "    <tr>\n",
       "      <td>tarta opera</td>\n",
       "      <td>0</td>\n",
       "      <td>0.000000</td>\n",
       "    </tr>\n",
       "    <tr>\n",
       "      <td>tortel</td>\n",
       "      <td>0</td>\n",
       "      <td>0.000000</td>\n",
       "    </tr>\n",
       "  </tbody>\n",
       "</table>\n",
       "<p>190 rows × 2 columns</p>\n",
       "</div>"
      ],
      "text/plain": [
       "                                     section  units_ordered\n",
       "store target_names_prod_by_prod                            \n",
       "AaUP  baguette                             0      11.477378\n",
       "      croissant petit                      0       7.508097\n",
       "      croissant simple                     0      16.894885\n",
       "      milhojas frambuesa                   0       2.114654\n",
       "      mousse tres chocolates               0       0.153201\n",
       "...                                      ...            ...\n",
       "ZiUO  palmera chocolate                    0       1.660639\n",
       "      postre de fresas y mascarpone        0       4.679483\n",
       "      tarta de manzana                     0       0.000235\n",
       "      tarta opera                          0       0.000000\n",
       "      tortel                               0       0.000000\n",
       "\n",
       "[190 rows x 2 columns]"
      ]
     },
     "execution_count": 91,
     "metadata": {},
     "output_type": "execute_result"
    }
   ],
   "source": [
    "aaa"
   ]
  }
 ],
 "metadata": {
  "kernelspec": {
   "display_name": "Python 3",
   "language": "python",
   "name": "python3"
  },
  "language_info": {
   "codemirror_mode": {
    "name": "ipython",
    "version": 3
   },
   "file_extension": ".py",
   "mimetype": "text/x-python",
   "name": "python",
   "nbconvert_exporter": "python",
   "pygments_lexer": "ipython3",
   "version": "3.7.3"
  }
 },
 "nbformat": 4,
 "nbformat_minor": 2
}
