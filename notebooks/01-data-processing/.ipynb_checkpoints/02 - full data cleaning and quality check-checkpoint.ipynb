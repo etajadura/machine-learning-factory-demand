{
 "cells": [
  {
   "cell_type": "markdown",
   "metadata": {},
   "source": [
    "1. Duplicates analysis\n",
    "2. Nulls\n",
    "3. Dates analysis: (outliers,etc)\n",
    "4. Orders analysis (outliers,etc)"
   ]
  },
  {
   "cell_type": "code",
   "execution_count": 1,
   "metadata": {},
   "outputs": [],
   "source": [
    "# Importing packages:\n",
    "\n",
    "import pandas as pd\n",
    "import matplotlib.pyplot as plt\n",
    "import numpy as np\n",
    "import seaborn as sns\n",
    "\n",
    "\n",
    "%matplotlib inline\n",
    "pd.options.display.max_columns = None"
   ]
  },
  {
   "cell_type": "code",
   "execution_count": 2,
   "metadata": {},
   "outputs": [],
   "source": [
    "# Defining the search path of the file, the name and the separator:\n",
    "\n",
    "file_path = \"../../data/01_raw/\"\n",
    "file_name = \"b2-transactions.csv\" #'b2-transactions_sample.csv' \n",
    "exit_path = \"../../data/02_intermediate/\"\n",
    "original_file_path = file_path + \"b2.txt\"\n",
    "\n",
    "# Column names\n",
    "col_names = [\"product_id\",\n",
    "          \"description\",\n",
    "          \"order_date\",\n",
    "          \"section\",\n",
    "          \"BmUP\",\n",
    "          \"VeUp\",\n",
    "          \"CzUP\",\n",
    "          \"AaUP\",\n",
    "          \"SeUP\",\n",
    "          \"JPUP\",\n",
    "          \"RzUP\",\n",
    "          \"AeUP\",\n",
    "          \"LiUP\",\n",
    "          \"EnUP\",\n",
    "          \"GoUP\",\n",
    "          \"GrUP\",\n",
    "          \"AnUP\",\n",
    "          \"MoUP\",\n",
    "          \"PoUP\",\n",
    "          \"MsUP\",\n",
    "          \"ViUP\",\n",
    "          \"ZiUO\",\n",
    "          \"GeUP\"]\n",
    "filtered_file_name=\"c1-filtered_transactions.csv\"\n",
    "\n",
    "sep=\";\""
   ]
  },
  {
   "cell_type": "code",
   "execution_count": 3,
   "metadata": {},
   "outputs": [],
   "source": [
    "target_products_file_name = exit_path + 'filtered_transactions_not_clean.csv' \n"
   ]
  },
  {
   "cell_type": "code",
   "execution_count": 4,
   "metadata": {},
   "outputs": [],
   "source": [
    "df_transactions_filtered = pd.read_csv(target_products_file_name, sep = sep)"
   ]
  },
  {
   "cell_type": "code",
   "execution_count": 5,
   "metadata": {},
   "outputs": [
    {
     "data": {
      "text/html": [
       "<div>\n",
       "<style scoped>\n",
       "    .dataframe tbody tr th:only-of-type {\n",
       "        vertical-align: middle;\n",
       "    }\n",
       "\n",
       "    .dataframe tbody tr th {\n",
       "        vertical-align: top;\n",
       "    }\n",
       "\n",
       "    .dataframe thead th {\n",
       "        text-align: right;\n",
       "    }\n",
       "</style>\n",
       "<table border=\"1\" class=\"dataframe\">\n",
       "  <thead>\n",
       "    <tr style=\"text-align: right;\">\n",
       "      <th></th>\n",
       "      <th>product_id</th>\n",
       "      <th>description</th>\n",
       "      <th>order_date</th>\n",
       "      <th>section</th>\n",
       "      <th>store</th>\n",
       "      <th>units_ordered</th>\n",
       "      <th>desc_normalized</th>\n",
       "      <th>target_names_prod_by_prod</th>\n",
       "    </tr>\n",
       "  </thead>\n",
       "  <tbody>\n",
       "    <tr>\n",
       "      <td>0</td>\n",
       "      <td>100.0</td>\n",
       "      <td>CROISANTS</td>\n",
       "      <td>1/1/2008 0:00:00</td>\n",
       "      <td>0</td>\n",
       "      <td>VeUp</td>\n",
       "      <td>20,00</td>\n",
       "      <td>croissant</td>\n",
       "      <td>croissant simple</td>\n",
       "    </tr>\n",
       "    <tr>\n",
       "      <td>1</td>\n",
       "      <td>182.0</td>\n",
       "      <td>PALMERAS DE TRUFA</td>\n",
       "      <td>1/1/2008 0:00:00</td>\n",
       "      <td>0</td>\n",
       "      <td>VeUp</td>\n",
       "      <td>4,00</td>\n",
       "      <td>palmera de trufa</td>\n",
       "      <td>palmera chocolate</td>\n",
       "    </tr>\n",
       "    <tr>\n",
       "      <td>2</td>\n",
       "      <td>101.0</td>\n",
       "      <td>CROISSANT</td>\n",
       "      <td>1/1/2008 0:00:00</td>\n",
       "      <td>0</td>\n",
       "      <td>VeUp</td>\n",
       "      <td>0,00</td>\n",
       "      <td>croissant</td>\n",
       "      <td>croissant simple</td>\n",
       "    </tr>\n",
       "    <tr>\n",
       "      <td>3</td>\n",
       "      <td>103.0</td>\n",
       "      <td>CROISSANT PETIT</td>\n",
       "      <td>1/1/2008 0:00:00</td>\n",
       "      <td>0</td>\n",
       "      <td>VeUp</td>\n",
       "      <td>18,00</td>\n",
       "      <td>croissant petit</td>\n",
       "      <td>croissant petit</td>\n",
       "    </tr>\n",
       "    <tr>\n",
       "      <td>4</td>\n",
       "      <td>112.0</td>\n",
       "      <td>TORTELES</td>\n",
       "      <td>1/1/2008 0:00:00</td>\n",
       "      <td>0</td>\n",
       "      <td>VeUp</td>\n",
       "      <td>60,00</td>\n",
       "      <td>torteles</td>\n",
       "      <td>tortel</td>\n",
       "    </tr>\n",
       "  </tbody>\n",
       "</table>\n",
       "</div>"
      ],
      "text/plain": [
       "   product_id        description        order_date  section store  \\\n",
       "0       100.0          CROISANTS  1/1/2008 0:00:00        0  VeUp   \n",
       "1       182.0  PALMERAS DE TRUFA  1/1/2008 0:00:00        0  VeUp   \n",
       "2       101.0          CROISSANT  1/1/2008 0:00:00        0  VeUp   \n",
       "3       103.0    CROISSANT PETIT  1/1/2008 0:00:00        0  VeUp   \n",
       "4       112.0           TORTELES  1/1/2008 0:00:00        0  VeUp   \n",
       "\n",
       "  units_ordered   desc_normalized target_names_prod_by_prod  \n",
       "0         20,00         croissant          croissant simple  \n",
       "1          4,00  palmera de trufa         palmera chocolate  \n",
       "2          0,00         croissant          croissant simple  \n",
       "3         18,00   croissant petit           croissant petit  \n",
       "4         60,00          torteles                    tortel  "
      ]
     },
     "execution_count": 5,
     "metadata": {},
     "output_type": "execute_result"
    }
   ],
   "source": [
    "df_transactions_filtered.head()"
   ]
  },
  {
   "cell_type": "code",
   "execution_count": 6,
   "metadata": {},
   "outputs": [
    {
     "data": {
      "text/plain": [
       "(967993, 8)"
      ]
     },
     "execution_count": 6,
     "metadata": {},
     "output_type": "execute_result"
    }
   ],
   "source": [
    "df_transactions_filtered.shape"
   ]
  },
  {
   "cell_type": "code",
   "execution_count": 7,
   "metadata": {},
   "outputs": [
    {
     "name": "stdout",
     "output_type": "stream",
     "text": [
      "<class 'pandas.core.frame.DataFrame'>\n",
      "RangeIndex: 967993 entries, 0 to 967992\n",
      "Data columns (total 8 columns):\n",
      "product_id                   967993 non-null float64\n",
      "description                  967993 non-null object\n",
      "order_date                   967993 non-null object\n",
      "section                      967993 non-null int64\n",
      "store                        967993 non-null object\n",
      "units_ordered                967679 non-null object\n",
      "desc_normalized              967993 non-null object\n",
      "target_names_prod_by_prod    967993 non-null object\n",
      "dtypes: float64(1), int64(1), object(6)\n",
      "memory usage: 59.1+ MB\n"
     ]
    }
   ],
   "source": [
    "df_transactions_filtered.info()"
   ]
  },
  {
   "cell_type": "markdown",
   "metadata": {},
   "source": [
    "\"order_date\" should be date-type but is not, and \"units_ordered\" should be numeric, but they are not, and there are some nulls... Lets treat the nulls before parsing to the right types. "
   ]
  },
  {
   "cell_type": "markdown",
   "metadata": {},
   "source": [
    "Before continuing, lets parse the dataframe to the right column types:"
   ]
  },
  {
   "cell_type": "markdown",
   "metadata": {},
   "source": [
    "# Parsing column types"
   ]
  },
  {
   "cell_type": "markdown",
   "metadata": {},
   "source": [
    "### Parsing column \"order_date\""
   ]
  },
  {
   "cell_type": "code",
   "execution_count": 8,
   "metadata": {},
   "outputs": [],
   "source": [
    "# Parsing \"order_date\" to date type \n",
    "df_transactions_filtered[\"order_date\"] = pd.to_datetime(df_transactions_filtered[\"order_date\"])"
   ]
  },
  {
   "cell_type": "code",
   "execution_count": 9,
   "metadata": {},
   "outputs": [
    {
     "data": {
      "text/html": [
       "<div>\n",
       "<style scoped>\n",
       "    .dataframe tbody tr th:only-of-type {\n",
       "        vertical-align: middle;\n",
       "    }\n",
       "\n",
       "    .dataframe tbody tr th {\n",
       "        vertical-align: top;\n",
       "    }\n",
       "\n",
       "    .dataframe thead th {\n",
       "        text-align: right;\n",
       "    }\n",
       "</style>\n",
       "<table border=\"1\" class=\"dataframe\">\n",
       "  <thead>\n",
       "    <tr style=\"text-align: right;\">\n",
       "      <th></th>\n",
       "      <th>product_id</th>\n",
       "      <th>description</th>\n",
       "      <th>order_date</th>\n",
       "      <th>section</th>\n",
       "      <th>store</th>\n",
       "      <th>units_ordered</th>\n",
       "      <th>desc_normalized</th>\n",
       "      <th>target_names_prod_by_prod</th>\n",
       "    </tr>\n",
       "  </thead>\n",
       "  <tbody>\n",
       "    <tr>\n",
       "      <td>0</td>\n",
       "      <td>100.0</td>\n",
       "      <td>CROISANTS</td>\n",
       "      <td>2008-01-01</td>\n",
       "      <td>0</td>\n",
       "      <td>VeUp</td>\n",
       "      <td>20,00</td>\n",
       "      <td>croissant</td>\n",
       "      <td>croissant simple</td>\n",
       "    </tr>\n",
       "    <tr>\n",
       "      <td>1</td>\n",
       "      <td>182.0</td>\n",
       "      <td>PALMERAS DE TRUFA</td>\n",
       "      <td>2008-01-01</td>\n",
       "      <td>0</td>\n",
       "      <td>VeUp</td>\n",
       "      <td>4,00</td>\n",
       "      <td>palmera de trufa</td>\n",
       "      <td>palmera chocolate</td>\n",
       "    </tr>\n",
       "  </tbody>\n",
       "</table>\n",
       "</div>"
      ],
      "text/plain": [
       "   product_id        description order_date  section store units_ordered  \\\n",
       "0       100.0          CROISANTS 2008-01-01        0  VeUp         20,00   \n",
       "1       182.0  PALMERAS DE TRUFA 2008-01-01        0  VeUp          4,00   \n",
       "\n",
       "    desc_normalized target_names_prod_by_prod  \n",
       "0         croissant          croissant simple  \n",
       "1  palmera de trufa         palmera chocolate  "
      ]
     },
     "execution_count": 9,
     "metadata": {},
     "output_type": "execute_result"
    }
   ],
   "source": [
    "df_transactions_filtered.head(2)"
   ]
  },
  {
   "cell_type": "markdown",
   "metadata": {},
   "source": [
    "Before cleaning column \"units_ordered\" we need to clean the null values. Then we will be able to parse it to the right numeric type, which is int."
   ]
  },
  {
   "cell_type": "markdown",
   "metadata": {},
   "source": [
    "## NULLs Analysis\n"
   ]
  },
  {
   "cell_type": "code",
   "execution_count": 10,
   "metadata": {},
   "outputs": [
    {
     "data": {
      "text/plain": [
       "product_id                     0\n",
       "description                    0\n",
       "order_date                     0\n",
       "section                        0\n",
       "store                          0\n",
       "units_ordered                314\n",
       "desc_normalized                0\n",
       "target_names_prod_by_prod      0\n",
       "dtype: int64"
      ]
     },
     "execution_count": 10,
     "metadata": {},
     "output_type": "execute_result"
    }
   ],
   "source": [
    "df_transactions_filtered.isnull().sum()"
   ]
  },
  {
   "cell_type": "markdown",
   "metadata": {},
   "source": [
    "As we saw before, there are only nulls in \"units_ordered\". The good news is that it does seem to be many of them, lets have a look at it before we decide what to do to them:"
   ]
  },
  {
   "cell_type": "markdown",
   "metadata": {},
   "source": [
    "After some debate, messy EDA, and careful consideration we decided to eliminate the lines for the following reasons:\n",
    "\n",
    "1) It is possible that these lines constitute \"duplicates\" (duplicated in all but their values) for lines that hold a value. If this is the case, these lines would be treated as duplicates in the next step of the quality checks (in which we will see that dropping duplicates is the right move).\n",
    "\n",
    "2) In case that these lines are not duplicated in the rest of the dataset, removing them will make no difference because we currently don't have the real value of number of units placed in the order, so, when the time comes and we will check for missing value in the series, we will appropriately deal with the matter."
   ]
  },
  {
   "cell_type": "code",
   "execution_count": 11,
   "metadata": {},
   "outputs": [
    {
     "data": {
      "text/html": [
       "<div>\n",
       "<style scoped>\n",
       "    .dataframe tbody tr th:only-of-type {\n",
       "        vertical-align: middle;\n",
       "    }\n",
       "\n",
       "    .dataframe tbody tr th {\n",
       "        vertical-align: top;\n",
       "    }\n",
       "\n",
       "    .dataframe thead th {\n",
       "        text-align: right;\n",
       "    }\n",
       "</style>\n",
       "<table border=\"1\" class=\"dataframe\">\n",
       "  <thead>\n",
       "    <tr style=\"text-align: right;\">\n",
       "      <th></th>\n",
       "      <th>product_id</th>\n",
       "      <th>description</th>\n",
       "      <th>order_date</th>\n",
       "      <th>section</th>\n",
       "      <th>BmUP</th>\n",
       "      <th>VeUp</th>\n",
       "      <th>CzUP</th>\n",
       "      <th>AaUP</th>\n",
       "      <th>SeUP</th>\n",
       "      <th>JPUP</th>\n",
       "      <th>RzUP</th>\n",
       "      <th>AeUP</th>\n",
       "      <th>LiUP</th>\n",
       "      <th>EnUP</th>\n",
       "      <th>GoUP</th>\n",
       "      <th>GrUP</th>\n",
       "      <th>AnUP</th>\n",
       "      <th>MoUP</th>\n",
       "      <th>PoUP</th>\n",
       "      <th>MsUP</th>\n",
       "      <th>ViUP</th>\n",
       "      <th>ZiUO</th>\n",
       "      <th>GeUP</th>\n",
       "    </tr>\n",
       "  </thead>\n",
       "  <tbody>\n",
       "    <tr>\n",
       "      <td>774282</td>\n",
       "      <td>182.0</td>\n",
       "      <td>PALMERAS DE TRUFA</td>\n",
       "      <td>1/1/2009 0:00:00</td>\n",
       "      <td>0</td>\n",
       "      <td>2,00</td>\n",
       "      <td>5,00</td>\n",
       "      <td>2,00</td>\n",
       "      <td>2,00</td>\n",
       "      <td>8,00</td>\n",
       "      <td>3,00</td>\n",
       "      <td>2,00</td>\n",
       "      <td>0,00</td>\n",
       "      <td>0,00</td>\n",
       "      <td>3,00</td>\n",
       "      <td>2,00</td>\n",
       "      <td>4,00</td>\n",
       "      <td>4,00</td>\n",
       "      <td>3,00</td>\n",
       "      <td>0,00</td>\n",
       "      <td>0,00</td>\n",
       "      <td>0,00</td>\n",
       "      <td>0,00</td>\n",
       "      <td>0,00</td>\n",
       "    </tr>\n",
       "    <tr>\n",
       "      <td>781175</td>\n",
       "      <td>182.0</td>\n",
       "      <td>PALMERAS DE TRUFA</td>\n",
       "      <td>1/1/2009 0:00:00</td>\n",
       "      <td>0</td>\n",
       "      <td>0,00</td>\n",
       "      <td>0,00</td>\n",
       "      <td>0,00</td>\n",
       "      <td>0,00</td>\n",
       "      <td>0,00</td>\n",
       "      <td>0,00</td>\n",
       "      <td>0,00</td>\n",
       "      <td>0,00</td>\n",
       "      <td>0,00</td>\n",
       "      <td>0,00</td>\n",
       "      <td>0,00</td>\n",
       "      <td>0,00</td>\n",
       "      <td>0,00</td>\n",
       "      <td>0,00</td>\n",
       "      <td>0,00</td>\n",
       "      <td>5,00</td>\n",
       "      <td>0,00</td>\n",
       "      <td>0,00</td>\n",
       "      <td>0,00</td>\n",
       "    </tr>\n",
       "  </tbody>\n",
       "</table>\n",
       "</div>"
      ],
      "text/plain": [
       "        product_id        description        order_date  section  BmUP  VeUp  \\\n",
       "774282       182.0  PALMERAS DE TRUFA  1/1/2009 0:00:00        0  2,00  5,00   \n",
       "781175       182.0  PALMERAS DE TRUFA  1/1/2009 0:00:00        0  0,00  0,00   \n",
       "\n",
       "        CzUP  AaUP  SeUP  JPUP  RzUP  AeUP  LiUP  EnUP  GoUP  GrUP  AnUP  \\\n",
       "774282  2,00  2,00  8,00  3,00  2,00  0,00  0,00  3,00  2,00  4,00  4,00   \n",
       "781175  0,00  0,00  0,00  0,00  0,00  0,00  0,00  0,00  0,00  0,00  0,00   \n",
       "\n",
       "        MoUP  PoUP  MsUP  ViUP  ZiUO  GeUP  \n",
       "774282  3,00  0,00  0,00  0,00  0,00  0,00  \n",
       "781175  0,00  0,00  5,00  0,00  0,00  0,00  "
      ]
     },
     "execution_count": 11,
     "metadata": {},
     "output_type": "execute_result"
    }
   ],
   "source": [
    "# Proving point 1: lines with nulls may be due to duplicates \n",
    "df_original = pd.read_csv(original_file_path, sep = sep, encoding = \"ISO-8859-1\",names = col_names )\n",
    "df_original[(df_original[\"order_date\"]==\"1/1/2009 0:00:00\")&(df_original[\"description\"].str.contains(\"PALMERAS DE TRUFA\"))]"
   ]
  },
  {
   "cell_type": "markdown",
   "metadata": {},
   "source": [
    "As mentioned above, the smartest option is to eliminate lines with NaN in the unit ordered: "
   ]
  },
  {
   "cell_type": "code",
   "execution_count": 12,
   "metadata": {},
   "outputs": [],
   "source": [
    "df_transactions_filtered_nan_removed = df_transactions_filtered.dropna()"
   ]
  },
  {
   "cell_type": "code",
   "execution_count": 13,
   "metadata": {},
   "outputs": [
    {
     "data": {
      "text/plain": [
       "True"
      ]
     },
     "execution_count": 13,
     "metadata": {},
     "output_type": "execute_result"
    }
   ],
   "source": [
    "# Check\n",
    "df_transactions_filtered.shape[0] - 314 == df_transactions_filtered_nan_removed.shape[0]\n"
   ]
  },
  {
   "cell_type": "markdown",
   "metadata": {},
   "source": [
    "### Parsing column \"units_ordered\" to int"
   ]
  },
  {
   "cell_type": "code",
   "execution_count": 14,
   "metadata": {},
   "outputs": [
    {
     "name": "stderr",
     "output_type": "stream",
     "text": [
      "/home/mrnogues/anaconda3/lib/python3.7/site-packages/ipykernel_launcher.py:1: SettingWithCopyWarning: \n",
      "A value is trying to be set on a copy of a slice from a DataFrame.\n",
      "Try using .loc[row_indexer,col_indexer] = value instead\n",
      "\n",
      "See the caveats in the documentation: http://pandas.pydata.org/pandas-docs/stable/user_guide/indexing.html#returning-a-view-versus-a-copy\n",
      "  \"\"\"Entry point for launching an IPython kernel.\n"
     ]
    }
   ],
   "source": [
    "df_transactions_filtered_nan_removed[\"units_ordered\"]  = df_transactions_filtered_nan_removed[\"units_ordered\"].str.split(\",\").apply(lambda l: int(l[0]))"
   ]
  },
  {
   "cell_type": "code",
   "execution_count": 15,
   "metadata": {},
   "outputs": [
    {
     "data": {
      "text/html": [
       "<div>\n",
       "<style scoped>\n",
       "    .dataframe tbody tr th:only-of-type {\n",
       "        vertical-align: middle;\n",
       "    }\n",
       "\n",
       "    .dataframe tbody tr th {\n",
       "        vertical-align: top;\n",
       "    }\n",
       "\n",
       "    .dataframe thead th {\n",
       "        text-align: right;\n",
       "    }\n",
       "</style>\n",
       "<table border=\"1\" class=\"dataframe\">\n",
       "  <thead>\n",
       "    <tr style=\"text-align: right;\">\n",
       "      <th></th>\n",
       "      <th>product_id</th>\n",
       "      <th>description</th>\n",
       "      <th>order_date</th>\n",
       "      <th>section</th>\n",
       "      <th>store</th>\n",
       "      <th>units_ordered</th>\n",
       "      <th>desc_normalized</th>\n",
       "      <th>target_names_prod_by_prod</th>\n",
       "    </tr>\n",
       "  </thead>\n",
       "  <tbody>\n",
       "    <tr>\n",
       "      <td>0</td>\n",
       "      <td>100.0</td>\n",
       "      <td>CROISANTS</td>\n",
       "      <td>2008-01-01</td>\n",
       "      <td>0</td>\n",
       "      <td>VeUp</td>\n",
       "      <td>20</td>\n",
       "      <td>croissant</td>\n",
       "      <td>croissant simple</td>\n",
       "    </tr>\n",
       "    <tr>\n",
       "      <td>1</td>\n",
       "      <td>182.0</td>\n",
       "      <td>PALMERAS DE TRUFA</td>\n",
       "      <td>2008-01-01</td>\n",
       "      <td>0</td>\n",
       "      <td>VeUp</td>\n",
       "      <td>4</td>\n",
       "      <td>palmera de trufa</td>\n",
       "      <td>palmera chocolate</td>\n",
       "    </tr>\n",
       "    <tr>\n",
       "      <td>2</td>\n",
       "      <td>101.0</td>\n",
       "      <td>CROISSANT</td>\n",
       "      <td>2008-01-01</td>\n",
       "      <td>0</td>\n",
       "      <td>VeUp</td>\n",
       "      <td>0</td>\n",
       "      <td>croissant</td>\n",
       "      <td>croissant simple</td>\n",
       "    </tr>\n",
       "    <tr>\n",
       "      <td>3</td>\n",
       "      <td>103.0</td>\n",
       "      <td>CROISSANT PETIT</td>\n",
       "      <td>2008-01-01</td>\n",
       "      <td>0</td>\n",
       "      <td>VeUp</td>\n",
       "      <td>18</td>\n",
       "      <td>croissant petit</td>\n",
       "      <td>croissant petit</td>\n",
       "    </tr>\n",
       "    <tr>\n",
       "      <td>4</td>\n",
       "      <td>112.0</td>\n",
       "      <td>TORTELES</td>\n",
       "      <td>2008-01-01</td>\n",
       "      <td>0</td>\n",
       "      <td>VeUp</td>\n",
       "      <td>60</td>\n",
       "      <td>torteles</td>\n",
       "      <td>tortel</td>\n",
       "    </tr>\n",
       "  </tbody>\n",
       "</table>\n",
       "</div>"
      ],
      "text/plain": [
       "   product_id        description order_date  section store  units_ordered  \\\n",
       "0       100.0          CROISANTS 2008-01-01        0  VeUp             20   \n",
       "1       182.0  PALMERAS DE TRUFA 2008-01-01        0  VeUp              4   \n",
       "2       101.0          CROISSANT 2008-01-01        0  VeUp              0   \n",
       "3       103.0    CROISSANT PETIT 2008-01-01        0  VeUp             18   \n",
       "4       112.0           TORTELES 2008-01-01        0  VeUp             60   \n",
       "\n",
       "    desc_normalized target_names_prod_by_prod  \n",
       "0         croissant          croissant simple  \n",
       "1  palmera de trufa         palmera chocolate  \n",
       "2         croissant          croissant simple  \n",
       "3   croissant petit           croissant petit  \n",
       "4          torteles                    tortel  "
      ]
     },
     "execution_count": 15,
     "metadata": {},
     "output_type": "execute_result"
    }
   ],
   "source": [
    "df_transactions_filtered_nan_removed.head()"
   ]
  },
  {
   "cell_type": "code",
   "execution_count": 16,
   "metadata": {
    "scrolled": true
   },
   "outputs": [
    {
     "name": "stdout",
     "output_type": "stream",
     "text": [
      "<class 'pandas.core.frame.DataFrame'>\n",
      "Int64Index: 967679 entries, 0 to 967992\n",
      "Data columns (total 8 columns):\n",
      "product_id                   967679 non-null float64\n",
      "description                  967679 non-null object\n",
      "order_date                   967679 non-null datetime64[ns]\n",
      "section                      967679 non-null int64\n",
      "store                        967679 non-null object\n",
      "units_ordered                967679 non-null int64\n",
      "desc_normalized              967679 non-null object\n",
      "target_names_prod_by_prod    967679 non-null object\n",
      "dtypes: datetime64[ns](1), float64(1), int64(2), object(4)\n",
      "memory usage: 66.4+ MB\n"
     ]
    }
   ],
   "source": [
    "df_transactions_filtered_nan_removed.info()"
   ]
  },
  {
   "cell_type": "markdown",
   "metadata": {},
   "source": [
    "Voila! the types look as they should be looking, and the nulls have been treated. "
   ]
  },
  {
   "cell_type": "markdown",
   "metadata": {},
   "source": [
    "# Duplicates Analysis"
   ]
  },
  {
   "cell_type": "markdown",
   "metadata": {},
   "source": [
    "Lets see if we have any duplicates:"
   ]
  },
  {
   "cell_type": "code",
   "execution_count": 17,
   "metadata": {},
   "outputs": [
    {
     "data": {
      "text/plain": [
       "120340"
      ]
     },
     "execution_count": 17,
     "metadata": {},
     "output_type": "execute_result"
    }
   ],
   "source": [
    "df_transactions_filtered_nan_removed.duplicated().sum() "
   ]
  },
  {
   "cell_type": "markdown",
   "metadata": {},
   "source": [
    "Wow! this was unexpected 120.323 duplicates... We need to have a deeper look:"
   ]
  },
  {
   "cell_type": "code",
   "execution_count": 18,
   "metadata": {},
   "outputs": [
    {
     "data": {
      "text/html": [
       "<div>\n",
       "<style scoped>\n",
       "    .dataframe tbody tr th:only-of-type {\n",
       "        vertical-align: middle;\n",
       "    }\n",
       "\n",
       "    .dataframe tbody tr th {\n",
       "        vertical-align: top;\n",
       "    }\n",
       "\n",
       "    .dataframe thead th {\n",
       "        text-align: right;\n",
       "    }\n",
       "</style>\n",
       "<table border=\"1\" class=\"dataframe\">\n",
       "  <thead>\n",
       "    <tr style=\"text-align: right;\">\n",
       "      <th></th>\n",
       "      <th>product_id</th>\n",
       "      <th>description</th>\n",
       "      <th>order_date</th>\n",
       "      <th>section</th>\n",
       "      <th>store</th>\n",
       "      <th>units_ordered</th>\n",
       "      <th>desc_normalized</th>\n",
       "      <th>target_names_prod_by_prod</th>\n",
       "    </tr>\n",
       "  </thead>\n",
       "  <tbody>\n",
       "    <tr>\n",
       "      <td>261</td>\n",
       "      <td>182.0</td>\n",
       "      <td>PALMERAS DE TRUFA</td>\n",
       "      <td>2009-01-01</td>\n",
       "      <td>0</td>\n",
       "      <td>ZiUO</td>\n",
       "      <td>0</td>\n",
       "      <td>palmera de trufa</td>\n",
       "      <td>palmera chocolate</td>\n",
       "    </tr>\n",
       "    <tr>\n",
       "      <td>292</td>\n",
       "      <td>182.0</td>\n",
       "      <td>PALMERAS DE TRUFA</td>\n",
       "      <td>2009-01-01</td>\n",
       "      <td>0</td>\n",
       "      <td>AeUP</td>\n",
       "      <td>0</td>\n",
       "      <td>palmera de trufa</td>\n",
       "      <td>palmera chocolate</td>\n",
       "    </tr>\n",
       "    <tr>\n",
       "      <td>325</td>\n",
       "      <td>182.0</td>\n",
       "      <td>PALMERAS DE TRUFA</td>\n",
       "      <td>2009-01-01</td>\n",
       "      <td>0</td>\n",
       "      <td>ViUP</td>\n",
       "      <td>0</td>\n",
       "      <td>palmera de trufa</td>\n",
       "      <td>palmera chocolate</td>\n",
       "    </tr>\n",
       "    <tr>\n",
       "      <td>347</td>\n",
       "      <td>182.0</td>\n",
       "      <td>PALMERAS DE TRUFA</td>\n",
       "      <td>2009-01-01</td>\n",
       "      <td>0</td>\n",
       "      <td>LiUP</td>\n",
       "      <td>0</td>\n",
       "      <td>palmera de trufa</td>\n",
       "      <td>palmera chocolate</td>\n",
       "    </tr>\n",
       "    <tr>\n",
       "      <td>358</td>\n",
       "      <td>182.0</td>\n",
       "      <td>PALMERAS DE TRUFA</td>\n",
       "      <td>2009-01-01</td>\n",
       "      <td>0</td>\n",
       "      <td>GeUP</td>\n",
       "      <td>0</td>\n",
       "      <td>palmera de trufa</td>\n",
       "      <td>palmera chocolate</td>\n",
       "    </tr>\n",
       "    <tr>\n",
       "      <td>...</td>\n",
       "      <td>...</td>\n",
       "      <td>...</td>\n",
       "      <td>...</td>\n",
       "      <td>...</td>\n",
       "      <td>...</td>\n",
       "      <td>...</td>\n",
       "      <td>...</td>\n",
       "      <td>...</td>\n",
       "    </tr>\n",
       "    <tr>\n",
       "      <td>967784</td>\n",
       "      <td>4511.0</td>\n",
       "      <td>POSTRE  FRESAS Y MASCARPONE</td>\n",
       "      <td>2018-09-09</td>\n",
       "      <td>0</td>\n",
       "      <td>GoUP</td>\n",
       "      <td>0</td>\n",
       "      <td>postres fresas y mascarpone</td>\n",
       "      <td>postre de fresas y mascarpone</td>\n",
       "    </tr>\n",
       "    <tr>\n",
       "      <td>967785</td>\n",
       "      <td>459.0</td>\n",
       "      <td>MILHOJAS   FRAMBUESA 2º</td>\n",
       "      <td>2018-09-09</td>\n",
       "      <td>0</td>\n",
       "      <td>GoUP</td>\n",
       "      <td>0</td>\n",
       "      <td>milhojas frambuesa 2</td>\n",
       "      <td>milhojas frambuesa</td>\n",
       "    </tr>\n",
       "    <tr>\n",
       "      <td>967786</td>\n",
       "      <td>459.0</td>\n",
       "      <td>MILHOJAS   FRAMBUESA 2º</td>\n",
       "      <td>2018-09-09</td>\n",
       "      <td>0</td>\n",
       "      <td>GoUP</td>\n",
       "      <td>0</td>\n",
       "      <td>milhojas frambuesa 2</td>\n",
       "      <td>milhojas frambuesa</td>\n",
       "    </tr>\n",
       "    <tr>\n",
       "      <td>967787</td>\n",
       "      <td>462.0</td>\n",
       "      <td>MANZANA 2º</td>\n",
       "      <td>2018-09-09</td>\n",
       "      <td>0</td>\n",
       "      <td>GoUP</td>\n",
       "      <td>0</td>\n",
       "      <td>manzana 2</td>\n",
       "      <td>tarta de manzana</td>\n",
       "    </tr>\n",
       "    <tr>\n",
       "      <td>967800</td>\n",
       "      <td>103.0</td>\n",
       "      <td>CROISSANT PETIT</td>\n",
       "      <td>2018-09-09</td>\n",
       "      <td>0</td>\n",
       "      <td>GoUP</td>\n",
       "      <td>0</td>\n",
       "      <td>croissant petit</td>\n",
       "      <td>croissant petit</td>\n",
       "    </tr>\n",
       "  </tbody>\n",
       "</table>\n",
       "<p>120340 rows × 8 columns</p>\n",
       "</div>"
      ],
      "text/plain": [
       "        product_id                  description order_date  section store  \\\n",
       "261          182.0            PALMERAS DE TRUFA 2009-01-01        0  ZiUO   \n",
       "292          182.0            PALMERAS DE TRUFA 2009-01-01        0  AeUP   \n",
       "325          182.0            PALMERAS DE TRUFA 2009-01-01        0  ViUP   \n",
       "347          182.0            PALMERAS DE TRUFA 2009-01-01        0  LiUP   \n",
       "358          182.0            PALMERAS DE TRUFA 2009-01-01        0  GeUP   \n",
       "...            ...                          ...        ...      ...   ...   \n",
       "967784      4511.0  POSTRE  FRESAS Y MASCARPONE 2018-09-09        0  GoUP   \n",
       "967785       459.0      MILHOJAS   FRAMBUESA 2º 2018-09-09        0  GoUP   \n",
       "967786       459.0      MILHOJAS   FRAMBUESA 2º 2018-09-09        0  GoUP   \n",
       "967787       462.0                   MANZANA 2º 2018-09-09        0  GoUP   \n",
       "967800       103.0              CROISSANT PETIT 2018-09-09        0  GoUP   \n",
       "\n",
       "        units_ordered              desc_normalized  \\\n",
       "261                 0             palmera de trufa   \n",
       "292                 0             palmera de trufa   \n",
       "325                 0             palmera de trufa   \n",
       "347                 0             palmera de trufa   \n",
       "358                 0             palmera de trufa   \n",
       "...               ...                          ...   \n",
       "967784              0  postres fresas y mascarpone   \n",
       "967785              0         milhojas frambuesa 2   \n",
       "967786              0         milhojas frambuesa 2   \n",
       "967787              0                    manzana 2   \n",
       "967800              0              croissant petit   \n",
       "\n",
       "            target_names_prod_by_prod  \n",
       "261                 palmera chocolate  \n",
       "292                 palmera chocolate  \n",
       "325                 palmera chocolate  \n",
       "347                 palmera chocolate  \n",
       "358                 palmera chocolate  \n",
       "...                               ...  \n",
       "967784  postre de fresas y mascarpone  \n",
       "967785             milhojas frambuesa  \n",
       "967786             milhojas frambuesa  \n",
       "967787               tarta de manzana  \n",
       "967800                croissant petit  \n",
       "\n",
       "[120340 rows x 8 columns]"
      ]
     },
     "execution_count": 18,
     "metadata": {},
     "output_type": "execute_result"
    }
   ],
   "source": [
    "duplicates = df_transactions_filtered_nan_removed[df_transactions_filtered_nan_removed.duplicated()]\n",
    "duplicates"
   ]
  },
  {
   "cell_type": "markdown",
   "metadata": {},
   "source": [
    "Interesting, it seems that all have 0 units ordered, but lets dig more into this:"
   ]
  },
  {
   "cell_type": "code",
   "execution_count": 19,
   "metadata": {},
   "outputs": [
    {
     "data": {
      "text/plain": [
       "0     118025\n",
       "1       1583\n",
       "2        255\n",
       "3         71\n",
       "6         71\n",
       "4         65\n",
       "8         50\n",
       "10        38\n",
       "5         32\n",
       "12        21\n",
       "15        18\n",
       "25        12\n",
       "7         12\n",
       "20        12\n",
       "18        12\n",
       "50         9\n",
       "30         8\n",
       "14         7\n",
       "16         7\n",
       "40         5\n",
       "11         4\n",
       "9          4\n",
       "13         3\n",
       "24         3\n",
       "55         2\n",
       "22         2\n",
       "26         2\n",
       "35         2\n",
       "70         1\n",
       "90         1\n",
       "45         1\n",
       "64         1\n",
       "60         1\n",
       "Name: units_ordered, dtype: int64"
      ]
     },
     "execution_count": 19,
     "metadata": {},
     "output_type": "execute_result"
    }
   ],
   "source": [
    "duplicates[\"units_ordered\"].value_counts()"
   ]
  },
  {
   "cell_type": "markdown",
   "metadata": {},
   "source": [
    "Unfortunately, it seems that not all the duplicates are 0, otherwise we could have deleted the duplicates as they don't add any value. However we now need to find out a bit more the ones greater than 0. \n",
    "\n",
    "Lets explore the original file to see what could have happened:"
   ]
  },
  {
   "cell_type": "markdown",
   "metadata": {},
   "source": [
    "Lets take for example the duplicate with \"units_ordered\" = 70:"
   ]
  },
  {
   "cell_type": "code",
   "execution_count": 20,
   "metadata": {},
   "outputs": [
    {
     "data": {
      "text/html": [
       "<div>\n",
       "<style scoped>\n",
       "    .dataframe tbody tr th:only-of-type {\n",
       "        vertical-align: middle;\n",
       "    }\n",
       "\n",
       "    .dataframe tbody tr th {\n",
       "        vertical-align: top;\n",
       "    }\n",
       "\n",
       "    .dataframe thead th {\n",
       "        text-align: right;\n",
       "    }\n",
       "</style>\n",
       "<table border=\"1\" class=\"dataframe\">\n",
       "  <thead>\n",
       "    <tr style=\"text-align: right;\">\n",
       "      <th></th>\n",
       "      <th>product_id</th>\n",
       "      <th>description</th>\n",
       "      <th>order_date</th>\n",
       "      <th>section</th>\n",
       "      <th>store</th>\n",
       "      <th>units_ordered</th>\n",
       "      <th>desc_normalized</th>\n",
       "      <th>target_names_prod_by_prod</th>\n",
       "    </tr>\n",
       "  </thead>\n",
       "  <tbody>\n",
       "    <tr>\n",
       "      <td>396521</td>\n",
       "      <td>112.0</td>\n",
       "      <td>TORTELES</td>\n",
       "      <td>2016-02-20</td>\n",
       "      <td>0</td>\n",
       "      <td>VeUp</td>\n",
       "      <td>70</td>\n",
       "      <td>torteles</td>\n",
       "      <td>tortel</td>\n",
       "    </tr>\n",
       "  </tbody>\n",
       "</table>\n",
       "</div>"
      ],
      "text/plain": [
       "        product_id description order_date  section store  units_ordered  \\\n",
       "396521       112.0    TORTELES 2016-02-20        0  VeUp             70   \n",
       "\n",
       "       desc_normalized target_names_prod_by_prod  \n",
       "396521        torteles                    tortel  "
      ]
     },
     "execution_count": 20,
     "metadata": {},
     "output_type": "execute_result"
    }
   ],
   "source": [
    "duplicates[duplicates[\"units_ordered\"]==70]"
   ]
  },
  {
   "cell_type": "code",
   "execution_count": null,
   "metadata": {},
   "outputs": [],
   "source": []
  },
  {
   "cell_type": "markdown",
   "metadata": {},
   "source": [
    "Lets now search for this specific row in the original dataset that the client gave us:"
   ]
  },
  {
   "cell_type": "code",
   "execution_count": 21,
   "metadata": {},
   "outputs": [
    {
     "data": {
      "text/html": [
       "<div>\n",
       "<style scoped>\n",
       "    .dataframe tbody tr th:only-of-type {\n",
       "        vertical-align: middle;\n",
       "    }\n",
       "\n",
       "    .dataframe tbody tr th {\n",
       "        vertical-align: top;\n",
       "    }\n",
       "\n",
       "    .dataframe thead th {\n",
       "        text-align: right;\n",
       "    }\n",
       "</style>\n",
       "<table border=\"1\" class=\"dataframe\">\n",
       "  <thead>\n",
       "    <tr style=\"text-align: right;\">\n",
       "      <th></th>\n",
       "      <th>product_id</th>\n",
       "      <th>description</th>\n",
       "      <th>order_date</th>\n",
       "      <th>section</th>\n",
       "      <th>BmUP</th>\n",
       "      <th>VeUp</th>\n",
       "      <th>CzUP</th>\n",
       "      <th>AaUP</th>\n",
       "      <th>SeUP</th>\n",
       "      <th>JPUP</th>\n",
       "      <th>RzUP</th>\n",
       "      <th>AeUP</th>\n",
       "      <th>LiUP</th>\n",
       "      <th>EnUP</th>\n",
       "      <th>GoUP</th>\n",
       "      <th>GrUP</th>\n",
       "      <th>AnUP</th>\n",
       "      <th>MoUP</th>\n",
       "      <th>PoUP</th>\n",
       "      <th>MsUP</th>\n",
       "      <th>ViUP</th>\n",
       "      <th>ZiUO</th>\n",
       "      <th>GeUP</th>\n",
       "    </tr>\n",
       "  </thead>\n",
       "  <tbody>\n",
       "    <tr>\n",
       "      <td>774282</td>\n",
       "      <td>182.0</td>\n",
       "      <td>PALMERAS DE TRUFA</td>\n",
       "      <td>1/1/2009 0:00:00</td>\n",
       "      <td>0</td>\n",
       "      <td>2,00</td>\n",
       "      <td>5,00</td>\n",
       "      <td>2,00</td>\n",
       "      <td>2,00</td>\n",
       "      <td>8,00</td>\n",
       "      <td>3,00</td>\n",
       "      <td>2,00</td>\n",
       "      <td>0,00</td>\n",
       "      <td>0,00</td>\n",
       "      <td>3,00</td>\n",
       "      <td>2,00</td>\n",
       "      <td>4,00</td>\n",
       "      <td>4,00</td>\n",
       "      <td>3,00</td>\n",
       "      <td>0,00</td>\n",
       "      <td>0,00</td>\n",
       "      <td>0,00</td>\n",
       "      <td>0,00</td>\n",
       "      <td>0,00</td>\n",
       "    </tr>\n",
       "    <tr>\n",
       "      <td>781175</td>\n",
       "      <td>182.0</td>\n",
       "      <td>PALMERAS DE TRUFA</td>\n",
       "      <td>1/1/2009 0:00:00</td>\n",
       "      <td>0</td>\n",
       "      <td>0,00</td>\n",
       "      <td>0,00</td>\n",
       "      <td>0,00</td>\n",
       "      <td>0,00</td>\n",
       "      <td>0,00</td>\n",
       "      <td>0,00</td>\n",
       "      <td>0,00</td>\n",
       "      <td>0,00</td>\n",
       "      <td>0,00</td>\n",
       "      <td>0,00</td>\n",
       "      <td>0,00</td>\n",
       "      <td>0,00</td>\n",
       "      <td>0,00</td>\n",
       "      <td>0,00</td>\n",
       "      <td>0,00</td>\n",
       "      <td>5,00</td>\n",
       "      <td>0,00</td>\n",
       "      <td>0,00</td>\n",
       "      <td>0,00</td>\n",
       "    </tr>\n",
       "  </tbody>\n",
       "</table>\n",
       "</div>"
      ],
      "text/plain": [
       "        product_id        description        order_date  section  BmUP  VeUp  \\\n",
       "774282       182.0  PALMERAS DE TRUFA  1/1/2009 0:00:00        0  2,00  5,00   \n",
       "781175       182.0  PALMERAS DE TRUFA  1/1/2009 0:00:00        0  0,00  0,00   \n",
       "\n",
       "        CzUP  AaUP  SeUP  JPUP  RzUP  AeUP  LiUP  EnUP  GoUP  GrUP  AnUP  \\\n",
       "774282  2,00  2,00  8,00  3,00  2,00  0,00  0,00  3,00  2,00  4,00  4,00   \n",
       "781175  0,00  0,00  0,00  0,00  0,00  0,00  0,00  0,00  0,00  0,00  0,00   \n",
       "\n",
       "        MoUP  PoUP  MsUP  ViUP  ZiUO  GeUP  \n",
       "774282  3,00  0,00  0,00  0,00  0,00  0,00  \n",
       "781175  0,00  0,00  5,00  0,00  0,00  0,00  "
      ]
     },
     "execution_count": 21,
     "metadata": {},
     "output_type": "execute_result"
    }
   ],
   "source": [
    "df_original[(df_original[\"order_date\"]==\"1/1/2009 0:00:00\")&(df_original[\"description\"].str.contains(\"PALMERAS DE TRUFA\"))]"
   ]
  },
  {
   "cell_type": "code",
   "execution_count": 22,
   "metadata": {},
   "outputs": [
    {
     "data": {
      "text/plain": [
       "5282"
      ]
     },
     "execution_count": 22,
     "metadata": {},
     "output_type": "execute_result"
    }
   ],
   "source": [
    "df_original.duplicated().sum()"
   ]
  },
  {
   "cell_type": "code",
   "execution_count": 23,
   "metadata": {},
   "outputs": [
    {
     "data": {
      "text/html": [
       "<div>\n",
       "<style scoped>\n",
       "    .dataframe tbody tr th:only-of-type {\n",
       "        vertical-align: middle;\n",
       "    }\n",
       "\n",
       "    .dataframe tbody tr th {\n",
       "        vertical-align: top;\n",
       "    }\n",
       "\n",
       "    .dataframe thead th {\n",
       "        text-align: right;\n",
       "    }\n",
       "</style>\n",
       "<table border=\"1\" class=\"dataframe\">\n",
       "  <thead>\n",
       "    <tr style=\"text-align: right;\">\n",
       "      <th></th>\n",
       "      <th>product_id</th>\n",
       "      <th>description</th>\n",
       "      <th>order_date</th>\n",
       "      <th>section</th>\n",
       "      <th>BmUP</th>\n",
       "      <th>VeUp</th>\n",
       "      <th>CzUP</th>\n",
       "      <th>AaUP</th>\n",
       "      <th>SeUP</th>\n",
       "      <th>JPUP</th>\n",
       "      <th>RzUP</th>\n",
       "      <th>AeUP</th>\n",
       "      <th>LiUP</th>\n",
       "      <th>EnUP</th>\n",
       "      <th>GoUP</th>\n",
       "      <th>GrUP</th>\n",
       "      <th>AnUP</th>\n",
       "      <th>MoUP</th>\n",
       "      <th>PoUP</th>\n",
       "      <th>MsUP</th>\n",
       "      <th>ViUP</th>\n",
       "      <th>ZiUO</th>\n",
       "      <th>GeUP</th>\n",
       "    </tr>\n",
       "  </thead>\n",
       "  <tbody>\n",
       "    <tr>\n",
       "      <td>1462852</td>\n",
       "      <td>112.0</td>\n",
       "      <td>TORTELES</td>\n",
       "      <td>20/2/2016 0:00:00</td>\n",
       "      <td>0</td>\n",
       "      <td>40,00</td>\n",
       "      <td>70,00</td>\n",
       "      <td>35,00</td>\n",
       "      <td>60,00</td>\n",
       "      <td>36,00</td>\n",
       "      <td>30,00</td>\n",
       "      <td>16,00</td>\n",
       "      <td>0,00</td>\n",
       "      <td>0,00</td>\n",
       "      <td>30,00</td>\n",
       "      <td>0,00</td>\n",
       "      <td>0,00</td>\n",
       "      <td>20,00</td>\n",
       "      <td>20,00</td>\n",
       "      <td>30,00</td>\n",
       "      <td>0,00</td>\n",
       "      <td>0,00</td>\n",
       "      <td>0,00</td>\n",
       "      <td>17,00</td>\n",
       "    </tr>\n",
       "    <tr>\n",
       "      <td>1462883</td>\n",
       "      <td>112.0</td>\n",
       "      <td>TORTELES</td>\n",
       "      <td>20/2/2016 0:00:00</td>\n",
       "      <td>0</td>\n",
       "      <td>0,00</td>\n",
       "      <td>70,00</td>\n",
       "      <td>0,00</td>\n",
       "      <td>0,00</td>\n",
       "      <td>0,00</td>\n",
       "      <td>0,00</td>\n",
       "      <td>0,00</td>\n",
       "      <td>0,00</td>\n",
       "      <td>0,00</td>\n",
       "      <td>0,00</td>\n",
       "      <td>0,00</td>\n",
       "      <td>0,00</td>\n",
       "      <td>0,00</td>\n",
       "      <td>0,00</td>\n",
       "      <td>0,00</td>\n",
       "      <td>0,00</td>\n",
       "      <td>0,00</td>\n",
       "      <td>0,00</td>\n",
       "      <td>0,00</td>\n",
       "    </tr>\n",
       "  </tbody>\n",
       "</table>\n",
       "</div>"
      ],
      "text/plain": [
       "         product_id description         order_date  section   BmUP   VeUp  \\\n",
       "1462852       112.0    TORTELES  20/2/2016 0:00:00        0  40,00  70,00   \n",
       "1462883       112.0    TORTELES  20/2/2016 0:00:00        0   0,00  70,00   \n",
       "\n",
       "          CzUP   AaUP   SeUP   JPUP   RzUP  AeUP  LiUP   EnUP  GoUP  GrUP  \\\n",
       "1462852  35,00  60,00  36,00  30,00  16,00  0,00  0,00  30,00  0,00  0,00   \n",
       "1462883   0,00   0,00   0,00   0,00   0,00  0,00  0,00   0,00  0,00  0,00   \n",
       "\n",
       "          AnUP   MoUP   PoUP  MsUP  ViUP  ZiUO   GeUP  \n",
       "1462852  20,00  20,00  30,00  0,00  0,00  0,00  17,00  \n",
       "1462883   0,00   0,00   0,00  0,00  0,00  0,00   0,00  "
      ]
     },
     "execution_count": 23,
     "metadata": {},
     "output_type": "execute_result"
    }
   ],
   "source": [
    "df_original[(df_original[\"order_date\"]==\"20/2/2016 0:00:00\")&(df_original[\"description\"].str.contains(\"TORTELES\"))]"
   ]
  },
  {
   "cell_type": "markdown",
   "metadata": {},
   "source": [
    "Interesting, the bottom line is empty except for the store \"VeUp\" that has the value repeated. Coincidence or patter? lets dig a bit more:"
   ]
  },
  {
   "cell_type": "code",
   "execution_count": 24,
   "metadata": {},
   "outputs": [
    {
     "data": {
      "text/html": [
       "<div>\n",
       "<style scoped>\n",
       "    .dataframe tbody tr th:only-of-type {\n",
       "        vertical-align: middle;\n",
       "    }\n",
       "\n",
       "    .dataframe tbody tr th {\n",
       "        vertical-align: top;\n",
       "    }\n",
       "\n",
       "    .dataframe thead th {\n",
       "        text-align: right;\n",
       "    }\n",
       "</style>\n",
       "<table border=\"1\" class=\"dataframe\">\n",
       "  <thead>\n",
       "    <tr style=\"text-align: right;\">\n",
       "      <th></th>\n",
       "      <th>product_id</th>\n",
       "      <th>description</th>\n",
       "      <th>order_date</th>\n",
       "      <th>section</th>\n",
       "      <th>store</th>\n",
       "      <th>units_ordered</th>\n",
       "      <th>desc_normalized</th>\n",
       "      <th>target_names_prod_by_prod</th>\n",
       "    </tr>\n",
       "  </thead>\n",
       "  <tbody>\n",
       "    <tr>\n",
       "      <td>72240</td>\n",
       "      <td>100.0</td>\n",
       "      <td>CROISSANT</td>\n",
       "      <td>2018-11-11</td>\n",
       "      <td>0</td>\n",
       "      <td>JPUP</td>\n",
       "      <td>4</td>\n",
       "      <td>croissant</td>\n",
       "      <td>croissant simple</td>\n",
       "    </tr>\n",
       "  </tbody>\n",
       "</table>\n",
       "</div>"
      ],
      "text/plain": [
       "       product_id description order_date  section store  units_ordered  \\\n",
       "72240       100.0   CROISSANT 2018-11-11        0  JPUP              4   \n",
       "\n",
       "      desc_normalized target_names_prod_by_prod  \n",
       "72240       croissant          croissant simple  "
      ]
     },
     "execution_count": 24,
     "metadata": {},
     "output_type": "execute_result"
    }
   ],
   "source": [
    "# Lets take a random one from \n",
    "duplicates[duplicates[\"units_ordered\"]==4].sample()"
   ]
  },
  {
   "cell_type": "code",
   "execution_count": 25,
   "metadata": {},
   "outputs": [
    {
     "data": {
      "text/html": [
       "<div>\n",
       "<style scoped>\n",
       "    .dataframe tbody tr th:only-of-type {\n",
       "        vertical-align: middle;\n",
       "    }\n",
       "\n",
       "    .dataframe tbody tr th {\n",
       "        vertical-align: top;\n",
       "    }\n",
       "\n",
       "    .dataframe thead th {\n",
       "        text-align: right;\n",
       "    }\n",
       "</style>\n",
       "<table border=\"1\" class=\"dataframe\">\n",
       "  <thead>\n",
       "    <tr style=\"text-align: right;\">\n",
       "      <th></th>\n",
       "      <th>product_id</th>\n",
       "      <th>description</th>\n",
       "      <th>order_date</th>\n",
       "      <th>section</th>\n",
       "      <th>RzUP</th>\n",
       "    </tr>\n",
       "  </thead>\n",
       "  <tbody>\n",
       "    <tr>\n",
       "      <td>1471806</td>\n",
       "      <td>459.0</td>\n",
       "      <td>MILHOJAS   FRAMBUESA 2º</td>\n",
       "      <td>27/2/2016 0:00:00</td>\n",
       "      <td>0</td>\n",
       "      <td>1,00</td>\n",
       "    </tr>\n",
       "    <tr>\n",
       "      <td>1471807</td>\n",
       "      <td>459.0</td>\n",
       "      <td>MILHOJAS   FRAMBUESA 2º</td>\n",
       "      <td>27/2/2016 0:00:00</td>\n",
       "      <td>0</td>\n",
       "      <td>4,00</td>\n",
       "    </tr>\n",
       "    <tr>\n",
       "      <td>1471808</td>\n",
       "      <td>459.0</td>\n",
       "      <td>MILHOJAS   FRAMBUESA 2º</td>\n",
       "      <td>27/2/2016 0:00:00</td>\n",
       "      <td>0</td>\n",
       "      <td>1,00</td>\n",
       "    </tr>\n",
       "    <tr>\n",
       "      <td>1473160</td>\n",
       "      <td>459.0</td>\n",
       "      <td>MILHOJAS   FRAMBUESA 2º</td>\n",
       "      <td>27/2/2016 0:00:00</td>\n",
       "      <td>0</td>\n",
       "      <td>4,00</td>\n",
       "    </tr>\n",
       "    <tr>\n",
       "      <td>1473665</td>\n",
       "      <td>459.0</td>\n",
       "      <td>MILHOJAS   FRAMBUESA 2º</td>\n",
       "      <td>27/2/2016 0:00:00</td>\n",
       "      <td>0</td>\n",
       "      <td>0,00</td>\n",
       "    </tr>\n",
       "    <tr>\n",
       "      <td>1473671</td>\n",
       "      <td>459.0</td>\n",
       "      <td>MILHOJAS   FRAMBUESA 2º</td>\n",
       "      <td>27/2/2016 0:00:00</td>\n",
       "      <td>0</td>\n",
       "      <td>0,00</td>\n",
       "    </tr>\n",
       "    <tr>\n",
       "      <td>1473694</td>\n",
       "      <td>459.0</td>\n",
       "      <td>MILHOJAS   FRAMBUESA 2º</td>\n",
       "      <td>27/2/2016 0:00:00</td>\n",
       "      <td>0</td>\n",
       "      <td>0,00</td>\n",
       "    </tr>\n",
       "    <tr>\n",
       "      <td>1473695</td>\n",
       "      <td>459.0</td>\n",
       "      <td>MILHOJAS   FRAMBUESA 2º</td>\n",
       "      <td>27/2/2016 0:00:00</td>\n",
       "      <td>0</td>\n",
       "      <td>0,00</td>\n",
       "    </tr>\n",
       "    <tr>\n",
       "      <td>1473778</td>\n",
       "      <td>459.0</td>\n",
       "      <td>MILHOJAS   FRAMBUESA 2º</td>\n",
       "      <td>27/2/2016 0:00:00</td>\n",
       "      <td>0</td>\n",
       "      <td>0,00</td>\n",
       "    </tr>\n",
       "  </tbody>\n",
       "</table>\n",
       "</div>"
      ],
      "text/plain": [
       "         product_id              description         order_date  section  RzUP\n",
       "1471806       459.0  MILHOJAS   FRAMBUESA 2º  27/2/2016 0:00:00        0  1,00\n",
       "1471807       459.0  MILHOJAS   FRAMBUESA 2º  27/2/2016 0:00:00        0  4,00\n",
       "1471808       459.0  MILHOJAS   FRAMBUESA 2º  27/2/2016 0:00:00        0  1,00\n",
       "1473160       459.0  MILHOJAS   FRAMBUESA 2º  27/2/2016 0:00:00        0  4,00\n",
       "1473665       459.0  MILHOJAS   FRAMBUESA 2º  27/2/2016 0:00:00        0  0,00\n",
       "1473671       459.0  MILHOJAS   FRAMBUESA 2º  27/2/2016 0:00:00        0  0,00\n",
       "1473694       459.0  MILHOJAS   FRAMBUESA 2º  27/2/2016 0:00:00        0  0,00\n",
       "1473695       459.0  MILHOJAS   FRAMBUESA 2º  27/2/2016 0:00:00        0  0,00\n",
       "1473778       459.0  MILHOJAS   FRAMBUESA 2º  27/2/2016 0:00:00        0  0,00"
      ]
     },
     "execution_count": 25,
     "metadata": {},
     "output_type": "execute_result"
    }
   ],
   "source": [
    "df_original[(df_original[\"order_date\"]==\"27/2/2016 0:00:00\")&(df_original[\"description\"].str.contains(\"MILHOJAS\"))&(df_original[\"description\"].str.contains(\"FRAMBUESA\"))][[\"product_id\",\"description\",\"order_date\",\"section\",\"RzUP\"]]"
   ]
  },
  {
   "cell_type": "code",
   "execution_count": 26,
   "metadata": {},
   "outputs": [
    {
     "data": {
      "text/html": [
       "<div>\n",
       "<style scoped>\n",
       "    .dataframe tbody tr th:only-of-type {\n",
       "        vertical-align: middle;\n",
       "    }\n",
       "\n",
       "    .dataframe tbody tr th {\n",
       "        vertical-align: top;\n",
       "    }\n",
       "\n",
       "    .dataframe thead th {\n",
       "        text-align: right;\n",
       "    }\n",
       "</style>\n",
       "<table border=\"1\" class=\"dataframe\">\n",
       "  <thead>\n",
       "    <tr style=\"text-align: right;\">\n",
       "      <th></th>\n",
       "      <th>product_id</th>\n",
       "      <th>description</th>\n",
       "      <th>order_date</th>\n",
       "      <th>section</th>\n",
       "      <th>BmUP</th>\n",
       "      <th>VeUp</th>\n",
       "      <th>CzUP</th>\n",
       "      <th>AaUP</th>\n",
       "      <th>SeUP</th>\n",
       "      <th>JPUP</th>\n",
       "      <th>RzUP</th>\n",
       "      <th>AeUP</th>\n",
       "      <th>LiUP</th>\n",
       "      <th>EnUP</th>\n",
       "      <th>GoUP</th>\n",
       "      <th>GrUP</th>\n",
       "      <th>AnUP</th>\n",
       "      <th>MoUP</th>\n",
       "      <th>PoUP</th>\n",
       "      <th>MsUP</th>\n",
       "      <th>ViUP</th>\n",
       "      <th>ZiUO</th>\n",
       "      <th>GeUP</th>\n",
       "    </tr>\n",
       "  </thead>\n",
       "  <tbody>\n",
       "    <tr>\n",
       "      <td>1471806</td>\n",
       "      <td>459.0</td>\n",
       "      <td>MILHOJAS   FRAMBUESA 2º</td>\n",
       "      <td>27/2/2016 0:00:00</td>\n",
       "      <td>0</td>\n",
       "      <td>0,00</td>\n",
       "      <td>0,00</td>\n",
       "      <td>0,00</td>\n",
       "      <td>0,00</td>\n",
       "      <td>0,00</td>\n",
       "      <td>0,00</td>\n",
       "      <td>1,00</td>\n",
       "      <td>0,00</td>\n",
       "      <td>0,00</td>\n",
       "      <td>0,00</td>\n",
       "      <td>0,00</td>\n",
       "      <td>0,00</td>\n",
       "      <td>0,00</td>\n",
       "      <td>0,00</td>\n",
       "      <td>0,00</td>\n",
       "      <td>0,00</td>\n",
       "      <td>0,00</td>\n",
       "      <td>0,00</td>\n",
       "      <td>0,00</td>\n",
       "    </tr>\n",
       "    <tr>\n",
       "      <td>1471807</td>\n",
       "      <td>459.0</td>\n",
       "      <td>MILHOJAS   FRAMBUESA 2º</td>\n",
       "      <td>27/2/2016 0:00:00</td>\n",
       "      <td>0</td>\n",
       "      <td>0,00</td>\n",
       "      <td>0,00</td>\n",
       "      <td>0,00</td>\n",
       "      <td>0,00</td>\n",
       "      <td>0,00</td>\n",
       "      <td>0,00</td>\n",
       "      <td>4,00</td>\n",
       "      <td>0,00</td>\n",
       "      <td>0,00</td>\n",
       "      <td>0,00</td>\n",
       "      <td>0,00</td>\n",
       "      <td>0,00</td>\n",
       "      <td>0,00</td>\n",
       "      <td>0,00</td>\n",
       "      <td>0,00</td>\n",
       "      <td>0,00</td>\n",
       "      <td>0,00</td>\n",
       "      <td>0,00</td>\n",
       "      <td>0,00</td>\n",
       "    </tr>\n",
       "    <tr>\n",
       "      <td>1471808</td>\n",
       "      <td>459.0</td>\n",
       "      <td>MILHOJAS   FRAMBUESA 2º</td>\n",
       "      <td>27/2/2016 0:00:00</td>\n",
       "      <td>0</td>\n",
       "      <td>0,00</td>\n",
       "      <td>0,00</td>\n",
       "      <td>0,00</td>\n",
       "      <td>0,00</td>\n",
       "      <td>0,00</td>\n",
       "      <td>0,00</td>\n",
       "      <td>1,00</td>\n",
       "      <td>0,00</td>\n",
       "      <td>0,00</td>\n",
       "      <td>0,00</td>\n",
       "      <td>0,00</td>\n",
       "      <td>0,00</td>\n",
       "      <td>0,00</td>\n",
       "      <td>0,00</td>\n",
       "      <td>0,00</td>\n",
       "      <td>0,00</td>\n",
       "      <td>0,00</td>\n",
       "      <td>0,00</td>\n",
       "      <td>0,00</td>\n",
       "    </tr>\n",
       "    <tr>\n",
       "      <td>1473160</td>\n",
       "      <td>459.0</td>\n",
       "      <td>MILHOJAS   FRAMBUESA 2º</td>\n",
       "      <td>27/2/2016 0:00:00</td>\n",
       "      <td>0</td>\n",
       "      <td>3,00</td>\n",
       "      <td>4,00</td>\n",
       "      <td>0,00</td>\n",
       "      <td>5,00</td>\n",
       "      <td>0,00</td>\n",
       "      <td>2,00</td>\n",
       "      <td>4,00</td>\n",
       "      <td>0,00</td>\n",
       "      <td>0,00</td>\n",
       "      <td>1,00</td>\n",
       "      <td>0,00</td>\n",
       "      <td>0,00</td>\n",
       "      <td>3,00</td>\n",
       "      <td>1,00</td>\n",
       "      <td>3,00</td>\n",
       "      <td>0,00</td>\n",
       "      <td>0,00</td>\n",
       "      <td>0,00</td>\n",
       "      <td>0,00</td>\n",
       "    </tr>\n",
       "    <tr>\n",
       "      <td>1473665</td>\n",
       "      <td>459.0</td>\n",
       "      <td>MILHOJAS   FRAMBUESA 2º</td>\n",
       "      <td>27/2/2016 0:00:00</td>\n",
       "      <td>0</td>\n",
       "      <td>0,00</td>\n",
       "      <td>0,00</td>\n",
       "      <td>0,00</td>\n",
       "      <td>1,00</td>\n",
       "      <td>0,00</td>\n",
       "      <td>0,00</td>\n",
       "      <td>0,00</td>\n",
       "      <td>0,00</td>\n",
       "      <td>0,00</td>\n",
       "      <td>0,00</td>\n",
       "      <td>0,00</td>\n",
       "      <td>0,00</td>\n",
       "      <td>0,00</td>\n",
       "      <td>0,00</td>\n",
       "      <td>0,00</td>\n",
       "      <td>0,00</td>\n",
       "      <td>0,00</td>\n",
       "      <td>0,00</td>\n",
       "      <td>0,00</td>\n",
       "    </tr>\n",
       "    <tr>\n",
       "      <td>1473671</td>\n",
       "      <td>459.0</td>\n",
       "      <td>MILHOJAS   FRAMBUESA 2º</td>\n",
       "      <td>27/2/2016 0:00:00</td>\n",
       "      <td>0</td>\n",
       "      <td>0,00</td>\n",
       "      <td>0,00</td>\n",
       "      <td>0,00</td>\n",
       "      <td>0,00</td>\n",
       "      <td>3,00</td>\n",
       "      <td>0,00</td>\n",
       "      <td>0,00</td>\n",
       "      <td>0,00</td>\n",
       "      <td>0,00</td>\n",
       "      <td>0,00</td>\n",
       "      <td>0,00</td>\n",
       "      <td>0,00</td>\n",
       "      <td>0,00</td>\n",
       "      <td>0,00</td>\n",
       "      <td>0,00</td>\n",
       "      <td>0,00</td>\n",
       "      <td>0,00</td>\n",
       "      <td>0,00</td>\n",
       "      <td>0,00</td>\n",
       "    </tr>\n",
       "    <tr>\n",
       "      <td>1473694</td>\n",
       "      <td>459.0</td>\n",
       "      <td>MILHOJAS   FRAMBUESA 2º</td>\n",
       "      <td>27/2/2016 0:00:00</td>\n",
       "      <td>0</td>\n",
       "      <td>0,00</td>\n",
       "      <td>0,00</td>\n",
       "      <td>0,00</td>\n",
       "      <td>0,00</td>\n",
       "      <td>0,00</td>\n",
       "      <td>0,00</td>\n",
       "      <td>0,00</td>\n",
       "      <td>0,00</td>\n",
       "      <td>0,00</td>\n",
       "      <td>0,00</td>\n",
       "      <td>0,00</td>\n",
       "      <td>0,00</td>\n",
       "      <td>1,00</td>\n",
       "      <td>0,00</td>\n",
       "      <td>0,00</td>\n",
       "      <td>0,00</td>\n",
       "      <td>0,00</td>\n",
       "      <td>0,00</td>\n",
       "      <td>0,00</td>\n",
       "    </tr>\n",
       "    <tr>\n",
       "      <td>1473695</td>\n",
       "      <td>459.0</td>\n",
       "      <td>MILHOJAS   FRAMBUESA 2º</td>\n",
       "      <td>27/2/2016 0:00:00</td>\n",
       "      <td>0</td>\n",
       "      <td>0,00</td>\n",
       "      <td>0,00</td>\n",
       "      <td>0,00</td>\n",
       "      <td>0,00</td>\n",
       "      <td>0,00</td>\n",
       "      <td>0,00</td>\n",
       "      <td>0,00</td>\n",
       "      <td>0,00</td>\n",
       "      <td>0,00</td>\n",
       "      <td>0,00</td>\n",
       "      <td>0,00</td>\n",
       "      <td>0,00</td>\n",
       "      <td>1,00</td>\n",
       "      <td>0,00</td>\n",
       "      <td>0,00</td>\n",
       "      <td>0,00</td>\n",
       "      <td>0,00</td>\n",
       "      <td>0,00</td>\n",
       "      <td>0,00</td>\n",
       "    </tr>\n",
       "    <tr>\n",
       "      <td>1473778</td>\n",
       "      <td>459.0</td>\n",
       "      <td>MILHOJAS   FRAMBUESA 2º</td>\n",
       "      <td>27/2/2016 0:00:00</td>\n",
       "      <td>0</td>\n",
       "      <td>0,00</td>\n",
       "      <td>0,00</td>\n",
       "      <td>5,00</td>\n",
       "      <td>0,00</td>\n",
       "      <td>0,00</td>\n",
       "      <td>0,00</td>\n",
       "      <td>0,00</td>\n",
       "      <td>0,00</td>\n",
       "      <td>0,00</td>\n",
       "      <td>0,00</td>\n",
       "      <td>0,00</td>\n",
       "      <td>0,00</td>\n",
       "      <td>0,00</td>\n",
       "      <td>0,00</td>\n",
       "      <td>0,00</td>\n",
       "      <td>0,00</td>\n",
       "      <td>0,00</td>\n",
       "      <td>0,00</td>\n",
       "      <td>0,00</td>\n",
       "    </tr>\n",
       "  </tbody>\n",
       "</table>\n",
       "</div>"
      ],
      "text/plain": [
       "         product_id              description         order_date  section  \\\n",
       "1471806       459.0  MILHOJAS   FRAMBUESA 2º  27/2/2016 0:00:00        0   \n",
       "1471807       459.0  MILHOJAS   FRAMBUESA 2º  27/2/2016 0:00:00        0   \n",
       "1471808       459.0  MILHOJAS   FRAMBUESA 2º  27/2/2016 0:00:00        0   \n",
       "1473160       459.0  MILHOJAS   FRAMBUESA 2º  27/2/2016 0:00:00        0   \n",
       "1473665       459.0  MILHOJAS   FRAMBUESA 2º  27/2/2016 0:00:00        0   \n",
       "1473671       459.0  MILHOJAS   FRAMBUESA 2º  27/2/2016 0:00:00        0   \n",
       "1473694       459.0  MILHOJAS   FRAMBUESA 2º  27/2/2016 0:00:00        0   \n",
       "1473695       459.0  MILHOJAS   FRAMBUESA 2º  27/2/2016 0:00:00        0   \n",
       "1473778       459.0  MILHOJAS   FRAMBUESA 2º  27/2/2016 0:00:00        0   \n",
       "\n",
       "         BmUP  VeUp  CzUP  AaUP  SeUP  JPUP  RzUP  AeUP  LiUP  EnUP  GoUP  \\\n",
       "1471806  0,00  0,00  0,00  0,00  0,00  0,00  1,00  0,00  0,00  0,00  0,00   \n",
       "1471807  0,00  0,00  0,00  0,00  0,00  0,00  4,00  0,00  0,00  0,00  0,00   \n",
       "1471808  0,00  0,00  0,00  0,00  0,00  0,00  1,00  0,00  0,00  0,00  0,00   \n",
       "1473160  3,00  4,00  0,00  5,00  0,00  2,00  4,00  0,00  0,00  1,00  0,00   \n",
       "1473665  0,00  0,00  0,00  1,00  0,00  0,00  0,00  0,00  0,00  0,00  0,00   \n",
       "1473671  0,00  0,00  0,00  0,00  3,00  0,00  0,00  0,00  0,00  0,00  0,00   \n",
       "1473694  0,00  0,00  0,00  0,00  0,00  0,00  0,00  0,00  0,00  0,00  0,00   \n",
       "1473695  0,00  0,00  0,00  0,00  0,00  0,00  0,00  0,00  0,00  0,00  0,00   \n",
       "1473778  0,00  0,00  5,00  0,00  0,00  0,00  0,00  0,00  0,00  0,00  0,00   \n",
       "\n",
       "         GrUP  AnUP  MoUP  PoUP  MsUP  ViUP  ZiUO  GeUP  \n",
       "1471806  0,00  0,00  0,00  0,00  0,00  0,00  0,00  0,00  \n",
       "1471807  0,00  0,00  0,00  0,00  0,00  0,00  0,00  0,00  \n",
       "1471808  0,00  0,00  0,00  0,00  0,00  0,00  0,00  0,00  \n",
       "1473160  0,00  3,00  1,00  3,00  0,00  0,00  0,00  0,00  \n",
       "1473665  0,00  0,00  0,00  0,00  0,00  0,00  0,00  0,00  \n",
       "1473671  0,00  0,00  0,00  0,00  0,00  0,00  0,00  0,00  \n",
       "1473694  0,00  1,00  0,00  0,00  0,00  0,00  0,00  0,00  \n",
       "1473695  0,00  1,00  0,00  0,00  0,00  0,00  0,00  0,00  \n",
       "1473778  0,00  0,00  0,00  0,00  0,00  0,00  0,00  0,00  "
      ]
     },
     "execution_count": 26,
     "metadata": {},
     "output_type": "execute_result"
    }
   ],
   "source": [
    "df_original[(df_original[\"order_date\"]==\"27/2/2016 0:00:00\")&(df_original[\"description\"].str.contains(\"MILHOJAS\"))&(df_original[\"description\"].str.contains(\"FRAMBUESA\"))]"
   ]
  },
  {
   "cell_type": "markdown",
   "metadata": {},
   "source": [
    "Ok..., at this point the information was too confusing: One store, in one day has multiple orders; all very similar.. And when that store is compared to the other stores for the same day, its even more confusing... So we decided to meet with the client and ask for clarifications:\n",
    "\n",
    "These are the conclusions from the meeting:\n",
    "\n",
    " - In the original file, there should only be one line per day, if there are more it could mean two things:\n",
    "     - if the additional line is all 0 except for one store, AND that store has 0 in the main line, it means that they had to manually input their order in the system.\n",
    "     - if one store has duplicated orders for a given day-product, it means they made a mistake. \n",
    " - Also, if a store orders different quantities of the same product in the same day, its probably an error and they only take the largest order.\n",
    " \n",
    " The main conclusion from the client is that we can group by Date - product - store and take the largest order to remove duplicates... HOWEVER, before doing this, we need to take into account another situation: One product could have been ordered by a store, in a given day using several different product id / descriptions. If we group by, we may be loosing orders, unless we are very restrictive. "
   ]
  },
  {
   "cell_type": "code",
   "execution_count": 27,
   "metadata": {},
   "outputs": [],
   "source": [
    "#Lets take the max value for each line:\n",
    "df_non_duplicated_lines = df_transactions_filtered_nan_removed.groupby(['product_id', 'description','order_date', 'section', 'store', 'desc_normalized', 'target_names_prod_by_prod']).max().reset_index()"
   ]
  },
  {
   "cell_type": "code",
   "execution_count": 28,
   "metadata": {},
   "outputs": [
    {
     "data": {
      "text/plain": [
       "0"
      ]
     },
     "execution_count": 28,
     "metadata": {},
     "output_type": "execute_result"
    }
   ],
   "source": [
    "df_non_duplicated_lines.duplicated().sum()"
   ]
  },
  {
   "cell_type": "markdown",
   "metadata": {},
   "source": [
    "Perfect, we don't have duplicates!... Or yes...\n",
    "\n",
    "Actually, we may still have duplicates, one store could have created duplicates that we have not identified by ordering the same product by two different ID's or using different descriptions.\n",
    "\n",
    "- If they were using different ID's this could would mainly mean that they intentionally want two different orders (perhaps custom orders, and normal order)\n",
    "\n",
    "- If they were using different product descriptions, it would probably mean that they introduced the order two times, however lets explore this situation a bit more:\n"
   ]
  },
  {
   "cell_type": "code",
   "execution_count": 29,
   "metadata": {},
   "outputs": [
    {
     "data": {
      "text/plain": [
       "(16,)"
      ]
     },
     "execution_count": 29,
     "metadata": {},
     "output_type": "execute_result"
    }
   ],
   "source": [
    "# Lets count the number of times a duplicated line differs only by the raw desciption, and has a value greater than 0:\n",
    "aux=df_non_duplicated_lines.drop('description', axis=1)\n",
    "aux2 = aux[aux.duplicated()]\n",
    "aux2[aux2[\"units_ordered\"]>0][\"units_ordered\"].shape"
   ]
  },
  {
   "cell_type": "code",
   "execution_count": 30,
   "metadata": {},
   "outputs": [
    {
     "data": {
      "text/plain": [
       "1"
      ]
     },
     "execution_count": 30,
     "metadata": {},
     "output_type": "execute_result"
    }
   ],
   "source": [
    "aux2[\"units_ordered\"].max()"
   ]
  },
  {
   "cell_type": "markdown",
   "metadata": {},
   "source": [
    "OK, so... the total number of times an order of a given store - day - product differs only by the description is 16 times, hence is safe to remove it from the group by"
   ]
  },
  {
   "cell_type": "code",
   "execution_count": 37,
   "metadata": {},
   "outputs": [],
   "source": [
    "df_non_duplicated_lines = df_transactions_filtered_nan_removed.groupby(['product_id','order_date', 'section', 'store', 'target_names_prod_by_prod'])[\"units_ordered\"].max().reset_index()"
   ]
  },
  {
   "cell_type": "code",
   "execution_count": 38,
   "metadata": {},
   "outputs": [
    {
     "data": {
      "text/html": [
       "<div>\n",
       "<style scoped>\n",
       "    .dataframe tbody tr th:only-of-type {\n",
       "        vertical-align: middle;\n",
       "    }\n",
       "\n",
       "    .dataframe tbody tr th {\n",
       "        vertical-align: top;\n",
       "    }\n",
       "\n",
       "    .dataframe thead th {\n",
       "        text-align: right;\n",
       "    }\n",
       "</style>\n",
       "<table border=\"1\" class=\"dataframe\">\n",
       "  <thead>\n",
       "    <tr style=\"text-align: right;\">\n",
       "      <th></th>\n",
       "      <th>product_id</th>\n",
       "      <th>order_date</th>\n",
       "      <th>section</th>\n",
       "      <th>store</th>\n",
       "      <th>target_names_prod_by_prod</th>\n",
       "      <th>units_ordered</th>\n",
       "    </tr>\n",
       "  </thead>\n",
       "  <tbody>\n",
       "    <tr>\n",
       "      <td>0</td>\n",
       "      <td>45.0</td>\n",
       "      <td>2017-05-05</td>\n",
       "      <td>0</td>\n",
       "      <td>AaUP</td>\n",
       "      <td>postre de fresas y mascarpone</td>\n",
       "      <td>0</td>\n",
       "    </tr>\n",
       "    <tr>\n",
       "      <td>1</td>\n",
       "      <td>45.0</td>\n",
       "      <td>2017-05-05</td>\n",
       "      <td>0</td>\n",
       "      <td>AeUP</td>\n",
       "      <td>postre de fresas y mascarpone</td>\n",
       "      <td>0</td>\n",
       "    </tr>\n",
       "    <tr>\n",
       "      <td>2</td>\n",
       "      <td>45.0</td>\n",
       "      <td>2017-05-05</td>\n",
       "      <td>0</td>\n",
       "      <td>AnUP</td>\n",
       "      <td>postre de fresas y mascarpone</td>\n",
       "      <td>0</td>\n",
       "    </tr>\n",
       "    <tr>\n",
       "      <td>3</td>\n",
       "      <td>45.0</td>\n",
       "      <td>2017-05-05</td>\n",
       "      <td>0</td>\n",
       "      <td>BmUP</td>\n",
       "      <td>postre de fresas y mascarpone</td>\n",
       "      <td>0</td>\n",
       "    </tr>\n",
       "    <tr>\n",
       "      <td>4</td>\n",
       "      <td>45.0</td>\n",
       "      <td>2017-05-05</td>\n",
       "      <td>0</td>\n",
       "      <td>CzUP</td>\n",
       "      <td>postre de fresas y mascarpone</td>\n",
       "      <td>0</td>\n",
       "    </tr>\n",
       "  </tbody>\n",
       "</table>\n",
       "</div>"
      ],
      "text/plain": [
       "   product_id order_date  section store      target_names_prod_by_prod  \\\n",
       "0        45.0 2017-05-05        0  AaUP  postre de fresas y mascarpone   \n",
       "1        45.0 2017-05-05        0  AeUP  postre de fresas y mascarpone   \n",
       "2        45.0 2017-05-05        0  AnUP  postre de fresas y mascarpone   \n",
       "3        45.0 2017-05-05        0  BmUP  postre de fresas y mascarpone   \n",
       "4        45.0 2017-05-05        0  CzUP  postre de fresas y mascarpone   \n",
       "\n",
       "   units_ordered  \n",
       "0              0  \n",
       "1              0  \n",
       "2              0  \n",
       "3              0  \n",
       "4              0  "
      ]
     },
     "execution_count": 38,
     "metadata": {},
     "output_type": "execute_result"
    }
   ],
   "source": [
    "df_non_duplicated_lines.head()"
   ]
  },
  {
   "cell_type": "code",
   "execution_count": 36,
   "metadata": {},
   "outputs": [
    {
     "data": {
      "text/plain": [
       "0"
      ]
     },
     "execution_count": 36,
     "metadata": {},
     "output_type": "execute_result"
    }
   ],
   "source": [
    "df_non_duplicated_lines.duplicated().sum()"
   ]
  },
  {
   "cell_type": "code",
   "execution_count": 39,
   "metadata": {},
   "outputs": [
    {
     "data": {
      "text/plain": [
       "(742808, 6)"
      ]
     },
     "execution_count": 39,
     "metadata": {},
     "output_type": "execute_result"
    }
   ],
   "source": [
    "df_non_duplicated_lines.shape"
   ]
  },
  {
   "cell_type": "markdown",
   "metadata": {},
   "source": [
    "# Data quality:\n"
   ]
  },
  {
   "cell_type": "markdown",
   "metadata": {},
   "source": [
    "## 1. File Shape (one line per day-store-product)\n",
    "\n",
    "The dataset should contain only one line per product, date, and store. However, we already know that one product could have been ordered by given store, in a given day with several products ID's. \n",
    "\n",
    "The expectations is that there should around 3 orders of the same product (same day, same store), lets check it:"
   ]
  },
  {
   "cell_type": "code",
   "execution_count": 57,
   "metadata": {},
   "outputs": [
    {
     "data": {
      "text/plain": [
       "1007"
      ]
     },
     "execution_count": 57,
     "metadata": {},
     "output_type": "execute_result"
    }
   ],
   "source": [
    "# Calculate number of orders by a store in a given day and product that are greater than 2:\n",
    "aux = df_non_duplicated_lines.groupby(['order_date', 'section', 'store', 'target_names_prod_by_prod'])[\"product_id\"].count()\n",
    "aux[aux>2].count()"
   ]
  },
  {
   "cell_type": "code",
   "execution_count": 58,
   "metadata": {},
   "outputs": [
    {
     "data": {
      "text/plain": [
       "4"
      ]
     },
     "execution_count": 58,
     "metadata": {},
     "output_type": "execute_result"
    }
   ],
   "source": [
    "# Calculate number of orders by a store in a given day and product that are greater than 2:\n",
    "aux = df_non_duplicated_lines.groupby(['order_date', 'section', 'store', 'target_names_prod_by_prod'])[\"product_id\"].count()\n",
    "aux[aux>2].max()"
   ]
  },
  {
   "cell_type": "markdown",
   "metadata": {},
   "source": [
    "Cool! this means we can group by and add the values!\n"
   ]
  },
  {
   "cell_type": "code",
   "execution_count": 93,
   "metadata": {},
   "outputs": [
    {
     "data": {
      "text/html": [
       "<div>\n",
       "<style scoped>\n",
       "    .dataframe tbody tr th:only-of-type {\n",
       "        vertical-align: middle;\n",
       "    }\n",
       "\n",
       "    .dataframe tbody tr th {\n",
       "        vertical-align: top;\n",
       "    }\n",
       "\n",
       "    .dataframe thead th {\n",
       "        text-align: right;\n",
       "    }\n",
       "</style>\n",
       "<table border=\"1\" class=\"dataframe\">\n",
       "  <thead>\n",
       "    <tr style=\"text-align: right;\">\n",
       "      <th></th>\n",
       "      <th>order_date</th>\n",
       "      <th>section</th>\n",
       "      <th>store</th>\n",
       "      <th>target_names_prod_by_prod</th>\n",
       "      <th>units_ordered</th>\n",
       "    </tr>\n",
       "  </thead>\n",
       "  <tbody>\n",
       "    <tr>\n",
       "      <td>0</td>\n",
       "      <td>2008-01-01</td>\n",
       "      <td>0</td>\n",
       "      <td>AaUP</td>\n",
       "      <td>baguette</td>\n",
       "      <td>15</td>\n",
       "    </tr>\n",
       "    <tr>\n",
       "      <td>1</td>\n",
       "      <td>2008-01-01</td>\n",
       "      <td>0</td>\n",
       "      <td>AaUP</td>\n",
       "      <td>croissant petit</td>\n",
       "      <td>12</td>\n",
       "    </tr>\n",
       "    <tr>\n",
       "      <td>2</td>\n",
       "      <td>2008-01-01</td>\n",
       "      <td>0</td>\n",
       "      <td>AaUP</td>\n",
       "      <td>croissant simple</td>\n",
       "      <td>4</td>\n",
       "    </tr>\n",
       "    <tr>\n",
       "      <td>3</td>\n",
       "      <td>2008-01-01</td>\n",
       "      <td>0</td>\n",
       "      <td>AaUP</td>\n",
       "      <td>milhojas frambuesa</td>\n",
       "      <td>1</td>\n",
       "    </tr>\n",
       "    <tr>\n",
       "      <td>4</td>\n",
       "      <td>2008-01-01</td>\n",
       "      <td>0</td>\n",
       "      <td>AaUP</td>\n",
       "      <td>mousse tres chocolates</td>\n",
       "      <td>0</td>\n",
       "    </tr>\n",
       "    <tr>\n",
       "      <td>...</td>\n",
       "      <td>...</td>\n",
       "      <td>...</td>\n",
       "      <td>...</td>\n",
       "      <td>...</td>\n",
       "      <td>...</td>\n",
       "    </tr>\n",
       "    <tr>\n",
       "      <td>654569</td>\n",
       "      <td>2019-12-09</td>\n",
       "      <td>0</td>\n",
       "      <td>ZiUO</td>\n",
       "      <td>milhojas frambuesa</td>\n",
       "      <td>0</td>\n",
       "    </tr>\n",
       "    <tr>\n",
       "      <td>654570</td>\n",
       "      <td>2019-12-09</td>\n",
       "      <td>0</td>\n",
       "      <td>ZiUO</td>\n",
       "      <td>palmera chocolate</td>\n",
       "      <td>1</td>\n",
       "    </tr>\n",
       "    <tr>\n",
       "      <td>654571</td>\n",
       "      <td>2019-12-09</td>\n",
       "      <td>0</td>\n",
       "      <td>ZiUO</td>\n",
       "      <td>postre de fresas y mascarpone</td>\n",
       "      <td>6</td>\n",
       "    </tr>\n",
       "    <tr>\n",
       "      <td>654572</td>\n",
       "      <td>2019-12-09</td>\n",
       "      <td>0</td>\n",
       "      <td>ZiUO</td>\n",
       "      <td>tarta de manzana</td>\n",
       "      <td>0</td>\n",
       "    </tr>\n",
       "    <tr>\n",
       "      <td>654573</td>\n",
       "      <td>2019-12-09</td>\n",
       "      <td>0</td>\n",
       "      <td>ZiUO</td>\n",
       "      <td>tortel</td>\n",
       "      <td>0</td>\n",
       "    </tr>\n",
       "  </tbody>\n",
       "</table>\n",
       "<p>654574 rows × 5 columns</p>\n",
       "</div>"
      ],
      "text/plain": [
       "       order_date  section store      target_names_prod_by_prod  units_ordered\n",
       "0      2008-01-01        0  AaUP                       baguette             15\n",
       "1      2008-01-01        0  AaUP                croissant petit             12\n",
       "2      2008-01-01        0  AaUP               croissant simple              4\n",
       "3      2008-01-01        0  AaUP             milhojas frambuesa              1\n",
       "4      2008-01-01        0  AaUP         mousse tres chocolates              0\n",
       "...           ...      ...   ...                            ...            ...\n",
       "654569 2019-12-09        0  ZiUO             milhojas frambuesa              0\n",
       "654570 2019-12-09        0  ZiUO              palmera chocolate              1\n",
       "654571 2019-12-09        0  ZiUO  postre de fresas y mascarpone              6\n",
       "654572 2019-12-09        0  ZiUO               tarta de manzana              0\n",
       "654573 2019-12-09        0  ZiUO                         tortel              0\n",
       "\n",
       "[654574 rows x 5 columns]"
      ]
     },
     "execution_count": 93,
     "metadata": {},
     "output_type": "execute_result"
    }
   ],
   "source": [
    "df_to_check = df_non_duplicated_lines.groupby(['order_date', 'section', 'store', 'target_names_prod_by_prod'])[\"units_ordered\"].sum().reset_index()\n",
    "df_to_check"
   ]
  },
  {
   "cell_type": "code",
   "execution_count": 56,
   "metadata": {},
   "outputs": [],
   "source": [
    "# OUTLIERS"
   ]
  },
  {
   "cell_type": "code",
   "execution_count": 95,
   "metadata": {},
   "outputs": [
    {
     "data": {
      "text/plain": [
       "4100"
      ]
     },
     "execution_count": 95,
     "metadata": {},
     "output_type": "execute_result"
    }
   ],
   "source": [
    "df_to_check['units_ordered'].max()"
   ]
  },
  {
   "cell_type": "code",
   "execution_count": 96,
   "metadata": {},
   "outputs": [
    {
     "data": {
      "text/plain": [
       "<matplotlib.axes._subplots.AxesSubplot at 0x7fc530b56f50>"
      ]
     },
     "execution_count": 96,
     "metadata": {},
     "output_type": "execute_result"
    },
    {
     "data": {
      "image/png": "[encoded data removed]",
      "text/plain": [
       "<Figure size 432x288 with 1 Axes>"
      ]
     },
     "metadata": {
      "needs_background": "light"
     },
     "output_type": "display_data"
    }
   ],
   "source": [
    "df_to_check['units_ordered'].plot()"
   ]
  },
  {
   "cell_type": "code",
   "execution_count": null,
   "metadata": {},
   "outputs": [],
   "source": [
    "df_to_check"
   ]
  },
  {
   "cell_type": "code",
   "execution_count": null,
   "metadata": {},
   "outputs": [],
   "source": []
  },
  {
   "cell_type": "code",
   "execution_count": 90,
   "metadata": {},
   "outputs": [],
   "source": [
    "aaa = pd.pivot_table(data=df_for_work, index=['store', 'target_names_prod_by_prod'],)"
   ]
  },
  {
   "cell_type": "code",
   "execution_count": 91,
   "metadata": {},
   "outputs": [
    {
     "data": {
      "text/html": [
       "<div>\n",
       "<style scoped>\n",
       "    .dataframe tbody tr th:only-of-type {\n",
       "        vertical-align: middle;\n",
       "    }\n",
       "\n",
       "    .dataframe tbody tr th {\n",
       "        vertical-align: top;\n",
       "    }\n",
       "\n",
       "    .dataframe thead th {\n",
       "        text-align: right;\n",
       "    }\n",
       "</style>\n",
       "<table border=\"1\" class=\"dataframe\">\n",
       "  <thead>\n",
       "    <tr style=\"text-align: right;\">\n",
       "      <th></th>\n",
       "      <th></th>\n",
       "      <th>section</th>\n",
       "      <th>units_ordered</th>\n",
       "    </tr>\n",
       "    <tr>\n",
       "      <th>store</th>\n",
       "      <th>target_names_prod_by_prod</th>\n",
       "      <th></th>\n",
       "      <th></th>\n",
       "    </tr>\n",
       "  </thead>\n",
       "  <tbody>\n",
       "    <tr>\n",
       "      <td rowspan=\"5\" valign=\"top\">AaUP</td>\n",
       "      <td>baguette</td>\n",
       "      <td>0</td>\n",
       "      <td>11.477378</td>\n",
       "    </tr>\n",
       "    <tr>\n",
       "      <td>croissant petit</td>\n",
       "      <td>0</td>\n",
       "      <td>7.508097</td>\n",
       "    </tr>\n",
       "    <tr>\n",
       "      <td>croissant simple</td>\n",
       "      <td>0</td>\n",
       "      <td>16.894885</td>\n",
       "    </tr>\n",
       "    <tr>\n",
       "      <td>milhojas frambuesa</td>\n",
       "      <td>0</td>\n",
       "      <td>2.114654</td>\n",
       "    </tr>\n",
       "    <tr>\n",
       "      <td>mousse tres chocolates</td>\n",
       "      <td>0</td>\n",
       "      <td>0.153201</td>\n",
       "    </tr>\n",
       "    <tr>\n",
       "      <td>...</td>\n",
       "      <td>...</td>\n",
       "      <td>...</td>\n",
       "      <td>...</td>\n",
       "    </tr>\n",
       "    <tr>\n",
       "      <td rowspan=\"5\" valign=\"top\">ZiUO</td>\n",
       "      <td>palmera chocolate</td>\n",
       "      <td>0</td>\n",
       "      <td>1.660639</td>\n",
       "    </tr>\n",
       "    <tr>\n",
       "      <td>postre de fresas y mascarpone</td>\n",
       "      <td>0</td>\n",
       "      <td>4.679483</td>\n",
       "    </tr>\n",
       "    <tr>\n",
       "      <td>tarta de manzana</td>\n",
       "      <td>0</td>\n",
       "      <td>0.000235</td>\n",
       "    </tr>\n",
       "    <tr>\n",
       "      <td>tarta opera</td>\n",
       "      <td>0</td>\n",
       "      <td>0.000000</td>\n",
       "    </tr>\n",
       "    <tr>\n",
       "      <td>tortel</td>\n",
       "      <td>0</td>\n",
       "      <td>0.000000</td>\n",
       "    </tr>\n",
       "  </tbody>\n",
       "</table>\n",
       "<p>190 rows × 2 columns</p>\n",
       "</div>"
      ],
      "text/plain": [
       "                                     section  units_ordered\n",
       "store target_names_prod_by_prod                            \n",
       "AaUP  baguette                             0      11.477378\n",
       "      croissant petit                      0       7.508097\n",
       "      croissant simple                     0      16.894885\n",
       "      milhojas frambuesa                   0       2.114654\n",
       "      mousse tres chocolates               0       0.153201\n",
       "...                                      ...            ...\n",
       "ZiUO  palmera chocolate                    0       1.660639\n",
       "      postre de fresas y mascarpone        0       4.679483\n",
       "      tarta de manzana                     0       0.000235\n",
       "      tarta opera                          0       0.000000\n",
       "      tortel                               0       0.000000\n",
       "\n",
       "[190 rows x 2 columns]"
      ]
     },
     "execution_count": 91,
     "metadata": {},
     "output_type": "execute_result"
    }
   ],
   "source": [
    "aaa"
   ]
  }
 ],
 "metadata": {
  "kernelspec": {
   "display_name": "local-venv",
   "language": "python",
   "name": "local-venv"
  },
  "language_info": {
   "codemirror_mode": {
    "name": "ipython",
    "version": 3
   },
   "file_extension": ".py",
   "mimetype": "text/x-python",
   "name": "python",
   "nbconvert_exporter": "python",
   "pygments_lexer": "ipython3",
   "version": "3.7.4"
  }
 },
 "nbformat": 4,
 "nbformat_minor": 2
}
