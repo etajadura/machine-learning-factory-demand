{
 "cells": [
  {
   "cell_type": "markdown",
   "metadata": {},
   "source": [
    "# FILTERING THE DATASET:"
   ]
  },
  {
   "cell_type": "markdown",
   "metadata": {},
   "source": [
    "Along this script we will get from an initial list of products provided by our client, to a final list (as per the names and ids present within the real data), which will be used to filter our initial data in order to get a smaller, more manageable file.\n",
    "\n",
    "This process will be divided in two main steps:\n",
    "\n",
    "- Check the names in our list with the descriptions present in our data, analyze them and select a final list\n",
    "\n",
    "- Use this list to filter our data and store the resulting information in a more small and convenient file"
   ]
  },
  {
   "cell_type": "markdown",
   "metadata": {},
   "source": [
    "## CREATING THE LIST OF PRODUCTS FOR THE ANALYSIS:"
   ]
  },
  {
   "cell_type": "markdown",
   "metadata": {},
   "source": [
    "After rearranging the data in a more convenient manner and doing some introductory analysis of the data, we now want to get down to work with our data.\n",
    "\n",
    "A list has been given to us of the 10 products that our clients found as more relevant to their business.\n",
    "\n",
    "What we want now is to check whether the names on the list correspond to certain uniques ids, or, as seen in the previous scripts, some conflict of unicity will arise between the id of our products and their descriptions.\n",
    "\n",
    "So, we are going to check our dataframe and select from it the ids and descriptions of our products that match the indications given in our clients list. With the lists (in reality, two dictionaries) of the ids and descriptions that match every product given to us, we will decide which are the more appropriate.\n",
    "\n",
    "Perhaps some guidance from our client would be needed at this stage."
   ]
  },
  {
   "cell_type": "markdown",
   "metadata": {},
   "source": [
    "### 1. Read dataframe"
   ]
  },
  {
   "cell_type": "code",
   "execution_count": 48,
   "metadata": {},
   "outputs": [],
   "source": [
    "# Importing packages:\n",
    "\n",
    "import pandas as pd\n",
    "import matplotlib.pyplot as plt\n",
    "import numpy as np\n",
    "import re\n",
    "from collections import Counter\n",
    "from fuzzywuzzy import fuzz\n",
    "from fuzzywuzzy import process\n",
    "import math\n",
    "\n",
    "\n",
    "%matplotlib inline\n",
    "pd.options.display.max_columns = None"
   ]
  },
  {
   "cell_type": "code",
   "execution_count": 49,
   "metadata": {},
   "outputs": [],
   "source": [
    "# Defining the search path of the file, the name and the separator:\n",
    "\n",
    "file_path = \"../../data/01_raw/\"\n",
    "file_name = \"b2-transactions_sample.csv\" #\"b2-transactions.csv\" \n",
    "exit_path = \"../../data/02_intermediate/\"\n",
    "\n",
    "filtered_file_name=\"c1-filtered_transactions.csv\"\n",
    "\n",
    "sep=\";\""
   ]
  },
  {
   "cell_type": "code",
   "execution_count": 50,
   "metadata": {},
   "outputs": [],
   "source": [
    "# We create the list of products provided by the client\n",
    "list_of_products=['croissant',\n",
    "                  'croissant petit',\n",
    "                  'tarta mousse 3 chocolates',\n",
    "                  'tarta de manzana 2º',\n",
    "                  'palmera de chocolate'\n",
    "                  'tarta opera',\n",
    "                  'postre fresas y mascarpone',\n",
    "                  'milhojas frambuesa 2º',\n",
    "                  'tortel',\n",
    "                  'baguette']"
   ]
  },
  {
   "cell_type": "code",
   "execution_count": 51,
   "metadata": {
    "scrolled": true
   },
   "outputs": [],
   "source": [
    "# We import the dataframe:\n",
    "df=pd.read_csv(file_path+file_name, sep=sep)"
   ]
  },
  {
   "cell_type": "code",
   "execution_count": 52,
   "metadata": {},
   "outputs": [
    {
     "data": {
      "text/html": [
       "<div>\n",
       "<style scoped>\n",
       "    .dataframe tbody tr th:only-of-type {\n",
       "        vertical-align: middle;\n",
       "    }\n",
       "\n",
       "    .dataframe tbody tr th {\n",
       "        vertical-align: top;\n",
       "    }\n",
       "\n",
       "    .dataframe thead th {\n",
       "        text-align: right;\n",
       "    }\n",
       "</style>\n",
       "<table border=\"1\" class=\"dataframe\">\n",
       "  <thead>\n",
       "    <tr style=\"text-align: right;\">\n",
       "      <th></th>\n",
       "      <th>product_id</th>\n",
       "      <th>description</th>\n",
       "      <th>order_date</th>\n",
       "      <th>section</th>\n",
       "      <th>store</th>\n",
       "      <th>units_ordered</th>\n",
       "    </tr>\n",
       "  </thead>\n",
       "  <tbody>\n",
       "    <tr>\n",
       "      <th>34894</th>\n",
       "      <td>501.0</td>\n",
       "      <td>SABLE NARANJA</td>\n",
       "      <td>11/10/2014 0:00:00</td>\n",
       "      <td>0</td>\n",
       "      <td>GoUP</td>\n",
       "      <td>0,00</td>\n",
       "    </tr>\n",
       "    <tr>\n",
       "      <th>32347</th>\n",
       "      <td>115.0</td>\n",
       "      <td>BAGUETT MALLORCA</td>\n",
       "      <td>19/5/2008 0:00:00</td>\n",
       "      <td>0</td>\n",
       "      <td>MsUP</td>\n",
       "      <td>0,00</td>\n",
       "    </tr>\n",
       "    <tr>\n",
       "      <th>22577</th>\n",
       "      <td>462.0</td>\n",
       "      <td>MANZANA 2º</td>\n",
       "      <td>1/7/2011 0:00:00</td>\n",
       "      <td>0</td>\n",
       "      <td>SeUP</td>\n",
       "      <td>1,00</td>\n",
       "    </tr>\n",
       "    <tr>\n",
       "      <th>39726</th>\n",
       "      <td>446.0</td>\n",
       "      <td>POSTRE TARTALETA LIMON</td>\n",
       "      <td>26/10/2018 0:00:00</td>\n",
       "      <td>0</td>\n",
       "      <td>CzUP</td>\n",
       "      <td>0,00</td>\n",
       "    </tr>\n",
       "    <tr>\n",
       "      <th>1858</th>\n",
       "      <td>8840.0</td>\n",
       "      <td>BOLSA BESAMELAS PEQUEÑAS 8 UD</td>\n",
       "      <td>22/4/2015 0:00:00</td>\n",
       "      <td>0</td>\n",
       "      <td>GeUP</td>\n",
       "      <td>0,00</td>\n",
       "    </tr>\n",
       "  </tbody>\n",
       "</table>\n",
       "</div>"
      ],
      "text/plain": [
       "       product_id                    description          order_date  section  \\\n",
       "34894       501.0                  SABLE NARANJA  11/10/2014 0:00:00        0   \n",
       "32347       115.0               BAGUETT MALLORCA   19/5/2008 0:00:00        0   \n",
       "22577       462.0                     MANZANA 2º    1/7/2011 0:00:00        0   \n",
       "39726       446.0         POSTRE TARTALETA LIMON  26/10/2018 0:00:00        0   \n",
       "1858       8840.0  BOLSA BESAMELAS PEQUEÑAS 8 UD   22/4/2015 0:00:00        0   \n",
       "\n",
       "      store units_ordered  \n",
       "34894  GoUP          0,00  \n",
       "32347  MsUP          0,00  \n",
       "22577  SeUP          1,00  \n",
       "39726  CzUP          0,00  \n",
       "1858   GeUP          0,00  "
      ]
     },
     "execution_count": 52,
     "metadata": {},
     "output_type": "execute_result"
    }
   ],
   "source": [
    "df.sample(5)"
   ]
  },
  {
   "cell_type": "markdown",
   "metadata": {},
   "source": [
    "### 2. Normalizing and aggregating description names\n",
    "\n",
    "Unfortunately, there is no convention for the description and one id could \n",
    "\n",
    "1. Normalize descriptions as much as possible using:\n",
    "    - Regex expressions \n",
    "    - Basic NLP for spell-checking.\n",
    "2. Create a normalization file with the following structure:\n",
    "    - Unique Product_id and normalized description\n",
    "    - Flag to indicate if the product is part of the given list, or not.  \n",
    "3. Finally review the list manually. "
   ]
  },
  {
   "cell_type": "markdown",
   "metadata": {},
   "source": [
    "### 2.1 Normalizing description names "
   ]
  },
  {
   "cell_type": "code",
   "execution_count": 53,
   "metadata": {},
   "outputs": [],
   "source": [
    "# Setting Null descriptions to 'no-description'\n",
    "df['description'].fillna('no-description', inplace = True)\n",
    "\n",
    "# Unique product descriptions\n",
    "df_descriptions_unique = pd.Series(df['description'].unique())\n",
    "\n",
    "# Most of the descriptions are in uppercase, however others are in lower:\n",
    "df_descriptions_normalized = df_descriptions_unique.str.lower()\n",
    "\n",
    "#replace non alfanumeric with space\n",
    "df_descriptions_normalized=df_descriptions_normalized.str.replace(r'[^0-9a-zA-Zº()ª]+', ' ') \n",
    "\n",
    "# We also notice that there are spacing issues at the begining, end of the description and between words:\n",
    "df_descriptions_normalized=df_descriptions_normalized.str.strip()\n",
    "\n",
    "# Remove multi-spacing\n",
    "df_descriptions_normalized=df_descriptions_normalized.str.replace(r' +', ' ') "
   ]
  },
  {
   "cell_type": "code",
   "execution_count": 54,
   "metadata": {},
   "outputs": [
    {
     "data": {
      "text/html": [
       "<div>\n",
       "<style scoped>\n",
       "    .dataframe tbody tr th:only-of-type {\n",
       "        vertical-align: middle;\n",
       "    }\n",
       "\n",
       "    .dataframe tbody tr th {\n",
       "        vertical-align: top;\n",
       "    }\n",
       "\n",
       "    .dataframe thead th {\n",
       "        text-align: right;\n",
       "    }\n",
       "</style>\n",
       "<table border=\"1\" class=\"dataframe\">\n",
       "  <thead>\n",
       "    <tr style=\"text-align: right;\">\n",
       "      <th></th>\n",
       "      <th>desc_normalized</th>\n",
       "      <th>desc_original</th>\n",
       "    </tr>\n",
       "  </thead>\n",
       "  <tbody>\n",
       "    <tr>\n",
       "      <th>2791</th>\n",
       "      <td>encargo ensaimada de nata 6 raciones</td>\n",
       "      <td>Encargo ENSAIMADA DE NATA 6 RACIONES</td>\n",
       "    </tr>\n",
       "    <tr>\n",
       "      <th>2164</th>\n",
       "      <td>viruta de chocolate del 5 20rac</td>\n",
       "      <td>VIRUTA DE CHOCOLATE DEL -5-, 20RAC</td>\n",
       "    </tr>\n",
       "    <tr>\n",
       "      <th>4918</th>\n",
       "      <td>milhojas frambuesa 2º cartel felicidades shadi</td>\n",
       "      <td>MILHOJAS   FRAMBUESA 2º cartel \" Felicidades S...</td>\n",
       "    </tr>\n",
       "    <tr>\n",
       "      <th>2669</th>\n",
       "      <td>litros de crema verduras</td>\n",
       "      <td>LITROS DE CREMA VERDURAS</td>\n",
       "    </tr>\n",
       "    <tr>\n",
       "      <th>6036</th>\n",
       "      <td>suizos piezas cocer a las 10 h</td>\n",
       "      <td>SUIZOS  PIEZAS  COCER  A LAS  10 H</td>\n",
       "    </tr>\n",
       "    <tr>\n",
       "      <th>2248</th>\n",
       "      <td>pechuga miso</td>\n",
       "      <td>PECHUGA MISO</td>\n",
       "    </tr>\n",
       "    <tr>\n",
       "      <th>5608</th>\n",
       "      <td>pollo en pepitoria</td>\n",
       "      <td>POLLO EN PEPITORIA</td>\n",
       "    </tr>\n",
       "    <tr>\n",
       "      <th>1464</th>\n",
       "      <td>herradura</td>\n",
       "      <td>HERRADURA</td>\n",
       "    </tr>\n",
       "    <tr>\n",
       "      <th>2976</th>\n",
       "      <td>encargotarta de limon 10 raciones</td>\n",
       "      <td>EncargoTARTA DE LIMON 10 RACIONES</td>\n",
       "    </tr>\n",
       "    <tr>\n",
       "      <th>3880</th>\n",
       "      <td>encargo tarta selva negra 2º con cartel felici...</td>\n",
       "      <td>Encargo TARTA SELVA NEGRA 2º CON CARTEL \" FELI...</td>\n",
       "    </tr>\n",
       "  </tbody>\n",
       "</table>\n",
       "</div>"
      ],
      "text/plain": [
       "                                        desc_normalized  \\\n",
       "2791               encargo ensaimada de nata 6 raciones   \n",
       "2164                    viruta de chocolate del 5 20rac   \n",
       "4918     milhojas frambuesa 2º cartel felicidades shadi   \n",
       "2669                           litros de crema verduras   \n",
       "6036                     suizos piezas cocer a las 10 h   \n",
       "2248                                       pechuga miso   \n",
       "5608                                 pollo en pepitoria   \n",
       "1464                                          herradura   \n",
       "2976                  encargotarta de limon 10 raciones   \n",
       "3880  encargo tarta selva negra 2º con cartel felici...   \n",
       "\n",
       "                                          desc_original  \n",
       "2791               Encargo ENSAIMADA DE NATA 6 RACIONES  \n",
       "2164                 VIRUTA DE CHOCOLATE DEL -5-, 20RAC  \n",
       "4918  MILHOJAS   FRAMBUESA 2º cartel \" Felicidades S...  \n",
       "2669                           LITROS DE CREMA VERDURAS  \n",
       "6036                 SUIZOS  PIEZAS  COCER  A LAS  10 H  \n",
       "2248                                       PECHUGA MISO  \n",
       "5608                                 POLLO EN PEPITORIA  \n",
       "1464                                          HERRADURA  \n",
       "2976                  EncargoTARTA DE LIMON 10 RACIONES  \n",
       "3880  Encargo TARTA SELVA NEGRA 2º CON CARTEL \" FELI...  "
      ]
     },
     "execution_count": 54,
     "metadata": {},
     "output_type": "execute_result"
    }
   ],
   "source": [
    "pd.DataFrame(dict(desc_original = df_descriptions_unique, desc_normalized = df_descriptions_normalized)).sample(10)"
   ]
  },
  {
   "cell_type": "markdown",
   "metadata": {},
   "source": [
    "Now lets gets get our hands dirty and apply some maths to calculate string distnace and finish cleaning all those messy product descriptions... This is what we are going to do:\n",
    "\n",
    "1. Create a dataset with pastry products by parsing the bakery catalogues, and other pastry websites. (this was done manually, by converting the pdf catalogues to txt using an external web. THe resulting file is named productos.txt)\n",
    "\n",
    "2. Following the indications from: https://medium.com/@hdezfloresmiguelangel/implementando-un-corrector-ortogr%C3%A1fico-en-python-utilizando-la-distancia-de-levenshtein-498ec0dd1105 create an spell-checker based on the products.txt dataset and the Levenshtein distance\n"
   ]
  },
  {
   "cell_type": "code",
   "execution_count": 55,
   "metadata": {},
   "outputs": [],
   "source": [
    "def words(text): return re.findall(r'\\w+', text.lower())\n",
    "\n",
    "WORDS = Counter(words(open('../../data/01_additional_data/productos.txt').read()))\n",
    "\n",
    "def P(word, N=sum(WORDS.values())): \n",
    "    \"Probability of `word`.\"\n",
    "    return WORDS[word] / N\n",
    "\n",
    "def correction(word): \n",
    "    \"Most probable spelling correction for word.\"\n",
    "    return max(candidates(word), key=P)\n",
    "\n",
    "def candidates(word): \n",
    "    \"Generate possible spelling corrections for word.\"\n",
    "    return (known([word]) or known(edits1(word)) or known(edits2(word)) or [word])\n",
    "\n",
    "def known(words): \n",
    "    \"The subset of `words` that appear in the dictionary of WORDS.\"\n",
    "    return set(w for w in words if w in WORDS)\n",
    "\n",
    "def edits1(word):\n",
    "    \"All edits that are one edit away from `word`.\"\n",
    "    letters    = 'abcdefghijklmnopqrstuvwxyz'\n",
    "    splits     = [(word[:i], word[i:])    for i in range(len(word) + 1)]\n",
    "    deletes    = [L + R[1:]               for L, R in splits if R]\n",
    "    transposes = [L + R[1] + R[0] + R[2:] for L, R in splits if len(R)>1]\n",
    "    replaces   = [L + c + R[1:]           for L, R in splits if R for c in letters]\n",
    "    inserts    = [L + c + R               for L, R in splits for c in letters]\n",
    "    return set(deletes + transposes + replaces + inserts)\n",
    "\n",
    "def edits2(word): \n",
    "    \"All edits that are two edits away from `word`.\"\n",
    "    return (e2 for e1 in edits1(word) for e2 in edits1(e1))"
   ]
  },
  {
   "cell_type": "code",
   "execution_count": 56,
   "metadata": {},
   "outputs": [
    {
     "data": {
      "text/plain": [
       "'tarta'"
      ]
     },
     "execution_count": 56,
     "metadata": {},
     "output_type": "execute_result"
    }
   ],
   "source": [
    "correction(\"trta\")"
   ]
  },
  {
   "cell_type": "code",
   "execution_count": 57,
   "metadata": {},
   "outputs": [
    {
     "data": {
      "text/plain": [
       "'cafe'"
      ]
     },
     "execution_count": 57,
     "metadata": {},
     "output_type": "execute_result"
    }
   ],
   "source": [
    "correction(\"café\")"
   ]
  },
  {
   "cell_type": "markdown",
   "metadata": {},
   "source": [
    "Fantastic! the it seems to work. Lets now apply it to our dataset:"
   ]
  },
  {
   "cell_type": "code",
   "execution_count": 58,
   "metadata": {},
   "outputs": [],
   "source": [
    "def spell_check (line):\n",
    "    \"Given a sentence, returns spell-checks word by word\"\n",
    "    if type(line) == str and len(line) > 0:\n",
    "        new = []\n",
    "        line = line.split(\" \")\n",
    "        for word in line:\n",
    "            if type(word) == str:\n",
    "                word = correction(word)\n",
    "            new.append(word)\n",
    "        return \" \".join(new)\n",
    "            \n",
    "    else:\n",
    "        return line"
   ]
  },
  {
   "cell_type": "markdown",
   "metadata": {},
   "source": [
    "Caution! the following line of code may take some time to process:"
   ]
  },
  {
   "cell_type": "code",
   "execution_count": 12,
   "metadata": {},
   "outputs": [],
   "source": [
    "# Applying spell_check to all the dataset\n",
    "df_descriptions_normalized = df_descriptions_normalized.apply(lambda line: spell_check(line))"
   ]
  },
  {
   "cell_type": "markdown",
   "metadata": {},
   "source": [
    "Lets now merge the normalized names back to the original file, and check how effective was this cleaning:"
   ]
  },
  {
   "cell_type": "code",
   "execution_count": 59,
   "metadata": {},
   "outputs": [
    {
     "data": {
      "text/html": [
       "<div>\n",
       "<style scoped>\n",
       "    .dataframe tbody tr th:only-of-type {\n",
       "        vertical-align: middle;\n",
       "    }\n",
       "\n",
       "    .dataframe tbody tr th {\n",
       "        vertical-align: top;\n",
       "    }\n",
       "\n",
       "    .dataframe thead th {\n",
       "        text-align: right;\n",
       "    }\n",
       "</style>\n",
       "<table border=\"1\" class=\"dataframe\">\n",
       "  <thead>\n",
       "    <tr style=\"text-align: right;\">\n",
       "      <th></th>\n",
       "      <th>product_id</th>\n",
       "      <th>description</th>\n",
       "      <th>order_date</th>\n",
       "      <th>section</th>\n",
       "      <th>store</th>\n",
       "      <th>units_ordered</th>\n",
       "      <th>desc_normalized</th>\n",
       "    </tr>\n",
       "  </thead>\n",
       "  <tbody>\n",
       "    <tr>\n",
       "      <th>99009</th>\n",
       "      <td>231.0</td>\n",
       "      <td>PINCHOS SALCHICHA</td>\n",
       "      <td>27/8/2009 0:00:00</td>\n",
       "      <td>0</td>\n",
       "      <td>SeUP</td>\n",
       "      <td>0,50</td>\n",
       "      <td>pinchos salchicha</td>\n",
       "    </tr>\n",
       "    <tr>\n",
       "      <th>49064</th>\n",
       "      <td>350.0</td>\n",
       "      <td>ENSALADA DE ARROZ  CON GAMBAS</td>\n",
       "      <td>30/12/2010 0:00:00</td>\n",
       "      <td>0</td>\n",
       "      <td>ViUP</td>\n",
       "      <td>0,00</td>\n",
       "      <td>ensalada de arroz con gambas</td>\n",
       "    </tr>\n",
       "    <tr>\n",
       "      <th>5817</th>\n",
       "      <td>3389.0</td>\n",
       "      <td>ALBONDIGAS EN SALSA</td>\n",
       "      <td>23/12/2014 0:00:00</td>\n",
       "      <td>0</td>\n",
       "      <td>PoUP</td>\n",
       "      <td>2,00</td>\n",
       "      <td>albondigas en salsa</td>\n",
       "    </tr>\n",
       "    <tr>\n",
       "      <th>56949</th>\n",
       "      <td>116.0</td>\n",
       "      <td>MEDIAS NOCHES</td>\n",
       "      <td>28/4/2012 0:00:00</td>\n",
       "      <td>0</td>\n",
       "      <td>SeUP</td>\n",
       "      <td>2,00</td>\n",
       "      <td>medias noches</td>\n",
       "    </tr>\n",
       "    <tr>\n",
       "      <th>98000</th>\n",
       "      <td>6008.0</td>\n",
       "      <td>NAPOLITANAS CREMA /PIEZA/5HORA</td>\n",
       "      <td>17/11/2008 0:00:00</td>\n",
       "      <td>0</td>\n",
       "      <td>ViUP</td>\n",
       "      <td>0,00</td>\n",
       "      <td>napolitanas crema pieza 5hora</td>\n",
       "    </tr>\n",
       "  </tbody>\n",
       "</table>\n",
       "</div>"
      ],
      "text/plain": [
       "       product_id                     description          order_date  \\\n",
       "99009       231.0               PINCHOS SALCHICHA   27/8/2009 0:00:00   \n",
       "49064       350.0   ENSALADA DE ARROZ  CON GAMBAS  30/12/2010 0:00:00   \n",
       "5817       3389.0             ALBONDIGAS EN SALSA  23/12/2014 0:00:00   \n",
       "56949       116.0                   MEDIAS NOCHES   28/4/2012 0:00:00   \n",
       "98000      6008.0  NAPOLITANAS CREMA /PIEZA/5HORA  17/11/2008 0:00:00   \n",
       "\n",
       "       section store units_ordered                desc_normalized  \n",
       "99009        0  SeUP          0,50              pinchos salchicha  \n",
       "49064        0  ViUP          0,00   ensalada de arroz con gambas  \n",
       "5817         0  PoUP          2,00            albondigas en salsa  \n",
       "56949        0  SeUP          2,00                  medias noches  \n",
       "98000        0  ViUP          0,00  napolitanas crema pieza 5hora  "
      ]
     },
     "execution_count": 59,
     "metadata": {},
     "output_type": "execute_result"
    }
   ],
   "source": [
    "to_merge = pd.DataFrame(dict(description = df_descriptions_unique, desc_normalized = df_descriptions_normalized))\n",
    "\n",
    "df_with_normalized_descriptions = pd.merge(df, to_merge, how='left', on = 'description').sort_values(by='order_date')\n",
    "df_with_normalized_descriptions.sample(5)"
   ]
  },
  {
   "cell_type": "code",
   "execution_count": 63,
   "metadata": {},
   "outputs": [
    {
     "name": "stdout",
     "output_type": "stream",
     "text": [
      "All OK. 'df' has the same size as 'df_with_normalized_descriptions' \n"
     ]
    }
   ],
   "source": [
    "#Control merge size:\n",
    "if (df.shape[0] == df_with_normalized_descriptions.shape[0] ): \n",
    "    print(\"All OK. 'df' has the same size as 'df_with_normalized_descriptions' \")\n",
    "else:\n",
    "    print(\"ERROR. 'df' has NOT the same size as 'df_with_normalized_descriptions' \")\n"
   ]
  },
  {
   "cell_type": "code",
   "execution_count": 64,
   "metadata": {},
   "outputs": [
    {
     "name": "stdout",
     "output_type": "stream",
     "text": [
      "The product descritions were cleaned from 6078 unique names to 5711.\n"
     ]
    }
   ],
   "source": [
    "# Checking effectiveness of the data cleaning:\n",
    "unique_descriptions_raw = len(df['description'].unique())\n",
    "unique_descriptions_normalized = len(df_with_normalized_descriptions['desc_normalized'].unique())\n",
    "print('The product descritions were cleaned from {} unique names to {}.'.format(unique_descriptions_raw,unique_descriptions_normalized))"
   ]
  },
  {
   "cell_type": "markdown",
   "metadata": {},
   "source": [
    "Not super effective..."
   ]
  },
  {
   "cell_type": "code",
   "execution_count": 15,
   "metadata": {},
   "outputs": [],
   "source": [
    "# Saving the file to the intermiady folder\n",
    "output_path_df_with_normalized_descriptions = exit_path + 'data_with_normalized_names.csv'\n",
    "df_with_normalized_descriptions.to_csv(output_path_df_with_normalized_descriptions, index = False, sep = ';' )"
   ]
  },
  {
   "cell_type": "markdown",
   "metadata": {},
   "source": [
    "### 2.2 Identifying product descriptions that the client wants us to predict\n",
    "\n",
    "It is time to create the file that will be manually reviewed.\n",
    "\n",
    "- First, we compare the normalized descriptions with the list of products provided with the client, and suggest matches using the library fuzzywuzzy\n",
    "- Second, we will use the results from the other analysis.\n",
    "- third, we will manually evaluate if the results are good"
   ]
  },
  {
   "cell_type": "markdown",
   "metadata": {},
   "source": [
    "#### 2.2.1 Using the library fuzzywuzzy to compare the product normalized descriptions with the list of products provided by the client and suggest a match, or alternatively - \"match-not-found\""
   ]
  },
  {
   "cell_type": "code",
   "execution_count": 73,
   "metadata": {},
   "outputs": [],
   "source": [
    "df_normalized_desc_unique = pd.DataFrame(df_with_normalized_descriptions[\"desc_normalized\"].unique(), columns = ['desc_normalized'])"
   ]
  },
  {
   "cell_type": "code",
   "execution_count": 87,
   "metadata": {},
   "outputs": [],
   "source": [
    "def find_match (line, options = list_of_products):\n",
    "    \"Returns product match if the the calculated difference between strings is greater than 80, 'match-not-found' otherwise\"\n",
    "    if not(line is None) and type(line)== str:\n",
    "        highest = process.extractOne(line,list_of_products)\n",
    "        if not(highest is None) and highest[1] >80:\n",
    "            return highest[0]\n",
    "        else:\n",
    "            return 'match-not-found'\n",
    "    else:\n",
    "        return 'match-not-found'\n",
    "\n",
    "# Applying matching function to all product normalized descriptions\n",
    "df_normalized_desc_unique[\"target_names_fuzzywuuzy\"] = df_normalized_id_desc_unique[\"desc_normalized\"].apply(lambda line: find_match(line))"
   ]
  },
  {
   "cell_type": "markdown",
   "metadata": {},
   "source": [
    "Lets now evaluate how effectively did we match the normalized descriptions with the list that the client provided us:"
   ]
  },
  {
   "cell_type": "code",
   "execution_count": 95,
   "metadata": {},
   "outputs": [
    {
     "ename": "NameError",
     "evalue": "name 'df_normalized_desc_unique' is not defined",
     "output_type": "error",
     "traceback": [
      "\u001b[0;31m---------------------------------------------------------------------------\u001b[0m",
      "\u001b[0;31mNameError\u001b[0m                                 Traceback (most recent call last)",
      "\u001b[0;32m<ipython-input-95-44def9c2bd7b>\u001b[0m in \u001b[0;36m<module>\u001b[0;34m()\u001b[0m\n\u001b[1;32m      1\u001b[0m \u001b[0;31m# Lets review the effectiveness filtering by 'mousse '. The expected result is that all 'mousse 3 chocolates' match\u001b[0m\u001b[0;34m\u001b[0m\u001b[0;34m\u001b[0m\u001b[0m\n\u001b[0;32m----> 2\u001b[0;31m \u001b[0mdf_normalized_desc_unique\u001b[0m\u001b[0;34m[\u001b[0m\u001b[0mdf_normalized_id_desc_unique\u001b[0m\u001b[0;34m[\u001b[0m\u001b[0;34m'desc_normalized'\u001b[0m\u001b[0;34m]\u001b[0m\u001b[0;34m.\u001b[0m\u001b[0mstr\u001b[0m\u001b[0;34m.\u001b[0m\u001b[0mcontains\u001b[0m\u001b[0;34m(\u001b[0m\u001b[0;34m'mousse'\u001b[0m\u001b[0;34m)\u001b[0m\u001b[0;34m]\u001b[0m\u001b[0;34m.\u001b[0m\u001b[0mhead\u001b[0m\u001b[0;34m(\u001b[0m\u001b[0;36m10\u001b[0m\u001b[0;34m)\u001b[0m\u001b[0;34m\u001b[0m\u001b[0m\n\u001b[0m",
      "\u001b[0;31mNameError\u001b[0m: name 'df_normalized_desc_unique' is not defined"
     ]
    }
   ],
   "source": [
    "# Lets review the effectiveness filtering by 'mousse '. The expected result is that all 'mousse 3 chocolates' match\n",
    "df_normalized_desc_unique[df_normalized_id_desc_unique['desc_normalized'].str.contains('mousse')].head(10)"
   ]
  },
  {
   "cell_type": "markdown",
   "metadata": {},
   "source": [
    "As we can see... its not actually very good, lets try something different."
   ]
  },
  {
   "cell_type": "markdown",
   "metadata": {},
   "source": [
    "#### 2.2.1 Using the results from the other analysis\n",
    "\n",
    "Lets now use the results from the manual analysis to see how efective the measure was:"
   ]
  },
  {
   "cell_type": "code",
   "execution_count": 92,
   "metadata": {},
   "outputs": [],
   "source": [
    "# Since this matching is performed at id level, \n",
    "# lets create a new dataset with unique product_id, descriptions, and evaluate it:\n",
    "df_normalized_id_desc_unique = df_with_normalized_descriptions[[\"product_id\",'desc_normalized']].drop_duplicates()"
   ]
  },
  {
   "cell_type": "code",
   "execution_count": 93,
   "metadata": {},
   "outputs": [],
   "source": [
    "dict_of_products_matches={100: 'croissant', \n",
    "                  101: 'croissant',\n",
    "                  102: 'croissant',\n",
    "                  103: 'croissant petit',\n",
    "                  9999: 'tarta mousse 3 chocolates', # almost only for order, creating a new id for this product is suggested\n",
    "                  462: 'tarta de manzana 2º',\n",
    "                  182: 'palmera de chocolate', # palmeras: 140\n",
    "                  414: 'tarta opera', # 9999, for order, mostly. If included, creating a new id for this product is suggested\n",
    "                  4511:'postre fresas y mascarpone',\n",
    "                  459: 'milhojas frambuesa 2º',\n",
    "                  112: 'tortel',\n",
    "                  115: 'baguette'}"
   ]
  },
  {
   "cell_type": "code",
   "execution_count": 94,
   "metadata": {},
   "outputs": [],
   "source": [
    "def target_names_a(product_id, dict_of_products_matches= dict_of_products_matches):\n",
    "    'Returns match if the product_id is found within the given dict or, otherise \"match-not-found\"'\n",
    "    if not(product_id is None) and not(math.isnan(product_id)) and int(product_id)  in dict_of_products_matches:\n",
    "        return dict_of_products_matches[int(product_id)]\n",
    "    else:\n",
    "        return 'match-not-found'\n",
    "    \n",
    "df_normalized_id_desc_unique['target_names_manual_analysis']=df_normalized_id_desc_unique[\"product_id\"].apply(lambda line: target_names_a(line))"
   ]
  },
  {
   "cell_type": "markdown",
   "metadata": {},
   "source": [
    "Lets now check how effective this was:"
   ]
  },
  {
   "cell_type": "code",
   "execution_count": 99,
   "metadata": {},
   "outputs": [
    {
     "data": {
      "text/html": [
       "<div>\n",
       "<style scoped>\n",
       "    .dataframe tbody tr th:only-of-type {\n",
       "        vertical-align: middle;\n",
       "    }\n",
       "\n",
       "    .dataframe tbody tr th {\n",
       "        vertical-align: top;\n",
       "    }\n",
       "\n",
       "    .dataframe thead th {\n",
       "        text-align: right;\n",
       "    }\n",
       "</style>\n",
       "<table border=\"1\" class=\"dataframe\">\n",
       "  <thead>\n",
       "    <tr style=\"text-align: right;\">\n",
       "      <th></th>\n",
       "      <th>product_id</th>\n",
       "      <th>desc_normalized</th>\n",
       "      <th>target_names_Manual_Analysis</th>\n",
       "    </tr>\n",
       "  </thead>\n",
       "  <tbody>\n",
       "    <tr>\n",
       "      <th>80911</th>\n",
       "      <td>312.0</td>\n",
       "      <td>mousse de perigot</td>\n",
       "      <td>match-not-found</td>\n",
       "    </tr>\n",
       "    <tr>\n",
       "      <th>31329</th>\n",
       "      <td>309.0</td>\n",
       "      <td>mousse de oca</td>\n",
       "      <td>match-not-found</td>\n",
       "    </tr>\n",
       "    <tr>\n",
       "      <th>58329</th>\n",
       "      <td>452.0</td>\n",
       "      <td>mousse 3 chocolates 1º</td>\n",
       "      <td>match-not-found</td>\n",
       "    </tr>\n",
       "    <tr>\n",
       "      <th>65217</th>\n",
       "      <td>728.0</td>\n",
       "      <td>petit four mousse praline</td>\n",
       "      <td>match-not-found</td>\n",
       "    </tr>\n",
       "    <tr>\n",
       "      <th>79915</th>\n",
       "      <td>451.0</td>\n",
       "      <td>mousse 3 chocolates 2º</td>\n",
       "      <td>match-not-found</td>\n",
       "    </tr>\n",
       "    <tr>\n",
       "      <th>36392</th>\n",
       "      <td>453.0</td>\n",
       "      <td>mousse 3 chocolates 3º</td>\n",
       "      <td>match-not-found</td>\n",
       "    </tr>\n",
       "    <tr>\n",
       "      <th>67331</th>\n",
       "      <td>451.0</td>\n",
       "      <td>mousse 3 chocolates 2º cartel 70</td>\n",
       "      <td>match-not-found</td>\n",
       "    </tr>\n",
       "    <tr>\n",
       "      <th>21134</th>\n",
       "      <td>311.0</td>\n",
       "      <td>mousse de salmon</td>\n",
       "      <td>match-not-found</td>\n",
       "    </tr>\n",
       "    <tr>\n",
       "      <th>79516</th>\n",
       "      <td>450.0</td>\n",
       "      <td>postre mousse tres chocolates</td>\n",
       "      <td>match-not-found</td>\n",
       "    </tr>\n",
       "    <tr>\n",
       "      <th>34290</th>\n",
       "      <td>45.0</td>\n",
       "      <td>postre mousse tres chocolates</td>\n",
       "      <td>match-not-found</td>\n",
       "    </tr>\n",
       "    <tr>\n",
       "      <th>60508</th>\n",
       "      <td>453.0</td>\n",
       "      <td>mousse 3 chocolates 3º escrito en la tarta muc...</td>\n",
       "      <td>match-not-found</td>\n",
       "    </tr>\n",
       "    <tr>\n",
       "      <th>84820</th>\n",
       "      <td>879.0</td>\n",
       "      <td>postre mousse fruta bosque</td>\n",
       "      <td>match-not-found</td>\n",
       "    </tr>\n",
       "    <tr>\n",
       "      <th>62054</th>\n",
       "      <td>9999.0</td>\n",
       "      <td>tarta mousse 3 chocolates 4º escrito felicidad...</td>\n",
       "      <td>tarta mousse 3 chocolates</td>\n",
       "    </tr>\n",
       "    <tr>\n",
       "      <th>72074</th>\n",
       "      <td>13999.0</td>\n",
       "      <td>mini postres mousse de marron glace</td>\n",
       "      <td>match-not-found</td>\n",
       "    </tr>\n",
       "    <tr>\n",
       "      <th>15677</th>\n",
       "      <td>821.0</td>\n",
       "      <td>postre mousse de limon</td>\n",
       "      <td>match-not-found</td>\n",
       "    </tr>\n",
       "  </tbody>\n",
       "</table>\n",
       "</div>"
      ],
      "text/plain": [
       "       product_id                                    desc_normalized  \\\n",
       "80911       312.0                                  mousse de perigot   \n",
       "31329       309.0                                      mousse de oca   \n",
       "58329       452.0                             mousse 3 chocolates 1º   \n",
       "65217       728.0                          petit four mousse praline   \n",
       "79915       451.0                             mousse 3 chocolates 2º   \n",
       "36392       453.0                             mousse 3 chocolates 3º   \n",
       "67331       451.0                   mousse 3 chocolates 2º cartel 70   \n",
       "21134       311.0                                   mousse de salmon   \n",
       "79516       450.0                      postre mousse tres chocolates   \n",
       "34290        45.0                      postre mousse tres chocolates   \n",
       "60508       453.0  mousse 3 chocolates 3º escrito en la tarta muc...   \n",
       "84820       879.0                         postre mousse fruta bosque   \n",
       "62054      9999.0  tarta mousse 3 chocolates 4º escrito felicidad...   \n",
       "72074     13999.0                mini postres mousse de marron glace   \n",
       "15677       821.0                             postre mousse de limon   \n",
       "\n",
       "      target_names_Manual_Analysis  \n",
       "80911              match-not-found  \n",
       "31329              match-not-found  \n",
       "58329              match-not-found  \n",
       "65217              match-not-found  \n",
       "79915              match-not-found  \n",
       "36392              match-not-found  \n",
       "67331              match-not-found  \n",
       "21134              match-not-found  \n",
       "79516              match-not-found  \n",
       "34290              match-not-found  \n",
       "60508              match-not-found  \n",
       "84820              match-not-found  \n",
       "62054    tarta mousse 3 chocolates  \n",
       "72074              match-not-found  \n",
       "15677              match-not-found  "
      ]
     },
     "execution_count": 99,
     "metadata": {},
     "output_type": "execute_result"
    }
   ],
   "source": [
    "# Lets review the effectiveness filtering by 'mousse '. The expected result is that all 'mousse 3 chocolates' match\n",
    "df_normalized_id_desc_unique[df_normalized_id_desc_unique['desc_normalized'].str.contains('mousse')].head(15)"
   ]
  },
  {
   "cell_type": "markdown",
   "metadata": {},
   "source": [
    "Again, not very good, since most of the 'mousse 3 chocolates' are unmatched."
   ]
  },
  {
   "cell_type": "markdown",
   "metadata": {},
   "source": [
    "It is clear that we need an better way to match the results. Lets try doing keywords filtering product by product."
   ]
  },
  {
   "cell_type": "markdown",
   "metadata": {},
   "source": [
    "### 2.3 Review Product by Product"
   ]
  },
  {
   "cell_type": "code",
   "execution_count": 123,
   "metadata": {},
   "outputs": [],
   "source": [
    "#First, lets create again a dataframe with unique descriptions\n",
    "unique_normalized_decriptions = pd.DataFrame(df_with_normalized_descriptions['desc_normalized'].unique(), columns = ['desc_normalized'])\n",
    "\n",
    "#And a empty list to add all the unitary analysis. It will be use to concatenate results.\n",
    "list_of_dfs = []"
   ]
  },
  {
   "cell_type": "markdown",
   "metadata": {},
   "source": [
    "#### 2.3.1 Matching: milhojas de frambuesa 2º"
   ]
  },
  {
   "cell_type": "code",
   "execution_count": 124,
   "metadata": {},
   "outputs": [
    {
     "data": {
      "text/html": [
       "<div>\n",
       "<style scoped>\n",
       "    .dataframe tbody tr th:only-of-type {\n",
       "        vertical-align: middle;\n",
       "    }\n",
       "\n",
       "    .dataframe tbody tr th {\n",
       "        vertical-align: top;\n",
       "    }\n",
       "\n",
       "    .dataframe thead th {\n",
       "        text-align: right;\n",
       "    }\n",
       "</style>\n",
       "<table border=\"1\" class=\"dataframe\">\n",
       "  <thead>\n",
       "    <tr style=\"text-align: right;\">\n",
       "      <th></th>\n",
       "      <th>desc_normalized</th>\n",
       "      <th>target_names_C</th>\n",
       "    </tr>\n",
       "  </thead>\n",
       "  <tbody>\n",
       "    <tr>\n",
       "      <th>1185</th>\n",
       "      <td>encargo tarta milhojas de frambuesa del 1</td>\n",
       "      <td>milhojas frambuesa</td>\n",
       "    </tr>\n",
       "    <tr>\n",
       "      <th>4444</th>\n",
       "      <td>postre milhojas de frambuesas salsa (caceria a...</td>\n",
       "      <td>milhojas frambuesa</td>\n",
       "    </tr>\n",
       "    <tr>\n",
       "      <th>5603</th>\n",
       "      <td>milhojas frambuesa 2º con cartel felicidades e...</td>\n",
       "      <td>milhojas frambuesa</td>\n",
       "    </tr>\n",
       "    <tr>\n",
       "      <th>4391</th>\n",
       "      <td>fuente tena postres surtidos de ecler chocolat...</td>\n",
       "      <td>milhojas frambuesa</td>\n",
       "    </tr>\n",
       "    <tr>\n",
       "      <th>2709</th>\n",
       "      <td>postre caceria don jose milhojas frambuesa sal...</td>\n",
       "      <td>milhojas frambuesa</td>\n",
       "    </tr>\n",
       "  </tbody>\n",
       "</table>\n",
       "</div>"
      ],
      "text/plain": [
       "                                        desc_normalized      target_names_C\n",
       "1185          encargo tarta milhojas de frambuesa del 1  milhojas frambuesa\n",
       "4444  postre milhojas de frambuesas salsa (caceria a...  milhojas frambuesa\n",
       "5603  milhojas frambuesa 2º con cartel felicidades e...  milhojas frambuesa\n",
       "4391  fuente tena postres surtidos de ecler chocolat...  milhojas frambuesa\n",
       "2709  postre caceria don jose milhojas frambuesa sal...  milhojas frambuesa"
      ]
     },
     "execution_count": 124,
     "metadata": {},
     "output_type": "execute_result"
    }
   ],
   "source": [
    "milhojas = unique_normalized_decriptions[unique_normalized_decriptions['desc_normalized'].str.contains('milhojas')]\n",
    "milhojas_frambuesa = milhojas[milhojas['desc_normalized'].str.contains('frambuesa')].copy()\n",
    "milhojas_frambuesa['target_names_C'] = 'milhojas frambuesa'\n",
    "list_of_dfs.append(milhojas_frambuesa)\n",
    "milhojas_frambuesa.sample(5)"
   ]
  },
  {
   "cell_type": "markdown",
   "metadata": {},
   "source": [
    "#### 2.3.2 Matching: croissant petite"
   ]
  },
  {
   "cell_type": "code",
   "execution_count": 125,
   "metadata": {},
   "outputs": [
    {
     "data": {
      "text/html": [
       "<div>\n",
       "<style scoped>\n",
       "    .dataframe tbody tr th:only-of-type {\n",
       "        vertical-align: middle;\n",
       "    }\n",
       "\n",
       "    .dataframe tbody tr th {\n",
       "        vertical-align: top;\n",
       "    }\n",
       "\n",
       "    .dataframe thead th {\n",
       "        text-align: right;\n",
       "    }\n",
       "</style>\n",
       "<table border=\"1\" class=\"dataframe\">\n",
       "  <thead>\n",
       "    <tr style=\"text-align: right;\">\n",
       "      <th></th>\n",
       "      <th>desc_normalized</th>\n",
       "      <th>target_names_prod_by_prod</th>\n",
       "    </tr>\n",
       "  </thead>\n",
       "  <tbody>\n",
       "    <tr>\n",
       "      <th>432</th>\n",
       "      <td>croissant petit</td>\n",
       "      <td>croissant</td>\n",
       "    </tr>\n",
       "    <tr>\n",
       "      <th>1322</th>\n",
       "      <td>petit croissant latas</td>\n",
       "      <td>croissant</td>\n",
       "    </tr>\n",
       "    <tr>\n",
       "      <th>1380</th>\n",
       "      <td>croissant petit cocer a las 2 horas</td>\n",
       "      <td>croissant</td>\n",
       "    </tr>\n",
       "    <tr>\n",
       "      <th>1547</th>\n",
       "      <td>croissant petit latas cocer a las 14 h</td>\n",
       "      <td>croissant</td>\n",
       "    </tr>\n",
       "    <tr>\n",
       "      <th>1814</th>\n",
       "      <td>croissant cereales petit</td>\n",
       "      <td>croissant</td>\n",
       "    </tr>\n",
       "  </tbody>\n",
       "</table>\n",
       "</div>"
      ],
      "text/plain": [
       "                             desc_normalized target_names_prod_by_prod\n",
       "432                          croissant petit                 croissant\n",
       "1322                   petit croissant latas                 croissant\n",
       "1380     croissant petit cocer a las 2 horas                 croissant\n",
       "1547  croissant petit latas cocer a las 14 h                 croissant\n",
       "1814                croissant cereales petit                 croissant"
      ]
     },
     "execution_count": 125,
     "metadata": {},
     "output_type": "execute_result"
    }
   ],
   "source": [
    "croissant = unique_normalized_decriptions[unique_normalized_decriptions['desc_normalized'].str.contains('croissant')].copy()\n",
    "croissant_petite = croissant[croissant['desc_normalized'].str.contains('petit')].copy()\n",
    "croissant_petite['target_names_prod_by_prod'] = 'croissant'\n",
    "list_of_dfs.append(croissant_petite)\n",
    "croissant_petite.head()"
   ]
  },
  {
   "cell_type": "markdown",
   "metadata": {},
   "source": [
    "#### 2.3.3 Matching: croissant"
   ]
  },
  {
   "cell_type": "code",
   "execution_count": 126,
   "metadata": {},
   "outputs": [
    {
     "data": {
      "text/html": [
       "<div>\n",
       "<style scoped>\n",
       "    .dataframe tbody tr th:only-of-type {\n",
       "        vertical-align: middle;\n",
       "    }\n",
       "\n",
       "    .dataframe tbody tr th {\n",
       "        vertical-align: top;\n",
       "    }\n",
       "\n",
       "    .dataframe thead th {\n",
       "        text-align: right;\n",
       "    }\n",
       "</style>\n",
       "<table border=\"1\" class=\"dataframe\">\n",
       "  <thead>\n",
       "    <tr style=\"text-align: right;\">\n",
       "      <th></th>\n",
       "      <th>desc_normalized</th>\n",
       "      <th>target_names_prod_by_prod</th>\n",
       "    </tr>\n",
       "  </thead>\n",
       "  <tbody>\n",
       "    <tr>\n",
       "      <th>146</th>\n",
       "      <td>croissant chocolate</td>\n",
       "      <td>croissant</td>\n",
       "    </tr>\n",
       "    <tr>\n",
       "      <th>212</th>\n",
       "      <td>croissant integral</td>\n",
       "      <td>croissant</td>\n",
       "    </tr>\n",
       "    <tr>\n",
       "      <th>355</th>\n",
       "      <td>croissant frances</td>\n",
       "      <td>croissant</td>\n",
       "    </tr>\n",
       "    <tr>\n",
       "      <th>382</th>\n",
       "      <td>croissant alargado grande piezas</td>\n",
       "      <td>croissant</td>\n",
       "    </tr>\n",
       "    <tr>\n",
       "      <th>429</th>\n",
       "      <td>croissant alargado grande</td>\n",
       "      <td>croissant</td>\n",
       "    </tr>\n",
       "  </tbody>\n",
       "</table>\n",
       "</div>"
      ],
      "text/plain": [
       "                      desc_normalized target_names_prod_by_prod\n",
       "146               croissant chocolate                 croissant\n",
       "212                croissant integral                 croissant\n",
       "355                 croissant frances                 croissant\n",
       "382  croissant alargado grande piezas                 croissant\n",
       "429         croissant alargado grande                 croissant"
      ]
     },
     "execution_count": 126,
     "metadata": {},
     "output_type": "execute_result"
    }
   ],
   "source": [
    "croissant = unique_normalized_decriptions[unique_normalized_decriptions['desc_normalized'].str.contains('croissant')].copy()\n",
    "croissant_simple = croissant[~croissant['desc_normalized'].str.contains('petit|tira|masa')].copy()\n",
    "croissant_simple['target_names_prod_by_prod'] = 'croissant'\n",
    "list_of_dfs.append(croissant_simple)\n",
    "croissant_simple.head()"
   ]
  },
  {
   "cell_type": "markdown",
   "metadata": {},
   "source": [
    "#### 2.3.4 Matching: mousse tres chocolates"
   ]
  },
  {
   "cell_type": "code",
   "execution_count": 127,
   "metadata": {},
   "outputs": [
    {
     "data": {
      "text/html": [
       "<div>\n",
       "<style scoped>\n",
       "    .dataframe tbody tr th:only-of-type {\n",
       "        vertical-align: middle;\n",
       "    }\n",
       "\n",
       "    .dataframe tbody tr th {\n",
       "        vertical-align: top;\n",
       "    }\n",
       "\n",
       "    .dataframe thead th {\n",
       "        text-align: right;\n",
       "    }\n",
       "</style>\n",
       "<table border=\"1\" class=\"dataframe\">\n",
       "  <thead>\n",
       "    <tr style=\"text-align: right;\">\n",
       "      <th></th>\n",
       "      <th>desc_normalized</th>\n",
       "      <th>target_names_prod_by_prod</th>\n",
       "    </tr>\n",
       "  </thead>\n",
       "  <tbody>\n",
       "    <tr>\n",
       "      <th>107</th>\n",
       "      <td>mousse 3 chocolates 1º</td>\n",
       "      <td>mousse tres chocolates</td>\n",
       "    </tr>\n",
       "    <tr>\n",
       "      <th>351</th>\n",
       "      <td>mousse 3 chocolates 2º</td>\n",
       "      <td>mousse tres chocolates</td>\n",
       "    </tr>\n",
       "    <tr>\n",
       "      <th>368</th>\n",
       "      <td>mousse 3 chocolates 3º</td>\n",
       "      <td>mousse tres chocolates</td>\n",
       "    </tr>\n",
       "    <tr>\n",
       "      <th>438</th>\n",
       "      <td>mousse 3 chocolates 2º cartel 70</td>\n",
       "      <td>mousse tres chocolates</td>\n",
       "    </tr>\n",
       "    <tr>\n",
       "      <th>533</th>\n",
       "      <td>postre mousse tres chocolates</td>\n",
       "      <td>mousse tres chocolates</td>\n",
       "    </tr>\n",
       "  </tbody>\n",
       "</table>\n",
       "</div>"
      ],
      "text/plain": [
       "                      desc_normalized target_names_prod_by_prod\n",
       "107            mousse 3 chocolates 1º    mousse tres chocolates\n",
       "351            mousse 3 chocolates 2º    mousse tres chocolates\n",
       "368            mousse 3 chocolates 3º    mousse tres chocolates\n",
       "438  mousse 3 chocolates 2º cartel 70    mousse tres chocolates\n",
       "533     postre mousse tres chocolates    mousse tres chocolates"
      ]
     },
     "execution_count": 127,
     "metadata": {},
     "output_type": "execute_result"
    }
   ],
   "source": [
    "mousse = unique_normalized_decriptions[unique_normalized_decriptions['desc_normalized'].str.contains('mousse')].copy()\n",
    "mousse_tres = mousse[mousse['desc_normalized'].str.contains('tres|3')].copy()\n",
    "mousse_tres_chocolates = mousse_tres[mousse_tres['desc_normalized'].str.contains('chocolate')].copy()\n",
    "mousse_tres_chocolates['target_names_prod_by_prod'] = 'mousse tres chocolates'\n",
    "list_of_dfs.append(mousse_tres_chocolates)\n",
    "mousse_tres_chocolates.head()"
   ]
  },
  {
   "cell_type": "markdown",
   "metadata": {},
   "source": [
    "#### 2.3.5 Matching: tarta de manzana 2"
   ]
  },
  {
   "cell_type": "code",
   "execution_count": 128,
   "metadata": {},
   "outputs": [
    {
     "data": {
      "text/html": [
       "<div>\n",
       "<style scoped>\n",
       "    .dataframe tbody tr th:only-of-type {\n",
       "        vertical-align: middle;\n",
       "    }\n",
       "\n",
       "    .dataframe tbody tr th {\n",
       "        vertical-align: top;\n",
       "    }\n",
       "\n",
       "    .dataframe thead th {\n",
       "        text-align: right;\n",
       "    }\n",
       "</style>\n",
       "<table border=\"1\" class=\"dataframe\">\n",
       "  <thead>\n",
       "    <tr style=\"text-align: right;\">\n",
       "      <th></th>\n",
       "      <th>desc_normalized</th>\n",
       "      <th>target_names_prod_by_prod</th>\n",
       "    </tr>\n",
       "  </thead>\n",
       "  <tbody>\n",
       "    <tr>\n",
       "      <th>870</th>\n",
       "      <td>tarta cremoso caramelo y manzana 2º</td>\n",
       "      <td>tarta de manzana</td>\n",
       "    </tr>\n",
       "    <tr>\n",
       "      <th>1145</th>\n",
       "      <td>tarta caramelo y manzana 2º</td>\n",
       "      <td>tarta de manzana</td>\n",
       "    </tr>\n",
       "    <tr>\n",
       "      <th>2083</th>\n",
       "      <td>tarta de manzana 2º</td>\n",
       "      <td>tarta de manzana</td>\n",
       "    </tr>\n",
       "    <tr>\n",
       "      <th>2197</th>\n",
       "      <td>tarta manzana b a 2º (hora 5)</td>\n",
       "      <td>tarta de manzana</td>\n",
       "    </tr>\n",
       "    <tr>\n",
       "      <th>3238</th>\n",
       "      <td>encargotarta del 2 de avellana y manzana</td>\n",
       "      <td>tarta de manzana</td>\n",
       "    </tr>\n",
       "  </tbody>\n",
       "</table>\n",
       "</div>"
      ],
      "text/plain": [
       "                               desc_normalized target_names_prod_by_prod\n",
       "870        tarta cremoso caramelo y manzana 2º          tarta de manzana\n",
       "1145               tarta caramelo y manzana 2º          tarta de manzana\n",
       "2083                       tarta de manzana 2º          tarta de manzana\n",
       "2197             tarta manzana b a 2º (hora 5)          tarta de manzana\n",
       "3238  encargotarta del 2 de avellana y manzana          tarta de manzana"
      ]
     },
     "execution_count": 128,
     "metadata": {},
     "output_type": "execute_result"
    }
   ],
   "source": [
    "manzana = unique_normalized_decriptions[unique_normalized_decriptions['desc_normalized'].str.contains('manzana')]\n",
    "manzana_tarta = manzana[manzana['desc_normalized'].str.contains('tarta')].copy()\n",
    "manzana_tarta_dos = manzana_tarta[manzana_tarta['desc_normalized'].str.contains('dos|2')].copy()\n",
    "manzana_tarta_dos['target_names_prod_by_prod'] = 'tarta de manzana'\n",
    "list_of_dfs.append(manzana_tarta_dos)\n",
    "manzana_tarta_dos.head()"
   ]
  },
  {
   "cell_type": "markdown",
   "metadata": {},
   "source": [
    "#### 2.3.6 Matching: palmera de chocolate "
   ]
  },
  {
   "cell_type": "code",
   "execution_count": 129,
   "metadata": {},
   "outputs": [
    {
     "data": {
      "text/html": [
       "<div>\n",
       "<style scoped>\n",
       "    .dataframe tbody tr th:only-of-type {\n",
       "        vertical-align: middle;\n",
       "    }\n",
       "\n",
       "    .dataframe tbody tr th {\n",
       "        vertical-align: top;\n",
       "    }\n",
       "\n",
       "    .dataframe thead th {\n",
       "        text-align: right;\n",
       "    }\n",
       "</style>\n",
       "<table border=\"1\" class=\"dataframe\">\n",
       "  <thead>\n",
       "    <tr style=\"text-align: right;\">\n",
       "      <th></th>\n",
       "      <th>desc_normalized</th>\n",
       "      <th>target_names_prod_by_prod</th>\n",
       "    </tr>\n",
       "  </thead>\n",
       "  <tbody>\n",
       "    <tr>\n",
       "      <th>237</th>\n",
       "      <td>palmeras de trufa</td>\n",
       "      <td>palmera chocolate</td>\n",
       "    </tr>\n",
       "    <tr>\n",
       "      <th>2746</th>\n",
       "      <td>palmeras chocolate</td>\n",
       "      <td>palmera chocolate</td>\n",
       "    </tr>\n",
       "    <tr>\n",
       "      <th>3180</th>\n",
       "      <td>palmeras de trufa (alberto encargos)</td>\n",
       "      <td>palmera chocolate</td>\n",
       "    </tr>\n",
       "  </tbody>\n",
       "</table>\n",
       "</div>"
      ],
      "text/plain": [
       "                           desc_normalized target_names_prod_by_prod\n",
       "237                      palmeras de trufa         palmera chocolate\n",
       "2746                    palmeras chocolate         palmera chocolate\n",
       "3180  palmeras de trufa (alberto encargos)         palmera chocolate"
      ]
     },
     "execution_count": 129,
     "metadata": {},
     "output_type": "execute_result"
    }
   ],
   "source": [
    "palmera = unique_normalized_decriptions[unique_normalized_decriptions['desc_normalized'].str.contains('palmera')]\n",
    "palmera_chocolate = palmera[palmera['desc_normalized'].str.contains('chocolate|trufa')].copy()\n",
    "palmera_chocolate['target_names_prod_by_prod'] = 'palmera chocolate'\n",
    "\n",
    "list_of_dfs.append(palmera_chocolate)\n",
    "palmera_chocolate.head()"
   ]
  },
  {
   "cell_type": "markdown",
   "metadata": {},
   "source": [
    "#### 2.3.7 Matching: tarta ópera "
   ]
  },
  {
   "cell_type": "code",
   "execution_count": 130,
   "metadata": {},
   "outputs": [
    {
     "data": {
      "text/html": [
       "<div>\n",
       "<style scoped>\n",
       "    .dataframe tbody tr th:only-of-type {\n",
       "        vertical-align: middle;\n",
       "    }\n",
       "\n",
       "    .dataframe tbody tr th {\n",
       "        vertical-align: top;\n",
       "    }\n",
       "\n",
       "    .dataframe thead th {\n",
       "        text-align: right;\n",
       "    }\n",
       "</style>\n",
       "<table border=\"1\" class=\"dataframe\">\n",
       "  <thead>\n",
       "    <tr style=\"text-align: right;\">\n",
       "      <th></th>\n",
       "      <th>desc_normalized</th>\n",
       "      <th>target_names_prod_by_prod</th>\n",
       "    </tr>\n",
       "  </thead>\n",
       "  <tbody>\n",
       "    <tr>\n",
       "      <th>292</th>\n",
       "      <td>tarta opera 2º</td>\n",
       "      <td>tarta opera</td>\n",
       "    </tr>\n",
       "    <tr>\n",
       "      <th>689</th>\n",
       "      <td>tarta opera del 3º escrito vuela entrenado nad...</td>\n",
       "      <td>tarta opera</td>\n",
       "    </tr>\n",
       "    <tr>\n",
       "      <th>702</th>\n",
       "      <td>tarta opera 3º escrito en la tarta felicidades...</td>\n",
       "      <td>tarta opera</td>\n",
       "    </tr>\n",
       "    <tr>\n",
       "      <th>744</th>\n",
       "      <td>opera del 6 escrito en tarta felicidades sr he...</td>\n",
       "      <td>tarta opera</td>\n",
       "    </tr>\n",
       "    <tr>\n",
       "      <th>1736</th>\n",
       "      <td>tarta opera del 6º escrito feliz cumplea os</td>\n",
       "      <td>tarta opera</td>\n",
       "    </tr>\n",
       "  </tbody>\n",
       "</table>\n",
       "</div>"
      ],
      "text/plain": [
       "                                        desc_normalized  \\\n",
       "292                                      tarta opera 2º   \n",
       "689   tarta opera del 3º escrito vuela entrenado nad...   \n",
       "702   tarta opera 3º escrito en la tarta felicidades...   \n",
       "744   opera del 6 escrito en tarta felicidades sr he...   \n",
       "1736        tarta opera del 6º escrito feliz cumplea os   \n",
       "\n",
       "     target_names_prod_by_prod  \n",
       "292                tarta opera  \n",
       "689                tarta opera  \n",
       "702                tarta opera  \n",
       "744                tarta opera  \n",
       "1736               tarta opera  "
      ]
     },
     "execution_count": 130,
     "metadata": {},
     "output_type": "execute_result"
    }
   ],
   "source": [
    "opera = unique_normalized_decriptions[unique_normalized_decriptions['desc_normalized'].str.contains('opera')]\n",
    "opera_tarta = opera[opera['desc_normalized'].str.contains('tarta')].copy()\n",
    "opera_tarta['target_names_prod_by_prod'] = 'tarta opera'\n",
    "\n",
    "list_of_dfs.append(opera_tarta)\n",
    "opera_tarta.head()"
   ]
  },
  {
   "cell_type": "markdown",
   "metadata": {},
   "source": [
    "#### 2.3.9 Matching: postre de fresas y mascarpone"
   ]
  },
  {
   "cell_type": "code",
   "execution_count": 131,
   "metadata": {},
   "outputs": [
    {
     "data": {
      "text/html": [
       "<div>\n",
       "<style scoped>\n",
       "    .dataframe tbody tr th:only-of-type {\n",
       "        vertical-align: middle;\n",
       "    }\n",
       "\n",
       "    .dataframe tbody tr th {\n",
       "        vertical-align: top;\n",
       "    }\n",
       "\n",
       "    .dataframe thead th {\n",
       "        text-align: right;\n",
       "    }\n",
       "</style>\n",
       "<table border=\"1\" class=\"dataframe\">\n",
       "  <thead>\n",
       "    <tr style=\"text-align: right;\">\n",
       "      <th></th>\n",
       "      <th>desc_normalized</th>\n",
       "      <th>target_names_prod_by_prod</th>\n",
       "    </tr>\n",
       "  </thead>\n",
       "  <tbody>\n",
       "    <tr>\n",
       "      <th>374</th>\n",
       "      <td>postre tartaleta fresas y mascarpone</td>\n",
       "      <td>postre de fresas y mascarpone</td>\n",
       "    </tr>\n",
       "    <tr>\n",
       "      <th>510</th>\n",
       "      <td>postre fresas y mascarpone</td>\n",
       "      <td>postre de fresas y mascarpone</td>\n",
       "    </tr>\n",
       "    <tr>\n",
       "      <th>600</th>\n",
       "      <td>postre eclair fresas y mascarpone</td>\n",
       "      <td>postre de fresas y mascarpone</td>\n",
       "    </tr>\n",
       "  </tbody>\n",
       "</table>\n",
       "</div>"
      ],
      "text/plain": [
       "                          desc_normalized      target_names_prod_by_prod\n",
       "374  postre tartaleta fresas y mascarpone  postre de fresas y mascarpone\n",
       "510            postre fresas y mascarpone  postre de fresas y mascarpone\n",
       "600     postre eclair fresas y mascarpone  postre de fresas y mascarpone"
      ]
     },
     "execution_count": 131,
     "metadata": {},
     "output_type": "execute_result"
    }
   ],
   "source": [
    "postre = unique_normalized_decriptions[unique_normalized_decriptions['desc_normalized'].str.contains('postre')]\n",
    "postre_fresa = postre[postre['desc_normalized'].str.contains('fresa')].copy()\n",
    "postre_fresa_mascarpone = postre_fresa[postre_fresa['desc_normalized'].str.contains('mascarpone')].copy()\n",
    "\n",
    "postre_fresa_mascarpone['target_names_prod_by_prod'] = 'postre de fresas y mascarpone'\n",
    "list_of_dfs.append(postre_fresa_mascarpone)\n",
    "postre_fresa_mascarpone.head()\n"
   ]
  },
  {
   "cell_type": "markdown",
   "metadata": {},
   "source": [
    "#### 2.3.9 Matching: tortel"
   ]
  },
  {
   "cell_type": "code",
   "execution_count": 132,
   "metadata": {},
   "outputs": [
    {
     "data": {
      "text/html": [
       "<div>\n",
       "<style scoped>\n",
       "    .dataframe tbody tr th:only-of-type {\n",
       "        vertical-align: middle;\n",
       "    }\n",
       "\n",
       "    .dataframe tbody tr th {\n",
       "        vertical-align: top;\n",
       "    }\n",
       "\n",
       "    .dataframe thead th {\n",
       "        text-align: right;\n",
       "    }\n",
       "</style>\n",
       "<table border=\"1\" class=\"dataframe\">\n",
       "  <thead>\n",
       "    <tr style=\"text-align: right;\">\n",
       "      <th></th>\n",
       "      <th>desc_normalized</th>\n",
       "      <th>target_names_prod_by_prod</th>\n",
       "    </tr>\n",
       "  </thead>\n",
       "  <tbody>\n",
       "    <tr>\n",
       "      <th>254</th>\n",
       "      <td>torteles</td>\n",
       "      <td>tortel</td>\n",
       "    </tr>\n",
       "    <tr>\n",
       "      <th>806</th>\n",
       "      <td>mini torteles piezas hora 5</td>\n",
       "      <td>tortel</td>\n",
       "    </tr>\n",
       "    <tr>\n",
       "      <th>1668</th>\n",
       "      <td>tortellini bolognesa</td>\n",
       "      <td>tortel</td>\n",
       "    </tr>\n",
       "    <tr>\n",
       "      <th>1674</th>\n",
       "      <td>minitortel en crudo</td>\n",
       "      <td>tortel</td>\n",
       "    </tr>\n",
       "    <tr>\n",
       "      <th>1849</th>\n",
       "      <td>tortellini carbonara</td>\n",
       "      <td>tortel</td>\n",
       "    </tr>\n",
       "  </tbody>\n",
       "</table>\n",
       "</div>"
      ],
      "text/plain": [
       "                  desc_normalized target_names_prod_by_prod\n",
       "254                      torteles                    tortel\n",
       "806   mini torteles piezas hora 5                    tortel\n",
       "1668         tortellini bolognesa                    tortel\n",
       "1674          minitortel en crudo                    tortel\n",
       "1849         tortellini carbonara                    tortel"
      ]
     },
     "execution_count": 132,
     "metadata": {},
     "output_type": "execute_result"
    }
   ],
   "source": [
    "tortel = unique_normalized_decriptions[unique_normalized_decriptions['desc_normalized'].str.contains('tortel')].copy()\n",
    "tortel['target_names_prod_by_prod'] = 'tortel'\n",
    "list_of_dfs.append(tortel)\n",
    "tortel.head(5)\n"
   ]
  },
  {
   "cell_type": "markdown",
   "metadata": {},
   "source": [
    "#### 2.3.10 Matching: baguette"
   ]
  },
  {
   "cell_type": "code",
   "execution_count": 133,
   "metadata": {},
   "outputs": [
    {
     "data": {
      "text/html": [
       "<div>\n",
       "<style scoped>\n",
       "    .dataframe tbody tr th:only-of-type {\n",
       "        vertical-align: middle;\n",
       "    }\n",
       "\n",
       "    .dataframe tbody tr th {\n",
       "        vertical-align: top;\n",
       "    }\n",
       "\n",
       "    .dataframe thead th {\n",
       "        text-align: right;\n",
       "    }\n",
       "</style>\n",
       "<table border=\"1\" class=\"dataframe\">\n",
       "  <thead>\n",
       "    <tr style=\"text-align: right;\">\n",
       "      <th></th>\n",
       "      <th>desc_normalized</th>\n",
       "      <th>target_names_prod_by_prod</th>\n",
       "    </tr>\n",
       "  </thead>\n",
       "  <tbody>\n",
       "    <tr>\n",
       "      <th>147</th>\n",
       "      <td>baguette mallorca</td>\n",
       "      <td>baguette</td>\n",
       "    </tr>\n",
       "    <tr>\n",
       "      <th>189</th>\n",
       "      <td>baguet piezas 5 horas</td>\n",
       "      <td>baguette</td>\n",
       "    </tr>\n",
       "    <tr>\n",
       "      <th>271</th>\n",
       "      <td>baguet</td>\n",
       "      <td>baguette</td>\n",
       "    </tr>\n",
       "    <tr>\n",
       "      <th>516</th>\n",
       "      <td>baguett mallorca</td>\n",
       "      <td>baguette</td>\n",
       "    </tr>\n",
       "    <tr>\n",
       "      <th>776</th>\n",
       "      <td>baguet (5 ma ana)</td>\n",
       "      <td>baguette</td>\n",
       "    </tr>\n",
       "  </tbody>\n",
       "</table>\n",
       "</div>"
      ],
      "text/plain": [
       "           desc_normalized target_names_prod_by_prod\n",
       "147      baguette mallorca                  baguette\n",
       "189  baguet piezas 5 horas                  baguette\n",
       "271                 baguet                  baguette\n",
       "516       baguett mallorca                  baguette\n",
       "776      baguet (5 ma ana)                  baguette"
      ]
     },
     "execution_count": 133,
     "metadata": {},
     "output_type": "execute_result"
    }
   ],
   "source": [
    "baguette = unique_normalized_decriptions[unique_normalized_decriptions['desc_normalized'].str.contains('baguette|baguete|baguet')].copy()\n",
    "baguette['target_names_prod_by_prod'] = 'baguette'\n",
    "list_of_dfs.append(baguette)\n",
    "baguette.head(5)"
   ]
  },
  {
   "cell_type": "markdown",
   "metadata": {},
   "source": [
    "### Lets now concatenate results, merge them back to the  full list of normalized descriptions and evaluate its effectiveness"
   ]
  },
  {
   "cell_type": "code",
   "execution_count": 136,
   "metadata": {},
   "outputs": [],
   "source": [
    "# Lets concatenate the results:\n",
    "list_of_products_df = pd.concat(list_of_dfs, sort=False)"
   ]
  },
  {
   "cell_type": "code",
   "execution_count": 140,
   "metadata": {},
   "outputs": [],
   "source": [
    "df_desc_normalezed_vs_prod_by_prod = pd.merge(df_with_normalized_descriptions, list_of_products_df[['desc_normalized','target_names_prod_by_prod']],how='left',on = 'desc_normalized')\n"
   ]
  },
  {
   "cell_type": "code",
   "execution_count": 141,
   "metadata": {},
   "outputs": [],
   "source": [
    "# Merging test:"
   ]
  },
  {
   "cell_type": "code",
   "execution_count": 145,
   "metadata": {},
   "outputs": [
    {
     "name": "stdout",
     "output_type": "stream",
     "text": [
      "All OK. 'df_with_normalized_descriptions' has the same size as 'df_with_normalized_descriptions' \n"
     ]
    }
   ],
   "source": [
    "#Control merge size:\n",
    "if (df_with_normalized_descriptions.shape[0] == aux.shape[0] ): \n",
    "    print(\"All OK. 'df_with_normalized_descriptions' has the same size as 'df_with_normalized_descriptions' \")\n",
    "else:\n",
    "    print(\"ERROR. 'df' has NOT the same size as 'df_with_normalized_descriptions' \")\n"
   ]
  },
  {
   "cell_type": "markdown",
   "metadata": {},
   "source": [
    "Lets now check how effective it was:"
   ]
  },
  {
   "cell_type": "code",
   "execution_count": 150,
   "metadata": {},
   "outputs": [
    {
     "data": {
      "text/html": [
       "<div>\n",
       "<style scoped>\n",
       "    .dataframe tbody tr th:only-of-type {\n",
       "        vertical-align: middle;\n",
       "    }\n",
       "\n",
       "    .dataframe tbody tr th {\n",
       "        vertical-align: top;\n",
       "    }\n",
       "\n",
       "    .dataframe thead th {\n",
       "        text-align: right;\n",
       "    }\n",
       "</style>\n",
       "<table border=\"1\" class=\"dataframe\">\n",
       "  <thead>\n",
       "    <tr style=\"text-align: right;\">\n",
       "      <th></th>\n",
       "      <th>desc_normalized</th>\n",
       "      <th>target_names_prod_by_prod</th>\n",
       "    </tr>\n",
       "  </thead>\n",
       "  <tbody>\n",
       "    <tr>\n",
       "      <th>0</th>\n",
       "      <td>plum cake damas</td>\n",
       "      <td>NaN</td>\n",
       "    </tr>\n",
       "    <tr>\n",
       "      <th>1</th>\n",
       "      <td>pum cake fresa y pistacho</td>\n",
       "      <td>NaN</td>\n",
       "    </tr>\n",
       "    <tr>\n",
       "      <th>2</th>\n",
       "      <td>bombon marc cava</td>\n",
       "      <td>NaN</td>\n",
       "    </tr>\n",
       "    <tr>\n",
       "      <th>3</th>\n",
       "      <td>zumos frutas acidos</td>\n",
       "      <td>NaN</td>\n",
       "    </tr>\n",
       "    <tr>\n",
       "      <th>4</th>\n",
       "      <td>caramelos rellenos c 200 gr</td>\n",
       "      <td>NaN</td>\n",
       "    </tr>\n",
       "    <tr>\n",
       "      <th>5</th>\n",
       "      <td>tejas</td>\n",
       "      <td>NaN</td>\n",
       "    </tr>\n",
       "    <tr>\n",
       "      <th>6</th>\n",
       "      <td>trufas paris</td>\n",
       "      <td>NaN</td>\n",
       "    </tr>\n",
       "    <tr>\n",
       "      <th>7</th>\n",
       "      <td>galleguitas</td>\n",
       "      <td>NaN</td>\n",
       "    </tr>\n",
       "    <tr>\n",
       "      <th>8</th>\n",
       "      <td>caja bombon fruta 1 4 kg</td>\n",
       "      <td>NaN</td>\n",
       "    </tr>\n",
       "    <tr>\n",
       "      <th>9</th>\n",
       "      <td>naranjines</td>\n",
       "      <td>NaN</td>\n",
       "    </tr>\n",
       "  </tbody>\n",
       "</table>\n",
       "</div>"
      ],
      "text/plain": [
       "               desc_normalized target_names_prod_by_prod\n",
       "0              plum cake damas                       NaN\n",
       "1    pum cake fresa y pistacho                       NaN\n",
       "2             bombon marc cava                       NaN\n",
       "3          zumos frutas acidos                       NaN\n",
       "4  caramelos rellenos c 200 gr                       NaN\n",
       "5                        tejas                       NaN\n",
       "6                 trufas paris                       NaN\n",
       "7                  galleguitas                       NaN\n",
       "8     caja bombon fruta 1 4 kg                       NaN\n",
       "9                   naranjines                       NaN"
      ]
     },
     "execution_count": 150,
     "metadata": {},
     "output_type": "execute_result"
    }
   ],
   "source": [
    "# Lets look at the first 10 description names\n",
    "df_desc_normalezed_vs_prod_by_prod[['desc_normalized','target_names_prod_by_prod']].head(10)"
   ]
  },
  {
   "cell_type": "code",
   "execution_count": 151,
   "metadata": {},
   "outputs": [
    {
     "data": {
      "text/html": [
       "<div>\n",
       "<style scoped>\n",
       "    .dataframe tbody tr th:only-of-type {\n",
       "        vertical-align: middle;\n",
       "    }\n",
       "\n",
       "    .dataframe tbody tr th {\n",
       "        vertical-align: top;\n",
       "    }\n",
       "\n",
       "    .dataframe thead th {\n",
       "        text-align: right;\n",
       "    }\n",
       "</style>\n",
       "<table border=\"1\" class=\"dataframe\">\n",
       "  <thead>\n",
       "    <tr style=\"text-align: right;\">\n",
       "      <th></th>\n",
       "      <th>desc_normalized</th>\n",
       "      <th>target_names_prod_by_prod</th>\n",
       "    </tr>\n",
       "  </thead>\n",
       "  <tbody>\n",
       "    <tr>\n",
       "      <th>67</th>\n",
       "      <td>mousse de perigot</td>\n",
       "      <td>NaN</td>\n",
       "    </tr>\n",
       "    <tr>\n",
       "      <th>68</th>\n",
       "      <td>mousse de oca</td>\n",
       "      <td>NaN</td>\n",
       "    </tr>\n",
       "    <tr>\n",
       "      <th>122</th>\n",
       "      <td>mousse 3 chocolates 1º</td>\n",
       "      <td>mousse tres chocolates</td>\n",
       "    </tr>\n",
       "    <tr>\n",
       "      <th>393</th>\n",
       "      <td>petit four mousse praline</td>\n",
       "      <td>NaN</td>\n",
       "    </tr>\n",
       "    <tr>\n",
       "      <th>482</th>\n",
       "      <td>mousse 3 chocolates 2º</td>\n",
       "      <td>mousse tres chocolates</td>\n",
       "    </tr>\n",
       "    <tr>\n",
       "      <th>509</th>\n",
       "      <td>mousse 3 chocolates 2º</td>\n",
       "      <td>mousse tres chocolates</td>\n",
       "    </tr>\n",
       "    <tr>\n",
       "      <th>518</th>\n",
       "      <td>mousse 3 chocolates 3º</td>\n",
       "      <td>mousse tres chocolates</td>\n",
       "    </tr>\n",
       "    <tr>\n",
       "      <th>608</th>\n",
       "      <td>mousse 3 chocolates 2º</td>\n",
       "      <td>mousse tres chocolates</td>\n",
       "    </tr>\n",
       "    <tr>\n",
       "      <th>629</th>\n",
       "      <td>mousse 3 chocolates 1º</td>\n",
       "      <td>mousse tres chocolates</td>\n",
       "    </tr>\n",
       "    <tr>\n",
       "      <th>642</th>\n",
       "      <td>mousse 3 chocolates 1º</td>\n",
       "      <td>mousse tres chocolates</td>\n",
       "    </tr>\n",
       "    <tr>\n",
       "      <th>658</th>\n",
       "      <td>mousse 3 chocolates 2º cartel 70</td>\n",
       "      <td>mousse tres chocolates</td>\n",
       "    </tr>\n",
       "    <tr>\n",
       "      <th>703</th>\n",
       "      <td>mousse 3 chocolates 2º</td>\n",
       "      <td>mousse tres chocolates</td>\n",
       "    </tr>\n",
       "    <tr>\n",
       "      <th>848</th>\n",
       "      <td>mousse 3 chocolates 3º</td>\n",
       "      <td>mousse tres chocolates</td>\n",
       "    </tr>\n",
       "    <tr>\n",
       "      <th>876</th>\n",
       "      <td>mousse de salmon</td>\n",
       "      <td>NaN</td>\n",
       "    </tr>\n",
       "    <tr>\n",
       "      <th>893</th>\n",
       "      <td>mousse de salmon</td>\n",
       "      <td>NaN</td>\n",
       "    </tr>\n",
       "  </tbody>\n",
       "</table>\n",
       "</div>"
      ],
      "text/plain": [
       "                      desc_normalized target_names_prod_by_prod\n",
       "67                  mousse de perigot                       NaN\n",
       "68                      mousse de oca                       NaN\n",
       "122            mousse 3 chocolates 1º    mousse tres chocolates\n",
       "393         petit four mousse praline                       NaN\n",
       "482            mousse 3 chocolates 2º    mousse tres chocolates\n",
       "509            mousse 3 chocolates 2º    mousse tres chocolates\n",
       "518            mousse 3 chocolates 3º    mousse tres chocolates\n",
       "608            mousse 3 chocolates 2º    mousse tres chocolates\n",
       "629            mousse 3 chocolates 1º    mousse tres chocolates\n",
       "642            mousse 3 chocolates 1º    mousse tres chocolates\n",
       "658  mousse 3 chocolates 2º cartel 70    mousse tres chocolates\n",
       "703            mousse 3 chocolates 2º    mousse tres chocolates\n",
       "848            mousse 3 chocolates 3º    mousse tres chocolates\n",
       "876                  mousse de salmon                       NaN\n",
       "893                  mousse de salmon                       NaN"
      ]
     },
     "execution_count": 151,
     "metadata": {},
     "output_type": "execute_result"
    }
   ],
   "source": [
    "# Lets now review the effectiveness filtering by 'mousse '. The expected result is that all 'mousse 3 chocolates' match\n",
    "df_desc_normalezed_vs_prod_by_prod.loc[df_desc_normalezed_vs_prod_by_prod['desc_normalized'].str.contains('mousse'),['desc_normalized','target_names_prod_by_prod'] ].head(15)"
   ]
  },
  {
   "cell_type": "markdown",
   "metadata": {},
   "source": [
    "This looks much better! lets now check that the data integrity has not been compromised"
   ]
  },
  {
   "cell_type": "markdown",
   "metadata": {},
   "source": [
    "### 2.5 Test that data has not been corrputed\n",
    "\n",
    "To test the integrity of the data, the original dataset should be the same as the last dataset without that we added, in other words, without the columns with the normalized descriptuons, and the target names:"
   ]
  },
  {
   "cell_type": "code",
   "execution_count": 164,
   "metadata": {},
   "outputs": [
    {
     "name": "stdout",
     "output_type": "stream",
     "text": [
      "Original dataset shape: (100000, 6)\n",
      "Resulting dataset shape: (100000, 8)\n"
     ]
    }
   ],
   "source": [
    "# First, lets check the size of both dataframes:\n",
    "print(\"Original dataset shape: {}\".format(df.shape))\n",
    "print(\"Resulting dataset shape: {}\".format(df_desc_normalezed_vs_prod_by_prod.shape))"
   ]
  },
  {
   "cell_type": "markdown",
   "metadata": {},
   "source": [
    "The shape looks good, we were expecting the resulting dataset to have to columns more. Lets now evauate if they are actually the same dataset if we remove the added columns:"
   ]
  },
  {
   "cell_type": "code",
   "execution_count": 180,
   "metadata": {},
   "outputs": [],
   "source": [
    "# Selecting original columnsd from the resulting df\n",
    "df_result = df_desc_normalezed_vs_prod_by_prod.loc[:, df.columns]"
   ]
  },
  {
   "cell_type": "code",
   "execution_count": 177,
   "metadata": {},
   "outputs": [
    {
     "data": {
      "text/html": [
       "<div>\n",
       "<style scoped>\n",
       "    .dataframe tbody tr th:only-of-type {\n",
       "        vertical-align: middle;\n",
       "    }\n",
       "\n",
       "    .dataframe tbody tr th {\n",
       "        vertical-align: top;\n",
       "    }\n",
       "\n",
       "    .dataframe thead th {\n",
       "        text-align: right;\n",
       "    }\n",
       "</style>\n",
       "<table border=\"1\" class=\"dataframe\">\n",
       "  <thead>\n",
       "    <tr style=\"text-align: right;\">\n",
       "      <th></th>\n",
       "      <th>product_id</th>\n",
       "      <th>description</th>\n",
       "      <th>order_date</th>\n",
       "      <th>section</th>\n",
       "      <th>store</th>\n",
       "      <th>units_ordered</th>\n",
       "    </tr>\n",
       "  </thead>\n",
       "  <tbody>\n",
       "    <tr>\n",
       "      <th>7</th>\n",
       "      <td>177.0</td>\n",
       "      <td>GALLEGUITAS</td>\n",
       "      <td>1/1/2008 0:00:00</td>\n",
       "      <td>0</td>\n",
       "      <td>AeUP</td>\n",
       "      <td>0,00</td>\n",
       "    </tr>\n",
       "    <tr>\n",
       "      <th>26</th>\n",
       "      <td>4491.0</td>\n",
       "      <td>POSTRE  CREMOSO DE CARAMELO Y MANZANA</td>\n",
       "      <td>1/1/2008 0:00:00</td>\n",
       "      <td>0</td>\n",
       "      <td>AeUP</td>\n",
       "      <td>0,00</td>\n",
       "    </tr>\n",
       "    <tr>\n",
       "      <th>30</th>\n",
       "      <td>1458.0</td>\n",
       "      <td>B/100 GR. BOLAS (D)</td>\n",
       "      <td>1/1/2008 0:00:00</td>\n",
       "      <td>0</td>\n",
       "      <td>AnUP</td>\n",
       "      <td>0,00</td>\n",
       "    </tr>\n",
       "    <tr>\n",
       "      <th>29</th>\n",
       "      <td>3413.0</td>\n",
       "      <td>CAJAS ROCA FILET</td>\n",
       "      <td>1/1/2008 0:00:00</td>\n",
       "      <td>0</td>\n",
       "      <td>AnUP</td>\n",
       "      <td>0,00</td>\n",
       "    </tr>\n",
       "    <tr>\n",
       "      <th>16</th>\n",
       "      <td>6001.0</td>\n",
       "      <td>GALLEGUITAS/HOTEL/PIEZA/5 HORAS</td>\n",
       "      <td>1/1/2008 0:00:00</td>\n",
       "      <td>0</td>\n",
       "      <td>AnUP</td>\n",
       "      <td>0,00</td>\n",
       "    </tr>\n",
       "  </tbody>\n",
       "</table>\n",
       "</div>"
      ],
      "text/plain": [
       "    product_id                            description        order_date  \\\n",
       "7        177.0                            GALLEGUITAS  1/1/2008 0:00:00   \n",
       "26      4491.0  POSTRE  CREMOSO DE CARAMELO Y MANZANA  1/1/2008 0:00:00   \n",
       "30      1458.0                    B/100 GR. BOLAS (D)  1/1/2008 0:00:00   \n",
       "29      3413.0                       CAJAS ROCA FILET  1/1/2008 0:00:00   \n",
       "16      6001.0        GALLEGUITAS/HOTEL/PIEZA/5 HORAS  1/1/2008 0:00:00   \n",
       "\n",
       "    section store units_ordered  \n",
       "7         0  AeUP          0,00  \n",
       "26        0  AeUP          0,00  \n",
       "30        0  AnUP          0,00  \n",
       "29        0  AnUP          0,00  \n",
       "16        0  AnUP          0,00  "
      ]
     },
     "execution_count": 177,
     "metadata": {},
     "output_type": "execute_result"
    }
   ],
   "source": [
    "(df_desc_normalezed_vs_prod_by_prod.loc[:, df.columns]).sort_values(by = ['order_date','store','description']).head()"
   ]
  },
  {
   "cell_type": "code",
   "execution_count": null,
   "metadata": {},
   "outputs": [],
   "source": []
  },
  {
   "cell_type": "code",
   "execution_count": 176,
   "metadata": {},
   "outputs": [
    {
     "data": {
      "text/html": [
       "<div>\n",
       "<style scoped>\n",
       "    .dataframe tbody tr th:only-of-type {\n",
       "        vertical-align: middle;\n",
       "    }\n",
       "\n",
       "    .dataframe tbody tr th {\n",
       "        vertical-align: top;\n",
       "    }\n",
       "\n",
       "    .dataframe thead th {\n",
       "        text-align: right;\n",
       "    }\n",
       "</style>\n",
       "<table border=\"1\" class=\"dataframe\">\n",
       "  <thead>\n",
       "    <tr style=\"text-align: right;\">\n",
       "      <th></th>\n",
       "      <th>product_id</th>\n",
       "      <th>description</th>\n",
       "      <th>order_date</th>\n",
       "      <th>section</th>\n",
       "      <th>store</th>\n",
       "      <th>units_ordered</th>\n",
       "    </tr>\n",
       "  </thead>\n",
       "  <tbody>\n",
       "    <tr>\n",
       "      <th>7928</th>\n",
       "      <td>177.0</td>\n",
       "      <td>GALLEGUITAS</td>\n",
       "      <td>1/1/2008 0:00:00</td>\n",
       "      <td>0</td>\n",
       "      <td>AeUP</td>\n",
       "      <td>0,00</td>\n",
       "    </tr>\n",
       "    <tr>\n",
       "      <th>63907</th>\n",
       "      <td>4491.0</td>\n",
       "      <td>POSTRE  CREMOSO DE CARAMELO Y MANZANA</td>\n",
       "      <td>1/1/2008 0:00:00</td>\n",
       "      <td>0</td>\n",
       "      <td>AeUP</td>\n",
       "      <td>0,00</td>\n",
       "    </tr>\n",
       "    <tr>\n",
       "      <th>33312</th>\n",
       "      <td>1458.0</td>\n",
       "      <td>B/100 GR. BOLAS (D)</td>\n",
       "      <td>1/1/2008 0:00:00</td>\n",
       "      <td>0</td>\n",
       "      <td>AnUP</td>\n",
       "      <td>0,00</td>\n",
       "    </tr>\n",
       "    <tr>\n",
       "      <th>37598</th>\n",
       "      <td>3413.0</td>\n",
       "      <td>CAJAS ROCA FILET</td>\n",
       "      <td>1/1/2008 0:00:00</td>\n",
       "      <td>0</td>\n",
       "      <td>AnUP</td>\n",
       "      <td>0,00</td>\n",
       "    </tr>\n",
       "    <tr>\n",
       "      <th>84662</th>\n",
       "      <td>6001.0</td>\n",
       "      <td>GALLEGUITAS/HOTEL/PIEZA/5 HORAS</td>\n",
       "      <td>1/1/2008 0:00:00</td>\n",
       "      <td>0</td>\n",
       "      <td>AnUP</td>\n",
       "      <td>0,00</td>\n",
       "    </tr>\n",
       "  </tbody>\n",
       "</table>\n",
       "</div>"
      ],
      "text/plain": [
       "       product_id                            description        order_date  \\\n",
       "7928        177.0                            GALLEGUITAS  1/1/2008 0:00:00   \n",
       "63907      4491.0  POSTRE  CREMOSO DE CARAMELO Y MANZANA  1/1/2008 0:00:00   \n",
       "33312      1458.0                    B/100 GR. BOLAS (D)  1/1/2008 0:00:00   \n",
       "37598      3413.0                       CAJAS ROCA FILET  1/1/2008 0:00:00   \n",
       "84662      6001.0        GALLEGUITAS/HOTEL/PIEZA/5 HORAS  1/1/2008 0:00:00   \n",
       "\n",
       "       section store units_ordered  \n",
       "7928         0  AeUP          0,00  \n",
       "63907        0  AeUP          0,00  \n",
       "33312        0  AnUP          0,00  \n",
       "37598        0  AnUP          0,00  \n",
       "84662        0  AnUP          0,00  "
      ]
     },
     "execution_count": 176,
     "metadata": {},
     "output_type": "execute_result"
    }
   ],
   "source": [
    "df.sort_values(by = ['order_date','store','description']).head()"
   ]
  },
  {
   "cell_type": "code",
   "execution_count": 166,
   "metadata": {},
   "outputs": [
    {
     "data": {
      "text/plain": [
       "False"
      ]
     },
     "execution_count": 166,
     "metadata": {},
     "output_type": "execute_result"
    }
   ],
   "source": [
    "# Selecting the original columns from the dataset where the names have been normalized:\n",
    "df.equals(df_desc_normalezed_vs_prod_by_prod.loc[:, df.columns])"
   ]
  },
  {
   "cell_type": "markdown",
   "metadata": {},
   "source": [
    "### 2.6 Filter dataset to only include the products from the list provided by the client, and save to csv"
   ]
  },
  {
   "cell_type": "code",
   "execution_count": null,
   "metadata": {},
   "outputs": [],
   "source": []
  },
  {
   "cell_type": "code",
   "execution_count": null,
   "metadata": {},
   "outputs": [],
   "source": []
  },
  {
   "cell_type": "code",
   "execution_count": null,
   "metadata": {},
   "outputs": [],
   "source": []
  },
  {
   "cell_type": "code",
   "execution_count": null,
   "metadata": {},
   "outputs": [],
   "source": []
  },
  {
   "cell_type": "code",
   "execution_count": null,
   "metadata": {},
   "outputs": [],
   "source": []
  },
  {
   "cell_type": "code",
   "execution_count": 43,
   "metadata": {},
   "outputs": [
    {
     "ename": "SyntaxError",
     "evalue": "invalid syntax (<ipython-input-43-01e1e2be50d5>, line 1)",
     "output_type": "error",
     "traceback": [
      "\u001b[0;36m  File \u001b[0;32m\"<ipython-input-43-01e1e2be50d5>\"\u001b[0;36m, line \u001b[0;32m1\u001b[0m\n\u001b[0;31m    Filter by products on the list, and save the file.\u001b[0m\n\u001b[0m            ^\u001b[0m\n\u001b[0;31mSyntaxError\u001b[0m\u001b[0;31m:\u001b[0m invalid syntax\n"
     ]
    }
   ],
   "source": [
    " Filter by products on the list, and save the file."
   ]
  }
 ],
 "metadata": {
  "kernelspec": {
   "display_name": "kschool-final-project",
   "language": "python",
   "name": "kschool-final-project"
  },
  "language_info": {
   "codemirror_mode": {
    "name": "ipython",
    "version": 2
   },
   "file_extension": ".py",
   "mimetype": "text/x-python",
   "name": "python",
   "nbconvert_exporter": "python",
   "pygments_lexer": "ipython2",
   "version": "2.7.10"
  }
 },
 "nbformat": 4,
 "nbformat_minor": 2
}
