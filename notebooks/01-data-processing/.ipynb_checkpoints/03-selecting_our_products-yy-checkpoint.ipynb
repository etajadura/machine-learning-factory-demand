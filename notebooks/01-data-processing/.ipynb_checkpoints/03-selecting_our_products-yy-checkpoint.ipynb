{
 "cells": [
  {
   "cell_type": "markdown",
   "metadata": {},
   "source": [
    "# SELECTING OUR PRODUCTS:"
   ]
  },
  {
   "cell_type": "markdown",
   "metadata": {},
   "source": [
    "Along this script we will select the products described in the list obtained in our last script, and arrange them in a dataframe in a convenient manner for their manipulation."
   ]
  },
  {
   "cell_type": "code",
   "execution_count": 33,
   "metadata": {},
   "outputs": [],
   "source": [
    "# Importing packages:\n",
    "\n",
    "import pandas as pd\n",
    "import matplotlib.pyplot as plt\n",
    "import numpy as np\n",
    "\n",
    "%matplotlib inline"
   ]
  },
  {
   "cell_type": "code",
   "execution_count": 140,
   "metadata": {},
   "outputs": [],
   "source": [
    "file_path = \"../../data/01_raw/\"\n",
    "file_name = \"b2-transactions.csv\"\n",
    "\n",
    "filtered_file_name=\"c1-filtered_transactions.csv\"\n",
    "\n",
    "sep=\";\""
   ]
  },
  {
   "cell_type": "code",
   "execution_count": 5,
   "metadata": {},
   "outputs": [],
   "source": [
    "dict_of_products={'croissant': 100,\n",
    "                  'croissant petit': 103,\n",
    "                  'tarta mousse 3 chocolates': 10002,\n",
    "                  'tarta de manzana 2º': 462,\n",
    "                  'palmeras de trufa': 182,\n",
    "                  'tarta opera': 414,\n",
    "                  'postre fresas y mascarpone': 4511,\n",
    "                  'milhojas frambuesa 2º': 459,\n",
    "                  'torteles': 112,\n",
    "                  'baguette': 115}"
   ]
  },
  {
   "cell_type": "code",
   "execution_count": 133,
   "metadata": {},
   "outputs": [],
   "source": [
    "reader=pd.read_csv(file_path+file_name, sep=sep, chunksize=100000)\n",
    "\n",
    "\n",
    "filtered_df=pd.DataFrame()\n",
    "\n",
    "for chunk in reader:\n",
    "    \n",
    "    chunk.dropna(how='any', inplace=True)\n",
    "    chunk=chunk.drop('Unnamed: 0', axis=1)\n",
    "\n",
    "    for value in dict_of_products.values():\n",
    "        \n",
    "        if filtered_df.empty:\n",
    "            filtered_df=chunk[chunk['product_id']==value]\n",
    "        else:\n",
    "            filtered_df=filtered_df.append(chunk[chunk['product_id']==value])\n",
    "\n",
    "        "
   ]
  },
  {
   "cell_type": "code",
   "execution_count": 136,
   "metadata": {
    "scrolled": false
   },
   "outputs": [
    {
     "data": {
      "text/html": [
       "<div>\n",
       "<style scoped>\n",
       "    .dataframe tbody tr th:only-of-type {\n",
       "        vertical-align: middle;\n",
       "    }\n",
       "\n",
       "    .dataframe tbody tr th {\n",
       "        vertical-align: top;\n",
       "    }\n",
       "\n",
       "    .dataframe thead th {\n",
       "        text-align: right;\n",
       "    }\n",
       "</style>\n",
       "<table border=\"1\" class=\"dataframe\">\n",
       "  <thead>\n",
       "    <tr style=\"text-align: right;\">\n",
       "      <th></th>\n",
       "      <th>product_id</th>\n",
       "      <th>description</th>\n",
       "      <th>order_date</th>\n",
       "      <th>section</th>\n",
       "      <th>store</th>\n",
       "      <th>units_ordered</th>\n",
       "    </tr>\n",
       "  </thead>\n",
       "  <tbody>\n",
       "    <tr>\n",
       "      <th>47</th>\n",
       "      <td>100.0</td>\n",
       "      <td>CROISANTS</td>\n",
       "      <td>16/6/2009 0:00:00</td>\n",
       "      <td>0</td>\n",
       "      <td>BmUP</td>\n",
       "      <td>0,00</td>\n",
       "    </tr>\n",
       "    <tr>\n",
       "      <th>754</th>\n",
       "      <td>100.0</td>\n",
       "      <td>CROISANTS</td>\n",
       "      <td>21/12/2012 0:00:00</td>\n",
       "      <td>0</td>\n",
       "      <td>BmUP</td>\n",
       "      <td>15,00</td>\n",
       "    </tr>\n",
       "    <tr>\n",
       "      <th>1029</th>\n",
       "      <td>100.0</td>\n",
       "      <td>CROISANTS</td>\n",
       "      <td>14/3/2014 0:00:00</td>\n",
       "      <td>0</td>\n",
       "      <td>BmUP</td>\n",
       "      <td>18,00</td>\n",
       "    </tr>\n",
       "    <tr>\n",
       "      <th>1510</th>\n",
       "      <td>100.0</td>\n",
       "      <td>CROISANTS</td>\n",
       "      <td>30/7/2013 0:00:00</td>\n",
       "      <td>0</td>\n",
       "      <td>BmUP</td>\n",
       "      <td>6,00</td>\n",
       "    </tr>\n",
       "    <tr>\n",
       "      <th>1645</th>\n",
       "      <td>100.0</td>\n",
       "      <td>CROISSANT</td>\n",
       "      <td>3/7/2019 0:00:00</td>\n",
       "      <td>0</td>\n",
       "      <td>BmUP</td>\n",
       "      <td>4,00</td>\n",
       "    </tr>\n",
       "  </tbody>\n",
       "</table>\n",
       "</div>"
      ],
      "text/plain": [
       "      product_id description          order_date  section store units_ordered\n",
       "47         100.0   CROISANTS   16/6/2009 0:00:00        0  BmUP          0,00\n",
       "754        100.0   CROISANTS  21/12/2012 0:00:00        0  BmUP         15,00\n",
       "1029       100.0   CROISANTS   14/3/2014 0:00:00        0  BmUP         18,00\n",
       "1510       100.0   CROISANTS   30/7/2013 0:00:00        0  BmUP          6,00\n",
       "1645       100.0   CROISSANT    3/7/2019 0:00:00        0  BmUP          4,00"
      ]
     },
     "execution_count": 136,
     "metadata": {},
     "output_type": "execute_result"
    }
   ],
   "source": [
    "filtered_df.head()"
   ]
  },
  {
   "cell_type": "code",
   "execution_count": 137,
   "metadata": {},
   "outputs": [
    {
     "data": {
      "text/plain": [
       "array([ 100.,  103.,  462.,  182.,  414., 4511.,  459.,  112.,  115.])"
      ]
     },
     "execution_count": 137,
     "metadata": {},
     "output_type": "execute_result"
    }
   ],
   "source": [
    "filtered_df['product_id'].unique()"
   ]
  },
  {
   "cell_type": "code",
   "execution_count": 138,
   "metadata": {},
   "outputs": [
    {
     "data": {
      "text/plain": [
       "(885643, 6)"
      ]
     },
     "execution_count": 138,
     "metadata": {},
     "output_type": "execute_result"
    }
   ],
   "source": [
    "filtered_df.shape"
   ]
  },
  {
   "cell_type": "code",
   "execution_count": 139,
   "metadata": {},
   "outputs": [
    {
     "data": {
      "text/plain": [
       "(104462, 6)"
      ]
     },
     "execution_count": 139,
     "metadata": {},
     "output_type": "execute_result"
    }
   ],
   "source": [
    "filtered_df[filtered_df['product_id']==103].shape"
   ]
  },
  {
   "cell_type": "markdown",
   "metadata": {},
   "source": [
    "## DATES TO APPROPRIATE FORMAT USING DATETIME:"
   ]
  },
  {
   "cell_type": "code",
   "execution_count": 144,
   "metadata": {},
   "outputs": [],
   "source": [
    "from datetime import datetime as dttm"
   ]
  },
  {
   "cell_type": "code",
   "execution_count": 146,
   "metadata": {},
   "outputs": [],
   "source": [
    "filtered_df['date']=filtered_df['order_date'].apply(lambda x: dttm.strptime(x,'%d/%m/%Y 0:00:00'))"
   ]
  },
  {
   "cell_type": "code",
   "execution_count": 181,
   "metadata": {
    "scrolled": true
   },
   "outputs": [],
   "source": [
    "filtered_df.drop('order_date', axis=1, inplace=True)"
   ]
  },
  {
   "cell_type": "code",
   "execution_count": 182,
   "metadata": {
    "scrolled": true
   },
   "outputs": [
    {
     "data": {
      "text/html": [
       "<div>\n",
       "<style scoped>\n",
       "    .dataframe tbody tr th:only-of-type {\n",
       "        vertical-align: middle;\n",
       "    }\n",
       "\n",
       "    .dataframe tbody tr th {\n",
       "        vertical-align: top;\n",
       "    }\n",
       "\n",
       "    .dataframe thead th {\n",
       "        text-align: right;\n",
       "    }\n",
       "</style>\n",
       "<table border=\"1\" class=\"dataframe\">\n",
       "  <thead>\n",
       "    <tr style=\"text-align: right;\">\n",
       "      <th></th>\n",
       "      <th>product_id</th>\n",
       "      <th>description</th>\n",
       "      <th>section</th>\n",
       "      <th>store</th>\n",
       "      <th>units_ordered</th>\n",
       "      <th>date</th>\n",
       "    </tr>\n",
       "  </thead>\n",
       "  <tbody>\n",
       "    <tr>\n",
       "      <th>47</th>\n",
       "      <td>100.0</td>\n",
       "      <td>CROISANTS</td>\n",
       "      <td>0</td>\n",
       "      <td>BmUP</td>\n",
       "      <td>0,00</td>\n",
       "      <td>2009-06-16</td>\n",
       "    </tr>\n",
       "    <tr>\n",
       "      <th>754</th>\n",
       "      <td>100.0</td>\n",
       "      <td>CROISANTS</td>\n",
       "      <td>0</td>\n",
       "      <td>BmUP</td>\n",
       "      <td>15,00</td>\n",
       "      <td>2012-12-21</td>\n",
       "    </tr>\n",
       "    <tr>\n",
       "      <th>1029</th>\n",
       "      <td>100.0</td>\n",
       "      <td>CROISANTS</td>\n",
       "      <td>0</td>\n",
       "      <td>BmUP</td>\n",
       "      <td>18,00</td>\n",
       "      <td>2014-03-14</td>\n",
       "    </tr>\n",
       "    <tr>\n",
       "      <th>1510</th>\n",
       "      <td>100.0</td>\n",
       "      <td>CROISANTS</td>\n",
       "      <td>0</td>\n",
       "      <td>BmUP</td>\n",
       "      <td>6,00</td>\n",
       "      <td>2013-07-30</td>\n",
       "    </tr>\n",
       "    <tr>\n",
       "      <th>1645</th>\n",
       "      <td>100.0</td>\n",
       "      <td>CROISSANT</td>\n",
       "      <td>0</td>\n",
       "      <td>BmUP</td>\n",
       "      <td>4,00</td>\n",
       "      <td>2019-07-03</td>\n",
       "    </tr>\n",
       "  </tbody>\n",
       "</table>\n",
       "</div>"
      ],
      "text/plain": [
       "      product_id description  section store units_ordered       date\n",
       "47         100.0   CROISANTS        0  BmUP          0,00 2009-06-16\n",
       "754        100.0   CROISANTS        0  BmUP         15,00 2012-12-21\n",
       "1029       100.0   CROISANTS        0  BmUP         18,00 2014-03-14\n",
       "1510       100.0   CROISANTS        0  BmUP          6,00 2013-07-30\n",
       "1645       100.0   CROISSANT        0  BmUP          4,00 2019-07-03"
      ]
     },
     "execution_count": 182,
     "metadata": {},
     "output_type": "execute_result"
    }
   ],
   "source": [
    "filtered_df.head()"
   ]
  },
  {
   "cell_type": "code",
   "execution_count": 184,
   "metadata": {},
   "outputs": [],
   "source": [
    "filtered_df.to_csv(file_path+filtered_file_name)"
   ]
  }
 ],
 "metadata": {
  "kernelspec": {
   "display_name": "Python 3",
   "language": "python",
   "name": "python3"
  },
  "language_info": {
   "codemirror_mode": {
    "name": "ipython",
    "version": 3
   },
   "file_extension": ".py",
   "mimetype": "text/x-python",
   "name": "python",
   "nbconvert_exporter": "python",
   "pygments_lexer": "ipython3",
   "version": "3.7.3"
  }
 },
 "nbformat": 4,
 "nbformat_minor": 2
}
