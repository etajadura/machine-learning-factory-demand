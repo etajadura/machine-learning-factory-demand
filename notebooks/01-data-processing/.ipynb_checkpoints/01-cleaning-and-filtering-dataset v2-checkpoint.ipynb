{
 "cells": [
  {
   "cell_type": "markdown",
   "metadata": {},
   "source": [
    "# FILTERING THE DATASET:"
   ]
  },
  {
   "cell_type": "markdown",
   "metadata": {},
   "source": [
    "Along this script we will get from an initial list of products provided by our client, to a final list (as per the names and ids present within the real data), which will be used to filter our initial data in order to get a smaller, more manageable file.\n",
    "\n",
    "This process will be divided in two main steps:\n",
    "\n",
    "- Check the names in our list with the descriptions present in our data, analyze them and select a final list\n",
    "\n",
    "- Use this list to filter our data and store the resulting information in a more small and convenient file"
   ]
  },
  {
   "cell_type": "markdown",
   "metadata": {},
   "source": [
    "## CREATING THE LIST OF PRODUCTS FOR THE ANALYSIS:"
   ]
  },
  {
   "cell_type": "markdown",
   "metadata": {},
   "source": [
    "After rearranging the data in a more convenient manner and doing some introductory analysis of the data, we now want to get down to work with our data.\n",
    "\n",
    "A list has been given to us of the 10 products that our clients found as more relevant to their business.\n",
    "\n",
    "What we want now is to check whether the names on the list correspond to certain uniques ids, or, as seen in the previous scripts, some conflict of unicity will arise between the id of our products and their descriptions.\n",
    "\n",
    "So, we are going to check our dataframe and select from it the ids and descriptions of our products that match the indications given in our clients list. With the lists (in reality, two dictionaries) of the ids and descriptions that match every product given to us, we will decide which are the more appropriate.\n",
    "\n",
    "Perhaps some guidance from our client would be needed at this stage."
   ]
  },
  {
   "cell_type": "markdown",
   "metadata": {},
   "source": [
    "### 1. Read dataframe"
   ]
  },
  {
   "cell_type": "code",
   "execution_count": 1,
   "metadata": {},
   "outputs": [
    {
     "name": "stderr",
     "output_type": "stream",
     "text": [
      "/Users/miruiz/kschool-final-project/lib/python2.7/site-packages/fuzzywuzzy/fuzz.py:11: UserWarning: Using slow pure-python SequenceMatcher. Install python-Levenshtein to remove this warning\n",
      "  warnings.warn('Using slow pure-python SequenceMatcher. Install python-Levenshtein to remove this warning')\n"
     ]
    }
   ],
   "source": [
    "# Importing packages:\n",
    "\n",
    "import pandas as pd\n",
    "import matplotlib.pyplot as plt\n",
    "import numpy as np\n",
    "import re\n",
    "from collections import Counter\n",
    "from fuzzywuzzy import fuzz\n",
    "from fuzzywuzzy import process\n",
    "import math\n",
    "import seaborn as sns\n",
    "\n",
    "\n",
    "%matplotlib inline\n",
    "pd.options.display.max_columns = None"
   ]
  },
  {
   "cell_type": "code",
   "execution_count": 2,
   "metadata": {},
   "outputs": [],
   "source": [
    "# Defining the search path of the file, the name and the separator:\n",
    "\n",
    "file_path = \"../../data/01_raw/\"\n",
    "file_name = \"b2-transactions.csv\" #'b2-transactions_sample.csv' \n",
    "exit_path = \"../../data/02_intermediate/\"\n",
    "\n",
    "filtered_file_name=\"c1-filtered_transactions.csv\"\n",
    "\n",
    "sep=\";\""
   ]
  },
  {
   "cell_type": "code",
   "execution_count": 3,
   "metadata": {},
   "outputs": [],
   "source": [
    "# We create the list of products provided by the client\n",
    "list_of_products=['croissant',\n",
    "                  'croissant petit',\n",
    "                  'tarta mousse 3 chocolates',\n",
    "                  'tarta de manzana 2º',\n",
    "                  'palmera de chocolate'\n",
    "                  'tarta opera',\n",
    "                  'postre fresas y mascarpone',\n",
    "                  'milhojas frambuesa 2º',\n",
    "                  'tortel',\n",
    "                  'baguette']"
   ]
  },
  {
   "cell_type": "code",
   "execution_count": 4,
   "metadata": {
    "scrolled": true
   },
   "outputs": [],
   "source": [
    "# We import the dataframe:\n",
    "df=pd.read_csv(file_path+file_name, sep=sep)"
   ]
  },
  {
   "cell_type": "code",
   "execution_count": 5,
   "metadata": {},
   "outputs": [
    {
     "data": {
      "text/html": [
       "<div>\n",
       "<style scoped>\n",
       "    .dataframe tbody tr th:only-of-type {\n",
       "        vertical-align: middle;\n",
       "    }\n",
       "\n",
       "    .dataframe tbody tr th {\n",
       "        vertical-align: top;\n",
       "    }\n",
       "\n",
       "    .dataframe thead th {\n",
       "        text-align: right;\n",
       "    }\n",
       "</style>\n",
       "<table border=\"1\" class=\"dataframe\">\n",
       "  <thead>\n",
       "    <tr style=\"text-align: right;\">\n",
       "      <th></th>\n",
       "      <th>product_id</th>\n",
       "      <th>description</th>\n",
       "      <th>order_date</th>\n",
       "      <th>section</th>\n",
       "      <th>store</th>\n",
       "      <th>units_ordered</th>\n",
       "    </tr>\n",
       "  </thead>\n",
       "  <tbody>\n",
       "    <tr>\n",
       "      <th>26141546</th>\n",
       "      <td>8756.0</td>\n",
       "      <td>PAN CENTENO CORTADO</td>\n",
       "      <td>2011-04-13</td>\n",
       "      <td>0</td>\n",
       "      <td>ViUP</td>\n",
       "      <td>0,00</td>\n",
       "    </tr>\n",
       "    <tr>\n",
       "      <th>28432641</th>\n",
       "      <td>549.0</td>\n",
       "      <td>FLORENTINAS</td>\n",
       "      <td>2011-02-01</td>\n",
       "      <td>0</td>\n",
       "      <td>ZiUO</td>\n",
       "      <td>0,00</td>\n",
       "    </tr>\n",
       "    <tr>\n",
       "      <th>14628930</th>\n",
       "      <td>322.0</td>\n",
       "      <td>SOLOMILLO  DE POLLO ESCABECHADO CON SETAS</td>\n",
       "      <td>2013-05-27</td>\n",
       "      <td>0</td>\n",
       "      <td>EnUP</td>\n",
       "      <td>0,00</td>\n",
       "    </tr>\n",
       "    <tr>\n",
       "      <th>16510479</th>\n",
       "      <td>177.0</td>\n",
       "      <td>GALLEGUITAS</td>\n",
       "      <td>2015-05-19</td>\n",
       "      <td>0</td>\n",
       "      <td>GoUP</td>\n",
       "      <td>0,00</td>\n",
       "    </tr>\n",
       "    <tr>\n",
       "      <th>23724995</th>\n",
       "      <td>820.0</td>\n",
       "      <td>SELVA NEGRA (POSTRE)</td>\n",
       "      <td>2014-02-28</td>\n",
       "      <td>0</td>\n",
       "      <td>PoUP</td>\n",
       "      <td>4,00</td>\n",
       "    </tr>\n",
       "  </tbody>\n",
       "</table>\n",
       "</div>"
      ],
      "text/plain": [
       "          product_id                                description  order_date  \\\n",
       "26141546      8756.0                        PAN CENTENO CORTADO  2011-04-13   \n",
       "28432641       549.0                                FLORENTINAS  2011-02-01   \n",
       "14628930       322.0  SOLOMILLO  DE POLLO ESCABECHADO CON SETAS  2013-05-27   \n",
       "16510479       177.0                                GALLEGUITAS  2015-05-19   \n",
       "23724995       820.0                       SELVA NEGRA (POSTRE)  2014-02-28   \n",
       "\n",
       "          section store units_ordered  \n",
       "26141546        0  ViUP          0,00  \n",
       "28432641        0  ZiUO          0,00  \n",
       "14628930        0  EnUP          0,00  \n",
       "16510479        0  GoUP          0,00  \n",
       "23724995        0  PoUP          4,00  "
      ]
     },
     "execution_count": 5,
     "metadata": {},
     "output_type": "execute_result"
    }
   ],
   "source": [
    "df.sample(5)"
   ]
  },
  {
   "cell_type": "markdown",
   "metadata": {},
   "source": [
    "### 2. Normalizing and aggregating description names\n",
    "\n",
    "Unfortunately, there is no convention for the description and one id could \n",
    "\n",
    "1. Normalize descriptions as much as possible using:\n",
    "    - Regex expressions \n",
    "    - Basic NLP for spell-checking.\n",
    "2. Create a normalization file with the following structure:\n",
    "    - Unique Product_id and normalized description\n",
    "    - Flag to indicate if the product is part of the given list, or not.  \n",
    "3. Finally review the list manually. "
   ]
  },
  {
   "cell_type": "markdown",
   "metadata": {},
   "source": [
    "### 2.1 Normalizing description names "
   ]
  },
  {
   "cell_type": "code",
   "execution_count": 6,
   "metadata": {},
   "outputs": [],
   "source": [
    "# Setting Null descriptions to 'no-description'\n",
    "df['description'].fillna('no-description', inplace = True)\n",
    "\n",
    "# Unique product descriptions\n",
    "df_descriptions_unique = pd.Series(df['description'].unique())\n",
    "\n",
    "# Most of the descriptions are in uppercase, however others are in lower:\n",
    "df_descriptions_normalized = df_descriptions_unique.str.lower()\n",
    "\n",
    "#replace non alfanumeric with space\n",
    "df_descriptions_normalized=df_descriptions_normalized.str.replace(r'[^0-9a-zA-Zº()ª:-]+', ' ') \n",
    "\n",
    "# We also notice that there are spacing issues at the begining, end of the description and between words:\n",
    "df_descriptions_normalized=df_descriptions_normalized.str.strip()\n",
    "\n",
    "# Remove multi-spacing. multi '-' and multi ':'\n",
    "df_descriptions_normalized=df_descriptions_normalized.str.replace(r' +', ' ') \n",
    "df_descriptions_normalized=df_descriptions_normalized.str.replace(r'-+', ' ') \n",
    "df_descriptions_normalized=df_descriptions_normalized.str.replace(r':+', ' ') "
   ]
  },
  {
   "cell_type": "code",
   "execution_count": 7,
   "metadata": {},
   "outputs": [
    {
     "data": {
      "text/html": [
       "<div>\n",
       "<style scoped>\n",
       "    .dataframe tbody tr th:only-of-type {\n",
       "        vertical-align: middle;\n",
       "    }\n",
       "\n",
       "    .dataframe tbody tr th {\n",
       "        vertical-align: top;\n",
       "    }\n",
       "\n",
       "    .dataframe thead th {\n",
       "        text-align: right;\n",
       "    }\n",
       "</style>\n",
       "<table border=\"1\" class=\"dataframe\">\n",
       "  <thead>\n",
       "    <tr style=\"text-align: right;\">\n",
       "      <th></th>\n",
       "      <th>desc_normalized</th>\n",
       "      <th>desc_original</th>\n",
       "    </tr>\n",
       "  </thead>\n",
       "  <tbody>\n",
       "    <tr>\n",
       "      <th>31126</th>\n",
       "      <td>tarta mus tres chocolates en tartero 70 r</td>\n",
       "      <td>TARTA  MUS  TRES CHOCOLATES  EN TARTERO  70 R/</td>\n",
       "    </tr>\n",
       "    <tr>\n",
       "      <th>20329</th>\n",
       "      <td>postre mousse de frutas rojas</td>\n",
       "      <td>POSTRE MOUSSE DE FRUTAS ROJAS</td>\n",
       "    </tr>\n",
       "    <tr>\n",
       "      <th>3570</th>\n",
       "      <td>encargotarta de milhojas deframbuesa del 1</td>\n",
       "      <td>EncargoTARTA DE MILHOJAS DEFRAMBUESA DEL 1</td>\n",
       "    </tr>\n",
       "    <tr>\n",
       "      <th>39059</th>\n",
       "      <td>caja de mini sandw de 10 rac para las 9 am</td>\n",
       "      <td>CAJA DE MINI SANDW. DE 10 RAC. PARA  LAS 9 AM.</td>\n",
       "    </tr>\n",
       "    <tr>\n",
       "      <th>26677</th>\n",
       "      <td>caja especialidad marron</td>\n",
       "      <td>CAJA ESPECIALIDAD MARRON</td>\n",
       "    </tr>\n",
       "    <tr>\n",
       "      <th>23680</th>\n",
       "      <td>encargofiletes de lenguado con langostinos 5 r...</td>\n",
       "      <td>EncargoFILETES DE LENGUADO CON LANGOSTINOS 5 R...</td>\n",
       "    </tr>\n",
       "    <tr>\n",
       "      <th>28595</th>\n",
       "      <td>menus mallorca( poner  2 ensaladas de esparrag...</td>\n",
       "      <td>MENUS MALLORCA( PONER: 2 ENSALADAS DE ESPARRAG...</td>\n",
       "    </tr>\n",
       "    <tr>\n",
       "      <th>10811</th>\n",
       "      <td>tira de hojaldre y frutas con cartel felicidad...</td>\n",
       "      <td>TIRA DE HOJALDRE Y FRUTAS CON CARTEL FELICIDAD...</td>\n",
       "    </tr>\n",
       "    <tr>\n",
       "      <th>41664</th>\n",
       "      <td>pan con cereales   piezas</td>\n",
       "      <td>PAN  CON   CEREALES  -- PIEZAS -</td>\n",
       "    </tr>\n",
       "    <tr>\n",
       "      <th>21249</th>\n",
       "      <td>chocolate 1º y cartel felicidades rebeca</td>\n",
       "      <td>CHOCOLATE 1º Y CARTEL FELICIDADES REBECA</td>\n",
       "    </tr>\n",
       "  </tbody>\n",
       "</table>\n",
       "</div>"
      ],
      "text/plain": [
       "                                         desc_normalized  \\\n",
       "31126          tarta mus tres chocolates en tartero 70 r   \n",
       "20329                      postre mousse de frutas rojas   \n",
       "3570          encargotarta de milhojas deframbuesa del 1   \n",
       "39059         caja de mini sandw de 10 rac para las 9 am   \n",
       "26677                           caja especialidad marron   \n",
       "23680  encargofiletes de lenguado con langostinos 5 r...   \n",
       "28595  menus mallorca( poner  2 ensaladas de esparrag...   \n",
       "10811  tira de hojaldre y frutas con cartel felicidad...   \n",
       "41664                        pan con cereales   piezas     \n",
       "21249           chocolate 1º y cartel felicidades rebeca   \n",
       "\n",
       "                                           desc_original  \n",
       "31126     TARTA  MUS  TRES CHOCOLATES  EN TARTERO  70 R/  \n",
       "20329                      POSTRE MOUSSE DE FRUTAS ROJAS  \n",
       "3570         EncargoTARTA DE MILHOJAS DEFRAMBUESA DEL 1   \n",
       "39059     CAJA DE MINI SANDW. DE 10 RAC. PARA  LAS 9 AM.  \n",
       "26677                           CAJA ESPECIALIDAD MARRON  \n",
       "23680  EncargoFILETES DE LENGUADO CON LANGOSTINOS 5 R...  \n",
       "28595  MENUS MALLORCA( PONER: 2 ENSALADAS DE ESPARRAG...  \n",
       "10811  TIRA DE HOJALDRE Y FRUTAS CON CARTEL FELICIDAD...  \n",
       "41664                   PAN  CON   CEREALES  -- PIEZAS -  \n",
       "21249           CHOCOLATE 1º Y CARTEL FELICIDADES REBECA  "
      ]
     },
     "execution_count": 7,
     "metadata": {},
     "output_type": "execute_result"
    }
   ],
   "source": [
    "pd.DataFrame(dict(desc_original = df_descriptions_unique, desc_normalized = df_descriptions_normalized)).sample(10)"
   ]
  },
  {
   "cell_type": "markdown",
   "metadata": {},
   "source": [
    "Now lets gets get our hands dirty and apply some maths to calculate string distnace and finish cleaning all those messy product descriptions... This is what we are going to do:\n",
    "\n",
    "1. Create a dataset with pastry products by parsing the bakery catalogues, and other pastry websites. (this was done manually, by converting the pdf catalogues to txt using an external web. THe resulting file is named productos.txt)\n",
    "\n",
    "2. Following the indications from: https://medium.com/@hdezfloresmiguelangel/implementando-un-corrector-ortogr%C3%A1fico-en-python-utilizando-la-distancia-de-levenshtein-498ec0dd1105 create an spell-checker based on the products.txt dataset and the Levenshtein distance\n"
   ]
  },
  {
   "cell_type": "code",
   "execution_count": 8,
   "metadata": {},
   "outputs": [],
   "source": [
    "def words(text): return re.findall(r'\\w+', text.lower())\n",
    "\n",
    "WORDS = Counter(words(open('../../data/01_additional_data/productos.txt').read()))\n",
    "\n",
    "def P(word, N=sum(WORDS.values())): \n",
    "    \"Probability of `word`.\"\n",
    "    return WORDS[word] / N\n",
    "\n",
    "def correction(word): \n",
    "    \"Most probable spelling correction for word.\"\n",
    "    return max(candidates(word), key=P)\n",
    "\n",
    "def candidates(word): \n",
    "    \"Generate possible spelling corrections for word.\"\n",
    "    return (known([word]) or known(edits1(word)) or known(edits2(word)) or [word])\n",
    "\n",
    "def known(words): \n",
    "    \"The subset of `words` that appear in the dictionary of WORDS.\"\n",
    "    return set(w for w in words if w in WORDS)\n",
    "\n",
    "def edits1(word):\n",
    "    \"All edits that are one edit away from `word`.\"\n",
    "    letters    = 'abcdefghijklmnopqrstuvwxyz'\n",
    "    splits     = [(word[:i], word[i:])    for i in range(len(word) + 1)]\n",
    "    deletes    = [L + R[1:]               for L, R in splits if R]\n",
    "    transposes = [L + R[1] + R[0] + R[2:] for L, R in splits if len(R)>1]\n",
    "    replaces   = [L + c + R[1:]           for L, R in splits if R for c in letters]\n",
    "    inserts    = [L + c + R               for L, R in splits for c in letters]\n",
    "    return set(deletes + transposes + replaces + inserts)\n",
    "\n",
    "def edits2(word): \n",
    "    \"All edits that are two edits away from `word`.\"\n",
    "    return (e2 for e1 in edits1(word) for e2 in edits1(e1))"
   ]
  },
  {
   "cell_type": "code",
   "execution_count": 9,
   "metadata": {},
   "outputs": [
    {
     "data": {
      "text/plain": [
       "'tarta'"
      ]
     },
     "execution_count": 9,
     "metadata": {},
     "output_type": "execute_result"
    }
   ],
   "source": [
    "correction(\"trta\")"
   ]
  },
  {
   "cell_type": "code",
   "execution_count": 10,
   "metadata": {},
   "outputs": [
    {
     "data": {
      "text/plain": [
       "'cafe'"
      ]
     },
     "execution_count": 10,
     "metadata": {},
     "output_type": "execute_result"
    }
   ],
   "source": [
    "correction(\"café\")"
   ]
  },
  {
   "cell_type": "markdown",
   "metadata": {},
   "source": [
    "Fantastic! the it seems to work. Lets now apply it to our dataset:"
   ]
  },
  {
   "cell_type": "code",
   "execution_count": 11,
   "metadata": {},
   "outputs": [],
   "source": [
    "def spell_check (line):\n",
    "    \"Given a sentence, returns spell-checks word by word\"\n",
    "    if type(line) == str and len(line) > 0:\n",
    "        new = []\n",
    "        line = line.split(\" \")\n",
    "        for word in line:\n",
    "            if type(word) == str:\n",
    "                word = correction(word)\n",
    "            new.append(word)\n",
    "        return \" \".join(new)\n",
    "            \n",
    "    else:\n",
    "        return line"
   ]
  },
  {
   "cell_type": "code",
   "execution_count": 12,
   "metadata": {},
   "outputs": [],
   "source": [
    "# CAUTION! The following cell e may take a long time to process (+5 hours): \n",
    "\n",
    "# spell-check word by word the dataset:\n",
    "df_descriptions_normalized = df_descriptions_normalized.apply(lambda line: spell_check(line))"
   ]
  },
  {
   "cell_type": "markdown",
   "metadata": {},
   "source": [
    "Lets now merge the normalized names back to the original file, and check how effective was this cleaning:"
   ]
  },
  {
   "cell_type": "code",
   "execution_count": 13,
   "metadata": {},
   "outputs": [
    {
     "data": {
      "text/html": [
       "<div>\n",
       "<style scoped>\n",
       "    .dataframe tbody tr th:only-of-type {\n",
       "        vertical-align: middle;\n",
       "    }\n",
       "\n",
       "    .dataframe tbody tr th {\n",
       "        vertical-align: top;\n",
       "    }\n",
       "\n",
       "    .dataframe thead th {\n",
       "        text-align: right;\n",
       "    }\n",
       "</style>\n",
       "<table border=\"1\" class=\"dataframe\">\n",
       "  <thead>\n",
       "    <tr style=\"text-align: right;\">\n",
       "      <th></th>\n",
       "      <th>product_id</th>\n",
       "      <th>description</th>\n",
       "      <th>order_date</th>\n",
       "      <th>section</th>\n",
       "      <th>store</th>\n",
       "      <th>units_ordered</th>\n",
       "      <th>desc_normalized</th>\n",
       "    </tr>\n",
       "  </thead>\n",
       "  <tbody>\n",
       "    <tr>\n",
       "      <th>28071120</th>\n",
       "      <td>610.0</td>\n",
       "      <td>MANZANA</td>\n",
       "      <td>2010-09-21</td>\n",
       "      <td>0</td>\n",
       "      <td>ZiUO</td>\n",
       "      <td>0,00</td>\n",
       "      <td>manzana</td>\n",
       "    </tr>\n",
       "    <tr>\n",
       "      <th>3172258</th>\n",
       "      <td>3397.0</td>\n",
       "      <td>ENSALADA DE QUINOA Y ARROZ ROJO CON KIWI Y PIÑA</td>\n",
       "      <td>2016-10-14</td>\n",
       "      <td>0</td>\n",
       "      <td>VeUp</td>\n",
       "      <td>0,00</td>\n",
       "      <td>ensalada de quinoa y arroz rojo con kiwi y pi a</td>\n",
       "    </tr>\n",
       "    <tr>\n",
       "      <th>29972153</th>\n",
       "      <td>1442.0</td>\n",
       "      <td>CEREZAS SIN RABO CELOFANA</td>\n",
       "      <td>2010-05-08</td>\n",
       "      <td>0</td>\n",
       "      <td>GeUP</td>\n",
       "      <td>0,00</td>\n",
       "      <td>cerezas sin rabo celofana</td>\n",
       "    </tr>\n",
       "    <tr>\n",
       "      <th>29114806</th>\n",
       "      <td>293.0</td>\n",
       "      <td>PECHUGUITAS VILLARROY</td>\n",
       "      <td>2017-06-21</td>\n",
       "      <td>0</td>\n",
       "      <td>GeUP</td>\n",
       "      <td>0,00</td>\n",
       "      <td>pechuguitas villarroy</td>\n",
       "    </tr>\n",
       "    <tr>\n",
       "      <th>8797677</th>\n",
       "      <td>232.0</td>\n",
       "      <td>TORTILLA PATATA</td>\n",
       "      <td>2009-12-17</td>\n",
       "      <td>0</td>\n",
       "      <td>JPUP</td>\n",
       "      <td>6,00</td>\n",
       "      <td>tortilla patata</td>\n",
       "    </tr>\n",
       "  </tbody>\n",
       "</table>\n",
       "</div>"
      ],
      "text/plain": [
       "          product_id                                      description  \\\n",
       "28071120       610.0                                          MANZANA   \n",
       "3172258       3397.0  ENSALADA DE QUINOA Y ARROZ ROJO CON KIWI Y PIÑA   \n",
       "29972153      1442.0                        CEREZAS SIN RABO CELOFANA   \n",
       "29114806       293.0                            PECHUGUITAS VILLARROY   \n",
       "8797677        232.0                                  TORTILLA PATATA   \n",
       "\n",
       "          order_date  section store units_ordered  \\\n",
       "28071120  2010-09-21        0  ZiUO          0,00   \n",
       "3172258   2016-10-14        0  VeUp          0,00   \n",
       "29972153  2010-05-08        0  GeUP          0,00   \n",
       "29114806  2017-06-21        0  GeUP          0,00   \n",
       "8797677   2009-12-17        0  JPUP          6,00   \n",
       "\n",
       "                                          desc_normalized  \n",
       "28071120                                          manzana  \n",
       "3172258   ensalada de quinoa y arroz rojo con kiwi y pi a  \n",
       "29972153                        cerezas sin rabo celofana  \n",
       "29114806                            pechuguitas villarroy  \n",
       "8797677                                   tortilla patata  "
      ]
     },
     "execution_count": 13,
     "metadata": {},
     "output_type": "execute_result"
    }
   ],
   "source": [
    "to_merge = pd.DataFrame(dict(description = df_descriptions_unique, desc_normalized = df_descriptions_normalized))\n",
    "\n",
    "df_with_normalized_descriptions_transactions = pd.merge(df, to_merge, how='left', on = 'description').sort_values(by='order_date')\n",
    "df_with_normalized_descriptions_transactions.sample(5)"
   ]
  },
  {
   "cell_type": "code",
   "execution_count": 14,
   "metadata": {},
   "outputs": [
    {
     "name": "stdout",
     "output_type": "stream",
     "text": [
      "OK - 'df' has the same size as 'df_with_normalized_descriptions_transactions' \n"
     ]
    }
   ],
   "source": [
    "#Control merge size:\n",
    "if (df.shape[0] == df_with_normalized_descriptions_transactions.shape[0] ): \n",
    "    test0 = \"OK - 'df' has the same size as 'df_with_normalized_descriptions_transactions' \"\n",
    "else:\n",
    "    test0 = \"ERROR - 'df' has NOT the same size as 'df_with_normalized_descriptions_transactions' \"\n",
    "print(test0)"
   ]
  },
  {
   "cell_type": "code",
   "execution_count": 15,
   "metadata": {},
   "outputs": [
    {
     "name": "stdout",
     "output_type": "stream",
     "text": [
      "The product descritions were cleaned from 48517 unique names to 42204.\n"
     ]
    }
   ],
   "source": [
    "# Checking effectiveness of the data cleaning:\n",
    "unique_descriptions_raw = len(df['description'].unique())\n",
    "unique_descriptions_normalized = len(df_with_normalized_descriptions_transactions['desc_normalized'].unique())\n",
    "\n",
    "print('The product descritions were cleaned from {} unique names to {}.'.format(unique_descriptions_raw,unique_descriptions_normalized))"
   ]
  },
  {
   "cell_type": "markdown",
   "metadata": {},
   "source": [
    "Not very effective."
   ]
  },
  {
   "cell_type": "code",
   "execution_count": 16,
   "metadata": {},
   "outputs": [],
   "source": [
    "# Saving the file to the intermiady folder\n",
    "output_path_df_with_normalized_descriptions_transactions = exit_path + 'data_with_normalized_names.csv'\n",
    "df_with_normalized_descriptions_transactions.to_csv(output_path_df_with_normalized_descriptions_transactions, index = False, sep = sep)"
   ]
  },
  {
   "cell_type": "code",
   "execution_count": 17,
   "metadata": {},
   "outputs": [
    {
     "name": "stdout",
     "output_type": "stream",
     "text": [
      "<class 'pandas.core.frame.DataFrame'>\n",
      "Int64Index: 30550252 entries, 18577798 to 21058530\n",
      "Data columns (total 7 columns):\n",
      "product_id         float64\n",
      "description        object\n",
      "order_date         object\n",
      "section            int64\n",
      "store              object\n",
      "units_ordered      object\n",
      "desc_normalized    object\n",
      "dtypes: float64(1), int64(1), object(5)\n",
      "memory usage: 1.8+ GB\n"
     ]
    }
   ],
   "source": [
    "df_with_normalized_descriptions_transactions.info()"
   ]
  },
  {
   "cell_type": "markdown",
   "metadata": {},
   "source": [
    "### 2.2 Identifying product descriptions that the client wants us to predict\n",
    "\n",
    "It is time to create the file that will be manually reviewed.\n",
    "\n",
    "- First, we compare the normalized descriptions with the list of products provided with the client, and suggest matches using the library fuzzywuzzy\n",
    "- Second, we will use the results from the other analysis.\n",
    "- third, we will manually evaluate if the results are good"
   ]
  },
  {
   "cell_type": "markdown",
   "metadata": {},
   "source": [
    "#### 2.2.1 Using the library fuzzywuzzy to compare the product normalized descriptions with the list of products provided by the client and suggest a match, or alternatively - \"match-not-found\""
   ]
  },
  {
   "cell_type": "code",
   "execution_count": 18,
   "metadata": {},
   "outputs": [],
   "source": [
    "output_path_df_with_normalized_descriptions_transactions = exit_path + 'data_with_normalized_names.csv'\n",
    "df_with_normalized_descriptions_transactions=pd.read_csv(output_path_df_with_normalized_descriptions_transactions,  sep=sep)"
   ]
  },
  {
   "cell_type": "code",
   "execution_count": 19,
   "metadata": {},
   "outputs": [],
   "source": [
    "df_normalized_desc_unique = pd.DataFrame(df_with_normalized_descriptions_transactions[\"desc_normalized\"].unique(), columns = ['desc_normalized'])"
   ]
  },
  {
   "cell_type": "code",
   "execution_count": 20,
   "metadata": {},
   "outputs": [],
   "source": [
    "def find_match (line, options = list_of_products):\n",
    "    \"Returns product match if the the calculated difference between strings is greater than 80, 'match-not-found' otherwise\"\n",
    "    if not(line is None) and type(line)== str:\n",
    "        highest = process.extractOne(line,list_of_products)\n",
    "        if not(highest is None) and highest[1] >80:\n",
    "            return highest[0]\n",
    "        else:\n",
    "            return 'match-not-found'\n",
    "    else:\n",
    "        return 'match-not-found'\n",
    "\n",
    "# Applying matching function to all product normalized descriptions\n",
    "df_normalized_desc_unique[\"target_names_fuzzywuuzy\"] = df_normalized_desc_unique[\"desc_normalized\"].apply(lambda line: find_match(line))"
   ]
  },
  {
   "cell_type": "markdown",
   "metadata": {},
   "source": [
    "Lets now evaluate how effectively did we match the normalized descriptions with the list that the client provided us:"
   ]
  },
  {
   "cell_type": "code",
   "execution_count": 21,
   "metadata": {},
   "outputs": [
    {
     "data": {
      "text/html": [
       "<div>\n",
       "<style scoped>\n",
       "    .dataframe tbody tr th:only-of-type {\n",
       "        vertical-align: middle;\n",
       "    }\n",
       "\n",
       "    .dataframe tbody tr th {\n",
       "        vertical-align: top;\n",
       "    }\n",
       "\n",
       "    .dataframe thead th {\n",
       "        text-align: right;\n",
       "    }\n",
       "</style>\n",
       "<table border=\"1\" class=\"dataframe\">\n",
       "  <thead>\n",
       "    <tr style=\"text-align: right;\">\n",
       "      <th></th>\n",
       "      <th>desc_normalized</th>\n",
       "      <th>target_names_fuzzywuuzy</th>\n",
       "    </tr>\n",
       "  </thead>\n",
       "  <tbody>\n",
       "    <tr>\n",
       "      <th>25</th>\n",
       "      <td>mousse chocolate blanco</td>\n",
       "      <td>match-not-found</td>\n",
       "    </tr>\n",
       "    <tr>\n",
       "      <th>337</th>\n",
       "      <td>mousse 3 chocolates 3º</td>\n",
       "      <td>match-not-found</td>\n",
       "    </tr>\n",
       "    <tr>\n",
       "      <th>338</th>\n",
       "      <td>mousse 3 chocolates 1º</td>\n",
       "      <td>match-not-found</td>\n",
       "    </tr>\n",
       "    <tr>\n",
       "      <th>339</th>\n",
       "      <td>mousse 3 chocolates 2º</td>\n",
       "      <td>match-not-found</td>\n",
       "    </tr>\n",
       "    <tr>\n",
       "      <th>340</th>\n",
       "      <td>postre mousse tres chocolates</td>\n",
       "      <td>match-not-found</td>\n",
       "    </tr>\n",
       "    <tr>\n",
       "      <th>422</th>\n",
       "      <td>postre mousse fruta bosque</td>\n",
       "      <td>match-not-found</td>\n",
       "    </tr>\n",
       "    <tr>\n",
       "      <th>424</th>\n",
       "      <td>postre mousse chocolate en vasito</td>\n",
       "      <td>match-not-found</td>\n",
       "    </tr>\n",
       "    <tr>\n",
       "      <th>469</th>\n",
       "      <td>postre mousse de limon</td>\n",
       "      <td>match-not-found</td>\n",
       "    </tr>\n",
       "    <tr>\n",
       "      <th>476</th>\n",
       "      <td>petit four mousse praline</td>\n",
       "      <td>croissant petit</td>\n",
       "    </tr>\n",
       "    <tr>\n",
       "      <th>892</th>\n",
       "      <td>tarta selva negra 4º con dibujo de cara de mik...</td>\n",
       "      <td>match-not-found</td>\n",
       "    </tr>\n",
       "  </tbody>\n",
       "</table>\n",
       "</div>"
      ],
      "text/plain": [
       "                                       desc_normalized target_names_fuzzywuuzy\n",
       "25                             mousse chocolate blanco         match-not-found\n",
       "337                             mousse 3 chocolates 3º         match-not-found\n",
       "338                             mousse 3 chocolates 1º         match-not-found\n",
       "339                             mousse 3 chocolates 2º         match-not-found\n",
       "340                      postre mousse tres chocolates         match-not-found\n",
       "422                         postre mousse fruta bosque         match-not-found\n",
       "424                  postre mousse chocolate en vasito         match-not-found\n",
       "469                             postre mousse de limon         match-not-found\n",
       "476                          petit four mousse praline         croissant petit\n",
       "892  tarta selva negra 4º con dibujo de cara de mik...         match-not-found"
      ]
     },
     "execution_count": 21,
     "metadata": {},
     "output_type": "execute_result"
    }
   ],
   "source": [
    "# Lets review the effectiveness filtering by 'mousse '. The expected result is that all 'mousse 3 chocolates' match\n",
    "df_normalized_desc_unique[df_normalized_desc_unique['desc_normalized'].str.contains('mousse')].head(10)"
   ]
  },
  {
   "cell_type": "markdown",
   "metadata": {},
   "source": [
    "As we can see... its not actually very good, lets try something different."
   ]
  },
  {
   "cell_type": "markdown",
   "metadata": {},
   "source": [
    "#### 2.2.1 Using the results from the other analysis\n",
    "\n",
    "Lets now use the results from the manual analysis to see how efective the measure was:"
   ]
  },
  {
   "cell_type": "code",
   "execution_count": 22,
   "metadata": {},
   "outputs": [],
   "source": [
    "# Since this matching is performed at id level, \n",
    "# lets create a new dataset with unique product_id, descriptions, and evaluate it:\n",
    "df_normalized_id_desc_unique = df_with_normalized_descriptions_transactions[[\"product_id\",'desc_normalized']].drop_duplicates()"
   ]
  },
  {
   "cell_type": "code",
   "execution_count": 23,
   "metadata": {},
   "outputs": [],
   "source": [
    "dict_of_products_matches={100: 'croissant', \n",
    "                  101: 'croissant',\n",
    "                  102: 'croissant',\n",
    "                  103: 'croissant petit',\n",
    "                  9999: 'tarta mousse 3 chocolates', # almost only for order, creating a new id for this product is suggested\n",
    "                  462: 'tarta de manzana 2º',\n",
    "                  182: 'palmera de chocolate', # palmeras: 140\n",
    "                  414: 'tarta opera', # 9999, for order, mostly. If included, creating a new id for this product is suggested\n",
    "                  4511:'postre fresas y mascarpone',\n",
    "                  459: 'milhojas frambuesa 2º',\n",
    "                  112: 'tortel',\n",
    "                  115: 'baguette'}"
   ]
  },
  {
   "cell_type": "code",
   "execution_count": 24,
   "metadata": {},
   "outputs": [],
   "source": [
    "def target_names_a(product_id, dict_of_products_matches= dict_of_products_matches):\n",
    "    'Returns match if the product_id is found within the given dict or, otherise \"match-not-found\"'\n",
    "    if not(product_id is None) and not(math.isnan(product_id)) and int(product_id)  in dict_of_products_matches:\n",
    "        return dict_of_products_matches[int(product_id)]\n",
    "    else:\n",
    "        return 'match-not-found'\n",
    "    \n",
    "df_normalized_id_desc_unique['target_names_manual_analysis']=df_normalized_id_desc_unique[\"product_id\"].apply(lambda line: target_names_a(line))"
   ]
  },
  {
   "cell_type": "markdown",
   "metadata": {},
   "source": [
    "Lets now check how effective this was:"
   ]
  },
  {
   "cell_type": "code",
   "execution_count": 25,
   "metadata": {
    "scrolled": true
   },
   "outputs": [
    {
     "data": {
      "text/html": [
       "<div>\n",
       "<style scoped>\n",
       "    .dataframe tbody tr th:only-of-type {\n",
       "        vertical-align: middle;\n",
       "    }\n",
       "\n",
       "    .dataframe tbody tr th {\n",
       "        vertical-align: top;\n",
       "    }\n",
       "\n",
       "    .dataframe thead th {\n",
       "        text-align: right;\n",
       "    }\n",
       "</style>\n",
       "<table border=\"1\" class=\"dataframe\">\n",
       "  <thead>\n",
       "    <tr style=\"text-align: right;\">\n",
       "      <th></th>\n",
       "      <th>product_id</th>\n",
       "      <th>desc_normalized</th>\n",
       "      <th>target_names_manual_analysis</th>\n",
       "    </tr>\n",
       "  </thead>\n",
       "  <tbody>\n",
       "    <tr>\n",
       "      <th>25</th>\n",
       "      <td>618.0</td>\n",
       "      <td>mousse chocolate blanco</td>\n",
       "      <td>match-not-found</td>\n",
       "    </tr>\n",
       "    <tr>\n",
       "      <th>452</th>\n",
       "      <td>453.0</td>\n",
       "      <td>mousse 3 chocolates 3º</td>\n",
       "      <td>match-not-found</td>\n",
       "    </tr>\n",
       "    <tr>\n",
       "      <th>453</th>\n",
       "      <td>452.0</td>\n",
       "      <td>mousse 3 chocolates 1º</td>\n",
       "      <td>match-not-found</td>\n",
       "    </tr>\n",
       "    <tr>\n",
       "      <th>454</th>\n",
       "      <td>451.0</td>\n",
       "      <td>mousse 3 chocolates 2º</td>\n",
       "      <td>match-not-found</td>\n",
       "    </tr>\n",
       "    <tr>\n",
       "      <th>455</th>\n",
       "      <td>450.0</td>\n",
       "      <td>postre mousse tres chocolates</td>\n",
       "      <td>match-not-found</td>\n",
       "    </tr>\n",
       "    <tr>\n",
       "      <th>823</th>\n",
       "      <td>879.0</td>\n",
       "      <td>postre mousse fruta bosque</td>\n",
       "      <td>match-not-found</td>\n",
       "    </tr>\n",
       "    <tr>\n",
       "      <th>825</th>\n",
       "      <td>877.0</td>\n",
       "      <td>postre mousse chocolate en vasito</td>\n",
       "      <td>match-not-found</td>\n",
       "    </tr>\n",
       "    <tr>\n",
       "      <th>871</th>\n",
       "      <td>821.0</td>\n",
       "      <td>postre mousse de limon</td>\n",
       "      <td>match-not-found</td>\n",
       "    </tr>\n",
       "    <tr>\n",
       "      <th>878</th>\n",
       "      <td>728.0</td>\n",
       "      <td>petit four mousse praline</td>\n",
       "      <td>match-not-found</td>\n",
       "    </tr>\n",
       "    <tr>\n",
       "      <th>23851</th>\n",
       "      <td>451.0</td>\n",
       "      <td>mousse 3 chocolates 3º</td>\n",
       "      <td>match-not-found</td>\n",
       "    </tr>\n",
       "    <tr>\n",
       "      <th>52111</th>\n",
       "      <td>9999.0</td>\n",
       "      <td>tarta selva negra 4º con dibujo de cara de mik...</td>\n",
       "      <td>tarta mousse 3 chocolates</td>\n",
       "    </tr>\n",
       "    <tr>\n",
       "      <th>95418</th>\n",
       "      <td>13999.0</td>\n",
       "      <td>chupitos de mousse de queso fresco con gelle f...</td>\n",
       "      <td>match-not-found</td>\n",
       "    </tr>\n",
       "    <tr>\n",
       "      <th>95419</th>\n",
       "      <td>14992.0</td>\n",
       "      <td>tarta mousse tres chocolates 6º escrito feliz ...</td>\n",
       "      <td>match-not-found</td>\n",
       "    </tr>\n",
       "    <tr>\n",
       "      <th>104628</th>\n",
       "      <td>453.0</td>\n",
       "      <td>mousse 3 chocolates 3º felicidades maria</td>\n",
       "      <td>match-not-found</td>\n",
       "    </tr>\n",
       "    <tr>\n",
       "      <th>104801</th>\n",
       "      <td>9999.0</td>\n",
       "      <td>encargo mousse de tres chocolates 16 rac</td>\n",
       "      <td>tarta mousse 3 chocolates</td>\n",
       "    </tr>\n",
       "  </tbody>\n",
       "</table>\n",
       "</div>"
      ],
      "text/plain": [
       "        product_id                                    desc_normalized  \\\n",
       "25           618.0                            mousse chocolate blanco   \n",
       "452          453.0                             mousse 3 chocolates 3º   \n",
       "453          452.0                             mousse 3 chocolates 1º   \n",
       "454          451.0                             mousse 3 chocolates 2º   \n",
       "455          450.0                      postre mousse tres chocolates   \n",
       "823          879.0                         postre mousse fruta bosque   \n",
       "825          877.0                  postre mousse chocolate en vasito   \n",
       "871          821.0                             postre mousse de limon   \n",
       "878          728.0                          petit four mousse praline   \n",
       "23851        451.0                             mousse 3 chocolates 3º   \n",
       "52111       9999.0  tarta selva negra 4º con dibujo de cara de mik...   \n",
       "95418      13999.0  chupitos de mousse de queso fresco con gelle f...   \n",
       "95419      14992.0  tarta mousse tres chocolates 6º escrito feliz ...   \n",
       "104628       453.0           mousse 3 chocolates 3º felicidades maria   \n",
       "104801      9999.0           encargo mousse de tres chocolates 16 rac   \n",
       "\n",
       "       target_names_manual_analysis  \n",
       "25                  match-not-found  \n",
       "452                 match-not-found  \n",
       "453                 match-not-found  \n",
       "454                 match-not-found  \n",
       "455                 match-not-found  \n",
       "823                 match-not-found  \n",
       "825                 match-not-found  \n",
       "871                 match-not-found  \n",
       "878                 match-not-found  \n",
       "23851               match-not-found  \n",
       "52111     tarta mousse 3 chocolates  \n",
       "95418               match-not-found  \n",
       "95419               match-not-found  \n",
       "104628              match-not-found  \n",
       "104801    tarta mousse 3 chocolates  "
      ]
     },
     "execution_count": 25,
     "metadata": {},
     "output_type": "execute_result"
    }
   ],
   "source": [
    "# Lets review the effectiveness filtering by 'mousse '. The expected result is that all 'mousse 3 chocolates' match\n",
    "df_normalized_id_desc_unique[df_normalized_id_desc_unique['desc_normalized'].str.contains('mousse')].head(15)"
   ]
  },
  {
   "cell_type": "markdown",
   "metadata": {},
   "source": [
    "Again, not very good, since most of the 'mousse 3 chocolates' are unmatched."
   ]
  },
  {
   "cell_type": "markdown",
   "metadata": {},
   "source": [
    "It is clear that we need an better way to match the results. Lets try doing keywords filtering product by product."
   ]
  },
  {
   "cell_type": "code",
   "execution_count": 26,
   "metadata": {},
   "outputs": [],
   "source": [
    "# TO DELETE!\n",
    "output_path_df_with_normalized_descriptions_transactions = exit_path + 'data_with_normalized_names.csv'\n",
    "df_with_normalized_descriptions_transactions = pd.read_csv(output_path_df_with_normalized_descriptions_transactions, sep = ';' )\n"
   ]
  },
  {
   "cell_type": "markdown",
   "metadata": {},
   "source": [
    "### 2.3 Review Product by Product"
   ]
  },
  {
   "cell_type": "code",
   "execution_count": 27,
   "metadata": {},
   "outputs": [],
   "source": [
    "#First, lets create again a dataframe with unique descriptions\n",
    "unique_normalized_decriptions = df_with_normalized_descriptions_transactions[['product_id','desc_normalized']].drop_duplicates()\n",
    "\n",
    "#And a empty list to add all the unitary analysis. It will be use to concatenate results.\n",
    "list_of_dfs = []"
   ]
  },
  {
   "cell_type": "code",
   "execution_count": 28,
   "metadata": {},
   "outputs": [],
   "source": [
    "# Functions that we will use:\n",
    "\n",
    "def plot_count_per_id(df):\n",
    "    transactions_by_id = df.groupby(\"product_id\")['desc_normalized'].count()\n",
    "    transactions_by_id.plot.bar()"
   ]
  },
  {
   "cell_type": "markdown",
   "metadata": {},
   "source": [
    "#### 2.3.1 Matching: milhojas de frambuesa 2º"
   ]
  },
  {
   "cell_type": "code",
   "execution_count": 29,
   "metadata": {},
   "outputs": [],
   "source": [
    "def filter_milhojas (df):\n",
    "    'Filters the product descriptions of given dataset by \"milhojas\" and \"frambuesa 2\"'\n",
    "    milhojas = df[df['desc_normalized'].str.contains('milhojas')]\n",
    "    milhojas_frambuesa = milhojas[milhojas['desc_normalized'].str.contains('frambuesa 2')].copy()\n",
    "    return milhojas_frambuesa\n"
   ]
  },
  {
   "cell_type": "code",
   "execution_count": 30,
   "metadata": {},
   "outputs": [
    {
     "data": {
      "text/html": [
       "<div>\n",
       "<style scoped>\n",
       "    .dataframe tbody tr th:only-of-type {\n",
       "        vertical-align: middle;\n",
       "    }\n",
       "\n",
       "    .dataframe tbody tr th {\n",
       "        vertical-align: top;\n",
       "    }\n",
       "\n",
       "    .dataframe thead th {\n",
       "        text-align: right;\n",
       "    }\n",
       "</style>\n",
       "<table border=\"1\" class=\"dataframe\">\n",
       "  <thead>\n",
       "    <tr style=\"text-align: right;\">\n",
       "      <th></th>\n",
       "      <th>product_id</th>\n",
       "      <th>description</th>\n",
       "      <th>order_date</th>\n",
       "      <th>section</th>\n",
       "      <th>store</th>\n",
       "      <th>units_ordered</th>\n",
       "      <th>desc_normalized</th>\n",
       "    </tr>\n",
       "  </thead>\n",
       "  <tbody>\n",
       "    <tr>\n",
       "      <th>97</th>\n",
       "      <td>414.0</td>\n",
       "      <td>TARTA  MILHOJAS   FRAMBUESA  2º</td>\n",
       "      <td>2008-01-01</td>\n",
       "      <td>0</td>\n",
       "      <td>AeUP</td>\n",
       "      <td>0,00</td>\n",
       "      <td>tarta milhojas frambuesa 2º</td>\n",
       "    </tr>\n",
       "    <tr>\n",
       "      <th>449</th>\n",
       "      <td>459.0</td>\n",
       "      <td>MILHOJAS   FRAMBUESA 2º</td>\n",
       "      <td>2008-01-01</td>\n",
       "      <td>0</td>\n",
       "      <td>AeUP</td>\n",
       "      <td>0,00</td>\n",
       "      <td>milhojas frambuesa 2º</td>\n",
       "    </tr>\n",
       "    <tr>\n",
       "      <th>761</th>\n",
       "      <td>414.0</td>\n",
       "      <td>TARTA  MILHOJAS   FRAMBUESA  2º</td>\n",
       "      <td>2008-01-01</td>\n",
       "      <td>0</td>\n",
       "      <td>MsUP</td>\n",
       "      <td>0,00</td>\n",
       "      <td>tarta milhojas frambuesa 2º</td>\n",
       "    </tr>\n",
       "    <tr>\n",
       "      <th>769</th>\n",
       "      <td>459.0</td>\n",
       "      <td>MILHOJAS   FRAMBUESA 2º</td>\n",
       "      <td>2008-01-01</td>\n",
       "      <td>0</td>\n",
       "      <td>BmUP</td>\n",
       "      <td>1,00</td>\n",
       "      <td>milhojas frambuesa 2º</td>\n",
       "    </tr>\n",
       "    <tr>\n",
       "      <th>1142</th>\n",
       "      <td>414.0</td>\n",
       "      <td>TARTA  MILHOJAS   FRAMBUESA  2º</td>\n",
       "      <td>2008-01-01</td>\n",
       "      <td>0</td>\n",
       "      <td>JPUP</td>\n",
       "      <td>0,00</td>\n",
       "      <td>tarta milhojas frambuesa 2º</td>\n",
       "    </tr>\n",
       "  </tbody>\n",
       "</table>\n",
       "</div>"
      ],
      "text/plain": [
       "      product_id                      description  order_date  section store  \\\n",
       "97         414.0  TARTA  MILHOJAS   FRAMBUESA  2º  2008-01-01        0  AeUP   \n",
       "449        459.0          MILHOJAS   FRAMBUESA 2º  2008-01-01        0  AeUP   \n",
       "761        414.0  TARTA  MILHOJAS   FRAMBUESA  2º  2008-01-01        0  MsUP   \n",
       "769        459.0          MILHOJAS   FRAMBUESA 2º  2008-01-01        0  BmUP   \n",
       "1142       414.0  TARTA  MILHOJAS   FRAMBUESA  2º  2008-01-01        0  JPUP   \n",
       "\n",
       "     units_ordered              desc_normalized  \n",
       "97            0,00  tarta milhojas frambuesa 2º  \n",
       "449           0,00        milhojas frambuesa 2º  \n",
       "761           0,00  tarta milhojas frambuesa 2º  \n",
       "769           1,00        milhojas frambuesa 2º  \n",
       "1142          0,00  tarta milhojas frambuesa 2º  "
      ]
     },
     "execution_count": 30,
     "metadata": {},
     "output_type": "execute_result"
    }
   ],
   "source": [
    "# Filter the transactions dataset\n",
    "milhojas_frambuesa_transacciones=filter_milhojas(df_with_normalized_descriptions_transactions)\n",
    "milhojas_frambuesa_transacciones.head()"
   ]
  },
  {
   "cell_type": "code",
   "execution_count": 31,
   "metadata": {},
   "outputs": [
    {
     "data": {
      "image/png": "[encoded data removed]",
      "text/plain": [
       "<Figure size 432x288 with 1 Axes>"
      ]
     },
     "metadata": {
      "needs_background": "light"
     },
     "output_type": "display_data"
    }
   ],
   "source": [
    "# Plot the ditribution of 'product_id'\n",
    "plot_count_per_id(milhojas_frambuesa_transacciones)"
   ]
  },
  {
   "cell_type": "markdown",
   "metadata": {},
   "source": [
    "Lets explore the names distribution of 414, 459 and 9999:"
   ]
  },
  {
   "cell_type": "code",
   "execution_count": 32,
   "metadata": {},
   "outputs": [
    {
     "data": {
      "text/plain": [
       "milhojas frambuesa 2º                     167542\n",
       "milhojas frambuesa 1º                       1273\n",
       "tira de milhojas rellena solo de crema       437\n",
       "milhojas frambuesa 2º solo crema             399\n",
       "milhojas frambuesa 3º                        399\n",
       "Name: desc_normalized, dtype: int64"
      ]
     },
     "execution_count": 32,
     "metadata": {},
     "output_type": "execute_result"
    }
   ],
   "source": [
    "#Names distribution for product_id = 459:\n",
    "df_with_normalized_descriptions_transactions[df_with_normalized_descriptions_transactions['product_id']==459.0]['desc_normalized'].value_counts().head()"
   ]
  },
  {
   "cell_type": "code",
   "execution_count": 33,
   "metadata": {},
   "outputs": [
    {
     "data": {
      "text/plain": [
       "tarta mus tres chocolates 2º    4731\n",
       "tarta milhojas frambuesa 2º     4085\n",
       "tarta limon 3º                  3420\n",
       "tarta milhojas 2º               1786\n",
       "tarta tres chocolates 2º        1786\n",
       "Name: desc_normalized, dtype: int64"
      ]
     },
     "execution_count": 33,
     "metadata": {},
     "output_type": "execute_result"
    }
   ],
   "source": [
    "#Names distribution for product_id = 414:\n",
    "df_with_normalized_descriptions_transactions[df_with_normalized_descriptions_transactions['product_id']==414.0]['desc_normalized'].value_counts().head()"
   ]
  },
  {
   "cell_type": "code",
   "execution_count": 34,
   "metadata": {},
   "outputs": [
    {
     "data": {
      "text/plain": [
       "tarta milhojas frambuesa 2º                855\n",
       "tira de milhoja solo crema                 722\n",
       "encargo tarta milhoja y frambuesa del 1    627\n",
       "encargo tarta milhoja del 1                551\n",
       "tarta milhojas de frambuesa del 3          380\n",
       "Name: desc_normalized, dtype: int64"
      ]
     },
     "execution_count": 34,
     "metadata": {},
     "output_type": "execute_result"
    }
   ],
   "source": [
    "#Names distribution for product_id = 9999:\n",
    "df_with_normalized_descriptions_transactions[(df_with_normalized_descriptions_transactions['product_id']==9999.0) & (df_with_normalized_descriptions_transactions['desc_normalized'].str.contains('milhoja'))]['desc_normalized'].value_counts().head()"
   ]
  },
  {
   "cell_type": "markdown",
   "metadata": {},
   "source": [
    "It seems there is a strong correlation with id 459, however 459 it also includes other types of 'milhojas'. In addition, 'milhojas de frambuesa 2º' is also included in id number 414, which seems to be a multiple 'tartas' id, and id 9999, which is the id used for custom orders.\n",
    "\n",
    "For these reasons, we decide to filter milhojas based on the description (filtering the dataframe with only disting 'product_id' and 'des_normalized' values:"
   ]
  },
  {
   "cell_type": "code",
   "execution_count": 35,
   "metadata": {},
   "outputs": [
    {
     "data": {
      "text/html": [
       "<div>\n",
       "<style scoped>\n",
       "    .dataframe tbody tr th:only-of-type {\n",
       "        vertical-align: middle;\n",
       "    }\n",
       "\n",
       "    .dataframe tbody tr th {\n",
       "        vertical-align: top;\n",
       "    }\n",
       "\n",
       "    .dataframe thead th {\n",
       "        text-align: right;\n",
       "    }\n",
       "</style>\n",
       "<table border=\"1\" class=\"dataframe\">\n",
       "  <thead>\n",
       "    <tr style=\"text-align: right;\">\n",
       "      <th></th>\n",
       "      <th>product_id</th>\n",
       "      <th>desc_normalized</th>\n",
       "      <th>target_names_prod_by_prod</th>\n",
       "    </tr>\n",
       "  </thead>\n",
       "  <tbody>\n",
       "    <tr>\n",
       "      <th>21819322</th>\n",
       "      <td>459.0</td>\n",
       "      <td>milhojas frambuesa 2º con cartel de chocolate ...</td>\n",
       "      <td>milhojas frambuesa</td>\n",
       "    </tr>\n",
       "    <tr>\n",
       "      <th>10960014</th>\n",
       "      <td>459.0</td>\n",
       "      <td>milhojas frambuesa 2º y cartel feliz 50 aniver...</td>\n",
       "      <td>milhojas frambuesa</td>\n",
       "    </tr>\n",
       "    <tr>\n",
       "      <th>25553905</th>\n",
       "      <td>459.0</td>\n",
       "      <td>milhojas frambuesa 2ºcon cartel escrito feliz ...</td>\n",
       "      <td>milhojas frambuesa</td>\n",
       "    </tr>\n",
       "    <tr>\n",
       "      <th>24348639</th>\n",
       "      <td>459.0</td>\n",
       "      <td>milhojas frambuesa 2º y cartel felicidades mam...</td>\n",
       "      <td>milhojas frambuesa</td>\n",
       "    </tr>\n",
       "    <tr>\n",
       "      <th>4164987</th>\n",
       "      <td>414.0</td>\n",
       "      <td>tarta milhojas frambuesa 2º poner angela y marcos</td>\n",
       "      <td>milhojas frambuesa</td>\n",
       "    </tr>\n",
       "  </tbody>\n",
       "</table>\n",
       "</div>"
      ],
      "text/plain": [
       "          product_id                                    desc_normalized  \\\n",
       "21819322       459.0  milhojas frambuesa 2º con cartel de chocolate ...   \n",
       "10960014       459.0  milhojas frambuesa 2º y cartel feliz 50 aniver...   \n",
       "25553905       459.0  milhojas frambuesa 2ºcon cartel escrito feliz ...   \n",
       "24348639       459.0  milhojas frambuesa 2º y cartel felicidades mam...   \n",
       "4164987        414.0  tarta milhojas frambuesa 2º poner angela y marcos   \n",
       "\n",
       "         target_names_prod_by_prod  \n",
       "21819322        milhojas frambuesa  \n",
       "10960014        milhojas frambuesa  \n",
       "25553905        milhojas frambuesa  \n",
       "24348639        milhojas frambuesa  \n",
       "4164987         milhojas frambuesa  "
      ]
     },
     "execution_count": 35,
     "metadata": {},
     "output_type": "execute_result"
    }
   ],
   "source": [
    "#Save unique product_id and product_description:\n",
    "milhojas_frambuesa = filter_milhojas(unique_normalized_decriptions)\n",
    "milhojas_frambuesa['target_names_prod_by_prod'] = 'milhojas frambuesa'\n",
    "list_of_dfs.append(milhojas_frambuesa)\n",
    "milhojas_frambuesa.sample(5)"
   ]
  },
  {
   "cell_type": "markdown",
   "metadata": {},
   "source": [
    "#### 2.3.2 Matching: croissant petite\n",
    "\n",
    "From the analysis performed in notebook \"x01-transactions_to_partial_results-yy.ipynb\", it was concluded that 'croissant petite' had an strong correlation with id number '103' however, before commiting to filtering by that ID, lets plot the distribution of count of lines per ID, that satisfies the filters of the following function, from the transaction dataset, in order to :"
   ]
  },
  {
   "cell_type": "code",
   "execution_count": 36,
   "metadata": {},
   "outputs": [],
   "source": [
    "def filter_croissant_petit (df):\n",
    "    croissant = df[df['desc_normalized'].str.contains('croissant')].copy()\n",
    "    croissant_petite = croissant[croissant['desc_normalized'].str.contains('petit')].copy()\n",
    "    return croissant_petite"
   ]
  },
  {
   "cell_type": "code",
   "execution_count": 37,
   "metadata": {},
   "outputs": [
    {
     "data": {
      "text/html": [
       "<div>\n",
       "<style scoped>\n",
       "    .dataframe tbody tr th:only-of-type {\n",
       "        vertical-align: middle;\n",
       "    }\n",
       "\n",
       "    .dataframe tbody tr th {\n",
       "        vertical-align: top;\n",
       "    }\n",
       "\n",
       "    .dataframe thead th {\n",
       "        text-align: right;\n",
       "    }\n",
       "</style>\n",
       "<table border=\"1\" class=\"dataframe\">\n",
       "  <thead>\n",
       "    <tr style=\"text-align: right;\">\n",
       "      <th></th>\n",
       "      <th>product_id</th>\n",
       "      <th>description</th>\n",
       "      <th>order_date</th>\n",
       "      <th>section</th>\n",
       "      <th>store</th>\n",
       "      <th>units_ordered</th>\n",
       "      <th>desc_normalized</th>\n",
       "    </tr>\n",
       "  </thead>\n",
       "  <tbody>\n",
       "    <tr>\n",
       "      <th>95</th>\n",
       "      <td>102.0</td>\n",
       "      <td>PETIT  CROISSANTS  ALARGADOS  FUTBOL</td>\n",
       "      <td>2008-01-01</td>\n",
       "      <td>0</td>\n",
       "      <td>AeUP</td>\n",
       "      <td>0,00</td>\n",
       "      <td>petit croissants alargados futbol</td>\n",
       "    </tr>\n",
       "    <tr>\n",
       "      <th>200</th>\n",
       "      <td>103.0</td>\n",
       "      <td>CROISSANT PETIT</td>\n",
       "      <td>2008-01-01</td>\n",
       "      <td>0</td>\n",
       "      <td>BmUP</td>\n",
       "      <td>6,00</td>\n",
       "      <td>croissant petit</td>\n",
       "    </tr>\n",
       "    <tr>\n",
       "      <th>274</th>\n",
       "      <td>102.0</td>\n",
       "      <td>PETIT  CROISSANTS  ALARGADOS  FUTBOL</td>\n",
       "      <td>2008-01-01</td>\n",
       "      <td>0</td>\n",
       "      <td>BmUP</td>\n",
       "      <td>0,00</td>\n",
       "      <td>petit croissants alargados futbol</td>\n",
       "    </tr>\n",
       "    <tr>\n",
       "      <th>517</th>\n",
       "      <td>103.0</td>\n",
       "      <td>CROISSANT PETIT</td>\n",
       "      <td>2008-01-01</td>\n",
       "      <td>0</td>\n",
       "      <td>MsUP</td>\n",
       "      <td>0,00</td>\n",
       "      <td>croissant petit</td>\n",
       "    </tr>\n",
       "    <tr>\n",
       "      <th>689</th>\n",
       "      <td>103.0</td>\n",
       "      <td>CROISSANT PETIT</td>\n",
       "      <td>2008-01-01</td>\n",
       "      <td>0</td>\n",
       "      <td>AeUP</td>\n",
       "      <td>0,00</td>\n",
       "      <td>croissant petit</td>\n",
       "    </tr>\n",
       "  </tbody>\n",
       "</table>\n",
       "</div>"
      ],
      "text/plain": [
       "     product_id                           description  order_date  section  \\\n",
       "95        102.0  PETIT  CROISSANTS  ALARGADOS  FUTBOL  2008-01-01        0   \n",
       "200       103.0                       CROISSANT PETIT  2008-01-01        0   \n",
       "274       102.0  PETIT  CROISSANTS  ALARGADOS  FUTBOL  2008-01-01        0   \n",
       "517       103.0                       CROISSANT PETIT  2008-01-01        0   \n",
       "689       103.0                       CROISSANT PETIT  2008-01-01        0   \n",
       "\n",
       "    store units_ordered                    desc_normalized  \n",
       "95   AeUP          0,00  petit croissants alargados futbol  \n",
       "200  BmUP          6,00                    croissant petit  \n",
       "274  BmUP          0,00  petit croissants alargados futbol  \n",
       "517  MsUP          0,00                    croissant petit  \n",
       "689  AeUP          0,00                    croissant petit  "
      ]
     },
     "execution_count": 37,
     "metadata": {},
     "output_type": "execute_result"
    }
   ],
   "source": [
    "# Plotting the results:\n",
    "transactions_croissant_petite = filter_croissant_petit(df_with_normalized_descriptions_transactions)\n",
    "transactions_croissant_petite.head()"
   ]
  },
  {
   "cell_type": "code",
   "execution_count": 38,
   "metadata": {},
   "outputs": [
    {
     "data": {
      "image/png": "[encoded data removed]",
      "text/plain": [
       "<Figure size 432x288 with 1 Axes>"
      ]
     },
     "metadata": {
      "needs_background": "light"
     },
     "output_type": "display_data"
    }
   ],
   "source": [
    "plot_count_per_id(transactions_croissant_petite)"
   ]
  },
  {
   "cell_type": "markdown",
   "metadata": {},
   "source": [
    "It is clear that id '103' represents the 'croissant petite';  in fact, after reviweing the data with the client, he suggested only taking 103."
   ]
  },
  {
   "cell_type": "code",
   "execution_count": 39,
   "metadata": {},
   "outputs": [
    {
     "data": {
      "text/html": [
       "<div>\n",
       "<style scoped>\n",
       "    .dataframe tbody tr th:only-of-type {\n",
       "        vertical-align: middle;\n",
       "    }\n",
       "\n",
       "    .dataframe tbody tr th {\n",
       "        vertical-align: top;\n",
       "    }\n",
       "\n",
       "    .dataframe thead th {\n",
       "        text-align: right;\n",
       "    }\n",
       "</style>\n",
       "<table border=\"1\" class=\"dataframe\">\n",
       "  <thead>\n",
       "    <tr style=\"text-align: right;\">\n",
       "      <th></th>\n",
       "      <th>product_id</th>\n",
       "      <th>desc_normalized</th>\n",
       "      <th>target_names_prod_by_prod</th>\n",
       "    </tr>\n",
       "  </thead>\n",
       "  <tbody>\n",
       "    <tr>\n",
       "      <th>73</th>\n",
       "      <td>103.0</td>\n",
       "      <td>mini napolitanas crema</td>\n",
       "      <td>croissant petit</td>\n",
       "    </tr>\n",
       "    <tr>\n",
       "      <th>74</th>\n",
       "      <td>103.0</td>\n",
       "      <td>mini napolitanas chocolate</td>\n",
       "      <td>croissant petit</td>\n",
       "    </tr>\n",
       "    <tr>\n",
       "      <th>75</th>\n",
       "      <td>103.0</td>\n",
       "      <td>focaccias futbol</td>\n",
       "      <td>croissant petit</td>\n",
       "    </tr>\n",
       "    <tr>\n",
       "      <th>200</th>\n",
       "      <td>103.0</td>\n",
       "      <td>croissant petit</td>\n",
       "      <td>croissant petit</td>\n",
       "    </tr>\n",
       "    <tr>\n",
       "      <th>61311</th>\n",
       "      <td>103.0</td>\n",
       "      <td>palmeritas de chocolate piezas 40</td>\n",
       "      <td>croissant petit</td>\n",
       "    </tr>\n",
       "  </tbody>\n",
       "</table>\n",
       "</div>"
      ],
      "text/plain": [
       "       product_id                    desc_normalized target_names_prod_by_prod\n",
       "73          103.0             mini napolitanas crema           croissant petit\n",
       "74          103.0         mini napolitanas chocolate           croissant petit\n",
       "75          103.0                   focaccias futbol           croissant petit\n",
       "200         103.0                    croissant petit           croissant petit\n",
       "61311       103.0  palmeritas de chocolate piezas 40           croissant petit"
      ]
     },
     "execution_count": 39,
     "metadata": {},
     "output_type": "execute_result"
    }
   ],
   "source": [
    "# Saving id=103 as croissant petit\n",
    "croissant_petit = unique_normalized_decriptions[unique_normalized_decriptions['product_id']==103.0].copy()\n",
    "croissant_petit['target_names_prod_by_prod'] = 'croissant petit'\n",
    "list_of_dfs.append(croissant_petit)\n",
    "croissant_petit.head()"
   ]
  },
  {
   "cell_type": "markdown",
   "metadata": {},
   "source": [
    "#### 2.3.3 Matching: croissant\n",
    "\n",
    "From the analysis performed in notebook \"x01-transactions_to_partial_results-yy.ipynb\", it was concluded that 'croissant simple' had an strong correlation with id number '100' and '101' however, before commiting to filtering by that ID, lets plot the distribution of count of lines per ID, that satisfies the filters of the following function, from the transaction dataset, in order to :"
   ]
  },
  {
   "cell_type": "code",
   "execution_count": 40,
   "metadata": {},
   "outputs": [],
   "source": [
    "def filter_croissant_simple (df):\n",
    "    croissant = df[df['desc_normalized'].str.contains('croissant')].copy()\n",
    "    croissant_simple = croissant[~croissant['desc_normalized'].str.contains('petit|tira|masa')].copy()\n",
    "    return croissant_simple"
   ]
  },
  {
   "cell_type": "code",
   "execution_count": 41,
   "metadata": {},
   "outputs": [
    {
     "data": {
      "text/html": [
       "<div>\n",
       "<style scoped>\n",
       "    .dataframe tbody tr th:only-of-type {\n",
       "        vertical-align: middle;\n",
       "    }\n",
       "\n",
       "    .dataframe tbody tr th {\n",
       "        vertical-align: top;\n",
       "    }\n",
       "\n",
       "    .dataframe thead th {\n",
       "        text-align: right;\n",
       "    }\n",
       "</style>\n",
       "<table border=\"1\" class=\"dataframe\">\n",
       "  <thead>\n",
       "    <tr style=\"text-align: right;\">\n",
       "      <th></th>\n",
       "      <th>product_id</th>\n",
       "      <th>description</th>\n",
       "      <th>order_date</th>\n",
       "      <th>section</th>\n",
       "      <th>store</th>\n",
       "      <th>units_ordered</th>\n",
       "      <th>desc_normalized</th>\n",
       "    </tr>\n",
       "  </thead>\n",
       "  <tbody>\n",
       "    <tr>\n",
       "      <th>179</th>\n",
       "      <td>101.0</td>\n",
       "      <td>CROISSANT</td>\n",
       "      <td>2008-01-01</td>\n",
       "      <td>0</td>\n",
       "      <td>BmUP</td>\n",
       "      <td>6,00</td>\n",
       "      <td>croissant</td>\n",
       "    </tr>\n",
       "    <tr>\n",
       "      <th>197</th>\n",
       "      <td>107.0</td>\n",
       "      <td>CROISSANT VACIOS</td>\n",
       "      <td>2008-01-01</td>\n",
       "      <td>0</td>\n",
       "      <td>BmUP</td>\n",
       "      <td>4,00</td>\n",
       "      <td>croissant vacios</td>\n",
       "    </tr>\n",
       "    <tr>\n",
       "      <th>199</th>\n",
       "      <td>105.0</td>\n",
       "      <td>CROISSANT CHOCOLATE</td>\n",
       "      <td>2008-01-01</td>\n",
       "      <td>0</td>\n",
       "      <td>BmUP</td>\n",
       "      <td>1,00</td>\n",
       "      <td>croissant chocolate</td>\n",
       "    </tr>\n",
       "    <tr>\n",
       "      <th>201</th>\n",
       "      <td>102.0</td>\n",
       "      <td>CROISSANT FRANCES</td>\n",
       "      <td>2008-01-01</td>\n",
       "      <td>0</td>\n",
       "      <td>BmUP</td>\n",
       "      <td>6,00</td>\n",
       "      <td>croissant frances</td>\n",
       "    </tr>\n",
       "    <tr>\n",
       "      <th>518</th>\n",
       "      <td>102.0</td>\n",
       "      <td>CROISSANT FRANCES</td>\n",
       "      <td>2008-01-01</td>\n",
       "      <td>0</td>\n",
       "      <td>MsUP</td>\n",
       "      <td>0,00</td>\n",
       "      <td>croissant frances</td>\n",
       "    </tr>\n",
       "  </tbody>\n",
       "</table>\n",
       "</div>"
      ],
      "text/plain": [
       "     product_id          description  order_date  section store units_ordered  \\\n",
       "179       101.0            CROISSANT  2008-01-01        0  BmUP          6,00   \n",
       "197       107.0     CROISSANT VACIOS  2008-01-01        0  BmUP          4,00   \n",
       "199       105.0  CROISSANT CHOCOLATE  2008-01-01        0  BmUP          1,00   \n",
       "201       102.0    CROISSANT FRANCES  2008-01-01        0  BmUP          6,00   \n",
       "518       102.0    CROISSANT FRANCES  2008-01-01        0  MsUP          0,00   \n",
       "\n",
       "         desc_normalized  \n",
       "179            croissant  \n",
       "197     croissant vacios  \n",
       "199  croissant chocolate  \n",
       "201    croissant frances  \n",
       "518    croissant frances  "
      ]
     },
     "execution_count": 41,
     "metadata": {},
     "output_type": "execute_result"
    }
   ],
   "source": [
    "transactions_croissant_simple = filter_croissant_simple(df_with_normalized_descriptions_transactions)\n",
    "transactions_croissant_simple.head()"
   ]
  },
  {
   "cell_type": "code",
   "execution_count": 42,
   "metadata": {},
   "outputs": [
    {
     "data": {
      "image/png": "[encoded data removed]",
      "text/plain": [
       "<Figure size 432x288 with 1 Axes>"
      ]
     },
     "metadata": {
      "needs_background": "light"
     },
     "output_type": "display_data"
    }
   ],
   "source": [
    "plot_count_per_id(transactions_croissant_simple)"
   ]
  },
  {
   "cell_type": "markdown",
   "metadata": {},
   "source": [
    "Interesting, the correlation seems to exsit for several ids... Lets explore a bit more... Lets plot the most common description from each id and see if we find any pattern:"
   ]
  },
  {
   "cell_type": "code",
   "execution_count": 43,
   "metadata": {},
   "outputs": [
    {
     "name": "stdout",
     "output_type": "stream",
     "text": [
      "***Plotting id: 101.0 \n",
      "-\n",
      "croissant                          72124\n",
      "croissant grandes largos piezas     8455\n",
      "suizos piezas cocer 10h             4142\n",
      "ensaimadas piezas cocer 10h         3458\n",
      "tira de focaccias                   2280\n",
      "Name: desc_normalized, dtype: int64\n",
      "\n",
      "***Plotting id: 107.0 \n",
      "-\n",
      "croissant vacios            29716\n",
      "croissant almendra largo      532\n",
      "Name: desc_normalized, dtype: int64\n",
      "\n",
      "***Plotting id: 105.0 \n",
      "-\n",
      "croissant chocolate                 74803\n",
      "croissant de chocolate               1653\n",
      "croissant chocolate largo             570\n",
      "focaccias                              95\n",
      "croissant paris chocolate piezas       38\n",
      "Name: desc_normalized, dtype: int64\n",
      "\n",
      "***Plotting id: 102.0 \n",
      "-\n",
      "croissant frances                  86279\n",
      "croissant grandes largos piezas      646\n",
      "focaccias                            266\n",
      "chapatitas orio                      247\n",
      "mini hamburguesitas                  190\n",
      "Name: desc_normalized, dtype: int64\n",
      "\n",
      "***Plotting id: 9999.0 \n",
      "-\n",
      "encargo                         25745\n",
      "juliana de verduras              7543\n",
      "juliana de pimientos             7505\n",
      "brandada de bacalao              5947\n",
      "encargo juliana de pimientos     4484\n",
      "Name: desc_normalized, dtype: int64\n",
      "\n",
      "***Plotting id: 214.0 \n",
      "-\n",
      "croissant sobrasada gr    589\n",
      "Name: desc_normalized, dtype: int64\n",
      "\n",
      "***Plotting id: 103.0 \n",
      "-\n",
      "croissant petit               94259\n",
      "mini napolitanas crema         1824\n",
      "mini napolitanas chocolate     1748\n",
      "croissant normal petit         1216\n",
      "focaccias                       380\n",
      "Name: desc_normalized, dtype: int64\n",
      "\n",
      "***Plotting id: 513.0 \n",
      "-\n",
      "sable breton                                               31122\n",
      "croissant pi ones                                             57\n",
      "macarron de chocolate latas                                   19\n",
      "empi onados lata                                              19\n",
      "pastas de macarron fresa chocolate pistacho 150 de cada       19\n",
      "Name: desc_normalized, dtype: int64\n",
      "\n",
      "***Plotting id: 512.0 \n",
      "-\n",
      "petit carre                        29488\n",
      "petit carre 3 800 kg de encargo       19\n",
      "pastas de macarron 500 piezas         19\n",
      "petit carre 2 blistes  pastas         19\n",
      "petit carre encargo de 3 800kg        19\n",
      "Name: desc_normalized, dtype: int64\n",
      "\n",
      "***Plotting id: 112.0 \n",
      "-\n",
      "torteles                              82821\n",
      "baguet multicereales                    437\n",
      "ensaimadas piezas cocer a las 12 h      342\n",
      "focaccias                               228\n",
      "suizos piezas cocer alas 12 h           209\n",
      "Name: desc_normalized, dtype: int64\n",
      "\n",
      "***Plotting id: 132.0 \n",
      "-\n",
      "croissant integral             94373\n",
      "croissant cereales largo        1159\n",
      "croissant integral encargo        19\n",
      "Name: desc_normalized, dtype: int64\n",
      "\n",
      "***Plotting id: 100.0 \n",
      "-\n",
      "croisants                     64980\n",
      "croissant                     15618\n",
      "croissant normal largo         1197\n",
      "croisants alargados piezas      342\n",
      "croisants piezas alargadas      133\n",
      "Name: desc_normalized, dtype: int64\n",
      "\n",
      "***Plotting id: 5001.0 \n",
      "-\n",
      "croissant alargado grande piezas    33592\n",
      "pastel de cabello hotel              2983\n",
      "mini hamburguesitas                   684\n",
      "ensaimadas piezas cocer 10h           665\n",
      "suizos piezas cocer 10h               570\n",
      "Name: desc_normalized, dtype: int64\n",
      "\n",
      "***Plotting id: 116.0 \n",
      "-\n",
      "medias noches                      35587\n",
      "crujiente crema canela y fresas    12977\n",
      "medias noches latas                   38\n",
      "latas de medias noches                38\n",
      "medias noches cocidas                 38\n",
      "Name: desc_normalized, dtype: int64\n",
      "\n"
     ]
    }
   ],
   "source": [
    "for i in transactions_croissant_simple['product_id'].unique():\n",
    "    to_print = df_with_normalized_descriptions_transactions[df_with_normalized_descriptions_transactions['product_id']==i]['desc_normalized'].value_counts().head()\n",
    "    print(\"***Plotting id: {} \".format(i))\n",
    "    print(\"-\")\n",
    "\n",
    "    print(to_print)\n",
    "    print(\"\")\n"
   ]
  },
  {
   "cell_type": "markdown",
   "metadata": {},
   "source": [
    "It seems that they have different types of croissant. Checking with the client, he suggested taking only: 100.0 and 101.0 that contains the word 'croissant'"
   ]
  },
  {
   "cell_type": "code",
   "execution_count": 44,
   "metadata": {},
   "outputs": [
    {
     "data": {
      "text/html": [
       "<div>\n",
       "<style scoped>\n",
       "    .dataframe tbody tr th:only-of-type {\n",
       "        vertical-align: middle;\n",
       "    }\n",
       "\n",
       "    .dataframe tbody tr th {\n",
       "        vertical-align: top;\n",
       "    }\n",
       "\n",
       "    .dataframe thead th {\n",
       "        text-align: right;\n",
       "    }\n",
       "</style>\n",
       "<table border=\"1\" class=\"dataframe\">\n",
       "  <thead>\n",
       "    <tr style=\"text-align: right;\">\n",
       "      <th></th>\n",
       "      <th>product_id</th>\n",
       "      <th>desc_normalized</th>\n",
       "      <th>target_names_prod_by_prod</th>\n",
       "    </tr>\n",
       "  </thead>\n",
       "  <tbody>\n",
       "    <tr>\n",
       "      <th>179</th>\n",
       "      <td>101.0</td>\n",
       "      <td>croissant</td>\n",
       "      <td>croissant simple</td>\n",
       "    </tr>\n",
       "    <tr>\n",
       "      <th>145410</th>\n",
       "      <td>101.0</td>\n",
       "      <td>croissant grandes alargados piezas</td>\n",
       "      <td>croissant simple</td>\n",
       "    </tr>\n",
       "    <tr>\n",
       "      <th>1015835</th>\n",
       "      <td>101.0</td>\n",
       "      <td>croissant alargados grandes piezas</td>\n",
       "      <td>croissant simple</td>\n",
       "    </tr>\n",
       "    <tr>\n",
       "      <th>1263320</th>\n",
       "      <td>101.0</td>\n",
       "      <td>croissant grandes largos piezas</td>\n",
       "      <td>croissant simple</td>\n",
       "    </tr>\n",
       "    <tr>\n",
       "      <th>2187161</th>\n",
       "      <td>101.0</td>\n",
       "      <td>croissant largos grandes piezas</td>\n",
       "      <td>croissant simple</td>\n",
       "    </tr>\n",
       "  </tbody>\n",
       "</table>\n",
       "</div>"
      ],
      "text/plain": [
       "         product_id                     desc_normalized  \\\n",
       "179           101.0                           croissant   \n",
       "145410        101.0  croissant grandes alargados piezas   \n",
       "1015835       101.0  croissant alargados grandes piezas   \n",
       "1263320       101.0     croissant grandes largos piezas   \n",
       "2187161       101.0     croissant largos grandes piezas   \n",
       "\n",
       "        target_names_prod_by_prod  \n",
       "179              croissant simple  \n",
       "145410           croissant simple  \n",
       "1015835          croissant simple  \n",
       "1263320          croissant simple  \n",
       "2187161          croissant simple  "
      ]
     },
     "execution_count": 44,
     "metadata": {},
     "output_type": "execute_result"
    }
   ],
   "source": [
    "croissant_simple = unique_normalized_decriptions[(unique_normalized_decriptions['product_id']==100.0)|(unique_normalized_decriptions['product_id']==101.0)].copy()\n",
    "croissant_simple = croissant_simple[croissant_simple['desc_normalized'].str.contains('croissant')]\n",
    "croissant_simple = croissant_simple[~croissant_simple['desc_normalized'].str.contains('petit|tira|masa')].copy()\n",
    "\n",
    "croissant_simple['target_names_prod_by_prod'] = 'croissant simple'\n",
    "list_of_dfs.append(croissant_simple)\n",
    "croissant_simple.head()"
   ]
  },
  {
   "cell_type": "markdown",
   "metadata": {},
   "source": [
    "#### 2.3.4 Matching: tarta mousse tres chocolates\n",
    "\n",
    "From the analysis performed in notebook \"x01-transactions_to_partial_results-yy.ipynb\", it was concluded that 'mousse tres chocolates' had no correlation with a particular product_id, therefore the analysis will be based on the description:"
   ]
  },
  {
   "cell_type": "code",
   "execution_count": 45,
   "metadata": {},
   "outputs": [],
   "source": [
    "def filter_mousse_tres_chocolates (df):\n",
    "    tarta = df[df['desc_normalized'].str.contains('tarta')].copy()\n",
    "    mousse = tarta[tarta['desc_normalized'].str.contains('mousse|mus')].copy()\n",
    "    mousse_tres = mousse[mousse['desc_normalized'].str.contains('tres|3')].copy()\n",
    "    mousse_tres = mousse_tres[~mousse_tres['desc_normalized'].str.contains('mini')].copy()\n",
    "    mousse_tres_chocolates = mousse_tres[mousse_tres['desc_normalized'].str.contains('chocolate')].copy()\n",
    "    return mousse_tres_chocolates"
   ]
  },
  {
   "cell_type": "code",
   "execution_count": 46,
   "metadata": {},
   "outputs": [
    {
     "data": {
      "text/html": [
       "<div>\n",
       "<style scoped>\n",
       "    .dataframe tbody tr th:only-of-type {\n",
       "        vertical-align: middle;\n",
       "    }\n",
       "\n",
       "    .dataframe tbody tr th {\n",
       "        vertical-align: top;\n",
       "    }\n",
       "\n",
       "    .dataframe thead th {\n",
       "        text-align: right;\n",
       "    }\n",
       "</style>\n",
       "<table border=\"1\" class=\"dataframe\">\n",
       "  <thead>\n",
       "    <tr style=\"text-align: right;\">\n",
       "      <th></th>\n",
       "      <th>product_id</th>\n",
       "      <th>description</th>\n",
       "      <th>order_date</th>\n",
       "      <th>section</th>\n",
       "      <th>store</th>\n",
       "      <th>units_ordered</th>\n",
       "      <th>desc_normalized</th>\n",
       "    </tr>\n",
       "  </thead>\n",
       "  <tbody>\n",
       "    <tr>\n",
       "      <th>98</th>\n",
       "      <td>414.0</td>\n",
       "      <td>TARTA  MUS  TRES  CHOCOLATES  2º</td>\n",
       "      <td>2008-01-01</td>\n",
       "      <td>0</td>\n",
       "      <td>AeUP</td>\n",
       "      <td>0,00</td>\n",
       "      <td>tarta mus tres chocolates 2º</td>\n",
       "    </tr>\n",
       "    <tr>\n",
       "      <th>762</th>\n",
       "      <td>414.0</td>\n",
       "      <td>TARTA  MUS  TRES  CHOCOLATES  2º</td>\n",
       "      <td>2008-01-01</td>\n",
       "      <td>0</td>\n",
       "      <td>MsUP</td>\n",
       "      <td>0,00</td>\n",
       "      <td>tarta mus tres chocolates 2º</td>\n",
       "    </tr>\n",
       "    <tr>\n",
       "      <th>1141</th>\n",
       "      <td>414.0</td>\n",
       "      <td>TARTA  MUS  TRES  CHOCOLATES  2º</td>\n",
       "      <td>2008-01-01</td>\n",
       "      <td>0</td>\n",
       "      <td>JPUP</td>\n",
       "      <td>0,00</td>\n",
       "      <td>tarta mus tres chocolates 2º</td>\n",
       "    </tr>\n",
       "    <tr>\n",
       "      <th>1312</th>\n",
       "      <td>414.0</td>\n",
       "      <td>TARTA  MUS  TRES  CHOCOLATES  2º</td>\n",
       "      <td>2008-01-01</td>\n",
       "      <td>0</td>\n",
       "      <td>GrUP</td>\n",
       "      <td>0,00</td>\n",
       "      <td>tarta mus tres chocolates 2º</td>\n",
       "    </tr>\n",
       "    <tr>\n",
       "      <th>1363</th>\n",
       "      <td>414.0</td>\n",
       "      <td>TARTA  MUS  TRES  CHOCOLATES  2º</td>\n",
       "      <td>2008-01-01</td>\n",
       "      <td>0</td>\n",
       "      <td>BmUP</td>\n",
       "      <td>0,00</td>\n",
       "      <td>tarta mus tres chocolates 2º</td>\n",
       "    </tr>\n",
       "  </tbody>\n",
       "</table>\n",
       "</div>"
      ],
      "text/plain": [
       "      product_id                       description  order_date  section store  \\\n",
       "98         414.0  TARTA  MUS  TRES  CHOCOLATES  2º  2008-01-01        0  AeUP   \n",
       "762        414.0  TARTA  MUS  TRES  CHOCOLATES  2º  2008-01-01        0  MsUP   \n",
       "1141       414.0  TARTA  MUS  TRES  CHOCOLATES  2º  2008-01-01        0  JPUP   \n",
       "1312       414.0  TARTA  MUS  TRES  CHOCOLATES  2º  2008-01-01        0  GrUP   \n",
       "1363       414.0  TARTA  MUS  TRES  CHOCOLATES  2º  2008-01-01        0  BmUP   \n",
       "\n",
       "     units_ordered               desc_normalized  \n",
       "98            0,00  tarta mus tres chocolates 2º  \n",
       "762           0,00  tarta mus tres chocolates 2º  \n",
       "1141          0,00  tarta mus tres chocolates 2º  \n",
       "1312          0,00  tarta mus tres chocolates 2º  \n",
       "1363          0,00  tarta mus tres chocolates 2º  "
      ]
     },
     "execution_count": 46,
     "metadata": {},
     "output_type": "execute_result"
    }
   ],
   "source": [
    "transactions_mousse_tres_chocolates = filter_mousse_tres_chocolates(df_with_normalized_descriptions_transactions)\n",
    "transactions_mousse_tres_chocolates.head()"
   ]
  },
  {
   "cell_type": "code",
   "execution_count": 47,
   "metadata": {},
   "outputs": [
    {
     "data": {
      "image/png": "[encoded data removed]",
      "text/plain": [
       "<Figure size 432x288 with 1 Axes>"
      ]
     },
     "metadata": {
      "needs_background": "light"
     },
     "output_type": "display_data"
    }
   ],
   "source": [
    "plot_count_per_id(transactions_mousse_tres_chocolates)"
   ]
  },
  {
   "cell_type": "markdown",
   "metadata": {},
   "source": [
    "Interesting... Lets explore it more by having a look at the full distribution of names:"
   ]
  },
  {
   "cell_type": "code",
   "execution_count": 48,
   "metadata": {},
   "outputs": [
    {
     "name": "stdout",
     "output_type": "stream",
     "text": [
      "***Plotting id: 414.0 \n",
      "-\n",
      "tarta mus tres chocolates 2º    4731\n",
      "tarta milhojas frambuesa 2º     4085\n",
      "tarta limon 3º                  3420\n",
      "tarta milhojas 2º               1786\n",
      "tarta tres chocolates 2º        1786\n",
      "Name: desc_normalized, dtype: int64\n",
      "\n",
      "***Plotting id: 14992.0 \n",
      "-\n",
      "tarta mousse tres chocolates 6º escrito feliz cumplea os    19\n",
      "Name: desc_normalized, dtype: int64\n",
      "\n",
      "***Plotting id: 9999.0 \n",
      "-\n",
      "encargo                         25745\n",
      "juliana de verduras              7543\n",
      "juliana de pimientos             7505\n",
      "brandada de bacalao              5947\n",
      "encargo juliana de pimientos     4484\n",
      "Name: desc_normalized, dtype: int64\n",
      "\n",
      "***Plotting id: 450.0 \n",
      "-\n",
      "postre mousse tres chocolates       82403\n",
      "postre selva negra                   2451\n",
      "postre milhojas frambuesa            2299\n",
      "mini postres mus tres chocolates     1995\n",
      "postre milhojas                      1672\n",
      "Name: desc_normalized, dtype: int64\n",
      "\n",
      "***Plotting id: 14998.0 \n",
      "-\n",
      "tartas especiales ref 01 de mickey de 12 rac con el bizcocho de selva negra    38\n",
      "tarta mousse de tres chocolates del 4º                                         38\n",
      "tartas especiales                                                              38\n",
      "tarta saint honoret del 4º                                                     38\n",
      "tarta selva negra del 5º con cartel muy felices 90 a os                        19\n",
      "Name: desc_normalized, dtype: int64\n",
      "\n",
      "***Plotting id: 453.0 \n",
      "-\n",
      "mousse 3 chocolates 3º               127965\n",
      "mousse 3 chocolates 4º                  475\n",
      "mousse 3 chocolates 3º de encargo       190\n",
      "mousse 3 chocolates del 4               152\n",
      "mousse 3 chocolates 20rac               114\n",
      "Name: desc_normalized, dtype: int64\n",
      "\n",
      "***Plotting id: 402.0 \n",
      "-\n",
      "san marcos 2º                                    109535\n",
      "san marcos 2º escrito en la tarta felicidades        76\n",
      "san marcos 2º infantil                               76\n",
      "san marcos 2º encargo                                76\n",
      "san marcos 2º de encargo                             76\n",
      "Name: desc_normalized, dtype: int64\n",
      "\n",
      "***Plotting id: 451.0 \n",
      "-\n",
      "mousse 3 chocolates 2º                                         167333\n",
      "mousse 3 chocolates 2º una de encargo                             247\n",
      "mousse 3 chocolates 2º encargo                                    114\n",
      "mousse 3 chocolates 2º escrito en la tarta felicidades            114\n",
      "mousse 3 chocolates 2º escrito en la tarta feliz cumplea os        95\n",
      "Name: desc_normalized, dtype: int64\n",
      "\n",
      "***Plotting id: 410.0 \n",
      "-\n",
      "selva negra 2º                  135679\n",
      "tarta mon royal 2º                 418\n",
      "selva negra 2º infantil            380\n",
      "tarta milhojas 2º                  171\n",
      "tarta mus tres chocolates 2º       171\n",
      "Name: desc_normalized, dtype: int64\n",
      "\n",
      "***Plotting id: 14984.0 \n",
      "-\n",
      "tarta mus tres chocolates 3º                                 76\n",
      "tarta selva negra 2º forrada de blanco                       38\n",
      "tarta selva negra 8º poner   1º comunion mario   con foto    19\n",
      "tarta manzana caramelo 3º                                    19\n",
      "tarta selva negra 5º                                         19\n",
      "Name: desc_normalized, dtype: int64\n",
      "\n",
      "***Plotting id: 452.0 \n",
      "-\n",
      "mousse 3 chocolates 1º                                         121657\n",
      "mousse 3 chocolates 1º una de encargo                              76\n",
      "mousse 3 chocolates 1º de encargo                                  76\n",
      "mousse 3 chocolates 1º y escrito felicidades yago                  38\n",
      "mousse 3 chocolates 1º escrito en la tarta feliz cumplea os        38\n",
      "Name: desc_normalized, dtype: int64\n",
      "\n",
      "***Plotting id: 14988.0 \n",
      "-\n",
      "tarta selva negra 8º                                       38\n",
      "tarta selva negra 2º felicidades aurora                    19\n",
      "tarta selva negra 5º                                       19\n",
      "tarta milhojas frambuesa 2º                                19\n",
      "tarta selva negra 8º con adornos infantiles felicidades    19\n",
      "Name: desc_normalized, dtype: int64\n",
      "\n",
      "***Plotting id: 411.0 \n",
      "-\n",
      "selva negra 3º                112480\n",
      "selva negra 3º infantil          209\n",
      "selva negra 4º                   190\n",
      "selva negra 3º de encargo        171\n",
      "selva negra 3º felicidades        95\n",
      "Name: desc_normalized, dtype: int64\n",
      "\n",
      "***Plotting id: 415.0 \n",
      "-\n",
      "tarta de limon 1º       14915\n",
      "tarta de limon 3º         114\n",
      "tarta selva negra 5º       38\n",
      "tarta de limon 2           19\n",
      "tarta san marcos 3º        19\n",
      "Name: desc_normalized, dtype: int64\n",
      "\n",
      "***Plotting id: 497.0 \n",
      "-\n",
      "tartaleta de fresa y mascarpone 2º          15637\n",
      "tarta fresa y mascarpone 2º                  9994\n",
      "fruta del bosque 2º                          8284\n",
      "tartaleta de fresa y mascarpone del 3º        247\n",
      "tartaleta de fresa y mascarpone 3º 10rac      190\n",
      "Name: desc_normalized, dtype: int64\n",
      "\n",
      "***Plotting id: 4479.0 \n",
      "-\n",
      "mousse 3 choco 4º                                                     95\n",
      "mousse 3 choco 4º escrito feliz cumplea os cristina                   19\n",
      "tarta mousse tres chocolates de 16 rac                                19\n",
      "mousse 3 choco 20 rac bien decorada y prepara es para la casa real    19\n",
      "mousse 3 choco 4º   con cartel felicidades alex                       19\n",
      "Name: desc_normalized, dtype: int64\n",
      "\n",
      "***Plotting id: 409.0 \n",
      "-\n",
      "selva negra 1º                          83733\n",
      "tarta mon royal 2º                         57\n",
      "selva negra 1º encargo online              38\n",
      "selva negra 1º (1 de encargo)              19\n",
      "selva negra 1º feliz cumplea os enzo       19\n",
      "Name: desc_normalized, dtype: int64\n",
      "\n"
     ]
    }
   ],
   "source": [
    "for i in transactions_mousse_tres_chocolates['product_id'].unique():\n",
    "    to_print = df_with_normalized_descriptions_transactions[df_with_normalized_descriptions_transactions['product_id']==i]['desc_normalized'].value_counts().head()\n",
    "    print(\"***Plotting id: {} \".format(i))\n",
    "    print(\"-\")\n",
    "\n",
    "    print(to_print)\n",
    "    print(\"\")\n"
   ]
  },
  {
   "cell_type": "markdown",
   "metadata": {},
   "source": [
    "It seems that 'tarta mousse tres chocolates' is all over the place... So the easiest is to filter by product description\""
   ]
  },
  {
   "cell_type": "code",
   "execution_count": 49,
   "metadata": {},
   "outputs": [
    {
     "data": {
      "text/html": [
       "<div>\n",
       "<style scoped>\n",
       "    .dataframe tbody tr th:only-of-type {\n",
       "        vertical-align: middle;\n",
       "    }\n",
       "\n",
       "    .dataframe tbody tr th {\n",
       "        vertical-align: top;\n",
       "    }\n",
       "\n",
       "    .dataframe thead th {\n",
       "        text-align: right;\n",
       "    }\n",
       "</style>\n",
       "<table border=\"1\" class=\"dataframe\">\n",
       "  <thead>\n",
       "    <tr style=\"text-align: right;\">\n",
       "      <th></th>\n",
       "      <th>product_id</th>\n",
       "      <th>desc_normalized</th>\n",
       "      <th>target_names_prod_by_prod</th>\n",
       "    </tr>\n",
       "  </thead>\n",
       "  <tbody>\n",
       "    <tr>\n",
       "      <th>98</th>\n",
       "      <td>414.0</td>\n",
       "      <td>tarta mus tres chocolates 2º</td>\n",
       "      <td>mousse tres chocolates</td>\n",
       "    </tr>\n",
       "    <tr>\n",
       "      <th>95419</th>\n",
       "      <td>14992.0</td>\n",
       "      <td>tarta mousse tres chocolates 6º escrito feliz ...</td>\n",
       "      <td>mousse tres chocolates</td>\n",
       "    </tr>\n",
       "    <tr>\n",
       "      <th>116962</th>\n",
       "      <td>414.0</td>\n",
       "      <td>tarta mus tres chocolate 2º</td>\n",
       "      <td>mousse tres chocolates</td>\n",
       "    </tr>\n",
       "    <tr>\n",
       "      <th>116963</th>\n",
       "      <td>414.0</td>\n",
       "      <td>tarta mus tres chocolates 1º</td>\n",
       "      <td>mousse tres chocolates</td>\n",
       "    </tr>\n",
       "    <tr>\n",
       "      <th>163605</th>\n",
       "      <td>9999.0</td>\n",
       "      <td>tarta mousse de 3 chocolates del 4º primer coche</td>\n",
       "      <td>mousse tres chocolates</td>\n",
       "    </tr>\n",
       "  </tbody>\n",
       "</table>\n",
       "</div>"
      ],
      "text/plain": [
       "        product_id                                    desc_normalized  \\\n",
       "98           414.0                       tarta mus tres chocolates 2º   \n",
       "95419      14992.0  tarta mousse tres chocolates 6º escrito feliz ...   \n",
       "116962       414.0                        tarta mus tres chocolate 2º   \n",
       "116963       414.0                       tarta mus tres chocolates 1º   \n",
       "163605      9999.0   tarta mousse de 3 chocolates del 4º primer coche   \n",
       "\n",
       "       target_names_prod_by_prod  \n",
       "98        mousse tres chocolates  \n",
       "95419     mousse tres chocolates  \n",
       "116962    mousse tres chocolates  \n",
       "116963    mousse tres chocolates  \n",
       "163605    mousse tres chocolates  "
      ]
     },
     "execution_count": 49,
     "metadata": {},
     "output_type": "execute_result"
    }
   ],
   "source": [
    "mousse_tres_chocolates = filter_mousse_tres_chocolates(unique_normalized_decriptions)\n",
    "mousse_tres_chocolates['target_names_prod_by_prod'] = 'mousse tres chocolates'\n",
    "list_of_dfs.append(mousse_tres_chocolates)\n",
    "mousse_tres_chocolates.head()"
   ]
  },
  {
   "cell_type": "markdown",
   "metadata": {},
   "source": [
    "#### 2.3.5 Matching: tarta de manzana 2\n",
    "From the analysis performed in notebook \"x01-transactions_to_partial_results-yy.ipynb\", it was concluded that 'tarta de manzana 2' had no correlation with a particular product_id, therefore the analysis will be based on the description:"
   ]
  },
  {
   "cell_type": "code",
   "execution_count": 50,
   "metadata": {},
   "outputs": [],
   "source": [
    "def filter_tarta_manzana_2 (df):\n",
    "    manzana_tarta = df[df['desc_normalized'].str.contains('manzana')]\n",
    "    #manzana_tarta = manzana[manzana['desc_normalized'].str.contains('tarta')].copy() #Removed because we saw it had better fit\n",
    "    manzana_tarta = manzana_tarta[~manzana_tarta['desc_normalized'].str.contains('caramelo')].copy()\n",
    "    manzana_tarta_dos = manzana_tarta[manzana_tarta['desc_normalized'].str.contains('dos|2')].copy()\n",
    "\n",
    "    return manzana_tarta_dos"
   ]
  },
  {
   "cell_type": "code",
   "execution_count": 51,
   "metadata": {},
   "outputs": [],
   "source": [
    "transactions_manzana_tarta_dos=filter_tarta_manzana_2(df_with_normalized_descriptions_transactions)"
   ]
  },
  {
   "cell_type": "code",
   "execution_count": 52,
   "metadata": {},
   "outputs": [
    {
     "data": {
      "image/png": "[encoded data removed]",
      "text/plain": [
       "<Figure size 432x288 with 1 Axes>"
      ]
     },
     "metadata": {
      "needs_background": "light"
     },
     "output_type": "display_data"
    }
   ],
   "source": [
    "plot_count_per_id(transactions_manzana_tarta_dos)"
   ]
  },
  {
   "cell_type": "markdown",
   "metadata": {},
   "source": [
    "Looks like we found a winner!"
   ]
  },
  {
   "cell_type": "code",
   "execution_count": 53,
   "metadata": {},
   "outputs": [
    {
     "data": {
      "text/html": [
       "<div>\n",
       "<style scoped>\n",
       "    .dataframe tbody tr th:only-of-type {\n",
       "        vertical-align: middle;\n",
       "    }\n",
       "\n",
       "    .dataframe tbody tr th {\n",
       "        vertical-align: top;\n",
       "    }\n",
       "\n",
       "    .dataframe thead th {\n",
       "        text-align: right;\n",
       "    }\n",
       "</style>\n",
       "<table border=\"1\" class=\"dataframe\">\n",
       "  <thead>\n",
       "    <tr style=\"text-align: right;\">\n",
       "      <th></th>\n",
       "      <th>product_id</th>\n",
       "      <th>desc_normalized</th>\n",
       "      <th>target_names_prod_by_prod</th>\n",
       "    </tr>\n",
       "  </thead>\n",
       "  <tbody>\n",
       "    <tr>\n",
       "      <th>52206</th>\n",
       "      <td>6017.0</td>\n",
       "      <td>tarta manzana b a 2º  (hora 5)</td>\n",
       "      <td>tarta de manzana</td>\n",
       "    </tr>\n",
       "    <tr>\n",
       "      <th>52518</th>\n",
       "      <td>462.0</td>\n",
       "      <td>manzana 2º</td>\n",
       "      <td>tarta de manzana</td>\n",
       "    </tr>\n",
       "    <tr>\n",
       "      <th>95868</th>\n",
       "      <td>3490.0</td>\n",
       "      <td>c microcanal 1 2 kg verde manzana</td>\n",
       "      <td>tarta de manzana</td>\n",
       "    </tr>\n",
       "    <tr>\n",
       "      <th>173050</th>\n",
       "      <td>9999.0</td>\n",
       "      <td>encargo tarta de manzana 2º cartel que ponga f...</td>\n",
       "      <td>tarta de manzana</td>\n",
       "    </tr>\n",
       "    <tr>\n",
       "      <th>235282</th>\n",
       "      <td>9999.0</td>\n",
       "      <td>tarta manzana de borde alto del 2º</td>\n",
       "      <td>tarta de manzana</td>\n",
       "    </tr>\n",
       "  </tbody>\n",
       "</table>\n",
       "</div>"
      ],
      "text/plain": [
       "        product_id                                    desc_normalized  \\\n",
       "52206       6017.0                     tarta manzana b a 2º  (hora 5)   \n",
       "52518        462.0                                         manzana 2º   \n",
       "95868       3490.0                  c microcanal 1 2 kg verde manzana   \n",
       "173050      9999.0  encargo tarta de manzana 2º cartel que ponga f...   \n",
       "235282      9999.0                 tarta manzana de borde alto del 2º   \n",
       "\n",
       "       target_names_prod_by_prod  \n",
       "52206           tarta de manzana  \n",
       "52518           tarta de manzana  \n",
       "95868           tarta de manzana  \n",
       "173050          tarta de manzana  \n",
       "235282          tarta de manzana  "
      ]
     },
     "execution_count": 53,
     "metadata": {},
     "output_type": "execute_result"
    }
   ],
   "source": [
    "manzana_tarta_dos = filter_tarta_manzana_2(unique_normalized_decriptions)\n",
    "manzana_tarta_dos['target_names_prod_by_prod'] = 'tarta de manzana'\n",
    "list_of_dfs.append(manzana_tarta_dos)\n",
    "manzana_tarta_dos.head()"
   ]
  },
  {
   "cell_type": "markdown",
   "metadata": {},
   "source": [
    "#### 2.3.6 Matching: palmera de chocolate "
   ]
  },
  {
   "cell_type": "code",
   "execution_count": 54,
   "metadata": {},
   "outputs": [],
   "source": [
    "def filter_palmera_chocolate (df):\n",
    "    palmera = df[df['desc_normalized'].str.contains('palmera')]\n",
    "    palmera_chocolate = palmera[palmera['desc_normalized'].str.contains('chocolate|trufa')].copy() #Added trufa after reviwing results\n",
    "    return palmera_chocolate"
   ]
  },
  {
   "cell_type": "code",
   "execution_count": 55,
   "metadata": {},
   "outputs": [
    {
     "data": {
      "text/html": [
       "<div>\n",
       "<style scoped>\n",
       "    .dataframe tbody tr th:only-of-type {\n",
       "        vertical-align: middle;\n",
       "    }\n",
       "\n",
       "    .dataframe tbody tr th {\n",
       "        vertical-align: top;\n",
       "    }\n",
       "\n",
       "    .dataframe thead th {\n",
       "        text-align: right;\n",
       "    }\n",
       "</style>\n",
       "<table border=\"1\" class=\"dataframe\">\n",
       "  <thead>\n",
       "    <tr style=\"text-align: right;\">\n",
       "      <th></th>\n",
       "      <th>product_id</th>\n",
       "      <th>description</th>\n",
       "      <th>order_date</th>\n",
       "      <th>section</th>\n",
       "      <th>store</th>\n",
       "      <th>units_ordered</th>\n",
       "      <th>desc_normalized</th>\n",
       "    </tr>\n",
       "  </thead>\n",
       "  <tbody>\n",
       "    <tr>\n",
       "      <th>145</th>\n",
       "      <td>182.0</td>\n",
       "      <td>PALMERAS DE TRUFA</td>\n",
       "      <td>2008-01-01</td>\n",
       "      <td>0</td>\n",
       "      <td>AeUP</td>\n",
       "      <td>0,00</td>\n",
       "      <td>palmeras de trufa</td>\n",
       "    </tr>\n",
       "    <tr>\n",
       "      <th>348</th>\n",
       "      <td>182.0</td>\n",
       "      <td>PALMERAS DE TRUFA</td>\n",
       "      <td>2008-01-01</td>\n",
       "      <td>0</td>\n",
       "      <td>BmUP</td>\n",
       "      <td>3,00</td>\n",
       "      <td>palmeras de trufa</td>\n",
       "    </tr>\n",
       "    <tr>\n",
       "      <th>612</th>\n",
       "      <td>182.0</td>\n",
       "      <td>PALMERAS DE TRUFA</td>\n",
       "      <td>2008-01-01</td>\n",
       "      <td>0</td>\n",
       "      <td>MsUP</td>\n",
       "      <td>0,00</td>\n",
       "      <td>palmeras de trufa</td>\n",
       "    </tr>\n",
       "    <tr>\n",
       "      <th>2048</th>\n",
       "      <td>182.0</td>\n",
       "      <td>PALMERAS DE TRUFA</td>\n",
       "      <td>2008-01-01</td>\n",
       "      <td>0</td>\n",
       "      <td>AnUP</td>\n",
       "      <td>3,00</td>\n",
       "      <td>palmeras de trufa</td>\n",
       "    </tr>\n",
       "    <tr>\n",
       "      <th>2961</th>\n",
       "      <td>182.0</td>\n",
       "      <td>PALMERAS DE TRUFA</td>\n",
       "      <td>2008-01-01</td>\n",
       "      <td>0</td>\n",
       "      <td>GrUP</td>\n",
       "      <td>4,00</td>\n",
       "      <td>palmeras de trufa</td>\n",
       "    </tr>\n",
       "  </tbody>\n",
       "</table>\n",
       "</div>"
      ],
      "text/plain": [
       "      product_id        description  order_date  section store units_ordered  \\\n",
       "145        182.0  PALMERAS DE TRUFA  2008-01-01        0  AeUP          0,00   \n",
       "348        182.0  PALMERAS DE TRUFA  2008-01-01        0  BmUP          3,00   \n",
       "612        182.0  PALMERAS DE TRUFA  2008-01-01        0  MsUP          0,00   \n",
       "2048       182.0  PALMERAS DE TRUFA  2008-01-01        0  AnUP          3,00   \n",
       "2961       182.0  PALMERAS DE TRUFA  2008-01-01        0  GrUP          4,00   \n",
       "\n",
       "        desc_normalized  \n",
       "145   palmeras de trufa  \n",
       "348   palmeras de trufa  \n",
       "612   palmeras de trufa  \n",
       "2048  palmeras de trufa  \n",
       "2961  palmeras de trufa  "
      ]
     },
     "execution_count": 55,
     "metadata": {},
     "output_type": "execute_result"
    }
   ],
   "source": [
    "transactions_palmera_chocolate = filter_palmera_chocolate(df_with_normalized_descriptions_transactions)\n",
    "transactions_palmera_chocolate.head()"
   ]
  },
  {
   "cell_type": "code",
   "execution_count": 56,
   "metadata": {},
   "outputs": [
    {
     "data": {
      "image/png": "[encoded data removed]",
      "text/plain": [
       "<Figure size 432x288 with 1 Axes>"
      ]
     },
     "metadata": {
      "needs_background": "light"
     },
     "output_type": "display_data"
    }
   ],
   "source": [
    "plot_count_per_id(transactions_palmera_chocolate)"
   ]
  },
  {
   "cell_type": "markdown",
   "metadata": {},
   "source": [
    "Again, we have a winner!"
   ]
  },
  {
   "cell_type": "code",
   "execution_count": 57,
   "metadata": {},
   "outputs": [
    {
     "data": {
      "text/html": [
       "<div>\n",
       "<style scoped>\n",
       "    .dataframe tbody tr th:only-of-type {\n",
       "        vertical-align: middle;\n",
       "    }\n",
       "\n",
       "    .dataframe tbody tr th {\n",
       "        vertical-align: top;\n",
       "    }\n",
       "\n",
       "    .dataframe thead th {\n",
       "        text-align: right;\n",
       "    }\n",
       "</style>\n",
       "<table border=\"1\" class=\"dataframe\">\n",
       "  <thead>\n",
       "    <tr style=\"text-align: right;\">\n",
       "      <th></th>\n",
       "      <th>product_id</th>\n",
       "      <th>desc_normalized</th>\n",
       "      <th>target_names_prod_by_prod</th>\n",
       "    </tr>\n",
       "  </thead>\n",
       "  <tbody>\n",
       "    <tr>\n",
       "      <th>145</th>\n",
       "      <td>182.0</td>\n",
       "      <td>palmeras de trufa</td>\n",
       "      <td>palmera chocolate</td>\n",
       "    </tr>\n",
       "    <tr>\n",
       "      <th>3033562</th>\n",
       "      <td>141.0</td>\n",
       "      <td>palmeras chocolate</td>\n",
       "      <td>palmera chocolate</td>\n",
       "    </tr>\n",
       "    <tr>\n",
       "      <th>3862812</th>\n",
       "      <td>182.0</td>\n",
       "      <td>palmeras de trufa   encargo</td>\n",
       "      <td>palmera chocolate</td>\n",
       "    </tr>\n",
       "    <tr>\n",
       "      <th>9003746</th>\n",
       "      <td>182.0</td>\n",
       "      <td>palmeras de trufa hay 50 de encargo</td>\n",
       "      <td>palmera chocolate</td>\n",
       "    </tr>\n",
       "    <tr>\n",
       "      <th>15525027</th>\n",
       "      <td>9999.0</td>\n",
       "      <td>palmeras de chocolate unidades</td>\n",
       "      <td>palmera chocolate</td>\n",
       "    </tr>\n",
       "  </tbody>\n",
       "</table>\n",
       "</div>"
      ],
      "text/plain": [
       "          product_id                      desc_normalized  \\\n",
       "145            182.0                    palmeras de trufa   \n",
       "3033562        141.0                   palmeras chocolate   \n",
       "3862812        182.0        palmeras de trufa   encargo     \n",
       "9003746        182.0  palmeras de trufa hay 50 de encargo   \n",
       "15525027      9999.0       palmeras de chocolate unidades   \n",
       "\n",
       "         target_names_prod_by_prod  \n",
       "145              palmera chocolate  \n",
       "3033562          palmera chocolate  \n",
       "3862812          palmera chocolate  \n",
       "9003746          palmera chocolate  \n",
       "15525027         palmera chocolate  "
      ]
     },
     "execution_count": 57,
     "metadata": {},
     "output_type": "execute_result"
    }
   ],
   "source": [
    "palmera_chocolate = filter_palmera_chocolate(unique_normalized_decriptions)\n",
    "palmera_chocolate['target_names_prod_by_prod'] = 'palmera chocolate'\n",
    "\n",
    "list_of_dfs.append(palmera_chocolate)\n",
    "palmera_chocolate.head()"
   ]
  },
  {
   "cell_type": "markdown",
   "metadata": {},
   "source": [
    "#### 2.3.7 Matching: tarta ópera "
   ]
  },
  {
   "cell_type": "code",
   "execution_count": 58,
   "metadata": {},
   "outputs": [],
   "source": [
    "def filter_tarta_opera(df):\n",
    "    opera = df[df['desc_normalized'].str.contains('opera')]\n",
    "    opera_tarta = opera[opera['desc_normalized'].str.contains('tarta')].copy()\n",
    "    return opera_tarta"
   ]
  },
  {
   "cell_type": "code",
   "execution_count": 59,
   "metadata": {},
   "outputs": [],
   "source": [
    "transactions_tarta_opera = filter_tarta_opera(df_with_normalized_descriptions_transactions)"
   ]
  },
  {
   "cell_type": "code",
   "execution_count": 60,
   "metadata": {},
   "outputs": [
    {
     "data": {
      "image/png": "[encoded data removed]",
      "text/plain": [
       "<Figure size 432x288 with 1 Axes>"
      ]
     },
     "metadata": {
      "needs_background": "light"
     },
     "output_type": "display_data"
    }
   ],
   "source": [
    "plot_count_per_id(transactions_tarta_opera)"
   ]
  },
  {
   "cell_type": "code",
   "execution_count": 61,
   "metadata": {},
   "outputs": [
    {
     "name": "stdout",
     "output_type": "stream",
     "text": [
      "***Plotting id: 9999.0 \n",
      "-\n",
      "encargo                         25745\n",
      "juliana de verduras              7543\n",
      "juliana de pimientos             7505\n",
      "brandada de bacalao              5947\n",
      "encargo juliana de pimientos     4484\n",
      "Name: desc_normalized, dtype: int64\n",
      "\n",
      "***Plotting id: 14998.0 \n",
      "-\n",
      "tartas especiales ref 01 de mickey de 12 rac con el bizcocho de selva negra    38\n",
      "tarta mousse de tres chocolates del 4º                                         38\n",
      "tartas especiales                                                              38\n",
      "tarta saint honoret del 4º                                                     38\n",
      "tarta selva negra del 5º con cartel muy felices 90 a os                        19\n",
      "Name: desc_normalized, dtype: int64\n",
      "\n",
      "***Plotting id: 414.0 \n",
      "-\n",
      "tarta mus tres chocolates 2º    4731\n",
      "tarta milhojas frambuesa 2º     4085\n",
      "tarta limon 3º                  3420\n",
      "tarta milhojas 2º               1786\n",
      "tarta tres chocolates 2º        1786\n",
      "Name: desc_normalized, dtype: int64\n",
      "\n",
      "***Plotting id: 427.0 \n",
      "-\n",
      "opera 3º                          34922\n",
      "opera 3º encargo                     95\n",
      "opera 3º felicidades nicolas         76\n",
      "opera 3º y escrito felicidades       57\n",
      "opera 4º                             38\n",
      "Name: desc_normalized, dtype: int64\n",
      "\n",
      "***Plotting id: 428.0 \n",
      "-\n",
      "opera 2º                                          111454\n",
      "opera 3º                                             152\n",
      "opera 2º felicidades                                  38\n",
      "opera 2º felicidades jaime                            38\n",
      "opera 2º y cartel felicidades oliver y eduardo        38\n",
      "Name: desc_normalized, dtype: int64\n",
      "\n",
      "***Plotting id: 450.0 \n",
      "-\n",
      "postre mousse tres chocolates       82403\n",
      "postre selva negra                   2451\n",
      "postre milhojas frambuesa            2299\n",
      "mini postres mus tres chocolates     1995\n",
      "postre milhojas                      1672\n",
      "Name: desc_normalized, dtype: int64\n",
      "\n",
      "***Plotting id: 403.0 \n",
      "-\n",
      "san marcos 3º                                    37202\n",
      "san marcos 3º infantil                              95\n",
      "san marcos 3º felicidades                           57\n",
      "san marcos 3º feliz cumplea os monica               38\n",
      "san marcos 3º escrito en la tarta felicidades       38\n",
      "Name: desc_normalized, dtype: int64\n",
      "\n",
      "***Plotting id: 426.0 \n",
      "-\n",
      "opera 4º                                                                                         2033\n",
      "opera 4º encargo                                                                                   38\n",
      "opera 4º ni fin de algo ni principio de nada s lo son� � tus fant sticos 18 � felicidades ana      19\n",
      "opera 4ºcon cartel que ponga felicidades pepa 101                                                  19\n",
      "opera 4º escrito en la tarta felicidades javier                                                    19\n",
      "Name: desc_normalized, dtype: int64\n",
      "\n",
      "***Plotting id: 402.0 \n",
      "-\n",
      "san marcos 2º                                    109535\n",
      "san marcos 2º escrito en la tarta felicidades        76\n",
      "san marcos 2º infantil                               76\n",
      "san marcos 2º encargo                                76\n",
      "san marcos 2º de encargo                             76\n",
      "Name: desc_normalized, dtype: int64\n",
      "\n",
      "***Plotting id: 483.0 \n",
      "-\n",
      "tarta caoba 2º        3629\n",
      "postre mont blanc     1995\n",
      "tarta mon royal 2º      19\n",
      "tarta opera 3º          19\n",
      "Name: desc_normalized, dtype: int64\n",
      "\n",
      "***Plotting id: 410.0 \n",
      "-\n",
      "selva negra 2º                  135679\n",
      "tarta mon royal 2º                 418\n",
      "selva negra 2º infantil            380\n",
      "tarta milhojas 2º                  171\n",
      "tarta mus tres chocolates 2º       171\n",
      "Name: desc_normalized, dtype: int64\n",
      "\n",
      "***Plotting id: 413.0 \n",
      "-\n",
      "tarta limon 2º           119377\n",
      "tarta limon 3º              912\n",
      "tarta limon 3º 10rac        285\n",
      "tarta limon del 3º          228\n",
      "tarta limon 3º 10 rac       209\n",
      "Name: desc_normalized, dtype: int64\n",
      "\n",
      "***Plotting id: 411.0 \n",
      "-\n",
      "selva negra 3º                112480\n",
      "selva negra 3º infantil          209\n",
      "selva negra 4º                   190\n",
      "selva negra 3º de encargo        171\n",
      "selva negra 3º felicidades        95\n",
      "Name: desc_normalized, dtype: int64\n",
      "\n"
     ]
    }
   ],
   "source": [
    "for i in transactions_tarta_opera['product_id'].unique():\n",
    "    to_print = df_with_normalized_descriptions_transactions[df_with_normalized_descriptions_transactions['product_id']==i]['desc_normalized'].value_counts().head()\n",
    "    print(\"***Plotting id: {} \".format(i))\n",
    "    print(\"-\")\n",
    "\n",
    "    print(to_print)\n",
    "    print(\"\")\n"
   ]
  },
  {
   "cell_type": "markdown",
   "metadata": {},
   "source": [
    "Again, all over the place, so we decided to use the description filter:"
   ]
  },
  {
   "cell_type": "code",
   "execution_count": 62,
   "metadata": {},
   "outputs": [
    {
     "data": {
      "text/html": [
       "<div>\n",
       "<style scoped>\n",
       "    .dataframe tbody tr th:only-of-type {\n",
       "        vertical-align: middle;\n",
       "    }\n",
       "\n",
       "    .dataframe tbody tr th {\n",
       "        vertical-align: top;\n",
       "    }\n",
       "\n",
       "    .dataframe thead th {\n",
       "        text-align: right;\n",
       "    }\n",
       "</style>\n",
       "<table border=\"1\" class=\"dataframe\">\n",
       "  <thead>\n",
       "    <tr style=\"text-align: right;\">\n",
       "      <th></th>\n",
       "      <th>product_id</th>\n",
       "      <th>desc_normalized</th>\n",
       "      <th>target_names_prod_by_prod</th>\n",
       "    </tr>\n",
       "  </thead>\n",
       "  <tbody>\n",
       "    <tr>\n",
       "      <th>24081</th>\n",
       "      <td>9999.0</td>\n",
       "      <td>tarta opera del 4º</td>\n",
       "      <td>tarta opera</td>\n",
       "    </tr>\n",
       "    <tr>\n",
       "      <th>104938</th>\n",
       "      <td>14998.0</td>\n",
       "      <td>tarta opera del 2º con cartel que ponga felici...</td>\n",
       "      <td>tarta opera</td>\n",
       "    </tr>\n",
       "    <tr>\n",
       "      <th>235454</th>\n",
       "      <td>14998.0</td>\n",
       "      <td>tartas especial opera del 2º con cartel que po...</td>\n",
       "      <td>tarta opera</td>\n",
       "    </tr>\n",
       "    <tr>\n",
       "      <th>311171</th>\n",
       "      <td>9999.0</td>\n",
       "      <td>tarta opera del 3º</td>\n",
       "      <td>tarta opera</td>\n",
       "    </tr>\n",
       "    <tr>\n",
       "      <th>440577</th>\n",
       "      <td>414.0</td>\n",
       "      <td>tarta opera 2º</td>\n",
       "      <td>tarta opera</td>\n",
       "    </tr>\n",
       "  </tbody>\n",
       "</table>\n",
       "</div>"
      ],
      "text/plain": [
       "        product_id                                    desc_normalized  \\\n",
       "24081       9999.0                                 tarta opera del 4º   \n",
       "104938     14998.0  tarta opera del 2º con cartel que ponga felici...   \n",
       "235454     14998.0  tartas especial opera del 2º con cartel que po...   \n",
       "311171      9999.0                                 tarta opera del 3º   \n",
       "440577       414.0                                     tarta opera 2º   \n",
       "\n",
       "       target_names_prod_by_prod  \n",
       "24081                tarta opera  \n",
       "104938               tarta opera  \n",
       "235454               tarta opera  \n",
       "311171               tarta opera  \n",
       "440577               tarta opera  "
      ]
     },
     "execution_count": 62,
     "metadata": {},
     "output_type": "execute_result"
    }
   ],
   "source": [
    "tarta_opera = filter_tarta_opera(unique_normalized_decriptions)\n",
    "tarta_opera['target_names_prod_by_prod'] = 'tarta opera'\n",
    "\n",
    "list_of_dfs.append(tarta_opera)\n",
    "tarta_opera.head()"
   ]
  },
  {
   "cell_type": "markdown",
   "metadata": {},
   "source": [
    "#### 2.3.9 Matching: postre de fresas y mascarpone"
   ]
  },
  {
   "cell_type": "code",
   "execution_count": 63,
   "metadata": {},
   "outputs": [],
   "source": [
    "def filter_postre_fresas_mascarpone (df):\n",
    "    postre = df[df['desc_normalized'].str.contains('postre')]\n",
    "    postre_fresa = postre[postre['desc_normalized'].str.contains('fresa')].copy()\n",
    "    postre_fresa = postre_fresa[~postre['desc_normalized'].str.contains('eclair')].copy() #Client indication\n",
    "    postre_fresa = postre_fresa[~postre['desc_normalized'].str.contains('tartaleta')].copy() #Client indication\n",
    "\n",
    "    postre_fresa_mascarpone = postre_fresa[postre_fresa['desc_normalized'].str.contains('mascarpone')].copy()\n",
    "    return postre_fresa_mascarpone"
   ]
  },
  {
   "cell_type": "code",
   "execution_count": 64,
   "metadata": {},
   "outputs": [
    {
     "name": "stderr",
     "output_type": "stream",
     "text": [
      "/Users/miruiz/kschool-final-project/lib/python2.7/site-packages/ipykernel_launcher.py:4: UserWarning: Boolean Series key will be reindexed to match DataFrame index.\n",
      "  after removing the cwd from sys.path.\n",
      "/Users/miruiz/kschool-final-project/lib/python2.7/site-packages/ipykernel_launcher.py:5: UserWarning: Boolean Series key will be reindexed to match DataFrame index.\n",
      "  \"\"\"\n"
     ]
    }
   ],
   "source": [
    "transactions_postre_fresas_mascarpone = filter_postre_fresas_mascarpone(df_with_normalized_descriptions_transactions)"
   ]
  },
  {
   "cell_type": "code",
   "execution_count": 65,
   "metadata": {},
   "outputs": [
    {
     "data": {
      "image/png": "[encoded data removed]",
      "text/plain": [
       "<Figure size 432x288 with 1 Axes>"
      ]
     },
     "metadata": {
      "needs_background": "light"
     },
     "output_type": "display_data"
    }
   ],
   "source": [
    "plot_count_per_id(transactions_postre_fresas_mascarpone)"
   ]
  },
  {
   "cell_type": "code",
   "execution_count": 66,
   "metadata": {},
   "outputs": [
    {
     "name": "stdout",
     "output_type": "stream",
     "text": [
      "***Plotting id: 4511.0 \n",
      "-\n",
      "postre fresas y mascarpone                                71402\n",
      "postre tartaleta fresas y mascarpone                        684\n",
      "postre fresas y mascarpone encargo web                       38\n",
      "postre fresas y mascarpone encargo online                    38\n",
      "postre fresas y mascarpone sin chocolatina de mallorca       19\n",
      "Name: desc_normalized, dtype: int64\n",
      "\n",
      "***Plotting id: 9999.0 \n",
      "-\n",
      "encargo                         25745\n",
      "juliana de verduras              7543\n",
      "juliana de pimientos             7505\n",
      "brandada de bacalao              5947\n",
      "encargo juliana de pimientos     4484\n",
      "Name: desc_normalized, dtype: int64\n",
      "\n",
      "***Plotting id: 450.0 \n",
      "-\n",
      "postre mousse tres chocolates       82403\n",
      "postre selva negra                   2451\n",
      "postre milhojas frambuesa            2299\n",
      "mini postres mus tres chocolates     1995\n",
      "postre milhojas                      1672\n",
      "Name: desc_normalized, dtype: int64\n",
      "\n",
      "***Plotting id: 45.0 \n",
      "-\n",
      "postre mousse tres chocolates                   34865\n",
      "postre san marcos                                 589\n",
      "postre selva negra                                304\n",
      "postre cheesecake                                 152\n",
      "postre mousse tres chocolates encargo online      133\n",
      "Name: desc_normalized, dtype: int64\n",
      "\n"
     ]
    }
   ],
   "source": [
    "for i in transactions_postre_fresas_mascarpone['product_id'].unique():\n",
    "    to_print = df_with_normalized_descriptions_transactions[df_with_normalized_descriptions_transactions['product_id']==i]['desc_normalized'].value_counts().head()\n",
    "    print(\"***Plotting id: {} \".format(i))\n",
    "    print(\"-\")\n",
    "\n",
    "    print(to_print)\n",
    "    print(\"\")\n"
   ]
  },
  {
   "cell_type": "markdown",
   "metadata": {},
   "source": [
    "Seems that the filter is working :)"
   ]
  },
  {
   "cell_type": "code",
   "execution_count": 67,
   "metadata": {},
   "outputs": [
    {
     "name": "stderr",
     "output_type": "stream",
     "text": [
      "/Users/miruiz/kschool-final-project/lib/python2.7/site-packages/ipykernel_launcher.py:4: UserWarning: Boolean Series key will be reindexed to match DataFrame index.\n",
      "  after removing the cwd from sys.path.\n",
      "/Users/miruiz/kschool-final-project/lib/python2.7/site-packages/ipykernel_launcher.py:5: UserWarning: Boolean Series key will be reindexed to match DataFrame index.\n",
      "  \"\"\"\n"
     ]
    },
    {
     "data": {
      "text/html": [
       "<div>\n",
       "<style scoped>\n",
       "    .dataframe tbody tr th:only-of-type {\n",
       "        vertical-align: middle;\n",
       "    }\n",
       "\n",
       "    .dataframe tbody tr th {\n",
       "        vertical-align: top;\n",
       "    }\n",
       "\n",
       "    .dataframe thead th {\n",
       "        text-align: right;\n",
       "    }\n",
       "</style>\n",
       "<table border=\"1\" class=\"dataframe\">\n",
       "  <thead>\n",
       "    <tr style=\"text-align: right;\">\n",
       "      <th></th>\n",
       "      <th>product_id</th>\n",
       "      <th>desc_normalized</th>\n",
       "      <th>target_names_prod_by_prod</th>\n",
       "    </tr>\n",
       "  </thead>\n",
       "  <tbody>\n",
       "    <tr>\n",
       "      <th>3862959</th>\n",
       "      <td>4511.0</td>\n",
       "      <td>postre fresas y mascarpone</td>\n",
       "      <td>postre de fresas y mascarpone</td>\n",
       "    </tr>\n",
       "    <tr>\n",
       "      <th>5911144</th>\n",
       "      <td>9999.0</td>\n",
       "      <td>postre fresas y mascarpone</td>\n",
       "      <td>postre de fresas y mascarpone</td>\n",
       "    </tr>\n",
       "    <tr>\n",
       "      <th>5919722</th>\n",
       "      <td>9999.0</td>\n",
       "      <td>postre fresa y mascarpone</td>\n",
       "      <td>postre de fresas y mascarpone</td>\n",
       "    </tr>\n",
       "    <tr>\n",
       "      <th>5929928</th>\n",
       "      <td>9999.0</td>\n",
       "      <td>postre de fresas mascarpone</td>\n",
       "      <td>postre de fresas y mascarpone</td>\n",
       "    </tr>\n",
       "    <tr>\n",
       "      <th>5939938</th>\n",
       "      <td>9999.0</td>\n",
       "      <td>postre de fresas y mascarpone</td>\n",
       "      <td>postre de fresas y mascarpone</td>\n",
       "    </tr>\n",
       "  </tbody>\n",
       "</table>\n",
       "</div>"
      ],
      "text/plain": [
       "         product_id                desc_normalized  \\\n",
       "3862959      4511.0     postre fresas y mascarpone   \n",
       "5911144      9999.0     postre fresas y mascarpone   \n",
       "5919722      9999.0      postre fresa y mascarpone   \n",
       "5929928      9999.0    postre de fresas mascarpone   \n",
       "5939938      9999.0  postre de fresas y mascarpone   \n",
       "\n",
       "             target_names_prod_by_prod  \n",
       "3862959  postre de fresas y mascarpone  \n",
       "5911144  postre de fresas y mascarpone  \n",
       "5919722  postre de fresas y mascarpone  \n",
       "5929928  postre de fresas y mascarpone  \n",
       "5939938  postre de fresas y mascarpone  "
      ]
     },
     "execution_count": 67,
     "metadata": {},
     "output_type": "execute_result"
    }
   ],
   "source": [
    "postre_fresas_mascarpone = filter_postre_fresas_mascarpone(unique_normalized_decriptions)\n",
    "\n",
    "postre_fresas_mascarpone['target_names_prod_by_prod'] = 'postre de fresas y mascarpone'\n",
    "list_of_dfs.append(postre_fresas_mascarpone)\n",
    "postre_fresas_mascarpone.head()\n"
   ]
  },
  {
   "cell_type": "markdown",
   "metadata": {},
   "source": [
    "#### 2.3.9 Matching: tortel"
   ]
  },
  {
   "cell_type": "code",
   "execution_count": 68,
   "metadata": {},
   "outputs": [],
   "source": [
    "def filter_tortel (df):\n",
    "    tortel = df[df['desc_normalized'].str.contains('tortel')].copy()\n",
    "    tortel = tortel[~tortel['desc_normalized'].str.contains('tortellini|mini')].copy()\n",
    "\n",
    "    return tortel"
   ]
  },
  {
   "cell_type": "code",
   "execution_count": 69,
   "metadata": {},
   "outputs": [],
   "source": [
    "transactions_tortel = filter_tortel(df_with_normalized_descriptions_transactions)"
   ]
  },
  {
   "cell_type": "code",
   "execution_count": 70,
   "metadata": {},
   "outputs": [
    {
     "data": {
      "image/png": "[encoded data removed]",
      "text/plain": [
       "<Figure size 432x288 with 1 Axes>"
      ]
     },
     "metadata": {
      "needs_background": "light"
     },
     "output_type": "display_data"
    }
   ],
   "source": [
    "plot_count_per_id(transactions_tortel)"
   ]
  },
  {
   "cell_type": "code",
   "execution_count": 71,
   "metadata": {},
   "outputs": [
    {
     "name": "stdout",
     "output_type": "stream",
     "text": [
      "***Plotting id: 112.0 \n",
      "-\n",
      "torteles                              82821\n",
      "baguet multicereales                    437\n",
      "ensaimadas piezas cocer a las 12 h      342\n",
      "focaccias                               228\n",
      "suizos piezas cocer alas 12 h           209\n",
      "Name: desc_normalized, dtype: int64\n",
      "\n",
      "***Plotting id: 9999.0 \n",
      "-\n",
      "encargo                         25745\n",
      "juliana de verduras              7543\n",
      "juliana de pimientos             7505\n",
      "brandada de bacalao              5947\n",
      "encargo juliana de pimientos     4484\n",
      "Name: desc_normalized, dtype: int64\n",
      "\n",
      "***Plotting id: 2999.0 \n",
      "-\n",
      "mini torteles crudos        494\n",
      "mini ensaimadas en crudo    456\n",
      "mini ensaimadas crudas      437\n",
      "mini torteles en crudo      418\n",
      "especial bollos             418\n",
      "Name: desc_normalized, dtype: int64\n",
      "\n"
     ]
    }
   ],
   "source": [
    "for i in transactions_tortel['product_id'].unique():\n",
    "    to_print = df_with_normalized_descriptions_transactions[df_with_normalized_descriptions_transactions['product_id']==i]['desc_normalized'].value_counts().head()\n",
    "    print(\"***Plotting id: {} \".format(i))\n",
    "    print(\"-\")\n",
    "\n",
    "    print(to_print)\n",
    "    print(\"\")\n"
   ]
  },
  {
   "cell_type": "code",
   "execution_count": 72,
   "metadata": {},
   "outputs": [
    {
     "data": {
      "text/html": [
       "<div>\n",
       "<style scoped>\n",
       "    .dataframe tbody tr th:only-of-type {\n",
       "        vertical-align: middle;\n",
       "    }\n",
       "\n",
       "    .dataframe tbody tr th {\n",
       "        vertical-align: top;\n",
       "    }\n",
       "\n",
       "    .dataframe thead th {\n",
       "        text-align: right;\n",
       "    }\n",
       "</style>\n",
       "<table border=\"1\" class=\"dataframe\">\n",
       "  <thead>\n",
       "    <tr style=\"text-align: right;\">\n",
       "      <th></th>\n",
       "      <th>product_id</th>\n",
       "      <th>desc_normalized</th>\n",
       "      <th>target_names_prod_by_prod</th>\n",
       "    </tr>\n",
       "  </thead>\n",
       "  <tbody>\n",
       "    <tr>\n",
       "      <th>194</th>\n",
       "      <td>112.0</td>\n",
       "      <td>torteles</td>\n",
       "      <td>tortel</td>\n",
       "    </tr>\n",
       "    <tr>\n",
       "      <th>11211</th>\n",
       "      <td>9999.0</td>\n",
       "      <td>tortelini bolo esa</td>\n",
       "      <td>tortel</td>\n",
       "    </tr>\n",
       "    <tr>\n",
       "      <th>23951</th>\n",
       "      <td>9999.0</td>\n",
       "      <td>tortelini bolognesa</td>\n",
       "      <td>tortel</td>\n",
       "    </tr>\n",
       "    <tr>\n",
       "      <th>52522</th>\n",
       "      <td>9999.0</td>\n",
       "      <td>tortelini bolog esa</td>\n",
       "      <td>tortel</td>\n",
       "    </tr>\n",
       "    <tr>\n",
       "      <th>1509459</th>\n",
       "      <td>2999.0</td>\n",
       "      <td>min itorteles crudos encargo</td>\n",
       "      <td>tortel</td>\n",
       "    </tr>\n",
       "  </tbody>\n",
       "</table>\n",
       "</div>"
      ],
      "text/plain": [
       "         product_id               desc_normalized target_names_prod_by_prod\n",
       "194           112.0                      torteles                    tortel\n",
       "11211        9999.0            tortelini bolo esa                    tortel\n",
       "23951        9999.0           tortelini bolognesa                    tortel\n",
       "52522        9999.0           tortelini bolog esa                    tortel\n",
       "1509459      2999.0  min itorteles crudos encargo                    tortel"
      ]
     },
     "execution_count": 72,
     "metadata": {},
     "output_type": "execute_result"
    }
   ],
   "source": [
    "tortel = filter_tortel(unique_normalized_decriptions)\n",
    "\n",
    "tortel['target_names_prod_by_prod'] = 'tortel'\n",
    "list_of_dfs.append(tortel)\n",
    "tortel.head(5)"
   ]
  },
  {
   "cell_type": "markdown",
   "metadata": {},
   "source": [
    "#### 2.3.10 Matching: baguette"
   ]
  },
  {
   "cell_type": "code",
   "execution_count": 73,
   "metadata": {},
   "outputs": [],
   "source": [
    "def filter_baguette (df):\n",
    "    baguette = df[df['desc_normalized'].str.contains('baguette|baguete|baguet')].copy()\n",
    "    return baguette"
   ]
  },
  {
   "cell_type": "code",
   "execution_count": 74,
   "metadata": {},
   "outputs": [],
   "source": [
    "transaction_baguette = filter_baguette(df_with_normalized_descriptions_transactions)"
   ]
  },
  {
   "cell_type": "code",
   "execution_count": 75,
   "metadata": {},
   "outputs": [
    {
     "data": {
      "image/png": "[encoded data removed]",
      "text/plain": [
       "<Figure size 432x288 with 1 Axes>"
      ]
     },
     "metadata": {
      "needs_background": "light"
     },
     "output_type": "display_data"
    }
   ],
   "source": [
    "plot_count_per_id(transaction_baguette)"
   ]
  },
  {
   "cell_type": "code",
   "execution_count": 76,
   "metadata": {},
   "outputs": [
    {
     "name": "stdout",
     "output_type": "stream",
     "text": [
      "***Plotting id: 6016.0 \n",
      "-\n",
      "baguet piezas 5 horas         60306\n",
      "baguet (5 ma ana)              7942\n",
      "pan tostas barras                19\n",
      "barritas integrales piezas       19\n",
      "baguet multicereales             19\n",
      "Name: desc_normalized, dtype: int64\n",
      "\n",
      "***Plotting id: 115.0 \n",
      "-\n",
      "baguette mallorca                          47215\n",
      "baguett mallorca                           28177\n",
      "suizos piezas cocer a las 12 h                38\n",
      "baguette mallorca sin la oblea mallorca       19\n",
      "ensaimadas piezas cocer alas 12 h             19\n",
      "Name: desc_normalized, dtype: int64\n",
      "\n",
      "***Plotting id: 9999.0 \n",
      "-\n",
      "encargo                         25745\n",
      "juliana de verduras              7543\n",
      "juliana de pimientos             7505\n",
      "brandada de bacalao              5947\n",
      "encargo juliana de pimientos     4484\n",
      "Name: desc_normalized, dtype: int64\n",
      "\n",
      "***Plotting id: 102.0 \n",
      "-\n",
      "croissant frances                  86279\n",
      "croissant grandes largos piezas      646\n",
      "focaccias                            266\n",
      "chapatitas orio                      247\n",
      "mini hamburguesitas                  190\n",
      "Name: desc_normalized, dtype: int64\n",
      "\n",
      "***Plotting id: 103.0 \n",
      "-\n",
      "croissant petit               94259\n",
      "mini napolitanas crema         1824\n",
      "mini napolitanas chocolate     1748\n",
      "croissant normal petit         1216\n",
      "focaccias                       380\n",
      "Name: desc_normalized, dtype: int64\n",
      "\n",
      "***Plotting id: 112.0 \n",
      "-\n",
      "torteles                              82821\n",
      "baguet multicereales                    437\n",
      "ensaimadas piezas cocer a las 12 h      342\n",
      "focaccias                               228\n",
      "suizos piezas cocer alas 12 h           209\n",
      "Name: desc_normalized, dtype: int64\n",
      "\n",
      "***Plotting id: 2999.0 \n",
      "-\n",
      "mini torteles crudos        494\n",
      "mini ensaimadas en crudo    456\n",
      "mini ensaimadas crudas      437\n",
      "mini torteles en crudo      418\n",
      "especial bollos             418\n",
      "Name: desc_normalized, dtype: int64\n",
      "\n",
      "***Plotting id: 113.0 \n",
      "-\n",
      "suizos                             82574\n",
      "suizos a las 10 horas               1425\n",
      "suizos a las 12 horas                779\n",
      "suizos piezas                        114\n",
      "suizos piezas a las 12 00 horas       57\n",
      "Name: desc_normalized, dtype: int64\n",
      "\n",
      "***Plotting id: 40001.0 \n",
      "-\n",
      "baguet    5149\n",
      "Name: desc_normalized, dtype: int64\n",
      "\n",
      "***Plotting id: 101.0 \n",
      "-\n",
      "croissant                          72124\n",
      "croissant grandes largos piezas     8455\n",
      "suizos piezas cocer 10h             4142\n",
      "ensaimadas piezas cocer 10h         3458\n",
      "tira de focaccias                   2280\n",
      "Name: desc_normalized, dtype: int64\n",
      "\n",
      "***Plotting id: 8739.0 \n",
      "-\n",
      "baguette mallorca integral    11552\n",
      "corona integral                9348\n",
      "molde pan integral pq            19\n",
      "Name: desc_normalized, dtype: int64\n",
      "\n"
     ]
    }
   ],
   "source": [
    "for i in transaction_baguette['product_id'].unique():\n",
    "    to_print = df_with_normalized_descriptions_transactions[df_with_normalized_descriptions_transactions['product_id']==i]['desc_normalized'].value_counts().head()\n",
    "    print(\"***Plotting id: {} \".format(i))\n",
    "    print(\"-\")\n",
    "\n",
    "    print(to_print)\n",
    "    print(\"\")\n"
   ]
  },
  {
   "cell_type": "markdown",
   "metadata": {},
   "source": [
    "Per client indications we take id = 115.0 containing baguette"
   ]
  },
  {
   "cell_type": "code",
   "execution_count": 77,
   "metadata": {},
   "outputs": [
    {
     "data": {
      "text/html": [
       "<div>\n",
       "<style scoped>\n",
       "    .dataframe tbody tr th:only-of-type {\n",
       "        vertical-align: middle;\n",
       "    }\n",
       "\n",
       "    .dataframe tbody tr th {\n",
       "        vertical-align: top;\n",
       "    }\n",
       "\n",
       "    .dataframe thead th {\n",
       "        text-align: right;\n",
       "    }\n",
       "</style>\n",
       "<table border=\"1\" class=\"dataframe\">\n",
       "  <thead>\n",
       "    <tr style=\"text-align: right;\">\n",
       "      <th></th>\n",
       "      <th>product_id</th>\n",
       "      <th>desc_normalized</th>\n",
       "      <th>target_names_prod_by_prod</th>\n",
       "    </tr>\n",
       "  </thead>\n",
       "  <tbody>\n",
       "    <tr>\n",
       "      <th>192</th>\n",
       "      <td>115.0</td>\n",
       "      <td>baguett mallorca</td>\n",
       "      <td>baguette</td>\n",
       "    </tr>\n",
       "    <tr>\n",
       "      <th>12114017</th>\n",
       "      <td>115.0</td>\n",
       "      <td>baguette mallorca</td>\n",
       "      <td>baguette</td>\n",
       "    </tr>\n",
       "    <tr>\n",
       "      <th>13137000</th>\n",
       "      <td>115.0</td>\n",
       "      <td>baguette mallorca cocidas</td>\n",
       "      <td>baguette</td>\n",
       "    </tr>\n",
       "    <tr>\n",
       "      <th>23531473</th>\n",
       "      <td>115.0</td>\n",
       "      <td>baguette mallorca sin la oblea mallorca</td>\n",
       "      <td>baguette</td>\n",
       "    </tr>\n",
       "    <tr>\n",
       "      <th>23539287</th>\n",
       "      <td>115.0</td>\n",
       "      <td>baguette mallorcasin oblea mallorca</td>\n",
       "      <td>baguette</td>\n",
       "    </tr>\n",
       "  </tbody>\n",
       "</table>\n",
       "</div>"
      ],
      "text/plain": [
       "          product_id                          desc_normalized  \\\n",
       "192            115.0                         baguett mallorca   \n",
       "12114017       115.0                        baguette mallorca   \n",
       "13137000       115.0                baguette mallorca cocidas   \n",
       "23531473       115.0  baguette mallorca sin la oblea mallorca   \n",
       "23539287       115.0      baguette mallorcasin oblea mallorca   \n",
       "\n",
       "         target_names_prod_by_prod  \n",
       "192                       baguette  \n",
       "12114017                  baguette  \n",
       "13137000                  baguette  \n",
       "23531473                  baguette  \n",
       "23539287                  baguette  "
      ]
     },
     "execution_count": 77,
     "metadata": {},
     "output_type": "execute_result"
    }
   ],
   "source": [
    "baguette = unique_normalized_decriptions[unique_normalized_decriptions['product_id']==115.0].copy()\n",
    "baguette = baguette[baguette['desc_normalized'].str.contains('baguette|baguete|baguet')].copy()\n",
    "\n",
    "baguette['target_names_prod_by_prod'] = 'baguette'\n",
    "list_of_dfs.append(baguette)\n",
    "baguette.head(5)"
   ]
  },
  {
   "cell_type": "markdown",
   "metadata": {},
   "source": [
    "### Lets now concatenate results, merge them back to the  full list of normalized descriptions and evaluate its effectiveness"
   ]
  },
  {
   "cell_type": "code",
   "execution_count": 78,
   "metadata": {},
   "outputs": [],
   "source": [
    "# Lets concatenate the results:\n",
    "list_of_products_df = pd.concat(list_of_dfs, sort=False)"
   ]
  },
  {
   "cell_type": "code",
   "execution_count": 79,
   "metadata": {},
   "outputs": [],
   "source": [
    "df_desc_normalized_vs_prod_by_prod = pd.merge(df_with_normalized_descriptions_transactions, list_of_products_df,how='left',on=['desc_normalized','product_id'])"
   ]
  },
  {
   "cell_type": "code",
   "execution_count": 80,
   "metadata": {},
   "outputs": [],
   "source": [
    "# Merging test:"
   ]
  },
  {
   "cell_type": "code",
   "execution_count": 81,
   "metadata": {},
   "outputs": [
    {
     "name": "stdout",
     "output_type": "stream",
     "text": [
      "OK - 'df_with_normalized_descriptions_transactions' has the same size as 'df_with_normalized_descriptions_transactions' \n"
     ]
    }
   ],
   "source": [
    "#Control merge size:\n",
    "if (df_with_normalized_descriptions_transactions.shape[0] == df_desc_normalized_vs_prod_by_prod.shape[0] ): \n",
    "    test1 = \"OK - 'df_with_normalized_descriptions_transactions' has the same size as 'df_with_normalized_descriptions_transactions' \"\n",
    "else:\n",
    "    test1 = \"ERROR - 'df' has NOT the same size as 'df_desc_normalized_vs_prod_by_prod' \"\n",
    "\n",
    "print(test1)"
   ]
  },
  {
   "cell_type": "markdown",
   "metadata": {},
   "source": [
    "*NOTE:*\n",
    "\n",
    "During the first executions of code with the full transactions file, this error was failing; 'df' had less rows than 'df_with_normalized_descriptions_transactions'. The reason for this was not easy to identify, however digging we found that that in the normalized description two products descriptions ware naming two different products in the description, however this was not the case for the raw description (before the spell-cheacker):\n",
    "\n",
    "for example:\n",
    "- Normalized prod description: 'tarta mousse 3 chocolates de 20 raciones con escrito sobre la tarta manzana y mini felicidades'\n",
    "- Raw description: 'TARTA MOUSSE 3 CHOCOLATES DE 20 RACIONES CON ESCRITO SOBRE LA TARTA:  MARIANA Y DANI FELICIDADES'\n",
    "\n",
    "Basically, the spell-corrector was solving some problems; normalizing 'trata' , 'taaarta' under 'tarta', but adding a new one: normalizing words that it doesnt know, that may be a correct word, to a word that it knows: 'MARIANA' to 'manzana'... Ofcourse this is a weakness, however from the manual inspections that were performed, it doesnt seem to happen often.\n",
    "\n",
    "How we solve it by adding to the bakery products dataset: \n",
    "- A list of the most common male and female spanish names: in order to avoid confusion in the names\n",
    "\n",
    "sources of the datasets:\n",
    "- spanish names:https://www.ine.es/dyngs/INEbase/es/operacion.htm?c=Estadistica_C&cid=1254736177009&menu=resultados&secc=1254736195454&idp=1254734710990\n",
    "\n",
    "\n",
    "Also, in this case we added some names that we found to the excel; the right thing to do should we had more time, would be to polish the dataset, by adding not just mallorca catalogue and names, but also a book in spanish. Perhaps, it would also be interesting to applying NLP to identify NAMES from the product descriptions and add them to the products dataset..."
   ]
  },
  {
   "cell_type": "markdown",
   "metadata": {},
   "source": [
    "### 2.5 Test that data has not been corrputed\n",
    "\n",
    "To test the integrity of the data, the original dataset should be the same as the last dataset without that we added, in other words, without the columns with the normalized descriptuons, and the target names:"
   ]
  },
  {
   "cell_type": "code",
   "execution_count": 82,
   "metadata": {},
   "outputs": [
    {
     "name": "stdout",
     "output_type": "stream",
     "text": [
      "Original dataset shape: (30550252, 6)\n",
      "Resulting dataset shape: (30550252, 8)\n"
     ]
    }
   ],
   "source": [
    "# First, lets check the size of both dataframes:\n",
    "print(\"Original dataset shape: {}\".format(df.shape))\n",
    "print(\"Resulting dataset shape: {}\".format(df_desc_normalized_vs_prod_by_prod.shape))"
   ]
  },
  {
   "cell_type": "markdown",
   "metadata": {},
   "source": [
    "The shape looks good, we were expecting the resulting dataset to have to columns more. Lets now evauate if they are actually the same dataset if we remove the added columns:"
   ]
  },
  {
   "cell_type": "code",
   "execution_count": 83,
   "metadata": {},
   "outputs": [],
   "source": [
    "# Selecting original columnsd from the resulting df\n",
    "df_result = df_desc_normalized_vs_prod_by_prod.loc[:, df.columns]"
   ]
  },
  {
   "cell_type": "code",
   "execution_count": 84,
   "metadata": {},
   "outputs": [],
   "source": [
    "# Now, lets compare it with the original dataset, sorting them out in the same way:\n",
    "df_result_sorted = df_result.sort_values(by = ['order_date','store','description','product_id', 'units_ordered']).reset_index().drop('index', axis = 1)\n",
    "df_original_sorted = df.sort_values(by = ['order_date','store','description',  'product_id', 'units_ordered']).reset_index().drop('index', axis = 1)"
   ]
  },
  {
   "cell_type": "code",
   "execution_count": 85,
   "metadata": {},
   "outputs": [
    {
     "data": {
      "text/html": [
       "<div>\n",
       "<style scoped>\n",
       "    .dataframe tbody tr th:only-of-type {\n",
       "        vertical-align: middle;\n",
       "    }\n",
       "\n",
       "    .dataframe tbody tr th {\n",
       "        vertical-align: top;\n",
       "    }\n",
       "\n",
       "    .dataframe thead th {\n",
       "        text-align: right;\n",
       "    }\n",
       "</style>\n",
       "<table border=\"1\" class=\"dataframe\">\n",
       "  <thead>\n",
       "    <tr style=\"text-align: right;\">\n",
       "      <th></th>\n",
       "      <th>product_id</th>\n",
       "      <th>description</th>\n",
       "      <th>order_date</th>\n",
       "      <th>section</th>\n",
       "      <th>store</th>\n",
       "      <th>units_ordered</th>\n",
       "    </tr>\n",
       "  </thead>\n",
       "  <tbody>\n",
       "    <tr>\n",
       "      <th>0</th>\n",
       "      <td>615.0</td>\n",
       "      <td>ALASKAS FRAMBUESA</td>\n",
       "      <td>2008-01-01</td>\n",
       "      <td>0</td>\n",
       "      <td>AaUP</td>\n",
       "      <td>2,00</td>\n",
       "    </tr>\n",
       "    <tr>\n",
       "      <th>1</th>\n",
       "      <td>172.0</td>\n",
       "      <td>1/2 PAN DE MOLDE ENVUELTO</td>\n",
       "      <td>2008-01-01</td>\n",
       "      <td>0</td>\n",
       "      <td>AaUP</td>\n",
       "      <td>0,00</td>\n",
       "    </tr>\n",
       "    <tr>\n",
       "      <th>2</th>\n",
       "      <td>9999.0</td>\n",
       "      <td>3 RACIONES DE ENSALADA DE CAPON</td>\n",
       "      <td>2008-01-01</td>\n",
       "      <td>0</td>\n",
       "      <td>AaUP</td>\n",
       "      <td>0,00</td>\n",
       "    </tr>\n",
       "    <tr>\n",
       "      <th>3</th>\n",
       "      <td>9999.0</td>\n",
       "      <td>3 RACIONES VERDURAS SALTEADAS</td>\n",
       "      <td>2008-01-01</td>\n",
       "      <td>0</td>\n",
       "      <td>AaUP</td>\n",
       "      <td>0,00</td>\n",
       "    </tr>\n",
       "    <tr>\n",
       "      <th>4</th>\n",
       "      <td>3252.0</td>\n",
       "      <td>ACETATO 11 POOL                          NUEVO</td>\n",
       "      <td>2008-01-01</td>\n",
       "      <td>0</td>\n",
       "      <td>AaUP</td>\n",
       "      <td>0,00</td>\n",
       "    </tr>\n",
       "  </tbody>\n",
       "</table>\n",
       "</div>"
      ],
      "text/plain": [
       "   product_id                                     description  order_date  \\\n",
       "0       615.0                               ALASKAS FRAMBUESA  2008-01-01   \n",
       "1       172.0                       1/2 PAN DE MOLDE ENVUELTO  2008-01-01   \n",
       "2      9999.0                 3 RACIONES DE ENSALADA DE CAPON  2008-01-01   \n",
       "3      9999.0                   3 RACIONES VERDURAS SALTEADAS  2008-01-01   \n",
       "4      3252.0  ACETATO 11 POOL                          NUEVO  2008-01-01   \n",
       "\n",
       "   section store units_ordered  \n",
       "0        0  AaUP          2,00  \n",
       "1        0  AaUP          0,00  \n",
       "2        0  AaUP          0,00  \n",
       "3        0  AaUP          0,00  \n",
       "4        0  AaUP          0,00  "
      ]
     },
     "execution_count": 85,
     "metadata": {},
     "output_type": "execute_result"
    }
   ],
   "source": [
    "df_result_sorted.head()"
   ]
  },
  {
   "cell_type": "code",
   "execution_count": 86,
   "metadata": {},
   "outputs": [
    {
     "data": {
      "text/html": [
       "<div>\n",
       "<style scoped>\n",
       "    .dataframe tbody tr th:only-of-type {\n",
       "        vertical-align: middle;\n",
       "    }\n",
       "\n",
       "    .dataframe tbody tr th {\n",
       "        vertical-align: top;\n",
       "    }\n",
       "\n",
       "    .dataframe thead th {\n",
       "        text-align: right;\n",
       "    }\n",
       "</style>\n",
       "<table border=\"1\" class=\"dataframe\">\n",
       "  <thead>\n",
       "    <tr style=\"text-align: right;\">\n",
       "      <th></th>\n",
       "      <th>product_id</th>\n",
       "      <th>description</th>\n",
       "      <th>order_date</th>\n",
       "      <th>section</th>\n",
       "      <th>store</th>\n",
       "      <th>units_ordered</th>\n",
       "    </tr>\n",
       "  </thead>\n",
       "  <tbody>\n",
       "    <tr>\n",
       "      <th>0</th>\n",
       "      <td>615.0</td>\n",
       "      <td>ALASKAS FRAMBUESA</td>\n",
       "      <td>2008-01-01</td>\n",
       "      <td>0</td>\n",
       "      <td>AaUP</td>\n",
       "      <td>2,00</td>\n",
       "    </tr>\n",
       "    <tr>\n",
       "      <th>1</th>\n",
       "      <td>172.0</td>\n",
       "      <td>1/2 PAN DE MOLDE ENVUELTO</td>\n",
       "      <td>2008-01-01</td>\n",
       "      <td>0</td>\n",
       "      <td>AaUP</td>\n",
       "      <td>0,00</td>\n",
       "    </tr>\n",
       "    <tr>\n",
       "      <th>2</th>\n",
       "      <td>9999.0</td>\n",
       "      <td>3 RACIONES DE ENSALADA DE CAPON</td>\n",
       "      <td>2008-01-01</td>\n",
       "      <td>0</td>\n",
       "      <td>AaUP</td>\n",
       "      <td>0,00</td>\n",
       "    </tr>\n",
       "    <tr>\n",
       "      <th>3</th>\n",
       "      <td>9999.0</td>\n",
       "      <td>3 RACIONES VERDURAS SALTEADAS</td>\n",
       "      <td>2008-01-01</td>\n",
       "      <td>0</td>\n",
       "      <td>AaUP</td>\n",
       "      <td>0,00</td>\n",
       "    </tr>\n",
       "    <tr>\n",
       "      <th>4</th>\n",
       "      <td>3252.0</td>\n",
       "      <td>ACETATO 11 POOL                          NUEVO</td>\n",
       "      <td>2008-01-01</td>\n",
       "      <td>0</td>\n",
       "      <td>AaUP</td>\n",
       "      <td>0,00</td>\n",
       "    </tr>\n",
       "  </tbody>\n",
       "</table>\n",
       "</div>"
      ],
      "text/plain": [
       "   product_id                                     description  order_date  \\\n",
       "0       615.0                               ALASKAS FRAMBUESA  2008-01-01   \n",
       "1       172.0                       1/2 PAN DE MOLDE ENVUELTO  2008-01-01   \n",
       "2      9999.0                 3 RACIONES DE ENSALADA DE CAPON  2008-01-01   \n",
       "3      9999.0                   3 RACIONES VERDURAS SALTEADAS  2008-01-01   \n",
       "4      3252.0  ACETATO 11 POOL                          NUEVO  2008-01-01   \n",
       "\n",
       "   section store units_ordered  \n",
       "0        0  AaUP          2,00  \n",
       "1        0  AaUP          0,00  \n",
       "2        0  AaUP          0,00  \n",
       "3        0  AaUP          0,00  \n",
       "4        0  AaUP          0,00  "
      ]
     },
     "execution_count": 86,
     "metadata": {},
     "output_type": "execute_result"
    }
   ],
   "source": [
    "df_original_sorted.head()"
   ]
  },
  {
   "cell_type": "code",
   "execution_count": 87,
   "metadata": {},
   "outputs": [
    {
     "name": "stdout",
     "output_type": "stream",
     "text": [
      "OK - Original dataset is the similar to resulting dataset\n"
     ]
    }
   ],
   "source": [
    "# Now that they have the same columns, and are sorted using the same criteria, lets evaluate if they are the same:\n",
    "comparison_result = df_result_sorted.equals(df_original_sorted)\n",
    "\n",
    "if comparison_result == True:\n",
    "    test2 = 'OK - Original dataset is the similar to resulting dataset'\n",
    "else:\n",
    "     test2 ='ERROR - Original dataset NOT found'\n",
    "\n",
    "print(test2)"
   ]
  },
  {
   "cell_type": "markdown",
   "metadata": {},
   "source": [
    "### 2.6 Filter dataset to only include the products from the list provided by the client, and save to csv"
   ]
  },
  {
   "cell_type": "code",
   "execution_count": 88,
   "metadata": {},
   "outputs": [],
   "source": [
    "df_target_products = df_desc_normalized_vs_prod_by_prod[~df_desc_normalized_vs_prod_by_prod['target_names_prod_by_prod'].isnull()]\n",
    "df_other_products = df_desc_normalized_vs_prod_by_prod[df_desc_normalized_vs_prod_by_prod['target_names_prod_by_prod'].isnull()]"
   ]
  },
  {
   "cell_type": "code",
   "execution_count": 89,
   "metadata": {},
   "outputs": [
    {
     "data": {
      "text/html": [
       "<div>\n",
       "<style scoped>\n",
       "    .dataframe tbody tr th:only-of-type {\n",
       "        vertical-align: middle;\n",
       "    }\n",
       "\n",
       "    .dataframe tbody tr th {\n",
       "        vertical-align: top;\n",
       "    }\n",
       "\n",
       "    .dataframe thead th {\n",
       "        text-align: right;\n",
       "    }\n",
       "</style>\n",
       "<table border=\"1\" class=\"dataframe\">\n",
       "  <thead>\n",
       "    <tr style=\"text-align: right;\">\n",
       "      <th></th>\n",
       "      <th>product_id</th>\n",
       "      <th>description</th>\n",
       "      <th>order_date</th>\n",
       "      <th>section</th>\n",
       "      <th>store</th>\n",
       "      <th>units_ordered</th>\n",
       "      <th>desc_normalized</th>\n",
       "      <th>target_names_prod_by_prod</th>\n",
       "    </tr>\n",
       "  </thead>\n",
       "  <tbody>\n",
       "    <tr>\n",
       "      <th>73</th>\n",
       "      <td>103.0</td>\n",
       "      <td>MINI  NAPOLITANAS   CREMA</td>\n",
       "      <td>2008-01-01</td>\n",
       "      <td>0</td>\n",
       "      <td>AeUP</td>\n",
       "      <td>0,00</td>\n",
       "      <td>mini napolitanas crema</td>\n",
       "      <td>croissant petit</td>\n",
       "    </tr>\n",
       "    <tr>\n",
       "      <th>74</th>\n",
       "      <td>103.0</td>\n",
       "      <td>MINI  NAPOLITANAS  CHOCOLATE</td>\n",
       "      <td>2008-01-01</td>\n",
       "      <td>0</td>\n",
       "      <td>AeUP</td>\n",
       "      <td>0,00</td>\n",
       "      <td>mini napolitanas chocolate</td>\n",
       "      <td>croissant petit</td>\n",
       "    </tr>\n",
       "    <tr>\n",
       "      <th>75</th>\n",
       "      <td>103.0</td>\n",
       "      <td>FOCACCIAS   FUTBOL</td>\n",
       "      <td>2008-01-01</td>\n",
       "      <td>0</td>\n",
       "      <td>AeUP</td>\n",
       "      <td>0,00</td>\n",
       "      <td>focaccias futbol</td>\n",
       "      <td>croissant petit</td>\n",
       "    </tr>\n",
       "    <tr>\n",
       "      <th>97</th>\n",
       "      <td>414.0</td>\n",
       "      <td>TARTA  MILHOJAS   FRAMBUESA  2º</td>\n",
       "      <td>2008-01-01</td>\n",
       "      <td>0</td>\n",
       "      <td>AeUP</td>\n",
       "      <td>0,00</td>\n",
       "      <td>tarta milhojas frambuesa 2º</td>\n",
       "      <td>milhojas frambuesa</td>\n",
       "    </tr>\n",
       "    <tr>\n",
       "      <th>98</th>\n",
       "      <td>414.0</td>\n",
       "      <td>TARTA  MUS  TRES  CHOCOLATES  2º</td>\n",
       "      <td>2008-01-01</td>\n",
       "      <td>0</td>\n",
       "      <td>AeUP</td>\n",
       "      <td>0,00</td>\n",
       "      <td>tarta mus tres chocolates 2º</td>\n",
       "      <td>mousse tres chocolates</td>\n",
       "    </tr>\n",
       "  </tbody>\n",
       "</table>\n",
       "</div>"
      ],
      "text/plain": [
       "    product_id                       description  order_date  section store  \\\n",
       "73       103.0         MINI  NAPOLITANAS   CREMA  2008-01-01        0  AeUP   \n",
       "74       103.0      MINI  NAPOLITANAS  CHOCOLATE  2008-01-01        0  AeUP   \n",
       "75       103.0                FOCACCIAS   FUTBOL  2008-01-01        0  AeUP   \n",
       "97       414.0   TARTA  MILHOJAS   FRAMBUESA  2º  2008-01-01        0  AeUP   \n",
       "98       414.0  TARTA  MUS  TRES  CHOCOLATES  2º  2008-01-01        0  AeUP   \n",
       "\n",
       "   units_ordered               desc_normalized target_names_prod_by_prod  \n",
       "73          0,00        mini napolitanas crema           croissant petit  \n",
       "74          0,00    mini napolitanas chocolate           croissant petit  \n",
       "75          0,00              focaccias futbol           croissant petit  \n",
       "97          0,00   tarta milhojas frambuesa 2º        milhojas frambuesa  \n",
       "98          0,00  tarta mus tres chocolates 2º    mousse tres chocolates  "
      ]
     },
     "execution_count": 89,
     "metadata": {},
     "output_type": "execute_result"
    }
   ],
   "source": [
    "df_target_products_file_name = exit_path + 'filtered_transactions_not_clean.csv' \n",
    "df_target_products.to_csv(df_target_products_file_name, index = False, sep = ';' )\n",
    "df_target_products.head()"
   ]
  },
  {
   "cell_type": "code",
   "execution_count": 90,
   "metadata": {},
   "outputs": [
    {
     "data": {
      "text/html": [
       "<div>\n",
       "<style scoped>\n",
       "    .dataframe tbody tr th:only-of-type {\n",
       "        vertical-align: middle;\n",
       "    }\n",
       "\n",
       "    .dataframe tbody tr th {\n",
       "        vertical-align: top;\n",
       "    }\n",
       "\n",
       "    .dataframe thead th {\n",
       "        text-align: right;\n",
       "    }\n",
       "</style>\n",
       "<table border=\"1\" class=\"dataframe\">\n",
       "  <thead>\n",
       "    <tr style=\"text-align: right;\">\n",
       "      <th></th>\n",
       "      <th>product_id</th>\n",
       "      <th>description</th>\n",
       "      <th>order_date</th>\n",
       "      <th>section</th>\n",
       "      <th>store</th>\n",
       "      <th>units_ordered</th>\n",
       "      <th>desc_normalized</th>\n",
       "      <th>target_names_prod_by_prod</th>\n",
       "    </tr>\n",
       "  </thead>\n",
       "  <tbody>\n",
       "    <tr>\n",
       "      <th>0</th>\n",
       "      <td>201.0</td>\n",
       "      <td>EMPANADA GALLEGA SALMON</td>\n",
       "      <td>2008-01-01</td>\n",
       "      <td>0</td>\n",
       "      <td>GrUP</td>\n",
       "      <td>2,00</td>\n",
       "      <td>empanada gallega salmon</td>\n",
       "      <td>NaN</td>\n",
       "    </tr>\n",
       "    <tr>\n",
       "      <th>1</th>\n",
       "      <td>611.0</td>\n",
       "      <td>CABELLO</td>\n",
       "      <td>2008-01-01</td>\n",
       "      <td>0</td>\n",
       "      <td>AeUP</td>\n",
       "      <td>0,00</td>\n",
       "      <td>cabello</td>\n",
       "      <td>NaN</td>\n",
       "    </tr>\n",
       "    <tr>\n",
       "      <th>2</th>\n",
       "      <td>610.0</td>\n",
       "      <td>MANZANA</td>\n",
       "      <td>2008-01-01</td>\n",
       "      <td>0</td>\n",
       "      <td>AeUP</td>\n",
       "      <td>0,00</td>\n",
       "      <td>manzana</td>\n",
       "      <td>NaN</td>\n",
       "    </tr>\n",
       "    <tr>\n",
       "      <th>3</th>\n",
       "      <td>609.0</td>\n",
       "      <td>COCO</td>\n",
       "      <td>2008-01-01</td>\n",
       "      <td>0</td>\n",
       "      <td>AeUP</td>\n",
       "      <td>0,00</td>\n",
       "      <td>coco</td>\n",
       "      <td>NaN</td>\n",
       "    </tr>\n",
       "    <tr>\n",
       "      <th>4</th>\n",
       "      <td>608.0</td>\n",
       "      <td>CANUTILLOS</td>\n",
       "      <td>2008-01-01</td>\n",
       "      <td>0</td>\n",
       "      <td>AeUP</td>\n",
       "      <td>0,00</td>\n",
       "      <td>canutillos</td>\n",
       "      <td>NaN</td>\n",
       "    </tr>\n",
       "  </tbody>\n",
       "</table>\n",
       "</div>"
      ],
      "text/plain": [
       "   product_id              description  order_date  section store  \\\n",
       "0       201.0  EMPANADA GALLEGA SALMON  2008-01-01        0  GrUP   \n",
       "1       611.0                  CABELLO  2008-01-01        0  AeUP   \n",
       "2       610.0                  MANZANA  2008-01-01        0  AeUP   \n",
       "3       609.0                     COCO  2008-01-01        0  AeUP   \n",
       "4       608.0               CANUTILLOS  2008-01-01        0  AeUP   \n",
       "\n",
       "  units_ordered          desc_normalized target_names_prod_by_prod  \n",
       "0          2,00  empanada gallega salmon                       NaN  \n",
       "1          0,00                  cabello                       NaN  \n",
       "2          0,00                  manzana                       NaN  \n",
       "3          0,00                     coco                       NaN  \n",
       "4          0,00               canutillos                       NaN  "
      ]
     },
     "execution_count": 90,
     "metadata": {},
     "output_type": "execute_result"
    }
   ],
   "source": [
    "unfiltered_products_file_name = exit_path + 'unfiltered_transactions.csv' \n",
    "df_other_products.to_csv(unfiltered_products_file_name, index = False, sep = ';' )\n",
    "df_other_products.head()"
   ]
  },
  {
   "cell_type": "markdown",
   "metadata": {},
   "source": [
    "# ERROR CONTROL"
   ]
  },
  {
   "cell_type": "code",
   "execution_count": 92,
   "metadata": {},
   "outputs": [
    {
     "name": "stdout",
     "output_type": "stream",
     "text": [
      "OK - 'df' has the same size as 'df_with_normalized_descriptions_transactions' \n",
      "OK - 'df_with_normalized_descriptions_transactions' has the same size as 'df_with_normalized_descriptions_transactions' \n",
      "OK - Original dataset is the similar to resulting dataset\n"
     ]
    }
   ],
   "source": [
    "print(test0)\n",
    "print(test1)\n",
    "print(test2)"
   ]
  },
  {
   "cell_type": "code",
   "execution_count": null,
   "metadata": {},
   "outputs": [],
   "source": []
  }
 ],
 "metadata": {
  "kernelspec": {
   "display_name": "kschool-final-project",
   "language": "python",
   "name": "kschool-final-project"
  },
  "language_info": {
   "codemirror_mode": {
    "name": "ipython",
    "version": 2
   },
   "file_extension": ".py",
   "mimetype": "text/x-python",
   "name": "python",
   "nbconvert_exporter": "python",
   "pygments_lexer": "ipython2",
   "version": "2.7.10"
  }
 },
 "nbformat": 4,
 "nbformat_minor": 2
}
