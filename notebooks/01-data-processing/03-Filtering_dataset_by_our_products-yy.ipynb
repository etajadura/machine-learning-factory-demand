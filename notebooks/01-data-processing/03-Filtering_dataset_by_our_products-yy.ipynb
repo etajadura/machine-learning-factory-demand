{
 "cells": [
  {
   "cell_type": "markdown",
   "metadata": {},
   "source": [
    "# FILTERING THE DATASET BY OUR PRODUCTS:"
   ]
  },
  {
   "cell_type": "code",
   "execution_count": 4,
   "metadata": {},
   "outputs": [],
   "source": [
    "# Importing packages:\n",
    "\n",
    "import pandas as pd\n",
    "import matplotlib.pyplot as plt\n",
    "import numpy as np\n",
    "\n",
    "%matplotlib inline"
   ]
  },
  {
   "cell_type": "code",
   "execution_count": 5,
   "metadata": {},
   "outputs": [],
   "source": [
    "# Defining the search path of the file, the name and the separator:\n",
    "\n",
    "file_path = \"../../data/01_raw/\"\n",
    "file_name = \"b2-transactions.csv\"\n",
    "\n",
    "sep=\";\""
   ]
  },
  {
   "cell_type": "code",
   "execution_count": 93,
   "metadata": {},
   "outputs": [],
   "source": [
    "# We create the list of selected products, and will try with it to obtain the values of the ids of the indicated products:\n",
    "\n",
    "list_of_products=['croissant',\n",
    "                  'croissant petit',\n",
    "                  'tarta mousse 3 chocolates',\n",
    "                  'tarta de manzana 2º',\n",
    "                  'palmera', \n",
    "                  'tarta opera',\n",
    "                  'postre fresas y mascarpone',\n",
    "                  'milhojas frambuesa 2º',\n",
    "                  'tortel',\n",
    "                  'baguette']"
   ]
  },
  {
   "cell_type": "code",
   "execution_count": 106,
   "metadata": {
    "scrolled": true
   },
   "outputs": [],
   "source": [
    "# We import the dataframe:\n",
    "\n",
    "df=pd.read_csv(file_path+file_name, nrows=1000000, sep=sep)"
   ]
  },
  {
   "cell_type": "code",
   "execution_count": 107,
   "metadata": {},
   "outputs": [],
   "source": [
    "# According to what we saw in the previous notebook, we have to do some cleaning:\n",
    "\n",
    "df.dropna(how='any', inplace=True)\n",
    "df=df.drop('Unnamed: 0', axis=1)"
   ]
  },
  {
   "cell_type": "code",
   "execution_count": 108,
   "metadata": {},
   "outputs": [],
   "source": [
    "# Most of the descriptions are in uppercase, we first reduce everything to lowercase:\n",
    "\n",
    "df['description_lower']=df['description'].str.lower()"
   ]
  },
  {
   "cell_type": "code",
   "execution_count": 109,
   "metadata": {
    "scrolled": true
   },
   "outputs": [],
   "source": [
    "# Now we construct the dictionaries of the selected ids and descriptions that each product of the list finds:\n",
    "\n",
    "# What you are seeing is the final version both of the list of the selected products, and the way they are looked for in the\n",
    "# dataframe. We started looking within the string of the description, with a \".contains\", but it was noticed that startswith \n",
    "# was more suited for the job. Also, the values in the list of the products were changed in order to capture more names\n",
    "# each time:\n",
    "\n",
    "rel_prod_list_ids=dict()\n",
    "rel_prod_list_descrip=dict()\n",
    "\n",
    "for product in list_of_products:\n",
    "    rel_prod_list_ids[product]=df[df['description_lower'].str.startswith(product)]['product_id'].unique()\n",
    "    rel_prod_list_descrip[product]=df[df['description_lower'].str.startswith(product)]['description_lower'].unique()"
   ]
  },
  {
   "cell_type": "code",
   "execution_count": 110,
   "metadata": {},
   "outputs": [
    {
     "data": {
      "text/html": [
       "<div>\n",
       "<style scoped>\n",
       "    .dataframe tbody tr th:only-of-type {\n",
       "        vertical-align: middle;\n",
       "    }\n",
       "\n",
       "    .dataframe tbody tr th {\n",
       "        vertical-align: top;\n",
       "    }\n",
       "\n",
       "    .dataframe thead th {\n",
       "        text-align: right;\n",
       "    }\n",
       "</style>\n",
       "<table border=\"1\" class=\"dataframe\">\n",
       "  <thead>\n",
       "    <tr style=\"text-align: right;\">\n",
       "      <th></th>\n",
       "      <th>product_id</th>\n",
       "      <th>order_date</th>\n",
       "      <th>section</th>\n",
       "      <th>store</th>\n",
       "      <th>units_ordered</th>\n",
       "      <th>description_lower</th>\n",
       "    </tr>\n",
       "    <tr>\n",
       "      <th>description</th>\n",
       "      <th></th>\n",
       "      <th></th>\n",
       "      <th></th>\n",
       "      <th></th>\n",
       "      <th></th>\n",
       "      <th></th>\n",
       "    </tr>\n",
       "  </thead>\n",
       "  <tbody>\n",
       "    <tr>\n",
       "      <th>CROISSANT ALMENDRA LARGO</th>\n",
       "      <td>107.0</td>\n",
       "      <td>3/9/2019 0:00:00</td>\n",
       "      <td>0</td>\n",
       "      <td>BmUP</td>\n",
       "      <td>0,00</td>\n",
       "      <td>croissant almendra largo</td>\n",
       "    </tr>\n",
       "    <tr>\n",
       "      <th>CROISSANT VACIOS</th>\n",
       "      <td>107.0</td>\n",
       "      <td>16/6/2009 0:00:00</td>\n",
       "      <td>0</td>\n",
       "      <td>BmUP</td>\n",
       "      <td>3,00</td>\n",
       "      <td>croissant vacios</td>\n",
       "    </tr>\n",
       "  </tbody>\n",
       "</table>\n",
       "</div>"
      ],
      "text/plain": [
       "                          product_id         order_date  section store  \\\n",
       "description                                                              \n",
       "CROISSANT ALMENDRA LARGO       107.0   3/9/2019 0:00:00        0  BmUP   \n",
       "CROISSANT VACIOS               107.0  16/6/2009 0:00:00        0  BmUP   \n",
       "\n",
       "                         units_ordered         description_lower  \n",
       "description                                                       \n",
       "CROISSANT ALMENDRA LARGO          0,00  croissant almendra largo  \n",
       "CROISSANT VACIOS                  3,00          croissant vacios  "
      ]
     },
     "execution_count": 110,
     "metadata": {},
     "output_type": "execute_result"
    }
   ],
   "source": [
    "# For minor, additional checks:\n",
    "\n",
    "df[df['product_id']==107].groupby('description').first()"
   ]
  },
  {
   "cell_type": "code",
   "execution_count": 111,
   "metadata": {},
   "outputs": [
    {
     "data": {
      "text/plain": [
       "{'croissant': array([ 102.,  103.,  105.,  107.,  101.,  132., 5001.,  100.,  214.,\n",
       "         189.,  198.,  197., 9999.,  513.,  512.,  112.]),\n",
       " 'croissant petit': array([103., 102.]),\n",
       " 'tarta mousse 3 chocolates': array([9999.,  453.]),\n",
       " 'tarta de manzana 2º': array([462.]),\n",
       " 'palmera': array([ 140.,  182.,  190., 9999.,  141.]),\n",
       " 'tarta opera': array([ 9999.,   414.,   426.,   427.,   403., 14998.,   402.]),\n",
       " 'postre fresas y mascarpone': array([4511., 9999.]),\n",
       " 'milhojas frambuesa 2º': array([459.]),\n",
       " 'tortel': array([ 112., 3352., 9999., 3375.]),\n",
       " 'baguette': array([ 115., 8739., 9999.])}"
      ]
     },
     "execution_count": 111,
     "metadata": {},
     "output_type": "execute_result"
    }
   ],
   "source": [
    "# This is the dictionary with the word and its associated codes:\n",
    "\n",
    "rel_prod_list_ids"
   ]
  },
  {
   "cell_type": "code",
   "execution_count": 112,
   "metadata": {
    "collapsed": true
   },
   "outputs": [
    {
     "data": {
      "text/plain": [
       "array(['tarta opera del 2 escrito sobre la trta felicidades rafael ',\n",
       "       'tarta opera del 2º con cartel \"felicidades\"',\n",
       "       'tarta opera 5º con cartel \"felicidades lili\" y adornada con frutas naturales',\n",
       "       'tarta opera 2º', 'tarta opera del 5º',\n",
       "       'tarta opera del 4º con cartel \" felicidades dolly \"',\n",
       "       'tarta opera del 2º con cartel \" felicidades raul \"',\n",
       "       'tarta opera del 4º con cartel que ponga \"felicidades gaës\" (ojo que la letra e lleva dieresis)',\n",
       "       'tarta opera del 2º escrito encima \" happy birthay nano  aba y papa \"',\n",
       "       'tarta opera 2º escrito en un cartel felicidades 18',\n",
       "       'tarta opera 3º',\n",
       "       'tarta opera 32 rac. escrito sobre la tarta \" felicidades jose. feliz 60 cumpleaños\"ccccccccccc',\n",
       "       'tarta opera del 4  con cartel escrito- hugo y mar, muchas felicidades de vuestra familia-',\n",
       "       'tarta opera 5º', 'tarta opera 2º felicidades alejandra',\n",
       "       'tarta opera del 6º escrito feliz cumpleaños',\n",
       "       'tarta opera 10 raciones',\n",
       "       'tarta opera de 20 raciones-escrito en la tarta: medio siglo',\n",
       "       'tarta opera del 4º',\n",
       "       'tarta opera del 8 escrito con chocolate blanco muchas feliciddes ',\n",
       "       'tarta opera de 20 raciones escrito sobre la tarta - ivan tu eres el mas grande-- dibujar alguna nota',\n",
       "       'tarta opera  6 r/', 'tarta opera del 3',\n",
       "       'tarta opera del 3. sin adorno',\n",
       "       'tarta opera 2º \" felicidades juanjo\"',\n",
       "       'tarta opera del 2, escrito sobre la tarta -happy birthday dearbunty-',\n",
       "       'tarta opera 3 cartel felicidades marina', 'tarta opera 5',\n",
       "       'tarta opera 5º  escrito en la tarta \" mireilla 12 mayo 2012 día de mi primera comunión\"',\n",
       "       'tarta opera 4 felicidades natalia',\n",
       "       'tarta opera 8 isabel , muchas gracias por estos 40 años ',\n",
       "       'tarta opera 5. escrito en la tarta-  mohamed, mahmoud, bedr, shog, raghd.',\n",
       "       'tarta opera 2 felicidades kino',\n",
       "       'tarta opera 6º escrito sobre pergamino \" muchas felicidades mireia, 29-septiembre-1952, 29 septiembr',\n",
       "       'tarta opera 50 rac', 'tarta opera escrito happy b day kala',\n",
       "       'tarta opera del 5', 'tarta opera del 3º',\n",
       "       'tarta opera de 20 rac / escrito en la tarta  \"16 años \"',\n",
       "       'tarta opera del 2. felicidades rous  ',\n",
       "       'tarta opera de 20 raciones', 'tarta opera del 4ª(16 rac)',\n",
       "       'tarta opera de 10 raciones- escrito sobre la tarta: felicidades papa',\n",
       "       'tarta opera de 10 raciones-escrito encima de la tarta: feliz cumpleaños maki',\n",
       "       'tarta opera del 3 - felicidades mama-',\n",
       "       'tarta opera del 3 con dibujo hecho sobre chocolatina',\n",
       "       'tarta opera de 24 rac escrito sobre la tarta felicidades',\n",
       "       'tarta opera 3 con cartel feliz cumpleaños pablo',\n",
       "       'tarta opera  8.', 'tarta opera de 20 rac',\n",
       "       'tarta opera de 6 raciones con cartel felicidades noemi',\n",
       "       'tarta opera 64 raciones',\n",
       "       'tarta opera 1º dibujado encima de la tarta en chocolate blanco 1 corazon y que ponga encima de la ta',\n",
       "       'tarta opera 1º dibujado encima de la tarta en chocolate blanco un corazon y que ponga \" i need your ',\n",
       "       'tarta opera 6º', 'tarta opera del 6º',\n",
       "       'tarta opera 6 rac. con cartel chocolate \"felicidades\"',\n",
       "       'tarta opera del -5-, 20rac, escrito en la tarta --felicidades luis y carmen --',\n",
       "       'tarta opera 4º',\n",
       "       'tarta opera del 3º con cartel \"felicidades alejandro\" - con algun muñequito infantil de adorno',\n",
       "       'tarta opera  2º',\n",
       "       'tarta opera del 2. escrito sobre la tarta , bego felicidades',\n",
       "       'tarta opera del 2º escrito sobre la tarta \" felicidades juan y mercedes \"',\n",
       "       'tarta opera 10 rac',\n",
       "       'tarta opera del 3 cartel - felicidades paquita y felicidades ana -',\n",
       "       'tarta opera del 4 escrito sobre la tarta - felicidades hugo y mar. de papa y mama-',\n",
       "       'tarta opera 2 escrito felicidades',\n",
       "       'tarta opera del 5. escrito sobre la tarta - muchas  felicidades vera - ',\n",
       "       'tarta opera 6 raciones',\n",
       "       'tarta opera del 8 escrito feliz compleaños patrick',\n",
       "       'tarta opera del 3º -cubierta los bordes de alrededor de merengue y una chocolatina con el dibujo de ',\n",
       "       'tarta opera del 4', 'tarta opera del 8º de 32 r/.',\n",
       "       'tarta opera 3 escrito sobre ella felicidades beatriz',\n",
       "       'tarta opera del tercero',\n",
       "       'tarta opera del 4. escrito sobre la tarta - felicidades jose maria -',\n",
       "       'tarta opera del 3 escrito sobre ella - cristina, mucha suerte en tu nueva etapa-',\n",
       "       'tarta opera del 2 infantil con cartel felicidades marina y una casita de chocolate',\n",
       "       'tarta opera 6',\n",
       "       'tarta opera del 3º con un cartel \"muchas felicidades silvia y belen\"',\n",
       "       'tarta opera del 4 con logotipo sobre la tarta en gelatina',\n",
       "       'tarta opera del 2 y escrito en la tarta feliz cumpleaños maria rosa',\n",
       "       'tarta opera del 3 y cartel felicidades carlotta',\n",
       "       'tarta opera del 3º felicidades marcial',\n",
       "       'tarta opera del 4. escrito sobre la tarta - hugo y mar felicidades os queremos mucho-',\n",
       "       'tarta opera boda  -- castillo',\n",
       "       'tarta opera del 2 escrito felicidades, debajo, raquel y  debajo de raquel poner vania',\n",
       "       'tarta opera 3 escrito encima - feliz cumpleaños-',\n",
       "       'tarta opera -5-, 20 rac',\n",
       "       'tarta opera del 4 con cartel - felicidades jose maria -',\n",
       "       'tarta opera del 3º escrito en la tarta \" felicidades carlis\"',\n",
       "       'tarta opera del 2 y escrito felicidades laura 27',\n",
       "       'tarta opera del 3 y escrito felicidades laura 27',\n",
       "       'tarta opera del 3 y escrito felicidades ana',\n",
       "       'tarta opera del 2 y cartel belen', 'tarta opera del -5- 20rac',\n",
       "       'tarta opera del 3º escrito sobre la tarta \" felicidades javier\"',\n",
       "       'tarta opera del 2º', 'tarta opera del 2º feliz cumpleaños luli',\n",
       "       'tarta opera 5º cartel \"felicidades jose maria\"',\n",
       "       'tarta opera del 2º  con cartel que ponga  felicidades nuria  encargo',\n",
       "       'tarta opera 4º  escrito sobre la tarta felicidades claudia',\n",
       "       'tarta opera del 5º \" felicidades papuchi \"',\n",
       "       'tarta opera del 2º  --escrito felicidades',\n",
       "       'tarta opera 3º -feliz cumpleaños',\n",
       "       'tarta opera del 3º escrito vuela entrenado nadie tiene una respuest asegurada y dibujo de avion ( ag',\n",
       "       'tarta opera 3º escrito en la tarta \" felicidades martin\"',\n",
       "       'tarta opera del 3º escrito en la tarta \" felicidades maria \"',\n",
       "       'tarta opera del 6º con dibujo del cliente que enviamos a david',\n",
       "       'tarta opera 2º escrito en la tarta \"felicidades\"',\n",
       "       'tarta opera 3º que ponga \"felicidades marcos\"',\n",
       "       'tarta opera 2º escrito en la tarta \"felicidades marga\"',\n",
       "       'tarta opera 6º escrito en la tarta\"felicidades valeria y nacho\" muy decoradora',\n",
       "       'tarta opera del 5º  con chocolatina escrita \" es tu año, felicidades ruth \"',\n",
       "       'tarta opera del 5º con un cartel en  chocolatina grande que ponga \"tus primeros 80\"',\n",
       "       'tarta opera del 2º \" felicidades \"',\n",
       "       'tarta opera 2 con cartel felicidades javier',\n",
       "       'tarta opera 4º escrito sobre la tarta \" felicidades\"',\n",
       "       'tarta opera 4º( 16 rac*)'], dtype=object)"
      ]
     },
     "execution_count": 112,
     "metadata": {},
     "output_type": "execute_result"
    }
   ],
   "source": [
    "# The same but with the descriptions: Just for checks:\n",
    "\n",
    "rel_prod_list_descrip[list_of_products[5]]"
   ]
  },
  {
   "cell_type": "code",
   "execution_count": 105,
   "metadata": {
    "collapsed": true
   },
   "outputs": [
    {
     "data": {
      "text/plain": [
       "array(['POSTRE MOUSSE TRES CHOCOLATES',\n",
       "       'POSTRE VIRUTA CHOCOLATE  RECTANGULAR',\n",
       "       'POSTRES  MILHOJAS  NATA CREMA',\n",
       "       'POSTRE MILHOJAS  FRAMBUESA RECTANGULAR',\n",
       "       'POSTRE MILHOJASM  FRAMBUESA',\n",
       "       'POSTRE MILHOJAS FRAMBUESA  rectangulares',\n",
       "       'POSTRE MILHOJAS FRAMBUESA  RECTANGULAR',\n",
       "       'POSTRE MILHOJAS  CON FRUTAS  SURTIDAS  RECTANGULAR',\n",
       "       'POSTRES  YOGUR  Y MUESLI', 'POSTRE  YEMA  TOSTADA',\n",
       "       'POSTRE   CHEESCAKE', 'POSTRE  SELVA NEGRA',\n",
       "       'POSTRE MILHOJAS  FRAMBUESA',\n",
       "       'POSTRE RECTANGULAR MANZANA  PRALINE',\n",
       "       'POSTRE  MILHOJAS FRAMBUESA  RECTANGULAR',\n",
       "       'POSTRES  MILHOJAS  FRAMBUESA  RECTANGULAR',\n",
       "       'POSTRE MANZANA PRALINE', 'POSTRE  YOGUR', 'POSTRE  CHESE',\n",
       "       'POSTRE  SELVA  NEGRA', 'POSTRE  VIRUTA CHOCOLATE  RECTANGULAR',\n",
       "       'POSTRE MILHOJAS  FRUTAS  SURTIDAS', 'POSTRE  CHEESECAKE',\n",
       "       'POSTRE  SAN MARCOS', 'POSTRE MILHOJAS   FRAMBUESA',\n",
       "       'POSTRE MOUSSE TRES CHOCOLATES  CON CANUTILLO BLANCO Y CHOCOLATEINA DE MALLORCA',\n",
       "       'POSTRE  DE LIMON   CON MERENGUE',\n",
       "       'POSTRE  CHEESECAKE  -  QUESO -',\n",
       "       'POSTRE rectangular manzana  y praline',\n",
       "       'POSTRES  MILHOJAS   FRAMBUESA', 'POSTRE Milhojas  frambuesa',\n",
       "       'PASTELES  TARTA  QUESO  FUTBOL', 'POSTRES   SELVA NEGRA',\n",
       "       'POSTRE MILHOJAS  SOLO  CREMA', 'POSTRE  LIMON',\n",
       "       'POSTRE   CHEESECAKE', 'POSTRE Milhojas', 'POSTRE san marcos',\n",
       "       'POSTRES  SELVA NEGRA', 'POSTRES MILHOJAS  NATA Y CREMA',\n",
       "       'POSTRE MILHOJAS', 'postres   selva negra', 'POSTRE   SAN MARCOS',\n",
       "       'POSTRE   SELVA  NEGRA', 'POSTRE MILHOJAS   RECTANGULAR',\n",
       "       'POSTRE VIRUTA CHOCOLATE', 'POSTRE SELVA NEGRA',\n",
       "       'POSTRE RECTANGULAR MILHOJAS  FRAMBUESA'], dtype=object)"
      ]
     },
     "execution_count": 105,
     "metadata": {},
     "output_type": "execute_result"
    }
   ],
   "source": [
    "# For some additional checks:\n",
    "\n",
    "df[df['product_id']==450]['description'].unique()"
   ]
  },
  {
   "cell_type": "code",
   "execution_count": 114,
   "metadata": {},
   "outputs": [],
   "source": [
    "# At end, we reach the following conclussions:\n",
    "\n",
    "dict_of_products={'croissant': 100, # tengo muchas dudas, creo que haría la suma de 100+101+102\n",
    "                  'croissant petit': 103,\n",
    "                  'tarta mousse 3 chocolates': 9999, # esta está prácticamente sólo por encargo\n",
    "                  'tarta de manzana 2º': 462,\n",
    "                  'palmeras de trufa': 182, # palmeras: 140\n",
    "                  'tarta opera': 414, # 9999, por encargo la mayoría\n",
    "                  'postre fresas y mascarpone':4511,\n",
    "                  'milhojas frambuesa 2º': 459,\n",
    "                  'torteles': 112,\n",
    "                  'baguette':115}"
   ]
  },
  {
   "cell_type": "code",
   "execution_count": 115,
   "metadata": {},
   "outputs": [
    {
     "data": {
      "text/plain": [
       "{'croissant': 100,\n",
       " 'croissant petit': 103,\n",
       " 'tarta mousse 3 chocolates': 9999,\n",
       " 'tarta de manzana 2º': 462,\n",
       " 'palmeras de trufa': 182,\n",
       " 'tarta opera': 414,\n",
       " 'postre fresas y mascarpone': 4511,\n",
       " 'milhojas frambuesa 2º': 459,\n",
       " 'torteles': 112,\n",
       " 'baguette': 115}"
      ]
     },
     "execution_count": 115,
     "metadata": {},
     "output_type": "execute_result"
    }
   ],
   "source": [
    "dict_of_products"
   ]
  },
  {
   "cell_type": "code",
   "execution_count": null,
   "metadata": {},
   "outputs": [],
   "source": []
  },
  {
   "cell_type": "code",
   "execution_count": null,
   "metadata": {},
   "outputs": [],
   "source": []
  },
  {
   "cell_type": "code",
   "execution_count": null,
   "metadata": {},
   "outputs": [],
   "source": []
  },
  {
   "cell_type": "code",
   "execution_count": null,
   "metadata": {},
   "outputs": [],
   "source": []
  },
  {
   "cell_type": "code",
   "execution_count": null,
   "metadata": {},
   "outputs": [],
   "source": []
  },
  {
   "cell_type": "code",
   "execution_count": null,
   "metadata": {},
   "outputs": [],
   "source": []
  },
  {
   "cell_type": "code",
   "execution_count": null,
   "metadata": {},
   "outputs": [],
   "source": []
  },
  {
   "cell_type": "code",
   "execution_count": null,
   "metadata": {},
   "outputs": [],
   "source": []
  },
  {
   "cell_type": "code",
   "execution_count": null,
   "metadata": {},
   "outputs": [],
   "source": []
  },
  {
   "cell_type": "code",
   "execution_count": null,
   "metadata": {},
   "outputs": [],
   "source": []
  },
  {
   "cell_type": "code",
   "execution_count": null,
   "metadata": {},
   "outputs": [],
   "source": []
  },
  {
   "cell_type": "code",
   "execution_count": null,
   "metadata": {},
   "outputs": [],
   "source": []
  },
  {
   "cell_type": "code",
   "execution_count": null,
   "metadata": {},
   "outputs": [],
   "source": []
  },
  {
   "cell_type": "code",
   "execution_count": null,
   "metadata": {},
   "outputs": [],
   "source": []
  }
 ],
 "metadata": {
  "kernelspec": {
   "display_name": "Python 3",
   "language": "python",
   "name": "python3"
  },
  "language_info": {
   "codemirror_mode": {
    "name": "ipython",
    "version": 3
   },
   "file_extension": ".py",
   "mimetype": "text/x-python",
   "name": "python",
   "nbconvert_exporter": "python",
   "pygments_lexer": "ipython3",
   "version": "3.7.3"
  }
 },
 "nbformat": 4,
 "nbformat_minor": 2
}
