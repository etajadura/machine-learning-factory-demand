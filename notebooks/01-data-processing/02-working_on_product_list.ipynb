{
 "cells": [
  {
   "cell_type": "markdown",
   "metadata": {},
   "source": [
    "# CREATING THE LIST OF PRODUCTS FOR THE ANALYSIS:"
   ]
  },
  {
   "cell_type": "markdown",
   "metadata": {},
   "source": [
    "After rearranging the data in a more convenient manner and doing some introductory analysis of the data, we now want to get down to work with our data.\n",
    "\n",
    "A list has been given to us of the 10 products that our clients finded as more relevant to their business.\n",
    "\n",
    "What we want now is to check wether the names on the list correspond to certain uniques ids, or, as seen in the previous scripts, some conflict of unicity will arise between the id of our products and their descriptions.\n",
    "\n",
    "So, we are going to check our dataframe and select from it the ids and descriptions of our products that match the indications given in our clients list.\n",
    "\n",
    "We will do this in two phases: in the first one we will create a dataframe, with only some of the rows of our csv.\n",
    "\n",
    "In the second part, we will use chunks to load, chunk by chunk, all the dataframe, and extract the samei nformation.\n",
    "\n",
    "Finally, with the lists (in reality, two dictionaries) of the ids and descriptions that match every product given to us, we will decide which are the more appropriate.\n",
    "\n",
    "Perhaps some guidance from our client would be needed at this stage."
   ]
  },
  {
   "cell_type": "markdown",
   "metadata": {},
   "source": [
    "## 1. LOADING ONLY PART OF THE DATAFRAME:"
   ]
  },
  {
   "cell_type": "code",
   "execution_count": 1,
   "metadata": {},
   "outputs": [],
   "source": [
    "# Importing packages:\n",
    "\n",
    "import pandas as pd\n",
    "import matplotlib.pyplot as plt\n",
    "import numpy as np\n",
    "\n",
    "%matplotlib inline"
   ]
  },
  {
   "cell_type": "code",
   "execution_count": 2,
   "metadata": {},
   "outputs": [],
   "source": [
    "# Defining the search path of the file, the name and the separator:\n",
    "\n",
    "file_path = \"../../data/01_raw/\"\n",
    "file_name = \"1_b2-transactions.csv\"\n",
    "\n",
    "sep=\";\""
   ]
  },
  {
   "cell_type": "code",
   "execution_count": 3,
   "metadata": {},
   "outputs": [],
   "source": [
    "# We create the list of selected products, and will try with it to obtain the values of the ids of the indicated products:\n",
    "\n",
    "list_of_products=['croissant',\n",
    "                  'croissant petit',\n",
    "                  'tarta mousse 3 chocolates',\n",
    "                  'tarta de manzana 2º',\n",
    "                  'palmera', \n",
    "                  'tarta opera',\n",
    "                  'postre fresas y mascarpone',\n",
    "                  'milhojas frambuesa 2º',\n",
    "                  'tortel',\n",
    "                  'baguette']"
   ]
  },
  {
   "cell_type": "code",
   "execution_count": 4,
   "metadata": {
    "scrolled": true
   },
   "outputs": [],
   "source": [
    "# We import the dataframe:\n",
    "\n",
    "df=pd.read_csv(file_path+file_name, nrows=1000000, sep=sep)"
   ]
  },
  {
   "cell_type": "code",
   "execution_count": 5,
   "metadata": {},
   "outputs": [],
   "source": [
    "# According to what we saw in the previous notebook, we have to do some cleaning:\n",
    "\n",
    "df.dropna(how='any', inplace=True)\n",
    "# df=df.drop('Unnamed: 0', axis=1)"
   ]
  },
  {
   "cell_type": "code",
   "execution_count": 6,
   "metadata": {},
   "outputs": [],
   "source": [
    "# Most of the descriptions are in uppercase, we first reduce everything to lowercase:\n",
    "\n",
    "df['description_lower']=df['description'].str.lower()"
   ]
  },
  {
   "cell_type": "code",
   "execution_count": 7,
   "metadata": {
    "scrolled": true
   },
   "outputs": [],
   "source": [
    "# Now we construct the dictionaries of the selected ids and descriptions that each product of the list finds:\n",
    "\n",
    "# What you are seeing here is the final version both of the list of the selected products, and the way they are looked for in the\n",
    "# dataframe. We started looking within the string of the description, with a \".contains\", but it was noticed that startswith \n",
    "# was more suited for the job. Also, the values in the list of the products were changed in order to capture more names\n",
    "# each time:\n",
    "\n",
    "rel_prod_list_ids=dict()\n",
    "rel_prod_list_descrip=dict()\n",
    "\n",
    "for product in list_of_products:\n",
    "    rel_prod_list_ids[product]=df[df['description_lower'].str.startswith(product)]['product_id'].unique()\n",
    "    rel_prod_list_descrip[product]=df[df['description_lower'].str.startswith(product)]['description_lower'].unique()"
   ]
  },
  {
   "cell_type": "code",
   "execution_count": 8,
   "metadata": {},
   "outputs": [
    {
     "data": {
      "text/html": [
       "<div>\n",
       "<style scoped>\n",
       "    .dataframe tbody tr th:only-of-type {\n",
       "        vertical-align: middle;\n",
       "    }\n",
       "\n",
       "    .dataframe tbody tr th {\n",
       "        vertical-align: top;\n",
       "    }\n",
       "\n",
       "    .dataframe thead th {\n",
       "        text-align: right;\n",
       "    }\n",
       "</style>\n",
       "<table border=\"1\" class=\"dataframe\">\n",
       "  <thead>\n",
       "    <tr style=\"text-align: right;\">\n",
       "      <th></th>\n",
       "      <th>product_id</th>\n",
       "      <th>order_date</th>\n",
       "      <th>section</th>\n",
       "      <th>store</th>\n",
       "      <th>units_ordered</th>\n",
       "      <th>description_lower</th>\n",
       "    </tr>\n",
       "    <tr>\n",
       "      <th>description</th>\n",
       "      <th></th>\n",
       "      <th></th>\n",
       "      <th></th>\n",
       "      <th></th>\n",
       "      <th></th>\n",
       "      <th></th>\n",
       "    </tr>\n",
       "  </thead>\n",
       "  <tbody>\n",
       "    <tr>\n",
       "      <td>CROISSANT ALMENDRA LARGO</td>\n",
       "      <td>107.0</td>\n",
       "      <td>2019-09-03</td>\n",
       "      <td>0</td>\n",
       "      <td>BmUP</td>\n",
       "      <td>0,00</td>\n",
       "      <td>croissant almendra largo</td>\n",
       "    </tr>\n",
       "    <tr>\n",
       "      <td>CROISSANT VACIOS</td>\n",
       "      <td>107.0</td>\n",
       "      <td>2009-06-16</td>\n",
       "      <td>0</td>\n",
       "      <td>BmUP</td>\n",
       "      <td>3,00</td>\n",
       "      <td>croissant vacios</td>\n",
       "    </tr>\n",
       "  </tbody>\n",
       "</table>\n",
       "</div>"
      ],
      "text/plain": [
       "                          product_id  order_date  section store units_ordered  \\\n",
       "description                                                                     \n",
       "CROISSANT ALMENDRA LARGO       107.0  2019-09-03        0  BmUP          0,00   \n",
       "CROISSANT VACIOS               107.0  2009-06-16        0  BmUP          3,00   \n",
       "\n",
       "                                 description_lower  \n",
       "description                                         \n",
       "CROISSANT ALMENDRA LARGO  croissant almendra largo  \n",
       "CROISSANT VACIOS                  croissant vacios  "
      ]
     },
     "execution_count": 8,
     "metadata": {},
     "output_type": "execute_result"
    }
   ],
   "source": [
    "# For minor, additional checks:\n",
    "\n",
    "df[df['product_id']==107].groupby('description').first()"
   ]
  },
  {
   "cell_type": "code",
   "execution_count": 9,
   "metadata": {},
   "outputs": [
    {
     "data": {
      "text/plain": [
       "{'croissant': array([ 102.,  103.,  105.,  107.,  101.,  132., 5001.,  100.,  214.,\n",
       "         189.,  198.,  197., 9999.,  513.,  512.,  112.]),\n",
       " 'croissant petit': array([103., 102.]),\n",
       " 'tarta mousse 3 chocolates': array([9999.,  453.]),\n",
       " 'tarta de manzana 2º': array([462.]),\n",
       " 'palmera': array([ 140.,  182.,  190., 9999.,  141.]),\n",
       " 'tarta opera': array([ 9999.,   414.,   426.,   427.,   403., 14998.,   402.]),\n",
       " 'postre fresas y mascarpone': array([4511., 9999.]),\n",
       " 'milhojas frambuesa 2º': array([459.]),\n",
       " 'tortel': array([ 112., 3352., 9999., 3375.]),\n",
       " 'baguette': array([ 115., 8739., 9999.])}"
      ]
     },
     "execution_count": 9,
     "metadata": {},
     "output_type": "execute_result"
    }
   ],
   "source": [
    "# This is the dictionary with the word and its associated codes:\n",
    "\n",
    "rel_prod_list_ids"
   ]
  },
  {
   "cell_type": "code",
   "execution_count": 10,
   "metadata": {},
   "outputs": [
    {
     "data": {
      "text/plain": [
       "array(['tarta opera del 2 escrito sobre la trta felicidades rafael ',\n",
       "       'tarta opera del 2º con cartel \"felicidades\"',\n",
       "       'tarta opera 5º con cartel \"felicidades lili\" y adornada con frutas naturales',\n",
       "       'tarta opera 2º', 'tarta opera del 5º',\n",
       "       'tarta opera del 4º con cartel \" felicidades dolly \"',\n",
       "       'tarta opera del 2º con cartel \" felicidades raul \"',\n",
       "       'tarta opera del 4º con cartel que ponga \"felicidades gaës\" (ojo que la letra e lleva dieresis)',\n",
       "       'tarta opera del 2º escrito encima \" happy birthay nano  aba y papa \"',\n",
       "       'tarta opera 2º escrito en un cartel felicidades 18',\n",
       "       'tarta opera 3º',\n",
       "       'tarta opera 32 rac. escrito sobre la tarta \" felicidades jose. feliz 60 cumpleaños\"ccccccccccc',\n",
       "       'tarta opera del 4  con cartel escrito- hugo y mar, muchas felicidades de vuestra familia-',\n",
       "       'tarta opera 5º', 'tarta opera 2º felicidades alejandra',\n",
       "       'tarta opera del 6º escrito feliz cumpleaños',\n",
       "       'tarta opera 10 raciones',\n",
       "       'tarta opera de 20 raciones-escrito en la tarta: medio siglo',\n",
       "       'tarta opera del 4º',\n",
       "       'tarta opera del 8 escrito con chocolate blanco muchas feliciddes ',\n",
       "       'tarta opera de 20 raciones escrito sobre la tarta - ivan tu eres el mas grande-- dibujar alguna nota',\n",
       "       'tarta opera  6 r/', 'tarta opera del 3',\n",
       "       'tarta opera del 3. sin adorno',\n",
       "       'tarta opera 2º \" felicidades juanjo\"',\n",
       "       'tarta opera del 2, escrito sobre la tarta -happy birthday dearbunty-',\n",
       "       'tarta opera 3 cartel felicidades marina', 'tarta opera 5',\n",
       "       'tarta opera 5º  escrito en la tarta \" mireilla 12 mayo 2012 día de mi primera comunión\"',\n",
       "       'tarta opera 4 felicidades natalia',\n",
       "       'tarta opera 8 isabel , muchas gracias por estos 40 años ',\n",
       "       'tarta opera 5. escrito en la tarta-  mohamed, mahmoud, bedr, shog, raghd.',\n",
       "       'tarta opera 2 felicidades kino',\n",
       "       'tarta opera 6º escrito sobre pergamino \" muchas felicidades mireia, 29-septiembre-1952, 29 septiembr',\n",
       "       'tarta opera 50 rac', 'tarta opera escrito happy b day kala',\n",
       "       'tarta opera del 5', 'tarta opera del 3º',\n",
       "       'tarta opera de 20 rac / escrito en la tarta  \"16 años \"',\n",
       "       'tarta opera del 2. felicidades rous  ',\n",
       "       'tarta opera de 20 raciones', 'tarta opera del 4ª(16 rac)',\n",
       "       'tarta opera de 10 raciones- escrito sobre la tarta: felicidades papa',\n",
       "       'tarta opera de 10 raciones-escrito encima de la tarta: feliz cumpleaños maki',\n",
       "       'tarta opera del 3 - felicidades mama-',\n",
       "       'tarta opera del 3 con dibujo hecho sobre chocolatina',\n",
       "       'tarta opera de 24 rac escrito sobre la tarta felicidades',\n",
       "       'tarta opera 3 con cartel feliz cumpleaños pablo',\n",
       "       'tarta opera  8.', 'tarta opera de 20 rac',\n",
       "       'tarta opera de 6 raciones con cartel felicidades noemi',\n",
       "       'tarta opera 64 raciones',\n",
       "       'tarta opera 1º dibujado encima de la tarta en chocolate blanco 1 corazon y que ponga encima de la ta',\n",
       "       'tarta opera 1º dibujado encima de la tarta en chocolate blanco un corazon y que ponga \" i need your ',\n",
       "       'tarta opera 6º', 'tarta opera del 6º',\n",
       "       'tarta opera 6 rac. con cartel chocolate \"felicidades\"',\n",
       "       'tarta opera del -5-, 20rac, escrito en la tarta --felicidades luis y carmen --',\n",
       "       'tarta opera 4º',\n",
       "       'tarta opera del 3º con cartel \"felicidades alejandro\" - con algun muñequito infantil de adorno',\n",
       "       'tarta opera  2º',\n",
       "       'tarta opera del 2. escrito sobre la tarta , bego felicidades',\n",
       "       'tarta opera del 2º escrito sobre la tarta \" felicidades juan y mercedes \"',\n",
       "       'tarta opera 10 rac',\n",
       "       'tarta opera del 3 cartel - felicidades paquita y felicidades ana -',\n",
       "       'tarta opera del 4 escrito sobre la tarta - felicidades hugo y mar. de papa y mama-',\n",
       "       'tarta opera 2 escrito felicidades',\n",
       "       'tarta opera del 5. escrito sobre la tarta - muchas  felicidades vera - ',\n",
       "       'tarta opera 6 raciones',\n",
       "       'tarta opera del 8 escrito feliz compleaños patrick',\n",
       "       'tarta opera del 3º -cubierta los bordes de alrededor de merengue y una chocolatina con el dibujo de ',\n",
       "       'tarta opera del 4', 'tarta opera del 8º de 32 r/.',\n",
       "       'tarta opera 3 escrito sobre ella felicidades beatriz',\n",
       "       'tarta opera del tercero',\n",
       "       'tarta opera del 4. escrito sobre la tarta - felicidades jose maria -',\n",
       "       'tarta opera del 3 escrito sobre ella - cristina, mucha suerte en tu nueva etapa-',\n",
       "       'tarta opera del 2 infantil con cartel felicidades marina y una casita de chocolate',\n",
       "       'tarta opera 6',\n",
       "       'tarta opera del 3º con un cartel \"muchas felicidades silvia y belen\"',\n",
       "       'tarta opera del 4 con logotipo sobre la tarta en gelatina',\n",
       "       'tarta opera del 2 y escrito en la tarta feliz cumpleaños maria rosa',\n",
       "       'tarta opera del 3 y cartel felicidades carlotta',\n",
       "       'tarta opera del 3º felicidades marcial',\n",
       "       'tarta opera del 4. escrito sobre la tarta - hugo y mar felicidades os queremos mucho-',\n",
       "       'tarta opera boda  -- castillo',\n",
       "       'tarta opera del 2 escrito felicidades, debajo, raquel y  debajo de raquel poner vania',\n",
       "       'tarta opera 3 escrito encima - feliz cumpleaños-',\n",
       "       'tarta opera -5-, 20 rac',\n",
       "       'tarta opera del 4 con cartel - felicidades jose maria -',\n",
       "       'tarta opera del 3º escrito en la tarta \" felicidades carlis\"',\n",
       "       'tarta opera del 2 y escrito felicidades laura 27',\n",
       "       'tarta opera del 3 y escrito felicidades laura 27',\n",
       "       'tarta opera del 3 y escrito felicidades ana',\n",
       "       'tarta opera del 2 y cartel belen', 'tarta opera del -5- 20rac',\n",
       "       'tarta opera del 3º escrito sobre la tarta \" felicidades javier\"',\n",
       "       'tarta opera del 2º', 'tarta opera del 2º feliz cumpleaños luli',\n",
       "       'tarta opera 5º cartel \"felicidades jose maria\"',\n",
       "       'tarta opera del 2º  con cartel que ponga  felicidades nuria  encargo',\n",
       "       'tarta opera 4º  escrito sobre la tarta felicidades claudia',\n",
       "       'tarta opera del 5º \" felicidades papuchi \"',\n",
       "       'tarta opera del 2º  --escrito felicidades',\n",
       "       'tarta opera 3º -feliz cumpleaños',\n",
       "       'tarta opera del 3º escrito vuela entrenado nadie tiene una respuest asegurada y dibujo de avion ( ag',\n",
       "       'tarta opera 3º escrito en la tarta \" felicidades martin\"',\n",
       "       'tarta opera del 3º escrito en la tarta \" felicidades maria \"',\n",
       "       'tarta opera del 6º con dibujo del cliente que enviamos a david',\n",
       "       'tarta opera 2º escrito en la tarta \"felicidades\"',\n",
       "       'tarta opera 3º que ponga \"felicidades marcos\"',\n",
       "       'tarta opera 2º escrito en la tarta \"felicidades marga\"',\n",
       "       'tarta opera 6º escrito en la tarta\"felicidades valeria y nacho\" muy decoradora',\n",
       "       'tarta opera del 5º  con chocolatina escrita \" es tu año, felicidades ruth \"',\n",
       "       'tarta opera del 5º con un cartel en  chocolatina grande que ponga \"tus primeros 80\"',\n",
       "       'tarta opera del 2º \" felicidades \"',\n",
       "       'tarta opera 2 con cartel felicidades javier',\n",
       "       'tarta opera 4º escrito sobre la tarta \" felicidades\"',\n",
       "       'tarta opera 4º( 16 rac*)'], dtype=object)"
      ]
     },
     "execution_count": 10,
     "metadata": {},
     "output_type": "execute_result"
    }
   ],
   "source": [
    "# The same but with the descriptions: Just for checks:\n",
    "\n",
    "rel_prod_list_descrip[list_of_products[5]]"
   ]
  },
  {
   "cell_type": "code",
   "execution_count": 11,
   "metadata": {},
   "outputs": [
    {
     "data": {
      "text/plain": [
       "array(['POSTRE MOUSSE TRES CHOCOLATES',\n",
       "       'POSTRE VIRUTA CHOCOLATE  RECTANGULAR',\n",
       "       'POSTRES  MILHOJAS  NATA CREMA', ...,\n",
       "       'POSTRE MANZANA  CARAMELO -- HOTELES-',\n",
       "       'POSTRE MOUSSE CHOCOLATE  VASITO',\n",
       "       'POSTRE RECTANGULAR  VIRUTA CHOCOLATE'], dtype=object)"
      ]
     },
     "execution_count": 11,
     "metadata": {},
     "output_type": "execute_result"
    }
   ],
   "source": [
    "# For some additional checks:\n",
    "\n",
    "df[df['product_id']==450]['description'].unique()"
   ]
  },
  {
   "cell_type": "markdown",
   "metadata": {},
   "source": [
    "## 2. LOADING ALL THE DATAFRAME IN CHUNKS AND GETTING ALL THE RESULTS:"
   ]
  },
  {
   "cell_type": "code",
   "execution_count": 12,
   "metadata": {},
   "outputs": [],
   "source": [
    "# We import the dataframe:\n",
    "\n",
    "reader=pd.read_csv(file_path+file_name, sep=sep, chunksize=2000000)\n",
    "\n",
    "# Two empty lists are created to store, for each product, the list that results from looking for it in the chunk.\n",
    "\n",
    "NL1=list([None]*len(list_of_products))\n",
    "NL2=list([None]*len(list_of_products))\n",
    "\n",
    "# Getting the chunks and proceeding:\n",
    "\n",
    "for chunk in reader:\n",
    "\n",
    "    chunk.dropna(how='any', inplace=True)\n",
    "#     chunk=chunk.drop('Unnamed: 0', axis=1)\n",
    "\n",
    "    chunk['description_lower']=chunk['description'].str.lower()\n",
    "\n",
    "    list_prod_list_ids=[None]*len(list_of_products)\n",
    "    list_prod_list_descrip=[None]*len(list_of_products)\n",
    "        \n",
    "    for i, product in enumerate(list_of_products):\n",
    "\n",
    "        list_prod_list_ids[i]=list(chunk[chunk['description_lower'].str.startswith(product)]['product_id'].unique())\n",
    "        list_prod_list_descrip[i]=list(chunk[chunk['description_lower'].str.startswith(product)]['description_lower'].unique())\n",
    "        \n",
    "    for i, element in enumerate(list_prod_list_ids):\n",
    "        \n",
    "        if NL1[i]:    \n",
    "            NL1.append(list_prod_list_ids[i])\n",
    "            NL2.append(list_prod_list_descrip[i])\n",
    "            \n",
    "        else:\n",
    "            NL1[i]=list_prod_list_ids[i]\n",
    "            NL2[i]=list_prod_list_descrip[i]\n",
    "    "
   ]
  },
  {
   "cell_type": "code",
   "execution_count": 13,
   "metadata": {},
   "outputs": [],
   "source": [
    "rel_prod_list_ids=dict(zip(list_of_products,NL1))\n",
    "rel_prod_list_descrip=dict(zip(list_of_products,NL2))"
   ]
  },
  {
   "cell_type": "code",
   "execution_count": 14,
   "metadata": {},
   "outputs": [
    {
     "data": {
      "text/plain": [
       "{'croissant': [102.0,\n",
       "  103.0,\n",
       "  105.0,\n",
       "  107.0,\n",
       "  101.0,\n",
       "  132.0,\n",
       "  5001.0,\n",
       "  100.0,\n",
       "  214.0,\n",
       "  189.0,\n",
       "  198.0,\n",
       "  197.0,\n",
       "  9999.0,\n",
       "  513.0,\n",
       "  512.0,\n",
       "  112.0],\n",
       " 'croissant petit': [103.0, 102.0],\n",
       " 'tarta mousse 3 chocolates': [9999.0, 453.0],\n",
       " 'tarta de manzana 2º': [462.0, 9999.0],\n",
       " 'palmera': [140.0, 182.0, 190.0, 9999.0, 141.0],\n",
       " 'tarta opera': [9999.0, 414.0, 426.0, 427.0, 403.0, 14998.0, 402.0, 428.0],\n",
       " 'postre fresas y mascarpone': [4511.0, 9999.0, 450.0],\n",
       " 'milhojas frambuesa 2º': [459.0],\n",
       " 'tortel': [112.0, 3352.0, 9999.0, 3375.0],\n",
       " 'baguette': [115.0, 8739.0, 9999.0]}"
      ]
     },
     "execution_count": 14,
     "metadata": {},
     "output_type": "execute_result"
    }
   ],
   "source": [
    "rel_prod_list_ids"
   ]
  },
  {
   "cell_type": "markdown",
   "metadata": {},
   "source": [
    "##  3. FINAL LIST:"
   ]
  },
  {
   "cell_type": "code",
   "execution_count": 15,
   "metadata": {},
   "outputs": [],
   "source": [
    "# At end, we reach the following conclussions:\n",
    "\n",
    "dict_of_products={'croissant': 100, # serious doubts, if it is not the 100, then possibly it should be 100+101+102\n",
    "                  'croissant petit': 103,\n",
    "                  'tarta mousse 3 chocolates': 9999, # almost only for order, creating a new id for this product is suggested\n",
    "                  'tarta de manzana 2º': 462,\n",
    "                  'palmeras de trufa': 182, # palmeras: 140\n",
    "                  'tarta opera': 414, # 9999, for order, mostly. If included, creating a new id for this product is suggested\n",
    "                  'postre fresas y mascarpone':4511,\n",
    "                  'milhojas frambuesa 2º': 459,\n",
    "                  'torteles': 112,\n",
    "                  'baguette':115}"
   ]
  },
  {
   "cell_type": "code",
   "execution_count": 16,
   "metadata": {},
   "outputs": [
    {
     "data": {
      "text/plain": [
       "{'croissant': 100,\n",
       " 'croissant petit': 103,\n",
       " 'tarta mousse 3 chocolates': 9999,\n",
       " 'tarta de manzana 2º': 462,\n",
       " 'palmeras de trufa': 182,\n",
       " 'tarta opera': 414,\n",
       " 'postre fresas y mascarpone': 4511,\n",
       " 'milhojas frambuesa 2º': 459,\n",
       " 'torteles': 112,\n",
       " 'baguette': 115}"
      ]
     },
     "execution_count": 16,
     "metadata": {},
     "output_type": "execute_result"
    }
   ],
   "source": [
    "dict_of_products"
   ]
  },
  {
   "cell_type": "markdown",
   "metadata": {},
   "source": [
    "## 4. CHANGING THE ID OF A PRODUCT:"
   ]
  },
  {
   "cell_type": "markdown",
   "metadata": {},
   "source": [
    "We face now the problem that one of our products is using a code that describes the orders (as seen in previous scripts).\n",
    "\n",
    "To avoid complexity in the code to come, we decide to change the id of our product to another one, taking care firstly that it is not currently in use."
   ]
  },
  {
   "cell_type": "code",
   "execution_count": 17,
   "metadata": {},
   "outputs": [],
   "source": [
    "df.loc[df['description_lower'].str.startswith('tarta mousse 3 chocolates'), 'product_id']=10002"
   ]
  },
  {
   "cell_type": "code",
   "execution_count": 18,
   "metadata": {},
   "outputs": [
    {
     "data": {
      "text/html": [
       "<div>\n",
       "<style scoped>\n",
       "    .dataframe tbody tr th:only-of-type {\n",
       "        vertical-align: middle;\n",
       "    }\n",
       "\n",
       "    .dataframe tbody tr th {\n",
       "        vertical-align: top;\n",
       "    }\n",
       "\n",
       "    .dataframe thead th {\n",
       "        text-align: right;\n",
       "    }\n",
       "</style>\n",
       "<table border=\"1\" class=\"dataframe\">\n",
       "  <thead>\n",
       "    <tr style=\"text-align: right;\">\n",
       "      <th></th>\n",
       "      <th>product_id</th>\n",
       "      <th>description</th>\n",
       "      <th>order_date</th>\n",
       "      <th>section</th>\n",
       "      <th>store</th>\n",
       "      <th>units_ordered</th>\n",
       "      <th>description_lower</th>\n",
       "    </tr>\n",
       "  </thead>\n",
       "  <tbody>\n",
       "    <tr>\n",
       "      <td>888</td>\n",
       "      <td>10002.0</td>\n",
       "      <td>Tarta mousse 3 chocolates del 3º, escrito en l...</td>\n",
       "      <td>2013-04-04</td>\n",
       "      <td>0</td>\n",
       "      <td>BmUP</td>\n",
       "      <td>0,00</td>\n",
       "      <td>tarta mousse 3 chocolates del 3º, escrito en l...</td>\n",
       "    </tr>\n",
       "    <tr>\n",
       "      <td>2340</td>\n",
       "      <td>10002.0</td>\n",
       "      <td>Tarta mousse 3 chocolates del 3º escrito encim...</td>\n",
       "      <td>2014-03-15</td>\n",
       "      <td>0</td>\n",
       "      <td>BmUP</td>\n",
       "      <td>0,00</td>\n",
       "      <td>tarta mousse 3 chocolates del 3º escrito encim...</td>\n",
       "    </tr>\n",
       "    <tr>\n",
       "      <td>2531</td>\n",
       "      <td>10002.0</td>\n",
       "      <td>Tarta mousse 3 chocolates del 5º que ponga Fel...</td>\n",
       "      <td>2013-04-05</td>\n",
       "      <td>0</td>\n",
       "      <td>BmUP</td>\n",
       "      <td>0,00</td>\n",
       "      <td>tarta mousse 3 chocolates del 5º que ponga fel...</td>\n",
       "    </tr>\n",
       "    <tr>\n",
       "      <td>2538</td>\n",
       "      <td>10002.0</td>\n",
       "      <td>TARTA MOUSSE 3 CHOCOLATES  DEL SEGUNDO ESCRITO...</td>\n",
       "      <td>2013-04-05</td>\n",
       "      <td>0</td>\n",
       "      <td>BmUP</td>\n",
       "      <td>0,00</td>\n",
       "      <td>tarta mousse 3 chocolates  del segundo escrito...</td>\n",
       "    </tr>\n",
       "    <tr>\n",
       "      <td>38205</td>\n",
       "      <td>10002.0</td>\n",
       "      <td>TARTA MOUSSE 3 CHOCOLATES 4º</td>\n",
       "      <td>2012-12-18</td>\n",
       "      <td>0</td>\n",
       "      <td>BmUP</td>\n",
       "      <td>0,00</td>\n",
       "      <td>tarta mousse 3 chocolates 4º</td>\n",
       "    </tr>\n",
       "    <tr>\n",
       "      <td>...</td>\n",
       "      <td>...</td>\n",
       "      <td>...</td>\n",
       "      <td>...</td>\n",
       "      <td>...</td>\n",
       "      <td>...</td>\n",
       "      <td>...</td>\n",
       "      <td>...</td>\n",
       "    </tr>\n",
       "    <tr>\n",
       "      <td>954996</td>\n",
       "      <td>10002.0</td>\n",
       "      <td>TARTA MOUSSE 3 CHOCOLATES DEL 4º</td>\n",
       "      <td>2008-05-23</td>\n",
       "      <td>0</td>\n",
       "      <td>BmUP</td>\n",
       "      <td>0,00</td>\n",
       "      <td>tarta mousse 3 chocolates del 4º</td>\n",
       "    </tr>\n",
       "    <tr>\n",
       "      <td>958315</td>\n",
       "      <td>10002.0</td>\n",
       "      <td>TARTA MOUSSE 3 CHOCOLATES DEL 2º ESCRITOS \" FE...</td>\n",
       "      <td>2008-05-25</td>\n",
       "      <td>0</td>\n",
       "      <td>BmUP</td>\n",
       "      <td>0,00</td>\n",
       "      <td>tarta mousse 3 chocolates del 2º escritos \" fe...</td>\n",
       "    </tr>\n",
       "    <tr>\n",
       "      <td>962928</td>\n",
       "      <td>10002.0</td>\n",
       "      <td>TARTA MOUSSE 3 CHOCOLATES 4º  ESCRITO SOBRE LA...</td>\n",
       "      <td>2008-05-30</td>\n",
       "      <td>0</td>\n",
       "      <td>BmUP</td>\n",
       "      <td>0,00</td>\n",
       "      <td>tarta mousse 3 chocolates 4º  escrito sobre la...</td>\n",
       "    </tr>\n",
       "    <tr>\n",
       "      <td>963766</td>\n",
       "      <td>10002.0</td>\n",
       "      <td>TARTA MOUSSE 3 CHOCOLATES 4º</td>\n",
       "      <td>2008-05-31</td>\n",
       "      <td>0</td>\n",
       "      <td>BmUP</td>\n",
       "      <td>0,00</td>\n",
       "      <td>tarta mousse 3 chocolates 4º</td>\n",
       "    </tr>\n",
       "    <tr>\n",
       "      <td>975414</td>\n",
       "      <td>10002.0</td>\n",
       "      <td>TARTA MOUSSE 3 CHOCOLATES  3 ESCRITO SOBRE  LA...</td>\n",
       "      <td>2010-01-01</td>\n",
       "      <td>0</td>\n",
       "      <td>BmUP</td>\n",
       "      <td>0,00</td>\n",
       "      <td>tarta mousse 3 chocolates  3 escrito sobre  la...</td>\n",
       "    </tr>\n",
       "  </tbody>\n",
       "</table>\n",
       "<p>95 rows × 7 columns</p>\n",
       "</div>"
      ],
      "text/plain": [
       "        product_id                                        description  \\\n",
       "888        10002.0  Tarta mousse 3 chocolates del 3º, escrito en l...   \n",
       "2340       10002.0  Tarta mousse 3 chocolates del 3º escrito encim...   \n",
       "2531       10002.0  Tarta mousse 3 chocolates del 5º que ponga Fel...   \n",
       "2538       10002.0  TARTA MOUSSE 3 CHOCOLATES  DEL SEGUNDO ESCRITO...   \n",
       "38205      10002.0                       TARTA MOUSSE 3 CHOCOLATES 4º   \n",
       "...            ...                                                ...   \n",
       "954996     10002.0                   TARTA MOUSSE 3 CHOCOLATES DEL 4º   \n",
       "958315     10002.0  TARTA MOUSSE 3 CHOCOLATES DEL 2º ESCRITOS \" FE...   \n",
       "962928     10002.0  TARTA MOUSSE 3 CHOCOLATES 4º  ESCRITO SOBRE LA...   \n",
       "963766     10002.0                       TARTA MOUSSE 3 CHOCOLATES 4º   \n",
       "975414     10002.0  TARTA MOUSSE 3 CHOCOLATES  3 ESCRITO SOBRE  LA...   \n",
       "\n",
       "        order_date  section store units_ordered  \\\n",
       "888     2013-04-04        0  BmUP          0,00   \n",
       "2340    2014-03-15        0  BmUP          0,00   \n",
       "2531    2013-04-05        0  BmUP          0,00   \n",
       "2538    2013-04-05        0  BmUP          0,00   \n",
       "38205   2012-12-18        0  BmUP          0,00   \n",
       "...            ...      ...   ...           ...   \n",
       "954996  2008-05-23        0  BmUP          0,00   \n",
       "958315  2008-05-25        0  BmUP          0,00   \n",
       "962928  2008-05-30        0  BmUP          0,00   \n",
       "963766  2008-05-31        0  BmUP          0,00   \n",
       "975414  2010-01-01        0  BmUP          0,00   \n",
       "\n",
       "                                        description_lower  \n",
       "888     tarta mousse 3 chocolates del 3º, escrito en l...  \n",
       "2340    tarta mousse 3 chocolates del 3º escrito encim...  \n",
       "2531    tarta mousse 3 chocolates del 5º que ponga fel...  \n",
       "2538    tarta mousse 3 chocolates  del segundo escrito...  \n",
       "38205                        tarta mousse 3 chocolates 4º  \n",
       "...                                                   ...  \n",
       "954996                   tarta mousse 3 chocolates del 4º  \n",
       "958315  tarta mousse 3 chocolates del 2º escritos \" fe...  \n",
       "962928  tarta mousse 3 chocolates 4º  escrito sobre la...  \n",
       "963766                       tarta mousse 3 chocolates 4º  \n",
       "975414  tarta mousse 3 chocolates  3 escrito sobre  la...  \n",
       "\n",
       "[95 rows x 7 columns]"
      ]
     },
     "execution_count": 18,
     "metadata": {},
     "output_type": "execute_result"
    }
   ],
   "source": [
    "df[df ['product_id']==10002]"
   ]
  },
  {
   "cell_type": "code",
   "execution_count": 19,
   "metadata": {},
   "outputs": [],
   "source": [
    "# We make this small arrangement also to the dict_of_products:\n",
    "\n",
    "dict_of_products['tarta mousse 3 chocolates']= 10002 # New id created"
   ]
  },
  {
   "cell_type": "code",
   "execution_count": 20,
   "metadata": {},
   "outputs": [
    {
     "data": {
      "text/plain": [
       "{'croissant': 100,\n",
       " 'croissant petit': 103,\n",
       " 'tarta mousse 3 chocolates': 10002,\n",
       " 'tarta de manzana 2º': 462,\n",
       " 'palmeras de trufa': 182,\n",
       " 'tarta opera': 414,\n",
       " 'postre fresas y mascarpone': 4511,\n",
       " 'milhojas frambuesa 2º': 459,\n",
       " 'torteles': 112,\n",
       " 'baguette': 115}"
      ]
     },
     "execution_count": 20,
     "metadata": {},
     "output_type": "execute_result"
    }
   ],
   "source": [
    "dict_of_products"
   ]
  }
 ],
 "metadata": {
  "kernelspec": {
   "display_name": "Python 3",
   "language": "python",
   "name": "python3"
  },
  "language_info": {
   "codemirror_mode": {
    "name": "ipython",
    "version": 3
   },
   "file_extension": ".py",
   "mimetype": "text/x-python",
   "name": "python",
   "nbconvert_exporter": "python",
   "pygments_lexer": "ipython3",
   "version": "3.7.4"
  }
 },
 "nbformat": 4,
 "nbformat_minor": 2
}
