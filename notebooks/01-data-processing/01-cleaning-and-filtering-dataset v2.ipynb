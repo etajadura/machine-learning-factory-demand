{
 "cells": [
  {
   "cell_type": "markdown",
   "metadata": {},
   "source": [
    "# FILTERING THE DATASET:"
   ]
  },
  {
   "cell_type": "markdown",
   "metadata": {},
   "source": [
    "Along this script we will get from an initial list of products provided by our client, to a final list (as per the names and ids present within the real data), which will be used to filter our initial data in order to get a smaller, more manageable file.\n",
    "\n",
    "This process will be divided in two main steps:\n",
    "\n",
    "- Check the names in our list with the descriptions present in our data, analyze them and select a final list\n",
    "\n",
    "- Use this list to filter our data and store the resulting information in a more small and convenient file"
   ]
  },
  {
   "cell_type": "markdown",
   "metadata": {},
   "source": [
    "## CREATING THE LIST OF PRODUCTS FOR THE ANALYSIS:"
   ]
  },
  {
   "cell_type": "markdown",
   "metadata": {},
   "source": [
    "After rearranging the data in a more convenient manner and doing some introductory analysis of the data, we now want to get down to work with our data.\n",
    "\n",
    "A list has been given to us of the 10 products that our clients found as more relevant to their business.\n",
    "\n",
    "What we want now is to check whether the names on the list correspond to certain uniques ids, or, as seen in the previous scripts, some conflict of unicity will arise between the id of our products and their descriptions.\n",
    "\n",
    "So, we are going to check our dataframe and select from it the ids and descriptions of our products that match the indications given in our clients list. With the lists (in reality, two dictionaries) of the ids and descriptions that match every product given to us, we will decide which are the more appropriate.\n",
    "\n",
    "Perhaps some guidance from our client would be needed at this stage."
   ]
  },
  {
   "cell_type": "markdown",
   "metadata": {},
   "source": [
    "### 1. Read dataframe"
   ]
  },
  {
   "cell_type": "code",
   "execution_count": 1,
   "metadata": {},
   "outputs": [
    {
     "name": "stderr",
     "output_type": "stream",
     "text": [
      "/Users/miruiz/kschool-final-project/lib/python2.7/site-packages/fuzzywuzzy/fuzz.py:11: UserWarning: Using slow pure-python SequenceMatcher. Install python-Levenshtein to remove this warning\n",
      "  warnings.warn('Using slow pure-python SequenceMatcher. Install python-Levenshtein to remove this warning')\n"
     ]
    }
   ],
   "source": [
    "# Importing packages:\n",
    "\n",
    "import pandas as pd\n",
    "import matplotlib.pyplot as plt\n",
    "import numpy as np\n",
    "import re\n",
    "from collections import Counter\n",
    "from fuzzywuzzy import fuzz\n",
    "from fuzzywuzzy import process\n",
    "import math\n",
    "import seaborn as sns\n",
    "\n",
    "\n",
    "%matplotlib inline\n",
    "pd.options.display.max_columns = None"
   ]
  },
  {
   "cell_type": "code",
   "execution_count": 2,
   "metadata": {},
   "outputs": [],
   "source": [
    "# Defining the search path of the file, the name and the separator:\n",
    "\n",
    "file_path = \"../../data/01_raw/\"\n",
    "file_name = \"b2-transactions.csv\" #'b2-transactions_sample.csv' \n",
    "exit_path = \"../../data/02_intermediate/\"\n",
    "\n",
    "filtered_file_name=\"c1-filtered_transactions.csv\"\n",
    "\n",
    "sep=\";\""
   ]
  },
  {
   "cell_type": "code",
   "execution_count": 3,
   "metadata": {},
   "outputs": [],
   "source": [
    "# We create the list of products provided by the client\n",
    "list_of_products=['croissant',\n",
    "                  'croissant petit',\n",
    "                  'tarta mousse 3 chocolates',\n",
    "                  'tarta de manzana 2º',\n",
    "                  'palmera de chocolate'\n",
    "                  'tarta opera',\n",
    "                  'postre fresas y mascarpone',\n",
    "                  'milhojas frambuesa 2º',\n",
    "                  'tortel',\n",
    "                  'baguette']"
   ]
  },
  {
   "cell_type": "code",
   "execution_count": 4,
   "metadata": {
    "scrolled": true
   },
   "outputs": [],
   "source": [
    "# We import the dataframe:\n",
    "df=pd.read_csv(file_path+file_name, sep=sep)"
   ]
  },
  {
   "cell_type": "code",
   "execution_count": 5,
   "metadata": {},
   "outputs": [
    {
     "data": {
      "text/html": [
       "<div>\n",
       "<style scoped>\n",
       "    .dataframe tbody tr th:only-of-type {\n",
       "        vertical-align: middle;\n",
       "    }\n",
       "\n",
       "    .dataframe tbody tr th {\n",
       "        vertical-align: top;\n",
       "    }\n",
       "\n",
       "    .dataframe thead th {\n",
       "        text-align: right;\n",
       "    }\n",
       "</style>\n",
       "<table border=\"1\" class=\"dataframe\">\n",
       "  <thead>\n",
       "    <tr style=\"text-align: right;\">\n",
       "      <th></th>\n",
       "      <th>product_id</th>\n",
       "      <th>description</th>\n",
       "      <th>order_date</th>\n",
       "      <th>section</th>\n",
       "      <th>store</th>\n",
       "      <th>units_ordered</th>\n",
       "    </tr>\n",
       "  </thead>\n",
       "  <tbody>\n",
       "    <tr>\n",
       "      <th>16951106</th>\n",
       "      <td>458.0</td>\n",
       "      <td>S.HONORET CREMA-TRUFA 3º</td>\n",
       "      <td>9/3/2008 0:00:00</td>\n",
       "      <td>0</td>\n",
       "      <td>GoUP</td>\n",
       "      <td>0,00</td>\n",
       "    </tr>\n",
       "    <tr>\n",
       "      <th>17584418</th>\n",
       "      <td>3301.0</td>\n",
       "      <td>CREMA DE ESPINACAS</td>\n",
       "      <td>7/1/2016 0:00:00</td>\n",
       "      <td>0</td>\n",
       "      <td>GoUP</td>\n",
       "      <td>0,00</td>\n",
       "    </tr>\n",
       "    <tr>\n",
       "      <th>18271266</th>\n",
       "      <td>865.0</td>\n",
       "      <td>POSTRE OPERA</td>\n",
       "      <td>23/5/2010 0:00:00</td>\n",
       "      <td>0</td>\n",
       "      <td>GrUP</td>\n",
       "      <td>0,00</td>\n",
       "    </tr>\n",
       "    <tr>\n",
       "      <th>1513341</th>\n",
       "      <td>101.0</td>\n",
       "      <td>CROISSANT</td>\n",
       "      <td>29/5/2016 0:00:00</td>\n",
       "      <td>0</td>\n",
       "      <td>BmUP</td>\n",
       "      <td>0,00</td>\n",
       "    </tr>\n",
       "    <tr>\n",
       "      <th>1640037</th>\n",
       "      <td>502.0</td>\n",
       "      <td>SABLE CHOCOLATE</td>\n",
       "      <td>22/7/2012 0:00:00</td>\n",
       "      <td>0</td>\n",
       "      <td>VeUp</td>\n",
       "      <td>1,00</td>\n",
       "    </tr>\n",
       "  </tbody>\n",
       "</table>\n",
       "</div>"
      ],
      "text/plain": [
       "          product_id               description         order_date  section  \\\n",
       "16951106       458.0  S.HONORET CREMA-TRUFA 3º   9/3/2008 0:00:00        0   \n",
       "17584418      3301.0        CREMA DE ESPINACAS   7/1/2016 0:00:00        0   \n",
       "18271266       865.0              POSTRE OPERA  23/5/2010 0:00:00        0   \n",
       "1513341        101.0                 CROISSANT  29/5/2016 0:00:00        0   \n",
       "1640037        502.0           SABLE CHOCOLATE  22/7/2012 0:00:00        0   \n",
       "\n",
       "         store units_ordered  \n",
       "16951106  GoUP          0,00  \n",
       "17584418  GoUP          0,00  \n",
       "18271266  GrUP          0,00  \n",
       "1513341   BmUP          0,00  \n",
       "1640037   VeUp          1,00  "
      ]
     },
     "execution_count": 5,
     "metadata": {},
     "output_type": "execute_result"
    }
   ],
   "source": [
    "df.sample(5)"
   ]
  },
  {
   "cell_type": "markdown",
   "metadata": {},
   "source": [
    "### 2. Normalizing and aggregating description names\n",
    "\n",
    "Unfortunately, there is no convention for the description and one id could \n",
    "\n",
    "1. Normalize descriptions as much as possible using:\n",
    "    - Regex expressions \n",
    "    - Basic NLP for spell-checking.\n",
    "2. Create a normalization file with the following structure:\n",
    "    - Unique Product_id and normalized description\n",
    "    - Flag to indicate if the product is part of the given list, or not.  \n",
    "3. Finally review the list manually. "
   ]
  },
  {
   "cell_type": "markdown",
   "metadata": {},
   "source": [
    "### 2.1 Normalizing description names "
   ]
  },
  {
   "cell_type": "code",
   "execution_count": 6,
   "metadata": {},
   "outputs": [],
   "source": [
    "# Setting Null descriptions to 'no-description'\n",
    "df['description'].fillna('no-description', inplace = True)\n",
    "\n",
    "# Unique product descriptions\n",
    "df_descriptions_unique = pd.Series(df['description'].unique())\n",
    "\n",
    "# Most of the descriptions are in uppercase, however others are in lower:\n",
    "df_descriptions_normalized = df_descriptions_unique.str.lower()\n",
    "\n",
    "#replace non alfanumeric with space\n",
    "df_descriptions_normalized=df_descriptions_normalized.str.replace(r'[^0-9a-zA-Zº()ª:-]+', ' ') \n",
    "\n",
    "# We also notice that there are spacing issues at the begining, end of the description and between words:\n",
    "df_descriptions_normalized=df_descriptions_normalized.str.strip()\n",
    "\n",
    "# Remove multi-spacing. multi '-' and multi ':'\n",
    "df_descriptions_normalized=df_descriptions_normalized.str.replace(r' +', ' ') \n",
    "df_descriptions_normalized=df_descriptions_normalized.str.replace(r'-+', ' ') \n",
    "df_descriptions_normalized=df_descriptions_normalized.str.replace(r':+', ' ') "
   ]
  },
  {
   "cell_type": "code",
   "execution_count": 7,
   "metadata": {},
   "outputs": [
    {
     "data": {
      "text/html": [
       "<div>\n",
       "<style scoped>\n",
       "    .dataframe tbody tr th:only-of-type {\n",
       "        vertical-align: middle;\n",
       "    }\n",
       "\n",
       "    .dataframe tbody tr th {\n",
       "        vertical-align: top;\n",
       "    }\n",
       "\n",
       "    .dataframe thead th {\n",
       "        text-align: right;\n",
       "    }\n",
       "</style>\n",
       "<table border=\"1\" class=\"dataframe\">\n",
       "  <thead>\n",
       "    <tr style=\"text-align: right;\">\n",
       "      <th></th>\n",
       "      <th>desc_original</th>\n",
       "      <th>desc_normalized</th>\n",
       "    </tr>\n",
       "  </thead>\n",
       "  <tbody>\n",
       "    <tr>\n",
       "      <th>10857</th>\n",
       "      <td>Encargo ROLLITOS DE PRIMAVERA</td>\n",
       "      <td>encargo rollitos de primavera</td>\n",
       "    </tr>\n",
       "    <tr>\n",
       "      <th>29049</th>\n",
       "      <td>TARTA COMUNION 4º</td>\n",
       "      <td>tarta comunion 4º</td>\n",
       "    </tr>\n",
       "    <tr>\n",
       "      <th>4567</th>\n",
       "      <td>TARTA TRES CHOCOLATES DE 16 RACIONES,</td>\n",
       "      <td>tarta tres chocolates de 16 raciones</td>\n",
       "    </tr>\n",
       "    <tr>\n",
       "      <th>42161</th>\n",
       "      <td>COCA DE CREMA</td>\n",
       "      <td>coca de crema</td>\n",
       "    </tr>\n",
       "    <tr>\n",
       "      <th>11722</th>\n",
       "      <td>CORVINA EN SALSA VERDE</td>\n",
       "      <td>corvina en salsa verde</td>\n",
       "    </tr>\n",
       "    <tr>\n",
       "      <th>32399</th>\n",
       "      <td>Encargo  TARTA CREMA CATALANA Y FOTO CLIENTE</td>\n",
       "      <td>encargo tarta crema catalana y foto cliente</td>\n",
       "    </tr>\n",
       "    <tr>\n",
       "      <th>22171</th>\n",
       "      <td>TARTA SELVA NEGRA DE 50 RAC  CON EL FONDO EN V...</td>\n",
       "      <td>tarta selva negra de 50 rac con el fondo en ve...</td>\n",
       "    </tr>\n",
       "    <tr>\n",
       "      <th>7530</th>\n",
       "      <td>Encargo TARTA MOUSE TRES CHOCOLATES DEL 1 FELI...</td>\n",
       "      <td>encargo tarta mouse tres chocolates del 1 feli...</td>\n",
       "    </tr>\n",
       "    <tr>\n",
       "      <th>18767</th>\n",
       "      <td>Encargo TARTA VIRUTA DE CHOCOLATE DEL 3 ,,FELI...</td>\n",
       "      <td>encargo tarta viruta de chocolate del 3 felici...</td>\n",
       "    </tr>\n",
       "    <tr>\n",
       "      <th>38307</th>\n",
       "      <td>Caja de Mini Sándwiches de 5 rac. ( 8 son de e...</td>\n",
       "      <td>caja de mini s ndwiches de 5 rac ( 8 son de en...</td>\n",
       "    </tr>\n",
       "  </tbody>\n",
       "</table>\n",
       "</div>"
      ],
      "text/plain": [
       "                                           desc_original  \\\n",
       "10857                      Encargo ROLLITOS DE PRIMAVERA   \n",
       "29049                                  TARTA COMUNION 4º   \n",
       "4567               TARTA TRES CHOCOLATES DE 16 RACIONES,   \n",
       "42161                                     COCA DE CREMA    \n",
       "11722                             CORVINA EN SALSA VERDE   \n",
       "32399       Encargo  TARTA CREMA CATALANA Y FOTO CLIENTE   \n",
       "22171  TARTA SELVA NEGRA DE 50 RAC  CON EL FONDO EN V...   \n",
       "7530   Encargo TARTA MOUSE TRES CHOCOLATES DEL 1 FELI...   \n",
       "18767  Encargo TARTA VIRUTA DE CHOCOLATE DEL 3 ,,FELI...   \n",
       "38307  Caja de Mini Sándwiches de 5 rac. ( 8 son de e...   \n",
       "\n",
       "                                         desc_normalized  \n",
       "10857                      encargo rollitos de primavera  \n",
       "29049                                  tarta comunion 4º  \n",
       "4567                tarta tres chocolates de 16 raciones  \n",
       "42161                                      coca de crema  \n",
       "11722                             corvina en salsa verde  \n",
       "32399        encargo tarta crema catalana y foto cliente  \n",
       "22171  tarta selva negra de 50 rac con el fondo en ve...  \n",
       "7530   encargo tarta mouse tres chocolates del 1 feli...  \n",
       "18767  encargo tarta viruta de chocolate del 3 felici...  \n",
       "38307  caja de mini s ndwiches de 5 rac ( 8 son de en...  "
      ]
     },
     "execution_count": 7,
     "metadata": {},
     "output_type": "execute_result"
    }
   ],
   "source": [
    "pd.DataFrame(dict(desc_original = df_descriptions_unique, desc_normalized = df_descriptions_normalized)).sample(10)"
   ]
  },
  {
   "cell_type": "markdown",
   "metadata": {},
   "source": [
    "Now lets gets get our hands dirty and apply some maths to calculate string distnace and finish cleaning all those messy product descriptions... This is what we are going to do:\n",
    "\n",
    "1. Create a dataset with pastry products by parsing the bakery catalogues, and other pastry websites. (this was done manually, by converting the pdf catalogues to txt using an external web. THe resulting file is named productos.txt)\n",
    "\n",
    "2. Following the indications from: https://medium.com/@hdezfloresmiguelangel/implementando-un-corrector-ortogr%C3%A1fico-en-python-utilizando-la-distancia-de-levenshtein-498ec0dd1105 create an spell-checker based on the products.txt dataset and the Levenshtein distance\n"
   ]
  },
  {
   "cell_type": "code",
   "execution_count": 183,
   "metadata": {},
   "outputs": [],
   "source": [
    "def words(text): return re.findall(r'\\w+', text.lower())\n",
    "\n",
    "WORDS = Counter(words(open('../../data/01_additional_data/productos.txt').read()))\n",
    "\n",
    "def P(word, N=sum(WORDS.values())): \n",
    "    \"Probability of `word`.\"\n",
    "    return WORDS[word] / N\n",
    "\n",
    "def correction(word): \n",
    "    \"Most probable spelling correction for word.\"\n",
    "    return max(candidates(word), key=P)\n",
    "\n",
    "def candidates(word): \n",
    "    \"Generate possible spelling corrections for word.\"\n",
    "    return (known([word]) or known(edits1(word)) or known(edits2(word)) or [word])\n",
    "\n",
    "def known(words): \n",
    "    \"The subset of `words` that appear in the dictionary of WORDS.\"\n",
    "    return set(w for w in words if w in WORDS)\n",
    "\n",
    "def edits1(word):\n",
    "    \"All edits that are one edit away from `word`.\"\n",
    "    letters    = 'abcdefghijklmnopqrstuvwxyz'\n",
    "    splits     = [(word[:i], word[i:])    for i in range(len(word) + 1)]\n",
    "    deletes    = [L + R[1:]               for L, R in splits if R]\n",
    "    transposes = [L + R[1] + R[0] + R[2:] for L, R in splits if len(R)>1]\n",
    "    replaces   = [L + c + R[1:]           for L, R in splits if R for c in letters]\n",
    "    inserts    = [L + c + R               for L, R in splits for c in letters]\n",
    "    return set(deletes + transposes + replaces + inserts)\n",
    "\n",
    "def edits2(word): \n",
    "    \"All edits that are two edits away from `word`.\"\n",
    "    return (e2 for e1 in edits1(word) for e2 in edits1(e1))"
   ]
  },
  {
   "cell_type": "code",
   "execution_count": 181,
   "metadata": {},
   "outputs": [
    {
     "data": {
      "text/plain": [
       "'tarta'"
      ]
     },
     "execution_count": 181,
     "metadata": {},
     "output_type": "execute_result"
    }
   ],
   "source": [
    "correction(\"trta\")"
   ]
  },
  {
   "cell_type": "code",
   "execution_count": 10,
   "metadata": {},
   "outputs": [
    {
     "data": {
      "text/plain": [
       "'cafe'"
      ]
     },
     "execution_count": 10,
     "metadata": {},
     "output_type": "execute_result"
    }
   ],
   "source": [
    "correction(\"café\")"
   ]
  },
  {
   "cell_type": "markdown",
   "metadata": {},
   "source": [
    "Fantastic! the it seems to work. Lets now apply it to our dataset:"
   ]
  },
  {
   "cell_type": "code",
   "execution_count": 11,
   "metadata": {},
   "outputs": [],
   "source": [
    "def spell_check (line):\n",
    "    \"Given a sentence, returns spell-checks word by word\"\n",
    "    if type(line) == str and len(line) > 0:\n",
    "        new = []\n",
    "        line = line.split(\" \")\n",
    "        for word in line:\n",
    "            if type(word) == str:\n",
    "                word = correction(word)\n",
    "            new.append(word)\n",
    "        return \" \".join(new)\n",
    "            \n",
    "    else:\n",
    "        return line"
   ]
  },
  {
   "cell_type": "code",
   "execution_count": 12,
   "metadata": {},
   "outputs": [],
   "source": [
    "# CAUTION! The following cell e may take a long time to process (5 hours): \n",
    "\n",
    "# spell-check word by word the dataset:\n",
    "df_descriptions_normalized = df_descriptions_normalized.apply(lambda line: spell_check(line))"
   ]
  },
  {
   "cell_type": "markdown",
   "metadata": {},
   "source": [
    "Lets now merge the normalized names back to the original file, and check how effective was this cleaning:"
   ]
  },
  {
   "cell_type": "code",
   "execution_count": 13,
   "metadata": {},
   "outputs": [
    {
     "data": {
      "text/html": [
       "<div>\n",
       "<style scoped>\n",
       "    .dataframe tbody tr th:only-of-type {\n",
       "        vertical-align: middle;\n",
       "    }\n",
       "\n",
       "    .dataframe tbody tr th {\n",
       "        vertical-align: top;\n",
       "    }\n",
       "\n",
       "    .dataframe thead th {\n",
       "        text-align: right;\n",
       "    }\n",
       "</style>\n",
       "<table border=\"1\" class=\"dataframe\">\n",
       "  <thead>\n",
       "    <tr style=\"text-align: right;\">\n",
       "      <th></th>\n",
       "      <th>product_id</th>\n",
       "      <th>description</th>\n",
       "      <th>order_date</th>\n",
       "      <th>section</th>\n",
       "      <th>store</th>\n",
       "      <th>units_ordered</th>\n",
       "      <th>desc_normalized</th>\n",
       "    </tr>\n",
       "  </thead>\n",
       "  <tbody>\n",
       "    <tr>\n",
       "      <th>16842805</th>\n",
       "      <td>9999.0</td>\n",
       "      <td>EncargoCARDO</td>\n",
       "      <td>20/12/2009 0:00:00</td>\n",
       "      <td>0</td>\n",
       "      <td>GoUP</td>\n",
       "      <td>0,00</td>\n",
       "      <td>encargocardo</td>\n",
       "    </tr>\n",
       "    <tr>\n",
       "      <th>28937085</th>\n",
       "      <td>709.0</td>\n",
       "      <td>CAPUCHINAS</td>\n",
       "      <td>20/12/2016 0:00:00</td>\n",
       "      <td>0</td>\n",
       "      <td>ZiUO</td>\n",
       "      <td>0,00</td>\n",
       "      <td>capuchina</td>\n",
       "    </tr>\n",
       "    <tr>\n",
       "      <th>22351725</th>\n",
       "      <td>9999.0</td>\n",
       "      <td>EncargoDIBUJO DE UNA FOTO TRAIDA POR UN CLIENTE</td>\n",
       "      <td>2/10/2016 0:00:00</td>\n",
       "      <td>0</td>\n",
       "      <td>MoUP</td>\n",
       "      <td>0,00</td>\n",
       "      <td>encargodibujo de una feo traida con un cliente</td>\n",
       "    </tr>\n",
       "    <tr>\n",
       "      <th>2767947</th>\n",
       "      <td>245.0</td>\n",
       "      <td>Sandwiches mixtos</td>\n",
       "      <td>29/5/2015 0:00:00</td>\n",
       "      <td>0</td>\n",
       "      <td>VeUp</td>\n",
       "      <td>0,00</td>\n",
       "      <td>sandwich minutos</td>\n",
       "    </tr>\n",
       "    <tr>\n",
       "      <th>27761506</th>\n",
       "      <td>4510.0</td>\n",
       "      <td>TARTA FRESAS Y MASCARPONE</td>\n",
       "      <td>18/5/2015 0:00:00</td>\n",
       "      <td>0</td>\n",
       "      <td>ZiUO</td>\n",
       "      <td>0,00</td>\n",
       "      <td>tarta fresas y mascarpone</td>\n",
       "    </tr>\n",
       "  </tbody>\n",
       "</table>\n",
       "</div>"
      ],
      "text/plain": [
       "          product_id                                      description  \\\n",
       "16842805      9999.0                                     EncargoCARDO   \n",
       "28937085       709.0                                       CAPUCHINAS   \n",
       "22351725      9999.0  EncargoDIBUJO DE UNA FOTO TRAIDA POR UN CLIENTE   \n",
       "2767947        245.0                                Sandwiches mixtos   \n",
       "27761506      4510.0                        TARTA FRESAS Y MASCARPONE   \n",
       "\n",
       "                  order_date  section store units_ordered  \\\n",
       "16842805  20/12/2009 0:00:00        0  GoUP          0,00   \n",
       "28937085  20/12/2016 0:00:00        0  ZiUO          0,00   \n",
       "22351725   2/10/2016 0:00:00        0  MoUP          0,00   \n",
       "2767947    29/5/2015 0:00:00        0  VeUp          0,00   \n",
       "27761506   18/5/2015 0:00:00        0  ZiUO          0,00   \n",
       "\n",
       "                                         desc_normalized  \n",
       "16842805                                    encargocardo  \n",
       "28937085                                       capuchina  \n",
       "22351725  encargodibujo de una feo traida con un cliente  \n",
       "2767947                                 sandwich minutos  \n",
       "27761506                       tarta fresas y mascarpone  "
      ]
     },
     "execution_count": 13,
     "metadata": {},
     "output_type": "execute_result"
    }
   ],
   "source": [
    "to_merge = pd.DataFrame(dict(description = df_descriptions_unique, desc_normalized = df_descriptions_normalized))\n",
    "\n",
    "df_with_normalized_descriptions_transactions = pd.merge(df, to_merge, how='left', on = 'description').sort_values(by='order_date')\n",
    "df_with_normalized_descriptions_transactions.sample(5)"
   ]
  },
  {
   "cell_type": "code",
   "execution_count": 14,
   "metadata": {},
   "outputs": [
    {
     "name": "stdout",
     "output_type": "stream",
     "text": [
      "OK - 'df' has the same size as 'df_with_normalized_descriptions' \n"
     ]
    }
   ],
   "source": [
    "#Control merge size:\n",
    "if (df.shape[0] == df_with_normalized_descriptions_transactions.shape[0] ): \n",
    "    test0 = \"OK - 'df' has the same size as 'df_with_normalized_descriptions_transactions' \"\n",
    "else:\n",
    "    test0 = \"ERROR - 'df' has NOT the same size as 'df_with_normalized_descriptions_transactions' \"\n",
    "print(test0)"
   ]
  },
  {
   "cell_type": "code",
   "execution_count": 15,
   "metadata": {},
   "outputs": [
    {
     "name": "stdout",
     "output_type": "stream",
     "text": [
      "The product descritions were cleaned from 48517 unique names to 40024.\n"
     ]
    }
   ],
   "source": [
    "# Checking effectiveness of the data cleaning:\n",
    "unique_descriptions_raw = len(df['description'].unique())\n",
    "unique_descriptions_normalized = len(df_with_normalized_descriptions_transactions['desc_normalized'].unique())\n",
    "print('The product descritions were cleaned from {} unique names to {}.'.format(unique_descriptions_raw,unique_descriptions_normalized))"
   ]
  },
  {
   "cell_type": "markdown",
   "metadata": {},
   "source": [
    "Not super effective..."
   ]
  },
  {
   "cell_type": "code",
   "execution_count": 16,
   "metadata": {},
   "outputs": [],
   "source": [
    "# Saving the file to the intermiady folder\n",
    "output_path_df_with_normalized_descriptions_transactions = exit_path + 'data_with_normalized_names.csv'\n",
    "df_with_normalized_descriptions_transactions.to_csv(output_path_df_with_normalized_descriptions_transactions, index = False, sep = ';' )"
   ]
  },
  {
   "cell_type": "markdown",
   "metadata": {},
   "source": [
    "### 2.2 Identifying product descriptions that the client wants us to predict\n",
    "\n",
    "It is time to create the file that will be manually reviewed.\n",
    "\n",
    "- First, we compare the normalized descriptions with the list of products provided with the client, and suggest matches using the library fuzzywuzzy\n",
    "- Second, we will use the results from the other analysis.\n",
    "- third, we will manually evaluate if the results are good"
   ]
  },
  {
   "cell_type": "markdown",
   "metadata": {},
   "source": [
    "#### 2.2.1 Using the library fuzzywuzzy to compare the product normalized descriptions with the list of products provided by the client and suggest a match, or alternatively - \"match-not-found\""
   ]
  },
  {
   "cell_type": "code",
   "execution_count": 17,
   "metadata": {},
   "outputs": [],
   "source": [
    "df_normalized_desc_unique = pd.DataFrame(df_with_normalized_descriptions_transactions[\"desc_normalized\"].unique(), columns = ['desc_normalized'])"
   ]
  },
  {
   "cell_type": "code",
   "execution_count": 18,
   "metadata": {},
   "outputs": [],
   "source": [
    "def find_match (line, options = list_of_products):\n",
    "    \"Returns product match if the the calculated difference between strings is greater than 80, 'match-not-found' otherwise\"\n",
    "    if not(line is None) and type(line)== str:\n",
    "        highest = process.extractOne(line,list_of_products)\n",
    "        if not(highest is None) and highest[1] >80:\n",
    "            return highest[0]\n",
    "        else:\n",
    "            return 'match-not-found'\n",
    "    else:\n",
    "        return 'match-not-found'\n",
    "\n",
    "# Applying matching function to all product normalized descriptions\n",
    "df_normalized_desc_unique[\"target_names_fuzzywuuzy\"] = df_normalized_desc_unique[\"desc_normalized\"].apply(lambda line: find_match(line))"
   ]
  },
  {
   "cell_type": "markdown",
   "metadata": {},
   "source": [
    "Lets now evaluate how effectively did we match the normalized descriptions with the list that the client provided us:"
   ]
  },
  {
   "cell_type": "code",
   "execution_count": 19,
   "metadata": {},
   "outputs": [
    {
     "data": {
      "text/html": [
       "<div>\n",
       "<style scoped>\n",
       "    .dataframe tbody tr th:only-of-type {\n",
       "        vertical-align: middle;\n",
       "    }\n",
       "\n",
       "    .dataframe tbody tr th {\n",
       "        vertical-align: top;\n",
       "    }\n",
       "\n",
       "    .dataframe thead th {\n",
       "        text-align: right;\n",
       "    }\n",
       "</style>\n",
       "<table border=\"1\" class=\"dataframe\">\n",
       "  <thead>\n",
       "    <tr style=\"text-align: right;\">\n",
       "      <th></th>\n",
       "      <th>desc_normalized</th>\n",
       "      <th>target_names_fuzzywuuzy</th>\n",
       "    </tr>\n",
       "  </thead>\n",
       "  <tbody>\n",
       "    <tr>\n",
       "      <th>380</th>\n",
       "      <td>mousse chocolate blanco</td>\n",
       "      <td>match-not-found</td>\n",
       "    </tr>\n",
       "    <tr>\n",
       "      <th>417</th>\n",
       "      <td>postres mousse chocolate en vasito</td>\n",
       "      <td>match-not-found</td>\n",
       "    </tr>\n",
       "    <tr>\n",
       "      <th>419</th>\n",
       "      <td>postres mousse frutas bosque</td>\n",
       "      <td>match-not-found</td>\n",
       "    </tr>\n",
       "    <tr>\n",
       "      <th>482</th>\n",
       "      <td>postres mousse de limon</td>\n",
       "      <td>match-not-found</td>\n",
       "    </tr>\n",
       "    <tr>\n",
       "      <th>501</th>\n",
       "      <td>petit yogur mousse praline</td>\n",
       "      <td>croissant petit</td>\n",
       "    </tr>\n",
       "    <tr>\n",
       "      <th>569</th>\n",
       "      <td>mousse 3 chocolates 3</td>\n",
       "      <td>tarta mousse 3 chocolates</td>\n",
       "    </tr>\n",
       "    <tr>\n",
       "      <th>570</th>\n",
       "      <td>mousse 3 chocolates 1</td>\n",
       "      <td>tarta mousse 3 chocolates</td>\n",
       "    </tr>\n",
       "    <tr>\n",
       "      <th>571</th>\n",
       "      <td>mousse 3 chocolates 2</td>\n",
       "      <td>tarta mousse 3 chocolates</td>\n",
       "    </tr>\n",
       "    <tr>\n",
       "      <th>572</th>\n",
       "      <td>postres mousse tres chocolates</td>\n",
       "      <td>match-not-found</td>\n",
       "    </tr>\n",
       "    <tr>\n",
       "      <th>617</th>\n",
       "      <td>mousse de perigot</td>\n",
       "      <td>palmera de chocolatetarta opera</td>\n",
       "    </tr>\n",
       "  </tbody>\n",
       "</table>\n",
       "</div>"
      ],
      "text/plain": [
       "                        desc_normalized          target_names_fuzzywuuzy\n",
       "380             mousse chocolate blanco                  match-not-found\n",
       "417  postres mousse chocolate en vasito                  match-not-found\n",
       "419        postres mousse frutas bosque                  match-not-found\n",
       "482             postres mousse de limon                  match-not-found\n",
       "501          petit yogur mousse praline                  croissant petit\n",
       "569               mousse 3 chocolates 3        tarta mousse 3 chocolates\n",
       "570               mousse 3 chocolates 1        tarta mousse 3 chocolates\n",
       "571               mousse 3 chocolates 2        tarta mousse 3 chocolates\n",
       "572      postres mousse tres chocolates                  match-not-found\n",
       "617                   mousse de perigot  palmera de chocolatetarta opera"
      ]
     },
     "execution_count": 19,
     "metadata": {},
     "output_type": "execute_result"
    }
   ],
   "source": [
    "# Lets review the effectiveness filtering by 'mousse '. The expected result is that all 'mousse 3 chocolates' match\n",
    "df_normalized_desc_unique[df_normalized_desc_unique['desc_normalized'].str.contains('mousse')].head(10)"
   ]
  },
  {
   "cell_type": "markdown",
   "metadata": {},
   "source": [
    "As we can see... its not actually very good, lets try something different."
   ]
  },
  {
   "cell_type": "markdown",
   "metadata": {},
   "source": [
    "#### 2.2.1 Using the results from the other analysis\n",
    "\n",
    "Lets now use the results from the manual analysis to see how efective the measure was:"
   ]
  },
  {
   "cell_type": "code",
   "execution_count": 20,
   "metadata": {},
   "outputs": [],
   "source": [
    "# Since this matching is performed at id level, \n",
    "# lets create a new dataset with unique product_id, descriptions, and evaluate it:\n",
    "df_normalized_id_desc_unique = df_with_normalized_descriptions_transactions[[\"product_id\",'desc_normalized']].drop_duplicates()"
   ]
  },
  {
   "cell_type": "code",
   "execution_count": 21,
   "metadata": {},
   "outputs": [],
   "source": [
    "dict_of_products_matches={100: 'croissant', \n",
    "                  101: 'croissant',\n",
    "                  102: 'croissant',\n",
    "                  103: 'croissant petit',\n",
    "                  9999: 'tarta mousse 3 chocolates', # almost only for order, creating a new id for this product is suggested\n",
    "                  462: 'tarta de manzana 2º',\n",
    "                  182: 'palmera de chocolate', # palmeras: 140\n",
    "                  414: 'tarta opera', # 9999, for order, mostly. If included, creating a new id for this product is suggested\n",
    "                  4511:'postre fresas y mascarpone',\n",
    "                  459: 'milhojas frambuesa 2º',\n",
    "                  112: 'tortel',\n",
    "                  115: 'baguette'}"
   ]
  },
  {
   "cell_type": "code",
   "execution_count": 22,
   "metadata": {},
   "outputs": [],
   "source": [
    "def target_names_a(product_id, dict_of_products_matches= dict_of_products_matches):\n",
    "    'Returns match if the product_id is found within the given dict or, otherise \"match-not-found\"'\n",
    "    if not(product_id is None) and not(math.isnan(product_id)) and int(product_id)  in dict_of_products_matches:\n",
    "        return dict_of_products_matches[int(product_id)]\n",
    "    else:\n",
    "        return 'match-not-found'\n",
    "    \n",
    "df_normalized_id_desc_unique['target_names_manual_analysis']=df_normalized_id_desc_unique[\"product_id\"].apply(lambda line: target_names_a(line))"
   ]
  },
  {
   "cell_type": "markdown",
   "metadata": {},
   "source": [
    "Lets now check how effective this was:"
   ]
  },
  {
   "cell_type": "code",
   "execution_count": 23,
   "metadata": {
    "scrolled": true
   },
   "outputs": [
    {
     "data": {
      "text/html": [
       "<div>\n",
       "<style scoped>\n",
       "    .dataframe tbody tr th:only-of-type {\n",
       "        vertical-align: middle;\n",
       "    }\n",
       "\n",
       "    .dataframe tbody tr th {\n",
       "        vertical-align: top;\n",
       "    }\n",
       "\n",
       "    .dataframe thead th {\n",
       "        text-align: right;\n",
       "    }\n",
       "</style>\n",
       "<table border=\"1\" class=\"dataframe\">\n",
       "  <thead>\n",
       "    <tr style=\"text-align: right;\">\n",
       "      <th></th>\n",
       "      <th>product_id</th>\n",
       "      <th>desc_normalized</th>\n",
       "      <th>target_names_manual_analysis</th>\n",
       "    </tr>\n",
       "  </thead>\n",
       "  <tbody>\n",
       "    <tr>\n",
       "      <th>2498667</th>\n",
       "      <td>618.0</td>\n",
       "      <td>mousse chocolate blanco</td>\n",
       "      <td>match-not-found</td>\n",
       "    </tr>\n",
       "    <tr>\n",
       "      <th>2479507</th>\n",
       "      <td>877.0</td>\n",
       "      <td>postres mousse chocolate en vasito</td>\n",
       "      <td>match-not-found</td>\n",
       "    </tr>\n",
       "    <tr>\n",
       "      <th>2479509</th>\n",
       "      <td>879.0</td>\n",
       "      <td>postres mousse frutas bosque</td>\n",
       "      <td>match-not-found</td>\n",
       "    </tr>\n",
       "    <tr>\n",
       "      <th>13734845</th>\n",
       "      <td>821.0</td>\n",
       "      <td>postres mousse de limon</td>\n",
       "      <td>match-not-found</td>\n",
       "    </tr>\n",
       "    <tr>\n",
       "      <th>13734826</th>\n",
       "      <td>728.0</td>\n",
       "      <td>petit yogur mousse praline</td>\n",
       "      <td>match-not-found</td>\n",
       "    </tr>\n",
       "    <tr>\n",
       "      <th>25009569</th>\n",
       "      <td>453.0</td>\n",
       "      <td>mousse 3 chocolates 3</td>\n",
       "      <td>match-not-found</td>\n",
       "    </tr>\n",
       "    <tr>\n",
       "      <th>25009568</th>\n",
       "      <td>452.0</td>\n",
       "      <td>mousse 3 chocolates 1</td>\n",
       "      <td>match-not-found</td>\n",
       "    </tr>\n",
       "    <tr>\n",
       "      <th>25009567</th>\n",
       "      <td>451.0</td>\n",
       "      <td>mousse 3 chocolates 2</td>\n",
       "      <td>match-not-found</td>\n",
       "    </tr>\n",
       "    <tr>\n",
       "      <th>25009566</th>\n",
       "      <td>450.0</td>\n",
       "      <td>postres mousse tres chocolates</td>\n",
       "      <td>match-not-found</td>\n",
       "    </tr>\n",
       "    <tr>\n",
       "      <th>24921912</th>\n",
       "      <td>312.0</td>\n",
       "      <td>mousse de perigot</td>\n",
       "      <td>match-not-found</td>\n",
       "    </tr>\n",
       "    <tr>\n",
       "      <th>24921911</th>\n",
       "      <td>311.0</td>\n",
       "      <td>mousse de salmon</td>\n",
       "      <td>match-not-found</td>\n",
       "    </tr>\n",
       "    <tr>\n",
       "      <th>24921910</th>\n",
       "      <td>310.0</td>\n",
       "      <td>mousse de con opcion</td>\n",
       "      <td>match-not-found</td>\n",
       "    </tr>\n",
       "    <tr>\n",
       "      <th>24921909</th>\n",
       "      <td>309.0</td>\n",
       "      <td>mousse de con</td>\n",
       "      <td>match-not-found</td>\n",
       "    </tr>\n",
       "    <tr>\n",
       "      <th>21890758</th>\n",
       "      <td>425.0</td>\n",
       "      <td>postres mousse naranja</td>\n",
       "      <td>match-not-found</td>\n",
       "    </tr>\n",
       "    <tr>\n",
       "      <th>21879345</th>\n",
       "      <td>754.0</td>\n",
       "      <td>cartel de mousse de pistacho</td>\n",
       "      <td>match-not-found</td>\n",
       "    </tr>\n",
       "  </tbody>\n",
       "</table>\n",
       "</div>"
      ],
      "text/plain": [
       "          product_id                     desc_normalized  \\\n",
       "2498667        618.0             mousse chocolate blanco   \n",
       "2479507        877.0  postres mousse chocolate en vasito   \n",
       "2479509        879.0        postres mousse frutas bosque   \n",
       "13734845       821.0             postres mousse de limon   \n",
       "13734826       728.0          petit yogur mousse praline   \n",
       "25009569       453.0               mousse 3 chocolates 3   \n",
       "25009568       452.0               mousse 3 chocolates 1   \n",
       "25009567       451.0               mousse 3 chocolates 2   \n",
       "25009566       450.0      postres mousse tres chocolates   \n",
       "24921912       312.0                   mousse de perigot   \n",
       "24921911       311.0                    mousse de salmon   \n",
       "24921910       310.0                mousse de con opcion   \n",
       "24921909       309.0                       mousse de con   \n",
       "21890758       425.0              postres mousse naranja   \n",
       "21879345       754.0        cartel de mousse de pistacho   \n",
       "\n",
       "         target_names_manual_analysis  \n",
       "2498667               match-not-found  \n",
       "2479507               match-not-found  \n",
       "2479509               match-not-found  \n",
       "13734845              match-not-found  \n",
       "13734826              match-not-found  \n",
       "25009569              match-not-found  \n",
       "25009568              match-not-found  \n",
       "25009567              match-not-found  \n",
       "25009566              match-not-found  \n",
       "24921912              match-not-found  \n",
       "24921911              match-not-found  \n",
       "24921910              match-not-found  \n",
       "24921909              match-not-found  \n",
       "21890758              match-not-found  \n",
       "21879345              match-not-found  "
      ]
     },
     "execution_count": 23,
     "metadata": {},
     "output_type": "execute_result"
    }
   ],
   "source": [
    "# Lets review the effectiveness filtering by 'mousse '. The expected result is that all 'mousse 3 chocolates' match\n",
    "df_normalized_id_desc_unique[df_normalized_id_desc_unique['desc_normalized'].str.contains('mousse')].head(15)"
   ]
  },
  {
   "cell_type": "markdown",
   "metadata": {},
   "source": [
    "Again, not very good, since most of the 'mousse 3 chocolates' are unmatched."
   ]
  },
  {
   "cell_type": "markdown",
   "metadata": {},
   "source": [
    "It is clear that we need an better way to match the results. Lets try doing keywords filtering product by product."
   ]
  },
  {
   "cell_type": "code",
   "execution_count": 6,
   "metadata": {},
   "outputs": [],
   "source": [
    "# TO DELETE!\n",
    "output_path_df_with_normalized_descriptions_transactions = exit_path + 'data_with_normalized_names.csv'\n",
    "df_with_normalized_descriptions_transactions = pd.read_csv(output_path_df_with_normalized_descriptions_transactions, sep = ';' )\n"
   ]
  },
  {
   "cell_type": "markdown",
   "metadata": {},
   "source": [
    "### 2.3 Review Product by Product"
   ]
  },
  {
   "cell_type": "code",
   "execution_count": 7,
   "metadata": {},
   "outputs": [],
   "source": [
    "#First, lets create again a dataframe with unique descriptions\n",
    "unique_normalized_decriptions = df_with_normalized_descriptions_transactions[['product_id','desc_normalized']].drop_duplicates()\n",
    "\n",
    "#And a empty list to add all the unitary analysis. It will be use to concatenate results.\n",
    "list_of_dfs = []"
   ]
  },
  {
   "cell_type": "code",
   "execution_count": 8,
   "metadata": {},
   "outputs": [],
   "source": [
    "# Functions that we will use:\n",
    "\n",
    "def plot_count_per_id(df):\n",
    "    transactions_by_id = df.groupby(\"product_id\")['desc_normalized'].count()\n",
    "    transactions_by_id.plot.bar()"
   ]
  },
  {
   "cell_type": "markdown",
   "metadata": {},
   "source": [
    "#### 2.3.1 Matching: milhojas de frambuesa 2º"
   ]
  },
  {
   "cell_type": "code",
   "execution_count": 9,
   "metadata": {},
   "outputs": [],
   "source": [
    "def filter_milhojas (df):\n",
    "    'Filters the product descriptions of given dataset by \"milhojas\" and \"frambuesa 2\"'\n",
    "    milhojas = df[df['desc_normalized'].str.contains('milhojas')]\n",
    "    milhojas_frambuesa = milhojas[milhojas['desc_normalized'].str.contains('frambuesa 2')].copy()\n",
    "    return milhojas_frambuesa\n"
   ]
  },
  {
   "cell_type": "code",
   "execution_count": 10,
   "metadata": {},
   "outputs": [
    {
     "data": {
      "text/html": [
       "<div>\n",
       "<style scoped>\n",
       "    .dataframe tbody tr th:only-of-type {\n",
       "        vertical-align: middle;\n",
       "    }\n",
       "\n",
       "    .dataframe tbody tr th {\n",
       "        vertical-align: top;\n",
       "    }\n",
       "\n",
       "    .dataframe thead th {\n",
       "        text-align: right;\n",
       "    }\n",
       "</style>\n",
       "<table border=\"1\" class=\"dataframe\">\n",
       "  <thead>\n",
       "    <tr style=\"text-align: right;\">\n",
       "      <th></th>\n",
       "      <th>product_id</th>\n",
       "      <th>description</th>\n",
       "      <th>order_date</th>\n",
       "      <th>section</th>\n",
       "      <th>store</th>\n",
       "      <th>units_ordered</th>\n",
       "      <th>desc_normalized</th>\n",
       "    </tr>\n",
       "  </thead>\n",
       "  <tbody>\n",
       "    <tr>\n",
       "      <th>336</th>\n",
       "      <td>414.0</td>\n",
       "      <td>TARTA  MILHOJAS   FRAMBUESA  2º</td>\n",
       "      <td>1/1/2008 0:00:00</td>\n",
       "      <td>0</td>\n",
       "      <td>VeUp</td>\n",
       "      <td>0,00</td>\n",
       "      <td>tarta milhojas frambuesa 2</td>\n",
       "    </tr>\n",
       "    <tr>\n",
       "      <th>1129</th>\n",
       "      <td>459.0</td>\n",
       "      <td>MILHOJAS   FRAMBUESA 2º</td>\n",
       "      <td>1/1/2008 0:00:00</td>\n",
       "      <td>0</td>\n",
       "      <td>MsUP</td>\n",
       "      <td>0,00</td>\n",
       "      <td>milhojas frambuesa 2</td>\n",
       "    </tr>\n",
       "    <tr>\n",
       "      <th>1322</th>\n",
       "      <td>459.0</td>\n",
       "      <td>MILHOJAS   FRAMBUESA 2º</td>\n",
       "      <td>1/1/2008 0:00:00</td>\n",
       "      <td>0</td>\n",
       "      <td>ZiUO</td>\n",
       "      <td>0,00</td>\n",
       "      <td>milhojas frambuesa 2</td>\n",
       "    </tr>\n",
       "    <tr>\n",
       "      <th>1358</th>\n",
       "      <td>459.0</td>\n",
       "      <td>MILHOJAS   FRAMBUESA 2º</td>\n",
       "      <td>1/1/2008 0:00:00</td>\n",
       "      <td>0</td>\n",
       "      <td>VeUp</td>\n",
       "      <td>2,00</td>\n",
       "      <td>milhojas frambuesa 2</td>\n",
       "    </tr>\n",
       "    <tr>\n",
       "      <th>1370</th>\n",
       "      <td>414.0</td>\n",
       "      <td>TARTA  MILHOJAS   FRAMBUESA  2º</td>\n",
       "      <td>1/1/2008 0:00:00</td>\n",
       "      <td>0</td>\n",
       "      <td>ZiUO</td>\n",
       "      <td>0,00</td>\n",
       "      <td>tarta milhojas frambuesa 2</td>\n",
       "    </tr>\n",
       "  </tbody>\n",
       "</table>\n",
       "</div>"
      ],
      "text/plain": [
       "      product_id                      description        order_date  section  \\\n",
       "336        414.0  TARTA  MILHOJAS   FRAMBUESA  2º  1/1/2008 0:00:00        0   \n",
       "1129       459.0          MILHOJAS   FRAMBUESA 2º  1/1/2008 0:00:00        0   \n",
       "1322       459.0          MILHOJAS   FRAMBUESA 2º  1/1/2008 0:00:00        0   \n",
       "1358       459.0          MILHOJAS   FRAMBUESA 2º  1/1/2008 0:00:00        0   \n",
       "1370       414.0  TARTA  MILHOJAS   FRAMBUESA  2º  1/1/2008 0:00:00        0   \n",
       "\n",
       "     store units_ordered             desc_normalized  \n",
       "336   VeUp          0,00  tarta milhojas frambuesa 2  \n",
       "1129  MsUP          0,00        milhojas frambuesa 2  \n",
       "1322  ZiUO          0,00        milhojas frambuesa 2  \n",
       "1358  VeUp          2,00        milhojas frambuesa 2  \n",
       "1370  ZiUO          0,00  tarta milhojas frambuesa 2  "
      ]
     },
     "execution_count": 10,
     "metadata": {},
     "output_type": "execute_result"
    }
   ],
   "source": [
    "# Filter the transactions dataset\n",
    "milhojas_frambuesa_transacciones=filter_milhojas(df_with_normalized_descriptions_transactions)\n",
    "milhojas_frambuesa_transacciones.head()"
   ]
  },
  {
   "cell_type": "code",
   "execution_count": 11,
   "metadata": {},
   "outputs": [
    {
     "data": {
      "image/png": "[encoded data removed]",
      "text/plain": [
       "<Figure size 432x288 with 1 Axes>"
      ]
     },
     "metadata": {
      "needs_background": "light"
     },
     "output_type": "display_data"
    }
   ],
   "source": [
    "# Plot the ditribution of 'product_id'\n",
    "plot_count_per_id(milhojas_frambuesa_transacciones)"
   ]
  },
  {
   "cell_type": "markdown",
   "metadata": {},
   "source": [
    "Lets explore the names distribution of 414, 459 and 9999:"
   ]
  },
  {
   "cell_type": "code",
   "execution_count": 12,
   "metadata": {},
   "outputs": [
    {
     "data": {
      "text/plain": [
       "milhojas frambuesa 2                       167542\n",
       "milhojas frambuesa 1                         1311\n",
       "tiras de milhojas rellena solo de crema       532\n",
       "milhojas frambuesa 3                          437\n",
       "milhojas frambuesa 2 solo crema               399\n",
       "Name: desc_normalized, dtype: int64"
      ]
     },
     "execution_count": 12,
     "metadata": {},
     "output_type": "execute_result"
    }
   ],
   "source": [
    "#Names distribution for product_id = 459:\n",
    "df_with_normalized_descriptions_transactions[df_with_normalized_descriptions_transactions['product_id']==459.0]['desc_normalized'].value_counts().head()"
   ]
  },
  {
   "cell_type": "code",
   "execution_count": 13,
   "metadata": {},
   "outputs": [
    {
     "data": {
      "text/plain": [
       "tarta muy tres chocolates 2    4788\n",
       "tarta milhojas frambuesa 2     4123\n",
       "tarta limon 3                  3420\n",
       "tarta milhojas 2               1824\n",
       "tarta tres chocolates 2        1805\n",
       "Name: desc_normalized, dtype: int64"
      ]
     },
     "execution_count": 13,
     "metadata": {},
     "output_type": "execute_result"
    }
   ],
   "source": [
    "#Names distribution for product_id = 414:\n",
    "df_with_normalized_descriptions_transactions[df_with_normalized_descriptions_transactions['product_id']==414.0]['desc_normalized'].value_counts().head()"
   ]
  },
  {
   "cell_type": "code",
   "execution_count": 14,
   "metadata": {},
   "outputs": [
    {
     "data": {
      "text/plain": [
       "tarta milhojas frambuesa 2                  950\n",
       "tiras de milhojas solo crema                912\n",
       "encargo tarta milhojas del 1                912\n",
       "tarta milhojas de frambuesa del 3           855\n",
       "encargo tarta milhojas y frambuesa del 1    798\n",
       "Name: desc_normalized, dtype: int64"
      ]
     },
     "execution_count": 14,
     "metadata": {},
     "output_type": "execute_result"
    }
   ],
   "source": [
    "#Names distribution for product_id = 9999:\n",
    "df_with_normalized_descriptions_transactions[(df_with_normalized_descriptions_transactions['product_id']==9999.0) & (df_with_normalized_descriptions_transactions['desc_normalized'].str.contains('milhoja'))]['desc_normalized'].value_counts().head()"
   ]
  },
  {
   "cell_type": "markdown",
   "metadata": {},
   "source": [
    "It seems there is a strong correlation with id 459, however 459 it also includes other types of 'milhojas'. In addition, 'milhojas de frambuesa 2º' is also included in id number 414, which seems to be a multiple 'tartas' id, and id 9999, which is the id used for custom orders.\n",
    "\n",
    "For these reasons, we decide to filter milhojas based on the description (filtering the dataframe with only disting 'product_id' and 'des_normalized' values:"
   ]
  },
  {
   "cell_type": "code",
   "execution_count": 15,
   "metadata": {},
   "outputs": [
    {
     "data": {
      "text/html": [
       "<div>\n",
       "<style scoped>\n",
       "    .dataframe tbody tr th:only-of-type {\n",
       "        vertical-align: middle;\n",
       "    }\n",
       "\n",
       "    .dataframe tbody tr th {\n",
       "        vertical-align: top;\n",
       "    }\n",
       "\n",
       "    .dataframe thead th {\n",
       "        text-align: right;\n",
       "    }\n",
       "</style>\n",
       "<table border=\"1\" class=\"dataframe\">\n",
       "  <thead>\n",
       "    <tr style=\"text-align: right;\">\n",
       "      <th></th>\n",
       "      <th>product_id</th>\n",
       "      <th>desc_normalized</th>\n",
       "      <th>target_names_prod_by_prod</th>\n",
       "    </tr>\n",
       "  </thead>\n",
       "  <tbody>\n",
       "    <tr>\n",
       "      <th>7200967</th>\n",
       "      <td>459.0</td>\n",
       "      <td>milhojas frambuesa 2 con cartel felix cumplea ...</td>\n",
       "      <td>milhojas frambuesa</td>\n",
       "    </tr>\n",
       "    <tr>\n",
       "      <th>1673534</th>\n",
       "      <td>459.0</td>\n",
       "      <td>milhojas frambuesa 2 con cartel de felicidades...</td>\n",
       "      <td>milhojas frambuesa</td>\n",
       "    </tr>\n",
       "    <tr>\n",
       "      <th>1821876</th>\n",
       "      <td>459.0</td>\n",
       "      <td>milhojas frambuesa 2 y cartel felicidades masa</td>\n",
       "      <td>milhojas frambuesa</td>\n",
       "    </tr>\n",
       "    <tr>\n",
       "      <th>19189836</th>\n",
       "      <td>414.0</td>\n",
       "      <td>tarta milhojas frambuesa 2 felicidades</td>\n",
       "      <td>milhojas frambuesa</td>\n",
       "    </tr>\n",
       "    <tr>\n",
       "      <th>26613392</th>\n",
       "      <td>459.0</td>\n",
       "      <td>milhojas frambuesa 2 para cafeteria)</td>\n",
       "      <td>milhojas frambuesa</td>\n",
       "    </tr>\n",
       "  </tbody>\n",
       "</table>\n",
       "</div>"
      ],
      "text/plain": [
       "          product_id                                    desc_normalized  \\\n",
       "7200967        459.0  milhojas frambuesa 2 con cartel felix cumplea ...   \n",
       "1673534        459.0  milhojas frambuesa 2 con cartel de felicidades...   \n",
       "1821876        459.0     milhojas frambuesa 2 y cartel felicidades masa   \n",
       "19189836       414.0             tarta milhojas frambuesa 2 felicidades   \n",
       "26613392       459.0               milhojas frambuesa 2 para cafeteria)   \n",
       "\n",
       "         target_names_prod_by_prod  \n",
       "7200967         milhojas frambuesa  \n",
       "1673534         milhojas frambuesa  \n",
       "1821876         milhojas frambuesa  \n",
       "19189836        milhojas frambuesa  \n",
       "26613392        milhojas frambuesa  "
      ]
     },
     "execution_count": 15,
     "metadata": {},
     "output_type": "execute_result"
    }
   ],
   "source": [
    "#Save unique product_id and product_description:\n",
    "milhojas_frambuesa = filter_milhojas(unique_normalized_decriptions)\n",
    "milhojas_frambuesa['target_names_prod_by_prod'] = 'milhojas frambuesa'\n",
    "list_of_dfs.append(milhojas_frambuesa)\n",
    "milhojas_frambuesa.sample(5)"
   ]
  },
  {
   "cell_type": "markdown",
   "metadata": {},
   "source": [
    "#### 2.3.2 Matching: croissant petite\n",
    "\n",
    "From the analysis performed in notebook \"x01-transactions_to_partial_results-yy.ipynb\", it was concluded that 'croissant petite' had an strong correlation with id number '103' however, before commiting to filtering by that ID, lets plot the distribution of count of lines per ID, that satisfies the filters of the following function, from the transaction dataset, in order to :"
   ]
  },
  {
   "cell_type": "code",
   "execution_count": 16,
   "metadata": {},
   "outputs": [],
   "source": [
    "def filter_croissant_petit (df):\n",
    "    croissant = df[df['desc_normalized'].str.contains('croissant')].copy()\n",
    "    croissant_petite = croissant[croissant['desc_normalized'].str.contains('petit')].copy()\n",
    "    return croissant_petite"
   ]
  },
  {
   "cell_type": "code",
   "execution_count": 17,
   "metadata": {},
   "outputs": [
    {
     "data": {
      "text/html": [
       "<div>\n",
       "<style scoped>\n",
       "    .dataframe tbody tr th:only-of-type {\n",
       "        vertical-align: middle;\n",
       "    }\n",
       "\n",
       "    .dataframe tbody tr th {\n",
       "        vertical-align: top;\n",
       "    }\n",
       "\n",
       "    .dataframe thead th {\n",
       "        text-align: right;\n",
       "    }\n",
       "</style>\n",
       "<table border=\"1\" class=\"dataframe\">\n",
       "  <thead>\n",
       "    <tr style=\"text-align: right;\">\n",
       "      <th></th>\n",
       "      <th>product_id</th>\n",
       "      <th>description</th>\n",
       "      <th>order_date</th>\n",
       "      <th>section</th>\n",
       "      <th>store</th>\n",
       "      <th>units_ordered</th>\n",
       "      <th>desc_normalized</th>\n",
       "    </tr>\n",
       "  </thead>\n",
       "  <tbody>\n",
       "    <tr>\n",
       "      <th>242</th>\n",
       "      <td>103.0</td>\n",
       "      <td>CROISSANT PETIT</td>\n",
       "      <td>1/1/2008 0:00:00</td>\n",
       "      <td>0</td>\n",
       "      <td>VeUp</td>\n",
       "      <td>18,00</td>\n",
       "      <td>croissant petit</td>\n",
       "    </tr>\n",
       "    <tr>\n",
       "      <th>314</th>\n",
       "      <td>102.0</td>\n",
       "      <td>PETIT  CROISSANTS  ALARGADOS  FUTBOL</td>\n",
       "      <td>1/1/2008 0:00:00</td>\n",
       "      <td>0</td>\n",
       "      <td>VeUp</td>\n",
       "      <td>0,00</td>\n",
       "      <td>petit croissant alargados futbol</td>\n",
       "    </tr>\n",
       "    <tr>\n",
       "      <th>1368</th>\n",
       "      <td>102.0</td>\n",
       "      <td>PETIT  CROISSANTS  ALARGADOS  FUTBOL</td>\n",
       "      <td>1/1/2008 0:00:00</td>\n",
       "      <td>0</td>\n",
       "      <td>ZiUO</td>\n",
       "      <td>0,00</td>\n",
       "      <td>petit croissant alargados futbol</td>\n",
       "    </tr>\n",
       "    <tr>\n",
       "      <th>1488</th>\n",
       "      <td>103.0</td>\n",
       "      <td>CROISSANT PETIT</td>\n",
       "      <td>1/1/2008 0:00:00</td>\n",
       "      <td>0</td>\n",
       "      <td>ZiUO</td>\n",
       "      <td>0,00</td>\n",
       "      <td>croissant petit</td>\n",
       "    </tr>\n",
       "    <tr>\n",
       "      <th>1579</th>\n",
       "      <td>103.0</td>\n",
       "      <td>CROISSANT PETIT</td>\n",
       "      <td>1/1/2008 0:00:00</td>\n",
       "      <td>0</td>\n",
       "      <td>AeUP</td>\n",
       "      <td>0,00</td>\n",
       "      <td>croissant petit</td>\n",
       "    </tr>\n",
       "  </tbody>\n",
       "</table>\n",
       "</div>"
      ],
      "text/plain": [
       "      product_id                           description        order_date  \\\n",
       "242        103.0                       CROISSANT PETIT  1/1/2008 0:00:00   \n",
       "314        102.0  PETIT  CROISSANTS  ALARGADOS  FUTBOL  1/1/2008 0:00:00   \n",
       "1368       102.0  PETIT  CROISSANTS  ALARGADOS  FUTBOL  1/1/2008 0:00:00   \n",
       "1488       103.0                       CROISSANT PETIT  1/1/2008 0:00:00   \n",
       "1579       103.0                       CROISSANT PETIT  1/1/2008 0:00:00   \n",
       "\n",
       "      section store units_ordered                   desc_normalized  \n",
       "242         0  VeUp         18,00                   croissant petit  \n",
       "314         0  VeUp          0,00  petit croissant alargados futbol  \n",
       "1368        0  ZiUO          0,00  petit croissant alargados futbol  \n",
       "1488        0  ZiUO          0,00                   croissant petit  \n",
       "1579        0  AeUP          0,00                   croissant petit  "
      ]
     },
     "execution_count": 17,
     "metadata": {},
     "output_type": "execute_result"
    }
   ],
   "source": [
    "# Plotting the results:\n",
    "transactions_croissant_petite = filter_croissant_petit(df_with_normalized_descriptions_transactions)\n",
    "transactions_croissant_petite.head()"
   ]
  },
  {
   "cell_type": "code",
   "execution_count": 18,
   "metadata": {},
   "outputs": [
    {
     "data": {
      "image/png": "[encoded data removed]",
      "text/plain": [
       "<Figure size 432x288 with 1 Axes>"
      ]
     },
     "metadata": {
      "needs_background": "light"
     },
     "output_type": "display_data"
    }
   ],
   "source": [
    "plot_count_per_id(transactions_croissant_petite)"
   ]
  },
  {
   "cell_type": "markdown",
   "metadata": {},
   "source": [
    "It is clear that id '103' represents the 'croissant petite';  in fact, after reviweing the data with the client, he suggested only taking 103."
   ]
  },
  {
   "cell_type": "code",
   "execution_count": 19,
   "metadata": {},
   "outputs": [
    {
     "data": {
      "text/html": [
       "<div>\n",
       "<style scoped>\n",
       "    .dataframe tbody tr th:only-of-type {\n",
       "        vertical-align: middle;\n",
       "    }\n",
       "\n",
       "    .dataframe tbody tr th {\n",
       "        vertical-align: top;\n",
       "    }\n",
       "\n",
       "    .dataframe thead th {\n",
       "        text-align: right;\n",
       "    }\n",
       "</style>\n",
       "<table border=\"1\" class=\"dataframe\">\n",
       "  <thead>\n",
       "    <tr style=\"text-align: right;\">\n",
       "      <th></th>\n",
       "      <th>product_id</th>\n",
       "      <th>desc_normalized</th>\n",
       "      <th>target_names_prod_by_prod</th>\n",
       "    </tr>\n",
       "  </thead>\n",
       "  <tbody>\n",
       "    <tr>\n",
       "      <th>242</th>\n",
       "      <td>103.0</td>\n",
       "      <td>croissant petit</td>\n",
       "      <td>croissant petit</td>\n",
       "    </tr>\n",
       "    <tr>\n",
       "      <th>331</th>\n",
       "      <td>103.0</td>\n",
       "      <td>mini napolitanas crema</td>\n",
       "      <td>croissant petit</td>\n",
       "    </tr>\n",
       "    <tr>\n",
       "      <th>332</th>\n",
       "      <td>103.0</td>\n",
       "      <td>mini napolitanas chocolate</td>\n",
       "      <td>croissant petit</td>\n",
       "    </tr>\n",
       "    <tr>\n",
       "      <th>333</th>\n",
       "      <td>103.0</td>\n",
       "      <td>focaccias futbol</td>\n",
       "      <td>croissant petit</td>\n",
       "    </tr>\n",
       "    <tr>\n",
       "      <th>89738</th>\n",
       "      <td>103.0</td>\n",
       "      <td>baguet multicereales</td>\n",
       "      <td>croissant petit</td>\n",
       "    </tr>\n",
       "  </tbody>\n",
       "</table>\n",
       "</div>"
      ],
      "text/plain": [
       "       product_id             desc_normalized target_names_prod_by_prod\n",
       "242         103.0             croissant petit           croissant petit\n",
       "331         103.0      mini napolitanas crema           croissant petit\n",
       "332         103.0  mini napolitanas chocolate           croissant petit\n",
       "333         103.0            focaccias futbol           croissant petit\n",
       "89738       103.0        baguet multicereales           croissant petit"
      ]
     },
     "execution_count": 19,
     "metadata": {},
     "output_type": "execute_result"
    }
   ],
   "source": [
    "# Saving id=103 as croissant petit\n",
    "croissant_petit = unique_normalized_decriptions[unique_normalized_decriptions['product_id']==103.0].copy()\n",
    "croissant_petit['target_names_prod_by_prod'] = 'croissant petit'\n",
    "list_of_dfs.append(croissant_petit)\n",
    "croissant_petit.head()"
   ]
  },
  {
   "cell_type": "markdown",
   "metadata": {},
   "source": [
    "#### 2.3.3 Matching: croissant\n",
    "\n",
    "From the analysis performed in notebook \"x01-transactions_to_partial_results-yy.ipynb\", it was concluded that 'croissant simple' had an strong correlation with id number '100' and '101' however, before commiting to filtering by that ID, lets plot the distribution of count of lines per ID, that satisfies the filters of the following function, from the transaction dataset, in order to :"
   ]
  },
  {
   "cell_type": "code",
   "execution_count": 20,
   "metadata": {},
   "outputs": [],
   "source": [
    "def filter_croissant_simple (df):\n",
    "    croissant = df[df['desc_normalized'].str.contains('croissant')].copy()\n",
    "    croissant_simple = croissant[~croissant['desc_normalized'].str.contains('petit|tira|masa')].copy()\n",
    "    return croissant_simple"
   ]
  },
  {
   "cell_type": "code",
   "execution_count": 21,
   "metadata": {},
   "outputs": [
    {
     "data": {
      "text/html": [
       "<div>\n",
       "<style scoped>\n",
       "    .dataframe tbody tr th:only-of-type {\n",
       "        vertical-align: middle;\n",
       "    }\n",
       "\n",
       "    .dataframe tbody tr th {\n",
       "        vertical-align: top;\n",
       "    }\n",
       "\n",
       "    .dataframe thead th {\n",
       "        text-align: right;\n",
       "    }\n",
       "</style>\n",
       "<table border=\"1\" class=\"dataframe\">\n",
       "  <thead>\n",
       "    <tr style=\"text-align: right;\">\n",
       "      <th></th>\n",
       "      <th>product_id</th>\n",
       "      <th>description</th>\n",
       "      <th>order_date</th>\n",
       "      <th>section</th>\n",
       "      <th>store</th>\n",
       "      <th>units_ordered</th>\n",
       "      <th>desc_normalized</th>\n",
       "    </tr>\n",
       "  </thead>\n",
       "  <tbody>\n",
       "    <tr>\n",
       "      <th>201</th>\n",
       "      <td>215.0</td>\n",
       "      <td>CROISANNT SOBRASADA PQ COCIDOS</td>\n",
       "      <td>1/1/2008 0:00:00</td>\n",
       "      <td>0</td>\n",
       "      <td>VeUp</td>\n",
       "      <td>2,00</td>\n",
       "      <td>croissant sobrasada px cocido</td>\n",
       "    </tr>\n",
       "    <tr>\n",
       "      <th>216</th>\n",
       "      <td>100.0</td>\n",
       "      <td>CROISANTS</td>\n",
       "      <td>1/1/2008 0:00:00</td>\n",
       "      <td>0</td>\n",
       "      <td>VeUp</td>\n",
       "      <td>20,00</td>\n",
       "      <td>croissant</td>\n",
       "    </tr>\n",
       "    <tr>\n",
       "      <th>240</th>\n",
       "      <td>101.0</td>\n",
       "      <td>CROISSANT</td>\n",
       "      <td>1/1/2008 0:00:00</td>\n",
       "      <td>0</td>\n",
       "      <td>VeUp</td>\n",
       "      <td>0,00</td>\n",
       "      <td>croissant</td>\n",
       "    </tr>\n",
       "    <tr>\n",
       "      <th>241</th>\n",
       "      <td>102.0</td>\n",
       "      <td>CROISSANT FRANCES</td>\n",
       "      <td>1/1/2008 0:00:00</td>\n",
       "      <td>0</td>\n",
       "      <td>VeUp</td>\n",
       "      <td>10,00</td>\n",
       "      <td>croissant francesa</td>\n",
       "    </tr>\n",
       "    <tr>\n",
       "      <th>267</th>\n",
       "      <td>105.0</td>\n",
       "      <td>CROISSANT CHOCOLATE</td>\n",
       "      <td>1/1/2008 0:00:00</td>\n",
       "      <td>0</td>\n",
       "      <td>VeUp</td>\n",
       "      <td>1,00</td>\n",
       "      <td>croissant chocolate</td>\n",
       "    </tr>\n",
       "  </tbody>\n",
       "</table>\n",
       "</div>"
      ],
      "text/plain": [
       "     product_id                     description        order_date  section  \\\n",
       "201       215.0  CROISANNT SOBRASADA PQ COCIDOS  1/1/2008 0:00:00        0   \n",
       "216       100.0                       CROISANTS  1/1/2008 0:00:00        0   \n",
       "240       101.0                       CROISSANT  1/1/2008 0:00:00        0   \n",
       "241       102.0               CROISSANT FRANCES  1/1/2008 0:00:00        0   \n",
       "267       105.0             CROISSANT CHOCOLATE  1/1/2008 0:00:00        0   \n",
       "\n",
       "    store units_ordered                desc_normalized  \n",
       "201  VeUp          2,00  croissant sobrasada px cocido  \n",
       "216  VeUp         20,00                      croissant  \n",
       "240  VeUp          0,00                      croissant  \n",
       "241  VeUp         10,00             croissant francesa  \n",
       "267  VeUp          1,00            croissant chocolate  "
      ]
     },
     "execution_count": 21,
     "metadata": {},
     "output_type": "execute_result"
    }
   ],
   "source": [
    "transactions_croissant_simple = filter_croissant_simple(df_with_normalized_descriptions_transactions)\n",
    "transactions_croissant_simple.head()"
   ]
  },
  {
   "cell_type": "code",
   "execution_count": 22,
   "metadata": {},
   "outputs": [
    {
     "data": {
      "image/png": "[encoded data removed]",
      "text/plain": [
       "<Figure size 432x288 with 1 Axes>"
      ]
     },
     "metadata": {
      "needs_background": "light"
     },
     "output_type": "display_data"
    }
   ],
   "source": [
    "plot_count_per_id(transactions_croissant_simple)"
   ]
  },
  {
   "cell_type": "markdown",
   "metadata": {},
   "source": [
    "Interesting, the correlation seems to exsit for several ids... Lets explore a bit more... Lets plot the most common description from each id and see if we find any pattern:"
   ]
  },
  {
   "cell_type": "code",
   "execution_count": 25,
   "metadata": {},
   "outputs": [
    {
     "name": "stdout",
     "output_type": "stream",
     "text": [
      "***Plotting id: 215.0 \n",
      "-\n",
      "croissant sobrasada px cocido               91580\n",
      "croissant sobrasada px cocido de encargo       76\n",
      "croissant sobrasada px cocido encargo          38\n",
      "mini pizzas                                    19\n",
      "mini hamburguesitas                            19\n",
      "Name: desc_normalized, dtype: int64\n",
      "\n",
      "***Plotting id: 100.0 \n",
      "-\n",
      "croissant                       80598\n",
      "croissant normal mango           1197\n",
      "croissant alargados piezas        342\n",
      "croissant piezas alargadas        133\n",
      "croissant alargados y piezas       95\n",
      "Name: desc_normalized, dtype: int64\n",
      "\n",
      "***Plotting id: 101.0 \n",
      "-\n",
      "croissant                        72124\n",
      "croissant andes marcos piezas     8550\n",
      "suizos piezas hacer 10            4180\n",
      "ensaimadas piezas hacer 10        3477\n",
      "tiras de focaccias                2432\n",
      "Name: desc_normalized, dtype: int64\n",
      "\n",
      "***Plotting id: 102.0 \n",
      "-\n",
      "croissant francesa               86279\n",
      "croissant andes marcos piezas      703\n",
      "focaccias                          266\n",
      "chapatitas ocio                    247\n",
      "mini hamburguesitas                190\n",
      "Name: desc_normalized, dtype: int64\n",
      "\n",
      "***Plotting id: 105.0 \n",
      "-\n",
      "croissant chocolate                   74803\n",
      "croissant de chocolate                 1653\n",
      "croissant chocolate mango               570\n",
      "focaccias                                95\n",
      "ensaimadas piezas hacer a las 12 y       38\n",
      "Name: desc_normalized, dtype: int64\n",
      "\n",
      "***Plotting id: 106.0 \n",
      "-\n",
      "croissant racion                      81168\n",
      "croissant para la venta                 589\n",
      "croissant normal duro                   570\n",
      "focaccias                               247\n",
      "ensaimadas piezas hacer a las 12 y      114\n",
      "Name: desc_normalized, dtype: int64\n",
      "\n",
      "***Plotting id: 107.0 \n",
      "-\n",
      "croissant racion            29716\n",
      "croissant almendra mango      532\n",
      "Name: desc_normalized, dtype: int64\n",
      "\n",
      "***Plotting id: 132.0 \n",
      "-\n",
      "croissant integral              94373\n",
      "croissant cereales mango         1159\n",
      "croissant integral encargo y       19\n",
      "Name: desc_normalized, dtype: int64\n",
      "\n",
      "***Plotting id: 213.0 \n",
      "-\n",
      "croissant sobrasada px cruda                58064\n",
      "capas verduras de racion sin mancha            19\n",
      "croissant sobrasada px cruda y y encargo       19\n",
      "croissant sobrasada px cocido                  19\n",
      "croissant sobrasada px cruda encargo           19\n",
      "Name: desc_normalized, dtype: int64\n",
      "\n",
      "***Plotting id: 5001.0 \n",
      "-\n",
      "croissant alargado grande piezas    33592\n",
      "cartel de cabello bote               2983\n",
      "mini hamburguesitas                   684\n",
      "ensaimadas piezas hacer 10            665\n",
      "suizos piezas hacer 10                570\n",
      "Name: desc_normalized, dtype: int64\n",
      "\n",
      "***Plotting id: 9999.0 \n",
      "-\n",
      "encargo                       25745\n",
      "julian de verduras             8246\n",
      "julian de pimiento             8208\n",
      "brandada de bacalao            6080\n",
      "encargo julian de pimiento     5035\n",
      "Name: desc_normalized, dtype: int64\n",
      "\n",
      "***Plotting id: 214.0 \n",
      "-\n",
      "croissant sobrasada g    589\n",
      "Name: desc_normalized, dtype: int64\n",
      "\n",
      "***Plotting id: 6012.0 \n",
      "-\n",
      "croissant maria chocolat riera hora    114\n",
      "croissant alargado grande               19\n",
      "Name: desc_normalized, dtype: int64\n",
      "\n",
      "***Plotting id: 513.0 \n",
      "-\n",
      "sable breton                                              31122\n",
      "croissant i ines                                             57\n",
      "pastas de macaron fresa chocolate pistacho 150 de cada       19\n",
      "mi onados nata                                               19\n",
      "bolsa de palmeritas de hojaldre 160                          19\n",
      "Name: desc_normalized, dtype: int64\n",
      "\n",
      "***Plotting id: 103.0 \n",
      "-\n",
      "croissant petit                  94259\n",
      "mini napolitanas crema            1824\n",
      "mini napolitanas chocolate        1748\n",
      "croissant normal petit            1216\n",
      "croissant andes marcos piezas      380\n",
      "Name: desc_normalized, dtype: int64\n",
      "\n",
      "***Plotting id: 116.0 \n",
      "-\n",
      "dias coche                         35587\n",
      "crujiente crema canela y fresas    12977\n",
      "dias coche cocido                     38\n",
      "las de dias coche                     38\n",
      "dias coche las                        38\n",
      "Name: desc_normalized, dtype: int64\n",
      "\n",
      "***Plotting id: 2999.0 \n",
      "-\n",
      "mini torteles cruda         513\n",
      "mini ensaimadas cruda       475\n",
      "mini ensaimadas en cruda    456\n",
      "especial pollo              418\n",
      "mini torteles en cruda      418\n",
      "Name: desc_normalized, dtype: int64\n",
      "\n",
      "***Plotting id: 512.0 \n",
      "-\n",
      "petit carre                          29488\n",
      "petit carre 2 blistes y pastas y        19\n",
      "pastas de macaron 500 piezas            19\n",
      "petit carre con de encargo grecia       19\n",
      "petit carre 3 00 g de encargo           19\n",
      "Name: desc_normalized, dtype: int64\n",
      "\n",
      "***Plotting id: 112.0 \n",
      "-\n",
      "torteles                              82821\n",
      "baguet multicereales                    437\n",
      "ensaimadas piezas hacer a las 12 y      342\n",
      "focaccias                               228\n",
      "suizos piezas hacer las 12 y            209\n",
      "Name: desc_normalized, dtype: int64\n",
      "\n"
     ]
    }
   ],
   "source": [
    "for i in transactions_croissant_simple['product_id'].unique():\n",
    "    to_print = df_with_normalized_descriptions_transactions[df_with_normalized_descriptions_transactions['product_id']==i]['desc_normalized'].value_counts().head()\n",
    "    print(\"***Plotting id: {} \".format(i))\n",
    "    print(\"-\")\n",
    "\n",
    "    print(to_print)\n",
    "    print(\"\")\n"
   ]
  },
  {
   "cell_type": "markdown",
   "metadata": {},
   "source": [
    "It seems that they have different types of croissant. Checking with the client, he suggested taking only: 100.0 and 101.0 that contains the word 'croissant'"
   ]
  },
  {
   "cell_type": "code",
   "execution_count": 26,
   "metadata": {},
   "outputs": [
    {
     "data": {
      "text/html": [
       "<div>\n",
       "<style scoped>\n",
       "    .dataframe tbody tr th:only-of-type {\n",
       "        vertical-align: middle;\n",
       "    }\n",
       "\n",
       "    .dataframe tbody tr th {\n",
       "        vertical-align: top;\n",
       "    }\n",
       "\n",
       "    .dataframe thead th {\n",
       "        text-align: right;\n",
       "    }\n",
       "</style>\n",
       "<table border=\"1\" class=\"dataframe\">\n",
       "  <thead>\n",
       "    <tr style=\"text-align: right;\">\n",
       "      <th></th>\n",
       "      <th>product_id</th>\n",
       "      <th>desc_normalized</th>\n",
       "      <th>target_names_prod_by_prod</th>\n",
       "    </tr>\n",
       "  </thead>\n",
       "  <tbody>\n",
       "    <tr>\n",
       "      <th>216</th>\n",
       "      <td>100.0</td>\n",
       "      <td>croissant</td>\n",
       "      <td>croissant simple</td>\n",
       "    </tr>\n",
       "    <tr>\n",
       "      <th>240</th>\n",
       "      <td>101.0</td>\n",
       "      <td>croissant</td>\n",
       "      <td>croissant simple</td>\n",
       "    </tr>\n",
       "    <tr>\n",
       "      <th>19059</th>\n",
       "      <td>101.0</td>\n",
       "      <td>croissant andes marcos piezas</td>\n",
       "      <td>croissant simple</td>\n",
       "    </tr>\n",
       "    <tr>\n",
       "      <th>89735</th>\n",
       "      <td>101.0</td>\n",
       "      <td>croissant alargados andes piezas</td>\n",
       "      <td>croissant simple</td>\n",
       "    </tr>\n",
       "    <tr>\n",
       "      <th>350411</th>\n",
       "      <td>101.0</td>\n",
       "      <td>croissant alargados andes</td>\n",
       "      <td>croissant simple</td>\n",
       "    </tr>\n",
       "  </tbody>\n",
       "</table>\n",
       "</div>"
      ],
      "text/plain": [
       "        product_id                   desc_normalized target_names_prod_by_prod\n",
       "216          100.0                         croissant          croissant simple\n",
       "240          101.0                         croissant          croissant simple\n",
       "19059        101.0     croissant andes marcos piezas          croissant simple\n",
       "89735        101.0  croissant alargados andes piezas          croissant simple\n",
       "350411       101.0         croissant alargados andes          croissant simple"
      ]
     },
     "execution_count": 26,
     "metadata": {},
     "output_type": "execute_result"
    }
   ],
   "source": [
    "croissant_simple = unique_normalized_decriptions[(unique_normalized_decriptions['product_id']==100.0)|(unique_normalized_decriptions['product_id']==101.0)].copy()\n",
    "croissant_simple = croissant_simple[croissant_simple['desc_normalized'].str.contains('croissant')]\n",
    "croissant_simple = croissant_simple[~croissant_simple['desc_normalized'].str.contains('petit|tira|masa')].copy()\n",
    "\n",
    "croissant_simple['target_names_prod_by_prod'] = 'croissant simple'\n",
    "list_of_dfs.append(croissant_simple)\n",
    "croissant_simple.head()"
   ]
  },
  {
   "cell_type": "markdown",
   "metadata": {},
   "source": [
    "#### 2.3.4 Matching: tarta mousse tres chocolates\n",
    "\n",
    "From the analysis performed in notebook \"x01-transactions_to_partial_results-yy.ipynb\", it was concluded that 'mousse tres chocolates' had no correlation with a particular product_id, therefore the analysis will be based on the description:"
   ]
  },
  {
   "cell_type": "code",
   "execution_count": 27,
   "metadata": {},
   "outputs": [],
   "source": [
    "def filter_mousse_tres_chocolates (df):\n",
    "    tarta = df[df['desc_normalized'].str.contains('tarta')].copy()\n",
    "    mousse = tarta[tarta['desc_normalized'].str.contains('mousse|mus')].copy()\n",
    "    mousse_tres = mousse[mousse['desc_normalized'].str.contains('tres|3')].copy()\n",
    "    mousse_tres = mousse_tres[~mousse_tres['desc_normalized'].str.contains('mini')].copy()\n",
    "    mousse_tres_chocolates = mousse_tres[mousse_tres['desc_normalized'].str.contains('chocolate')].copy()\n",
    "    return mousse_tres_chocolates"
   ]
  },
  {
   "cell_type": "code",
   "execution_count": 28,
   "metadata": {},
   "outputs": [
    {
     "data": {
      "text/html": [
       "<div>\n",
       "<style scoped>\n",
       "    .dataframe tbody tr th:only-of-type {\n",
       "        vertical-align: middle;\n",
       "    }\n",
       "\n",
       "    .dataframe tbody tr th {\n",
       "        vertical-align: top;\n",
       "    }\n",
       "\n",
       "    .dataframe thead th {\n",
       "        text-align: right;\n",
       "    }\n",
       "</style>\n",
       "<table border=\"1\" class=\"dataframe\">\n",
       "  <thead>\n",
       "    <tr style=\"text-align: right;\">\n",
       "      <th></th>\n",
       "      <th>product_id</th>\n",
       "      <th>description</th>\n",
       "      <th>order_date</th>\n",
       "      <th>section</th>\n",
       "      <th>store</th>\n",
       "      <th>units_ordered</th>\n",
       "      <th>desc_normalized</th>\n",
       "    </tr>\n",
       "  </thead>\n",
       "  <tbody>\n",
       "    <tr>\n",
       "      <th>18867</th>\n",
       "      <td>9999.0</td>\n",
       "      <td>TARTA MOUSSE 3 CHOCOLATES  3 ESCRITO SOBRE  LA...</td>\n",
       "      <td>1/1/2010 0:00:00</td>\n",
       "      <td>0</td>\n",
       "      <td>EnUP</td>\n",
       "      <td>0,00</td>\n",
       "      <td>tarta mousse 3 chocolates 3 escrito sobre la t...</td>\n",
       "    </tr>\n",
       "    <tr>\n",
       "      <th>18975</th>\n",
       "      <td>9999.0</td>\n",
       "      <td>TARTA MOUSSE 3 CHOCOLATES  3 ESCRITO SOBRE  LA...</td>\n",
       "      <td>1/1/2010 0:00:00</td>\n",
       "      <td>0</td>\n",
       "      <td>LiUP</td>\n",
       "      <td>0,00</td>\n",
       "      <td>tarta mousse 3 chocolates 3 escrito sobre la t...</td>\n",
       "    </tr>\n",
       "    <tr>\n",
       "      <th>20229</th>\n",
       "      <td>9999.0</td>\n",
       "      <td>TARTA MOUSSE 3 CHOCOLATES  3 ESCRITO SOBRE  LA...</td>\n",
       "      <td>1/1/2010 0:00:00</td>\n",
       "      <td>0</td>\n",
       "      <td>GrUP</td>\n",
       "      <td>0,00</td>\n",
       "      <td>tarta mousse 3 chocolates 3 escrito sobre la t...</td>\n",
       "    </tr>\n",
       "    <tr>\n",
       "      <th>20633</th>\n",
       "      <td>9999.0</td>\n",
       "      <td>TARTA MOUSSE 3 CHOCOLATES  3 ESCRITO SOBRE  LA...</td>\n",
       "      <td>1/1/2010 0:00:00</td>\n",
       "      <td>0</td>\n",
       "      <td>MoUP</td>\n",
       "      <td>0,00</td>\n",
       "      <td>tarta mousse 3 chocolates 3 escrito sobre la t...</td>\n",
       "    </tr>\n",
       "    <tr>\n",
       "      <th>21295</th>\n",
       "      <td>9999.0</td>\n",
       "      <td>TARTA MOUSSE 3 CHOCOLATES  3 ESCRITO SOBRE  LA...</td>\n",
       "      <td>1/1/2010 0:00:00</td>\n",
       "      <td>0</td>\n",
       "      <td>ViUP</td>\n",
       "      <td>0,00</td>\n",
       "      <td>tarta mousse 3 chocolates 3 escrito sobre la t...</td>\n",
       "    </tr>\n",
       "  </tbody>\n",
       "</table>\n",
       "</div>"
      ],
      "text/plain": [
       "       product_id                                        description  \\\n",
       "18867      9999.0  TARTA MOUSSE 3 CHOCOLATES  3 ESCRITO SOBRE  LA...   \n",
       "18975      9999.0  TARTA MOUSSE 3 CHOCOLATES  3 ESCRITO SOBRE  LA...   \n",
       "20229      9999.0  TARTA MOUSSE 3 CHOCOLATES  3 ESCRITO SOBRE  LA...   \n",
       "20633      9999.0  TARTA MOUSSE 3 CHOCOLATES  3 ESCRITO SOBRE  LA...   \n",
       "21295      9999.0  TARTA MOUSSE 3 CHOCOLATES  3 ESCRITO SOBRE  LA...   \n",
       "\n",
       "             order_date  section store units_ordered  \\\n",
       "18867  1/1/2010 0:00:00        0  EnUP          0,00   \n",
       "18975  1/1/2010 0:00:00        0  LiUP          0,00   \n",
       "20229  1/1/2010 0:00:00        0  GrUP          0,00   \n",
       "20633  1/1/2010 0:00:00        0  MoUP          0,00   \n",
       "21295  1/1/2010 0:00:00        0  ViUP          0,00   \n",
       "\n",
       "                                         desc_normalized  \n",
       "18867  tarta mousse 3 chocolates 3 escrito sobre la t...  \n",
       "18975  tarta mousse 3 chocolates 3 escrito sobre la t...  \n",
       "20229  tarta mousse 3 chocolates 3 escrito sobre la t...  \n",
       "20633  tarta mousse 3 chocolates 3 escrito sobre la t...  \n",
       "21295  tarta mousse 3 chocolates 3 escrito sobre la t...  "
      ]
     },
     "execution_count": 28,
     "metadata": {},
     "output_type": "execute_result"
    }
   ],
   "source": [
    "transactions_mousse_tres_chocolates = filter_mousse_tres_chocolates(df_with_normalized_descriptions_transactions)\n",
    "transactions_mousse_tres_chocolates.head()"
   ]
  },
  {
   "cell_type": "code",
   "execution_count": 29,
   "metadata": {},
   "outputs": [
    {
     "data": {
      "image/png": "[encoded data removed]",
      "text/plain": [
       "<Figure size 432x288 with 1 Axes>"
      ]
     },
     "metadata": {
      "needs_background": "light"
     },
     "output_type": "display_data"
    }
   ],
   "source": [
    "plot_count_per_id(transactions_mousse_tres_chocolates)"
   ]
  },
  {
   "cell_type": "markdown",
   "metadata": {},
   "source": [
    "Interesting... Lets explore it more by having a look at the full distribution of names:"
   ]
  },
  {
   "cell_type": "code",
   "execution_count": 30,
   "metadata": {},
   "outputs": [
    {
     "name": "stdout",
     "output_type": "stream",
     "text": [
      "***Plotting id: 9999.0 \n",
      "-\n",
      "encargo                       25745\n",
      "julian de verduras             8246\n",
      "julian de pimiento             8208\n",
      "brandada de bacalao            6080\n",
      "encargo julian de pimiento     5035\n",
      "Name: desc_normalized, dtype: int64\n",
      "\n",
      "***Plotting id: 451.0 \n",
      "-\n",
      "mousse 3 chocolates 2                   167333\n",
      "mousse 3 chocolates 2 una de encargo       266\n",
      "mousse 3 chocolates 4                      133\n",
      "mousse 3 chocolates 2 encargo              133\n",
      "mousse 3 chocolates 2 de encargo           114\n",
      "Name: desc_normalized, dtype: int64\n",
      "\n",
      "***Plotting id: 453.0 \n",
      "-\n",
      "mousse 3 chocolates 3               128003\n",
      "mousse 3 chocolates 4                  589\n",
      "mousse 3 chocolates 3 de encargo       190\n",
      "mousse 3 chocolates del 4              190\n",
      "mousse 3 chocolates 20rac              114\n",
      "Name: desc_normalized, dtype: int64\n",
      "\n",
      "***Plotting id: 452.0 \n",
      "-\n",
      "mousse 3 chocolates 1                                           121657\n",
      "mousse 3 chocolates 1 de encargo                                    76\n",
      "mousse 3 chocolates 1 una de encargo                                76\n",
      "mousse 3 chocolates 1 escrito en la tarta felix cumplea on          38\n",
      "mousse 3 chocolates cartel felix cumplea on carmen y enrique        38\n",
      "Name: desc_normalized, dtype: int64\n",
      "\n",
      "***Plotting id: 14992.0 \n",
      "-\n",
      "tarta mousse tres chocolates 6 escrito felix cumplea on    19\n",
      "Name: desc_normalized, dtype: int64\n",
      "\n",
      "***Plotting id: 14998.0 \n",
      "-\n",
      "tarta mousse de tres chocolates del 4                                         38\n",
      "tartas especiales                                                             38\n",
      "tartas especiales de 10 de mickey de 12 la con el bizcocho de selva negra     38\n",
      "tarta saint honore del 4                                                      38\n",
      "tarta especial raspadura del 5 con dibujo en gelatina de princesas encargo    19\n",
      "Name: desc_normalized, dtype: int64\n",
      "\n",
      "***Plotting id: 13999.0 \n",
      "-\n",
      "mini postres milhojas frambuesa        475\n",
      "mini postres muy tres chocolates       437\n",
      "mini postres mousse tres chocolates    418\n",
      "helado de vainilla raciones            285\n",
      "mini postres con rosa                  266\n",
      "Name: desc_normalized, dtype: int64\n",
      "\n",
      "***Plotting id: 4479.0 \n",
      "-\n",
      "mousse 3 chino 4                                                 95\n",
      "mousse 3 chino 4 escrito felix cumplea on cristina               19\n",
      "tarta mousse tres chocolates de 16 la                            19\n",
      "mousse 3 chino 4 y y con cartel felicidades alex                 19\n",
      "mousse 3 chino 20 la en decorada y prepara en para la casa al    19\n",
      "Name: desc_normalized, dtype: int64\n",
      "\n"
     ]
    }
   ],
   "source": [
    "for i in transactions_mousse_tres_chocolates['product_id'].unique():\n",
    "    to_print = df_with_normalized_descriptions_transactions[df_with_normalized_descriptions_transactions['product_id']==i]['desc_normalized'].value_counts().head()\n",
    "    print(\"***Plotting id: {} \".format(i))\n",
    "    print(\"-\")\n",
    "\n",
    "    print(to_print)\n",
    "    print(\"\")\n"
   ]
  },
  {
   "cell_type": "markdown",
   "metadata": {},
   "source": [
    "It seems that 'tarta mousse tres chocolates' is all over the place... So the easiest is to filter by product description\""
   ]
  },
  {
   "cell_type": "code",
   "execution_count": 31,
   "metadata": {},
   "outputs": [
    {
     "data": {
      "text/html": [
       "<div>\n",
       "<style scoped>\n",
       "    .dataframe tbody tr th:only-of-type {\n",
       "        vertical-align: middle;\n",
       "    }\n",
       "\n",
       "    .dataframe tbody tr th {\n",
       "        vertical-align: top;\n",
       "    }\n",
       "\n",
       "    .dataframe thead th {\n",
       "        text-align: right;\n",
       "    }\n",
       "</style>\n",
       "<table border=\"1\" class=\"dataframe\">\n",
       "  <thead>\n",
       "    <tr style=\"text-align: right;\">\n",
       "      <th></th>\n",
       "      <th>product_id</th>\n",
       "      <th>desc_normalized</th>\n",
       "      <th>target_names_prod_by_prod</th>\n",
       "    </tr>\n",
       "  </thead>\n",
       "  <tbody>\n",
       "    <tr>\n",
       "      <th>18867</th>\n",
       "      <td>9999.0</td>\n",
       "      <td>tarta mousse 3 chocolates 3 escrito sobre la t...</td>\n",
       "      <td>mousse tres chocolates</td>\n",
       "    </tr>\n",
       "    <tr>\n",
       "      <th>90355</th>\n",
       "      <td>9999.0</td>\n",
       "      <td>tarta mousse 3 chocolates del segun escrito so...</td>\n",
       "      <td>mousse tres chocolates</td>\n",
       "    </tr>\n",
       "    <tr>\n",
       "      <th>105628</th>\n",
       "      <td>451.0</td>\n",
       "      <td>mousse 3 chocolates 2 escrito sobre la tarta f...</td>\n",
       "      <td>mousse tres chocolates</td>\n",
       "    </tr>\n",
       "    <tr>\n",
       "      <th>105632</th>\n",
       "      <td>9999.0</td>\n",
       "      <td>encargo tarta mousse 3 chocolates del 4 sandra...</td>\n",
       "      <td>mousse tres chocolates</td>\n",
       "    </tr>\n",
       "    <tr>\n",
       "      <th>114166</th>\n",
       "      <td>451.0</td>\n",
       "      <td>mousse 3 chocolates 2 escrito sobre la tarta y...</td>\n",
       "      <td>mousse tres chocolates</td>\n",
       "    </tr>\n",
       "  </tbody>\n",
       "</table>\n",
       "</div>"
      ],
      "text/plain": [
       "        product_id                                    desc_normalized  \\\n",
       "18867       9999.0  tarta mousse 3 chocolates 3 escrito sobre la t...   \n",
       "90355       9999.0  tarta mousse 3 chocolates del segun escrito so...   \n",
       "105628       451.0  mousse 3 chocolates 2 escrito sobre la tarta f...   \n",
       "105632      9999.0  encargo tarta mousse 3 chocolates del 4 sandra...   \n",
       "114166       451.0  mousse 3 chocolates 2 escrito sobre la tarta y...   \n",
       "\n",
       "       target_names_prod_by_prod  \n",
       "18867     mousse tres chocolates  \n",
       "90355     mousse tres chocolates  \n",
       "105628    mousse tres chocolates  \n",
       "105632    mousse tres chocolates  \n",
       "114166    mousse tres chocolates  "
      ]
     },
     "execution_count": 31,
     "metadata": {},
     "output_type": "execute_result"
    }
   ],
   "source": [
    "mousse_tres_chocolates = filter_mousse_tres_chocolates(unique_normalized_decriptions)\n",
    "mousse_tres_chocolates['target_names_prod_by_prod'] = 'mousse tres chocolates'\n",
    "list_of_dfs.append(mousse_tres_chocolates)\n",
    "mousse_tres_chocolates.head()"
   ]
  },
  {
   "cell_type": "markdown",
   "metadata": {},
   "source": [
    "#### 2.3.5 Matching: tarta de manzana 2\n",
    "From the analysis performed in notebook \"x01-transactions_to_partial_results-yy.ipynb\", it was concluded that 'tarta de manzana 2' had no correlation with a particular product_id, therefore the analysis will be based on the description:"
   ]
  },
  {
   "cell_type": "code",
   "execution_count": 32,
   "metadata": {},
   "outputs": [],
   "source": [
    "def filter_tarta_manzana_2 (df):\n",
    "    manzana_tarta = df[df['desc_normalized'].str.contains('manzana')]\n",
    "    #manzana_tarta = manzana[manzana['desc_normalized'].str.contains('tarta')].copy() #Removed because we saw it had better fit\n",
    "    manzana_tarta = manzana_tarta[~manzana_tarta['desc_normalized'].str.contains('caramelo')].copy()\n",
    "    manzana_tarta_dos = manzana_tarta[manzana_tarta['desc_normalized'].str.contains('dos|2')].copy()\n",
    "\n",
    "    return manzana_tarta_dos"
   ]
  },
  {
   "cell_type": "code",
   "execution_count": 33,
   "metadata": {},
   "outputs": [],
   "source": [
    "transactions_manzana_tarta_dos=filter_tarta_manzana_2(df_with_normalized_descriptions_transactions)"
   ]
  },
  {
   "cell_type": "code",
   "execution_count": 34,
   "metadata": {},
   "outputs": [
    {
     "data": {
      "image/png": "[encoded data removed]",
      "text/plain": [
       "<Figure size 432x288 with 1 Axes>"
      ]
     },
     "metadata": {
      "needs_background": "light"
     },
     "output_type": "display_data"
    }
   ],
   "source": [
    "plot_count_per_id(transactions_manzana_tarta_dos)"
   ]
  },
  {
   "cell_type": "markdown",
   "metadata": {},
   "source": [
    "Looks like we found a winner!"
   ]
  },
  {
   "cell_type": "code",
   "execution_count": 35,
   "metadata": {},
   "outputs": [
    {
     "data": {
      "text/html": [
       "<div>\n",
       "<style scoped>\n",
       "    .dataframe tbody tr th:only-of-type {\n",
       "        vertical-align: middle;\n",
       "    }\n",
       "\n",
       "    .dataframe tbody tr th {\n",
       "        vertical-align: top;\n",
       "    }\n",
       "\n",
       "    .dataframe thead th {\n",
       "        text-align: right;\n",
       "    }\n",
       "</style>\n",
       "<table border=\"1\" class=\"dataframe\">\n",
       "  <thead>\n",
       "    <tr style=\"text-align: right;\">\n",
       "      <th></th>\n",
       "      <th>product_id</th>\n",
       "      <th>desc_normalized</th>\n",
       "      <th>target_names_prod_by_prod</th>\n",
       "    </tr>\n",
       "  </thead>\n",
       "  <tbody>\n",
       "    <tr>\n",
       "      <th>11275</th>\n",
       "      <td>462.0</td>\n",
       "      <td>manzana 2</td>\n",
       "      <td>tarta de manzana</td>\n",
       "    </tr>\n",
       "    <tr>\n",
       "      <th>37483</th>\n",
       "      <td>5001.0</td>\n",
       "      <td>manzana caramelizados</td>\n",
       "      <td>tarta de manzana</td>\n",
       "    </tr>\n",
       "    <tr>\n",
       "      <th>96970</th>\n",
       "      <td>9999.0</td>\n",
       "      <td>encargotarta manzana del 2</td>\n",
       "      <td>tarta de manzana</td>\n",
       "    </tr>\n",
       "    <tr>\n",
       "      <th>219167</th>\n",
       "      <td>9999.0</td>\n",
       "      <td>encargo tarta manzana del 2</td>\n",
       "      <td>tarta de manzana</td>\n",
       "    </tr>\n",
       "    <tr>\n",
       "      <th>219790</th>\n",
       "      <td>462.0</td>\n",
       "      <td>manzana 2 cartelfelicidades inmanol</td>\n",
       "      <td>tarta de manzana</td>\n",
       "    </tr>\n",
       "  </tbody>\n",
       "</table>\n",
       "</div>"
      ],
      "text/plain": [
       "        product_id                      desc_normalized  \\\n",
       "11275        462.0                            manzana 2   \n",
       "37483       5001.0                manzana caramelizados   \n",
       "96970       9999.0           encargotarta manzana del 2   \n",
       "219167      9999.0          encargo tarta manzana del 2   \n",
       "219790       462.0  manzana 2 cartelfelicidades inmanol   \n",
       "\n",
       "       target_names_prod_by_prod  \n",
       "11275           tarta de manzana  \n",
       "37483           tarta de manzana  \n",
       "96970           tarta de manzana  \n",
       "219167          tarta de manzana  \n",
       "219790          tarta de manzana  "
      ]
     },
     "execution_count": 35,
     "metadata": {},
     "output_type": "execute_result"
    }
   ],
   "source": [
    "manzana_tarta_dos = filter_tarta_manzana_2(unique_normalized_decriptions)\n",
    "manzana_tarta_dos['target_names_prod_by_prod'] = 'tarta de manzana'\n",
    "list_of_dfs.append(manzana_tarta_dos)\n",
    "manzana_tarta_dos.head()"
   ]
  },
  {
   "cell_type": "markdown",
   "metadata": {},
   "source": [
    "#### 2.3.6 Matching: palmera de chocolate "
   ]
  },
  {
   "cell_type": "code",
   "execution_count": 36,
   "metadata": {},
   "outputs": [],
   "source": [
    "def filter_palmera_chocolate (df):\n",
    "    palmera = df[df['desc_normalized'].str.contains('palmera')]\n",
    "    palmera_chocolate = palmera[palmera['desc_normalized'].str.contains('chocolate|trufa')].copy() #Added trufa after reviwing results\n",
    "    return palmera_chocolate"
   ]
  },
  {
   "cell_type": "code",
   "execution_count": 37,
   "metadata": {},
   "outputs": [
    {
     "data": {
      "text/html": [
       "<div>\n",
       "<style scoped>\n",
       "    .dataframe tbody tr th:only-of-type {\n",
       "        vertical-align: middle;\n",
       "    }\n",
       "\n",
       "    .dataframe tbody tr th {\n",
       "        vertical-align: top;\n",
       "    }\n",
       "\n",
       "    .dataframe thead th {\n",
       "        text-align: right;\n",
       "    }\n",
       "</style>\n",
       "<table border=\"1\" class=\"dataframe\">\n",
       "  <thead>\n",
       "    <tr style=\"text-align: right;\">\n",
       "      <th></th>\n",
       "      <th>product_id</th>\n",
       "      <th>description</th>\n",
       "      <th>order_date</th>\n",
       "      <th>section</th>\n",
       "      <th>store</th>\n",
       "      <th>units_ordered</th>\n",
       "      <th>desc_normalized</th>\n",
       "    </tr>\n",
       "  </thead>\n",
       "  <tbody>\n",
       "    <tr>\n",
       "      <th>234</th>\n",
       "      <td>182.0</td>\n",
       "      <td>PALMERAS DE TRUFA</td>\n",
       "      <td>1/1/2008 0:00:00</td>\n",
       "      <td>0</td>\n",
       "      <td>VeUp</td>\n",
       "      <td>4,00</td>\n",
       "      <td>palmera de trufa</td>\n",
       "    </tr>\n",
       "    <tr>\n",
       "      <th>1472</th>\n",
       "      <td>182.0</td>\n",
       "      <td>PALMERAS DE TRUFA</td>\n",
       "      <td>1/1/2008 0:00:00</td>\n",
       "      <td>0</td>\n",
       "      <td>ZiUO</td>\n",
       "      <td>0,00</td>\n",
       "      <td>palmera de trufa</td>\n",
       "    </tr>\n",
       "    <tr>\n",
       "      <th>1595</th>\n",
       "      <td>182.0</td>\n",
       "      <td>PALMERAS DE TRUFA</td>\n",
       "      <td>1/1/2008 0:00:00</td>\n",
       "      <td>0</td>\n",
       "      <td>AeUP</td>\n",
       "      <td>0,00</td>\n",
       "      <td>palmera de trufa</td>\n",
       "    </tr>\n",
       "    <tr>\n",
       "      <th>2637</th>\n",
       "      <td>182.0</td>\n",
       "      <td>PALMERAS DE TRUFA</td>\n",
       "      <td>1/1/2008 0:00:00</td>\n",
       "      <td>0</td>\n",
       "      <td>LiUP</td>\n",
       "      <td>0,00</td>\n",
       "      <td>palmera de trufa</td>\n",
       "    </tr>\n",
       "    <tr>\n",
       "      <th>2831</th>\n",
       "      <td>182.0</td>\n",
       "      <td>PALMERAS DE TRUFA</td>\n",
       "      <td>1/1/2008 0:00:00</td>\n",
       "      <td>0</td>\n",
       "      <td>RzUP</td>\n",
       "      <td>2,00</td>\n",
       "      <td>palmera de trufa</td>\n",
       "    </tr>\n",
       "  </tbody>\n",
       "</table>\n",
       "</div>"
      ],
      "text/plain": [
       "      product_id        description        order_date  section store  \\\n",
       "234        182.0  PALMERAS DE TRUFA  1/1/2008 0:00:00        0  VeUp   \n",
       "1472       182.0  PALMERAS DE TRUFA  1/1/2008 0:00:00        0  ZiUO   \n",
       "1595       182.0  PALMERAS DE TRUFA  1/1/2008 0:00:00        0  AeUP   \n",
       "2637       182.0  PALMERAS DE TRUFA  1/1/2008 0:00:00        0  LiUP   \n",
       "2831       182.0  PALMERAS DE TRUFA  1/1/2008 0:00:00        0  RzUP   \n",
       "\n",
       "     units_ordered   desc_normalized  \n",
       "234           4,00  palmera de trufa  \n",
       "1472          0,00  palmera de trufa  \n",
       "1595          0,00  palmera de trufa  \n",
       "2637          0,00  palmera de trufa  \n",
       "2831          2,00  palmera de trufa  "
      ]
     },
     "execution_count": 37,
     "metadata": {},
     "output_type": "execute_result"
    }
   ],
   "source": [
    "transactions_palmera_chocolate = filter_palmera_chocolate(df_with_normalized_descriptions_transactions)\n",
    "transactions_palmera_chocolate.head()"
   ]
  },
  {
   "cell_type": "code",
   "execution_count": 38,
   "metadata": {},
   "outputs": [
    {
     "data": {
      "image/png": "[encoded data removed]",
      "text/plain": [
       "<Figure size 432x288 with 1 Axes>"
      ]
     },
     "metadata": {
      "needs_background": "light"
     },
     "output_type": "display_data"
    }
   ],
   "source": [
    "plot_count_per_id(transactions_palmera_chocolate)"
   ]
  },
  {
   "cell_type": "markdown",
   "metadata": {},
   "source": [
    "Again, we have a winner!"
   ]
  },
  {
   "cell_type": "code",
   "execution_count": 39,
   "metadata": {},
   "outputs": [
    {
     "data": {
      "text/html": [
       "<div>\n",
       "<style scoped>\n",
       "    .dataframe tbody tr th:only-of-type {\n",
       "        vertical-align: middle;\n",
       "    }\n",
       "\n",
       "    .dataframe tbody tr th {\n",
       "        vertical-align: top;\n",
       "    }\n",
       "\n",
       "    .dataframe thead th {\n",
       "        text-align: right;\n",
       "    }\n",
       "</style>\n",
       "<table border=\"1\" class=\"dataframe\">\n",
       "  <thead>\n",
       "    <tr style=\"text-align: right;\">\n",
       "      <th></th>\n",
       "      <th>product_id</th>\n",
       "      <th>desc_normalized</th>\n",
       "      <th>target_names_prod_by_prod</th>\n",
       "    </tr>\n",
       "  </thead>\n",
       "  <tbody>\n",
       "    <tr>\n",
       "      <th>234</th>\n",
       "      <td>182.0</td>\n",
       "      <td>palmera de trufa</td>\n",
       "      <td>palmera chocolate</td>\n",
       "    </tr>\n",
       "    <tr>\n",
       "      <th>147417</th>\n",
       "      <td>182.0</td>\n",
       "      <td>palmera de trufa (piezas)</td>\n",
       "      <td>palmera chocolate</td>\n",
       "    </tr>\n",
       "    <tr>\n",
       "      <th>2838683</th>\n",
       "      <td>182.0</td>\n",
       "      <td>palmera de trufa manda con el furgon del pan</td>\n",
       "      <td>palmera chocolate</td>\n",
       "    </tr>\n",
       "    <tr>\n",
       "      <th>3710620</th>\n",
       "      <td>182.0</td>\n",
       "      <td>palmera de trufa y y unidades y y encargo para...</td>\n",
       "      <td>palmera chocolate</td>\n",
       "    </tr>\n",
       "    <tr>\n",
       "      <th>5182990</th>\n",
       "      <td>182.0</td>\n",
       "      <td>palmera de trufa primer duro n</td>\n",
       "      <td>palmera chocolate</td>\n",
       "    </tr>\n",
       "  </tbody>\n",
       "</table>\n",
       "</div>"
      ],
      "text/plain": [
       "         product_id                                    desc_normalized  \\\n",
       "234           182.0                                   palmera de trufa   \n",
       "147417        182.0                          palmera de trufa (piezas)   \n",
       "2838683       182.0       palmera de trufa manda con el furgon del pan   \n",
       "3710620       182.0  palmera de trufa y y unidades y y encargo para...   \n",
       "5182990       182.0                     palmera de trufa primer duro n   \n",
       "\n",
       "        target_names_prod_by_prod  \n",
       "234             palmera chocolate  \n",
       "147417          palmera chocolate  \n",
       "2838683         palmera chocolate  \n",
       "3710620         palmera chocolate  \n",
       "5182990         palmera chocolate  "
      ]
     },
     "execution_count": 39,
     "metadata": {},
     "output_type": "execute_result"
    }
   ],
   "source": [
    "palmera_chocolate = filter_palmera_chocolate(unique_normalized_decriptions)\n",
    "palmera_chocolate['target_names_prod_by_prod'] = 'palmera chocolate'\n",
    "\n",
    "list_of_dfs.append(palmera_chocolate)\n",
    "palmera_chocolate.head()"
   ]
  },
  {
   "cell_type": "markdown",
   "metadata": {},
   "source": [
    "#### 2.3.7 Matching: tarta ópera "
   ]
  },
  {
   "cell_type": "code",
   "execution_count": 40,
   "metadata": {},
   "outputs": [],
   "source": [
    "def filter_tarta_opera(df):\n",
    "    opera = df[df['desc_normalized'].str.contains('opera')]\n",
    "    opera_tarta = opera[opera['desc_normalized'].str.contains('tarta')].copy()\n",
    "    return opera_tarta"
   ]
  },
  {
   "cell_type": "code",
   "execution_count": 41,
   "metadata": {},
   "outputs": [],
   "source": [
    "transactions_tarta_opera = filter_tarta_opera(df_with_normalized_descriptions_transactions)"
   ]
  },
  {
   "cell_type": "code",
   "execution_count": 42,
   "metadata": {},
   "outputs": [
    {
     "data": {
      "image/png": "[encoded data removed]",
      "text/plain": [
       "<Figure size 432x288 with 1 Axes>"
      ]
     },
     "metadata": {
      "needs_background": "light"
     },
     "output_type": "display_data"
    }
   ],
   "source": [
    "plot_count_per_id(transactions_tarta_opera)"
   ]
  },
  {
   "cell_type": "code",
   "execution_count": 43,
   "metadata": {
    "scrolled": false
   },
   "outputs": [
    {
     "name": "stdout",
     "output_type": "stream",
     "text": [
      "***Plotting id: 9999.0 \n",
      "-\n",
      "encargo                       25745\n",
      "julian de verduras             8246\n",
      "julian de pimiento             8208\n",
      "brandada de bacalao            6080\n",
      "encargo julian de pimiento     5035\n",
      "Name: desc_normalized, dtype: int64\n",
      "\n",
      "***Plotting id: 414.0 \n",
      "-\n",
      "tarta muy tres chocolates 2    4788\n",
      "tarta milhojas frambuesa 2     4123\n",
      "tarta limon 3                  3420\n",
      "tarta milhojas 2               1824\n",
      "tarta tres chocolates 2        1805\n",
      "Name: desc_normalized, dtype: int64\n",
      "\n",
      "***Plotting id: 14998.0 \n",
      "-\n",
      "tarta mousse de tres chocolates del 4                                         38\n",
      "tartas especiales                                                             38\n",
      "tartas especiales de 10 de mickey de 12 la con el bizcocho de selva negra     38\n",
      "tarta saint honore del 4                                                      38\n",
      "tarta especial raspadura del 5 con dibujo en gelatina de princesas encargo    19\n",
      "Name: desc_normalized, dtype: int64\n",
      "\n",
      "***Plotting id: 427.0 \n",
      "-\n",
      "opera 3                          34922\n",
      "opera 3 encargo                    114\n",
      "opera 3 felicidades nicolas         76\n",
      "opera 3 y escrito felicidades       57\n",
      "opera 4                             38\n",
      "Name: desc_normalized, dtype: int64\n",
      "\n",
      "***Plotting id: 428.0 \n",
      "-\n",
      "opera 2                      111454\n",
      "opera 3                         152\n",
      "opera 2 felicidades jaime        38\n",
      "opera 2 una de encargo           38\n",
      "opera 2 1 de encargo             38\n",
      "Name: desc_normalized, dtype: int64\n",
      "\n",
      "***Plotting id: 426.0 \n",
      "-\n",
      "opera 4                                               2033\n",
      "opera 4 encargo                                         38\n",
      "opera 5                                                 38\n",
      "opera del 6 decorada infantil y cartel felicidades      19\n",
      "opera 4 escrito sobre tarta felicidades noelia          19\n",
      "Name: desc_normalized, dtype: int64\n",
      "\n",
      "***Plotting id: 483.0 \n",
      "-\n",
      "tarta caja 2          3629\n",
      "postres con blanco    1995\n",
      "tarta opera 3           19\n",
      "tarta con rosa 2        19\n",
      "Name: desc_normalized, dtype: int64\n",
      "\n",
      "***Plotting id: 410.0 \n",
      "-\n",
      "selva negra 2                  135679\n",
      "tarta con rosa 2                  437\n",
      "selva negra 2 infantil            380\n",
      "tarta milhojas 2                  171\n",
      "tarta muy tres chocolates 2       171\n",
      "Name: desc_normalized, dtype: int64\n",
      "\n",
      "***Plotting id: 413.0 \n",
      "-\n",
      "tarta limon 2          119377\n",
      "tarta limon 3             912\n",
      "tarta limon 3 10rac       285\n",
      "tarta limon del 3         266\n",
      "tarta limon 3 10 la       209\n",
      "Name: desc_normalized, dtype: int64\n",
      "\n",
      "***Plotting id: 402.0 \n",
      "-\n",
      "san marcos 2                                    109535\n",
      "san marcos 2 de encargo                             95\n",
      "san marcos 2 escrito en la tarta felicidades        76\n",
      "san marcos 2 encargo                                76\n",
      "san marcos 2 infantil                               76\n",
      "Name: desc_normalized, dtype: int64\n",
      "\n",
      "***Plotting id: 450.0 \n",
      "-\n",
      "postres mousse tres chocolates      82403\n",
      "postres selva negra                  3116\n",
      "postres milhojas frambuesa           2926\n",
      "mini postres muy tres chocolates     2014\n",
      "postres milhojas                     1976\n",
      "Name: desc_normalized, dtype: int64\n",
      "\n",
      "***Plotting id: 403.0 \n",
      "-\n",
      "san marcos 3                                    37202\n",
      "san marcos 3 infantil                              95\n",
      "san marcos 3 felicidades                           57\n",
      "san marcos 3 escrito en la tarta felicidades       38\n",
      "san marcos 8 32rac                                 38\n",
      "Name: desc_normalized, dtype: int64\n",
      "\n",
      "***Plotting id: 411.0 \n",
      "-\n",
      "selva negra 3               112499\n",
      "selva negra 3 infantil         209\n",
      "selva negra 4                  190\n",
      "selva negra 3 de encargo       190\n",
      "selva negra 3 encargo           95\n",
      "Name: desc_normalized, dtype: int64\n",
      "\n"
     ]
    }
   ],
   "source": [
    "for i in transactions_tarta_opera['product_id'].unique():\n",
    "    to_print = df_with_normalized_descriptions_transactions[df_with_normalized_descriptions_transactions['product_id']==i]['desc_normalized'].value_counts().head()\n",
    "    print(\"***Plotting id: {} \".format(i))\n",
    "    print(\"-\")\n",
    "\n",
    "    print(to_print)\n",
    "    print(\"\")\n"
   ]
  },
  {
   "cell_type": "markdown",
   "metadata": {},
   "source": [
    "Again, all over the place, so we decided to use the description filter:"
   ]
  },
  {
   "cell_type": "code",
   "execution_count": 44,
   "metadata": {},
   "outputs": [
    {
     "data": {
      "text/html": [
       "<div>\n",
       "<style scoped>\n",
       "    .dataframe tbody tr th:only-of-type {\n",
       "        vertical-align: middle;\n",
       "    }\n",
       "\n",
       "    .dataframe tbody tr th {\n",
       "        vertical-align: top;\n",
       "    }\n",
       "\n",
       "    .dataframe thead th {\n",
       "        text-align: right;\n",
       "    }\n",
       "</style>\n",
       "<table border=\"1\" class=\"dataframe\">\n",
       "  <thead>\n",
       "    <tr style=\"text-align: right;\">\n",
       "      <th></th>\n",
       "      <th>product_id</th>\n",
       "      <th>desc_normalized</th>\n",
       "      <th>target_names_prod_by_prod</th>\n",
       "    </tr>\n",
       "  </thead>\n",
       "  <tbody>\n",
       "    <tr>\n",
       "      <th>11188</th>\n",
       "      <td>9999.0</td>\n",
       "      <td>tarta opera del 3</td>\n",
       "      <td>tarta opera</td>\n",
       "    </tr>\n",
       "    <tr>\n",
       "      <th>18868</th>\n",
       "      <td>9999.0</td>\n",
       "      <td>tarta opera del 4</td>\n",
       "      <td>tarta opera</td>\n",
       "    </tr>\n",
       "    <tr>\n",
       "      <th>114409</th>\n",
       "      <td>414.0</td>\n",
       "      <td>tarta opera 2</td>\n",
       "      <td>tarta opera</td>\n",
       "    </tr>\n",
       "    <tr>\n",
       "      <th>276927</th>\n",
       "      <td>9999.0</td>\n",
       "      <td>encargo tarta opera del 5</td>\n",
       "      <td>tarta opera</td>\n",
       "    </tr>\n",
       "    <tr>\n",
       "      <th>276928</th>\n",
       "      <td>9999.0</td>\n",
       "      <td>encargo tarta opera del 8</td>\n",
       "      <td>tarta opera</td>\n",
       "    </tr>\n",
       "  </tbody>\n",
       "</table>\n",
       "</div>"
      ],
      "text/plain": [
       "        product_id            desc_normalized target_names_prod_by_prod\n",
       "11188       9999.0          tarta opera del 3               tarta opera\n",
       "18868       9999.0          tarta opera del 4               tarta opera\n",
       "114409       414.0              tarta opera 2               tarta opera\n",
       "276927      9999.0  encargo tarta opera del 5               tarta opera\n",
       "276928      9999.0  encargo tarta opera del 8               tarta opera"
      ]
     },
     "execution_count": 44,
     "metadata": {},
     "output_type": "execute_result"
    }
   ],
   "source": [
    "tarta_opera = filter_tarta_opera(unique_normalized_decriptions)\n",
    "tarta_opera['target_names_prod_by_prod'] = 'tarta opera'\n",
    "\n",
    "list_of_dfs.append(tarta_opera)\n",
    "tarta_opera.head()"
   ]
  },
  {
   "cell_type": "code",
   "execution_count": null,
   "metadata": {},
   "outputs": [],
   "source": []
  },
  {
   "cell_type": "markdown",
   "metadata": {},
   "source": [
    "#### 2.3.9 Matching: postre de fresas y mascarpone"
   ]
  },
  {
   "cell_type": "code",
   "execution_count": 45,
   "metadata": {},
   "outputs": [],
   "source": [
    "def filter_postre_fresas_mascarpone (df):\n",
    "    postre = df[df['desc_normalized'].str.contains('postre')]\n",
    "    postre_fresa = postre[postre['desc_normalized'].str.contains('fresa')].copy()\n",
    "    postre_fresa = postre_fresa[~postre['desc_normalized'].str.contains('eclair')].copy() #Client indication\n",
    "    postre_fresa = postre_fresa[~postre['desc_normalized'].str.contains('tartaleta')].copy() #Client indication\n",
    "\n",
    "    postre_fresa_mascarpone = postre_fresa[postre_fresa['desc_normalized'].str.contains('mascarpone')].copy()\n",
    "    return postre_fresa_mascarpone"
   ]
  },
  {
   "cell_type": "code",
   "execution_count": 46,
   "metadata": {},
   "outputs": [
    {
     "name": "stderr",
     "output_type": "stream",
     "text": [
      "/Users/miruiz/kschool-final-project/lib/python2.7/site-packages/ipykernel_launcher.py:4: UserWarning: Boolean Series key will be reindexed to match DataFrame index.\n",
      "  after removing the cwd from sys.path.\n",
      "/Users/miruiz/kschool-final-project/lib/python2.7/site-packages/ipykernel_launcher.py:5: UserWarning: Boolean Series key will be reindexed to match DataFrame index.\n",
      "  \"\"\"\n"
     ]
    }
   ],
   "source": [
    "transactions_postre_fresas_mascarpone = filter_postre_fresas_mascarpone(df_with_normalized_descriptions_transactions)"
   ]
  },
  {
   "cell_type": "code",
   "execution_count": 47,
   "metadata": {},
   "outputs": [
    {
     "data": {
      "image/png": "[encoded data removed]",
      "text/plain": [
       "<Figure size 432x288 with 1 Axes>"
      ]
     },
     "metadata": {
      "needs_background": "light"
     },
     "output_type": "display_data"
    }
   ],
   "source": [
    "plot_count_per_id(transactions_postre_fresas_mascarpone)"
   ]
  },
  {
   "cell_type": "code",
   "execution_count": 48,
   "metadata": {},
   "outputs": [
    {
     "name": "stdout",
     "output_type": "stream",
     "text": [
      "***Plotting id: 4511.0 \n",
      "-\n",
      "postres fresas y mascarpone                                71402\n",
      "postres tartaleta fresas y mascarpone                        684\n",
      "postres fresas y mascarpone encargo line                      38\n",
      "postres fresas y mascarpone encargo de                        38\n",
      "postres fresas y mascarpone sin chocolatina de mallorca       19\n",
      "Name: desc_normalized, dtype: int64\n",
      "\n",
      "***Plotting id: 9999.0 \n",
      "-\n",
      "encargo                       25745\n",
      "julian de verduras             8246\n",
      "julian de pimiento             8208\n",
      "brandada de bacalao            6080\n",
      "encargo julian de pimiento     5035\n",
      "Name: desc_normalized, dtype: int64\n",
      "\n",
      "***Plotting id: 450.0 \n",
      "-\n",
      "postres mousse tres chocolates      82403\n",
      "postres selva negra                  3116\n",
      "postres milhojas frambuesa           2926\n",
      "mini postres muy tres chocolates     2014\n",
      "postres milhojas                     1976\n",
      "Name: desc_normalized, dtype: int64\n",
      "\n",
      "***Plotting id: 45.0 \n",
      "-\n",
      "postres mousse tres chocolates    34865\n",
      "postres san marcos                  608\n",
      "postres selva negra                 361\n",
      "postres cheesecake                  323\n",
      "postres milhojas                    152\n",
      "Name: desc_normalized, dtype: int64\n",
      "\n"
     ]
    }
   ],
   "source": [
    "for i in transactions_postre_fresas_mascarpone['product_id'].unique():\n",
    "    to_print = df_with_normalized_descriptions_transactions[df_with_normalized_descriptions_transactions['product_id']==i]['desc_normalized'].value_counts().head()\n",
    "    print(\"***Plotting id: {} \".format(i))\n",
    "    print(\"-\")\n",
    "\n",
    "    print(to_print)\n",
    "    print(\"\")\n"
   ]
  },
  {
   "cell_type": "markdown",
   "metadata": {},
   "source": [
    "Seems that the filter is working :)"
   ]
  },
  {
   "cell_type": "code",
   "execution_count": 49,
   "metadata": {},
   "outputs": [
    {
     "name": "stderr",
     "output_type": "stream",
     "text": [
      "/Users/miruiz/kschool-final-project/lib/python2.7/site-packages/ipykernel_launcher.py:4: UserWarning: Boolean Series key will be reindexed to match DataFrame index.\n",
      "  after removing the cwd from sys.path.\n",
      "/Users/miruiz/kschool-final-project/lib/python2.7/site-packages/ipykernel_launcher.py:5: UserWarning: Boolean Series key will be reindexed to match DataFrame index.\n",
      "  \"\"\"\n"
     ]
    },
    {
     "data": {
      "text/html": [
       "<div>\n",
       "<style scoped>\n",
       "    .dataframe tbody tr th:only-of-type {\n",
       "        vertical-align: middle;\n",
       "    }\n",
       "\n",
       "    .dataframe tbody tr th {\n",
       "        vertical-align: top;\n",
       "    }\n",
       "\n",
       "    .dataframe thead th {\n",
       "        text-align: right;\n",
       "    }\n",
       "</style>\n",
       "<table border=\"1\" class=\"dataframe\">\n",
       "  <thead>\n",
       "    <tr style=\"text-align: right;\">\n",
       "      <th></th>\n",
       "      <th>product_id</th>\n",
       "      <th>desc_normalized</th>\n",
       "      <th>target_names_prod_by_prod</th>\n",
       "    </tr>\n",
       "  </thead>\n",
       "  <tbody>\n",
       "    <tr>\n",
       "      <th>37190</th>\n",
       "      <td>4511.0</td>\n",
       "      <td>postres fresas y mascarpone</td>\n",
       "      <td>postre de fresas y mascarpone</td>\n",
       "    </tr>\n",
       "    <tr>\n",
       "      <th>1492120</th>\n",
       "      <td>9999.0</td>\n",
       "      <td>encargo 1 postres de cada de breton milhojas l...</td>\n",
       "      <td>postre de fresas y mascarpone</td>\n",
       "    </tr>\n",
       "    <tr>\n",
       "      <th>3710627</th>\n",
       "      <td>9999.0</td>\n",
       "      <td>encargo postres de fresa y mascarpone</td>\n",
       "      <td>postre de fresas y mascarpone</td>\n",
       "    </tr>\n",
       "    <tr>\n",
       "      <th>6574446</th>\n",
       "      <td>9999.0</td>\n",
       "      <td>postres fresa y mascarpone</td>\n",
       "      <td>postre de fresas y mascarpone</td>\n",
       "    </tr>\n",
       "    <tr>\n",
       "      <th>8328632</th>\n",
       "      <td>9999.0</td>\n",
       "      <td>encargopostre fresa y mascarpone</td>\n",
       "      <td>postre de fresas y mascarpone</td>\n",
       "    </tr>\n",
       "  </tbody>\n",
       "</table>\n",
       "</div>"
      ],
      "text/plain": [
       "         product_id                                    desc_normalized  \\\n",
       "37190        4511.0                        postres fresas y mascarpone   \n",
       "1492120      9999.0  encargo 1 postres de cada de breton milhojas l...   \n",
       "3710627      9999.0              encargo postres de fresa y mascarpone   \n",
       "6574446      9999.0                         postres fresa y mascarpone   \n",
       "8328632      9999.0                   encargopostre fresa y mascarpone   \n",
       "\n",
       "             target_names_prod_by_prod  \n",
       "37190    postre de fresas y mascarpone  \n",
       "1492120  postre de fresas y mascarpone  \n",
       "3710627  postre de fresas y mascarpone  \n",
       "6574446  postre de fresas y mascarpone  \n",
       "8328632  postre de fresas y mascarpone  "
      ]
     },
     "execution_count": 49,
     "metadata": {},
     "output_type": "execute_result"
    }
   ],
   "source": [
    "postre_fresas_mascarpone = filter_postre_fresas_mascarpone(unique_normalized_decriptions)\n",
    "\n",
    "postre_fresas_mascarpone['target_names_prod_by_prod'] = 'postre de fresas y mascarpone'\n",
    "list_of_dfs.append(postre_fresas_mascarpone)\n",
    "postre_fresas_mascarpone.head()\n"
   ]
  },
  {
   "cell_type": "markdown",
   "metadata": {},
   "source": [
    "#### 2.3.9 Matching: tortel"
   ]
  },
  {
   "cell_type": "code",
   "execution_count": 50,
   "metadata": {},
   "outputs": [],
   "source": [
    "def filter_tortel (df):\n",
    "    tortel = df[df['desc_normalized'].str.contains('tortel')].copy()\n",
    "    tortel = tortel[~tortel['desc_normalized'].str.contains('tortellini|mini')].copy()\n",
    "\n",
    "    return tortel"
   ]
  },
  {
   "cell_type": "code",
   "execution_count": 51,
   "metadata": {},
   "outputs": [],
   "source": [
    "transactions_tortel = filter_tortel(df_with_normalized_descriptions_transactions)"
   ]
  },
  {
   "cell_type": "code",
   "execution_count": 52,
   "metadata": {},
   "outputs": [
    {
     "data": {
      "image/png": "[encoded data removed]",
      "text/plain": [
       "<Figure size 432x288 with 1 Axes>"
      ]
     },
     "metadata": {
      "needs_background": "light"
     },
     "output_type": "display_data"
    }
   ],
   "source": [
    "plot_count_per_id(transactions_tortel)"
   ]
  },
  {
   "cell_type": "code",
   "execution_count": 53,
   "metadata": {},
   "outputs": [
    {
     "name": "stdout",
     "output_type": "stream",
     "text": [
      "***Plotting id: 112.0 \n",
      "-\n",
      "torteles                              82821\n",
      "baguet multicereales                    437\n",
      "ensaimadas piezas hacer a las 12 y      342\n",
      "focaccias                               228\n",
      "suizos piezas hacer las 12 y            209\n",
      "Name: desc_normalized, dtype: int64\n",
      "\n",
      "***Plotting id: 9999.0 \n",
      "-\n",
      "encargo                       25745\n",
      "julian de verduras             8246\n",
      "julian de pimiento             8208\n",
      "brandada de bacalao            6080\n",
      "encargo julian de pimiento     5035\n",
      "Name: desc_normalized, dtype: int64\n",
      "\n"
     ]
    }
   ],
   "source": [
    "for i in transactions_tortel['product_id'].unique():\n",
    "    to_print = df_with_normalized_descriptions_transactions[df_with_normalized_descriptions_transactions['product_id']==i]['desc_normalized'].value_counts().head()\n",
    "    print(\"***Plotting id: {} \".format(i))\n",
    "    print(\"-\")\n",
    "\n",
    "    print(to_print)\n",
    "    print(\"\")\n"
   ]
  },
  {
   "cell_type": "code",
   "execution_count": 54,
   "metadata": {},
   "outputs": [
    {
     "data": {
      "text/html": [
       "<div>\n",
       "<style scoped>\n",
       "    .dataframe tbody tr th:only-of-type {\n",
       "        vertical-align: middle;\n",
       "    }\n",
       "\n",
       "    .dataframe tbody tr th {\n",
       "        vertical-align: top;\n",
       "    }\n",
       "\n",
       "    .dataframe thead th {\n",
       "        text-align: right;\n",
       "    }\n",
       "</style>\n",
       "<table border=\"1\" class=\"dataframe\">\n",
       "  <thead>\n",
       "    <tr style=\"text-align: right;\">\n",
       "      <th></th>\n",
       "      <th>product_id</th>\n",
       "      <th>desc_normalized</th>\n",
       "      <th>target_names_prod_by_prod</th>\n",
       "    </tr>\n",
       "  </thead>\n",
       "  <tbody>\n",
       "    <tr>\n",
       "      <th>272</th>\n",
       "      <td>112.0</td>\n",
       "      <td>torteles</td>\n",
       "      <td>tortel</td>\n",
       "    </tr>\n",
       "    <tr>\n",
       "      <th>609768</th>\n",
       "      <td>9999.0</td>\n",
       "      <td>encargo380 torteles cocido para las tres</td>\n",
       "      <td>tortel</td>\n",
       "    </tr>\n",
       "    <tr>\n",
       "      <th>617650</th>\n",
       "      <td>112.0</td>\n",
       "      <td>torteles para cartel 4 50 10</td>\n",
       "      <td>tortel</td>\n",
       "    </tr>\n",
       "    <tr>\n",
       "      <th>617651</th>\n",
       "      <td>112.0</td>\n",
       "      <td>torteles para miercoles 50 50 10</td>\n",
       "      <td>tortel</td>\n",
       "    </tr>\n",
       "    <tr>\n",
       "      <th>617652</th>\n",
       "      <td>112.0</td>\n",
       "      <td>torteles para verdes 7 50 10</td>\n",
       "      <td>tortel</td>\n",
       "    </tr>\n",
       "  </tbody>\n",
       "</table>\n",
       "</div>"
      ],
      "text/plain": [
       "        product_id                           desc_normalized  \\\n",
       "272          112.0                                  torteles   \n",
       "609768      9999.0  encargo380 torteles cocido para las tres   \n",
       "617650       112.0              torteles para cartel 4 50 10   \n",
       "617651       112.0          torteles para miercoles 50 50 10   \n",
       "617652       112.0              torteles para verdes 7 50 10   \n",
       "\n",
       "       target_names_prod_by_prod  \n",
       "272                       tortel  \n",
       "609768                    tortel  \n",
       "617650                    tortel  \n",
       "617651                    tortel  \n",
       "617652                    tortel  "
      ]
     },
     "execution_count": 54,
     "metadata": {},
     "output_type": "execute_result"
    }
   ],
   "source": [
    "tortel = filter_tortel(unique_normalized_decriptions)\n",
    "\n",
    "tortel['target_names_prod_by_prod'] = 'tortel'\n",
    "list_of_dfs.append(tortel)\n",
    "tortel.head(5)"
   ]
  },
  {
   "cell_type": "markdown",
   "metadata": {},
   "source": [
    "#### 2.3.10 Matching: baguette"
   ]
  },
  {
   "cell_type": "code",
   "execution_count": 55,
   "metadata": {},
   "outputs": [],
   "source": [
    "def filter_baguette (df):\n",
    "    baguette = df[df['desc_normalized'].str.contains('baguette|baguete|baguet')].copy()\n",
    "    return baguette"
   ]
  },
  {
   "cell_type": "code",
   "execution_count": 56,
   "metadata": {},
   "outputs": [],
   "source": [
    "transaction_baguette = filter_baguette(df_with_normalized_descriptions_transactions)"
   ]
  },
  {
   "cell_type": "code",
   "execution_count": 57,
   "metadata": {},
   "outputs": [
    {
     "data": {
      "image/png": "[encoded data removed]",
      "text/plain": [
       "<Figure size 432x288 with 1 Axes>"
      ]
     },
     "metadata": {
      "needs_background": "light"
     },
     "output_type": "display_data"
    }
   ],
   "source": [
    "plot_count_per_id(transaction_baguette)"
   ]
  },
  {
   "cell_type": "code",
   "execution_count": 58,
   "metadata": {},
   "outputs": [
    {
     "name": "stdout",
     "output_type": "stream",
     "text": [
      "***Plotting id: 115.0 \n",
      "-\n",
      "baguette mallorca                   47215\n",
      "baguett mallorca                    28177\n",
      "suizos piezas hacer a las 12 y         38\n",
      "ensaimadas piezas hacer las 12 y       19\n",
      "baguette mallorca cocido               19\n",
      "Name: desc_normalized, dtype: int64\n",
      "\n",
      "***Plotting id: 6016.0 \n",
      "-\n",
      "baguet piezas 5 hora          60306\n",
      "baguet 5 la ana                7942\n",
      "tartas pan torrijas andes        19\n",
      "barritas integrales piezas       19\n",
      "pan tostas tartas                19\n",
      "Name: desc_normalized, dtype: int64\n",
      "\n",
      "***Plotting id: 8739.0 \n",
      "-\n",
      "baguette mallorca integral    11552\n",
      "lorena integral                9348\n",
      "cold pan integral px             19\n",
      "Name: desc_normalized, dtype: int64\n",
      "\n",
      "***Plotting id: 103.0 \n",
      "-\n",
      "croissant petit                  94259\n",
      "mini napolitanas crema            1824\n",
      "mini napolitanas chocolate        1748\n",
      "croissant normal petit            1216\n",
      "croissant andes marcos piezas      380\n",
      "Name: desc_normalized, dtype: int64\n",
      "\n",
      "***Plotting id: 40001.0 \n",
      "-\n",
      "baguet    5149\n",
      "Name: desc_normalized, dtype: int64\n",
      "\n",
      "***Plotting id: 9999.0 \n",
      "-\n",
      "encargo                       25745\n",
      "julian de verduras             8246\n",
      "julian de pimiento             8208\n",
      "brandada de bacalao            6080\n",
      "encargo julian de pimiento     5035\n",
      "Name: desc_normalized, dtype: int64\n",
      "\n",
      "***Plotting id: 112.0 \n",
      "-\n",
      "torteles                              82821\n",
      "baguet multicereales                    437\n",
      "ensaimadas piezas hacer a las 12 y      342\n",
      "focaccias                               228\n",
      "suizos piezas hacer las 12 y            209\n",
      "Name: desc_normalized, dtype: int64\n",
      "\n",
      "***Plotting id: 113.0 \n",
      "-\n",
      "suizos                             82574\n",
      "suizos a las 10 hora                1425\n",
      "suizos a las 12 hora                 779\n",
      "suizos piezas                        114\n",
      "suizos piezas cocido 10 00 hora       76\n",
      "Name: desc_normalized, dtype: int64\n",
      "\n",
      "***Plotting id: 2999.0 \n",
      "-\n",
      "mini torteles cruda         513\n",
      "mini ensaimadas cruda       475\n",
      "mini ensaimadas en cruda    456\n",
      "especial pollo              418\n",
      "mini torteles en cruda      418\n",
      "Name: desc_normalized, dtype: int64\n",
      "\n",
      "***Plotting id: 101.0 \n",
      "-\n",
      "croissant                        72124\n",
      "croissant andes marcos piezas     8550\n",
      "suizos piezas hacer 10            4180\n",
      "ensaimadas piezas hacer 10        3477\n",
      "tiras de focaccias                2432\n",
      "Name: desc_normalized, dtype: int64\n",
      "\n",
      "***Plotting id: 102.0 \n",
      "-\n",
      "croissant francesa               86279\n",
      "croissant andes marcos piezas      703\n",
      "focaccias                          266\n",
      "chapatitas ocio                    247\n",
      "mini hamburguesitas                190\n",
      "Name: desc_normalized, dtype: int64\n",
      "\n"
     ]
    }
   ],
   "source": [
    "for i in transaction_baguette['product_id'].unique():\n",
    "    to_print = df_with_normalized_descriptions_transactions[df_with_normalized_descriptions_transactions['product_id']==i]['desc_normalized'].value_counts().head()\n",
    "    print(\"***Plotting id: {} \".format(i))\n",
    "    print(\"-\")\n",
    "\n",
    "    print(to_print)\n",
    "    print(\"\")\n"
   ]
  },
  {
   "cell_type": "markdown",
   "metadata": {},
   "source": [
    "Per client indications we take id = 115.0 containing baguette"
   ]
  },
  {
   "cell_type": "code",
   "execution_count": 59,
   "metadata": {},
   "outputs": [
    {
     "data": {
      "text/html": [
       "<div>\n",
       "<style scoped>\n",
       "    .dataframe tbody tr th:only-of-type {\n",
       "        vertical-align: middle;\n",
       "    }\n",
       "\n",
       "    .dataframe tbody tr th {\n",
       "        vertical-align: top;\n",
       "    }\n",
       "\n",
       "    .dataframe thead th {\n",
       "        text-align: right;\n",
       "    }\n",
       "</style>\n",
       "<table border=\"1\" class=\"dataframe\">\n",
       "  <thead>\n",
       "    <tr style=\"text-align: right;\">\n",
       "      <th></th>\n",
       "      <th>product_id</th>\n",
       "      <th>desc_normalized</th>\n",
       "      <th>target_names_prod_by_prod</th>\n",
       "    </tr>\n",
       "  </thead>\n",
       "  <tbody>\n",
       "    <tr>\n",
       "      <th>274</th>\n",
       "      <td>115.0</td>\n",
       "      <td>baguett mallorca</td>\n",
       "      <td>baguette</td>\n",
       "    </tr>\n",
       "    <tr>\n",
       "      <th>43592</th>\n",
       "      <td>115.0</td>\n",
       "      <td>baguette mallorca</td>\n",
       "      <td>baguette</td>\n",
       "    </tr>\n",
       "    <tr>\n",
       "      <th>19757224</th>\n",
       "      <td>115.0</td>\n",
       "      <td>baguette mallorca sin la bolsa mallorca</td>\n",
       "      <td>baguette</td>\n",
       "    </tr>\n",
       "    <tr>\n",
       "      <th>20766325</th>\n",
       "      <td>115.0</td>\n",
       "      <td>baguette mallorcasin bolsa mallorca</td>\n",
       "      <td>baguette</td>\n",
       "    </tr>\n",
       "    <tr>\n",
       "      <th>22770998</th>\n",
       "      <td>115.0</td>\n",
       "      <td>baguette mallorca cocido</td>\n",
       "      <td>baguette</td>\n",
       "    </tr>\n",
       "  </tbody>\n",
       "</table>\n",
       "</div>"
      ],
      "text/plain": [
       "          product_id                          desc_normalized  \\\n",
       "274            115.0                         baguett mallorca   \n",
       "43592          115.0                        baguette mallorca   \n",
       "19757224       115.0  baguette mallorca sin la bolsa mallorca   \n",
       "20766325       115.0      baguette mallorcasin bolsa mallorca   \n",
       "22770998       115.0                 baguette mallorca cocido   \n",
       "\n",
       "         target_names_prod_by_prod  \n",
       "274                       baguette  \n",
       "43592                     baguette  \n",
       "19757224                  baguette  \n",
       "20766325                  baguette  \n",
       "22770998                  baguette  "
      ]
     },
     "execution_count": 59,
     "metadata": {},
     "output_type": "execute_result"
    }
   ],
   "source": [
    "baguette = unique_normalized_decriptions[unique_normalized_decriptions['product_id']==115.0].copy()\n",
    "baguette = baguette[baguette['desc_normalized'].str.contains('baguette|baguete|baguet')].copy()\n",
    "\n",
    "baguette['target_names_prod_by_prod'] = 'baguette'\n",
    "list_of_dfs.append(baguette)\n",
    "baguette.head(5)"
   ]
  },
  {
   "cell_type": "markdown",
   "metadata": {},
   "source": [
    "### Lets now concatenate results, merge them back to the  full list of normalized descriptions and evaluate its effectiveness"
   ]
  },
  {
   "cell_type": "code",
   "execution_count": 60,
   "metadata": {},
   "outputs": [],
   "source": [
    "# Lets concatenate the results:\n",
    "list_of_products_df = pd.concat(list_of_dfs, sort=False)"
   ]
  },
  {
   "cell_type": "code",
   "execution_count": 61,
   "metadata": {},
   "outputs": [
    {
     "data": {
      "text/html": [
       "<div>\n",
       "<style scoped>\n",
       "    .dataframe tbody tr th:only-of-type {\n",
       "        vertical-align: middle;\n",
       "    }\n",
       "\n",
       "    .dataframe tbody tr th {\n",
       "        vertical-align: top;\n",
       "    }\n",
       "\n",
       "    .dataframe thead th {\n",
       "        text-align: right;\n",
       "    }\n",
       "</style>\n",
       "<table border=\"1\" class=\"dataframe\">\n",
       "  <thead>\n",
       "    <tr style=\"text-align: right;\">\n",
       "      <th></th>\n",
       "      <th>product_id</th>\n",
       "      <th>desc_normalized</th>\n",
       "      <th>target_names_prod_by_prod</th>\n",
       "    </tr>\n",
       "  </thead>\n",
       "  <tbody>\n",
       "  </tbody>\n",
       "</table>\n",
       "</div>"
      ],
      "text/plain": [
       "Empty DataFrame\n",
       "Columns: [product_id, desc_normalized, target_names_prod_by_prod]\n",
       "Index: []"
      ]
     },
     "execution_count": 61,
     "metadata": {},
     "output_type": "execute_result"
    }
   ],
   "source": [
    "list_of_products_df[list_of_products_df.duplicated()]"
   ]
  },
  {
   "cell_type": "code",
   "execution_count": 86,
   "metadata": {},
   "outputs": [
    {
     "ename": "KeyError",
     "evalue": "'product_id'",
     "output_type": "error",
     "traceback": [
      "\u001b[0;31m---------------------------------------------------------------------------\u001b[0m",
      "\u001b[0;31mKeyError\u001b[0m                                  Traceback (most recent call last)",
      "\u001b[0;32m<ipython-input-86-9f89933e86a2>\u001b[0m in \u001b[0;36m<module>\u001b[0;34m()\u001b[0m\n\u001b[1;32m      1\u001b[0m \u001b[0;31m# Merging with transaction dataset\u001b[0m\u001b[0;34m\u001b[0m\u001b[0;34m\u001b[0m\u001b[0m\n\u001b[0;32m----> 2\u001b[0;31m \u001b[0mdf_desc_normalezed_vs_prod_by_prod\u001b[0m \u001b[0;34m=\u001b[0m \u001b[0mpd\u001b[0m\u001b[0;34m.\u001b[0m\u001b[0mmerge\u001b[0m\u001b[0;34m(\u001b[0m\u001b[0mdf_with_normalized_descriptions_transactions\u001b[0m\u001b[0;34m,\u001b[0m \u001b[0mlist_of_products_df\u001b[0m\u001b[0;34m[\u001b[0m\u001b[0;34m[\u001b[0m\u001b[0;34m'desc_normalized'\u001b[0m\u001b[0;34m,\u001b[0m\u001b[0;34m'target_names_prod_by_prod'\u001b[0m\u001b[0;34m]\u001b[0m\u001b[0;34m]\u001b[0m\u001b[0;34m,\u001b[0m\u001b[0mhow\u001b[0m\u001b[0;34m=\u001b[0m\u001b[0;34m'left'\u001b[0m\u001b[0;34m,\u001b[0m\u001b[0mon\u001b[0m \u001b[0;34m=\u001b[0m \u001b[0;34m[\u001b[0m\u001b[0;34m'desc_normalized'\u001b[0m\u001b[0;34m,\u001b[0m\u001b[0;34m'product_id'\u001b[0m\u001b[0;34m]\u001b[0m\u001b[0;34m)\u001b[0m\u001b[0;34m\u001b[0m\u001b[0m\n\u001b[0m",
      "\u001b[0;32m/Users/miruiz/kschool-final-project/lib/python2.7/site-packages/pandas/core/reshape/merge.pyc\u001b[0m in \u001b[0;36mmerge\u001b[0;34m(left, right, how, on, left_on, right_on, left_index, right_index, sort, suffixes, copy, indicator, validate)\u001b[0m\n\u001b[1;32m     45\u001b[0m                          \u001b[0mright_index\u001b[0m\u001b[0;34m=\u001b[0m\u001b[0mright_index\u001b[0m\u001b[0;34m,\u001b[0m \u001b[0msort\u001b[0m\u001b[0;34m=\u001b[0m\u001b[0msort\u001b[0m\u001b[0;34m,\u001b[0m \u001b[0msuffixes\u001b[0m\u001b[0;34m=\u001b[0m\u001b[0msuffixes\u001b[0m\u001b[0;34m,\u001b[0m\u001b[0;34m\u001b[0m\u001b[0m\n\u001b[1;32m     46\u001b[0m                          \u001b[0mcopy\u001b[0m\u001b[0;34m=\u001b[0m\u001b[0mcopy\u001b[0m\u001b[0;34m,\u001b[0m \u001b[0mindicator\u001b[0m\u001b[0;34m=\u001b[0m\u001b[0mindicator\u001b[0m\u001b[0;34m,\u001b[0m\u001b[0;34m\u001b[0m\u001b[0m\n\u001b[0;32m---> 47\u001b[0;31m                          validate=validate)\n\u001b[0m\u001b[1;32m     48\u001b[0m     \u001b[0;32mreturn\u001b[0m \u001b[0mop\u001b[0m\u001b[0;34m.\u001b[0m\u001b[0mget_result\u001b[0m\u001b[0;34m(\u001b[0m\u001b[0;34m)\u001b[0m\u001b[0;34m\u001b[0m\u001b[0m\n\u001b[1;32m     49\u001b[0m \u001b[0;34m\u001b[0m\u001b[0m\n",
      "\u001b[0;32m/Users/miruiz/kschool-final-project/lib/python2.7/site-packages/pandas/core/reshape/merge.pyc\u001b[0m in \u001b[0;36m__init__\u001b[0;34m(self, left, right, how, on, left_on, right_on, axis, left_index, right_index, sort, suffixes, copy, indicator, validate)\u001b[0m\n\u001b[1;32m    527\u001b[0m         (self.left_join_keys,\n\u001b[1;32m    528\u001b[0m          \u001b[0mself\u001b[0m\u001b[0;34m.\u001b[0m\u001b[0mright_join_keys\u001b[0m\u001b[0;34m,\u001b[0m\u001b[0;34m\u001b[0m\u001b[0m\n\u001b[0;32m--> 529\u001b[0;31m          self.join_names) = self._get_merge_keys()\n\u001b[0m\u001b[1;32m    530\u001b[0m \u001b[0;34m\u001b[0m\u001b[0m\n\u001b[1;32m    531\u001b[0m         \u001b[0;31m# validate the merge keys dtypes. We may need to coerce\u001b[0m\u001b[0;34m\u001b[0m\u001b[0;34m\u001b[0m\u001b[0m\n",
      "\u001b[0;32m/Users/miruiz/kschool-final-project/lib/python2.7/site-packages/pandas/core/reshape/merge.pyc\u001b[0m in \u001b[0;36m_get_merge_keys\u001b[0;34m(self)\u001b[0m\n\u001b[1;32m    831\u001b[0m                         \u001b[0;32mif\u001b[0m \u001b[0mrk\u001b[0m \u001b[0;32mis\u001b[0m \u001b[0;32mnot\u001b[0m \u001b[0mNone\u001b[0m\u001b[0;34m:\u001b[0m\u001b[0;34m\u001b[0m\u001b[0m\n\u001b[1;32m    832\u001b[0m                             right_keys.append(\n\u001b[0;32m--> 833\u001b[0;31m                                 right._get_label_or_level_values(rk))\n\u001b[0m\u001b[1;32m    834\u001b[0m                         \u001b[0;32melse\u001b[0m\u001b[0;34m:\u001b[0m\u001b[0;34m\u001b[0m\u001b[0m\n\u001b[1;32m    835\u001b[0m                             \u001b[0;31m# work-around for merge_asof(right_index=True)\u001b[0m\u001b[0;34m\u001b[0m\u001b[0;34m\u001b[0m\u001b[0m\n",
      "\u001b[0;32m/Users/miruiz/kschool-final-project/lib/python2.7/site-packages/pandas/core/generic.pyc\u001b[0m in \u001b[0;36m_get_label_or_level_values\u001b[0;34m(self, key, axis)\u001b[0m\n\u001b[1;32m   1704\u001b[0m             \u001b[0mvalues\u001b[0m \u001b[0;34m=\u001b[0m \u001b[0mself\u001b[0m\u001b[0;34m.\u001b[0m\u001b[0maxes\u001b[0m\u001b[0;34m[\u001b[0m\u001b[0maxis\u001b[0m\u001b[0;34m]\u001b[0m\u001b[0;34m.\u001b[0m\u001b[0mget_level_values\u001b[0m\u001b[0;34m(\u001b[0m\u001b[0mkey\u001b[0m\u001b[0;34m)\u001b[0m\u001b[0;34m.\u001b[0m\u001b[0m_values\u001b[0m\u001b[0;34m\u001b[0m\u001b[0m\n\u001b[1;32m   1705\u001b[0m         \u001b[0;32melse\u001b[0m\u001b[0;34m:\u001b[0m\u001b[0;34m\u001b[0m\u001b[0m\n\u001b[0;32m-> 1706\u001b[0;31m             \u001b[0;32mraise\u001b[0m \u001b[0mKeyError\u001b[0m\u001b[0;34m(\u001b[0m\u001b[0mkey\u001b[0m\u001b[0;34m)\u001b[0m\u001b[0;34m\u001b[0m\u001b[0m\n\u001b[0m\u001b[1;32m   1707\u001b[0m \u001b[0;34m\u001b[0m\u001b[0m\n\u001b[1;32m   1708\u001b[0m         \u001b[0;31m# Check for duplicates\u001b[0m\u001b[0;34m\u001b[0m\u001b[0;34m\u001b[0m\u001b[0m\n",
      "\u001b[0;31mKeyError\u001b[0m: 'product_id'"
     ]
    }
   ],
   "source": [
    "# Merging with transaction dataset\n",
    "df_desc_normalezed_vs_prod_by_prod = pd.merge(df_with_normalized_descriptions_transactions, list_of_products_df[['desc_normalized','target_names_prod_by_prod']],how='left',on = ['desc_normalized','product_id'])"
   ]
  },
  {
   "cell_type": "code",
   "execution_count": 64,
   "metadata": {},
   "outputs": [],
   "source": [
    "# Merging test:"
   ]
  },
  {
   "cell_type": "code",
   "execution_count": 65,
   "metadata": {},
   "outputs": [
    {
     "name": "stdout",
     "output_type": "stream",
     "text": [
      "ERROR - 'df' has NOT the same size as 'df_with_normalized_descriptions_transactions' \n"
     ]
    }
   ],
   "source": [
    "#Control merge size:\n",
    "if (df_with_normalized_descriptions_transactions.shape[0] == df_desc_normalezed_vs_prod_by_prod.shape[0] ): \n",
    "    test1 = \"OK - 'df_with_normalized_descriptions_transactions' has the same size as 'df_with_normalized_descriptions_transactions' \"\n",
    "else:\n",
    "    test1 = \"ERROR - 'df' has NOT the same size as 'df_desc_normalezed_vs_prod_by_prod' \"\n",
    "\n",
    "print(test1)"
   ]
  },
  {
   "cell_type": "markdown",
   "metadata": {},
   "source": [
    "*NOTE:*\n",
    "\n",
    "During the first executions of code with the full transactions file, this error was failing; 'df' had less rows than 'df_with_normalized_descriptions_transactions'. The reason for this was not easy to identify, however digging we found that that in the normalized description two products descriptions ware naming two different products in the description, however this was not the case for the raw description (before the spell-cheacker):\n",
    "\n",
    "for example:\n",
    "- Normalized prod description: 'tarta mousse 3 chocolates de 20 raciones con escrito sobre la tarta manzana y mini felicidades'\n",
    "- Raw description: 'TARTA MOUSSE 3 CHOCOLATES DE 20 RACIONES CON ESCRITO SOBRE LA TARTA:  MARIANA Y DANI FELICIDADES'\n",
    "\n",
    "Basically, the spell-corrector was solving some problems; normalizing 'trata' , 'taaarta' under 'tarta', but adding a new one: normalizing words that it doesnt know, that may be a correct word, to a word that it knows: 'MARIANA' to 'manzana'... Ofcourse this is a weakness, however from the manual inspections that were performed, it doesnt seem to happen often.\n",
    "\n",
    "How we solve it by adding to the bakery products dataset: \n",
    "- A list of the most common male and female spanish names: in order to avoid confusion in the names\n",
    "\n",
    "sources of the datasets:\n",
    "- spanish names:https://www.ine.es/dyngs/INEbase/es/operacion.htm?c=Estadistica_C&cid=1254736177009&menu=resultados&secc=1254736195454&idp=1254734710990\n",
    "\n",
    "\n",
    "Also, in this case we added some names that we found to the excel; the right thing to do should we had more time, would be to polish the dataset, by adding not just mallorca catalogue and names, but also a book in spanish. Perhaps, it would also be interesting to applying NLP to identify NAMES from the product descriptions and add them to the products dataset..."
   ]
  },
  {
   "cell_type": "markdown",
   "metadata": {},
   "source": [
    "Lets now check how effective it was:"
   ]
  },
  {
   "cell_type": "code",
   "execution_count": 66,
   "metadata": {},
   "outputs": [
    {
     "data": {
      "text/html": [
       "<div>\n",
       "<style scoped>\n",
       "    .dataframe tbody tr th:only-of-type {\n",
       "        vertical-align: middle;\n",
       "    }\n",
       "\n",
       "    .dataframe tbody tr th {\n",
       "        vertical-align: top;\n",
       "    }\n",
       "\n",
       "    .dataframe thead th {\n",
       "        text-align: right;\n",
       "    }\n",
       "</style>\n",
       "<table border=\"1\" class=\"dataframe\">\n",
       "  <thead>\n",
       "    <tr style=\"text-align: right;\">\n",
       "      <th></th>\n",
       "      <th>desc_normalized</th>\n",
       "      <th>target_names_prod_by_prod</th>\n",
       "    </tr>\n",
       "  </thead>\n",
       "  <tbody>\n",
       "    <tr>\n",
       "      <th>0</th>\n",
       "      <td>pechuga de rellena de higos y setas</td>\n",
       "      <td>NaN</td>\n",
       "    </tr>\n",
       "    <tr>\n",
       "      <th>1</th>\n",
       "      <td>surtido novedad 1 4 g</td>\n",
       "      <td>NaN</td>\n",
       "    </tr>\n",
       "    <tr>\n",
       "      <th>2</th>\n",
       "      <td>surtido novedad de 1 2 g</td>\n",
       "      <td>NaN</td>\n",
       "    </tr>\n",
       "    <tr>\n",
       "      <th>3</th>\n",
       "      <td>rollito de salmon del de mouselina de marcos</td>\n",
       "      <td>NaN</td>\n",
       "    </tr>\n",
       "    <tr>\n",
       "      <th>4</th>\n",
       "      <td>todos de alcachofas rellenos de mario</td>\n",
       "      <td>NaN</td>\n",
       "    </tr>\n",
       "    <tr>\n",
       "      <th>5</th>\n",
       "      <td>magret de pato con citricos</td>\n",
       "      <td>NaN</td>\n",
       "    </tr>\n",
       "    <tr>\n",
       "      <th>6</th>\n",
       "      <td>albondigas de carne</td>\n",
       "      <td>NaN</td>\n",
       "    </tr>\n",
       "    <tr>\n",
       "      <th>7</th>\n",
       "      <td>cordero al cherry</td>\n",
       "      <td>NaN</td>\n",
       "    </tr>\n",
       "    <tr>\n",
       "      <th>8</th>\n",
       "      <td>ensalada de pancitos con gambas</td>\n",
       "      <td>NaN</td>\n",
       "    </tr>\n",
       "    <tr>\n",
       "      <th>9</th>\n",
       "      <td>verduras salteadas con jamon</td>\n",
       "      <td>NaN</td>\n",
       "    </tr>\n",
       "  </tbody>\n",
       "</table>\n",
       "</div>"
      ],
      "text/plain": [
       "                                desc_normalized target_names_prod_by_prod\n",
       "0           pechuga de rellena de higos y setas                       NaN\n",
       "1                         surtido novedad 1 4 g                       NaN\n",
       "2                      surtido novedad de 1 2 g                       NaN\n",
       "3  rollito de salmon del de mouselina de marcos                       NaN\n",
       "4         todos de alcachofas rellenos de mario                       NaN\n",
       "5                   magret de pato con citricos                       NaN\n",
       "6                           albondigas de carne                       NaN\n",
       "7                             cordero al cherry                       NaN\n",
       "8               ensalada de pancitos con gambas                       NaN\n",
       "9                  verduras salteadas con jamon                       NaN"
      ]
     },
     "execution_count": 66,
     "metadata": {},
     "output_type": "execute_result"
    }
   ],
   "source": [
    "# Lets look at the first 10 description names\n",
    "df_desc_normalezed_vs_prod_by_prod[['desc_normalized','target_names_prod_by_prod']].head(10)"
   ]
  },
  {
   "cell_type": "code",
   "execution_count": 67,
   "metadata": {},
   "outputs": [
    {
     "data": {
      "text/html": [
       "<div>\n",
       "<style scoped>\n",
       "    .dataframe tbody tr th:only-of-type {\n",
       "        vertical-align: middle;\n",
       "    }\n",
       "\n",
       "    .dataframe tbody tr th {\n",
       "        vertical-align: top;\n",
       "    }\n",
       "\n",
       "    .dataframe thead th {\n",
       "        text-align: right;\n",
       "    }\n",
       "</style>\n",
       "<table border=\"1\" class=\"dataframe\">\n",
       "  <thead>\n",
       "    <tr style=\"text-align: right;\">\n",
       "      <th></th>\n",
       "      <th>desc_normalized</th>\n",
       "      <th>target_names_prod_by_prod</th>\n",
       "    </tr>\n",
       "  </thead>\n",
       "  <tbody>\n",
       "    <tr>\n",
       "      <th>394</th>\n",
       "      <td>mousse chocolate blanco</td>\n",
       "      <td>NaN</td>\n",
       "    </tr>\n",
       "    <tr>\n",
       "      <th>528</th>\n",
       "      <td>postres mousse chocolate en vasito</td>\n",
       "      <td>NaN</td>\n",
       "    </tr>\n",
       "    <tr>\n",
       "      <th>530</th>\n",
       "      <td>postres mousse frutas bosque</td>\n",
       "      <td>NaN</td>\n",
       "    </tr>\n",
       "    <tr>\n",
       "      <th>599</th>\n",
       "      <td>postres mousse frutas bosque</td>\n",
       "      <td>NaN</td>\n",
       "    </tr>\n",
       "    <tr>\n",
       "      <th>601</th>\n",
       "      <td>postres mousse chocolate en vasito</td>\n",
       "      <td>NaN</td>\n",
       "    </tr>\n",
       "    <tr>\n",
       "      <th>667</th>\n",
       "      <td>postres mousse de limon</td>\n",
       "      <td>NaN</td>\n",
       "    </tr>\n",
       "    <tr>\n",
       "      <th>686</th>\n",
       "      <td>petit yogur mousse praline</td>\n",
       "      <td>NaN</td>\n",
       "    </tr>\n",
       "    <tr>\n",
       "      <th>1083</th>\n",
       "      <td>postres mousse frutas bosque</td>\n",
       "      <td>NaN</td>\n",
       "    </tr>\n",
       "    <tr>\n",
       "      <th>1085</th>\n",
       "      <td>postres mousse chocolate en vasito</td>\n",
       "      <td>NaN</td>\n",
       "    </tr>\n",
       "    <tr>\n",
       "      <th>1141</th>\n",
       "      <td>mousse 3 chocolates 3</td>\n",
       "      <td>NaN</td>\n",
       "    </tr>\n",
       "    <tr>\n",
       "      <th>1142</th>\n",
       "      <td>mousse 3 chocolates 1</td>\n",
       "      <td>NaN</td>\n",
       "    </tr>\n",
       "    <tr>\n",
       "      <th>1143</th>\n",
       "      <td>mousse 3 chocolates 2</td>\n",
       "      <td>NaN</td>\n",
       "    </tr>\n",
       "    <tr>\n",
       "      <th>1144</th>\n",
       "      <td>postres mousse tres chocolates</td>\n",
       "      <td>NaN</td>\n",
       "    </tr>\n",
       "    <tr>\n",
       "      <th>1171</th>\n",
       "      <td>petit yogur mousse praline</td>\n",
       "      <td>NaN</td>\n",
       "    </tr>\n",
       "    <tr>\n",
       "      <th>1175</th>\n",
       "      <td>postres mousse de limon</td>\n",
       "      <td>NaN</td>\n",
       "    </tr>\n",
       "  </tbody>\n",
       "</table>\n",
       "</div>"
      ],
      "text/plain": [
       "                         desc_normalized target_names_prod_by_prod\n",
       "394              mousse chocolate blanco                       NaN\n",
       "528   postres mousse chocolate en vasito                       NaN\n",
       "530         postres mousse frutas bosque                       NaN\n",
       "599         postres mousse frutas bosque                       NaN\n",
       "601   postres mousse chocolate en vasito                       NaN\n",
       "667              postres mousse de limon                       NaN\n",
       "686           petit yogur mousse praline                       NaN\n",
       "1083        postres mousse frutas bosque                       NaN\n",
       "1085  postres mousse chocolate en vasito                       NaN\n",
       "1141               mousse 3 chocolates 3                       NaN\n",
       "1142               mousse 3 chocolates 1                       NaN\n",
       "1143               mousse 3 chocolates 2                       NaN\n",
       "1144      postres mousse tres chocolates                       NaN\n",
       "1171          petit yogur mousse praline                       NaN\n",
       "1175             postres mousse de limon                       NaN"
      ]
     },
     "execution_count": 67,
     "metadata": {},
     "output_type": "execute_result"
    }
   ],
   "source": [
    "# Lets now review the effectiveness filtering by 'mousse '. The expected result is that all 'mousse 3 chocolates' match\n",
    "df_desc_normalezed_vs_prod_by_prod.loc[df_desc_normalezed_vs_prod_by_prod['desc_normalized'].str.contains('mousse'),['desc_normalized','target_names_prod_by_prod'] ].head(15)"
   ]
  },
  {
   "cell_type": "markdown",
   "metadata": {},
   "source": [
    "This looks much better! lets now check that the data integrity has not been compromised"
   ]
  },
  {
   "cell_type": "markdown",
   "metadata": {},
   "source": [
    "### 2.5 Test that data has not been corrputed\n",
    "\n",
    "To test the integrity of the data, the original dataset should be the same as the last dataset without that we added, in other words, without the columns with the normalized descriptuons, and the target names:"
   ]
  },
  {
   "cell_type": "code",
   "execution_count": 68,
   "metadata": {},
   "outputs": [
    {
     "name": "stdout",
     "output_type": "stream",
     "text": [
      "Original dataset shape: (30550252, 6)\n",
      "Resulting dataset shape: (31136592, 8)\n"
     ]
    }
   ],
   "source": [
    "# First, lets check the size of both dataframes:\n",
    "print(\"Original dataset shape: {}\".format(df.shape))\n",
    "print(\"Resulting dataset shape: {}\".format(df_desc_normalezed_vs_prod_by_prod.shape))"
   ]
  },
  {
   "cell_type": "markdown",
   "metadata": {},
   "source": [
    "The shape looks good, we were expecting the resulting dataset to have to columns more. Lets now evauate if they are actually the same dataset if we remove the added columns:"
   ]
  },
  {
   "cell_type": "code",
   "execution_count": 69,
   "metadata": {},
   "outputs": [],
   "source": [
    "# Selecting original columnsd from the resulting df\n",
    "df_result = df_desc_normalezed_vs_prod_by_prod.loc[:, df.columns]"
   ]
  },
  {
   "cell_type": "code",
   "execution_count": 70,
   "metadata": {},
   "outputs": [],
   "source": [
    "# Now, lets compare it with the original dataset, sorting them out in the same way:\n",
    "df_result_sorted = df_result.sort_values(by = ['order_date','store','description','product_id', 'units_ordered']).reset_index().drop('index', axis = 1)\n",
    "df_original_sorted = df.sort_values(by = ['order_date','store','description',  'product_id', 'units_ordered']).reset_index().drop('index', axis = 1)"
   ]
  },
  {
   "cell_type": "code",
   "execution_count": 71,
   "metadata": {},
   "outputs": [
    {
     "data": {
      "text/html": [
       "<div>\n",
       "<style scoped>\n",
       "    .dataframe tbody tr th:only-of-type {\n",
       "        vertical-align: middle;\n",
       "    }\n",
       "\n",
       "    .dataframe tbody tr th {\n",
       "        vertical-align: top;\n",
       "    }\n",
       "\n",
       "    .dataframe thead th {\n",
       "        text-align: right;\n",
       "    }\n",
       "</style>\n",
       "<table border=\"1\" class=\"dataframe\">\n",
       "  <thead>\n",
       "    <tr style=\"text-align: right;\">\n",
       "      <th></th>\n",
       "      <th>product_id</th>\n",
       "      <th>description</th>\n",
       "      <th>order_date</th>\n",
       "      <th>section</th>\n",
       "      <th>store</th>\n",
       "      <th>units_ordered</th>\n",
       "    </tr>\n",
       "  </thead>\n",
       "  <tbody>\n",
       "    <tr>\n",
       "      <th>0</th>\n",
       "      <td>615.0</td>\n",
       "      <td>ALASKAS FRAMBUESA</td>\n",
       "      <td>1/1/2008 0:00:00</td>\n",
       "      <td>0</td>\n",
       "      <td>AaUP</td>\n",
       "      <td>2,00</td>\n",
       "    </tr>\n",
       "    <tr>\n",
       "      <th>1</th>\n",
       "      <td>172.0</td>\n",
       "      <td>1/2 PAN DE MOLDE ENVUELTO</td>\n",
       "      <td>1/1/2008 0:00:00</td>\n",
       "      <td>0</td>\n",
       "      <td>AaUP</td>\n",
       "      <td>0,00</td>\n",
       "    </tr>\n",
       "    <tr>\n",
       "      <th>2</th>\n",
       "      <td>9999.0</td>\n",
       "      <td>3 RACIONES DE ENSALADA DE CAPON</td>\n",
       "      <td>1/1/2008 0:00:00</td>\n",
       "      <td>0</td>\n",
       "      <td>AaUP</td>\n",
       "      <td>0,00</td>\n",
       "    </tr>\n",
       "    <tr>\n",
       "      <th>3</th>\n",
       "      <td>9999.0</td>\n",
       "      <td>3 RACIONES VERDURAS SALTEADAS</td>\n",
       "      <td>1/1/2008 0:00:00</td>\n",
       "      <td>0</td>\n",
       "      <td>AaUP</td>\n",
       "      <td>0,00</td>\n",
       "    </tr>\n",
       "    <tr>\n",
       "      <th>4</th>\n",
       "      <td>3252.0</td>\n",
       "      <td>ACETATO 11 POOL                          NUEVO</td>\n",
       "      <td>1/1/2008 0:00:00</td>\n",
       "      <td>0</td>\n",
       "      <td>AaUP</td>\n",
       "      <td>0,00</td>\n",
       "    </tr>\n",
       "  </tbody>\n",
       "</table>\n",
       "</div>"
      ],
      "text/plain": [
       "   product_id                                     description  \\\n",
       "0       615.0                               ALASKAS FRAMBUESA   \n",
       "1       172.0                       1/2 PAN DE MOLDE ENVUELTO   \n",
       "2      9999.0                 3 RACIONES DE ENSALADA DE CAPON   \n",
       "3      9999.0                   3 RACIONES VERDURAS SALTEADAS   \n",
       "4      3252.0  ACETATO 11 POOL                          NUEVO   \n",
       "\n",
       "         order_date  section store units_ordered  \n",
       "0  1/1/2008 0:00:00        0  AaUP          2,00  \n",
       "1  1/1/2008 0:00:00        0  AaUP          0,00  \n",
       "2  1/1/2008 0:00:00        0  AaUP          0,00  \n",
       "3  1/1/2008 0:00:00        0  AaUP          0,00  \n",
       "4  1/1/2008 0:00:00        0  AaUP          0,00  "
      ]
     },
     "execution_count": 71,
     "metadata": {},
     "output_type": "execute_result"
    }
   ],
   "source": [
    "df_result_sorted.head()"
   ]
  },
  {
   "cell_type": "code",
   "execution_count": 72,
   "metadata": {},
   "outputs": [
    {
     "data": {
      "text/html": [
       "<div>\n",
       "<style scoped>\n",
       "    .dataframe tbody tr th:only-of-type {\n",
       "        vertical-align: middle;\n",
       "    }\n",
       "\n",
       "    .dataframe tbody tr th {\n",
       "        vertical-align: top;\n",
       "    }\n",
       "\n",
       "    .dataframe thead th {\n",
       "        text-align: right;\n",
       "    }\n",
       "</style>\n",
       "<table border=\"1\" class=\"dataframe\">\n",
       "  <thead>\n",
       "    <tr style=\"text-align: right;\">\n",
       "      <th></th>\n",
       "      <th>product_id</th>\n",
       "      <th>description</th>\n",
       "      <th>order_date</th>\n",
       "      <th>section</th>\n",
       "      <th>store</th>\n",
       "      <th>units_ordered</th>\n",
       "    </tr>\n",
       "  </thead>\n",
       "  <tbody>\n",
       "    <tr>\n",
       "      <th>0</th>\n",
       "      <td>615.0</td>\n",
       "      <td>ALASKAS FRAMBUESA</td>\n",
       "      <td>1/1/2008 0:00:00</td>\n",
       "      <td>0</td>\n",
       "      <td>AaUP</td>\n",
       "      <td>2,00</td>\n",
       "    </tr>\n",
       "    <tr>\n",
       "      <th>1</th>\n",
       "      <td>172.0</td>\n",
       "      <td>1/2 PAN DE MOLDE ENVUELTO</td>\n",
       "      <td>1/1/2008 0:00:00</td>\n",
       "      <td>0</td>\n",
       "      <td>AaUP</td>\n",
       "      <td>0,00</td>\n",
       "    </tr>\n",
       "    <tr>\n",
       "      <th>2</th>\n",
       "      <td>9999.0</td>\n",
       "      <td>3 RACIONES DE ENSALADA DE CAPON</td>\n",
       "      <td>1/1/2008 0:00:00</td>\n",
       "      <td>0</td>\n",
       "      <td>AaUP</td>\n",
       "      <td>0,00</td>\n",
       "    </tr>\n",
       "    <tr>\n",
       "      <th>3</th>\n",
       "      <td>9999.0</td>\n",
       "      <td>3 RACIONES VERDURAS SALTEADAS</td>\n",
       "      <td>1/1/2008 0:00:00</td>\n",
       "      <td>0</td>\n",
       "      <td>AaUP</td>\n",
       "      <td>0,00</td>\n",
       "    </tr>\n",
       "    <tr>\n",
       "      <th>4</th>\n",
       "      <td>3252.0</td>\n",
       "      <td>ACETATO 11 POOL                          NUEVO</td>\n",
       "      <td>1/1/2008 0:00:00</td>\n",
       "      <td>0</td>\n",
       "      <td>AaUP</td>\n",
       "      <td>0,00</td>\n",
       "    </tr>\n",
       "  </tbody>\n",
       "</table>\n",
       "</div>"
      ],
      "text/plain": [
       "   product_id                                     description  \\\n",
       "0       615.0                               ALASKAS FRAMBUESA   \n",
       "1       172.0                       1/2 PAN DE MOLDE ENVUELTO   \n",
       "2      9999.0                 3 RACIONES DE ENSALADA DE CAPON   \n",
       "3      9999.0                   3 RACIONES VERDURAS SALTEADAS   \n",
       "4      3252.0  ACETATO 11 POOL                          NUEVO   \n",
       "\n",
       "         order_date  section store units_ordered  \n",
       "0  1/1/2008 0:00:00        0  AaUP          2,00  \n",
       "1  1/1/2008 0:00:00        0  AaUP          0,00  \n",
       "2  1/1/2008 0:00:00        0  AaUP          0,00  \n",
       "3  1/1/2008 0:00:00        0  AaUP          0,00  \n",
       "4  1/1/2008 0:00:00        0  AaUP          0,00  "
      ]
     },
     "execution_count": 72,
     "metadata": {},
     "output_type": "execute_result"
    }
   ],
   "source": [
    "df_original_sorted.head()"
   ]
  },
  {
   "cell_type": "code",
   "execution_count": 73,
   "metadata": {},
   "outputs": [
    {
     "name": "stdout",
     "output_type": "stream",
     "text": [
      "ERROR - The original dataset are NOT found\n"
     ]
    }
   ],
   "source": [
    "# Now that they have the same columns, and are sorted using the same criteria, lets evaluate if they are the same:\n",
    "comparison_result = df_result_sorted.equals(df_original_sorted)\n",
    "\n",
    "if comparison_result == True:\n",
    "    test2 = 'OK - The original dataset is the similar to the resulting dataset'\n",
    "else:\n",
    "     test2 ='ERROR - The original dataset are NOT found'\n",
    "\n",
    "print(test2)"
   ]
  },
  {
   "cell_type": "markdown",
   "metadata": {},
   "source": [
    "### 2.6 Filter dataset to only include the products from the list provided by the client, and save to csv"
   ]
  },
  {
   "cell_type": "code",
   "execution_count": 74,
   "metadata": {},
   "outputs": [],
   "source": [
    "df_target_products = df_desc_normalezed_vs_prod_by_prod[~df_desc_normalezed_vs_prod_by_prod['target_names_prod_by_prod'].isnull()]\n",
    "df_other_products = df_desc_normalezed_vs_prod_by_prod[df_desc_normalezed_vs_prod_by_prod['target_names_prod_by_prod'].isnull()]"
   ]
  },
  {
   "cell_type": "code",
   "execution_count": 75,
   "metadata": {},
   "outputs": [
    {
     "data": {
      "text/html": [
       "<div>\n",
       "<style scoped>\n",
       "    .dataframe tbody tr th:only-of-type {\n",
       "        vertical-align: middle;\n",
       "    }\n",
       "\n",
       "    .dataframe tbody tr th {\n",
       "        vertical-align: top;\n",
       "    }\n",
       "\n",
       "    .dataframe thead th {\n",
       "        text-align: right;\n",
       "    }\n",
       "</style>\n",
       "<table border=\"1\" class=\"dataframe\">\n",
       "  <thead>\n",
       "    <tr style=\"text-align: right;\">\n",
       "      <th></th>\n",
       "      <th>product_id</th>\n",
       "      <th>description</th>\n",
       "      <th>order_date</th>\n",
       "      <th>section</th>\n",
       "      <th>store</th>\n",
       "      <th>units_ordered</th>\n",
       "      <th>desc_normalized</th>\n",
       "      <th>target_names_prod_by_prod</th>\n",
       "    </tr>\n",
       "  </thead>\n",
       "  <tbody>\n",
       "    <tr>\n",
       "      <th>216</th>\n",
       "      <td>100.0</td>\n",
       "      <td>CROISANTS</td>\n",
       "      <td>1/1/2008 0:00:00</td>\n",
       "      <td>0</td>\n",
       "      <td>VeUp</td>\n",
       "      <td>20,00</td>\n",
       "      <td>croissant</td>\n",
       "      <td>croissant simple</td>\n",
       "    </tr>\n",
       "    <tr>\n",
       "      <th>217</th>\n",
       "      <td>100.0</td>\n",
       "      <td>CROISANTS</td>\n",
       "      <td>1/1/2008 0:00:00</td>\n",
       "      <td>0</td>\n",
       "      <td>VeUp</td>\n",
       "      <td>20,00</td>\n",
       "      <td>croissant</td>\n",
       "      <td>croissant simple</td>\n",
       "    </tr>\n",
       "    <tr>\n",
       "      <th>235</th>\n",
       "      <td>182.0</td>\n",
       "      <td>PALMERAS DE TRUFA</td>\n",
       "      <td>1/1/2008 0:00:00</td>\n",
       "      <td>0</td>\n",
       "      <td>VeUp</td>\n",
       "      <td>4,00</td>\n",
       "      <td>palmera de trufa</td>\n",
       "      <td>palmera chocolate</td>\n",
       "    </tr>\n",
       "    <tr>\n",
       "      <th>236</th>\n",
       "      <td>182.0</td>\n",
       "      <td>PALMERAS DE TRUFA</td>\n",
       "      <td>1/1/2008 0:00:00</td>\n",
       "      <td>0</td>\n",
       "      <td>VeUp</td>\n",
       "      <td>4,00</td>\n",
       "      <td>palmera de trufa</td>\n",
       "      <td>palmera chocolate</td>\n",
       "    </tr>\n",
       "    <tr>\n",
       "      <th>242</th>\n",
       "      <td>101.0</td>\n",
       "      <td>CROISSANT</td>\n",
       "      <td>1/1/2008 0:00:00</td>\n",
       "      <td>0</td>\n",
       "      <td>VeUp</td>\n",
       "      <td>0,00</td>\n",
       "      <td>croissant</td>\n",
       "      <td>croissant simple</td>\n",
       "    </tr>\n",
       "  </tbody>\n",
       "</table>\n",
       "</div>"
      ],
      "text/plain": [
       "     product_id        description        order_date  section store  \\\n",
       "216       100.0          CROISANTS  1/1/2008 0:00:00        0  VeUp   \n",
       "217       100.0          CROISANTS  1/1/2008 0:00:00        0  VeUp   \n",
       "235       182.0  PALMERAS DE TRUFA  1/1/2008 0:00:00        0  VeUp   \n",
       "236       182.0  PALMERAS DE TRUFA  1/1/2008 0:00:00        0  VeUp   \n",
       "242       101.0          CROISSANT  1/1/2008 0:00:00        0  VeUp   \n",
       "\n",
       "    units_ordered   desc_normalized target_names_prod_by_prod  \n",
       "216         20,00         croissant          croissant simple  \n",
       "217         20,00         croissant          croissant simple  \n",
       "235          4,00  palmera de trufa         palmera chocolate  \n",
       "236          4,00  palmera de trufa         palmera chocolate  \n",
       "242          0,00         croissant          croissant simple  "
      ]
     },
     "execution_count": 75,
     "metadata": {},
     "output_type": "execute_result"
    }
   ],
   "source": [
    "df_target_products_file_name = exit_path + 'filtered_transactions_not_clean.csv' \n",
    "df_target_products.to_csv(df_target_products_file_name, index = False, sep = ';' )\n",
    "df_target_products.head()"
   ]
  },
  {
   "cell_type": "code",
   "execution_count": 76,
   "metadata": {},
   "outputs": [
    {
     "ename": "KeyboardInterrupt",
     "evalue": "",
     "output_type": "error",
     "traceback": [
      "\u001b[0;31m---------------------------------------------------------------------------\u001b[0m",
      "\u001b[0;31mKeyboardInterrupt\u001b[0m                         Traceback (most recent call last)",
      "\u001b[0;32m<ipython-input-76-189aaa147c6c>\u001b[0m in \u001b[0;36m<module>\u001b[0;34m()\u001b[0m\n\u001b[1;32m      1\u001b[0m \u001b[0munfiltered_products_file_name\u001b[0m \u001b[0;34m=\u001b[0m \u001b[0mexit_path\u001b[0m \u001b[0;34m+\u001b[0m \u001b[0;34m'unfiltered_transactions.csv'\u001b[0m\u001b[0;34m\u001b[0m\u001b[0m\n\u001b[0;32m----> 2\u001b[0;31m \u001b[0mdf_other_products\u001b[0m\u001b[0;34m.\u001b[0m\u001b[0mto_csv\u001b[0m\u001b[0;34m(\u001b[0m\u001b[0munfiltered_products_file_name\u001b[0m\u001b[0;34m,\u001b[0m \u001b[0mindex\u001b[0m \u001b[0;34m=\u001b[0m \u001b[0mFalse\u001b[0m\u001b[0;34m,\u001b[0m \u001b[0msep\u001b[0m \u001b[0;34m=\u001b[0m \u001b[0;34m';'\u001b[0m \u001b[0;34m)\u001b[0m\u001b[0;34m\u001b[0m\u001b[0m\n\u001b[0m\u001b[1;32m      3\u001b[0m \u001b[0mdf_other_products\u001b[0m\u001b[0;34m.\u001b[0m\u001b[0mhead\u001b[0m\u001b[0;34m(\u001b[0m\u001b[0;34m)\u001b[0m\u001b[0;34m\u001b[0m\u001b[0m\n",
      "\u001b[0;32m/Users/miruiz/kschool-final-project/lib/python2.7/site-packages/pandas/core/generic.pyc\u001b[0m in \u001b[0;36mto_csv\u001b[0;34m(self, path_or_buf, sep, na_rep, float_format, columns, header, index, index_label, mode, encoding, compression, quoting, quotechar, line_terminator, chunksize, tupleize_cols, date_format, doublequote, escapechar, decimal)\u001b[0m\n\u001b[1;32m   3018\u001b[0m                                  \u001b[0mdoublequote\u001b[0m\u001b[0;34m=\u001b[0m\u001b[0mdoublequote\u001b[0m\u001b[0;34m,\u001b[0m\u001b[0;34m\u001b[0m\u001b[0m\n\u001b[1;32m   3019\u001b[0m                                  escapechar=escapechar, decimal=decimal)\n\u001b[0;32m-> 3020\u001b[0;31m         \u001b[0mformatter\u001b[0m\u001b[0;34m.\u001b[0m\u001b[0msave\u001b[0m\u001b[0;34m(\u001b[0m\u001b[0;34m)\u001b[0m\u001b[0;34m\u001b[0m\u001b[0m\n\u001b[0m\u001b[1;32m   3021\u001b[0m \u001b[0;34m\u001b[0m\u001b[0m\n\u001b[1;32m   3022\u001b[0m         \u001b[0;32mif\u001b[0m \u001b[0mpath_or_buf\u001b[0m \u001b[0;32mis\u001b[0m \u001b[0mNone\u001b[0m\u001b[0;34m:\u001b[0m\u001b[0;34m\u001b[0m\u001b[0m\n",
      "\u001b[0;32m/Users/miruiz/kschool-final-project/lib/python2.7/site-packages/pandas/io/formats/csvs.pyc\u001b[0m in \u001b[0;36msave\u001b[0;34m(self)\u001b[0m\n\u001b[1;32m    170\u001b[0m                 \u001b[0mself\u001b[0m\u001b[0;34m.\u001b[0m\u001b[0mwriter\u001b[0m \u001b[0;34m=\u001b[0m \u001b[0mUnicodeWriter\u001b[0m\u001b[0;34m(\u001b[0m\u001b[0mf\u001b[0m\u001b[0;34m,\u001b[0m \u001b[0;34m**\u001b[0m\u001b[0mwriter_kwargs\u001b[0m\u001b[0;34m)\u001b[0m\u001b[0;34m\u001b[0m\u001b[0m\n\u001b[1;32m    171\u001b[0m \u001b[0;34m\u001b[0m\u001b[0m\n\u001b[0;32m--> 172\u001b[0;31m             \u001b[0mself\u001b[0m\u001b[0;34m.\u001b[0m\u001b[0m_save\u001b[0m\u001b[0;34m(\u001b[0m\u001b[0;34m)\u001b[0m\u001b[0;34m\u001b[0m\u001b[0m\n\u001b[0m\u001b[1;32m    173\u001b[0m \u001b[0;34m\u001b[0m\u001b[0m\n\u001b[1;32m    174\u001b[0m         \u001b[0;32mfinally\u001b[0m\u001b[0;34m:\u001b[0m\u001b[0;34m\u001b[0m\u001b[0m\n",
      "\u001b[0;32m/Users/miruiz/kschool-final-project/lib/python2.7/site-packages/pandas/io/formats/csvs.pyc\u001b[0m in \u001b[0;36m_save\u001b[0;34m(self)\u001b[0m\n\u001b[1;32m    286\u001b[0m                 \u001b[0;32mbreak\u001b[0m\u001b[0;34m\u001b[0m\u001b[0m\n\u001b[1;32m    287\u001b[0m \u001b[0;34m\u001b[0m\u001b[0m\n\u001b[0;32m--> 288\u001b[0;31m             \u001b[0mself\u001b[0m\u001b[0;34m.\u001b[0m\u001b[0m_save_chunk\u001b[0m\u001b[0;34m(\u001b[0m\u001b[0mstart_i\u001b[0m\u001b[0;34m,\u001b[0m \u001b[0mend_i\u001b[0m\u001b[0;34m)\u001b[0m\u001b[0;34m\u001b[0m\u001b[0m\n\u001b[0m\u001b[1;32m    289\u001b[0m \u001b[0;34m\u001b[0m\u001b[0m\n\u001b[1;32m    290\u001b[0m     \u001b[0;32mdef\u001b[0m \u001b[0m_save_chunk\u001b[0m\u001b[0;34m(\u001b[0m\u001b[0mself\u001b[0m\u001b[0;34m,\u001b[0m \u001b[0mstart_i\u001b[0m\u001b[0;34m,\u001b[0m \u001b[0mend_i\u001b[0m\u001b[0;34m)\u001b[0m\u001b[0;34m:\u001b[0m\u001b[0;34m\u001b[0m\u001b[0m\n",
      "\u001b[0;32m/Users/miruiz/kschool-final-project/lib/python2.7/site-packages/pandas/io/formats/csvs.pyc\u001b[0m in \u001b[0;36m_save_chunk\u001b[0;34m(self, start_i, end_i)\u001b[0m\n\u001b[1;32m    313\u001b[0m \u001b[0;34m\u001b[0m\u001b[0m\n\u001b[1;32m    314\u001b[0m         libwriters.write_csv_rows(self.data, ix, self.nlevels,\n\u001b[0;32m--> 315\u001b[0;31m                                   self.cols, self.writer)\n\u001b[0m",
      "\u001b[0;31mKeyboardInterrupt\u001b[0m: "
     ]
    }
   ],
   "source": [
    "unfiltered_products_file_name = exit_path + 'unfiltered_transactions.csv' \n",
    "df_other_products.to_csv(unfiltered_products_file_name, index = False, sep = ';' )\n",
    "df_other_products.head()"
   ]
  },
  {
   "cell_type": "markdown",
   "metadata": {},
   "source": [
    "# ERROR CONTROL"
   ]
  },
  {
   "cell_type": "code",
   "execution_count": 78,
   "metadata": {},
   "outputs": [
    {
     "name": "stdout",
     "output_type": "stream",
     "text": [
      "ERROR - 'df' has NOT the same size as 'df_with_normalized_descriptions_transactions' \n",
      "ERROR - The original dataset are NOT found\n"
     ]
    }
   ],
   "source": [
    "#print(test0)\n",
    "print(test1)\n",
    "print(test2)"
   ]
  },
  {
   "cell_type": "markdown",
   "metadata": {},
   "source": [
    "FALTARIA LIMPIAR EL DATASET"
   ]
  }
 ],
 "metadata": {
  "kernelspec": {
   "display_name": "kschool-final-project",
   "language": "python",
   "name": "kschool-final-project"
  },
  "language_info": {
   "codemirror_mode": {
    "name": "ipython",
    "version": 2
   },
   "file_extension": ".py",
   "mimetype": "text/x-python",
   "name": "python",
   "nbconvert_exporter": "python",
   "pygments_lexer": "ipython2",
   "version": "2.7.10"
  }
 },
 "nbformat": 4,
 "nbformat_minor": 2
}
