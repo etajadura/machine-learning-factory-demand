{
 "cells": [
  {
   "cell_type": "markdown",
   "metadata": {},
   "source": [
    "# Adding external features to our dataset:"
   ]
  },
  {
   "cell_type": "code",
   "execution_count": 1,
   "metadata": {},
   "outputs": [],
   "source": [
    "import pandas as pd"
   ]
  },
  {
   "cell_type": "code",
   "execution_count": 2,
   "metadata": {},
   "outputs": [],
   "source": [
    "base_path = '../../data/01_additional_data/'\n",
    "matches_file_name = 'MATCHES_2013-2019.xlsx'\n",
    "festivities_file_name = 'festivities_calendar_Madrid_2013-2020.csv'"
   ]
  },
  {
   "cell_type": "markdown",
   "metadata": {},
   "source": [
    "## Matches"
   ]
  },
  {
   "cell_type": "code",
   "execution_count": 3,
   "metadata": {},
   "outputs": [],
   "source": [
    "# Read matches\n",
    "matches = pd.read_excel(base_path+matches_file_name,parse_dates = ['Date'] )\n",
    "matches.head()\n",
    "matches.columns =  [col.lower() for col in matches.columns]"
   ]
  },
  {
   "cell_type": "code",
   "execution_count": 4,
   "metadata": {},
   "outputs": [],
   "source": [
    "df_matches = matches.groupby('date')['matches_madrid'].sum().reset_index()"
   ]
  },
  {
   "cell_type": "code",
   "execution_count": 5,
   "metadata": {},
   "outputs": [],
   "source": [
    "# Filter\n",
    "df_matches = matches[matches['matches_madrid']>0][['date','matches_madrid']]"
   ]
  },
  {
   "cell_type": "code",
   "execution_count": 6,
   "metadata": {},
   "outputs": [
    {
     "data": {
      "text/plain": [
       "(1086, 2)"
      ]
     },
     "execution_count": 6,
     "metadata": {},
     "output_type": "execute_result"
    }
   ],
   "source": [
    "df_matches[df_matches['date']<= '2019-09-30'].shape"
   ]
  },
  {
   "cell_type": "markdown",
   "metadata": {},
   "source": [
    "## Festivities"
   ]
  },
  {
   "cell_type": "code",
   "execution_count": 7,
   "metadata": {},
   "outputs": [],
   "source": [
    "df_public_holidays = pd.read_csv(base_path+festivities_file_name, encoding = \"ISO-8859-1\", sep = ';', parse_dates = ['Dia'])"
   ]
  },
  {
   "cell_type": "code",
   "execution_count": 8,
   "metadata": {},
   "outputs": [],
   "source": [
    "df_public_holidays = df_public_holidays.loc[df_public_holidays['laborable / festivo / domingo festivo']=='festivo','Dia'].to_frame()"
   ]
  },
  {
   "cell_type": "code",
   "execution_count": 9,
   "metadata": {},
   "outputs": [],
   "source": [
    "df_public_holidays['festivo'] = 1"
   ]
  },
  {
   "cell_type": "code",
   "execution_count": 10,
   "metadata": {},
   "outputs": [
    {
     "data": {
      "text/html": [
       "<div>\n",
       "<style scoped>\n",
       "    .dataframe tbody tr th:only-of-type {\n",
       "        vertical-align: middle;\n",
       "    }\n",
       "\n",
       "    .dataframe tbody tr th {\n",
       "        vertical-align: top;\n",
       "    }\n",
       "\n",
       "    .dataframe thead th {\n",
       "        text-align: right;\n",
       "    }\n",
       "</style>\n",
       "<table border=\"1\" class=\"dataframe\">\n",
       "  <thead>\n",
       "    <tr style=\"text-align: right;\">\n",
       "      <th></th>\n",
       "      <th>Dia</th>\n",
       "      <th>festivo</th>\n",
       "    </tr>\n",
       "  </thead>\n",
       "  <tbody>\n",
       "    <tr>\n",
       "      <th>0</th>\n",
       "      <td>2013-01-01</td>\n",
       "      <td>1</td>\n",
       "    </tr>\n",
       "    <tr>\n",
       "      <th>6</th>\n",
       "      <td>2013-07-01</td>\n",
       "      <td>1</td>\n",
       "    </tr>\n",
       "    <tr>\n",
       "      <th>76</th>\n",
       "      <td>2013-03-18</td>\n",
       "      <td>1</td>\n",
       "    </tr>\n",
       "    <tr>\n",
       "      <th>86</th>\n",
       "      <td>2013-03-28</td>\n",
       "      <td>1</td>\n",
       "    </tr>\n",
       "    <tr>\n",
       "      <th>87</th>\n",
       "      <td>2013-03-29</td>\n",
       "      <td>1</td>\n",
       "    </tr>\n",
       "  </tbody>\n",
       "</table>\n",
       "</div>"
      ],
      "text/plain": [
       "          Dia  festivo\n",
       "0  2013-01-01        1\n",
       "6  2013-07-01        1\n",
       "76 2013-03-18        1\n",
       "86 2013-03-28        1\n",
       "87 2013-03-29        1"
      ]
     },
     "execution_count": 10,
     "metadata": {},
     "output_type": "execute_result"
    }
   ],
   "source": [
    "df_public_holidays.head()"
   ]
  },
  {
   "cell_type": "code",
   "execution_count": 11,
   "metadata": {},
   "outputs": [
    {
     "data": {
      "text/plain": [
       "(102, 2)"
      ]
     },
     "execution_count": 11,
     "metadata": {},
     "output_type": "execute_result"
    }
   ],
   "source": [
    "df_public_holidays[df_public_holidays['Dia']<= '2019-09-30'].shape"
   ]
  },
  {
   "cell_type": "markdown",
   "metadata": {},
   "source": [
    "## Adding it to the transactions dataframe"
   ]
  },
  {
   "cell_type": "code",
   "execution_count": 12,
   "metadata": {},
   "outputs": [],
   "source": [
    "# Reading the file\n",
    "input_path = \"../../data/03_processed/\" + \"filtered_transactions_clean\"\n",
    "filtered_file_name=\"c1-filtered_transactions.csv\"\n",
    "sep=\";\"\n",
    "df = pd.read_csv(input_path, sep=sep, parse_dates = ['order_date'])"
   ]
  },
  {
   "cell_type": "code",
   "execution_count": 13,
   "metadata": {},
   "outputs": [
    {
     "data": {
      "text/plain": [
       "(42910, 3)"
      ]
     },
     "execution_count": 13,
     "metadata": {},
     "output_type": "execute_result"
    }
   ],
   "source": [
    "# Grouping by product and date:\n",
    "df = df.groupby(['order_date','product'])['units_ordered'].sum().reset_index()\n",
    "df.shape"
   ]
  },
  {
   "cell_type": "markdown",
   "metadata": {},
   "source": [
    "### Adding Public holidays"
   ]
  },
  {
   "cell_type": "code",
   "execution_count": 14,
   "metadata": {},
   "outputs": [],
   "source": [
    "df_holidays = pd.merge(df, df_public_holidays, how = 'left', left_on='order_date', right_on='Dia')"
   ]
  },
  {
   "cell_type": "code",
   "execution_count": 15,
   "metadata": {},
   "outputs": [
    {
     "data": {
      "text/plain": [
       "(102,)"
      ]
     },
     "execution_count": 15,
     "metadata": {},
     "output_type": "execute_result"
    }
   ],
   "source": [
    "df_holidays[df_holidays['festivo']==1]['order_date'].unique().shape"
   ]
  },
  {
   "cell_type": "code",
   "execution_count": 16,
   "metadata": {},
   "outputs": [
    {
     "data": {
      "text/html": [
       "<div>\n",
       "<style scoped>\n",
       "    .dataframe tbody tr th:only-of-type {\n",
       "        vertical-align: middle;\n",
       "    }\n",
       "\n",
       "    .dataframe tbody tr th {\n",
       "        vertical-align: top;\n",
       "    }\n",
       "\n",
       "    .dataframe thead th {\n",
       "        text-align: right;\n",
       "    }\n",
       "</style>\n",
       "<table border=\"1\" class=\"dataframe\">\n",
       "  <thead>\n",
       "    <tr style=\"text-align: right;\">\n",
       "      <th></th>\n",
       "      <th>order_date</th>\n",
       "      <th>product</th>\n",
       "      <th>units_ordered</th>\n",
       "      <th>Dia</th>\n",
       "      <th>festivo</th>\n",
       "    </tr>\n",
       "  </thead>\n",
       "  <tbody>\n",
       "    <tr>\n",
       "      <th>0</th>\n",
       "      <td>2008-01-01</td>\n",
       "      <td>baguette</td>\n",
       "      <td>86.0</td>\n",
       "      <td>NaT</td>\n",
       "      <td>NaN</td>\n",
       "    </tr>\n",
       "    <tr>\n",
       "      <th>1</th>\n",
       "      <td>2008-01-01</td>\n",
       "      <td>croissant petit</td>\n",
       "      <td>178.0</td>\n",
       "      <td>NaT</td>\n",
       "      <td>NaN</td>\n",
       "    </tr>\n",
       "    <tr>\n",
       "      <th>2</th>\n",
       "      <td>2008-01-01</td>\n",
       "      <td>croissant simple</td>\n",
       "      <td>137.0</td>\n",
       "      <td>NaT</td>\n",
       "      <td>NaN</td>\n",
       "    </tr>\n",
       "    <tr>\n",
       "      <th>3</th>\n",
       "      <td>2008-01-01</td>\n",
       "      <td>milhojas frambuesa</td>\n",
       "      <td>12.0</td>\n",
       "      <td>NaT</td>\n",
       "      <td>NaN</td>\n",
       "    </tr>\n",
       "    <tr>\n",
       "      <th>4</th>\n",
       "      <td>2008-01-01</td>\n",
       "      <td>mousse tres chocolates</td>\n",
       "      <td>2.0</td>\n",
       "      <td>NaT</td>\n",
       "      <td>NaN</td>\n",
       "    </tr>\n",
       "  </tbody>\n",
       "</table>\n",
       "</div>"
      ],
      "text/plain": [
       "  order_date                 product  units_ordered Dia  festivo\n",
       "0 2008-01-01                baguette           86.0 NaT      NaN\n",
       "1 2008-01-01         croissant petit          178.0 NaT      NaN\n",
       "2 2008-01-01        croissant simple          137.0 NaT      NaN\n",
       "3 2008-01-01      milhojas frambuesa           12.0 NaT      NaN\n",
       "4 2008-01-01  mousse tres chocolates            2.0 NaT      NaN"
      ]
     },
     "execution_count": 16,
     "metadata": {},
     "output_type": "execute_result"
    }
   ],
   "source": [
    "df_holidays.head()"
   ]
  },
  {
   "cell_type": "code",
   "execution_count": 17,
   "metadata": {},
   "outputs": [
    {
     "data": {
      "text/plain": [
       "(42910, 5)"
      ]
     },
     "execution_count": 17,
     "metadata": {},
     "output_type": "execute_result"
    }
   ],
   "source": [
    "df_holidays.shape"
   ]
  },
  {
   "cell_type": "markdown",
   "metadata": {},
   "source": [
    "### Adding matches"
   ]
  },
  {
   "cell_type": "code",
   "execution_count": 18,
   "metadata": {},
   "outputs": [],
   "source": [
    "df_holidays_matches = pd.merge(df_holidays, df_matches, how = 'left', left_on='order_date', right_on='date')"
   ]
  },
  {
   "cell_type": "code",
   "execution_count": 19,
   "metadata": {},
   "outputs": [
    {
     "data": {
      "text/html": [
       "<div>\n",
       "<style scoped>\n",
       "    .dataframe tbody tr th:only-of-type {\n",
       "        vertical-align: middle;\n",
       "    }\n",
       "\n",
       "    .dataframe tbody tr th {\n",
       "        vertical-align: top;\n",
       "    }\n",
       "\n",
       "    .dataframe thead th {\n",
       "        text-align: right;\n",
       "    }\n",
       "</style>\n",
       "<table border=\"1\" class=\"dataframe\">\n",
       "  <thead>\n",
       "    <tr style=\"text-align: right;\">\n",
       "      <th></th>\n",
       "      <th>order_date</th>\n",
       "      <th>product</th>\n",
       "      <th>units_ordered</th>\n",
       "      <th>Dia</th>\n",
       "      <th>festivo</th>\n",
       "      <th>date</th>\n",
       "      <th>matches_madrid</th>\n",
       "    </tr>\n",
       "  </thead>\n",
       "  <tbody>\n",
       "    <tr>\n",
       "      <th>0</th>\n",
       "      <td>2008-01-01</td>\n",
       "      <td>baguette</td>\n",
       "      <td>86.0</td>\n",
       "      <td>NaT</td>\n",
       "      <td>NaN</td>\n",
       "      <td>NaT</td>\n",
       "      <td>NaN</td>\n",
       "    </tr>\n",
       "    <tr>\n",
       "      <th>1</th>\n",
       "      <td>2008-01-01</td>\n",
       "      <td>croissant petit</td>\n",
       "      <td>178.0</td>\n",
       "      <td>NaT</td>\n",
       "      <td>NaN</td>\n",
       "      <td>NaT</td>\n",
       "      <td>NaN</td>\n",
       "    </tr>\n",
       "    <tr>\n",
       "      <th>2</th>\n",
       "      <td>2008-01-01</td>\n",
       "      <td>croissant simple</td>\n",
       "      <td>137.0</td>\n",
       "      <td>NaT</td>\n",
       "      <td>NaN</td>\n",
       "      <td>NaT</td>\n",
       "      <td>NaN</td>\n",
       "    </tr>\n",
       "    <tr>\n",
       "      <th>3</th>\n",
       "      <td>2008-01-01</td>\n",
       "      <td>milhojas frambuesa</td>\n",
       "      <td>12.0</td>\n",
       "      <td>NaT</td>\n",
       "      <td>NaN</td>\n",
       "      <td>NaT</td>\n",
       "      <td>NaN</td>\n",
       "    </tr>\n",
       "    <tr>\n",
       "      <th>4</th>\n",
       "      <td>2008-01-01</td>\n",
       "      <td>mousse tres chocolates</td>\n",
       "      <td>2.0</td>\n",
       "      <td>NaT</td>\n",
       "      <td>NaN</td>\n",
       "      <td>NaT</td>\n",
       "      <td>NaN</td>\n",
       "    </tr>\n",
       "  </tbody>\n",
       "</table>\n",
       "</div>"
      ],
      "text/plain": [
       "  order_date                 product  units_ordered Dia  festivo date  \\\n",
       "0 2008-01-01                baguette           86.0 NaT      NaN  NaT   \n",
       "1 2008-01-01         croissant petit          178.0 NaT      NaN  NaT   \n",
       "2 2008-01-01        croissant simple          137.0 NaT      NaN  NaT   \n",
       "3 2008-01-01      milhojas frambuesa           12.0 NaT      NaN  NaT   \n",
       "4 2008-01-01  mousse tres chocolates            2.0 NaT      NaN  NaT   \n",
       "\n",
       "   matches_madrid  \n",
       "0             NaN  \n",
       "1             NaN  \n",
       "2             NaN  \n",
       "3             NaN  \n",
       "4             NaN  "
      ]
     },
     "execution_count": 19,
     "metadata": {},
     "output_type": "execute_result"
    }
   ],
   "source": [
    "df_holidays_matches.head()"
   ]
  },
  {
   "cell_type": "code",
   "execution_count": 20,
   "metadata": {},
   "outputs": [
    {
     "data": {
      "text/plain": [
       "(612,)"
      ]
     },
     "execution_count": 20,
     "metadata": {},
     "output_type": "execute_result"
    }
   ],
   "source": [
    "df_holidays_matches[df_holidays_matches['matches_madrid']==1]['order_date'].unique().shape"
   ]
  },
  {
   "cell_type": "code",
   "execution_count": null,
   "metadata": {},
   "outputs": [],
   "source": []
  },
  {
   "cell_type": "code",
   "execution_count": 21,
   "metadata": {},
   "outputs": [],
   "source": [
    "df_holidays_matches = df_holidays_matches[['order_date', 'product', 'units_ordered', 'festivo','matches_madrid']]"
   ]
  },
  {
   "cell_type": "code",
   "execution_count": 26,
   "metadata": {},
   "outputs": [],
   "source": [
    "from datetime import datetime as dtt\n",
    "\n",
    "df_holidays_matches['weekday_let']=df_holidays_matches['order_date'].apply(lambda x: dtt.weekday(x))\n",
    "df_holidays_matches['weekday_num']=df_holidays_matches['order_date'].apply(lambda x: x.strftime('%a'))"
   ]
  },
  {
   "cell_type": "code",
   "execution_count": 27,
   "metadata": {},
   "outputs": [],
   "source": [
    "df_holidays_matches.fillna(0, inplace = True)"
   ]
  },
  {
   "cell_type": "code",
   "execution_count": 28,
   "metadata": {},
   "outputs": [
    {
     "data": {
      "text/html": [
       "<div>\n",
       "<style scoped>\n",
       "    .dataframe tbody tr th:only-of-type {\n",
       "        vertical-align: middle;\n",
       "    }\n",
       "\n",
       "    .dataframe tbody tr th {\n",
       "        vertical-align: top;\n",
       "    }\n",
       "\n",
       "    .dataframe thead th {\n",
       "        text-align: right;\n",
       "    }\n",
       "</style>\n",
       "<table border=\"1\" class=\"dataframe\">\n",
       "  <thead>\n",
       "    <tr style=\"text-align: right;\">\n",
       "      <th></th>\n",
       "      <th>order_date</th>\n",
       "      <th>product</th>\n",
       "      <th>units_ordered</th>\n",
       "      <th>festivo</th>\n",
       "      <th>matches_madrid</th>\n",
       "      <th>weekday_let</th>\n",
       "      <th>weekday_num</th>\n",
       "    </tr>\n",
       "  </thead>\n",
       "  <tbody>\n",
       "    <tr>\n",
       "      <th>0</th>\n",
       "      <td>2008-01-01</td>\n",
       "      <td>baguette</td>\n",
       "      <td>86.0</td>\n",
       "      <td>0.0</td>\n",
       "      <td>0.0</td>\n",
       "      <td>1</td>\n",
       "      <td>Tue</td>\n",
       "    </tr>\n",
       "    <tr>\n",
       "      <th>1</th>\n",
       "      <td>2008-01-01</td>\n",
       "      <td>croissant petit</td>\n",
       "      <td>178.0</td>\n",
       "      <td>0.0</td>\n",
       "      <td>0.0</td>\n",
       "      <td>1</td>\n",
       "      <td>Tue</td>\n",
       "    </tr>\n",
       "    <tr>\n",
       "      <th>2</th>\n",
       "      <td>2008-01-01</td>\n",
       "      <td>croissant simple</td>\n",
       "      <td>137.0</td>\n",
       "      <td>0.0</td>\n",
       "      <td>0.0</td>\n",
       "      <td>1</td>\n",
       "      <td>Tue</td>\n",
       "    </tr>\n",
       "    <tr>\n",
       "      <th>3</th>\n",
       "      <td>2008-01-01</td>\n",
       "      <td>milhojas frambuesa</td>\n",
       "      <td>12.0</td>\n",
       "      <td>0.0</td>\n",
       "      <td>0.0</td>\n",
       "      <td>1</td>\n",
       "      <td>Tue</td>\n",
       "    </tr>\n",
       "    <tr>\n",
       "      <th>4</th>\n",
       "      <td>2008-01-01</td>\n",
       "      <td>mousse tres chocolates</td>\n",
       "      <td>2.0</td>\n",
       "      <td>0.0</td>\n",
       "      <td>0.0</td>\n",
       "      <td>1</td>\n",
       "      <td>Tue</td>\n",
       "    </tr>\n",
       "  </tbody>\n",
       "</table>\n",
       "</div>"
      ],
      "text/plain": [
       "  order_date                 product  units_ordered  festivo  matches_madrid  \\\n",
       "0 2008-01-01                baguette           86.0      0.0             0.0   \n",
       "1 2008-01-01         croissant petit          178.0      0.0             0.0   \n",
       "2 2008-01-01        croissant simple          137.0      0.0             0.0   \n",
       "3 2008-01-01      milhojas frambuesa           12.0      0.0             0.0   \n",
       "4 2008-01-01  mousse tres chocolates            2.0      0.0             0.0   \n",
       "\n",
       "   weekday_let weekday_num  \n",
       "0            1         Tue  \n",
       "1            1         Tue  \n",
       "2            1         Tue  \n",
       "3            1         Tue  \n",
       "4            1         Tue  "
      ]
     },
     "execution_count": 28,
     "metadata": {},
     "output_type": "execute_result"
    }
   ],
   "source": [
    "df_holidays_matches.head()"
   ]
  },
  {
   "cell_type": "code",
   "execution_count": 30,
   "metadata": {},
   "outputs": [
    {
     "name": "stdout",
     "output_type": "stream",
     "text": [
      "107.0\n",
      "1086.0\n"
     ]
    }
   ],
   "source": [
    "print(df_holidays_matches[df_holidays_matches['festivo']==1]['festivo'].count()/10)\n",
    "print(df_holidays_matches[df_holidays_matches['matches_madrid']==1]['matches_madrid'].count()/10)"
   ]
  },
  {
   "cell_type": "code",
   "execution_count": 24,
   "metadata": {},
   "outputs": [],
   "source": [
    "exit_path = \"../../data/03_processed/\" + \"time_series.csv\"\n",
    "df_holidays_matches.to_csv(exit_path)"
   ]
  },
  {
   "cell_type": "markdown",
   "metadata": {},
   "source": [
    "## NOTAS:\n",
    "\n",
    "FALTAN POR INTRODUCIR LOS DATOS METEOROLÓGICOS\n",
    "\n",
    "PODRÍAN INTRODUCIRSE TAMBIÉN LOS PARTIDOS DE CHAMPIONS (PROBABLEMENTE EXPLICARÁN MUCHAS ALTERACIONES ENTRE SEMANA)\n",
    "\n",
    "TANTO EL CALENDARIO DE FESTIVOS COMO EL DE PARTIDOS DEL MADRID COMIENZAN EN 2013. SIN EMBARGO, NUESTRAS SERIES COMIENZAN EN 2008. TENEMOS POR LO TANTO, DOS OPCIONES:\n",
    "\n",
    "* O BIEN TOMAMOS LAS SERIES DESDE 2008 PARA HACER MODELOS DE SERIES TEMPORALES, Y MODELOS A PARTIR DE 2013 PARA MODELOS DE MACHINE LEARNING\n",
    "\n",
    "* O BIEN TENEMOS QUE OBTENER LOS DATOS QUE FALTAN\n",
    "\n",
    "EL CALENDARIO QUE METÍ INCLUÍA COMO 1s LOS PARTIDOS DE EQUIPOS COMO RAYO, GETAFE Y LEGANÉS: A COMPROBAR SI TIENEN INFLUENCIA (PROBABLEMENTE SEA ESCASA). PUEDE AÑADIRSE UNA COLUMNA ALTERNATIVA CON SOLAMENTE \"1\" EN LOS PARTIDOS DEL MADRID Y EL ATLÉTICO DE MADRID. ASIMISMO, HAY QUE ANALIZAR SI CUENTAN TODOS LOS PARTIDOS, O SÓLO AQUÉLLOS EN LOS QUE JUEGAN EN CASA\n",
    "    \n",
    "PROBLEMA CON EL NÚMERO DE PARTIDOS: 1086 EN 6 AÑOS, SON DEMASIADOS\n",
    "    \n",
    "EXISTÍA UN PROBLEMA SIMILAR CON EL NÚMERO DE FESTIVOS, PERO YA ESTÁ SOLUCIONADO. AÚN ASÍ, NO COINCIDEN CON LOS QUED HAY EN EL PERIODO 2013-2019 DEL ARCHIVO DE ENTRADA. TENEMOS TAMBIÉN QUE REVISARLOS\n",
    "\n"
   ]
  }
 ],
 "metadata": {
  "kernelspec": {
   "display_name": "Python 3",
   "language": "python",
   "name": "python3"
  },
  "language_info": {
   "codemirror_mode": {
    "name": "ipython",
    "version": 3
   },
   "file_extension": ".py",
   "mimetype": "text/x-python",
   "name": "python",
   "nbconvert_exporter": "python",
   "pygments_lexer": "ipython3",
   "version": "3.7.3"
  }
 },
 "nbformat": 4,
 "nbformat_minor": 2
}
